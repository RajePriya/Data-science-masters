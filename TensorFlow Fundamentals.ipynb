{
 "cells": [
  {
   "cell_type": "markdown",
   "id": "7113d3f6",
   "metadata": {},
   "source": [
    "Objective: The objective of this assignment is to gain practical experience with fundamental operations\n",
    "in TensorFlow, including creating and manipulating matrices, performing arithmetic operations on\n",
    "tensors, and understanding the difference between TensorFlow constants and variables.\n",
    "Part 1: Theoretical Questions\n",
    "1. What are the different data structures used in Tensorflow?. Give some examples.\n",
    "2. How does the TensorFlow constant differ from a TensorFlow variable? Explain with an examplec\n",
    "3. Describe the process of matrix addition, multiplication, and elementDwise operations in TensorFlow."
   ]
  },
  {
   "cell_type": "markdown",
   "id": "72fb7cb9",
   "metadata": {},
   "source": [
    "Part 1: Theoretical Questions\n",
    "\n",
    "1. Different data structures used in TensorFlow and examples:\n",
    "TensorFlow uses two primary data structures for representing and manipulating data:\n",
    "a. Tensors: Tensors are the fundamental data structures in TensorFlow. They are multi-dimensional arrays and can be of various shapes and data types. Tensors can represent scalars, vectors, matrices, and higher-dimensional arrays.\n",
    "Examples:\n",
    "\n",
    "- Scalar: tf.constant(5) # A scalar with value 5\n",
    "- Vector: tf.constant([1, 2, 3]) # A 1D tensor (vector) with values [1, 2, 3]\n",
    "- Matrix: tf.constant([[1, 2], [3, 4]]) # A 2D tensor (matrix) with values [[1, 2], [3, 4]]\n",
    "\n",
    "b. Variables: Variables are special tensors that can hold trainable parameters in a TensorFlow model. Unlike constants, variables can be modified and updated during model training. They are typically used to represent model weights and biases."
   ]
  },
  {
   "cell_type": "code",
   "execution_count": null,
   "id": "aee26efe",
   "metadata": {},
   "outputs": [],
   "source": [
    "initial_value = tf.random.normal(shape=(3, 2))  # Creating a random initial value\n",
    "weights = tf.Variable(initial_value)  # Creating a variable to hold model weights"
   ]
  },
  {
   "cell_type": "markdown",
   "id": "b9ad9120",
   "metadata": {},
   "source": [
    "2. Difference between TensorFlow constant and TensorFlow variable:\n",
    "\n",
    "- TensorFlow Constant: A TensorFlow constant is an immutable tensor whose value cannot be changed once it is initialized. Constants are typically used to hold fixed data like input features or model hyperparameters. They are created using the tf.constant() function."
   ]
  },
  {
   "cell_type": "code",
   "execution_count": 2,
   "id": "136fdc86",
   "metadata": {},
   "outputs": [],
   "source": [
    "import tensorflow as tf\n",
    "\n",
    "# Creating a TensorFlow constant\n",
    "x = tf.constant([1, 2, 3])"
   ]
  },
  {
   "cell_type": "markdown",
   "id": "a500723a",
   "metadata": {},
   "source": [
    "- TensorFlow Variable: A TensorFlow variable is a mutable tensor whose value can be changed during model training. Variables are used to hold trainable parameters like model weights and biases. They are created using the tf.Variable() function."
   ]
  },
  {
   "cell_type": "code",
   "execution_count": 3,
   "id": "1d48662f",
   "metadata": {},
   "outputs": [],
   "source": [
    "import tensorflow as tf\n",
    "\n",
    "# Creating a TensorFlow variable\n",
    "initial_value = tf.random.normal(shape=(3, 2))  # Creating a random initial value\n",
    "weights = tf.Variable(initial_value)  # Creating a variable to hold model weights"
   ]
  },
  {
   "cell_type": "markdown",
   "id": "5d43b536",
   "metadata": {},
   "source": [
    "In summary, constants are used for fixed data, and their values cannot be changed. Variables, on the other hand, are used to hold trainable parameters and are updated during model training.\n",
    "\n",
    "3. Process of matrix addition, multiplication, and element-wise operations in TensorFlow:\n",
    "\n",
    "Matrix Addition:\n",
    "To add two matrices in TensorFlow, you can use the tf.add() function or the + operator. The two matrices must have the same shape (number of rows and columns) for addition to be valid."
   ]
  },
  {
   "cell_type": "code",
   "execution_count": 4,
   "id": "ba80e383",
   "metadata": {},
   "outputs": [
    {
     "name": "stdout",
     "output_type": "stream",
     "text": [
      "tf.Tensor(\n",
      "[[ 6  8]\n",
      " [10 12]], shape=(2, 2), dtype=int32)\n"
     ]
    }
   ],
   "source": [
    "import tensorflow as tf\n",
    "\n",
    "# Creating two matrices\n",
    "A = tf.constant([[1, 2], [3, 4]])\n",
    "B = tf.constant([[5, 6], [7, 8]])\n",
    "\n",
    "# Matrix addition\n",
    "C = tf.add(A, B)\n",
    "# Alternatively: C = A + B\n",
    "\n",
    "print(C)"
   ]
  },
  {
   "cell_type": "markdown",
   "id": "506664d9",
   "metadata": {},
   "source": [
    "Matrix Multiplication:\n",
    "To multiply two matrices in TensorFlow, you can use the tf.matmul() function or the @ operator. The inner dimensions of the matrices must match for multiplication to be valid (i.e., the number of columns in the first matrix must be equal to the number of rows in the second matrix)."
   ]
  },
  {
   "cell_type": "code",
   "execution_count": 5,
   "id": "39e6c76b",
   "metadata": {},
   "outputs": [
    {
     "name": "stdout",
     "output_type": "stream",
     "text": [
      "tf.Tensor(\n",
      "[[19 22]\n",
      " [43 50]], shape=(2, 2), dtype=int32)\n"
     ]
    }
   ],
   "source": [
    "import tensorflow as tf\n",
    "\n",
    "# Creating two matrices\n",
    "A = tf.constant([[1, 2], [3, 4]])\n",
    "B = tf.constant([[5, 6], [7, 8]])\n",
    "\n",
    "# Matrix multiplication\n",
    "C = tf.matmul(A, B)\n",
    "# Alternatively: C = A @ B\n",
    "\n",
    "print(C)"
   ]
  },
  {
   "cell_type": "markdown",
   "id": "30b348cf",
   "metadata": {},
   "source": [
    "Element-wise Operations:\n",
    "Element-wise operations are applied to corresponding elements of two tensors, and the two tensors must have the same shape. Common element-wise operations include addition, subtraction, multiplication, and division."
   ]
  },
  {
   "cell_type": "code",
   "execution_count": 6,
   "id": "cb0afde3",
   "metadata": {},
   "outputs": [
    {
     "name": "stdout",
     "output_type": "stream",
     "text": [
      "tf.Tensor([5 7 9], shape=(3,), dtype=int32)\n",
      "tf.Tensor([ 4 10 18], shape=(3,), dtype=int32)\n"
     ]
    }
   ],
   "source": [
    "import tensorflow as tf\n",
    "\n",
    "# Creating two tensors\n",
    "A = tf.constant([1, 2, 3])\n",
    "B = tf.constant([4, 5, 6])\n",
    "\n",
    "# Element-wise addition\n",
    "C = tf.add(A, B)\n",
    "# Alternatively: C = A + B\n",
    "\n",
    "# Element-wise multiplication\n",
    "D = tf.multiply(A, B)\n",
    "# Alternatively: D = A * B\n",
    "\n",
    "print(C)  # Output: [5 7 9]\n",
    "print(D)  # Output: [ 4 10 18]"
   ]
  },
  {
   "cell_type": "markdown",
   "id": "8d995db1",
   "metadata": {},
   "source": [
    "Part2 : Practical Implementation\n",
    "##### Talk 1: Creating and Manipulating Matrices\n",
    "1. Create a normal matrix A with dimensions 2x2, using TensorFlow's random_normal function. Display the\n",
    "values of matrix A.\n",
    "2. Create a Gaussian matrix B with dimensions x, using TensorFlow's truncated_normal function. Display\n",
    "the values of matrix B.\n",
    "3. Create a matrix C with dimensions 2x2, where the values are drawn from a normal distribution with a\n",
    "mean of 2 and a standard deviation of 0.x, using TensorFlow's random.normal function. Display the values\n",
    "of matrix C.\n",
    "4. Perform matrix addition between matrix A and matrix B, and store the result in matrix Dc\n",
    "w. Perform matrix multiplication between matrix C and matrix D, and store the result in matrix E."
   ]
  },
  {
   "cell_type": "code",
   "execution_count": 9,
   "id": "486b830b",
   "metadata": {},
   "outputs": [
    {
     "name": "stdout",
     "output_type": "stream",
     "text": [
      "Matrix A:\n",
      "[[ 0.00895057 -0.4438249 ]\n",
      " [-0.3456169   1.182607  ]]\n",
      "\n",
      "Matrix B:\n",
      "[[ 0.17338254 -0.25919348]\n",
      " [ 1.2427725  -1.0744277 ]]\n",
      "\n",
      "Matrix C:\n",
      "[[2.0372036 1.7443429]\n",
      " [2.984256  1.8879142]]\n",
      "\n",
      "Matrix D (Result of A + B):\n",
      "[[ 0.18233311 -0.70301837]\n",
      " [ 0.8971555   0.10817933]]\n",
      "\n",
      "Matrix E (Result of C * D):\n",
      "[[ 1.9363966 -1.2434896]\n",
      " [ 2.2378814 -1.8937534]]\n",
      "\n"
     ]
    }
   ],
   "source": [
    "import tensorflow as tf\n",
    "\n",
    "# Task 1: Create a normal matrix A with dimensions 2x2\n",
    "A = tf.random.normal(shape=(2, 2))\n",
    "\n",
    "# Task 2: Create a Gaussian matrix B with dimensions 2x2\n",
    "B = tf.random.truncated_normal(shape=(2, 2))\n",
    "\n",
    "# Task 3: Create a matrix C with dimensions 2x2, drawn from a normal distribution with mean 2 and std deviation 0.5\n",
    "mean = 2.0\n",
    "stddev = 0.5\n",
    "C = tf.random.normal(shape=(2, 2), mean=mean, stddev=stddev)\n",
    "\n",
    "# Task 4: Perform matrix addition between A and B, store the result in matrix D\n",
    "D = tf.add(A, B)\n",
    "\n",
    "# Task 5: Perform matrix multiplication between C and D, store the result in matrix E\n",
    "E = tf.matmul(C, D)\n",
    "\n",
    "# Display the values of matrices A, B, C, D, and E\n",
    "print(\"Matrix A:\")\n",
    "print(A.numpy())\n",
    "print()\n",
    "\n",
    "print(\"Matrix B:\")\n",
    "print(B.numpy())\n",
    "print()\n",
    "\n",
    "print(\"Matrix C:\")\n",
    "print(C.numpy())\n",
    "print()\n",
    "\n",
    "print(\"Matrix D (Result of A + B):\")\n",
    "print(D.numpy())\n",
    "print()\n",
    "\n",
    "print(\"Matrix E (Result of C * D):\")\n",
    "print(E.numpy())\n",
    "print()"
   ]
  },
  {
   "cell_type": "markdown",
   "id": "f6d42582",
   "metadata": {},
   "source": [
    "This code will create and display the values of matrices A, B, C, D, and E as per the given tasks. The tf.random.normal function is used to generate random normal distributions, and tf.truncated_normal is used to create a Gaussian matrix with truncated values. The matrix addition and multiplication are performed using tf.add and tf.matmul functions, respectively."
   ]
  },
  {
   "cell_type": "markdown",
   "id": "43855167",
   "metadata": {},
   "source": [
    "Task2 : Peforming Additional Matrix Operations\n",
    "Tc Create a matrix F with dimensions 2x2, initialized with random values using TensorFlow's random_uniform\n",
    "function.\n",
    "1.  Calculate the transpose of matrix F and store the result in matrix G.\n",
    "2. Calculate the elementDwise exponential of matrix F and store the result in matrix H.\n",
    "3. Create a matrix I by concatenating matrix F and matrix G horizontally.\n",
    "4. Create a matrix J by concatenating matrix F and matrix H vertically."
   ]
  },
  {
   "cell_type": "code",
   "execution_count": 10,
   "id": "18783e75",
   "metadata": {},
   "outputs": [
    {
     "name": "stdout",
     "output_type": "stream",
     "text": [
      "Matrix F:\n",
      "[[0.7684164  0.34568357]\n",
      " [0.25993228 0.47682774]]\n",
      "\n",
      "Matrix G (Transpose of F):\n",
      "[[0.7684164  0.25993228]\n",
      " [0.34568357 0.47682774]]\n",
      "\n",
      "Matrix H (Element-wise Exponential of F):\n",
      "[[2.1563487 1.4129554]\n",
      " [1.2968422 1.610956 ]]\n",
      "\n",
      "Matrix I (Concatenation of F and G horizontally):\n",
      "[[0.7684164  0.34568357 0.7684164  0.25993228]\n",
      " [0.25993228 0.47682774 0.34568357 0.47682774]]\n",
      "\n",
      "Matrix J (Concatenation of F and H vertically):\n",
      "[[0.7684164  0.34568357]\n",
      " [0.25993228 0.47682774]\n",
      " [2.1563487  1.4129554 ]\n",
      " [1.2968422  1.610956  ]]\n",
      "\n"
     ]
    }
   ],
   "source": [
    "import tensorflow as tf\n",
    "\n",
    "# Task 1: Create a matrix F with dimensions 2x2, initialized with random values using random_uniform\n",
    "F = tf.random.uniform(shape=(2, 2))\n",
    "\n",
    "# Task 2: Calculate the transpose of matrix F and store the result in matrix G\n",
    "G = tf.transpose(F)\n",
    "\n",
    "# Task 3: Calculate the element-wise exponential of matrix F and store the result in matrix H\n",
    "H = tf.exp(F)\n",
    "\n",
    "# Task 4: Create a matrix I by concatenating matrix F and matrix G horizontally\n",
    "I = tf.concat([F, G], axis=1)\n",
    "\n",
    "# Task 5: Create a matrix J by concatenating matrix F and matrix H vertically\n",
    "J = tf.concat([F, H], axis=0)\n",
    "\n",
    "# Display the values of matrices F, G, H, I, and J\n",
    "print(\"Matrix F:\")\n",
    "print(F.numpy())\n",
    "print()\n",
    "\n",
    "print(\"Matrix G (Transpose of F):\")\n",
    "print(G.numpy())\n",
    "print()\n",
    "\n",
    "print(\"Matrix H (Element-wise Exponential of F):\")\n",
    "print(H.numpy())\n",
    "print()\n",
    "\n",
    "print(\"Matrix I (Concatenation of F and G horizontally):\")\n",
    "print(I.numpy())\n",
    "print()\n",
    "\n",
    "print(\"Matrix J (Concatenation of F and H vertically):\")\n",
    "print(J.numpy())\n",
    "print()"
   ]
  },
  {
   "cell_type": "markdown",
   "id": "c3cafb05",
   "metadata": {},
   "source": [
    "This code will create matrices F, G, H, I, and J based on the given tasks and display their values. The tf.transpose() function is used to calculate the transpose of matrix F, and the tf.exp() function is used to calculate the element-wise exponential of matrix F. The tf.concat() function is used to concatenate matrices F and G horizontally and matrices F and H vertically"
   ]
  },
  {
   "cell_type": "code",
   "execution_count": null,
   "id": "9973542f",
   "metadata": {},
   "outputs": [],
   "source": []
  },
  {
   "cell_type": "code",
   "execution_count": null,
   "id": "b8bffe42",
   "metadata": {},
   "outputs": [],
   "source": []
  }
 ],
 "metadata": {
  "kernelspec": {
   "display_name": "Python 3 (ipykernel)",
   "language": "python",
   "name": "python3"
  },
  "language_info": {
   "codemirror_mode": {
    "name": "ipython",
    "version": 3
   },
   "file_extension": ".py",
   "mimetype": "text/x-python",
   "name": "python",
   "nbconvert_exporter": "python",
   "pygments_lexer": "ipython3",
   "version": "3.9.13"
  }
 },
 "nbformat": 4,
 "nbformat_minor": 5
}
