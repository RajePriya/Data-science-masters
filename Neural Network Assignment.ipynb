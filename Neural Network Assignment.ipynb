{
 "cells": [
  {
   "cell_type": "code",
   "execution_count": null,
   "id": "2d6ca813",
   "metadata": {},
   "outputs": [],
   "source": [
    "Create and deploy a ML project by importing load_breast_cancer dataset from sklearn.load_dataset and\n",
    "apply the following:\n",
    "\n",
    "1. Create a folder in which you want to create the project, after that use the git init and the necessary\n",
    "commands to create the specific Git repository.\n",
    "2. Create a separate environment so that you do not mess up with your base environment.\n",
    "3. Create the folder structure/directories and files using the python programme required for a ML project.\n",
    "You can refer the following project structure:\n",
    "\n",
    ". src\n",
    "  . __init__py\n",
    "  . logger.py\n",
    "  . exception.py\n",
    "  . utils.py\n",
    "  . components\n",
    "    . __init__py\n",
    "    . data_ingestion.py\n",
    "    . data_transformation.py\n",
    "    . model_trainer.py\n",
    "  . pipline\n",
    "    . __init__py\n",
    "    . predict_pipline.py\n",
    "    . train_pipline.py\n",
    "  . import_data.py\n",
    "  . setup.py\n",
    "  . notebook\n",
    "  . requirements.txt\n",
    " \n",
    "After this update the created folders and files to your git repository by pushing from your end and add\n",
    "following files from github and pull it to your source code:\n",
    ". README.md\n",
    ". LICENSE\n",
    ". gitignore\n",
    "\n",
    "4. write the program for setupIpy and the relevant dependencies in requirements.txt and generate\n",
    "egg.info folder.\n",
    "5. write the logging function in logger.py and exception function in exception.py file to be used for the\n",
    "project to track the progress when the ML project is run and to raise any exception when encountered.\n"
   ]
  },
  {
   "cell_type": "code",
   "execution_count": 17,
   "id": "a4e22fc5",
   "metadata": {},
   "outputs": [],
   "source": [
    "# src/logger.py\n",
    "\n",
    "import logging\n",
    "\n",
    "def setup_logger(log_file):\n",
    "    logger = logging.getLogger('ML_Project_Logger')\n",
    "    logger.setLevel(logging.DEBUG)\n",
    "\n",
    "    formatter = logging.Formatter(\"%(asctime)s [%(levelname)s]: %(message)s\", \"%Y-%m-%d %H:%M:%S\")\n",
    "\n",
    "    file_handler = logging.FileHandler(log_file)\n",
    "    file_handler.setFormatter(formatter)\n",
    "    logger.addHandler(file_handler)\n",
    "\n",
    "    console_handler = logging.StreamHandler()\n",
    "    console_handler.setFormatter(formatter)\n",
    "    logger.addHandler(console_handler)\n",
    "\n",
    "    return logger\n",
    "\n",
    "# Example usage:\n",
    "# logger = setup_logger('ML_Project.log')\n",
    "# logger.info(\"This is an info message.\")\n",
    "# logger.error(\"This is an error message.\")\n"
   ]
  },
  {
   "cell_type": "code",
   "execution_count": 18,
   "id": "b8b39de7",
   "metadata": {},
   "outputs": [],
   "source": [
    "# src/exception.py\n",
    "\n",
    "class MLProjectException(Exception):\n",
    "    pass\n",
    "\n",
    "# Example usage:\n",
    "# raise MLProjectException(\"Something went wrong.\")"
   ]
  },
  {
   "cell_type": "code",
   "execution_count": null,
   "id": "588837b2",
   "metadata": {},
   "outputs": [],
   "source": [
    "# src/setup.py\n",
    "\n",
    "from setuptools import setup, find_packages\n",
    "\n",
    "setup(\n",
    "    name='MLProject',\n",
    "    version='0.1',\n",
    "    packages=find_packages(),\n",
    "    install_requires=[\n",
    "        # Add your required dependencies here\n",
    "        'scikit-learn',\n",
    "        'pandas',\n",
    "        'numpy',\n",
    "        # Add other dependencies as needed\n",
    "    ],\n",
    ")\n"
   ]
  },
  {
   "cell_type": "code",
   "execution_count": null,
   "id": "8123d52e",
   "metadata": {},
   "outputs": [],
   "source": [
    "# src/requirements.txt\n",
    "\n",
    "# Add your required dependencies here\n",
    "scikit-learn\n",
    "pandas\n",
    "numpy\n",
    "# Add other dependencies as needed"
   ]
  },
  {
   "cell_type": "code",
   "execution_count": null,
   "id": "1a0bae04",
   "metadata": {},
   "outputs": [],
   "source": [
    "python setup.py egg_info\n"
   ]
  },
  {
   "cell_type": "code",
   "execution_count": null,
   "id": "22ddc162",
   "metadata": {},
   "outputs": [],
   "source": [
    "git add .\n",
    "git commit -m \"Initial commit\"\n"
   ]
  },
  {
   "cell_type": "code",
   "execution_count": null,
   "id": "e1779b1f",
   "metadata": {},
   "outputs": [],
   "source": [
    "git remote add origin YOUR_GITHUB_REPO_URL\n"
   ]
  },
  {
   "cell_type": "code",
   "execution_count": null,
   "id": "774c5a7e",
   "metadata": {},
   "outputs": [],
   "source": [
    "git push -u origin master\n"
   ]
  },
  {
   "cell_type": "code",
   "execution_count": null,
   "id": "35cddfc7",
   "metadata": {},
   "outputs": [],
   "source": [
    "git clone YOUR_GITHUB_REPO_URL\n"
   ]
  },
  {
   "cell_type": "markdown",
   "id": "5f4a1dfd",
   "metadata": {},
   "source": [
    " the complete ML project structure with logging and exception handling set up. You can proceed with building your ML pipelines and implementing the machine learning models using the breast cancer dataset from sklearn.load_breast_cancer."
   ]
  },
  {
   "cell_type": "code",
   "execution_count": null,
   "id": "848199ae",
   "metadata": {},
   "outputs": [],
   "source": []
  }
 ],
 "metadata": {
  "kernelspec": {
   "display_name": "Python 3 (ipykernel)",
   "language": "python",
   "name": "python3"
  },
  "language_info": {
   "codemirror_mode": {
    "name": "ipython",
    "version": 3
   },
   "file_extension": ".py",
   "mimetype": "text/x-python",
   "name": "python",
   "nbconvert_exporter": "python",
   "pygments_lexer": "ipython3",
   "version": "3.9.13"
  }
 },
 "nbformat": 4,
 "nbformat_minor": 5
}
