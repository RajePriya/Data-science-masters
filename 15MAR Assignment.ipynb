{
 "cells": [
  {
   "cell_type": "markdown",
   "id": "8d6e523e-ef3a-48a8-b1c2-b43d4d946122",
   "metadata": {},
   "source": [
    "## 14MAR\n",
    "### Assignment"
   ]
  },
  {
   "cell_type": "markdown",
   "id": "3a11afa4-f66a-4d12-a51f-1f807900b5f4",
   "metadata": {},
   "source": [
    "### Q1"
   ]
  },
  {
   "cell_type": "code",
   "execution_count": null,
   "id": "dff0c5bd-aca7-4e55-ac9a-2d1a68875adf",
   "metadata": {},
   "outputs": [],
   "source": [
    "Q1. Explain the following with an example:\n",
    "  1.  Artificial Intelligence\n",
    "  2.  Machine Learning\n",
    "   3. Deep Learning"
   ]
  },
  {
   "cell_type": "code",
   "execution_count": null,
   "id": "256a9624-b5e9-4877-b635-cd0f7bddce65",
   "metadata": {},
   "outputs": [],
   "source": [
    "Ans:- \n",
    "=> Artificial Intelligence (AI):\n",
    "   Artificial Intelligence is the branch of computer science that deals with the creation of intelligent machines that work \n",
    "and behave like humans. AI systems can perform tasks that usually require human intelligence, such as perception, learning,\n",
    "decision-making, problem-solving, and natural language processing. For example, chatbots, virtual assistants like Siri or\n",
    "Alexa, and self-driving cars are some applications of AI.\n",
    "\n",
    "=> Machine Learning (ML):\n",
    "   Machine Learning is a subset of AI that focuses on building systems that can learn and improve from experience without \n",
    "being explicitly programmed. ML algorithms can learn patterns from data and use them to make predictions or decisions.\n",
    "For example, a spam filter in your email inbox is an example of ML, where the algorithm learns to distinguish between spam\n",
    "and non-spam emails based on patterns in the data.\n",
    "\n",
    "=> Deep Learning (DL):\n",
    "   Deep Learning is a subfield of ML that is based on artificial neural networks. DL models can learn from large and complex\n",
    "datasets, making it possible to solve problems that were previously impossible with traditional algorithms. For example, \n",
    "image recognition, speech recognition, and natural language processing are some of the applications of DL. A popular example\n",
    "of DL is Google's AlphaGo, which defeated the world champion in the ancient Chinese game of Go, by learning to play through\n",
    "a combination of supervised and reinforcement learning."
   ]
  },
  {
   "cell_type": "markdown",
   "id": "27c91317-93bb-42e1-8156-32693e1f1b30",
   "metadata": {},
   "source": [
    "### Q2"
   ]
  },
  {
   "cell_type": "code",
   "execution_count": null,
   "id": "836161f6-f320-47ae-a3a0-37cf88f2200e",
   "metadata": {},
   "outputs": [],
   "source": [
    "Q2. what is supervised learning? List some examples of supervised learning."
   ]
  },
  {
   "cell_type": "code",
   "execution_count": null,
   "id": "e6f92531-0359-4e1f-b088-d30c6bfbe2bd",
   "metadata": {},
   "outputs": [],
   "source": [
    "Ans:- Supervised learning is a type of machine learning algorithm in which the model learns from labeled data, i.e., data \n",
    "that is already categorized or classified. The labeled data includes both the input and the output data, and the algorithm \n",
    "learns to map the input to the output based on the examples provided.\n",
    "\n",
    "Supervised learning can be further divided into two categories: regression and classification. In regression, the algorithm\n",
    "learns to predict continuous output values, while in classification, the algorithm learns to predict categorical output \n",
    "values.\n",
    "\n",
    "Some examples of supervised learning are:\n",
    "\n",
    "=> Spam filtering: The algorithm learns to classify emails as spam or not spam based on labeled data.\n",
    "\n",
    "=> Image classification: The algorithm learns to classify images into different categories such as animals, plants, and \n",
    "objects based on labeled data.\n",
    "\n",
    "=> Sentiment analysis: The algorithm learns to classify text as positive or negative sentiment based on labeled data.\n",
    "\n",
    "=> Predicting stock prices: The algorithm learns to predict stock prices based on historical data.\n",
    "\n",
    "=> Medical diagnosis: The algorithm learns to diagnose a disease based on patient symptoms and medical test results.\n",
    "\n",
    "=> Customer churn prediction: The algorithm learns to predict which customers are likely to churn based on their past \n",
    "behavior and interactions with the business.\n",
    "\n",
    "=> Handwriting recognition: The algorithm learns to recognize handwritten characters and digits based on labeled data.\n",
    "\n",
    "=> Speech recognition: The algorithm learns to recognize speech and convert it into text based on labeled data."
   ]
  },
  {
   "cell_type": "markdown",
   "id": "c545b5a2-c04f-4259-8bda-ccebd7d95c35",
   "metadata": {},
   "source": [
    "### Q3"
   ]
  },
  {
   "cell_type": "code",
   "execution_count": null,
   "id": "826d2ea6-6a11-4488-8d78-afbd1e5ed513",
   "metadata": {},
   "outputs": [],
   "source": [
    "Q3- What is Unsupervised learning? List some examples of Unsupervised learning."
   ]
  },
  {
   "cell_type": "code",
   "execution_count": null,
   "id": "309d0b07-fc56-4c2b-8fca-929c5aafbf42",
   "metadata": {},
   "outputs": [],
   "source": [
    "Ans:- Unsupervised learning is a type of machine learning algorithm where the model learns from unlabeled data, i.e., data\n",
    "that is not categorized or classified. Unlike supervised learning, there is no specific output data for the algorithm to \n",
    "learn from. Instead, the algorithm learns to identify patterns, structures, and relationships in the data on its own.\n",
    "\n",
    "Some examples of unsupervised learning are:\n",
    "\n",
    "=> Clustering: The algorithm groups similar data points together based on their characteristics. For example, clustering can\n",
    "be used to segment customers based on their purchasing behavior.\n",
    "\n",
    "=> Anomaly detection: The algorithm identifies unusual or outlier data points that do not fit with the rest of the data. For\n",
    "example, anomaly detection can be used to detect fraudulent credit card transactions.\n",
    "\n",
    "=> Dimensionality reduction: The algorithm reduces the number of features or variables in the data without losing important\n",
    "information. For example, principal component analysis (PCA) can be used to reduce the number of features in image or speech\n",
    "recognition.\n",
    "\n",
    "=> Association rule learning: The algorithm identifies relationships between different variables in the data. For example,\n",
    "association rule learning can be used to identify which products are frequently purchased together.\n",
    "\n",
    "=> Generative models: The algorithm learns to generate new data that is similar to the input data. For example, generative \n",
    "models can be used to generate new images or videos based on existing ones.\n",
    "\n",
    "=> Density estimation: The algorithm learns to estimate the probability density function of the data. For example, density \n",
    "estimation can be used to estimate the probability of a particular event occurring based on historical data.\n",
    "\n",
    "=> Word embedding: The algorithm learns to represent words as vectors in a high-dimensional space based on their context. \n",
    "For example, word embedding can be used to analyze the similarity between different words in natural language processing \n",
    "tasks."
   ]
  },
  {
   "cell_type": "markdown",
   "id": "20c5df72-9a3f-4271-9355-e6df99164525",
   "metadata": {},
   "source": [
    "### Q4"
   ]
  },
  {
   "cell_type": "code",
   "execution_count": null,
   "id": "0b8b12ea-c70a-4114-add5-87c686f76572",
   "metadata": {},
   "outputs": [],
   "source": [
    "Q4- What is the difference between  AI, ML, DL, and DS?"
   ]
  },
  {
   "cell_type": "code",
   "execution_count": null,
   "id": "d01b4c4c-7598-4d1c-a8e0-9701393c2313",
   "metadata": {},
   "outputs": [],
   "source": [
    "Ans:- AI, ML, DL, and DS are related but distinct fields. Here are the key differences between them:\n",
    "\n",
    "=> Artificial Intelligence (AI): AI is a broad field that deals with the development of intelligent machines that can \n",
    "perform tasks that typically require human intelligence. AI can be divided into two categories: narrow or weak AI and\n",
    "general or strong AI. Narrow AI systems are designed to perform specific tasks, such as image recognition or speech \n",
    "recognition. In contrast, general AI systems are designed to perform any intellectual task that a human can do.\n",
    "\n",
    "=> Machine Learning (ML): ML is a subset of AI that deals with the development of algorithms that can learn from and make \n",
    "predictions on data. Unlike traditional programming, where the programmer specifies the rules for the program, in ML, the \n",
    "algorithm learns the rules from the data. ML algorithms can be classified into three categories: supervised learning, \n",
    "unsupervised learning, and reinforcement learning.\n",
    "\n",
    "=> Deep Learning (DL): DL is a subset of ML that uses artificial neural networks to model and solve complex problems. DL is\n",
    "based on the concept of learning representations of data, where multiple layers of neural networks learn to extract \n",
    "higher-level features from the input data. DL is particularly useful for tasks such as image recognition, natural language \n",
    "processing, and speech recognition.\n",
    "\n",
    "=> Data Science (DS): DS is a field that deals with the extraction, cleaning, processing, analysis, visualization, and \n",
    "interpretation of large and complex data sets. DS is an interdisciplinary field that combines techniques from statistics, \n",
    "mathematics, computer science, and domain-specific knowledge to gain insights and knowledge from data. DS is used in many \n",
    "areas, such as business intelligence, marketing, healthcare, and social sciences.\n",
    "\n",
    "In summary, AI is a broad field that deals with intelligent machines, ML is a subset of AI that deals with algorithms that\n",
    "can learn from data, DL is a subset of ML that uses neural networks to model and solve complex problems, and DS is a field\n",
    "that deals with the extraction and analysis of large and complex data sets."
   ]
  },
  {
   "cell_type": "markdown",
   "id": "356045e7-ca02-4498-99df-73a2d79e20bb",
   "metadata": {},
   "source": [
    "### Q5"
   ]
  },
  {
   "cell_type": "code",
   "execution_count": null,
   "id": "16696782-20a0-4c69-980f-988eb9f99328",
   "metadata": {},
   "outputs": [],
   "source": [
    "Q5- What are the main differences between supervised, Unsupervised, and semi-supervised learning?"
   ]
  },
  {
   "cell_type": "code",
   "execution_count": null,
   "id": "f9f13776-f568-44e4-b917-9a2140dac737",
   "metadata": {},
   "outputs": [],
   "source": [
    "Ans:- Supervised, unsupervised, and semi-supervised learning are the three main categories of machine learning techniques.\n",
    "The main differences between these categories are:\n",
    "\n",
    "=> Supervised Learning: In supervised learning, the machine learning algorithm learns to make predictions from labeled data. \n",
    "Labeled data refers to input data that is accompanied by the correct output value. The algorithm learns from these examples\n",
    "and can make predictions on new data that it has never seen before.\n",
    "Examples of supervised learning include image classification, sentiment analysis, and spam detection. For instance, a \n",
    "supervised learning algorithm can learn to classify emails as spam or not spam by analyzing the content and characteristics \n",
    "of emails that have been previously labeled as spam or not spam.\n",
    "\n",
    "=> Unsupervised Learning: In unsupervised learning, the machine learning algorithm learns to identify patterns and \n",
    "relationships in unlabeled data. Unlabeled data refers to input data that has no associated output values. The algorithm \n",
    "must discover the hidden structure in the data on its own without any guidance.\n",
    "Examples of unsupervised learning include clustering, dimensionality reduction, and anomaly detection. For instance, an \n",
    "unsupervised learning algorithm can cluster customer data into different groups based on their purchasing behavior, without\n",
    "any prior knowledge of the customers or their preferences.\n",
    "\n",
    "=> Semi-Supervised Learning: Semi-supervised learning is a hybrid of supervised and unsupervised learning. It involves a mix\n",
    "of labeled and unlabeled data, and the algorithm learns from both to improve its performance. Semi-supervised learning is \n",
    "useful when labeled data is scarce or expensive to obtain.\n",
    "Examples of semi-supervised learning include speech recognition and natural language processing. For instance, a \n",
    "semi-supervised learning algorithm can use both labeled and unlabeled data to transcribe spoken language into written text \n",
    "with higher accuracy than if only labeled data were used."
   ]
  },
  {
   "cell_type": "markdown",
   "id": "4d3ed6b4-4b72-44da-82b7-ddb41dbf9c6e",
   "metadata": {},
   "source": [
    "### Q6"
   ]
  },
  {
   "cell_type": "code",
   "execution_count": null,
   "id": "2540f28d-ae31-4658-b161-640324b742f6",
   "metadata": {},
   "outputs": [],
   "source": [
    "Q6- what is train, test and validation split? Explain the importance of each term."
   ]
  },
  {
   "cell_type": "code",
   "execution_count": null,
   "id": "fb2dbeeb-3728-470c-81f3-f5285172bd6b",
   "metadata": {},
   "outputs": [],
   "source": [
    "Ans:- In machine learning, it is crucial to evaluate the performance of a model on unseen data. To do so, the available data\n",
    "is usually divided into three parts: the training set, the validation set, and the test set.\n",
    "\n",
    "=> Training set: This is the part of the data used to train the model. The model learns the underlying patterns and \n",
    "relationships in the training set.\n",
    "\n",
    "=> Validation set: The validation set is used to tune the model's hyperparameters to improve its performance. \n",
    "Hyperparameters are parameters that need to be set before training, such as the learning rate, regularization strength, or\n",
    "the number of hidden layers in a neural network. The validation set is also used to perform early stopping, which means\n",
    "stopping the training process before the model starts to overfit the training data.\n",
    "\n",
    "=> Test set: Once the model is trained and its hyperparameters are tuned, it is evaluated on the test set. This is the final\n",
    "evaluation and gives an estimate of how well the model will perform on unseen data.\n",
    "\n",
    "The importance of each set is as follows:\n",
    "\n",
    "=> Training set: The training set is used to teach the model to recognize patterns and relationships in the data. The more\n",
    "data the model sees, the better it will be able to learn the underlying patterns.\n",
    "\n",
    "=> Validation set: The validation set is used to tune the model's hyperparameters and prevent overfitting. Overfitting \n",
    "occurs when the model performs well on the training set but poorly on unseen data. The validation set helps to ensure that \n",
    "the model is generalizing well and is not overfitting.\n",
    "\n",
    "=> Test set: The test set is used to evaluate the final performance of the model. It gives an estimate of how well the model\n",
    "will perform on unseen data. It is important that the test set is not used during the training or validation process, as \n",
    "this can lead to overfitting and an overly optimistic evaluation of the model's performance."
   ]
  },
  {
   "cell_type": "markdown",
   "id": "4054a1c6-f4d1-45d2-8e4f-8001b083ff63",
   "metadata": {},
   "source": [
    "### Q7"
   ]
  },
  {
   "cell_type": "code",
   "execution_count": null,
   "id": "6ed0d742-b487-4879-9ad6-2d42cb8e4929",
   "metadata": {},
   "outputs": [],
   "source": [
    "Q7- how can unsupervised learning be used in anomaly detection?"
   ]
  },
  {
   "cell_type": "code",
   "execution_count": null,
   "id": "cd4e5f04-eb45-4d4f-819a-58db6117bba5",
   "metadata": {},
   "outputs": [],
   "source": [
    "Ans:- Unsupervised learning can be used in anomaly detection by training a model on a dataset that does not have labeled \n",
    "anomalies. The model will then learn the patterns and structure of the data and identify any instances that deviate \n",
    "significantly from this learned pattern as potential anomalies.\n",
    "\n",
    "One approach for unsupervised anomaly detection is clustering. In this approach, the model partitions the data into clusters\n",
    "based on similarities in the features. Any data points that do not fit into any of the clusters or are in a cluster with \n",
    "very few data points may be considered anomalies.\n",
    "\n",
    "Another approach for unsupervised anomaly detection is dimensionality reduction. In this approach, the model reduces the \n",
    "number of features in the dataset while retaining as much information as possible. Any data points that cannot be adequately\n",
    "represented by the reduced set of features may be considered anomalies.\n",
    "\n",
    "Unsupervised anomaly detection is useful in situations where labeled anomaly data is scarce or not available at all. It can \n",
    "be applied in various domains such as fraud detection, intrusion detection, and medical diagnosis, among others. However, it\n",
    "may not be as accurate as supervised anomaly detection techniques as it relies solely on the data's distribution to identify\n",
    "anomalies."
   ]
  },
  {
   "cell_type": "markdown",
   "id": "656fdca6-bd0f-4128-812e-2199c2afb694",
   "metadata": {},
   "source": [
    "### Q8"
   ]
  },
  {
   "cell_type": "code",
   "execution_count": null,
   "id": "e1c6d2b9-5729-4dac-9daf-ff0447970905",
   "metadata": {},
   "outputs": [],
   "source": [
    "Q8 - list down some commonly used supervised learning algorithms and unsupervised learning algorithms."
   ]
  },
  {
   "cell_type": "code",
   "execution_count": null,
   "id": "c8788f6f-6393-489f-be29-d1f7023a1e1f",
   "metadata": {},
   "outputs": [],
   "source": [
    "Ans:- Commonly used supervised learning algorithms:\n",
    "\n",
    "=> Linear regression\n",
    "=> Logistic regression\n",
    "=> Decision tree\n",
    "=> Random forest\n",
    "=> Support vector machines (SVM)\n",
    "=> Naive Bayes\n",
    "=> k-Nearest Neighbors (k-NN)\n",
    "=> Neural networks\n",
    "=> Commonly used unsupervised learning algorithms:\n",
    "\n",
    "   Clustering (K-means, Hierarchical clustering)\n",
    "\n",
    "=> Principal Component Analysis (PCA)\n",
    "=> Independent Component Analysis (ICA)\n",
    "=> Anomaly detection (Isolation Forest, Local Outlier Factor)\n",
    "=> Association rule mining (Apriori algorithm)\n",
    "=> t-Distributed Stochastic Neighbor Embedding (t-SNE)\n",
    "=> Autoencoder."
   ]
  },
  {
   "cell_type": "code",
   "execution_count": null,
   "id": "307984eb-1594-4f97-ac60-614b748d0ef3",
   "metadata": {},
   "outputs": [],
   "source": []
  }
 ],
 "metadata": {
  "kernelspec": {
   "display_name": "Python 3 (ipykernel)",
   "language": "python",
   "name": "python3"
  },
  "language_info": {
   "codemirror_mode": {
    "name": "ipython",
    "version": 3
   },
   "file_extension": ".py",
   "mimetype": "text/x-python",
   "name": "python",
   "nbconvert_exporter": "python",
   "pygments_lexer": "ipython3",
   "version": "3.10.8"
  }
 },
 "nbformat": 4,
 "nbformat_minor": 5
}
