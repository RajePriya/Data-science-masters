{
 "cells": [
  {
   "cell_type": "markdown",
   "id": "4a9c1332-45fd-42f4-8388-9965ca60632a",
   "metadata": {},
   "source": [
    "## 6MAR\n",
    "### Assignment"
   ]
  },
  {
   "cell_type": "markdown",
   "id": "2dd45711-d5f6-4a1d-8880-e7967a045e64",
   "metadata": {},
   "source": [
    "### Q1"
   ]
  },
  {
   "cell_type": "code",
   "execution_count": null,
   "id": "488fe814-5a69-4eb1-be6d-1a00367d57e9",
   "metadata": {},
   "outputs": [],
   "source": [
    "Q1. What is Statistics?"
   ]
  },
  {
   "cell_type": "code",
   "execution_count": null,
   "id": "1c4921b8-afd7-4bbc-9e3c-a782dba6b45a",
   "metadata": {},
   "outputs": [],
   "source": [
    "Ans:-Statistics is a branch of mathematics that deals with the collection, analysis, interpretation,\n",
    "presentation, and organization of numerical data. It is a science that helps in making decisions \n",
    "based on data.\n",
    "\n",
    "The main goal of statistics is to extract information from data, and this can be done through the\n",
    "use of different statistical methods such as descriptive statistics, inferential statistics, and \n",
    "probability theory. Descriptive statistics is used to summarize and describe the main features of \n",
    "a dataset, while inferential statistics is used to make inferences or predictions about a larger \n",
    "population based on a sample.\n",
    "\n",
    "Statistics is used in various fields such as business, economics, social sciences, medicine, \n",
    "engineering, and many others. It plays a vital role in research studies, as it helps researchers\n",
    "to draw conclusions and make informed decisions based on data."
   ]
  },
  {
   "cell_type": "markdown",
   "id": "a2a14efa-5ec4-4bb6-8078-46b99bf0a425",
   "metadata": {},
   "source": [
    "### Q2"
   ]
  },
  {
   "cell_type": "code",
   "execution_count": null,
   "id": "f9268d9f-88e9-4b99-b6ff-ed10f7c0cb00",
   "metadata": {},
   "outputs": [],
   "source": [
    "Q2. Define the different types of statistics and give an example of when each type might be used."
   ]
  },
  {
   "cell_type": "code",
   "execution_count": null,
   "id": "7b19e21d-b7d4-4f31-9421-0d6150ada8f0",
   "metadata": {},
   "outputs": [],
   "source": [
    "Ans:- There are two main types of statistics: descriptive statistics and inferential statistics.\n",
    "\n",
    "=> Descriptive Statistics:\n",
    "=> Descriptive statistics is used to describe and summarize a set of data. It helps in \n",
    "understanding the basic features of the data, such as the central tendency, variability, and shape \n",
    "f the distribution. Some of the common measures used in descriptive statistics include mean, \n",
    "median, mode, range, standard deviation, and variance. Descriptive statistics can be used in \n",
    "various fields, such as psychology, to describe the distribution of scores on a test, or in \n",
    "finance, to summarize the stock prices of a particular company over a period of time.\n",
    "\n",
    "Inferential Statistics:\n",
    "Inferential statistics is used to make inferences and predictions about a population based on a \n",
    "sample. It involves testing hypotheses and determining the likelihood of an event occurring. Some \n",
    "of the common methods used in inferential statistics include hypothesis testing, confidence \n",
    "intervals, and regression analysis. Inferential statistics can be used in various fields, such as\n",
    "medicine, to determine the effectiveness of a new drug treatment, or in marketing, to predict \n",
    "consumer behavior based on a sample of customers.\n",
    "\n",
    "In summary, descriptive statistics is used to describe and summarize data, while inferential \n",
    "statistics is used to make inferences and predictions about a population based on a sample. Both\n",
    "types of statistics are essential in various fields and play a critical role in decision-making \n",
    "processes."
   ]
  },
  {
   "cell_type": "markdown",
   "id": "8d07899d-e05c-4b04-a7b9-0408b2d5088e",
   "metadata": {},
   "source": [
    "### Q3"
   ]
  },
  {
   "cell_type": "code",
   "execution_count": null,
   "id": "b23161cd-4436-4829-8634-505138ab35cf",
   "metadata": {},
   "outputs": [],
   "source": [
    "Q3. What are the different types of data and how do they differ from each other? Provide an example of\n",
    "each type of data."
   ]
  },
  {
   "cell_type": "code",
   "execution_count": null,
   "id": "f7097d9d-2226-4737-8285-10e9841c76e9",
   "metadata": {},
   "outputs": [],
   "source": [
    "Ans:- There are four main types of data: nominal, ordinal, interval, and ratio.\n",
    "\n",
    "=> Nominal Data:\n",
    "Nominal data is categorical data where each observation is placed into a category or group. Nominal\n",
    "data cannot be ordered or ranked, and there is no inherent order or hierarchy among the categories.\n",
    "Examples of nominal data include gender (male or female), color (red, blue, green), and nationality\n",
    "(American, Canadian, Mexican).\n",
    "\n",
    "=> Ordinal Data:\n",
    "Ordinal data is categorical data that can be ranked or ordered. The intervals between the \n",
    "categories are not necessarily equal. Examples of ordinal data include educational level \n",
    "(elementary, high school, college), job ranking (junior, senior, manager), and letter grades \n",
    "(A, B, C, D, F).\n",
    "\n",
    "=> Interval Data:\n",
    "Interval data is numerical data where the intervals between the values are equal, but there is no\n",
    "true zero point. The zero point is arbitrary and does not indicate the complete absence of the\n",
    "measured attribute. Examples of interval data include temperature measured in Celsius or Fahrenheit,\n",
    "and years on a calendar.\n",
    "\n",
    "=> Ratio Data:\n",
    "Ratio data is numerical data where the intervals between the values are equal, and there is a true\n",
    "zero point. The zero point indicates the complete absence of the measured attribute. Examples of \n",
    "ratio data include height, weight, and time.\n",
    "\n",
    "In summary, nominal data is categorical data without order or rank, ordinal data is categorical \n",
    "data with order or rank, interval data is numerical data with equal intervals but no true zero\n",
    "point, and ratio data is numerical data with equal intervals and a true zero point. Understanding \n",
    "the type of data is important in determining the appropriate statistical methods to use."
   ]
  },
  {
   "cell_type": "markdown",
   "id": "85cc13ab-eea6-40ee-91eb-76e2fbc5920c",
   "metadata": {},
   "source": [
    "### Q4"
   ]
  },
  {
   "cell_type": "code",
   "execution_count": null,
   "id": "d6df7206-5819-4042-9958-3b1d01e5ef7b",
   "metadata": {},
   "outputs": [],
   "source": [
    "Q4. Categorise the following datasets with respect to quantitative and qualitative data types:\n",
    "(i) Grading in exam: A+, A, B+, B, C+, C, D, E\n",
    "(ii) Colour of mangoes: yellow, green, orange, red\n",
    "(iii) Height data of a class: [178.9, 179, 179.5, 176, 177.2, 178.3, 175.8,...]\n",
    "(iv) Number of mangoes exported by a farm: [500, 600, 478, 672, ...]"
   ]
  },
  {
   "cell_type": "code",
   "execution_count": null,
   "id": "9aabffd8-e70e-41fb-9ff5-59f716fb40e6",
   "metadata": {},
   "outputs": [],
   "source": [
    "Ans:- (i) Grading in exam: A+, A, B+, B, C+, C, D, E\n",
    "\n",
    "Categorical data (qualitative)\n",
    "(ii) Colour of mangoes: yellow, green, orange, red\n",
    "\n",
    "Categorical data (qualitative)\n",
    "(iii) Height data of a class: [178.9, 179, 179.5, 176, 177.2, 178.3, 175.8,...]\n",
    "\n",
    "Numerical data (quantitative)\n",
    "(iv) Number of mangoes exported by a farm: [500, 600, 478, 672, ...]\n",
    "\n",
    "Numerical data (quantitative)\n",
    "In summary, grading in exam and color of mangoes are categorical data (qualitative), while height \n",
    "data of a class and number of mangoes exported by a farm are numerical data (quantitative)."
   ]
  },
  {
   "cell_type": "markdown",
   "id": "ad4b8026-7b60-49cc-a23a-8b9c6f2eed1c",
   "metadata": {},
   "source": [
    "### Q5"
   ]
  },
  {
   "cell_type": "code",
   "execution_count": null,
   "id": "cd6be946-570e-4996-bcb7-b34e664aed33",
   "metadata": {},
   "outputs": [],
   "source": [
    "Q5. Explain the concept of levels of measurement and give an example of a variable for each level."
   ]
  },
  {
   "cell_type": "code",
   "execution_count": null,
   "id": "fab7a77e-7507-4b72-ba0a-c776333d8158",
   "metadata": {},
   "outputs": [],
   "source": [
    "Ans:- The concept of levels of measurement, also known as scale of measurement, is a classification system that describes the nature and characteristics of variables. There are four levels of measurement: nominal, ordinal, interval, and ratio.\n",
    "\n",
    "=> Nominal Level:\n",
    "Nominal level variables are categorical variables with no intrinsic order or ranking. They are \n",
    "often used to represent attributes such as gender, ethnicity, or hair color. An example of a \n",
    "nominal level variable is the gender of students in a class.\n",
    "\n",
    "=> Ordinal Level:\n",
    "Ordinal level variables have a natural order or ranking but have no inherent measure of the \n",
    "magnitude of the difference between categories. Examples of ordinal level variables include the \n",
    "level of education completed (e.g., elementary, high school, college) or the rank of a finishing \n",
    "position in a race.\n",
    "\n",
    "=> Interval Level:\n",
    "Interval level variables have a natural order and equal intervals between values, but there is no \n",
    "true zero point. Examples of interval level variables include temperature measured in Celsius or \n",
    "Fahrenheit or the years on a calendar.\n",
    "\n",
    "=> Ratio Level:\n",
    "Ratio level variables have a natural order, equal intervals between values, and a true zero point,\n",
    "which indicates the absence of the measured attribute. Examples of ratio level variables include \n",
    "height, weight, and income.\n",
    "\n",
    "In summary, nominal level variables are categorical variables with no intrinsic order or ranking,\n",
    "ordinal level variables have a natural order or ranking but no inherent measure of magnitude, \n",
    "interval level variables have a natural order and equal intervals between values but no true zero \n",
    "point, and ratio level variables have a natural order, equal intervals between values, and a true\n",
    "zero point."
   ]
  },
  {
   "cell_type": "markdown",
   "id": "97a92694-b2eb-447c-9f23-3ab26ee0d807",
   "metadata": {},
   "source": [
    "### Q6"
   ]
  },
  {
   "cell_type": "code",
   "execution_count": null,
   "id": "8fc94ecc-89e7-4d84-b515-faacec53291b",
   "metadata": {},
   "outputs": [],
   "source": [
    "Q6. Why is it important to understand the level of measurement when analyzing data? Provide an\n",
    "example to illustrate your answer."
   ]
  },
  {
   "cell_type": "code",
   "execution_count": null,
   "id": "c5b44e7f-2408-4bd4-a78e-a26ac17ad26f",
   "metadata": {},
   "outputs": [],
   "source": [
    "Ans:- It is important to understand the level of measurement when analyzing data because it \n",
    "determines the type of statistical analysis that can be performed on the data. Different \n",
    "statistical techniques are appropriate for different types of data, and the level of measurement \n",
    "helps to identify the appropriate methods for analysis.\n",
    "\n",
    "For example, consider the following scenario where we want to investigate the relationship between\n",
    "height and weight:\n",
    "\n",
    "=> If the height and weight data are measured on a ratio scale, we can use correlation analysis to\n",
    "determine the strength of the relationship between the two variables.\n",
    "=> If the data are measured on an ordinal scale, we can use non-parametric tests, such as \n",
    "Spearman's rank correlation, to investigate the relationship between the two variables.\n",
    "=> If the data are measured on a nominal scale, we can use contingency tables and chi-square tests \n",
    "to determine if there is an association between height and weight.\n",
    "\n",
    "\n",
    "If we use the wrong statistical technique for the level of measurement, we may get inaccurate or\n",
    "misleading results. For example, using a correlation analysis on nominal data would be \n",
    "inappropriate because there is no order or ranking among the categories, and using a chi-square\n",
    "test on ratio data would be inappropriate because the continuous nature of the data is not taken \n",
    "into account.\n",
    "\n",
    "Therefore, understanding the level of measurement is crucial to ensure that appropriate statistical\n",
    "techniques are used for accurate analysis of the data."
   ]
  },
  {
   "cell_type": "markdown",
   "id": "47fd8d4b-1151-4bd7-9109-ba1abfa89135",
   "metadata": {},
   "source": [
    "### Q7"
   ]
  },
  {
   "cell_type": "code",
   "execution_count": null,
   "id": "17e89b01-7bc6-4828-a8e0-c73dbdff86fc",
   "metadata": {},
   "outputs": [],
   "source": [
    "Q7. How nominal data type is different from ordinal data type."
   ]
  },
  {
   "cell_type": "code",
   "execution_count": null,
   "id": "739c436d-1eaf-486a-8fe6-d11213a9041c",
   "metadata": {},
   "outputs": [],
   "source": [
    "Ans:- Nominal and ordinal data types are both categorical data types, but they differ in the level of measurement and the properties of the categories.\n",
    "\n",
    "Nominal data are categorical data where the categories have no intrinsic order or ranking. In \n",
    "nominal data, categories are distinguished by name or label only. Examples of nominal data include \n",
    "gender, color, religion, or marital status.\n",
    "\n",
    "Ordinal data are categorical data where the categories have a natural order or ranking. In ordinal\n",
    "data, categories are distinguished by their rank or position. Examples of ordinal data include \n",
    "levels of education (elementary, high school, college), level of agreement (strongly disagree, \n",
    "disagree, neutral, agree, strongly agree), or finishing positions in a race.\n",
    "\n",
    "In summary, nominal data is used to describe qualities or characteristics of something without any\n",
    "order or ranking of the categories, while ordinal data is used when the categories have an inherent\n",
    "ranking or order."
   ]
  },
  {
   "cell_type": "markdown",
   "id": "90cb0277-2530-4bea-80b9-c6a2fa0badd8",
   "metadata": {},
   "source": [
    "### Q8"
   ]
  },
  {
   "cell_type": "code",
   "execution_count": null,
   "id": "dc6c4c40-e626-4156-ae4c-1934de68ce0f",
   "metadata": {},
   "outputs": [],
   "source": [
    "Q8. Which type of plot can be used to display data in terms of range?"
   ]
  },
  {
   "cell_type": "code",
   "execution_count": null,
   "id": "b6e1e922-dca8-4e2b-ac6f-356b81f14e79",
   "metadata": {},
   "outputs": [],
   "source": [
    "Ans:- A box plot, also known as a box-and-whisker plot, is a type of plot that can be used to display data in terms of range.\n",
    "\n",
    "Box plots display the distribution of a dataset by dividing the data into quartiles, and displaying\n",
    "the median, upper quartile, lower quartile, minimum and maximum values. The box represents the \n",
    "middle 50% of the data, with the lower and upper bounds of the box indicating the first and third \n",
    "quartiles. The line within the box indicates the median value, and the whiskers represent the \n",
    "minimum and maximum values. Outliers are often displayed as individual points outside of the \n",
    "whiskers.\n",
    "\n",
    "Box plots are useful for comparing the distribution of data across different groups or for \n",
    "comparing the distribution of a single dataset over time. They provide a quick visual summary of \n",
    "the range, distribution, and outliers in the data.\n",
    "\n",
    "In summary, a box plot is a type of plot that can be used to display data in terms of range, and is\n",
    "particularly useful for visualizing the distribution of data across different groups or over time."
   ]
  },
  {
   "cell_type": "markdown",
   "id": "512aedd3-ebb5-4e86-9f21-5aca759786d7",
   "metadata": {},
   "source": [
    "### Q9"
   ]
  },
  {
   "cell_type": "code",
   "execution_count": null,
   "id": "a54ac8be-2c30-4a35-ad13-e15e95524a77",
   "metadata": {},
   "outputs": [],
   "source": [
    "Q9. Describe the difference between descriptive and inferential statistics. Give an example of each\n",
    "type of statistics and explain how they are used."
   ]
  },
  {
   "cell_type": "code",
   "execution_count": null,
   "id": "1a3d8fe0-5621-4d59-ae53-564c8c9d5519",
   "metadata": {},
   "outputs": [],
   "source": [
    "Ans:- Descriptive and inferential statistics are two broad categories of statistical analysis that serve different purposes.\n",
    "\n",
    "Descriptive statistics involves summarizing and describing the main features of a dataset, such as \n",
    "its central tendency, variability, and distribution. It is used to provide a summary of the data\n",
    "and to gain insights into its characteristics. Some examples of descriptive statistics include \n",
    "measures such as mean, median, mode, range, variance, and standard deviation.\n",
    "\n",
    "For example, if we want to describe the heights of a group of individuals, we could calculate the\n",
    "mean height, the range of heights, and the standard deviation to get an understanding of how tall \n",
    "the group is and how much variation there is in their heights.\n",
    "\n",
    "Inferential statistics, on the other hand, involves making generalizations or conclusions about a\n",
    "population based on a sample of data. It is used to draw inferences about a larger population based\n",
    "on a subset of the data. Inferential statistics uses probability theory to estimate the likelihood \n",
    "that the results obtained from a sample are representative of the entire population.\n",
    "\n",
    "For example, if we want to estimate the average height of all individuals in a certain region, we\n",
    "could take a random sample of individuals from that region and use inferential statistics to \n",
    "estimate the population mean height with a certain degree of confidence.\n",
    "\n",
    "In summary, descriptive statistics are used to summarize and describe a dataset, while inferential\n",
    "statistics are used to make inferences about a larger population based on a sample of data. Both\n",
    "types of statistics are essential in data analysis and are used in different stages of the research\n",
    "process."
   ]
  },
  {
   "cell_type": "markdown",
   "id": "e2accfd0-e63a-434e-917f-af3d166d575e",
   "metadata": {},
   "source": [
    "### Q10"
   ]
  },
  {
   "cell_type": "code",
   "execution_count": null,
   "id": "d4b8927c-5203-4bea-a25a-14b165b728a0",
   "metadata": {},
   "outputs": [],
   "source": [
    "Q10. What are some common measures of central tendency and variability used in statistics? Explain\n",
    "how each measure can be used to describe a dataset."
   ]
  },
  {
   "cell_type": "code",
   "execution_count": null,
   "id": "929d1008-bd4d-4c7b-961b-55dc738e8717",
   "metadata": {},
   "outputs": [],
   "source": [
    "Ans:- Measures of central tendency and variability are used in statistics to describe the \n",
    "distribution of a dataset. Some common measures of central tendency include the mean, median, and\n",
    "mode, while measures of variability include the range, variance, and standard deviation.\n",
    "\n",
    "The mean is the arithmetic average of a set of values and is often used to summarize the central \n",
    "tendency of a dataset. It is calculated by summing all the values in the dataset and dividing by\n",
    "the total number of values. The mean is useful for describing the typical value of a dataset, but\n",
    "it can be affected by outliers or extreme values.\n",
    "\n",
    "The median is the middle value in a dataset when it is ordered from smallest to largest. It is \n",
    "useful for describing the typical value of a dataset when extreme values or outliers are present.\n",
    "The median is less affected by outliers than the mean.\n",
    "\n",
    "The mode is the value that occurs most frequently in a dataset and is useful for describing the\n",
    "most common value in a dataset.\n",
    "\n",
    "Measures of variability are used to describe how spread out or varied the values in a dataset are.\n",
    "The range is the difference between the maximum and minimum values in a dataset and is useful for \n",
    "describing the total spread of the data. However, it is affected by outliers and extreme values.\n",
    "\n",
    "The variance and standard deviation are measures of the spread of the data around the mean. The \n",
    "variance is the average of the squared differences between each value and the mean, while the\n",
    "standard deviation is the square root of the variance. The standard deviation is a more commonly\n",
    "used measure of variability, and it is useful for describing the spread of the data around the mean\n",
    "in a way that is comparable across different datasets.\n",
    "\n",
    "In summary, measures of central tendency and variability are used to describe the distribution of\n",
    "a dataset. The mean, median, and mode are common measures of central tendency, while the range, \n",
    "variance, and standard deviation are common measures of variability. Each measure provides a \n",
    "different perspective on the dataset and can be used to draw different conclusions about its \n",
    "characteristics."
   ]
  },
  {
   "cell_type": "code",
   "execution_count": null,
   "id": "b9463e4c-3435-47e4-b3fd-e562b8f36ca9",
   "metadata": {},
   "outputs": [],
   "source": []
  }
 ],
 "metadata": {
  "kernelspec": {
   "display_name": "Python 3 (ipykernel)",
   "language": "python",
   "name": "python3"
  },
  "language_info": {
   "codemirror_mode": {
    "name": "ipython",
    "version": 3
   },
   "file_extension": ".py",
   "mimetype": "text/x-python",
   "name": "python",
   "nbconvert_exporter": "python",
   "pygments_lexer": "ipython3",
   "version": "3.10.8"
  }
 },
 "nbformat": 4,
 "nbformat_minor": 5
}
