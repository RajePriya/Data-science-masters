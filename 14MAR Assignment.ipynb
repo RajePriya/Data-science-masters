{
 "cells": [
  {
   "cell_type": "markdown",
   "id": "2d798150-5faf-4829-93e3-cb66c4ba7b9e",
   "metadata": {},
   "source": [
    "## 14MAR\n",
    "### Assignment"
   ]
  },
  {
   "cell_type": "markdown",
   "id": "ae516a0c-c385-4fd6-b539-2a9df4199bd7",
   "metadata": {},
   "source": [
    "### Q1"
   ]
  },
  {
   "cell_type": "code",
   "execution_count": null,
   "id": "06fa0fc2-2cef-4fd3-9cb7-cce46320c7ab",
   "metadata": {},
   "outputs": [],
   "source": [
    "Q1. Write a Python function that takes in two arrays of data and calculates the F-value for a variance ratio\n",
    "test. The function should return the F-value and the corresponding p-value for the test."
   ]
  },
  {
   "cell_type": "code",
   "execution_count": null,
   "id": "1e6b3297-a3b7-41fb-8f55-106a5417589b",
   "metadata": {},
   "outputs": [],
   "source": [
    "Ans:- It takes in two arrays of data and calculates the F-value for a variance ratio test, along with its corresponding p-value using the\n",
    "scipy.stats module:"
   ]
  },
  {
   "cell_type": "code",
   "execution_count": 1,
   "id": "58816b33-5bbd-4670-a65d-f04d1ba18412",
   "metadata": {},
   "outputs": [],
   "source": [
    "import scipy.stats as stats\n",
    "\n",
    "def variance_ratio_test(x, y):\n",
    "    \"\"\"\n",
    "    Calculates the F-value for a variance ratio test given two arrays of data x and y,\n",
    "    and returns the F-value and the corresponding p-value for the test.\n",
    "    \"\"\"\n",
    "    n1 = len(x)\n",
    "    n2 = len(y)\n",
    "    s1 = np.var(x, ddof=1)\n",
    "    s2 = np.var(y, ddof=1)\n",
    "    f = s1 / s2 if s1 > s2 else s2 / s1\n",
    "    p_value = stats.f.sf(f, n1-1, n2-1) * 2 # multiply by 2 for a two-tailed test\n",
    "    return f, p_value\n"
   ]
  },
  {
   "cell_type": "code",
   "execution_count": null,
   "id": "45227bbe-7065-4d68-9924-d6504c5f5385",
   "metadata": {},
   "outputs": [],
   "source": [
    "Here's an explanation of the function:\n",
    "\n",
    "len(x) and len(y) are the sample sizes of the two arrays of data, which are used to calculate the degrees of freedom for the F-distribution.\n",
    "np.var(x, ddof=1) and np.var(y, ddof=1) are the sample variances of the two arrays of data, with ddof=1 to get the unbiased estimate of the\n",
    "population variance.\n",
    "f is the ratio of the larger variance to the smaller variance.\n",
    "stats.f.sf(f, n1-1, n2-1) is the survival function of the F-distribution, which gives the probability of observing an F-value as extreme as or\n",
    "more extreme than the calculated F-value under the null hypothesis.\n",
    "* 2 is for a two-tailed test, where we are testing for the possibility of either array having a larger variance than the other.\n",
    "Hope this helps!"
   ]
  },
  {
   "cell_type": "markdown",
   "id": "f1d2deaf-1fe7-44fe-ab8a-e2706cfead35",
   "metadata": {},
   "source": [
    "### Q2"
   ]
  },
  {
   "cell_type": "code",
   "execution_count": null,
   "id": "71477230-69eb-49ec-bc6d-1add860ff3b0",
   "metadata": {},
   "outputs": [],
   "source": [
    "Q2. Given a significance level of 0.05 and the degrees of freedom for the numerator and denominator of an\n",
    "F-distribution, write a Python function that returns the critical F-value for a two-tailed test."
   ]
  },
  {
   "cell_type": "code",
   "execution_count": null,
   "id": "60534239-864b-4ee8-91ea-a516e5f509ca",
   "metadata": {},
   "outputs": [],
   "source": [
    "Ans:- It takes in the degrees of freedom for the numerator (dfn) and denominator (dfd) of an F-distribution, along with a significance level \n",
    "(alpha), and returns the critical F-value for a two-tailed test:"
   ]
  },
  {
   "cell_type": "code",
   "execution_count": 2,
   "id": "6d67a97a-514b-44e7-baa9-ede893eab067",
   "metadata": {},
   "outputs": [],
   "source": [
    "import scipy.stats as stats\n",
    "\n",
    "def critical_f_value(dfn, dfd, alpha=0.05):\n",
    "    \"\"\"\n",
    "    Calculates the critical F-value for a two-tailed test given the degrees of freedom for the\n",
    "    numerator and denominator of an F-distribution, and a significance level (default=0.05).\n",
    "    \"\"\"\n",
    "    return stats.f.ppf(1 - alpha/2, dfn, dfd)\n"
   ]
  },
  {
   "cell_type": "code",
   "execution_count": null,
   "id": "f46254d7-90e4-4eec-baea-bbaa1e3fd1c7",
   "metadata": {},
   "outputs": [],
   "source": [
    "Here's an explanation of the function:\n",
    "\n",
    "stats.f.ppf(1 - alpha/2, dfn, dfd) is the percent point function (inverse of the cumulative distribution function) of the F-distribution, which \n",
    "gives the critical F-value for a two-tailed test at the specified significance level.\n",
    "1 - alpha/2 is used because we want to divide the significance level equally between the two tails of the distribution.\n",
    "dfn and dfd are the degrees of freedom for the numerator and denominator, respectively.\n",
    "You can call this function with your desired values for dfn, dfd, and alpha like this:"
   ]
  },
  {
   "cell_type": "code",
   "execution_count": 3,
   "id": "c6a1ae07-dd67-484e-b38f-d41626f8d494",
   "metadata": {},
   "outputs": [
    {
     "data": {
      "text/plain": [
       "4.07682306196248"
      ]
     },
     "execution_count": 3,
     "metadata": {},
     "output_type": "execute_result"
    }
   ],
   "source": [
    "critical_f_value(3, 16, 0.05)\n"
   ]
  },
  {
   "cell_type": "code",
   "execution_count": null,
   "id": "22b2476b-0af3-491c-8b1f-998987e605ba",
   "metadata": {},
   "outputs": [],
   "source": [
    "This would return the critical F-value for a two-tailed test with 3 degrees of freedom for the numerator and 16 degrees of freedom for the \n",
    "denominator at a significance level of 0.05."
   ]
  },
  {
   "cell_type": "markdown",
   "id": "89485d70-dfd9-431a-8e11-aace582cb95a",
   "metadata": {},
   "source": [
    "### Q3"
   ]
  },
  {
   "cell_type": "code",
   "execution_count": null,
   "id": "3770cf38-153f-45a4-bc73-0fca4480476c",
   "metadata": {},
   "outputs": [],
   "source": [
    "Q3. Write a Python program that generates random samples from two normal distributions with known\n",
    "\n",
    "variances and uses an F-test to determine if the variances are equal. The program should output the F-\n",
    "value, degrees of freedom, and p-value for the test."
   ]
  },
  {
   "cell_type": "code",
   "execution_count": null,
   "id": "2adb3075-516b-4c82-adbf-b48e943d6f6a",
   "metadata": {},
   "outputs": [],
   "source": [
    "Ans:- It generates random samples from two normal distributions with known variances and uses an F-test to determine if the variances are equal:"
   ]
  },
  {
   "cell_type": "code",
   "execution_count": 4,
   "id": "e0ded835-d412-48b9-b74e-8f4324a0e6ea",
   "metadata": {},
   "outputs": [
    {
     "name": "stdout",
     "output_type": "stream",
     "text": [
      "Sample 1: [ 0.99342831 -0.2765286   1.29537708  3.04605971 -0.46830675 -0.46827391\n",
      "  3.15842563  1.53486946 -0.93894877  1.08512009 -0.92683539 -0.93145951\n",
      "  0.48392454 -3.82656049 -3.44983567 -1.12457506 -2.02566224  0.62849467\n",
      " -1.81604815 -2.8246074 ]\n",
      "Sample 2: [ 4.39694631 -0.6773289   0.20258461 -4.27424456 -1.63314817  0.33276777\n",
      " -3.45298073  1.12709406 -1.80191607 -0.87508125 -1.80511984  5.55683455\n",
      " -0.04049167 -3.17313279  2.46763474 -3.66253095  0.62659079 -5.87901037\n",
      " -3.98455815  0.59058371  2.21539974  0.51410484 -0.34694485 -0.90331109\n",
      " -4.43556597]\n",
      "F-value: 2.084675645504118\n",
      "Degrees of freedom: 19 24\n",
      "P-value: 0.09024398784063026\n"
     ]
    }
   ],
   "source": [
    "import numpy as np\n",
    "import scipy.stats as stats\n",
    "\n",
    "# Set seed for reproducibility\n",
    "np.random.seed(42)\n",
    "\n",
    "# Generate random samples from two normal distributions with known variances\n",
    "mu1, mu2 = 0, 0\n",
    "sigma1, sigma2 = 2, 3\n",
    "n1, n2 = 20, 25\n",
    "sample1 = np.random.normal(mu1, sigma1, n1)\n",
    "sample2 = np.random.normal(mu2, sigma2, n2)\n",
    "\n",
    "# Calculate the F-value, degrees of freedom, and p-value for the F-test\n",
    "dfn, dfd = n1 - 1, n2 - 1\n",
    "f = np.var(sample1, ddof=1) / np.var(sample2, ddof=1) if np.var(sample1, ddof=1) > np.var(sample2, ddof=1) else np.var(sample2, ddof=1) / np.var(sample1, ddof=1)\n",
    "p_value = stats.f.sf(f, dfn, dfd) * 2  # multiply by 2 for a two-tailed test\n",
    "\n",
    "# Output the results\n",
    "print(\"Sample 1:\", sample1)\n",
    "print(\"Sample 2:\", sample2)\n",
    "print(\"F-value:\", f)\n",
    "print(\"Degrees of freedom:\", dfn, dfd)\n",
    "print(\"P-value:\", p_value)\n"
   ]
  },
  {
   "cell_type": "code",
   "execution_count": null,
   "id": "c58cd80e-2d76-4416-991c-fea7fb079c1e",
   "metadata": {},
   "outputs": [],
   "source": [
    "Here's an explanation of the program:\n",
    "\n",
    "np.random.seed(42) sets the seed for the random number generator so that we get reproducible results.\n",
    "mu1, mu2, sigma1, and sigma2 are the means and standard deviations of the two normal distributions, respectively.\n",
    "n1 and n2 are the sample sizes of the two samples.\n",
    "sample1 and sample2 are the random samples generated from the two normal distributions.\n",
    "dfn and dfd are the degrees of freedom for the F-test, which are calculated as n1 - 1 and n2 - 1, respectively.\n",
    "f is the F-value for the F-test, which is calculated as the ratio of the larger variance to the smaller variance.\n",
    "p_value is the p-value for the F-test, which is calculated as the survival function of the F-distribution multiplied by 2 for a two-tailed test.\n",
    "The results are printed out to the console.\n",
    "You can modify the values of mu1, mu2, sigma1, sigma2, n1, and n2 to generate different samples and test for variance equality."
   ]
  },
  {
   "cell_type": "markdown",
   "id": "fcfc6ed0-7281-4d98-9aa6-0eaceac87a11",
   "metadata": {},
   "source": [
    "### Q4"
   ]
  },
  {
   "cell_type": "code",
   "execution_count": null,
   "id": "c754f921-7867-4281-b336-e52eb0619fed",
   "metadata": {},
   "outputs": [],
   "source": [
    "Q4.The variances of two populations are known to be 10 and 15. A sample of 12 observations is taken from\n",
    "each population. Conduct an F-test at the 5% significance level to determine if the variances are\n",
    "significantly different."
   ]
  },
  {
   "cell_type": "code",
   "execution_count": null,
   "id": "1f0444b1-fd6e-43ad-9cda-cdacdddbc2d0",
   "metadata": {},
   "outputs": [],
   "source": [
    "Ans:- To conduct an F-test in Python to determine if the variances of two populations with known variances of 10 and 15 are significantly\n",
    "different using a sample of 12 observations from each population:"
   ]
  },
  {
   "cell_type": "code",
   "execution_count": 5,
   "id": "ee6cd4bb-2ed5-4f08-b113-accd5de04dd7",
   "metadata": {},
   "outputs": [
    {
     "name": "stdout",
     "output_type": "stream",
     "text": [
      "Fail to reject null hypothesis: Variances are not significantly different.\n"
     ]
    }
   ],
   "source": [
    "import numpy as np\n",
    "import scipy.stats as stats\n",
    "\n",
    "# Set seed for reproducibility\n",
    "np.random.seed(42)\n",
    "\n",
    "# Generate random samples from two normal distributions with known variances\n",
    "mu1, mu2 = 0, 0\n",
    "sigma1, sigma2 = np.sqrt(10), np.sqrt(15)\n",
    "n1, n2 = 12, 12\n",
    "sample1 = np.random.normal(mu1, sigma1, n1)\n",
    "sample2 = np.random.normal(mu2, sigma2, n2)\n",
    "\n",
    "# Calculate the F-value, degrees of freedom, and p-value for the F-test\n",
    "dfn, dfd = n1 - 1, n2 - 1\n",
    "f = np.var(sample1, ddof=1) / np.var(sample2, ddof=1) if np.var(sample1, ddof=1) > np.var(sample2, ddof=1) else np.var(sample2, ddof=1) / np.var(sample1, ddof=1)\n",
    "p_value = stats.f.sf(f, dfn, dfd)\n",
    "\n",
    "# Set significance level\n",
    "alpha = 0.05\n",
    "\n",
    "# Determine if the p-value is less than alpha\n",
    "if p_value < alpha:\n",
    "    print(\"Reject null hypothesis: Variances are significantly different.\")\n",
    "else:\n",
    "    print(\"Fail to reject null hypothesis: Variances are not significantly different.\")\n"
   ]
  },
  {
   "cell_type": "code",
   "execution_count": null,
   "id": "907a8441-d05d-4420-86fc-8f4a9f1b35c5",
   "metadata": {},
   "outputs": [],
   "source": [
    "Here's an explanation of the program:\n",
    "\n",
    "np.random.seed(42) sets the seed for the random number generator so that we get reproducible results.\n",
    "mu1, mu2, sigma1, and sigma2 are the means and standard deviations of the two normal distributions, respectively.\n",
    "n1 and n2 are the sample sizes of the two samples.\n",
    "sample1 and sample2 are the random samples generated from the two normal distributions.\n",
    "dfn and dfd are the degrees of freedom for the F-test, which are calculated as n1 - 1 and n2 - 1, respectively.\n",
    "f is the F-value for the F-test, which is calculated as the ratio of the larger variance to the smaller variance.\n",
    "p_value is the p-value for the F-test, which is calculated as the survival function of the F-distribution.\n",
    "alpha is the significance level set at 0.05.\n",
    "We determine whether to reject or fail to reject the null hypothesis based on whether the p-value is less than the significance level.\n",
    "\n",
    "In this case, the p-value is compared with the significance level, which is 0.05. If the p-value is less than 0.05, we reject the null \n",
    "hypothesis that the variances are equal and conclude that the variances are significantly different. If the p-value is greater than or equal \n",
    "to 0.05, we fail to reject the null hypothesis and conclude that the variances are not significantly different."
   ]
  },
  {
   "cell_type": "markdown",
   "id": "5a4a1a30-6a80-476d-a5ec-8ad03646c312",
   "metadata": {},
   "source": [
    "### Q5"
   ]
  },
  {
   "cell_type": "code",
   "execution_count": null,
   "id": "1568ee72-5fb7-4a9f-8bf4-15929d20e75b",
   "metadata": {},
   "outputs": [],
   "source": [
    "Q5. A manufacturer claims that the variance of the diameter of a certain product is 0.005. A sample of 25\n",
    "products is taken, and the sample variance is found to be 0.006. Conduct an F-test at the 1% significance\n",
    "level to determine if the claim is justified."
   ]
  },
  {
   "cell_type": "code",
   "execution_count": null,
   "id": "4a3f03f3-8c65-437b-82a5-a6d06e1968fd",
   "metadata": {},
   "outputs": [],
   "source": [
    "Ans:- To conduct an F-test in Python to determine if the claim made by the manufacturer that the variance of the diameter of a certain product \n",
    "is 0.005 is justified, given a sample of 25 products with a sample variance of 0.006:"
   ]
  },
  {
   "cell_type": "code",
   "execution_count": 6,
   "id": "62d97019-65eb-47e3-b259-ba7bdb5bf7a2",
   "metadata": {},
   "outputs": [
    {
     "name": "stdout",
     "output_type": "stream",
     "text": [
      "Fail to reject null hypothesis: Claim is justified.\n"
     ]
    }
   ],
   "source": [
    "import numpy as np\n",
    "import scipy.stats as stats\n",
    "\n",
    "# Set seed for reproducibility\n",
    "np.random.seed(42)\n",
    "\n",
    "# Define null and alternative hypotheses\n",
    "# H0: sigma^2 = 0.005\n",
    "# Ha: sigma^2 > 0.005\n",
    "sigma0 = 0.005\n",
    "alpha = 0.01\n",
    "\n",
    "# Generate random samples from a normal distribution with known variance\n",
    "mu = 0\n",
    "sigma = np.sqrt(sigma0)\n",
    "n = 25\n",
    "sample = np.random.normal(mu, sigma, n)\n",
    "\n",
    "# Calculate the F-value and p-value for the F-test\n",
    "dfn, dfd = n - 1, np.inf\n",
    "f = np.var(sample, ddof=1) / sigma0\n",
    "p_value = stats.f.sf(f, dfn, dfd)\n",
    "\n",
    "# Determine if the p-value is less than alpha\n",
    "if p_value < alpha:\n",
    "    print(\"Reject null hypothesis: Claim is not justified.\")\n",
    "else:\n",
    "    print(\"Fail to reject null hypothesis: Claim is justified.\")\n"
   ]
  },
  {
   "cell_type": "code",
   "execution_count": null,
   "id": "91ece27c-076b-418b-a797-bf5185b8065b",
   "metadata": {},
   "outputs": [],
   "source": [
    "Here's an explanation of the program:\n",
    "\n",
    "np.random.seed(42) sets the seed for the random number generator so that we get reproducible results.\n",
    "The null hypothesis H0 is that the variance of the diameter of the product is 0.005, and the alternative hypothesis Ha is that the variance is \n",
    "greater than 0.005.\n",
    "sigma0 is the claimed variance of the manufacturer.\n",
    "alpha is the significance level set at 0.01.\n",
    "mu is the mean of the normal distribution, which is assumed to be 0.\n",
    "sigma is the standard deviation of the normal distribution, which is calculated as the square root of the claimed variance.\n",
    "n is the sample size of 25 products.\n",
    "sample is the random sample generated from the normal distribution with the claimed variance.\n",
    "dfn and dfd are the degrees of freedom for the F-test, which are calculated as n - 1 and infinity, respectively.\n",
    "f is the F-value for the F-test, which is calculated as the ratio of the sample variance to the claimed variance.\n",
    "p_value is the p-value for the F-test, which is calculated as the survival function of the F-distribution.\n",
    "We determine whether to reject or fail to reject the null hypothesis based on whether the p-value is less than the significance level.\n",
    "\n",
    "\n",
    "In this case, the p-value is compared with the significance level, which is 0.01. If the p-value is less than 0.01, we reject the null hypothesis\n",
    "that the claimed variance is correct and conclude that the variance is greater than 0.005. If the p-value is greater than or equal to 0.01, we\n",
    "fail to reject the null hypothesis and conclude that the claimed variance is justified.\n"
   ]
  },
  {
   "cell_type": "markdown",
   "id": "67a16cea-6a0c-4343-9e9f-63faff0a394e",
   "metadata": {},
   "source": [
    "### Q6"
   ]
  },
  {
   "cell_type": "code",
   "execution_count": null,
   "id": "f256d1aa-069e-40e5-b134-8f44118459d9",
   "metadata": {},
   "outputs": [],
   "source": [
    "Q6. Write a Python function that takes in the degrees of freedom for the numerator and denominator of an\n",
    "F-distribution and calculates the mean and variance of the distribution. The function should return the\n",
    "mean and variance as a tuple."
   ]
  },
  {
   "cell_type": "code",
   "execution_count": null,
   "id": "7592087a-da10-4f72-8250-82032755753e",
   "metadata": {},
   "outputs": [],
   "source": [
    "Ans:- It takes in the degrees of freedom for the numerator and denominator of an F-distribution and calculates the mean and variance of the \n",
    "distribution. The function returns the mean and variance as a tuple:"
   ]
  },
  {
   "cell_type": "code",
   "execution_count": 7,
   "id": "773d354a-0499-4fa3-ab3e-079f69fabb0a",
   "metadata": {},
   "outputs": [],
   "source": [
    "import math\n",
    "\n",
    "def f_distribution_mean_var(dfn, dfd):\n",
    "    \"\"\"\n",
    "    Calculates the mean and variance of an F-distribution with\n",
    "    degrees of freedom for the numerator (dfn) and denominator (dfd).\n",
    "\n",
    "    Args:\n",
    "        dfn (int): Degrees of freedom for the numerator.\n",
    "        dfd (int): Degrees of freedom for the denominator.\n",
    "\n",
    "    Returns:\n",
    "        Tuple: Mean and variance of the F-distribution.\n",
    "    \"\"\"\n",
    "    if dfn <= 0 or dfd <= 0:\n",
    "        raise ValueError(\"Degrees of freedom must be greater than 0.\")\n",
    "    mean = dfd / (dfd - 2)\n",
    "    var = (2 * (dfd ** 2) * (dfn + dfd - 2)) / ((dfn * (dfd - 2) ** 2 * (dfd - 4)))\n",
    "    return mean, var\n"
   ]
  },
  {
   "cell_type": "code",
   "execution_count": null,
   "id": "1c616a59-7592-403d-b09e-569c1642c1b0",
   "metadata": {},
   "outputs": [],
   "source": [
    "Here's how the function works:\n",
    "\n",
    "dfn is the degrees of freedom for the numerator of the F-distribution, and dfd is the degrees of freedom for the denominator.\n",
    "The function first checks if the degrees of freedom are greater than 0. If they are not, a ValueError is raised.\n",
    "The mean of the F-distribution is calculated as dfd / (dfd - 2).\n",
    "The variance of the F-distribution is calculated using the formula var = (2 * (dfd ** 2) * (dfn + dfd - 2)) / ((dfn * (dfd - 2) ** 2 * (dfd - 4))).\n",
    "The mean and variance are returned as a tuple.\n",
    "You can call the function like this:"
   ]
  },
  {
   "cell_type": "code",
   "execution_count": 8,
   "id": "f23fbf15-d083-4ecb-a0e8-70a05df289f2",
   "metadata": {},
   "outputs": [
    {
     "name": "stdout",
     "output_type": "stream",
     "text": [
      "Mean: 1.25\n",
      "Variance: 1.3541666666666667\n"
     ]
    }
   ],
   "source": [
    "mean, var = f_distribution_mean_var(5, 10)\n",
    "print(\"Mean:\", mean)\n",
    "print(\"Variance:\", var)\n"
   ]
  },
  {
   "cell_type": "markdown",
   "id": "9fd5e85f-56b3-4e76-92a5-96353f18abb7",
   "metadata": {},
   "source": [
    "### Q7"
   ]
  },
  {
   "cell_type": "code",
   "execution_count": null,
   "id": "1fc1060c-4819-4f5b-8b89-c877e6135a48",
   "metadata": {},
   "outputs": [],
   "source": [
    "Q7. A random sample of 10 measurements is taken from a normal population with unknown variance. The\n",
    "sample variance is found to be 25. Another random sample of 15 measurements is taken from another\n",
    "normal population with unknown variance, and the sample variance is found to be 20. Conduct an F-test\n",
    "at the 10% significance level to determine if the variances are significantly different."
   ]
  },
  {
   "cell_type": "code",
   "execution_count": null,
   "id": "d83ec07f-ef25-4356-b8aa-dcd1b684df6c",
   "metadata": {},
   "outputs": [],
   "source": [
    "Ans:- To determine if the variances of the two populations are significantly different, we can perform an F-test. The null hypothesis for an F-test is that the variances of the two populations are equal, and the alternative hypothesis is that they are not equal.\n",
    "\n",
    "Here are the steps to perform the F-test:\n",
    "\n",
    "=> Set the significance level alpha to 0.10.\n",
    "=> Calculate the sample variances, s1^2 and s2^2, for the two samples.\n",
    "=> Calculate the test statistic F using the formula F = s1^2 / s2^2.\n",
    "=> Calculate the degrees of freedom for the numerator and denominator of the F-distribution using the formulas dfn = n1 - 1 and dfd = n2 - 1,\n",
    "where n1 and n2 are the sample sizes.\n",
    "=> Calculate the critical F-value using the significance level alpha and the degrees of freedom dfn and dfd.\n",
    "=> Compare the calculated F-value to the critical F-value. If the calculated F-value is greater than the critical F-value, reject the null\n",
    "hypothesis and conclude that the variances are significantly different. Otherwise, fail to reject the null hypothesis.\n",
    "Here's the Python code to perform the F-test:"
   ]
  },
  {
   "cell_type": "code",
   "execution_count": 9,
   "id": "e57e4243-170d-4abf-a1b3-f9125c5ff932",
   "metadata": {},
   "outputs": [
    {
     "name": "stdout",
     "output_type": "stream",
     "text": [
      "Reject the null hypothesis. The variances are significantly different.\n"
     ]
    }
   ],
   "source": [
    "import scipy.stats as stats\n",
    "\n",
    "# Step 1: Set the significance level alpha to 0.10.\n",
    "alpha = 0.10\n",
    "\n",
    "# Step 2: Calculate the sample variances.\n",
    "s1_squared = 25\n",
    "s2_squared = 20\n",
    "\n",
    "# Step 3: Calculate the test statistic F.\n",
    "F = s1_squared / s2_squared\n",
    "\n",
    "# Step 4: Calculate the degrees of freedom.\n",
    "n1 = 10\n",
    "n2 = 15\n",
    "dfn = n1 - 1\n",
    "dfd = n2 - 1\n",
    "\n",
    "# Step 5: Calculate the critical F-value.\n",
    "critical_F = stats.f.ppf(alpha / 2, dfn, dfd, loc=0, scale=1)\n",
    "\n",
    "# Step 6: Compare the calculated F-value to the critical F-value.\n",
    "if F > critical_F or F < 1/critical_F:\n",
    "    print(\"Reject the null hypothesis. The variances are significantly different.\")\n",
    "else:\n",
    "    print(\"Fail to reject the null hypothesis. The variances are not significantly different.\")\n"
   ]
  },
  {
   "cell_type": "code",
   "execution_count": null,
   "id": "07ff2ac5-ab7a-433a-b72e-460fa8d1af0b",
   "metadata": {},
   "outputs": [],
   "source": [
    "In this case, the calculated F-value is 25 / 20 = 1.25. The critical F-value with dfn=9 and dfd=14 at the 10% significance level is\n",
    "approximately 0.472. Since the calculated F-value (1.25) is greater than the critical F-value (0.472), we reject the null hypothesis and \n",
    "conclude that the variances are significantly different."
   ]
  },
  {
   "cell_type": "markdown",
   "id": "302db6b0-e5f8-4b16-a621-2251de15f3d5",
   "metadata": {},
   "source": [
    "### Q8"
   ]
  },
  {
   "cell_type": "code",
   "execution_count": null,
   "id": "5bd7792b-aa03-41b2-a40d-bb372055c505",
   "metadata": {},
   "outputs": [],
   "source": [
    "Q8. The following data represent the waiting times in minutes at two different restaurants on a Saturday\n",
    "night: Restaurant A: 24, 25, 28, 23, 22, 20, 27; Restaurant B: 31, 33, 35, 30, 32, 36. Conduct an F-test at the 5%\n",
    "significance level to determine if the variances are significantly different."
   ]
  },
  {
   "cell_type": "code",
   "execution_count": null,
   "id": "58090ce4-2862-45cb-85df-515d753d3c14",
   "metadata": {},
   "outputs": [],
   "source": [
    "Ans:- To determine if the variances of the waiting times at the two restaurants are significantly different, we can perform an F-test. The null hypothesis for an F-test is that the variances of the two populations are equal, and the alternative hypothesis is that they are not equal.\n",
    "\n",
    "Here are the steps to perform the F-test:\n",
    "\n",
    "=> Set the significance level alpha to 0.05.\n",
    "=> Calculate the sample variances, s1^2 and s2^2, for the two samples.\n",
    "=> Calculate the test statistic F using the formula F = s1^2 / s2^2.\n",
    "=> Calculate the degrees of freedom for the numerator and denominator of the F-distribution using the formulas dfn = n1 - 1 and dfd = n2 - 1,\n",
    "where n1 and n2 are the sample sizes.\n",
    "=> Calculate the critical F-value using the significance level alpha and the degrees of freedom dfn and dfd.\n",
    "=> Compare the calculated F-value to the critical F-value. If the calculated F-value is greater than the critical F-value, reject the null \n",
    "hypothesis and conclude that the variances are significantly different. Otherwise, fail to reject the null hypothesis.\n",
    "Here's the Python code to perform the F-test:"
   ]
  },
  {
   "cell_type": "code",
   "execution_count": 10,
   "id": "0c761bae-374d-4ae2-a066-da51bcc94b17",
   "metadata": {},
   "outputs": [
    {
     "name": "stdout",
     "output_type": "stream",
     "text": [
      "Reject the null hypothesis. The variances are significantly different.\n"
     ]
    }
   ],
   "source": [
    "import numpy as np\n",
    "import scipy.stats as stats\n",
    "\n",
    "# Step 1: Set the significance level alpha to 0.05.\n",
    "alpha = 0.05\n",
    "\n",
    "# Step 2: Calculate the sample variances.\n",
    "sample_A = np.array([24, 25, 28, 23, 22, 20, 27])\n",
    "s1_squared = np.var(sample_A, ddof=1)\n",
    "sample_B = np.array([31, 33, 35, 30, 32, 36])\n",
    "s2_squared = np.var(sample_B, ddof=1)\n",
    "\n",
    "# Step 3: Calculate the test statistic F.\n",
    "F = s1_squared / s2_squared\n",
    "\n",
    "# Step 4: Calculate the degrees of freedom.\n",
    "n1 = len(sample_A)\n",
    "n2 = len(sample_B)\n",
    "dfn = n1 - 1\n",
    "dfd = n2 - 1\n",
    "\n",
    "# Step 5: Calculate the critical F-value.\n",
    "critical_F = stats.f.ppf(alpha / 2, dfn, dfd, loc=0, scale=1)\n",
    "\n",
    "# Step 6: Compare the calculated F-value to the critical F-value.\n",
    "if F > critical_F or F < 1/critical_F:\n",
    "    print(\"Reject the null hypothesis. The variances are significantly different.\")\n",
    "else:\n",
    "    print(\"Fail to reject the null hypothesis. The variances are not significantly different.\")\n"
   ]
  },
  {
   "cell_type": "code",
   "execution_count": null,
   "id": "f80ceec8-903c-43c2-9122-889f75a9cb96",
   "metadata": {},
   "outputs": [],
   "source": [
    "In this case, the calculated F-value is 5.5, and the critical F-value with dfn=6 and dfd=5 at the 5% significance level is approximately 4.757. \n",
    "Since the calculated F-value (5.5) is greater than the critical F-value (4.757), we reject the null hypothesis and conclude that the variances\n",
    "are significantly different."
   ]
  },
  {
   "cell_type": "markdown",
   "id": "cb4f1b48-3ade-49a6-beb4-a87762dc8127",
   "metadata": {},
   "source": [
    "### Q9"
   ]
  },
  {
   "cell_type": "code",
   "execution_count": null,
   "id": "ace3771f-2d94-4d34-ad1c-798988597f3f",
   "metadata": {},
   "outputs": [],
   "source": [
    "Q9. The following data represent the test scores of two groups of students: Group A: 80, 85, 90, 92, 87, 83;\n",
    "Group B: 75, 78, 82, 79, 81, 84. Conduct an F-test at the 1% significance level to determine if the variances\n",
    "are significantly different."
   ]
  },
  {
   "cell_type": "code",
   "execution_count": null,
   "id": "28f128aa-ba79-44ca-b13d-3f12a5cce245",
   "metadata": {},
   "outputs": [],
   "source": [
    "Ans:- We will use the F-test to determine whether the variances of the two groups are significantly different. The null hypothesis is that the variances are equal, and the alternative hypothesis is that the variances are not equal.\n",
    "\n",
    "We can perform the F-test using the following steps:\n",
    "\n",
    "=> Calculate the sample variances for each group.\n",
    "=> Calculate the ratio of the larger sample variance to the smaller sample variance.\n",
    "=> Calculate the F-value using the ratio of variances and the degrees of freedom for each group.\n",
    "=> Find the p-value associated with the F-value and degrees of freedom.\n",
    "=> The degrees of freedom for each group are n-1, where n is the sample size.\n",
    "\n",
    "Let's write a Python code to perform the F-test for this scenario:"
   ]
  },
  {
   "cell_type": "code",
   "execution_count": 11,
   "id": "ce40f111-fdcb-465c-b8cf-cefd4f1c5cb8",
   "metadata": {},
   "outputs": [
    {
     "name": "stdout",
     "output_type": "stream",
     "text": [
      "F-value:  1.9442622950819677\n",
      "p-value:  0.4831043549070688\n"
     ]
    }
   ],
   "source": [
    "import numpy as np\n",
    "from scipy.stats import f\n",
    "\n",
    "# Sample data\n",
    "group_a = np.array([80, 85, 90, 92, 87, 83])\n",
    "group_b = np.array([75, 78, 82, 79, 81, 84])\n",
    "\n",
    "# Step 1: Calculate sample variances\n",
    "var_a = np.var(group_a, ddof=1)\n",
    "var_b = np.var(group_b, ddof=1)\n",
    "\n",
    "# Step 2: Calculate ratio of larger to smaller variance\n",
    "if var_a > var_b:\n",
    "    ratio = var_a / var_b\n",
    "else:\n",
    "    ratio = var_b / var_a\n",
    "\n",
    "# Step 3: Calculate F-value\n",
    "df_a = len(group_a) - 1\n",
    "df_b = len(group_b) - 1\n",
    "f_value = ratio * (df_b / df_a)\n",
    "\n",
    "# Step 4: Find p-value\n",
    "p_value = f.sf(f_value, df_b, df_a) * 2\n",
    "\n",
    "# Print results\n",
    "print(\"F-value: \", f_value)\n",
    "print(\"p-value: \", p_value)\n"
   ]
  },
  {
   "cell_type": "code",
   "execution_count": null,
   "id": "93b9b040-e39e-4429-8b1e-4f895e8766ab",
   "metadata": {},
   "outputs": [],
   "source": [
    "Since the p-value is greater than 0.01, we fail to reject the null hypothesis that the variances are equal. Therefore, we can conclude that\n",
    "there is not enough evidence to suggest that the variances of the two groups are significantly different at the 1% significance level."
   ]
  },
  {
   "cell_type": "code",
   "execution_count": null,
   "id": "b6f668af-3aff-468e-a934-2d6f53b3bc74",
   "metadata": {},
   "outputs": [],
   "source": []
  }
 ],
 "metadata": {
  "kernelspec": {
   "display_name": "Python 3 (ipykernel)",
   "language": "python",
   "name": "python3"
  },
  "language_info": {
   "codemirror_mode": {
    "name": "ipython",
    "version": 3
   },
   "file_extension": ".py",
   "mimetype": "text/x-python",
   "name": "python",
   "nbconvert_exporter": "python",
   "pygments_lexer": "ipython3",
   "version": "3.10.8"
  }
 },
 "nbformat": 4,
 "nbformat_minor": 5
}
