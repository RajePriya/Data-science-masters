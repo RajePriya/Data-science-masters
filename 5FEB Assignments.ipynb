{
 "cells": [
  {
   "cell_type": "markdown",
   "id": "3f8f8ce8-2173-4088-a03d-326ef796b1c7",
   "metadata": {},
   "source": [
    "## 5FEB\n",
    "### Assignment"
   ]
  },
  {
   "cell_type": "code",
   "execution_count": 1,
   "id": "d617e7a3-3cba-47dd-bf28-f794390ce110",
   "metadata": {},
   "outputs": [],
   "source": [
    "# Q1. Explain Class and Object with respect to Object-Oriented Programming. Give a suitable example."
   ]
  },
  {
   "cell_type": "code",
   "execution_count": null,
   "id": "87af1715-4555-4e6b-895e-18abce782f4d",
   "metadata": {},
   "outputs": [],
   "source": [
    "Ans:- Class: A class is a template or blueprint from which objects are created. It serves as a foundation for creating and defining objects, and for outlining the properties (attributes) and methods (functions) of an object.\n",
    "\n",
    "Object: An object is an instance of a class. It is something that has been created from a class, and it contains all the state and behavior defined by the class.\n"
   ]
  },
  {
   "cell_type": "code",
   "execution_count": null,
   "id": "1aeb5083-b945-40aa-8e5d-3082a60b8e3c",
   "metadata": {},
   "outputs": [],
   "source": [
    "Example: A class can be created to represent a car. This class would contain properties such as the make, model, color, etc. and methods such as start, stop, accelerate, etc. An object would be an actual car, such as a Ford Mustang, with a certain color, engine, etc."
   ]
  },
  {
   "cell_type": "markdown",
   "id": "826dcece-00e1-4295-8d2b-360d6bcd1d36",
   "metadata": {},
   "source": [
    "### Q2"
   ]
  },
  {
   "cell_type": "code",
   "execution_count": 2,
   "id": "680da8b3-31c8-4504-88fc-9bbb227a7ba6",
   "metadata": {},
   "outputs": [],
   "source": [
    "# Q2 Name the four pillars of OOPs."
   ]
  },
  {
   "cell_type": "code",
   "execution_count": null,
   "id": "dd943093-364d-42ef-971e-e684d4c40ec4",
   "metadata": {},
   "outputs": [],
   "source": [
    "1. Abstraction\n",
    "2. Encapsulation\n",
    "3. Inheritance\n",
    "4. Polymorphism"
   ]
  },
  {
   "cell_type": "markdown",
   "id": "24533404-8b95-443a-9da5-b19b8d4c3a3a",
   "metadata": {},
   "source": [
    "### Q3"
   ]
  },
  {
   "cell_type": "code",
   "execution_count": 3,
   "id": "d1be0c13-2f46-492e-9747-bd9b9b36145d",
   "metadata": {},
   "outputs": [],
   "source": [
    "# Q3.Explain why the __init__() function is used. Give a suitable example."
   ]
  },
  {
   "cell_type": "code",
   "execution_count": null,
   "id": "b216085c-11aa-4770-a149-8a9ecd12fa53",
   "metadata": {},
   "outputs": [],
   "source": [
    "Ans:- The __init__() function is used to initialize a class. It is essential to define the __init__() function when creating a class, as this is the constructor of the class. This function is automatically called whenever an object of the class is created.\n",
    "\n",
    "For example, if we create a class Employee, we could use the __init__() function to assign attributes such as name, salary, and job title to the object created.\n"
   ]
  },
  {
   "cell_type": "code",
   "execution_count": 5,
   "id": "372f2510-a93e-49bd-9809-b449c6a02cc9",
   "metadata": {},
   "outputs": [],
   "source": [
    "class Person: \n",
    "    def __init__(self, name, age, height):\n",
    "        self.name = name\n",
    "        self.age = age\n",
    "        self.height = height"
   ]
  },
  {
   "cell_type": "code",
   "execution_count": 6,
   "id": "71584f71-a6af-470e-a157-d1faddaa6238",
   "metadata": {},
   "outputs": [],
   "source": [
    "person1 = Person(\"John\", 24, 180) "
   ]
  },
  {
   "cell_type": "code",
   "execution_count": 7,
   "id": "f725d790-708e-4e5a-ab47-eb89411a7b50",
   "metadata": {},
   "outputs": [
    {
     "name": "stdout",
     "output_type": "stream",
     "text": [
      "Name: John\n",
      "Age: 24\n",
      "Height: 180\n"
     ]
    }
   ],
   "source": [
    "print(\"Name:\", person1.name) \n",
    "print(\"Age:\", person1.age) \n",
    "print(\"Height:\", person1.height)"
   ]
  },
  {
   "cell_type": "markdown",
   "id": "8f57cb25-a672-45dd-b8e4-624a637bf912",
   "metadata": {},
   "source": [
    "### Q4"
   ]
  },
  {
   "cell_type": "code",
   "execution_count": null,
   "id": "d7f52f6c-70b6-47ce-8830-3cba203607a3",
   "metadata": {},
   "outputs": [],
   "source": [
    "Q4. Why self is used in OOPs?"
   ]
  },
  {
   "cell_type": "code",
   "execution_count": null,
   "id": "0cf78dd8-a2a8-44a1-b5f3-9b1f8620fad4",
   "metadata": {},
   "outputs": [],
   "source": [
    "Ans:- Self is used in OOPs to refer to the current instance of the class. It helps to distinguish between the class variables and instance variables. It also helps to access the instance variables and methods of a class from inside the class."
   ]
  },
  {
   "cell_type": "markdown",
   "id": "039af316-4522-4554-baad-ebb340e4a754",
   "metadata": {},
   "source": [
    "### Q5"
   ]
  },
  {
   "cell_type": "code",
   "execution_count": null,
   "id": "272593bb-e1c7-45b6-80e3-f4bda75c49c6",
   "metadata": {},
   "outputs": [],
   "source": [
    "# Q5. What is inheritance? Give an example for each type of inheritance."
   ]
  },
  {
   "cell_type": "code",
   "execution_count": null,
   "id": "a0b81ed2-062c-4982-bf96-a7b16594fb57",
   "metadata": {},
   "outputs": [],
   "source": [
    "Ans:- Inheritance is the process of passing on properties, characteristics or traits from one object to another. It is a key concept in object-oriented programming (OOP).\n"
   ]
  },
  {
   "cell_type": "code",
   "execution_count": null,
   "id": "2e5683e1-5f21-4ce2-87df-95da8dafad8a",
   "metadata": {},
   "outputs": [],
   "source": [
    "• Single inheritance: A derived class (child class) inherits from one base class (parent class). For example, a Human class may inherit from a Mammal class."
   ]
  },
  {
   "cell_type": "code",
   "execution_count": null,
   "id": "b7813cc8-1a4b-470a-8e4b-4ae614724f94",
   "metadata": {},
   "outputs": [],
   "source": [
    "• Multiple inheritance: A derived class inherits from multiple base classes. For example, a Scientist class may inherit from both a Human class and a Professional class. \n"
   ]
  },
  {
   "cell_type": "code",
   "execution_count": null,
   "id": "1d4f32d3-e434-4baa-9c2e-de05785b520a",
   "metadata": {},
   "outputs": [],
   "source": [
    "• Hierarchical inheritance: A derived class inherits from more than one base class, but the base classes share a common ancestor. For example, a Cat class may inherit from both a Mammal class and a Carnivore class, both of which inherit from an Animal class."
   ]
  },
  {
   "cell_type": "code",
   "execution_count": null,
   "id": "6ddb5e07-295b-4c17-9c61-4e02a8aee1c4",
   "metadata": {},
   "outputs": [],
   "source": [
    "• Hybrid inheritance: A derived class inherits from multiple base classes that may have different hierarchies. For example, a Manager class may inherit from both an Employee class and a Customer class."
   ]
  },
  {
   "cell_type": "code",
   "execution_count": null,
   "id": "04df0dca-dedf-457f-98e7-4e371cfa8b7e",
   "metadata": {},
   "outputs": [],
   "source": []
  },
  {
   "cell_type": "code",
   "execution_count": null,
   "id": "2440b96f-7668-48f9-89f9-fe068badc810",
   "metadata": {},
   "outputs": [],
   "source": []
  }
 ],
 "metadata": {
  "kernelspec": {
   "display_name": "Python 3 (ipykernel)",
   "language": "python",
   "name": "python3"
  },
  "language_info": {
   "codemirror_mode": {
    "name": "ipython",
    "version": 3
   },
   "file_extension": ".py",
   "mimetype": "text/x-python",
   "name": "python",
   "nbconvert_exporter": "python",
   "pygments_lexer": "ipython3",
   "version": "3.10.8"
  }
 },
 "nbformat": 4,
 "nbformat_minor": 5
}
