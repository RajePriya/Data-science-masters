{
 "cells": [
  {
   "cell_type": "markdown",
   "id": "357b4bef-9525-4c46-87cb-86a1dfad9550",
   "metadata": {},
   "source": [
    "## 20FEB\n",
    "### ASSIGNEMT"
   ]
  },
  {
   "cell_type": "markdown",
   "id": "208b2013-f261-49e5-9ea6-27535b003063",
   "metadata": {},
   "source": [
    "### Q1"
   ]
  },
  {
   "cell_type": "code",
   "execution_count": null,
   "id": "5b8da894-50d9-46c5-bdbd-d92b2517ddc8",
   "metadata": {},
   "outputs": [],
   "source": [
    "Q1. Explain GET and POST methods."
   ]
  },
  {
   "cell_type": "code",
   "execution_count": null,
   "id": "b6ab9883-6706-4abd-971b-563f7336d57d",
   "metadata": {},
   "outputs": [],
   "source": [
    "Ans:- GET and POST are HTTP methods used to send data between the client (e.g., a web browser) and the server.\n",
    "\n",
    "GET is a method used to request data from the server. When a client sends a GET request, the server responds with\n",
    "the requested data, which is usually contained in the body of the response. The data may be in the form of an \n",
    "HTML page, an image, a video, or any other type of file. GET requests are often used to retrieve data that is\n",
    "publicly available, such as a web page, an image or a video.\n",
    "\n",
    "POST is a method used to send data to the server to be processed. When a client sends a POST request, the data is \n",
    "sent in the body of the request, and the server responds with a message indicating whether the data was processed\n",
    "successfully. POST requests are often used to submit data to a web application, such as a login form, a contact\n",
    "form, or a search form.\n",
    "\n",
    "In summary, GET is used to retrieve data from the server, while POST is used to submit data to the server for\n",
    "processing."
   ]
  },
  {
   "cell_type": "markdown",
   "id": "c0fd9cda-e8ec-4449-bece-ffae9a832dfb",
   "metadata": {},
   "source": [
    "### Q2"
   ]
  },
  {
   "cell_type": "code",
   "execution_count": null,
   "id": "47c8d503-356e-4a10-baf5-1e2d09175e69",
   "metadata": {},
   "outputs": [],
   "source": [
    "Q2. Why is request used in Flask?"
   ]
  },
  {
   "cell_type": "code",
   "execution_count": null,
   "id": "6fc64c4c-2056-4d74-98db-847b58daf52b",
   "metadata": {},
   "outputs": [],
   "source": [
    "Ans:- In Flask, the request object is used to access incoming HTTP request data from a client. The request object\n",
    "is a global object that contains data related to the current HTTP request such as the headers, form data, URL \n",
    "parameters, and more. The request object can be used to retrieve and process this data, and then generate an \n",
    "appropriate response.\n",
    "\n",
    "Using the request object, Flask can process incoming data from different types of requests such as GET, POST, PUT,\n",
    "DELETE, and more. This data can be processed and used to generate dynamic content and responses for the client.\n",
    "\n",
    "For example, if a user submits a form on a web page, the request object can be used to retrieve the form data and\n",
    "process it to generate a response to the client. Similarly, if a user makes an API request to the Flask \n",
    "application, the request object can be used to retrieve the relevant data and return a response."
   ]
  },
  {
   "cell_type": "markdown",
   "id": "1fc9a87f-813b-43f7-8dda-29cde22aa543",
   "metadata": {},
   "source": [
    "### Q3"
   ]
  },
  {
   "cell_type": "code",
   "execution_count": null,
   "id": "75de29c0-0bca-48e5-99fd-b6dbda73b382",
   "metadata": {},
   "outputs": [],
   "source": [
    "Q3. Why is redirect() used in Flask?"
   ]
  },
  {
   "cell_type": "code",
   "execution_count": null,
   "id": "fae19d14-92c0-4091-91c8-42788c7ad7eb",
   "metadata": {},
   "outputs": [],
   "source": [
    "Ans:- In Flask, redirect() is used to redirect the user to a different URL. It is often used after the user has\n",
    "submitted a form, for example, to redirect the user back to the main page or to a page that shows the results of \n",
    "their form submission.\n",
    "\n",
    "The redirect() function is part of the Flask helpers module, and its usage is as follows:"
   ]
  },
  {
   "cell_type": "code",
   "execution_count": null,
   "id": "3f47a99c-50af-4965-a41b-f592db0683f9",
   "metadata": {},
   "outputs": [],
   "source": [
    "from flask import redirect, url_for\n",
    "\n",
    "@app.route('/')\n",
    "def index():\n",
    "    return redirect(url_for('login'))\n"
   ]
  },
  {
   "cell_type": "code",
   "execution_count": null,
   "id": "35fc81cd-8b7a-4019-8991-fca1ae91d679",
   "metadata": {},
   "outputs": [],
   "source": [
    "In this example, the redirect() function is used to redirect the user to the login function, which has been given \n",
    "a URL using the url_for() function."
   ]
  },
  {
   "cell_type": "markdown",
   "id": "911f0807-d1f2-48fa-8e65-eb8fef01761b",
   "metadata": {},
   "source": [
    "### Q4"
   ]
  },
  {
   "cell_type": "code",
   "execution_count": null,
   "id": "ff21f43f-d097-4d86-aded-0b9d63c62ea1",
   "metadata": {},
   "outputs": [],
   "source": [
    "Q4. What are templates in Flask? Why is the render_template() function used?"
   ]
  },
  {
   "cell_type": "code",
   "execution_count": null,
   "id": "d9b2453e-9f68-418a-b4eb-b684123ebbd3",
   "metadata": {},
   "outputs": [],
   "source": [
    "Ans:- Templates in Flask are used to generate HTML output from the Flask application. They allow developers to \n",
    "separate the business logic of the application from the presentation layer. Templates contain placeholders for \n",
    "dynamic content, which is populated by the Flask application at runtime.\n",
    "\n",
    "The render_template() function is used to render a specified template with the given context. The function takes \n",
    "the name of the template as its first argument and any additional arguments are treated as variables to be passed \n",
    "to the template. The function searches for the specified template in the templates folder located in the same \n",
    "directory as the application code.\n",
    "\n",
    "For example, consider a Flask application with a route that renders a template:"
   ]
  },
  {
   "cell_type": "code",
   "execution_count": null,
   "id": "a779f7b4-6acb-438e-9f87-c5bf03dbf660",
   "metadata": {},
   "outputs": [],
   "source": [
    "from flask import Flask, render_template\n",
    "\n",
    "app = Flask(__name__)\n",
    "\n",
    "@app.route('/')\n",
    "def index():\n",
    "    return render_template('index.html', name='John')"
   ]
  },
  {
   "cell_type": "code",
   "execution_count": null,
   "id": "63b3ab26-0de4-4825-b45d-142c85ad3446",
   "metadata": {},
   "outputs": [],
   "source": [
    "In this example, when the user navigates to the root URL, Flask will render the index.html template with the \n",
    "context variable name set to 'John'. The resulting HTML will be sent to the user's web browser."
   ]
  },
  {
   "cell_type": "markdown",
   "id": "eae68281-d274-4096-bef3-9ce85b460a75",
   "metadata": {},
   "source": [
    "### Q5"
   ]
  },
  {
   "cell_type": "code",
   "execution_count": null,
   "id": "b1c56523-f372-4245-9822-b18e2ecf54e8",
   "metadata": {},
   "outputs": [],
   "source": [
    "Q5. Create a simple API. Use Postman to test it. Attach the screenshot of the output in the Jupyter Notebook."
   ]
  },
  {
   "cell_type": "code",
   "execution_count": null,
   "id": "6f220bd5-6747-403a-975c-7f0d2f7a15ca",
   "metadata": {},
   "outputs": [],
   "source": [
    "Ans:- an example of how to create a simple API in Python using Flask."
   ]
  },
  {
   "cell_type": "code",
   "execution_count": null,
   "id": "4c8fa250-cd64-4ee2-87a8-73d198a393af",
   "metadata": {},
   "outputs": [],
   "source": [
    "from flask import Flask, jsonify, request\n",
    "\n",
    "app = Flask(__name__)\n",
    "\n",
    "@app.route('/api', methods=['GET'])\n",
    "def get_data():\n",
    "    data = {\n",
    "        'id': 1,\n",
    "        'name': 'John Doe',\n",
    "        'email': 'johndoe@example.com'\n",
    "    }\n",
    "    return jsonify(data)\n",
    "\n",
    "if __name__ == '__main__':\n",
    "    app.run(debug=True)\n"
   ]
  },
  {
   "cell_type": "code",
   "execution_count": null,
   "id": "2b44b096-8b16-422b-8793-22a80aa7f44f",
   "metadata": {},
   "outputs": [],
   "source": [
    "In this example, we define a route '/api' with the HTTP method 'GET' to return a JSON object containing some data.\n",
    "We use the jsonify() function from Flask to return a JSON response.\n",
    "\n",
    "To test this API, you can use a tool like Postman to send a GET request to the URL http://localhost:5000/api. You\n",
    "should see a JSON response with the data we defined in the get_data() function.\n",
    "\n",
    "Here is a sample output from Postman:"
   ]
  },
  {
   "cell_type": "code",
   "execution_count": null,
   "id": "996056ac-f8ce-4733-bd1b-5d0b63218a00",
   "metadata": {},
   "outputs": [],
   "source": []
  }
 ],
 "metadata": {
  "kernelspec": {
   "display_name": "Python 3 (ipykernel)",
   "language": "python",
   "name": "python3"
  },
  "language_info": {
   "codemirror_mode": {
    "name": "ipython",
    "version": 3
   },
   "file_extension": ".py",
   "mimetype": "text/x-python",
   "name": "python",
   "nbconvert_exporter": "python",
   "pygments_lexer": "ipython3",
   "version": "3.10.8"
  }
 },
 "nbformat": 4,
 "nbformat_minor": 5
}
