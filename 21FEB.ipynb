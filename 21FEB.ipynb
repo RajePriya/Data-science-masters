{
 "cells": [
  {
   "cell_type": "markdown",
   "id": "4d029cc6-6b67-4929-a447-fbe4d1f697a9",
   "metadata": {},
   "source": [
    "### 21FEB\n",
    "#### ASSIGNMENT"
   ]
  },
  {
   "cell_type": "markdown",
   "id": "a8ed7ca1-164a-4f0d-980b-86467a9b6a83",
   "metadata": {},
   "source": [
    "### Q1"
   ]
  },
  {
   "cell_type": "code",
   "execution_count": null,
   "id": "c69e640b-f92e-4da6-8966-16f5ce714aa3",
   "metadata": {},
   "outputs": [],
   "source": [
    "Q1. What is Web Scraping? Why is it Used? Give three areas where Web Scraping is used to get data."
   ]
  },
  {
   "cell_type": "code",
   "execution_count": null,
   "id": "9d57438d-e954-4a4a-8b0d-2bf78e7f42e3",
   "metadata": {},
   "outputs": [],
   "source": [
    "Ans:- Web scraping is the automated process of extracting data from websites. It involves using software tools to gather\n",
    "information from web pages and store it in a structured format, such as a spreadsheet or a database. Web scraping can be\n",
    "done manually, but it is most often performed using automated software tools called web scrapers or crawlers.\n",
    "\n",
    "Web scraping is used for a variety of purposes, such as:\n",
    "\n",
    "=> Business intelligence: Companies use web scraping to gather data on their competitors, track prices of products, monitor\n",
    "customer reviews, and analyze market trends.\n",
    "\n",
    "=> Research and analysis: Researchers use web scraping to collect data for academic research, opinion polls, and public \n",
    "opinion surveys. Analysts use web scraping to gather data for financial models, market analysis, and trend analysis.\n",
    "\n",
    "=> Marketing and advertising: Marketers use web scraping to collect data on consumer behavior, identify potential leads, \n",
    "and monitor the online presence of their brand."
   ]
  },
  {
   "cell_type": "code",
   "execution_count": null,
   "id": "cbd6fc21-1071-4636-a466-7a1e6dd8dc3a",
   "metadata": {},
   "outputs": [],
   "source": [
    "Three areas where web scraping is used to get data are:\n",
    "\n",
    "=> E-commerce: Web scraping is commonly used by e-commerce websites to monitor competitor pricing, track product \n",
    "availability, and gather customer reviews.\n",
    "\n",
    "=> Social media: Web scraping is used to gather data on social media platforms such as Facebook, Twitter, and Instagram. \n",
    "This data is used by marketers to monitor brand reputation, track customer engagement, and identify influencers.\n",
    "\n",
    "=> Job market: Web scraping is used by job aggregators to gather job listings from various websites, making it easier for\n",
    "job seekers to find opportunities. This data is also used by recruiters to identify potential candidates for job openings."
   ]
  },
  {
   "cell_type": "markdown",
   "id": "ba24e40a-bc98-447d-a560-583d99eec72f",
   "metadata": {},
   "source": [
    "### Q2"
   ]
  },
  {
   "cell_type": "code",
   "execution_count": null,
   "id": "5cd1cc32-a7ab-4e34-a858-3b17619d3d55",
   "metadata": {},
   "outputs": [],
   "source": [
    "Q2. What are the different methods used for Web Scraping?"
   ]
  },
  {
   "cell_type": "code",
   "execution_count": null,
   "id": "f6f115ee-ebd1-4b01-8673-87cb72ba0322",
   "metadata": {},
   "outputs": [],
   "source": [
    "Ans:- There are several methods used for web scraping, including:\n",
    "\n",
    "=> Manual scraping: This involves manually copying and pasting data from web pages into a spreadsheet or database. \n",
    "This method is time-consuming and labor-intensive, but it can be useful for small-scale scraping projects.\n",
    "\n",
    "=> XPath: This is a query language used to extract data from XML documents, including HTML. It allows you to select specific\n",
    "elements on a web page by navigating its HTML structure, and extract the text or attributes associated with those elements.\n",
    "\n",
    "=> Regular expressions: Regular expressions are patterns used to match and extract specific text from a string. They can be \n",
    "used to extract data from HTML tags or other structured data on a web page.\n",
    "\n",
    "=> DOM parsing: The Document Object Model (DOM) is a programming interface that allows you to manipulate HTML and XML \n",
    "documents. By using DOM parsing libraries such as BeautifulSoup or lxml in Python, you can extract data from web pages\n",
    "by navigating the HTML structure and selecting specific elements.\n",
    "\n",
    "=> APIs: Some websites provide APIs (Application Programming Interfaces) that allow developers to access data in a \n",
    "structured format. APIs can provide a more reliable and efficient way of extracting data from websites, as they are designed\n",
    "for programmatic access.\n",
    "\n",
    "=> Headless browsing: This involves using a headless browser like PhantomJS or Selenium to simulate a user interacting with\n",
    "a website. By programmatically navigating a website and interacting with its elements, you can extract data that would be \n",
    "difficult or impossible to obtain using other methods.\n",
    "\n",
    "It's important to note that while web scraping can be a useful tool, it is important to respect the terms of service and \n",
    "legal restrictions of the websites you are scraping, and to obtain permission if necessary. Some websites may have measures\n",
    "in place to prevent scraping, and scraping large amounts of data can put a strain on their servers and potentially harm \n",
    "their performance."
   ]
  },
  {
   "cell_type": "markdown",
   "id": "e2bb1b72-821d-495a-9220-b28f78965959",
   "metadata": {},
   "source": [
    "### Q3"
   ]
  },
  {
   "cell_type": "code",
   "execution_count": null,
   "id": "93489658-9ae7-45e4-a360-1a2a723c958e",
   "metadata": {},
   "outputs": [],
   "source": [
    "Q3. What is Beautiful Soup? Why is it used?"
   ]
  },
  {
   "cell_type": "code",
   "execution_count": null,
   "id": "d36ccad5-5c4a-4c8e-9fa4-8efa1baa9823",
   "metadata": {},
   "outputs": [],
   "source": [
    "Ans:- Beautiful Soup is a Python library that is commonly used for web scraping. It is designed to parse HTML and XML documents and extract information from them in a structured way. Beautiful Soup provides a simple and intuitive way to navigate and search the HTML tree structure of a web page, making it a powerful tool for data extraction.\n",
    "\n",
    "=> Beautiful Soup is used for a variety of web scraping tasks, such as:\n",
    "\n",
    "=> Extracting specific data from web pages: Beautiful Soup allows you to select specific elements on a web page, such as \n",
    "HTML tags or CSS classes, and extract the text or attributes associated with those elements.\n",
    "\n",
    "=> Parsing HTML and XML documents: Beautiful Soup can handle poorly formatted HTML or XML documents and make sense of them,\n",
    "making it easier to extract the data you need.\n",
    "\n",
    "=> Navigating complex HTML structures: Beautiful Soup provides a simple and intuitive way to navigate the HTML tree \n",
    "structure of a web page, even if it has a complex hierarchy of nested elements.\n",
    "\n",
    "=> Cleaning up scraped data: Beautiful Soup can be used to clean up the extracted data by removing unwanted tags, entities,\n",
    "or formatting.\n",
    "\n",
    "Overall, Beautiful Soup is a powerful tool for web scraping and can help automate the process of extracting data from web \n",
    "pages. Its flexibility and ease of use make it a popular choice among developers and data scientists who need to extract\n",
    "and analyze data from the web."
   ]
  },
  {
   "cell_type": "markdown",
   "id": "f4ce8a1a-ae36-4a2a-a751-20397f09686d",
   "metadata": {},
   "source": [
    "### Q4"
   ]
  },
  {
   "cell_type": "code",
   "execution_count": null,
   "id": "3dc9eefe-5ce5-41a6-8c5a-d83ec6ba475c",
   "metadata": {},
   "outputs": [],
   "source": [
    "Q4. Why is flask used in this Web Scraping project?"
   ]
  },
  {
   "cell_type": "code",
   "execution_count": null,
   "id": "54881a74-acee-471a-b968-c1aa574a0417",
   "metadata": {},
   "outputs": [],
   "source": [
    "Ans:- Flask is a Python web framework that is commonly used to build web applications. In the context of a web scraping project, Flask can be used to create a web interface that allows users to interact with the web scraper and view the scraped data.\n",
    "\n",
    "Here are some reasons why Flask might be used in a web scraping project:\n",
    "\n",
    "=> Web interface: Flask can be used to create a web interface for the web scraper, allowing users to enter search terms or \n",
    "URLs, view the progress of the scraping process, and download the scraped data.\n",
    "\n",
    "=> Data visualization: Flask can be used to display the scraped data in a visually appealing way, such as through charts or\n",
    "graphs. This can help users better understand the data and identify patterns or trends.\n",
    "\n",
    "=> Integration with other tools: Flask can be easily integrated with other Python libraries and tools, such as Beautiful\n",
    "Soup for web scraping or Pandas for data analysis.\n",
    "\n",
    "=> Scalability: Flask is a lightweight and scalable framework that can handle large amounts of traffic and data. This makes\n",
    "it well-suited for web scraping projects that involve scraping data from multiple sources or scraping large amounts of data.\n",
    "\n",
    "Overall, Flask can be a useful tool for web scraping projects, as it provides a flexible and customizable platform for \n",
    "building web interfaces and displaying scraped data.\n"
   ]
  },
  {
   "cell_type": "markdown",
   "id": "62dd8704-ecc5-44ce-8606-02b3b2f917e7",
   "metadata": {},
   "source": [
    "### Q5"
   ]
  },
  {
   "cell_type": "code",
   "execution_count": null,
   "id": "86af5fce-8c6a-4f9d-aff6-51afacd5023a",
   "metadata": {},
   "outputs": [],
   "source": [
    "Q5. Write the names of AWS services used in this project. Also, explain the use of each service."
   ]
  },
  {
   "cell_type": "code",
   "execution_count": null,
   "id": "53451885-8443-4a7c-8490-5a7928cb0d24",
   "metadata": {},
   "outputs": [],
   "source": [
    "Ans:- Without knowing the specific details of the project, it's difficult to give a definitive answer on which AWS services might be used. However, here are some AWS services that could potentially be used in a web scraping project and their potential uses:\n",
    "\n",
    "=> Amazon EC2: Amazon Elastic Compute Cloud (EC2) is a scalable cloud computing service that provides virtual servers for \n",
    "running applications and services. In a web scraping project, EC2 instances could be used to run the web scraper, allowing \n",
    "for greater scalability and performance.\n",
    "\n",
    "=> Amazon S3: Amazon Simple Storage Service (S3) is a cloud storage service that provides scalable and secure storage for \n",
    "data. In a web scraping project, S3 could be used to store the scraped data, allowing for easy retrieval and analysis.\n",
    "\n",
    "=> AWS Lambda: AWS Lambda is a serverless computing service that allows you to run code without provisioning or managing\n",
    "servers. In a web scraping project, Lambda could be used to automate the scraping process and trigger the scraper at regular\n",
    "intervals.\n",
    "\n",
    "=> Amazon DynamoDB: Amazon DynamoDB is a NoSQL database service that provides fast and flexible storage for data. In a web \n",
    "scraping project, DynamoDB could be used to store metadata about the scraped data, such as timestamps, URLs, and search \n",
    "terms.\n",
    "\n",
    "=> Amazon CloudWatch: Amazon CloudWatch is a monitoring and management service that provides real-time monitoring of AWS \n",
    "resources and applications. In a web scraping project, CloudWatch could be used to monitor the performance and health of the \n",
    "scraper, and trigger alerts if any issues arise.\n",
    "\n",
    "=> Amazon SQS: Amazon Simple Queue Service (SQS) is a fully managed message queuing service that enables you to decouple and\n",
    "scale microservices, distributed systems, and serverless applications. In a web scraping project, SQS could be used to \n",
    "manage the scraping tasks, distributing the workload across multiple instances or triggering new instances as needed.\n",
    "\n",
    "Overall, there are many different AWS services that could be used in a web scraping project, depending on the specific \n",
    "requirements and architecture of the project."
   ]
  },
  {
   "cell_type": "code",
   "execution_count": null,
   "id": "23174b50-5140-47f9-8e4d-437ba08b4880",
   "metadata": {},
   "outputs": [],
   "source": []
  },
  {
   "cell_type": "code",
   "execution_count": null,
   "id": "f91a1f6b-8969-46ba-9a11-12b62284a5f2",
   "metadata": {},
   "outputs": [],
   "source": []
  },
  {
   "cell_type": "code",
   "execution_count": null,
   "id": "3251a774-05e3-480d-ad18-f324a3730cd7",
   "metadata": {},
   "outputs": [],
   "source": []
  },
  {
   "cell_type": "code",
   "execution_count": null,
   "id": "7044ec2d-24d8-4bd9-a8a3-734f649ec3e8",
   "metadata": {},
   "outputs": [],
   "source": []
  },
  {
   "cell_type": "code",
   "execution_count": null,
   "id": "37648409-ff14-4a29-82b5-f13d7ab8cadd",
   "metadata": {},
   "outputs": [],
   "source": []
  },
  {
   "cell_type": "code",
   "execution_count": null,
   "id": "2a40ecf6-aa9a-497e-a116-fb28e8a7f44a",
   "metadata": {},
   "outputs": [],
   "source": []
  },
  {
   "cell_type": "code",
   "execution_count": null,
   "id": "d4a3bbf9-be71-4ab1-8b28-585fad554d78",
   "metadata": {},
   "outputs": [],
   "source": []
  },
  {
   "cell_type": "code",
   "execution_count": null,
   "id": "477f4a68-2d05-46d9-a627-cd2b7a38f0d7",
   "metadata": {},
   "outputs": [],
   "source": []
  },
  {
   "cell_type": "code",
   "execution_count": null,
   "id": "91fc560a-b59a-4ec5-87a9-93b4c9ca51a2",
   "metadata": {},
   "outputs": [],
   "source": []
  },
  {
   "cell_type": "code",
   "execution_count": null,
   "id": "f7129e7f-f838-4050-b63d-f6642fd9b4f5",
   "metadata": {},
   "outputs": [],
   "source": []
  },
  {
   "cell_type": "code",
   "execution_count": null,
   "id": "8fc122e1-c125-475e-a21f-5211a2f3bd96",
   "metadata": {},
   "outputs": [],
   "source": []
  },
  {
   "cell_type": "code",
   "execution_count": null,
   "id": "b25707ec-ef30-4b62-a425-c8d8e1f9ff6e",
   "metadata": {},
   "outputs": [],
   "source": []
  },
  {
   "cell_type": "code",
   "execution_count": null,
   "id": "0f4ffb78-2ebc-4b78-bc88-33a8f40b636b",
   "metadata": {},
   "outputs": [],
   "source": []
  },
  {
   "cell_type": "code",
   "execution_count": null,
   "id": "6565a309-94ad-47a2-b6c6-c1c12a28cd41",
   "metadata": {},
   "outputs": [],
   "source": []
  },
  {
   "cell_type": "code",
   "execution_count": null,
   "id": "dd9554af-a680-42fe-aa9f-0828cdc1dd0b",
   "metadata": {},
   "outputs": [],
   "source": []
  },
  {
   "cell_type": "code",
   "execution_count": null,
   "id": "0077fb26-7f79-4864-93ac-b3a2a45ea353",
   "metadata": {},
   "outputs": [],
   "source": []
  },
  {
   "cell_type": "code",
   "execution_count": null,
   "id": "a1974b8f-30ca-474f-9ceb-3039d567e8f3",
   "metadata": {},
   "outputs": [],
   "source": []
  },
  {
   "cell_type": "code",
   "execution_count": null,
   "id": "67aea0d4-f830-4719-b7be-5d797677cb63",
   "metadata": {},
   "outputs": [],
   "source": []
  },
  {
   "cell_type": "code",
   "execution_count": null,
   "id": "ac4594d6-ce4b-4cd7-88ee-a5494bee7dac",
   "metadata": {},
   "outputs": [],
   "source": []
  },
  {
   "cell_type": "code",
   "execution_count": null,
   "id": "ef1d5bad-3265-4c1e-8716-44bdb26215c2",
   "metadata": {},
   "outputs": [],
   "source": []
  },
  {
   "cell_type": "code",
   "execution_count": null,
   "id": "96c42656-33e9-4e47-8c11-658b5bf1ea8d",
   "metadata": {},
   "outputs": [],
   "source": []
  },
  {
   "cell_type": "code",
   "execution_count": null,
   "id": "60f94efb-4cf2-45f9-9f4e-3f57a5413f05",
   "metadata": {},
   "outputs": [],
   "source": []
  },
  {
   "cell_type": "code",
   "execution_count": null,
   "id": "33986e82-2f74-438e-929d-887002ad2406",
   "metadata": {},
   "outputs": [],
   "source": []
  },
  {
   "cell_type": "code",
   "execution_count": null,
   "id": "6c6a0bc9-31de-4292-97e6-33fd6eab2069",
   "metadata": {},
   "outputs": [],
   "source": []
  },
  {
   "cell_type": "code",
   "execution_count": null,
   "id": "ce663f4c-7b82-463b-9b33-8e256f8892a8",
   "metadata": {},
   "outputs": [],
   "source": []
  },
  {
   "cell_type": "code",
   "execution_count": null,
   "id": "1d950337-1f0e-4cc1-9abe-088bf5e931c2",
   "metadata": {},
   "outputs": [],
   "source": []
  },
  {
   "cell_type": "code",
   "execution_count": null,
   "id": "fb337b5d-7990-448a-bdb6-73b1e91d348a",
   "metadata": {},
   "outputs": [],
   "source": []
  },
  {
   "cell_type": "code",
   "execution_count": null,
   "id": "fc0d32e4-a7ad-4370-aa71-d054b4c28633",
   "metadata": {},
   "outputs": [],
   "source": []
  },
  {
   "cell_type": "code",
   "execution_count": null,
   "id": "bbd9efce-e1d6-4912-b909-6165b18d129a",
   "metadata": {},
   "outputs": [],
   "source": []
  },
  {
   "cell_type": "code",
   "execution_count": null,
   "id": "b56561a0-308f-4e62-96f6-c3096003a69c",
   "metadata": {},
   "outputs": [],
   "source": []
  },
  {
   "cell_type": "code",
   "execution_count": null,
   "id": "926d8fd0-9765-4873-af3c-d769899ad52d",
   "metadata": {},
   "outputs": [],
   "source": []
  },
  {
   "cell_type": "code",
   "execution_count": null,
   "id": "14e15fd2-a8d2-4d56-a56b-6e28e99c3f43",
   "metadata": {},
   "outputs": [],
   "source": []
  },
  {
   "cell_type": "code",
   "execution_count": null,
   "id": "036f4d59-76cc-46c6-b30f-983e695805a2",
   "metadata": {},
   "outputs": [],
   "source": []
  },
  {
   "cell_type": "code",
   "execution_count": null,
   "id": "3b6b7dd8-4dab-4a92-803e-41bc54732606",
   "metadata": {},
   "outputs": [],
   "source": []
  },
  {
   "cell_type": "code",
   "execution_count": null,
   "id": "b12db5d7-981e-475b-89fb-31f563644ce2",
   "metadata": {},
   "outputs": [],
   "source": []
  },
  {
   "cell_type": "code",
   "execution_count": null,
   "id": "fb58ea6a-ed17-4365-934d-1cba3139f4b7",
   "metadata": {},
   "outputs": [],
   "source": []
  },
  {
   "cell_type": "code",
   "execution_count": null,
   "id": "dc09457f-999d-4084-aed8-b75c238a3ffb",
   "metadata": {},
   "outputs": [],
   "source": []
  },
  {
   "cell_type": "code",
   "execution_count": null,
   "id": "77f69cff-a0a1-4cb0-9c8a-1aeb5b414c85",
   "metadata": {},
   "outputs": [],
   "source": []
  },
  {
   "cell_type": "code",
   "execution_count": null,
   "id": "fd657c41-b8d6-45d7-a63c-b3e4cf20c25b",
   "metadata": {},
   "outputs": [],
   "source": []
  },
  {
   "cell_type": "code",
   "execution_count": null,
   "id": "615f16b4-09d6-4ec3-aa17-2ae8a2d954dd",
   "metadata": {},
   "outputs": [],
   "source": []
  },
  {
   "cell_type": "code",
   "execution_count": null,
   "id": "b9793880-7603-474c-962e-e3db94403ad9",
   "metadata": {},
   "outputs": [],
   "source": []
  },
  {
   "cell_type": "code",
   "execution_count": null,
   "id": "1db16e60-252b-4a8f-baaf-795d509d3038",
   "metadata": {},
   "outputs": [],
   "source": []
  },
  {
   "cell_type": "code",
   "execution_count": null,
   "id": "59e7ed6f-ac9b-4d78-b159-da02e415be88",
   "metadata": {},
   "outputs": [],
   "source": []
  },
  {
   "cell_type": "code",
   "execution_count": null,
   "id": "4d400a6b-d7bc-4650-82df-eb3c24c16fbb",
   "metadata": {},
   "outputs": [],
   "source": []
  },
  {
   "cell_type": "code",
   "execution_count": null,
   "id": "9b6db69e-f670-4238-8c1b-4948b5b36568",
   "metadata": {},
   "outputs": [],
   "source": []
  },
  {
   "cell_type": "code",
   "execution_count": null,
   "id": "c39fe3f1-05d2-407a-b36a-638bb6b5bbb5",
   "metadata": {},
   "outputs": [],
   "source": []
  },
  {
   "cell_type": "code",
   "execution_count": null,
   "id": "492d65ac-6ea2-48a5-a370-d58570edf600",
   "metadata": {},
   "outputs": [],
   "source": []
  },
  {
   "cell_type": "code",
   "execution_count": null,
   "id": "d1d38136-be2b-4da3-ae1c-3f7af8ab7674",
   "metadata": {},
   "outputs": [],
   "source": []
  },
  {
   "cell_type": "code",
   "execution_count": null,
   "id": "f8ab6eba-18e5-4b02-9fc9-70738665b7be",
   "metadata": {},
   "outputs": [],
   "source": []
  },
  {
   "cell_type": "code",
   "execution_count": null,
   "id": "0761fd0b-d52a-409a-8881-7b1b1fdec21a",
   "metadata": {},
   "outputs": [],
   "source": []
  },
  {
   "cell_type": "code",
   "execution_count": null,
   "id": "2c2d7f5e-c8b3-46a4-864e-cb1b6373e5be",
   "metadata": {},
   "outputs": [],
   "source": []
  },
  {
   "cell_type": "code",
   "execution_count": null,
   "id": "f2e7418a-dd84-4ce8-94b1-9e07f1179204",
   "metadata": {},
   "outputs": [],
   "source": []
  },
  {
   "cell_type": "code",
   "execution_count": null,
   "id": "d4d3250a-b916-49ca-97ed-13dc642bbf3f",
   "metadata": {},
   "outputs": [],
   "source": []
  },
  {
   "cell_type": "code",
   "execution_count": null,
   "id": "37cd8804-e599-471b-9d6a-fcfd30e28905",
   "metadata": {},
   "outputs": [],
   "source": []
  },
  {
   "cell_type": "code",
   "execution_count": null,
   "id": "e60c48d3-488e-4479-94fc-2b12a4babbd1",
   "metadata": {},
   "outputs": [],
   "source": []
  },
  {
   "cell_type": "code",
   "execution_count": null,
   "id": "29ced3cc-6378-44e0-acc4-6e191936024d",
   "metadata": {},
   "outputs": [],
   "source": []
  },
  {
   "cell_type": "code",
   "execution_count": null,
   "id": "0fea5919-04b2-4baa-9243-6ac44d6a0702",
   "metadata": {},
   "outputs": [],
   "source": []
  },
  {
   "cell_type": "code",
   "execution_count": null,
   "id": "91356e12-d8de-421b-b377-48e62173fffb",
   "metadata": {},
   "outputs": [],
   "source": []
  },
  {
   "cell_type": "code",
   "execution_count": null,
   "id": "181becb0-8025-420d-8e9a-be3d82733f94",
   "metadata": {},
   "outputs": [],
   "source": []
  },
  {
   "cell_type": "code",
   "execution_count": null,
   "id": "3dd707bc-81e3-4057-b42c-d615fbcc4764",
   "metadata": {},
   "outputs": [],
   "source": []
  },
  {
   "cell_type": "code",
   "execution_count": null,
   "id": "73ae8022-cc36-4d32-8b2f-433451d41cc9",
   "metadata": {},
   "outputs": [],
   "source": []
  },
  {
   "cell_type": "code",
   "execution_count": null,
   "id": "2389ff9c-4c77-45b7-8fc1-908ee0bf771a",
   "metadata": {},
   "outputs": [],
   "source": []
  },
  {
   "cell_type": "code",
   "execution_count": null,
   "id": "75daaa86-9467-432f-998a-613f639d29ce",
   "metadata": {},
   "outputs": [],
   "source": []
  },
  {
   "cell_type": "code",
   "execution_count": null,
   "id": "1ea58c46-dc64-48a8-8415-43c42c00a4d7",
   "metadata": {},
   "outputs": [],
   "source": []
  },
  {
   "cell_type": "code",
   "execution_count": null,
   "id": "dec055a4-9729-4d53-b52b-8e573676665d",
   "metadata": {},
   "outputs": [],
   "source": []
  },
  {
   "cell_type": "code",
   "execution_count": null,
   "id": "0c792056-d5ec-4cb1-8359-d0feab7db573",
   "metadata": {},
   "outputs": [],
   "source": []
  },
  {
   "cell_type": "code",
   "execution_count": null,
   "id": "fad26d91-1106-4e52-ad79-36a90ec71667",
   "metadata": {},
   "outputs": [],
   "source": []
  },
  {
   "cell_type": "code",
   "execution_count": null,
   "id": "d68bac01-fe08-4c48-982f-7fa159d613d5",
   "metadata": {},
   "outputs": [],
   "source": []
  },
  {
   "cell_type": "code",
   "execution_count": null,
   "id": "46e6ff1a-1a7a-4040-a593-359a0306ab73",
   "metadata": {},
   "outputs": [],
   "source": []
  },
  {
   "cell_type": "code",
   "execution_count": null,
   "id": "f6a6d063-61f7-4b36-9791-ea2802184f09",
   "metadata": {},
   "outputs": [],
   "source": []
  },
  {
   "cell_type": "code",
   "execution_count": null,
   "id": "8042ec53-0bfa-4b5c-8f58-4fb2ea277b58",
   "metadata": {},
   "outputs": [],
   "source": []
  },
  {
   "cell_type": "code",
   "execution_count": null,
   "id": "10327249-6fe5-4671-bcf6-fcad3730b0fc",
   "metadata": {},
   "outputs": [],
   "source": []
  }
 ],
 "metadata": {
  "kernelspec": {
   "display_name": "Python 3 (ipykernel)",
   "language": "python",
   "name": "python3"
  },
  "language_info": {
   "codemirror_mode": {
    "name": "ipython",
    "version": 3
   },
   "file_extension": ".py",
   "mimetype": "text/x-python",
   "name": "python",
   "nbconvert_exporter": "python",
   "pygments_lexer": "ipython3",
   "version": "3.10.8"
  }
 },
 "nbformat": 4,
 "nbformat_minor": 5
}
