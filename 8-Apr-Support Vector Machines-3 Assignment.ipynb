{
 "cells": [
  {
   "cell_type": "markdown",
   "id": "e9e0c42a",
   "metadata": {},
   "source": [
    "# Q1"
   ]
  },
  {
   "cell_type": "markdown",
   "id": "d57b4af8",
   "metadata": {},
   "source": [
    "Given Dataset link:\n",
    "https://drive.google.com/file/d/1Z9oLpmt6IDRNw7IeNcHYTGeJRYypRSC0/view?\n",
    "usp=share_link"
   ]
  },
  {
   "cell_type": "markdown",
   "id": "ad846ef3",
   "metadata": {},
   "source": [
    "Q1. In order to predict house price based on several characteristics, such as location, square footage,\n",
    "number of bedrooms, etc., you are developing an SVM regression model. Which regression metric in this\n",
    "situation would be the best to employ?"
   ]
  },
  {
   "cell_type": "markdown",
   "id": "afdfab79",
   "metadata": {},
   "source": [
    "Ans:- \n",
    "    When developing an SVM regression model to predict house prices based on various characteristics, there are several regression metrics you can employ to evaluate the performance of your model. The choice of metric depends on the specific goals and requirements of your project. Here are three commonly used regression metrics that can be suitable in this situation:\n",
    "\n",
    "1. Mean Squared Error (MSE): MSE is a popular regression metric that calculates the average squared difference between the predicted and actual values. It penalizes larger errors more severely, making it suitable when you want to focus on minimizing overall prediction errors. However, MSE is sensitive to outliers and emphasizes the magnitude of errors rather than their direction.\n",
    "\n",
    "2. Mean Absolute Error (MAE): MAE measures the average absolute difference between the predicted and actual values. It is less sensitive to outliers compared to MSE since it considers the absolute differences rather than squared differences. MAE provides a more balanced view of overall prediction accuracy and is easier to interpret, as the values are in the same unit as the target variable.\n",
    "\n",
    "3. R-squared (R²) or Coefficient of Determination: R-squared represents the proportion of variance in the target variable that is explained by the model. It ranges from 0 to 1, with higher values indicating better fit. R-squared is useful when you want to assess the goodness of fit and compare different models. However, it doesn't provide information about the magnitude or direction of individual prediction errors.\n",
    "\n",
    "Ultimately, the choice of the best regression metric depends on the specific context and requirements of your project. It is often recommended to use a combination of metrics to gain a comprehensive understanding of the model's performance."
   ]
  },
  {
   "cell_type": "markdown",
   "id": "d91797ca",
   "metadata": {},
   "source": [
    "Certainly! Let's consider an example to illustrate the use of different regression metrics in predicting house prices.\n",
    "\n",
    "Suppose you have a dataset with various features such as location (categorical), square footage (continuous), number of bedrooms (discrete), and other relevant characteristics. Your goal is to train an SVM regression model to predict the prices of houses based on these features.\n",
    "\n",
    "After training your model and obtaining predictions, you can evaluate its performance using different regression metrics. Let's assume you have the true prices of the houses available for comparison.\n",
    "\n",
    "1. Mean Squared Error (MSE):\n",
    "Suppose you have the following actual house prices and predicted prices:\n",
    "Actual prices: [250,000, 300,000, 350,000, 400,000]\n",
    "Predicted prices: [230,000, 280,000, 340,000, 410,000]\n",
    "\n",
    "To calculate the MSE, you square the differences between the actual and predicted prices, sum them up, and divide by the number of samples:\n",
    "\n",
    "MSE = ((250,000 - 230,000)² + (300,000 - 280,000)² + (350,000 - 340,000)² + (400,000 - 410,000)²) / 4\n",
    "= (40000 + 40000 + 10000 + 100000) / 4\n",
    "= 55000\n",
    "\n",
    "The MSE in this case is 55,000.\n",
    "\n",
    "2. Mean Absolute Error (MAE):\n",
    "To calculate the MAE, you take the absolute differences between the actual and predicted prices, sum them up, and divide by the number of samples:\n",
    "MAE = (|250,000 - 230,000| + |300,000 - 280,000| + |350,000 - 340,000| + |400,000 - 410,000|) / 4\n",
    "= (20,000 + 20,000 + 10,000 + 10,000) / 4\n",
    "= 15,000\n",
    "\n",
    "The MAE in this case is 15,000.\n",
    "\n",
    "3. R-squared (R²) or Coefficient of Determination:\n",
    "R-squared measures the proportion of variance in the target variable explained by the model. It is calculated as the ratio of the explained variance to the total variance. The closer R² is to 1, the better the model fits the data.\n",
    "To calculate R-squared, you need the total sum of squares (TSS) and the residual sum of squares (RSS). TSS represents the total variance in the target variable, while RSS represents the unexplained variance.\n",
    "\n",
    "TSS = Σ(y - ȳ)², where ȳ is the mean of the actual prices.\n",
    "\n",
    "RSS = Σ(y - ŷ)², where ŷ is the predicted price.\n",
    "\n",
    "R² = 1 - (RSS / TSS)\n",
    "\n",
    "In our example, let's assume the mean of the actual prices (ȳ) is 325,000.\n",
    "\n",
    "TSS = ((250,000 - 325,000)² + (300,000 - 325,000)² + (350,000 - 325,000)² + (400,000 - 325,000)²)\n",
    "= (750,000,000 + 250,000,000 + 250,000,000 + 1,250,000,000)\n",
    "= 2,500,000,000\n",
    "\n",
    "RSS = ((250,000 - 230,000)² + (300,000 - 280,000)² + (350,000 - 340,000)² + (400,000 - 410,000)²)\n",
    "= (40000 + 40000 + 10000 + 100000)\n",
    "= 190,000\n",
    "\n",
    "R² = 1 - (190,000 / 2,500,000,000)\n",
    "= 0.99992\n",
    "\n",
    "The R-squared value in this case is approximately 0.99992.\n",
    "\n",
    "Remember that these metrics provide different perspectives on the model's performance. It's important to consider multiple metrics and choose the most appropriate one based on your specific objectives and requirements."
   ]
  },
  {
   "cell_type": "markdown",
   "id": "8fa193f9",
   "metadata": {},
   "source": [
    "# Q2"
   ]
  },
  {
   "cell_type": "code",
   "execution_count": null,
   "id": "37414d80",
   "metadata": {},
   "outputs": [],
   "source": [
    "Q2. You have built an SVM regression model and are trying to decide between using MSE or R-squared as\n",
    "your evaluation metric. Which metric would be more appropriate if your goal is to predict the actual price\n",
    "of a house as accurately as possible?"
   ]
  },
  {
   "cell_type": "markdown",
   "id": "7cc66a77",
   "metadata": {},
   "source": [
    "Ans:- \n",
    "    \n",
    "    If your goal is to predict the actual price of a house as accurately as possible, the most appropriate evaluation metric would be the Mean Squared Error (MSE).\n",
    "\n",
    "MSE measures the average squared difference between the predicted and actual prices. By squaring the differences, MSE gives higher weight to larger errors. This is beneficial when your primary focus is on minimizing overall prediction errors and achieving the highest level of accuracy in price estimation.\n",
    "\n",
    "Using MSE as the evaluation metric ensures that your SVM regression model strives to make the predicted prices as close to the actual prices as possible. It penalizes larger errors more severely, making it suitable when your objective is to optimize the precision and minimize the discrepancy between predicted and actual prices.\n",
    "\n",
    "On the other hand, R-squared (R²) measures the proportion of variance in the target variable explained by the model. While R-squared provides insight into the goodness of fit of the model, it does not directly capture the magnitude of prediction errors. R-squared is more suitable when you want to assess the overall explanatory power of the model rather than the accuracy of individual predictions.\n",
    "\n",
    "In summary, if your primary objective is to predict the actual price of a house as accurately as possible, using MSE as your evaluation metric would be more appropriate for assessing and optimizing the performance of your SVM regression model."
   ]
  },
  {
   "cell_type": "markdown",
   "id": "b3d34b85",
   "metadata": {},
   "source": [
    "# Q3"
   ]
  },
  {
   "cell_type": "code",
   "execution_count": null,
   "id": "eff4d136",
   "metadata": {},
   "outputs": [],
   "source": [
    "Q3. You have a dataset with a significant number of outliers and are trying to select an appropriate\n",
    "regression metric to use with your SVM model. Which metric would be the most appropriate in this\n",
    "scenario?"
   ]
  },
  {
   "cell_type": "code",
   "execution_count": 10,
   "id": "dc96dc72",
   "metadata": {},
   "outputs": [],
   "source": [
    "import pandas as pd\n",
    "from sklearn.metrics import mean_absolute_error\n",
    "from sklearn.model_selection import train_test_split\n",
    "from sklearn.svm import SVR\n",
    "from sklearn.preprocessing import LabelEncoder, StandardScaler"
   ]
  },
  {
   "cell_type": "code",
   "execution_count": 11,
   "id": "96361b2c",
   "metadata": {},
   "outputs": [],
   "source": [
    "# Load the dataset\n",
    "data = pd.read_csv(\"Bengaluru_House_Data.csv\")\n",
    "\n",
    "# Data cleaning and preprocessing\n",
    "data.dropna(inplace=True)  # Drop rows with missing values"
   ]
  },
  {
   "cell_type": "code",
   "execution_count": 12,
   "id": "3597c9ca",
   "metadata": {},
   "outputs": [],
   "source": [
    "# Preprocess the data\n",
    "# Assuming you want to use 'total_sqft', 'bath', and 'price' as features\n",
    "X = data[['total_sqft', 'bath']].copy()\n",
    "y = data['price'].copy()\n",
    "\n",
    "# Handle categorical feature if any\n",
    "# Assuming 'total_sqft' is a categorical feature\n",
    "le = LabelEncoder()\n",
    "X['total_sqft'] = le.fit_transform(X['total_sqft'])"
   ]
  },
  {
   "cell_type": "code",
   "execution_count": 13,
   "id": "70479f06",
   "metadata": {},
   "outputs": [],
   "source": [
    "# Split the data into train and test sets\n",
    "X_train, X_test, y_train, y_test = train_test_split(X, y, test_size=0.2, random_state=42)\n",
    "\n",
    "# Scale the features\n",
    "scaler = StandardScaler()\n",
    "X_train_scaled = scaler.fit_transform(X_train)\n",
    "X_test_scaled = scaler.transform(X_test)"
   ]
  },
  {
   "cell_type": "code",
   "execution_count": 14,
   "id": "8f79c631",
   "metadata": {},
   "outputs": [
    {
     "data": {
      "text/plain": [
       "SVR()"
      ]
     },
     "execution_count": 14,
     "metadata": {},
     "output_type": "execute_result"
    }
   ],
   "source": [
    "\n",
    "# Train an SVM regression model\n",
    "model = SVR(kernel='rbf')  # Specify the kernel type\n",
    "model.fit(X_train_scaled, y_train)"
   ]
  },
  {
   "cell_type": "code",
   "execution_count": 15,
   "id": "0171140c",
   "metadata": {},
   "outputs": [],
   "source": [
    "# Make predictions on the test set\n",
    "predictions = model.predict(X_test_scaled)\n",
    "\n",
    "# Calculate MAE\n",
    "mae = mean_absolute_error(y_test, predictions)"
   ]
  },
  {
   "cell_type": "code",
   "execution_count": 16,
   "id": "8e07eb17",
   "metadata": {},
   "outputs": [
    {
     "name": "stdout",
     "output_type": "stream",
     "text": [
      "Mean Absolute Error (MAE): 28.45913589264522\n"
     ]
    }
   ],
   "source": [
    "print(\"Mean Absolute Error (MAE):\", mae)"
   ]
  },
  {
   "cell_type": "markdown",
   "id": "29f05e51",
   "metadata": {},
   "source": [
    "When dealing with a dataset that has a significant number of outliers, the most appropriate regression metric to use with your SVM model would be the Mean Absolute Error (MAE).\n",
    "\n",
    "MAE calculates the average absolute difference between the predicted and actual values. Unlike the Mean Squared Error (MSE), which squares the errors and amplifies the impact of outliers, MAE gives equal weight to all errors, regardless of their magnitude.\n",
    "\n",
    "In a dataset with a significant number of outliers, MSE can be heavily influenced by these extreme values, leading to a misleading evaluation of the model's performance. The squared differences caused by outliers can result in a disproportionately large MSE.\n",
    "\n",
    "On the other hand, MAE is less sensitive to outliers because it considers the absolute differences. By focusing on the absolute values of errors, MAE provides a more robust measure of prediction accuracy that is less affected by extreme values. It provides a better representation of the typical prediction error in the presence of outliers.\n",
    "\n",
    "Therefore, when working with a dataset that contains a significant number of outliers, it is advisable to use MAE as the regression metric to evaluate the performance of your SVM model. MAE will provide a more reliable assessment of the model's predictive ability and better handle the impact of outliers on the evaluation."
   ]
  },
  {
   "cell_type": "markdown",
   "id": "fde83c2a",
   "metadata": {},
   "source": [
    "# Q4"
   ]
  },
  {
   "cell_type": "code",
   "execution_count": null,
   "id": "0e36e023",
   "metadata": {},
   "outputs": [],
   "source": [
    "Q4. You have built an SVM regression model using a polynomial kernel and are trying to select the best\n",
    "metric to evaluate its performance. You have calculated both MSE and RMSE and found that both values\n",
    "are very close. Which metric should you choose to use in this case?"
   ]
  },
  {
   "cell_type": "markdown",
   "id": "7b1f0dc6",
   "metadata": {},
   "source": [
    "Ans:- \n",
    "    If you have built an SVM regression model using a polynomial kernel and both the Mean Squared Error (MSE) and Root Mean Squared Error (RMSE) values are very close, it is recommended to choose RMSE as the evaluation metric to assess the performance of the model.\n",
    "\n",
    "The reason for selecting RMSE over MSE in this case is that RMSE has the advantage of being in the same unit as the target variable. It provides a more interpretable measure of the average prediction error.\n",
    "\n",
    "While MSE measures the average squared difference between the predicted and actual values, RMSE takes the square root of MSE, which brings the metric back to the original unit of the target variable. This makes it easier to understand the magnitude of the average prediction error in the context of the problem domain.\n",
    "\n",
    "For example, if you are predicting house prices in dollars, the RMSE value will be in dollars as well, which allows for better interpretation of the error magnitude in the actual currency.\n",
    "\n",
    "Therefore, when faced with very close values of MSE and RMSE for an SVM regression model with a polynomial kernel, opting for RMSE as the evaluation metric would be more appropriate, as it provides a more meaningful measure of the average prediction error in the same unit as the target variable."
   ]
  },
  {
   "cell_type": "markdown",
   "id": "ad13c5b3",
   "metadata": {},
   "source": [
    "# Q5"
   ]
  },
  {
   "cell_type": "code",
   "execution_count": null,
   "id": "10aeedbe",
   "metadata": {},
   "outputs": [],
   "source": [
    "Q5. You are comparing the performance of different SVM regression models using different kernels (linear,\n",
    "polynomial, and RBF) and are trying to select the best evaluation metric. Which metric would be most\n",
    "appropriate if your goal is to measure how well the model explains the variance in the target variable?"
   ]
  },
  {
   "cell_type": "markdown",
   "id": "1c84a412",
   "metadata": {},
   "source": [
    "Ans:- \n",
    "    If your goal is to measure how well the model explains the variance in the target variable when comparing different SVM regression models with different kernels (linear, polynomial, and RBF), the most appropriate evaluation metric would be the coefficient of determination, also known as R-squared (R²).\n",
    "\n",
    "R-squared measures the proportion of variance in the target variable that is explained by the model. It provides an indication of how well the model fits the data and captures the underlying patterns.\n",
    "\n",
    "The R-squared value ranges from 0 to 1, with 0 indicating that the model does not explain any variance in the target variable, and 1 indicating that the model explains all the variance. Higher R-squared values suggest better goodness of fit and indicate that the model can explain a larger proportion of the variance in the target variable.\n",
    "\n",
    "By using R-squared as the evaluation metric, you can compare the performance of different SVM regression models with different kernels and determine which model explains the variance in the target variable the best. A higher R-squared value would indicate a better-performing model in terms of capturing and explaining the variance in the data."
   ]
  },
  {
   "cell_type": "code",
   "execution_count": null,
   "id": "8aa9d9fa",
   "metadata": {},
   "outputs": [],
   "source": []
  },
  {
   "cell_type": "code",
   "execution_count": null,
   "id": "0e26c9ec",
   "metadata": {},
   "outputs": [],
   "source": []
  }
 ],
 "metadata": {
  "kernelspec": {
   "display_name": "Python 3 (ipykernel)",
   "language": "python",
   "name": "python3"
  },
  "language_info": {
   "codemirror_mode": {
    "name": "ipython",
    "version": 3
   },
   "file_extension": ".py",
   "mimetype": "text/x-python",
   "name": "python",
   "nbconvert_exporter": "python",
   "pygments_lexer": "ipython3",
   "version": "3.9.13"
  }
 },
 "nbformat": 4,
 "nbformat_minor": 5
}
