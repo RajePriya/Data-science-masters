{
 "cells": [
  {
   "cell_type": "markdown",
   "id": "4470a359-cfb7-4b2a-994c-f385bec537e6",
   "metadata": {},
   "source": [
    "## 21MAR\n",
    "### Assignment"
   ]
  },
  {
   "cell_type": "markdown",
   "id": "d0c543a7-021e-438f-9da4-a0b25b3b0e75",
   "metadata": {},
   "source": [
    "### Q1"
   ]
  },
  {
   "cell_type": "code",
   "execution_count": null,
   "id": "829e74c6-07d4-4259-89a4-92f40d6202db",
   "metadata": {},
   "outputs": [],
   "source": [
    "Q1. What is the difference between Ordinal Encoding and Label Encoding? Provide an example of when you\n",
    "might choose one over the other."
   ]
  },
  {
   "cell_type": "code",
   "execution_count": null,
   "id": "5f204b7f-a509-4f62-bb31-2a863449f830",
   "metadata": {},
   "outputs": [],
   "source": [
    "Ans:- Both Ordinal Encoding and Label Encoding are techniques used to convert categorical data into numerical data. However,\n",
    "they differ in how they treat the values of the categorical variable.\n",
    "\n",
    "Label Encoding assigns a unique integer to each category in the variable. For example, if we have a categorical variable \n",
    "\"Color\" with values [\"Red\", \"Blue\", \"Green\"], Label Encoding would map \"Red\" to 0, \"Blue\" to 1, and \"Green\" to 2.\n",
    "\n",
    "Ordinal Encoding, on the other hand, assigns an integer value to each category based on its order or rank. For example, \n",
    "if we have a categorical variable \"Education\" with values [\"High School\", \"Bachelor's Degree\", \"Master's Degree\", \"PhD\"],\n",
    "Ordinal Encoding would map \"High School\" to 0, \"Bachelor's Degree\" to 1, \"Master's Degree\" to 2, and \"PhD\" to 3.\n",
    "\n",
    "In general, we would use Ordinal Encoding when the categories have a clear order or rank, such as education level or age \n",
    "group. We would use Label Encoding when there is no intrinsic order to the categories, such as color or gender.\n",
    "\n",
    "For example, in a dataset about job applicants, we might use Ordinal Encoding for the \"Education\" variable because there is\n",
    "a clear rank to the education levels. However, for the \"Gender\" variable, we would use Label Encoding because there is no\n",
    "inherent order to male or female."
   ]
  },
  {
   "cell_type": "markdown",
   "id": "de2759d6-b299-4fa4-a856-3e1465012ae9",
   "metadata": {},
   "source": [
    "### Q2"
   ]
  },
  {
   "cell_type": "code",
   "execution_count": null,
   "id": "54e87318-35d0-4347-afd7-9f6d419d554b",
   "metadata": {},
   "outputs": [],
   "source": [
    "Q2. Explain how Target Guided Ordinal Encoding works and provide an example of when you might use it in\n",
    "a machine learning project."
   ]
  },
  {
   "cell_type": "code",
   "execution_count": null,
   "id": "7aed5252-a4ea-4f91-bc03-ec8fb9129bd9",
   "metadata": {},
   "outputs": [],
   "source": [
    "Ans:- Target Guided Ordinal Encoding is a technique for encoding categorical variables that can be used when the categories\n",
    "have a natural ordering and the target variable is binary or ordinal. The idea behind this technique is to replace each \n",
    "category with a number that reflects the relationship between that category and the target variable.\n",
    "\n",
    "Here is the step-by-step process for implementing Target Guided Ordinal Encoding:\n",
    "\n",
    "=> Calculate the mean of the target variable for each category of the categorical feature.\n",
    "=> Sort the categories in ascending order based on their mean target variable values.\n",
    "=> Assign an ordinal number to each category based on its position in the sorted list.\n",
    "For example, suppose you are working on a project to predict whether a customer will buy a product or not based on their age\n",
    "group. You have a dataset with a categorical feature called \"Age Group,\" which has the following categories: \"Under 18,\" \n",
    "\"18-24,\" \"25-34,\" \"35-44,\" \"45-54,\" and \"Over 54.\" You can use Target Guided Ordinal Encoding to encode this feature as \n",
    "follows:\n",
    "\n",
    "=> Calculate the mean of the target variable (buy or not buy) for each category of \"Age Group.\"\n",
    "\n",
    "=> Sort the categories in ascending order based on their mean target variable values:\n",
    "\n",
    "Under 18: 0.20\n",
    "18-24: 0.25\n",
    "25-34: 0.30\n",
    "35-44: 0.35\n",
    "45-54: 0.40\n",
    "Over 54: 0.45\n",
    "\n",
    "=> Assign an ordinal number to each category based on its position in the sorted list:\n",
    "\n",
    "Under 18: 1\n",
    "18-24: 2\n",
    "25-34: 3\n",
    "35-44: 4\n",
    "45-54: 5\n",
    "Over 54: 6\n",
    "\n",
    "In this example, Target Guided Ordinal Encoding can be used to capture the relationship between age and the probability of a\n",
    "customer buying a product. The resulting encoded feature can then be used as input to a machine learning algorithm."
   ]
  },
  {
   "cell_type": "markdown",
   "id": "c52813f5-fa26-48a0-a704-860b93a6ca04",
   "metadata": {},
   "source": [
    "### Q3"
   ]
  },
  {
   "cell_type": "code",
   "execution_count": null,
   "id": "ac8e7d7f-7bd0-4afd-b93a-9f21e016a317",
   "metadata": {},
   "outputs": [],
   "source": [
    "Q3. Define covariance and explain why it is important in statistical analysis. How is covariance calculated?"
   ]
  },
  {
   "cell_type": "code",
   "execution_count": null,
   "id": "a930a0c0-feb7-49d0-ad11-f4270e0e5afc",
   "metadata": {},
   "outputs": [],
   "source": [
    "Ans:- Covariance is a measure of the relationship between two variables. It measures how much two variables change together. \n",
    "If the variables tend to increase or decrease together, they have a positive covariance. If one variable tends to increase \n",
    "while the other decreases, they have a negative covariance. If there is no relationship between the variables, their \n",
    "covariance is zero.\n",
    "\n",
    "Covariance is important in statistical analysis because it helps us understand how variables are related to each other. For\n",
    "example, if we are trying to predict the price of a house, we might look at how variables like the size of the house, the\n",
    "number of bedrooms, and the location of the house are related to each other. If two variables have a high positive \n",
    "covariance, we might use that information to make a more accurate prediction.\n",
    "\n",
    "Covariance can be calculated using the following formula:\n",
    "\n",
    "cov(X,Y) = (Σ(xi - x)(yi - y)) / (n - 1)\n",
    "\n",
    "where:\n",
    "\n",
    "X and Y are the variables we are interested in\n",
    "xi and yi are the individual values of X and Y, respectively\n",
    "x and y are the means of X and Y, respectively\n",
    "n is the number of data points\n",
    "However, covariance is sensitive to the scale of the variables, and it can be difficult to interpret the magnitude of the \n",
    "covariance. To address these issues, we can normalize the covariance to get the correlation coefficient."
   ]
  },
  {
   "cell_type": "markdown",
   "id": "77752176-10c6-4184-a017-963e58b5957d",
   "metadata": {},
   "source": [
    "### Q4"
   ]
  },
  {
   "cell_type": "code",
   "execution_count": null,
   "id": "0c0b688b-4f94-400d-9489-5f67f62c640a",
   "metadata": {},
   "outputs": [],
   "source": [
    "Q4. For a dataset with the following categorical variables: Color (red, green, blue), Size (small, medium,\n",
    "large), and Material (wood, metal, plastic), perform label encoding using Python's scikit-learn library.\n",
    "Show your code and explain the output."
   ]
  },
  {
   "cell_type": "code",
   "execution_count": null,
   "id": "b19ca145-b7d5-487e-bb3e-a5123fdb6d98",
   "metadata": {},
   "outputs": [],
   "source": [
    "Ans:- Label Encoding is used to convert categorical variables into numerical labels or codes. We can use the LabelEncoder \n",
    "class from scikit-learn library to perform label encoding.\n",
    "\n",
    "Here's an example code for performing label encoding on the given categorical variables:"
   ]
  },
  {
   "cell_type": "code",
   "execution_count": 1,
   "id": "8c705f27-bd89-4e78-ad91-53b9feeb974c",
   "metadata": {},
   "outputs": [
    {
     "name": "stdout",
     "output_type": "stream",
     "text": [
      "   Color    Size Material  Color_Encoded  Size_Encoded  Material_Encoded\n",
      "0    red  medium     wood              2             1                 2\n",
      "1  green   large    metal              1             0                 0\n",
      "2   blue   small  plastic              0             2                 1\n",
      "3  green  medium  plastic              1             1                 1\n",
      "4    red   small     wood              2             2                 2\n"
     ]
    }
   ],
   "source": [
    "from sklearn.preprocessing import LabelEncoder\n",
    "import pandas as pd\n",
    "\n",
    "data = {'Color': ['red', 'green', 'blue', 'green', 'red'],\n",
    "        'Size': ['medium', 'large', 'small', 'medium', 'small'],\n",
    "        'Material': ['wood', 'metal', 'plastic', 'plastic', 'wood']}\n",
    "\n",
    "df = pd.DataFrame(data)\n",
    "\n",
    "encoder = LabelEncoder()\n",
    "df['Color_Encoded'] = encoder.fit_transform(df['Color'])\n",
    "df['Size_Encoded'] = encoder.fit_transform(df['Size'])\n",
    "df['Material_Encoded'] = encoder.fit_transform(df['Material'])\n",
    "\n",
    "print(df)\n"
   ]
  },
  {
   "cell_type": "code",
   "execution_count": null,
   "id": "61f18559-6a03-4c3d-8614-d963dad66394",
   "metadata": {},
   "outputs": [],
   "source": [
    "The LabelEncoder class encodes the categorical variables by assigning a unique integer label to each category. The output \n",
    "shows the original dataset along with the encoded columns for each categorical variable."
   ]
  },
  {
   "cell_type": "markdown",
   "id": "833b6394-2418-46f6-897a-43337e451068",
   "metadata": {},
   "source": [
    "### Q5"
   ]
  },
  {
   "cell_type": "code",
   "execution_count": null,
   "id": "e94644c8-7031-4de9-ba95-24a7d3c71639",
   "metadata": {},
   "outputs": [],
   "source": [
    "Q5. Calculate the covariance matrix for the following variables in a dataset: Age, Income, and Education\n",
    "level. Interpret the results."
   ]
  },
  {
   "cell_type": "code",
   "execution_count": null,
   "id": "4bd6a6d9-a5e7-46d6-ae85-7907436673ed",
   "metadata": {},
   "outputs": [],
   "source": [
    "Ans:- Without the actual values of Age, Income, and Education level, we cannot calculate the covariance matrix. However, in\n",
    "general, the covariance matrix is a square matrix that contains the covariance values between all pairs of variables in a \n",
    "dataset. The diagonal of the covariance matrix contains the variances of each variable, and the off-diagonal values contain \n",
    "the covariance between each pair of variables. A positive covariance indicates that two variables tend to increase or \n",
    "decrease together, while a negative covariance indicates that they tend to change in opposite directions. A covariance of 0\n",
    "indicates that the variables are independent of each other. The magnitude of the covariance value indicates the strength of \n",
    "the relationship between the variables."
   ]
  },
  {
   "cell_type": "markdown",
   "id": "eec6bdf8-2666-43a4-aa15-264a01167f5a",
   "metadata": {},
   "source": [
    "### Q6"
   ]
  },
  {
   "cell_type": "code",
   "execution_count": null,
   "id": "5c4891ab-0495-4ac4-a94f-813b0f489cc2",
   "metadata": {},
   "outputs": [],
   "source": [
    "Q6. You are working on a machine learning project with a dataset containing several categorical\n",
    "variables, including \"Gender\" (Male/Female), \"Education Level\" (High School/Bachelor's/Master's/PhD),\n",
    "and \"Employment Status\" (Unemployed/Part-Time/Full-Time). Which encoding method would you use for\n",
    "each variable, and why?"
   ]
  },
  {
   "cell_type": "code",
   "execution_count": null,
   "id": "6688de1f-3add-4314-95c5-d299df2e8590",
   "metadata": {},
   "outputs": [],
   "source": [
    "Ans:- For the categorical variable \"Gender\", label encoding can be used, as there are only two categories (Male and Female)\n",
    "and they can be assigned numerical values such as 0 and 1.\n",
    "\n",
    "For the categorical variable \"Education Level\", ordinal encoding can be used as there is an inherent order to the categories\n",
    "(High School < Bachelor's < Master's < PhD).\n",
    "\n",
    "For the categorical variable \"Employment Status\", one-hot encoding can be used as there is no inherent order to the \n",
    "categories and each category is equally important."
   ]
  },
  {
   "cell_type": "markdown",
   "id": "41a9a8ae-560d-4de0-8901-ee1b9aa919f1",
   "metadata": {},
   "source": [
    "### Q7"
   ]
  },
  {
   "cell_type": "code",
   "execution_count": null,
   "id": "eef1a1d0-ab3c-44ac-8668-e1cc54965cd7",
   "metadata": {},
   "outputs": [],
   "source": [
    "Q7. You are analyzing a dataset with two continuous variables, \"Temperature\" and \"Humidity\", and two\n",
    "categorical variables, \"Weather Condition\" (Sunny/Cloudy/Rainy) and \"Wind Direction\" (North/South/\n",
    "East/West). Calculate the covariance between each pair of variables and interpret the results."
   ]
  },
  {
   "cell_type": "code",
   "execution_count": null,
   "id": "9ddfac03-b435-4d53-b383-e3ebe5c074fc",
   "metadata": {},
   "outputs": [],
   "source": [
    "Ans:- To calculate the covariance between each pair of variables, we would need to have a numerical value assigned to each \n",
    "categorical variable. One way to do this is by using label encoding, assigning a unique numerical value to each category \n",
    "within each variable. Once we have the numerical values assigned, we can calculate the covariance matrix.\n",
    "\n",
    "Assuming we have already performed label encoding on the two categorical variables, the resulting covariance matrix would \n",
    "look like this:\n",
    "\n",
    "Temperature\tHumidity\tWeather Condition\tWind Direction\n",
    "Temperature\t1\tcov(T,H)\tcov(T,WC)\tcov(T,WD)\n",
    "Humidity\tcov(H,T)\t1\tcov(H,WC)\tcov(H,WD)\n",
    "Weather Cond.\tcov(WC,T)\tcov(WC,H)\t1\tcov(WC,WD)\n",
    "Wind Direction\tcov(WD,T)\tcov(WD,H)\tcov(WD,WC)\t1\n",
    "Interpreting the results of the covariance matrix would depend on the actual values obtained for each pair of variables. \n",
    "A positive covariance value indicates that the two variables tend to vary together in the same direction, while a negative\n",
    "covariance value indicates that the two variables tend to vary together in opposite directions. A covariance value of 0 \n",
    "indicates that there is no linear relationship between the two variables. However, it's important to note that covariance \n",
    "does not indicate the strength of the relationship between the variables, only the direction."
   ]
  },
  {
   "cell_type": "code",
   "execution_count": null,
   "id": "b9ca40fa-e6d3-40ef-9e9e-96a19d8cd779",
   "metadata": {},
   "outputs": [],
   "source": []
  }
 ],
 "metadata": {
  "kernelspec": {
   "display_name": "Python 3 (ipykernel)",
   "language": "python",
   "name": "python3"
  },
  "language_info": {
   "codemirror_mode": {
    "name": "ipython",
    "version": 3
   },
   "file_extension": ".py",
   "mimetype": "text/x-python",
   "name": "python",
   "nbconvert_exporter": "python",
   "pygments_lexer": "ipython3",
   "version": "3.10.8"
  }
 },
 "nbformat": 4,
 "nbformat_minor": 5
}
