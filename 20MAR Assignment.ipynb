{
 "cells": [
  {
   "cell_type": "markdown",
   "id": "1fd18a93-448a-4f98-8b04-8258f7aeec44",
   "metadata": {},
   "source": [
    "## 20MAR\n",
    "### Assignment"
   ]
  },
  {
   "cell_type": "markdown",
   "id": "2c3dbfcd-1396-4c07-9759-a3bbde481428",
   "metadata": {},
   "source": [
    "### Q1"
   ]
  },
  {
   "cell_type": "code",
   "execution_count": null,
   "id": "06793c95-8d44-4500-93c3-366920effe05",
   "metadata": {},
   "outputs": [],
   "source": [
    "Q1. What is data encoding? How is it useful in data science?"
   ]
  },
  {
   "cell_type": "code",
   "execution_count": null,
   "id": "50f79b0b-67a7-4c7f-802e-bb1f5d253254",
   "metadata": {},
   "outputs": [],
   "source": [
    "Ans:- Data encoding is the process of converting data from one format or representation to another. In data science, data \n",
    "encoding is useful for several reasons:\n",
    "\n",
    "=> Machine Learning: Machine learning models work with numerical data, and encoding categorical data into numerical data is \n",
    "a crucial preprocessing step in machine learning.\n",
    "\n",
    "=> Storage: Encoding data can help reduce storage space by compressing data into a more compact format.\n",
    "\n",
    "=> Data Integration: Data encoding can help to integrate data from multiple sources with different formats into a single\n",
    "data format.\n",
    "\n",
    "=> Data Security: Encoding data can be used as a form of encryption to protect sensitive information by transforming it into\n",
    "an unreadable format.\n",
    "\n",
    "Overall, data encoding is a crucial step in preparing data for analysis, visualization, and machine learning."
   ]
  },
  {
   "cell_type": "markdown",
   "id": "455117f5-bf97-4f37-bd47-f4f12cd8c444",
   "metadata": {},
   "source": [
    "### Q2"
   ]
  },
  {
   "cell_type": "code",
   "execution_count": null,
   "id": "4d76c379-63d8-4d27-a3ad-4653a90a0bcf",
   "metadata": {},
   "outputs": [],
   "source": [
    "Q2. What is nominal encoding? Provide an example of how you would use it in a real-world scenario."
   ]
  },
  {
   "cell_type": "code",
   "execution_count": null,
   "id": "9cbcdbe4-bdfd-45de-ba9c-401939b4afc5",
   "metadata": {},
   "outputs": [],
   "source": [
    "Ans:- Nominal encoding, also known as one-hot encoding, is a technique used to convert categorical variables into a format \n",
    "that can be used by machine learning algorithms. In nominal encoding, each category is represented by a binary value \n",
    "(0 or 1) in a new column.\n",
    "\n",
    "For example, let's consider a dataset that contains information about different types of cars, including their make, model,\n",
    "and color. The color variable is categorical, with possible values such as \"red\", \"blue\", and \"green\". To use this variable \n",
    "in a machine learning algorithm, we can use nominal encoding to create new binary columns for each possible color value. \n",
    "Each row in the dataset would then have a 1 in the appropriate color column and 0 in all the other color columns.\n",
    "\n",
    "Here is an example of how we could encode the color variable using nominal encoding in Python:"
   ]
  },
  {
   "cell_type": "code",
   "execution_count": 1,
   "id": "0d50d8ec-c9c0-492f-a3db-d3d27f340b55",
   "metadata": {},
   "outputs": [
    {
     "name": "stdout",
     "output_type": "stream",
     "text": [
      "     make    model  color_blue  color_green  color_red\n",
      "0  Toyota    Camry           0            0          1\n",
      "1    Ford    F-150           1            0          0\n",
      "2   Honda    Civic           0            1          0\n",
      "3  Toyota  Corolla           0            0          1\n"
     ]
    }
   ],
   "source": [
    "import pandas as pd\n",
    "\n",
    "# Create a sample dataframe\n",
    "df = pd.DataFrame({'make': ['Toyota', 'Ford', 'Honda', 'Toyota'],\n",
    "                   'model': ['Camry', 'F-150', 'Civic', 'Corolla'],\n",
    "                   'color': ['red', 'blue', 'green', 'red']})\n",
    "\n",
    "# Perform nominal encoding on the color variable\n",
    "df_encoded = pd.get_dummies(df, columns=['color'])\n",
    "\n",
    "# Print the encoded dataframe\n",
    "print(df_encoded)\n"
   ]
  },
  {
   "cell_type": "code",
   "execution_count": null,
   "id": "55fefaf9-8ece-4242-adf9-91cb341ab712",
   "metadata": {},
   "outputs": [],
   "source": [
    "In this example, we used the get_dummies() function from the Pandas library to perform nominal encoding on the \"color\" \n",
    "variable. The resulting dataframe contains new columns for each possible color value, with 1s and 0s indicating the presence\n",
    "or absence of each color in each row of the dataset."
   ]
  },
  {
   "cell_type": "markdown",
   "id": "38de3d2e-569d-4a46-97f9-ad285f9a5016",
   "metadata": {},
   "source": [
    "### Q3"
   ]
  },
  {
   "cell_type": "code",
   "execution_count": null,
   "id": "df69a430-ed12-42bd-9754-15a4de5eca68",
   "metadata": {},
   "outputs": [],
   "source": [
    "Q3. In what situations is nominal encoding preferred over one-hot encoding? Provide a practical example."
   ]
  },
  {
   "cell_type": "code",
   "execution_count": null,
   "id": "95e1d5ad-76fe-4e09-b03f-28ded1cb2e89",
   "metadata": {},
   "outputs": [],
   "source": [
    "Ans:- Nominal encoding is preferred over one-hot encoding when the categories have a natural ordering, and it is important \n",
    "to preserve that ordering. One practical example of this is in the rating of movies, where the rating categories are \"G,\" \n",
    "\"PG,\" \"PG-13,\" \"R,\" and \"NC-17.\" These categories have a clear ordering, with \"G\" being the least restrictive and \"NC-17\"\n",
    "being the most restrictive. In this case, nominal encoding could be used to assign numerical values to each category that \n",
    "reflect their position in the ordering. For example, \"G\" could be encoded as 1, \"PG\" as 2, \"PG-13\" as 3, \"R\" as 4, and \n",
    "\"NC-17\" as 5. This preserves the ordering of the categories while still allowing them to be used as features in a machine \n",
    "learning model."
   ]
  },
  {
   "cell_type": "markdown",
   "id": "c67a6319-105a-4d58-95b4-e6132d023cd4",
   "metadata": {},
   "source": [
    "### Q4"
   ]
  },
  {
   "cell_type": "code",
   "execution_count": null,
   "id": "77b4788a-e4b4-4e22-8bf6-945c5ae05809",
   "metadata": {},
   "outputs": [],
   "source": [
    "Q4. Suppose you have a dataset containing categorical data with 5 unique values. Which encoding\n",
    "technique would you use to transform this data into a format suitable for machine learning algorithms?\n",
    "Explain why you made this choice."
   ]
  },
  {
   "cell_type": "code",
   "execution_count": null,
   "id": "f71d420b-b4cd-408d-827e-0660cb0482e4",
   "metadata": {},
   "outputs": [],
   "source": [
    "Ans:- The choice of encoding technique would depend on the specific characteristics of the categorical data and the \n",
    "requirements of the machine learning algorithm being used. Generally, if the categorical data has a small number of unique \n",
    "values and there is no inherent ordering to the values, then nominal encoding (also known as label encoding) can be used.\n",
    "\n",
    "If there is an ordering to the values, then ordinal encoding can be used. However, it is important to note that ordinal \n",
    "encoding assumes that there is a meaningful order to the categories, which may not always be the case. In such situations,\n",
    "one-hot encoding may be preferred as it does not assume any order to the categories and creates a binary column for each \n",
    "unique value.\n",
    "\n",
    "Therefore, if the categorical data with 5 unique values has no inherent order to the values, nominal encoding can be used. \n",
    "If there is an inherent order, ordinal encoding may be used, but if the order is not meaningful or unknown, one-hot encoding\n",
    "can be a better choice."
   ]
  },
  {
   "cell_type": "markdown",
   "id": "33fc413d-8734-4c39-ac16-678eecb593d2",
   "metadata": {},
   "source": [
    "### Q5"
   ]
  },
  {
   "cell_type": "code",
   "execution_count": null,
   "id": "a779024e-0a91-48f6-aa29-0380b812a01b",
   "metadata": {},
   "outputs": [],
   "source": [
    "Q5. In a machine learning project, you have a dataset with 1000 rows and 5 columns. Two of the columns\n",
    "are categorical, and the remaining three columns are numerical. If you were to use nominal encoding to\n",
    "transform the categorical data, how many new columns would be created? Show your calculations."
   ]
  },
  {
   "cell_type": "code",
   "execution_count": null,
   "id": "7eb2c63b-5133-428b-ba3c-e25a1a45b4ef",
   "metadata": {},
   "outputs": [],
   "source": [
    "Ans:- If there are two categorical columns with 1000 rows of data, and we use nominal encoding to transform the categorical \n",
    "data, then each unique value in the two columns will be represented by a new column with binary values (0 or 1).\n",
    "\n",
    "For the first categorical column, if there are n unique values, then n new columns will be created. Since we don't know the \n",
    "number of unique values in the column, let's assume there are m unique values. Therefore, m new columns will be created for\n",
    "the first categorical column.\n",
    "\n",
    "Similarly, for the second categorical column, if there are p unique values, then p new columns will be created.\n",
    "\n",
    "Therefore, the total number of new columns created will be m + p. The remaining three numerical columns will remain \n",
    "unchanged.\n",
    "\n",
    "Note that in some cases, when one-hot encoding is used instead of nominal encoding, it may create fewer new columns because\n",
    "it does not create a new column for every unique value in the categorical column. Instead, it creates k-1 new columns for a\n",
    "categorical column with k unique values. However, in this case, nominal encoding was assumed."
   ]
  },
  {
   "cell_type": "markdown",
   "id": "d4982c86-d826-406b-b307-08cef72166ad",
   "metadata": {},
   "source": [
    "### Q6"
   ]
  },
  {
   "cell_type": "code",
   "execution_count": null,
   "id": "b6a8147e-6443-43e0-883b-d850053d6731",
   "metadata": {},
   "outputs": [],
   "source": [
    "Q6. You are working with a dataset containing information about different types of animals, including their\n",
    "species, habitat, and diet. Which encoding technique would you use to transform the categorical data into\n",
    "a format suitable for machine learning algorithms? Justify your answer."
   ]
  },
  {
   "cell_type": "code",
   "execution_count": null,
   "id": "d936d070-d4b7-4072-a032-697080d9a76a",
   "metadata": {},
   "outputs": [],
   "source": [
    "Ans:- The choice of encoding technique depends on the nature of the categorical data and the specific machine learning \n",
    "algorithm being used. If the categorical data has a natural order or hierarchy, such as ordinal data, then label encoding\n",
    "may be more appropriate. However, if the categorical data does not have a natural order or hierarchy, and there is no \n",
    "relationship between the different categories, then one-hot encoding would be more suitable. In the case of the animal \n",
    "dataset, it is likely that one-hot encoding would be the preferred choice, as there is no natural order or hierarchy between\n",
    "different species, habitats, or diets."
   ]
  },
  {
   "cell_type": "markdown",
   "id": "55c26178-e1ed-4f4f-8bb4-1d825d155870",
   "metadata": {},
   "source": [
    "### Q7"
   ]
  },
  {
   "cell_type": "code",
   "execution_count": null,
   "id": "a25a76dc-d300-463c-a93e-893b85b92cea",
   "metadata": {},
   "outputs": [],
   "source": [
    "Q7.You are working on a project that involves predicting customer churn for a telecommunications\n",
    "company. You have a dataset with 5 features, including the customer's gender, age, contract type,\n",
    "monthly charges, and tenure. Which encoding technique(s) would you use to transform the categorical\n",
    "data into numerical data? Provide a step-by-step explanation of how you would implement the encoding."
   ]
  },
  {
   "cell_type": "code",
   "execution_count": null,
   "id": "d09c8c87-b658-4e74-b5b0-f1710f975ae3",
   "metadata": {},
   "outputs": [],
   "source": [
    "Ans:- For the given dataset, we need to encode the categorical data (gender and contract type) into numerical data. We can \n",
    "use the following encoding techniques:\n",
    "\n",
    "=> Binary Encoding: This technique can be used for encoding the gender feature, which has two unique values. In this \n",
    "technique, each unique value is converted into binary digits. In this case, we can convert 'male' to 0 and 'female' to 1.\n",
    "\n",
    "=> Label Encoding: This technique can be used for encoding the contract type feature, which has three unique values. In this\n",
    "technique, each unique value is assigned a label from 0 to (number of unique values - 1). In this case, we can assign \n",
    "'month-to-month' to 0, 'one year' to 1, and 'two year' to 2.\n",
    "\n",
    "Here is how we can implement these encoding techniques in Python:"
   ]
  },
  {
   "cell_type": "code",
   "execution_count": null,
   "id": "ee30ffc4-dcf7-408e-92cd-5035fb22c479",
   "metadata": {},
   "outputs": [],
   "source": [
    "import pandas as pd\n",
    "from category_encoders import BinaryEncoder, OrdinalEncoder\n",
    "\n",
    "# Load the dataset\n",
    "df = pd.read_csv('telecom_churn.csv')\n",
    "\n",
    "# Separate the features and target variable\n",
    "X = df.drop('Churn', axis=1)\n",
    "y = df['Churn']\n",
    "\n",
    "# Encode the gender feature using binary encoding\n",
    "be = BinaryEncoder(cols=['gender'])\n",
    "X_encoded = be.fit_transform(X)\n",
    "\n",
    "# Encode the contract type feature using label encoding\n",
    "le = OrdinalEncoder(cols=['Contract'])\n",
    "X_encoded = le.fit_transform(X_encoded)\n"
   ]
  },
  {
   "cell_type": "code",
   "execution_count": null,
   "id": "d024bf72-79dc-4c85-b793-c0d97184f14e",
   "metadata": {},
   "outputs": [],
   "source": [
    "After encoding the categorical data, we can proceed with the machine learning model training and evaluation using the \n",
    "encoded data."
   ]
  },
  {
   "cell_type": "code",
   "execution_count": null,
   "id": "2174afc7-3db8-43cd-9757-5b054017d478",
   "metadata": {},
   "outputs": [],
   "source": []
  }
 ],
 "metadata": {
  "kernelspec": {
   "display_name": "Python 3 (ipykernel)",
   "language": "python",
   "name": "python3"
  },
  "language_info": {
   "codemirror_mode": {
    "name": "ipython",
    "version": 3
   },
   "file_extension": ".py",
   "mimetype": "text/x-python",
   "name": "python",
   "nbconvert_exporter": "python",
   "pygments_lexer": "ipython3",
   "version": "3.10.8"
  }
 },
 "nbformat": 4,
 "nbformat_minor": 5
}
