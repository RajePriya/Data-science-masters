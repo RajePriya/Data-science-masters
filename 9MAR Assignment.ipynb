{
 "cells": [
  {
   "cell_type": "markdown",
   "id": "a7098ad0-162a-42c0-9801-f9360068ed8b",
   "metadata": {},
   "source": [
    "## 9MAR\n",
    "### Assiggment"
   ]
  },
  {
   "cell_type": "markdown",
   "id": "da668dbe-ea56-43b5-96cb-d79756cec83f",
   "metadata": {},
   "source": [
    "### Q1"
   ]
  },
  {
   "cell_type": "code",
   "execution_count": null,
   "id": "d82a605b-d06b-4e3e-b667-6dde26d59fe3",
   "metadata": {},
   "outputs": [],
   "source": [
    "Q1: What are the Probability Mass Function (PMF) and Probability Density Function (PDF)? Explain with\n",
    "an example."
   ]
  },
  {
   "cell_type": "code",
   "execution_count": null,
   "id": "4b2d250c-5a92-4e5c-bcf8-44be325d0c48",
   "metadata": {},
   "outputs": [],
   "source": [
    "Ans:- Both Probability Mass Function (PMF) and Probability Density Function (PDF) are mathematical functions used to describe the probability\n",
    "distribution of a random variable.\n",
    "\n",
    "PMF is used to describe the probability distribution of a discrete random variable. It maps each possible outcome of the random variable to its \n",
    "probability of occurrence. PMF gives the probability of each possible value of the discrete random variable.\n",
    "\n",
    "For example, let's consider the toss of a fair coin. The possible outcomes are either \"heads\" or \"tails\", and each outcome has an equal \n",
    "probability of 0.5. The PMF for this situation is:\n",
    "\n",
    "P(X = heads) = 0.5\n",
    "P(X = tails) = 0.5\n",
    "\n",
    "PDF is used to describe the probability distribution of a continuous random variable. It maps each possible value of the random variable to a\n",
    "probability density. The area under the curve of the PDF represents the total probability of all possible outcomes.\n",
    "\n",
    "For example, let's consider the height of a randomly selected person from a population. The height can take any value within a certain range,\n",
    "and the probability of any specific value is zero. The PDF for this situation is a continuous function that represents the probability density \n",
    "of each possible height value. The shape of the PDF can be different for different populations, but it always satisfies the properties of a\n",
    "probability density function.\n",
    "\n",
    "For instance, the PDF for the height of a population may be a normal distribution with a mean of 5 feet and a standard deviation of 2 inches. \n",
    "This PDF would show that heights near 5 feet are more probable than heights farther away from 5 feet."
   ]
  },
  {
   "cell_type": "markdown",
   "id": "00d54ee5-c5e7-4efc-bd5e-c13bee44ec2d",
   "metadata": {},
   "source": [
    "### Q2"
   ]
  },
  {
   "cell_type": "code",
   "execution_count": null,
   "id": "f4e02091-14cf-4c9a-baaf-b762983e74bd",
   "metadata": {},
   "outputs": [],
   "source": [
    "Q2: What is Cumulative Density Function (CDF)? Explain with an example. Why CDF is used?"
   ]
  },
  {
   "cell_type": "code",
   "execution_count": null,
   "id": "f23971be-8f64-4952-9357-83047c60a539",
   "metadata": {},
   "outputs": [],
   "source": [
    "Ans:- Cumulative Density Function (CDF) is a probability function that provides the probability of a random variable taking on a value less than \n",
    "or equal to a given value. In other words, it calculates the cumulative probability distribution of a random variable.\n",
    "\n",
    "For example, suppose we have a random variable X which represents the number of heads obtained after flipping a coin three times. The possible\n",
    "values of X are 0, 1, 2, or 3. The probability of obtaining 0 heads is 1/8, the probability of obtaining 1 head is 3/8, the probability of \n",
    "obtaining 2 heads is 3/8, and the probability of obtaining 3 heads is 1/8.\n",
    "\n",
    "To calculate the CDF of X, we add up the probabilities of all the values of X less than or equal to a given value. For instance, the CDF of X\n",
    "when X is less than or equal to 1 is calculated as:\n",
    "\n",
    "CDF(X ≤ 1) = P(X = 0) + P(X = 1) = 1/8 + 3/8 = 1/2\n",
    "\n",
    "This means that there is a 50% chance of getting 0 or 1 heads after flipping a coin three times. Similarly, the CDF of X when X is less than or\n",
    "equal to 2 is:\n",
    "\n",
    "CDF(X ≤ 2) = P(X = 0) + P(X = 1) + P(X = 2) = 1/8 + 3/8 + 3/8 = 7/8\n",
    "\n",
    "This means that there is a 87.5% chance of getting 0, 1, or 2 heads after flipping a coin three times.\n",
    "\n",
    "CDF is used to calculate the probability of obtaining a value less than or equal to a given value, which is useful in a variety of statistical\n",
    "applications such as hypothesis testing, confidence intervals, and decision-making processes."
   ]
  },
  {
   "cell_type": "markdown",
   "id": "5bcb3cf8-d3f5-4bc6-8fd0-c651aae01e76",
   "metadata": {},
   "source": [
    "### Q3"
   ]
  },
  {
   "cell_type": "code",
   "execution_count": null,
   "id": "55f74a8e-5ae8-418f-9138-9abfd70352a8",
   "metadata": {},
   "outputs": [],
   "source": [
    "Q3: What are some examples of situations where the normal distribution might be used as a model?\n",
    "Explain how the parameters of the normal distribution relate to the shape of the distribution."
   ]
  },
  {
   "cell_type": "code",
   "execution_count": null,
   "id": "47c3b7ba-cd22-4742-b86d-27a158e191a7",
   "metadata": {},
   "outputs": [],
   "source": [
    "Ans:- The normal distribution is a commonly used probability distribution in statistics due to its versatility and applicability in modeling a \n",
    "wide range of real-world phenomena. Some examples of situations where the normal distribution might be used as a model include:\n",
    "\n",
    "=> Height of individuals in a population: The normal distribution can be used to model the distribution of heights in a population, where the\n",
    "mean and standard deviation of the distribution can be used to describe the average height and the spread of heights, respectively.\n",
    "\n",
    "=> IQ scores: IQ scores are often modeled using the normal distribution, where the mean and standard deviation of the distribution represent the\n",
    "erage IQ score and the variability of scores, respectively.\n",
    "\n",
    "=> Measurement errors: In experimental settings, measurement errors are often modeled using the normal distribution, where the mean and standard \n",
    "deviation of the distribution represent the expected value and the variability of the errors, respectively.\n",
    "\n",
    "The shape of the normal distribution is determined by two parameters: the mean and the standard deviation. The mean represents the center of the\n",
    "distribution and determines where the peak of the distribution is located. The standard deviation represents the spread of the distribution and\n",
    "determines how much the data is spread out around the mean. A larger standard deviation results in a wider and flatter distribution, while a\n",
    "smaller standard deviation results in a narrower and taller distribution."
   ]
  },
  {
   "cell_type": "markdown",
   "id": "97f18f7d-b735-4625-a98d-50372db199db",
   "metadata": {},
   "source": [
    "### Q4"
   ]
  },
  {
   "cell_type": "code",
   "execution_count": null,
   "id": "aba1fd25-1ff3-431d-9c3e-bfd3936a6375",
   "metadata": {},
   "outputs": [],
   "source": [
    "Q4: Explain the importance of Normal Distribution. Give a few real-life examples of Normal\n",
    "Distribution."
   ]
  },
  {
   "cell_type": "code",
   "execution_count": null,
   "id": "19a59216-aa19-4ae8-9227-68ee78f1bd12",
   "metadata": {},
   "outputs": [],
   "source": [
    "Ans:- Normal Distribution, also known as Gaussian Distribution, is one of the most important and widely used probability distributions in \n",
    "statistics. It is a continuous probability distribution that is characterized by its mean and standard deviation. Normal Distribution plays an\n",
    "important role in inferential statistics and has numerous applications in various fields, including natural sciences, engineering, social \n",
    "sciences, and economics.\n",
    "\n",
    "Some real-life examples of Normal Distribution are:\n",
    "\n",
    "=> Human height: The height of the human population follows a normal distribution with a mean of around 5'7'' (170 cm) and a standard deviation\n",
    "of around 3 inches (7.62 cm).\n",
    "\n",
    "=> IQ scores: IQ scores of a population are normally distributed with a mean of 100 and a standard deviation of 15.\n",
    "\n",
    "=> lood pressure: The systolic blood pressure of a population follows a normal distribution with a mean of around 120 mmHg and a standard \n",
    "deviation of around 10 mmHg.\n",
    "\n",
    "=> Errors in measurements: The measurement errors in various scientific experiments follow a normal distribution with a mean of 0 and a standard\n",
    "deviation of the measurement error.\n",
    "\n",
    "=> Annual income: The annual income of a population follows a normal distribution, where the mean income is around $50,000, and the standard\n",
    "deviation is around $10,000.\n",
    "\n",
    "The normal distribution is important because of the following reasons:\n",
    "\n",
    "=> It is a widely used probability distribution in statistics, and many statistical tests and techniques are based on the assumption of \n",
    "normality.\n",
    "\n",
    "=> It provides a good approximation for many real-life phenomena.\n",
    "\n",
    "=> It is easy to work with, and its properties are well-understood.\n",
    "\n",
    "=> It is a symmetrical distribution, where the mean, median, and mode are all equal.\n",
    "\n",
    "=> It allows us to make predictions and estimates about a population based on a sample of data."
   ]
  },
  {
   "cell_type": "markdown",
   "id": "805bbd67-41b2-4cd3-ae24-a88617c6e02b",
   "metadata": {},
   "source": [
    "### Q5"
   ]
  },
  {
   "cell_type": "code",
   "execution_count": null,
   "id": "11bc74c8-3052-440e-82b5-13df4a2a5838",
   "metadata": {},
   "outputs": [],
   "source": [
    "Q5: What is Bernaulli Distribution? Give an Example. What is the difference between Bernoulli\n",
    "Distribution and Binomial Distribution?"
   ]
  },
  {
   "cell_type": "code",
   "execution_count": null,
   "id": "9ab9bc6e-0359-456a-9370-769ea2d47a6c",
   "metadata": {},
   "outputs": [],
   "source": [
    "Ans:- Bernoulli distribution is a discrete probability distribution that describes a single random variable taking only two possible outcomes,\n",
    "typically labeled as success and failure, with probability p and (1-p) respectively. It is a special case of the binomial distribution where\n",
    "n=1.\n",
    "\n",
    "For example, the outcome of flipping a coin can be modeled using a Bernoulli distribution, where \"heads\" is considered a success and \"tails\" a \n",
    "failure. The probability of getting a head is p=0.5 and the probability of getting a tail is (1-p)=0.5.\n",
    "\n",
    "The main difference between Bernoulli distribution and Binomial distribution is that Bernoulli distribution models a single trial or experiment,\n",
    "while Binomial distribution models the number of successes in a fixed number of independent Bernoulli trials.\n",
    "\n",
    "For instance, if we flip a coin 10 times and count the number of heads, this can be modeled using a Binomial distribution with n=10 and p=0.5. \n",
    "The probability of getting k heads can be calculated using the Binomial probability mass function:\n",
    "\n",
    "P(X=k) = (n choose k) * p^k * (1-p)^(n-k)\n",
    "\n",
    "where n is the number of trials, p is the probability of success in each trial, and k is the number of successes.\n",
    "\n",
    "In summary, Bernoulli distribution models a single trial with two possible outcomes, while Binomial distribution models the number of successes\n",
    "in a fixed number of independent Bernoulli trials."
   ]
  },
  {
   "cell_type": "markdown",
   "id": "4edd4030-fb20-458d-bdac-ab0c8a791756",
   "metadata": {},
   "source": [
    "### Q6"
   ]
  },
  {
   "cell_type": "code",
   "execution_count": null,
   "id": "9f622184-f063-4fc3-84ad-81c922303f3e",
   "metadata": {},
   "outputs": [],
   "source": [
    "Q6. Consider a dataset with a mean of 50 and a standard deviation of 10. If we assume that the dataset\n",
    "is normally distributed, what is the probability that a randomly selected observation will be greater\n",
    "than 60? Use the appropriate formula and show your calculations."
   ]
  },
  {
   "cell_type": "code",
   "execution_count": null,
   "id": "1a66d7dd-01d8-492a-b453-9c4baed10bbc",
   "metadata": {},
   "outputs": [],
   "source": [
    "Ans:- To find the probability that a randomly selected observation will be greater than 60, we need to use the standard normal distribution \n",
    "formula:\n",
    "\n",
    "z = (x - mu) / sigma\n",
    "\n",
    "where:\n",
    "x = 60 (the value we want to find the probability for)\n",
    "mu = 50 (mean of the dataset)\n",
    "sigma = 10 (standard deviation of the dataset)\n",
    "\n",
    "Substituting the values, we get:\n",
    "\n",
    "z = (60 - 50) / 10 = 1\n",
    "\n",
    "Next, we need to find the probability of a standard normal distribution being greater than 1, which can be found using a z-table or a calculator.\n",
    "For this example, using a z-table, we find that the probability is approximately 0.1587.\n",
    "\n",
    "Therefore, the probability that a randomly selected observation from the given dataset will be greater than 60 is 0.1587 or 15.87%."
   ]
  },
  {
   "cell_type": "markdown",
   "id": "8c99fb32-bf18-4261-bedb-3a36b445fef7",
   "metadata": {},
   "source": [
    "### Q7"
   ]
  },
  {
   "cell_type": "code",
   "execution_count": null,
   "id": "d9b8eb43-f1c9-4287-aec2-60f364e1bccb",
   "metadata": {},
   "outputs": [],
   "source": [
    "Q7: Explain uniform Distribution with an example."
   ]
  },
  {
   "cell_type": "code",
   "execution_count": null,
   "id": "6093516a-c5b1-4ddc-a0c2-8bfe3709ef48",
   "metadata": {},
   "outputs": [],
   "source": [
    "Ans:- In probability theory and statistics, the uniform distribution is a continuous probability distribution that describes the likelihood of a\n",
    "value occurring within a specific range, where all values are equally likely to occur.\n",
    "\n",
    "The uniform distribution is characterized by its two parameters: a minimum value (a) and a maximum value (b). The probability density function \n",
    "of a uniform distribution is defined as:\n",
    "\n",
    "f(x) = 1/(b-a), for a ≤ x ≤ b\n",
    "f(x) = 0, otherwise\n",
    "\n",
    "This means that the probability of a value falling within the range [a, b] is equal to the total area under the density function curve within\n",
    "that range.\n",
    "\n",
    "A common example of a uniform distribution is the roll of a fair six-sided dice. The probability of rolling any one of the six numbers is 1/6, \n",
    "and each number has an equal probability of being rolled. Another example is the length of time it takes for a traffic signal to turn green, \n",
    "where the time between red and green is uniformly distributed within a certain range."
   ]
  },
  {
   "cell_type": "markdown",
   "id": "ace27e5a-0a06-4e0f-88ab-8b41faa24391",
   "metadata": {},
   "source": [
    "### Q8"
   ]
  },
  {
   "cell_type": "code",
   "execution_count": null,
   "id": "fb3dee1b-ad42-4804-9ce2-e99c7a3c4f84",
   "metadata": {},
   "outputs": [],
   "source": [
    "Q8: What is the z score? State the importance of the z score."
   ]
  },
  {
   "cell_type": "code",
   "execution_count": null,
   "id": "5dde6c9d-c578-4e47-9a79-cd3c0308a2cc",
   "metadata": {},
   "outputs": [],
   "source": [
    "Ans:- The z-score, also known as the standard score, is a measure of the number of standard deviations an observation or data point is above or \n",
    "below the mean of a dataset. It is calculated as the difference between the observed value and the mean, divided by the standard deviation of \n",
    "the dataset.\n",
    "\n",
    "The z-score is important because it allows us to compare observations from different datasets that may have different scales or units. By \n",
    "standardizing the data, we can determine how far away an observation is from the mean in terms of standard deviations. This allows us to make \n",
    "meaningful comparisons and draw conclusions about the data.\n",
    "\n",
    "The z-score is commonly used in hypothesis testing, where it is used to determine the probability of observing a certain value or range of values\n",
    "given a specific distribution. It is also used in quality control, finance, and other fields where data analysis is important."
   ]
  },
  {
   "cell_type": "markdown",
   "id": "7507f4fd-fdcf-4b6a-9ab1-90aa779ab566",
   "metadata": {},
   "source": [
    "### Q9"
   ]
  },
  {
   "cell_type": "code",
   "execution_count": null,
   "id": "8a431925-585b-4318-9fe1-3f347040448c",
   "metadata": {},
   "outputs": [],
   "source": [
    "Q9: What is Central Limit Theorem? State the significance of the Central Limit Theorem."
   ]
  },
  {
   "cell_type": "code",
   "execution_count": null,
   "id": "56be6a11-fd1f-4db1-a88e-80fd079efc6f",
   "metadata": {},
   "outputs": [],
   "source": [
    "Ans:- Central Limit Theorem (CLT) is a fundamental concept in statistics that states that the sample means of a large number of independent and \n",
    "identically distributed random variables will be normally distributed, regardless of the distribution of the population from which they are \n",
    "drawn, given that the sample size is sufficiently large.\n",
    "\n",
    "In other words, the Central Limit Theorem states that the sum or average of a large number of random variables will be normally distributed, even\n",
    "if the original variables are not normally distributed. This property makes the normal distribution a fundamental distribution in statistics.\n",
    "\n",
    "The significance of the Central Limit Theorem lies in its wide applicability in various fields of science and engineering, where statistical\n",
    "methods are used to analyze data. It allows researchers to make inferences about population parameters based on sample statistics, even if the \n",
    "population distribution is unknown or non-normal. Moreover, it provides a foundation for hypothesis testing, confidence intervals, and other \n",
    "statistical techniques."
   ]
  },
  {
   "cell_type": "markdown",
   "id": "9bc9fc11-a1f6-4fef-9dfe-0986421070e5",
   "metadata": {},
   "source": [
    "### Q10"
   ]
  },
  {
   "cell_type": "code",
   "execution_count": null,
   "id": "3f37fb4c-018c-4791-81ea-867a96285885",
   "metadata": {},
   "outputs": [],
   "source": [
    "Q10: State the assumptions of the Central Limit Theorem."
   ]
  },
  {
   "cell_type": "code",
   "execution_count": null,
   "id": "c7b3203e-d72c-46e4-8083-6dd6fcf0cfb7",
   "metadata": {},
   "outputs": [],
   "source": [
    "Ans:- The Central Limit Theorem (CLT) makes some assumptions in order to be valid. These assumptions are:\n",
    "\n",
    "=> Random Sampling: The sample should be chosen randomly from the population.\n",
    "=> Sample Size: The sample size should be sufficiently large (usually n > 30).\n",
    "=> Independence: The sample observations should be independent of each other.\n",
    "=> Finite Population: For a finite population, the sample size should be less than 10% of the population size."
   ]
  },
  {
   "cell_type": "code",
   "execution_count": null,
   "id": "fc9b0cf0-63c2-42c2-a283-d8fb171d4e3d",
   "metadata": {},
   "outputs": [],
   "source": []
  }
 ],
 "metadata": {
  "kernelspec": {
   "display_name": "Python 3 (ipykernel)",
   "language": "python",
   "name": "python3"
  },
  "language_info": {
   "codemirror_mode": {
    "name": "ipython",
    "version": 3
   },
   "file_extension": ".py",
   "mimetype": "text/x-python",
   "name": "python",
   "nbconvert_exporter": "python",
   "pygments_lexer": "ipython3",
   "version": "3.10.8"
  }
 },
 "nbformat": 4,
 "nbformat_minor": 5
}
