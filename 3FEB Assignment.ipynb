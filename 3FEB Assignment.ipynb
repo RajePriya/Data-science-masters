{
 "cells": [
  {
   "cell_type": "markdown",
   "id": "50fa1df3-69f7-4de5-8e40-64a0ab15dffa",
   "metadata": {},
   "source": [
    "## 3 FEB\n",
    "### Assignment"
   ]
  },
  {
   "cell_type": "markdown",
   "id": "aeabd405-6897-49bc-9560-f773f0902667",
   "metadata": {},
   "source": [
    "### Q1"
   ]
  },
  {
   "cell_type": "code",
   "execution_count": 1,
   "id": "63a1dcd0-6157-4d6c-9781-92f2b48a76d3",
   "metadata": {},
   "outputs": [],
   "source": [
    "# Which keyword is used to create a function? Create a function to return a list of odd numbers in the\n",
    "# range of 1 to 25."
   ]
  },
  {
   "cell_type": "code",
   "execution_count": 2,
   "id": "ee28f054-7847-45d8-be1a-f4814135ecd0",
   "metadata": {},
   "outputs": [],
   "source": [
    "def odd_numbers():\n",
    "    odd_list = []\n",
    "    for num in range(1,26):\n",
    "        if num % 2 != 0:\n",
    "            odd_list.append(num)\n",
    "    return odd_list\n"
   ]
  },
  {
   "cell_type": "code",
   "execution_count": 3,
   "id": "309e1230-075c-4070-acfd-0c6d69dc30c7",
   "metadata": {},
   "outputs": [
    {
     "name": "stdout",
     "output_type": "stream",
     "text": [
      "[1, 3, 5, 7, 9, 11, 13, 15, 17, 19, 21, 23, 25]\n"
     ]
    }
   ],
   "source": [
    "print(odd_numbers())"
   ]
  },
  {
   "cell_type": "markdown",
   "id": "7e8aad46-95a5-491e-9189-49f23e133586",
   "metadata": {},
   "source": [
    "### Q2"
   ]
  },
  {
   "cell_type": "code",
   "execution_count": 4,
   "id": "289c9856-a9ce-4a1b-8bf9-c7572b24dc84",
   "metadata": {},
   "outputs": [],
   "source": [
    "# Q2. Why *args and **kwargs is used in some functions? Create a function each for *args and **kwargs to\n",
    "  # demonstrate their use."
   ]
  },
  {
   "cell_type": "code",
   "execution_count": null,
   "id": "28b58288-c023-4b9d-bfd2-64844a2b9f48",
   "metadata": {},
   "outputs": [],
   "source": [
    "Ans:- *args and **kwargs are used in some functions as a way to pass a variable number of arguments to a function.\n",
    "\n",
    "*args is used to send a non-keyworded variable length argument list to the function.\n",
    "\n",
    "**kwargs is used to pass keyworded variable length of arguments to a function.\n",
    "\n",
    "The following example shows how *args and **kwargs can be used in a function to print the arguments passed to it:\n"
   ]
  },
  {
   "cell_type": "code",
   "execution_count": 7,
   "id": "fb2b6d2a-920f-4f18-8737-e7e672eb331e",
   "metadata": {},
   "outputs": [
    {
     "name": "stdout",
     "output_type": "stream",
     "text": [
      "Non-Keyword Arguments:\n",
      "Hello\n",
      "World\n",
      "\n",
      "Keyword Arguments:\n",
      "first_name : John\n",
      "last_name : Doe\n"
     ]
    }
   ],
   "source": [
    "def print_args(*args, **kwargs):\n",
    "  print(\"Non-Keyword Arguments:\")\n",
    "  for arg in args:\n",
    "    print(arg)\n",
    "  \n",
    "  print(\"\\nKeyword Arguments:\")\n",
    "  for key, value in kwargs.items():\n",
    "    print(f\"{key} : {value}\")\n",
    "\n",
    "print_args('Hello', 'World', first_name='John', last_name='Doe')\n"
   ]
  },
  {
   "cell_type": "markdown",
   "id": "ceb6db42-914d-44da-bb0b-e88ec5a33873",
   "metadata": {},
   "source": [
    "### Q3"
   ]
  },
  {
   "cell_type": "code",
   "execution_count": null,
   "id": "08cb22dc-ef88-4660-a52e-cf1578534554",
   "metadata": {},
   "outputs": [],
   "source": [
    "Q3. What is an iterator in python? Name the method used to initialise the iterator object and the method\n",
    "used for iteration. Use these methods to print the first five elements of the given list [2, 4, 6, 8, 10, 12, 14, 16,\n",
    "18, 20]."
   ]
  },
  {
   "cell_type": "code",
   "execution_count": null,
   "id": "8e6a5d06-cbf9-4855-8e85-96604818fb19",
   "metadata": {},
   "outputs": [],
   "source": [
    "Ans:- An iterator in Python is an object that allows the user to traverse through a given data structure (such as a list, set, or tuple) and access its individual elements. The method used to initialise the iterator object is the __iter__() method, and the method used for iteration is the __next__() method."
   ]
  },
  {
   "cell_type": "code",
   "execution_count": null,
   "id": "9c3a19bc-5a20-4728-b03e-f10d5595be9b",
   "metadata": {},
   "outputs": [],
   "source": [
    "To print the first five elements of the given list, we can use the following code:\n"
   ]
  },
  {
   "cell_type": "code",
   "execution_count": 8,
   "id": "b380ab0c-544c-4f8a-bdf3-fa24d88f01ca",
   "metadata": {},
   "outputs": [],
   "source": [
    "my_list = [2, 4, 6, 8, 10, 12, 14, 16, 18, 20]"
   ]
  },
  {
   "cell_type": "code",
   "execution_count": 9,
   "id": "9bc4211b-61b8-4249-bc5a-a1131f54e7fb",
   "metadata": {},
   "outputs": [],
   "source": [
    "# Initialise the iterator\n",
    "iterator = iter(my_list)"
   ]
  },
  {
   "cell_type": "code",
   "execution_count": 10,
   "id": "7597b7eb-a1e6-453d-8974-d63301f8dbfd",
   "metadata": {},
   "outputs": [
    {
     "name": "stdout",
     "output_type": "stream",
     "text": [
      "2\n",
      "4\n",
      "6\n",
      "8\n",
      "10\n"
     ]
    }
   ],
   "source": [
    "# Iterate and print the first five elements\n",
    "for i in range(5):\n",
    "    print(next(iterator))"
   ]
  },
  {
   "cell_type": "markdown",
   "id": "9324b8b0-aa1d-405f-a418-2a5a4449f62d",
   "metadata": {},
   "source": [
    "### Q4"
   ]
  },
  {
   "cell_type": "code",
   "execution_count": null,
   "id": "df717d28-579b-4617-9108-9e5b7129cf1b",
   "metadata": {},
   "outputs": [],
   "source": [
    "Q4. What is a generator function in python? Why yield keyword is used? Give an example of a generator\n",
    "function."
   ]
  },
  {
   "cell_type": "code",
   "execution_count": null,
   "id": "a3fde550-3df3-48cb-a7e4-2d85b1bb8dd4",
   "metadata": {},
   "outputs": [],
   "source": [
    "Ans:- A generator function is a special type of function that returns an iterable object called a generator. It is different from a regular function because it uses the yield keyword instead of the return keyword. The yield keyword allows the function to return a value and then resume execution from where it left off the next time it is called.\n",
    "\n",
    "This type of function is useful when dealing with large datasets or processing time-consuming tasks. It allows us to iterate over the data or tasks without having to store the entire set in memory.\n"
   ]
  },
  {
   "cell_type": "code",
   "execution_count": null,
   "id": "529c8bbb-8ff0-4a09-a149-6a7b215f313c",
   "metadata": {},
   "outputs": [],
   "source": [
    "An example of a generator function is as follows:"
   ]
  },
  {
   "cell_type": "code",
   "execution_count": 11,
   "id": "7f0bd1c3-e0c9-4ad4-aea0-6594062b5bff",
   "metadata": {},
   "outputs": [],
   "source": [
    "def generator_function():\n",
    "    for i in range(10):\n",
    "        yield i"
   ]
  },
  {
   "cell_type": "code",
   "execution_count": 12,
   "id": "fd482409-257a-4271-85fe-0fd5e048f4c8",
   "metadata": {},
   "outputs": [
    {
     "name": "stdout",
     "output_type": "stream",
     "text": [
      "0\n",
      "1\n",
      "2\n",
      "3\n",
      "4\n",
      "5\n",
      "6\n",
      "7\n",
      "8\n",
      "9\n"
     ]
    }
   ],
   "source": [
    "for item in generator_function():\n",
    "    print(item)\n"
   ]
  },
  {
   "cell_type": "markdown",
   "id": "d546c2f0-639b-4864-9176-7f690a29e008",
   "metadata": {},
   "source": [
    "### Q5"
   ]
  },
  {
   "cell_type": "code",
   "execution_count": null,
   "id": "f35833cd-4578-4819-8315-c7589ef9976e",
   "metadata": {},
   "outputs": [],
   "source": [
    "Q5. Create a generator function for prime numbers less than 1000. Use the next() method to print the\n",
    "first 20 prime numbers."
   ]
  },
  {
   "cell_type": "code",
   "execution_count": 13,
   "id": "ef1c7db6-5313-455c-9740-24d8acfd820c",
   "metadata": {},
   "outputs": [],
   "source": [
    "def gen_prime_numbers():\n",
    "  num = 2\n",
    "  while num < 1000:\n",
    "    if all(num % i != 0 for i in range(2, num)):\n",
    "      yield num\n",
    "    num += 1"
   ]
  },
  {
   "cell_type": "code",
   "execution_count": 14,
   "id": "d3c2d0cc-2a32-41f5-a31f-c8d5b7315f63",
   "metadata": {},
   "outputs": [],
   "source": [
    "prime_generator = gen_prime_numbers()\n"
   ]
  },
  {
   "cell_type": "code",
   "execution_count": 15,
   "id": "e5727912-5f87-4207-ba03-07f9e85a87a5",
   "metadata": {},
   "outputs": [
    {
     "name": "stdout",
     "output_type": "stream",
     "text": [
      "2\n",
      "3\n",
      "5\n",
      "7\n",
      "11\n",
      "13\n",
      "17\n",
      "19\n",
      "23\n",
      "29\n",
      "31\n",
      "37\n",
      "41\n",
      "43\n",
      "47\n",
      "53\n",
      "59\n",
      "61\n",
      "67\n",
      "71\n"
     ]
    }
   ],
   "source": [
    "for _ in range(20):\n",
    "  print(next(prime_generator))"
   ]
  },
  {
   "cell_type": "code",
   "execution_count": null,
   "id": "4f5e169c-9f62-4ba4-bf8b-040c909aae22",
   "metadata": {},
   "outputs": [],
   "source": []
  },
  {
   "cell_type": "code",
   "execution_count": null,
   "id": "71c13f5a-c518-4d4f-8510-e136c613c6df",
   "metadata": {},
   "outputs": [],
   "source": []
  },
  {
   "cell_type": "code",
   "execution_count": null,
   "id": "83a2fc67-8393-4b7e-9d63-320e9ac0017f",
   "metadata": {},
   "outputs": [],
   "source": []
  }
 ],
 "metadata": {
  "kernelspec": {
   "display_name": "Python 3 (ipykernel)",
   "language": "python",
   "name": "python3"
  },
  "language_info": {
   "codemirror_mode": {
    "name": "ipython",
    "version": 3
   },
   "file_extension": ".py",
   "mimetype": "text/x-python",
   "name": "python",
   "nbconvert_exporter": "python",
   "pygments_lexer": "ipython3",
   "version": "3.10.8"
  }
 },
 "nbformat": 4,
 "nbformat_minor": 5
}
