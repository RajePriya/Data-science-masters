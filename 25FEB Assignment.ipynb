{
 "cells": [
  {
   "cell_type": "markdown",
   "id": "3583955e-75cf-4d98-9468-e26a627a822b",
   "metadata": {},
   "source": [
    "## 25 FEB \n",
    "### Assignment"
   ]
  },
  {
   "cell_type": "markdown",
   "id": "886effbd-3c48-4612-a6ea-80d20ea61c05",
   "metadata": {},
   "source": [
    "### Q1"
   ]
  },
  {
   "cell_type": "raw",
   "id": "408e4494-8ece-485c-8be4-83a967c03433",
   "metadata": {},
   "source": [
    "Consider following code to answer further questions:\n",
    "import pandas as pd\n",
    "course_name = [‘Data Science’, ‘Machine Learning’, ‘Big Data’, ‘Data Engineer’]\n",
    "duration = [2,3,6,4]\n",
    "df = pd.DataFrame(data = {‘course_name’ : course_name, ‘duration’ : duration})"
   ]
  },
  {
   "cell_type": "raw",
   "id": "495c99b7-d935-44e1-8acd-6bdc4265710d",
   "metadata": {},
   "source": [
    "Q1. Write a code to print the data present in the second row of the dataframe, df."
   ]
  },
  {
   "cell_type": "code",
   "execution_count": 2,
   "id": "4274d607-8dde-45f8-9e82-bb443b6187cb",
   "metadata": {},
   "outputs": [],
   "source": [
    "import pandas as pd"
   ]
  },
  {
   "cell_type": "code",
   "execution_count": 3,
   "id": "7a3aef7b-439f-4b2a-ac72-b8b8bb740370",
   "metadata": {},
   "outputs": [],
   "source": [
    "course_name = ['Data Science', 'Machine Learning', 'Big Data', 'Data Engineer']\n",
    "duration = [2,3,6,4]\n",
    "df = pd.DataFrame(data = {'course_name' : course_name, 'duration' : duration})"
   ]
  },
  {
   "cell_type": "code",
   "execution_count": 4,
   "id": "4e2afab3-2e22-43eb-aa1e-afae48374aba",
   "metadata": {},
   "outputs": [
    {
     "name": "stdout",
     "output_type": "stream",
     "text": [
      "        course_name  duration\n",
      "0      Data Science         2\n",
      "1  Machine Learning         3\n",
      "2          Big Data         6\n",
      "3     Data Engineer         4\n"
     ]
    }
   ],
   "source": [
    "print(df[['course_name', 'duration']])"
   ]
  },
  {
   "cell_type": "markdown",
   "id": "92a7cb6d-c80f-473e-884d-67fda38c5e60",
   "metadata": {},
   "source": [
    "### Q2"
   ]
  },
  {
   "cell_type": "raw",
   "id": "c052384c-5202-4105-8dd7-1d8f1c0ad883",
   "metadata": {},
   "source": [
    "Q2. What is the difference between the functions loc and iloc in pandas.DataFrame?"
   ]
  },
  {
   "cell_type": "raw",
   "id": "3a95108a-e40a-447c-92d6-686c4d8d8b37",
   "metadata": {},
   "source": [
    "Ans:- Pandas library of python is very useful for the manipulation of mathematical data and is widely used in the \n",
    "field of machine learning. It comprises many methods for its proper functioning. loc() and iloc() are one of those\n",
    "methods. These are used in slicing data from the Pandas DataFrame. They help in the convenient selection of \n",
    "data from the DataFrame in Python. They are used in filtering the data according to some conditions. "
   ]
  },
  {
   "cell_type": "raw",
   "id": "ce1f2f94-7c00-4ec0-a603-ff5ef667637b",
   "metadata": {},
   "source": [
    "Python loc() function\n",
    "The loc() function is label based data selecting method which means that we have to pass the name of the row or\n",
    "column which we want to select. This method includes the last element of the range passed in it, unlike iloc(). \n",
    "loc() can accept the boolean data unlike iloc(). "
   ]
  },
  {
   "cell_type": "raw",
   "id": "362369d7-4b4a-463a-a17f-eb10a166b9e5",
   "metadata": {},
   "source": [
    "Python iloc() function\n",
    "The iloc() function is an indexed-based selecting method which means that we have to pass an integer index in the\n",
    "method to select a specific row/column. This method does not include the last element of the range passed in it \n",
    "unlike loc(). iloc() does not accept the boolean data unlike loc()."
   ]
  },
  {
   "cell_type": "markdown",
   "id": "491e27bd-199e-4f93-a8d0-da5280583c05",
   "metadata": {},
   "source": [
    "### Q3"
   ]
  },
  {
   "cell_type": "raw",
   "id": "e4d1c45c-ab4e-43af-8b0f-132fa1cf500b",
   "metadata": {},
   "source": [
    "Q3. Reindex the given dataframe using a variable, reindex = [3,0,1,2] and store it in the variable, new_df\n",
    "then find the output for both new_df.loc[2] and new_df.iloc[2].\n",
    "Did you observe any difference in both the outputs? If so then explain it.\n",
    "Consider the below code to answer further questions:\n",
    "import pandas as pd\n",
    "import numpy as np\n",
    "columns = ['column_1', 'column_2', 'column_3', 'column_4', 'column_5', 'column_6']\n",
    "indices = [1,2,3,4,5,6]\n",
    "#Creating a dataframe:\n",
    "df1 = pd.DataFrame(np.random.rand(6,6), columns = columns, index = indices)"
   ]
  },
  {
   "cell_type": "code",
   "execution_count": 5,
   "id": "d9b58e66-081a-4618-9893-b83fb5a848ac",
   "metadata": {},
   "outputs": [],
   "source": [
    "import pandas as pd\n",
    "import numpy as np\n",
    "columns = ['column_1', 'column_2', 'column_3', 'column_4', 'column_5', 'column_6']\n",
    "indices = [1,2,3,4,5,6]"
   ]
  },
  {
   "cell_type": "code",
   "execution_count": 6,
   "id": "64f4d81e-c891-4bff-96ac-fdda99de1834",
   "metadata": {},
   "outputs": [],
   "source": [
    "df1 = pd.DataFrame(np.random.rand(6,6), columns = columns, index = indices)"
   ]
  },
  {
   "cell_type": "code",
   "execution_count": 7,
   "id": "d54ec4fa-d447-4b1d-8f34-693ba9b82c5d",
   "metadata": {},
   "outputs": [],
   "source": [
    "new_df = df1.reindex([3,0,1,2])"
   ]
  },
  {
   "cell_type": "code",
   "execution_count": 8,
   "id": "519974a7-4954-40aa-bb09-cfe77c9ef548",
   "metadata": {},
   "outputs": [
    {
     "name": "stdout",
     "output_type": "stream",
     "text": [
      "column_1    0.870901\n",
      "column_2    0.803562\n",
      "column_3    0.137960\n",
      "column_4    0.279441\n",
      "column_5    0.334739\n",
      "column_6    0.048695\n",
      "Name: 2, dtype: float64\n"
     ]
    }
   ],
   "source": [
    "print(new_df.loc[2])"
   ]
  },
  {
   "cell_type": "code",
   "execution_count": 9,
   "id": "4f5c1a02-e5f5-4b8c-9eee-57dfc31f3846",
   "metadata": {},
   "outputs": [
    {
     "name": "stdout",
     "output_type": "stream",
     "text": [
      "column_1    0.789271\n",
      "column_2    0.479215\n",
      "column_3    0.373105\n",
      "column_4    0.205041\n",
      "column_5    0.671786\n",
      "column_6    0.884960\n",
      "Name: 1, dtype: float64\n"
     ]
    }
   ],
   "source": [
    "print(new_df.iloc[2])"
   ]
  },
  {
   "cell_type": "raw",
   "id": "b7dcd7f8-2909-4cf5-8592-3f558c93bf6f",
   "metadata": {},
   "source": [
    "Therefore, the two outputs are different because .loc accesses rows based on the current index labels, while .iloc\n",
    "accesses rows based on the current integer positions. In this case, the reindexing changes the order of the rows, \n",
    "so the row with index 2 in the new dataframe is different from the row with index 2 in the original dataframe.\n",
    "\n",
    "Regarding the additional code provided, the code creates a new Pandas DataFrame called df1 with 6 rows and 6 \n",
    "columns, where each cell contains a random number between 0 and 1. The columns are labeled 'column_1' to \n",
    "'column_6', and the rows are indexed from 1 to 6."
   ]
  },
  {
   "cell_type": "markdown",
   "id": "b7e732f7-dcea-4bf2-b6d9-68a6921c5041",
   "metadata": {},
   "source": [
    "### Q4"
   ]
  },
  {
   "cell_type": "code",
   "execution_count": null,
   "id": "a658b36e-0c9f-4a32-8cd3-21b46c61387d",
   "metadata": {},
   "outputs": [],
   "source": [
    "Q4. Write a code to find the following statistical measurements for the above dataframe df1:\n",
    "(i) mean of each and every column present in the dataframe.\n",
    "(ii) standard deviation of column, ‘column_2’"
   ]
  },
  {
   "cell_type": "code",
   "execution_count": null,
   "id": "2ae9640c-e432-4184-844e-888b323f8410",
   "metadata": {},
   "outputs": [],
   "source": [
    "Ans:- To find the statistical measurements for the dataframe df1, we can use the .mean() and .std() methods:\n",
    "\n",
    "(i) To find the mean of each and every column present in the dataframe, we can use:"
   ]
  },
  {
   "cell_type": "code",
   "execution_count": 10,
   "id": "2c0ea185-89c1-4e21-af39-7c3773b4f447",
   "metadata": {},
   "outputs": [
    {
     "data": {
      "text/plain": [
       "column_1    0.545569\n",
       "column_2    0.521298\n",
       "column_3    0.413128\n",
       "column_4    0.209578\n",
       "column_5    0.468777\n",
       "column_6    0.481900\n",
       "dtype: float64"
      ]
     },
     "execution_count": 10,
     "metadata": {},
     "output_type": "execute_result"
    }
   ],
   "source": [
    "df1.mean()"
   ]
  },
  {
   "cell_type": "code",
   "execution_count": null,
   "id": "236a2c72-3c6e-4c91-9e4e-7ec6a3150cb5",
   "metadata": {},
   "outputs": [],
   "source": [
    "his will give us the mean value for each column in the dataframe.\n",
    "\n",
    "(ii) To find the standard deviation of column 'column_2', we can use"
   ]
  },
  {
   "cell_type": "code",
   "execution_count": 11,
   "id": "a801859a-2681-46ed-bad1-4961a5b3e900",
   "metadata": {},
   "outputs": [
    {
     "data": {
      "text/plain": [
       "0.26951424605620555"
      ]
     },
     "execution_count": 11,
     "metadata": {},
     "output_type": "execute_result"
    }
   ],
   "source": [
    "df1['column_2'].std()"
   ]
  },
  {
   "cell_type": "code",
   "execution_count": null,
   "id": "52010b5a-9610-4273-bbc7-01fb9d789cab",
   "metadata": {},
   "outputs": [],
   "source": [
    "This will give us the standard deviation of the values in the 'column_2' column.\n",
    "\n",
    "Putting it all together, the code to find the statistical measurements for the dataframe df1 is:"
   ]
  },
  {
   "cell_type": "code",
   "execution_count": 12,
   "id": "19f15807-faa4-496d-b97a-8a2aadfef461",
   "metadata": {},
   "outputs": [
    {
     "name": "stdout",
     "output_type": "stream",
     "text": [
      "Mean of each column:\n",
      "column_1    0.354765\n",
      "column_2    0.670202\n",
      "column_3    0.476055\n",
      "column_4    0.524409\n",
      "column_5    0.482698\n",
      "column_6    0.721163\n",
      "dtype: float64\n",
      "Standard deviation of column 'column_2':\n",
      "0.28313728263462756\n"
     ]
    }
   ],
   "source": [
    "import pandas as pd\n",
    "import numpy as np\n",
    "\n",
    "columns = ['column_1', 'column_2', 'column_3', 'column_4', 'column_5', 'column_6']\n",
    "indices = [1,2,3,4,5,6]\n",
    "\n",
    "# Creating a dataframe:\n",
    "df1 = pd.DataFrame(np.random.rand(6,6), columns = columns, index = indices)\n",
    "\n",
    "# Find mean of each and every column:\n",
    "print(\"Mean of each column:\")\n",
    "print(df1.mean())\n",
    "\n",
    "# Find standard deviation of column 'column_2':\n",
    "print(\"Standard deviation of column 'column_2':\")\n",
    "print(df1['column_2'].std())\n"
   ]
  },
  {
   "cell_type": "markdown",
   "id": "914022f6-f1ee-4801-be61-a1be3e698360",
   "metadata": {},
   "source": [
    "### Q5"
   ]
  },
  {
   "cell_type": "code",
   "execution_count": null,
   "id": "e421caad-82ae-4d52-9e3b-3e71d1753454",
   "metadata": {},
   "outputs": [],
   "source": [
    "Q5. Replace the data present in the second row of column, ‘column_2’ by a string variable then find the\n",
    "mean of column, column_2.\n",
    "If you are getting errors in executing it then explain why.\n",
    "[Hint: To replace the data use df1.loc[] and equate this to string data of your choice.]"
   ]
  },
  {
   "cell_type": "raw",
   "id": "59df9f2f-29c5-43f6-86b9-768bf5f2f551",
   "metadata": {},
   "source": [
    "Ans:- To replace the data present in the second row of the 'column_2' column with a string variable "
   ]
  },
  {
   "cell_type": "code",
   "execution_count": 13,
   "id": "ccd818e3-c1ca-48ad-93a4-cfa38759e375",
   "metadata": {},
   "outputs": [],
   "source": [
    "df1.loc[2, 'column_2'] = 'string data'\n"
   ]
  },
  {
   "cell_type": "raw",
   "id": "0736cc9c-606c-4963-9b0a-831e04cd44d7",
   "metadata": {},
   "source": [
    "This code uses the loc method to access the value in the second row and 'column_2' column of the DataFrame df1\n",
    "and assigns it the string value 'string data'.\n",
    "\n",
    "However, since 'string data' is not a numeric value, you may get errors when trying to find the mean of the \n",
    "'column_2' column using the mean() method. This is because mean() method is used for calculating the mean of\n",
    "numeric values only. If the column contains non-numeric data, it will raise a TypeError.\n",
    "\n",
    "So to avoid this error, you can first convert the 'column_2' column to a numeric data type using the\n",
    "pd.to_numeric() "
   ]
  },
  {
   "cell_type": "code",
   "execution_count": 14,
   "id": "8ef28bed-ac53-4903-b3b8-33377b684c68",
   "metadata": {},
   "outputs": [],
   "source": [
    "df1['column_2'] = pd.to_numeric(df1['column_2'], errors='coerce')\n"
   ]
  },
  {
   "cell_type": "raw",
   "id": "f982420c-b34c-4458-aa53-8fa14aae0696",
   "metadata": {},
   "source": [
    "This code will convert the 'column_2' column to a numeric data type and set any non-numeric values to NaN\n",
    "(Not a Number).\n",
    "\n",
    "Now, you can find the mean of the 'column_2' column using the mean() method as follows:"
   ]
  },
  {
   "cell_type": "code",
   "execution_count": 15,
   "id": "8f020c39-8a62-4a88-97e7-c5c022f3e680",
   "metadata": {},
   "outputs": [
    {
     "name": "stdout",
     "output_type": "stream",
     "text": [
      "0.7678775539529397\n"
     ]
    }
   ],
   "source": [
    "print(df1['column_2'].mean())\n"
   ]
  },
  {
   "cell_type": "raw",
   "id": "fb9c2b69-defc-4926-a1e9-08ad281aa804",
   "metadata": {},
   "source": [
    "This will return the mean of the 'column_2' column as a float value."
   ]
  },
  {
   "cell_type": "markdown",
   "id": "a38f9b5a-40c7-46df-9567-ae5a90be6dbe",
   "metadata": {},
   "source": [
    "### Q6"
   ]
  },
  {
   "cell_type": "raw",
   "id": "5e612e46-adfd-40ac-9a69-f94a7b010b23",
   "metadata": {},
   "source": [
    "Q6. What do you understand about the windows function in pandas and list the types of windows\n",
    "functions?"
   ]
  },
  {
   "cell_type": "code",
   "execution_count": null,
   "id": "80cd71e9-a17b-4f7b-a2f7-3abc2d97b490",
   "metadata": {},
   "outputs": [],
   "source": [
    "Ans:- In pandas, a window function is a way of applying a function to a subset of data, where the subset is\n",
    "defined by a sliding window of fixed size. Window functions are commonly used for calculating rolling statistics,\n",
    "such as moving averages, cumulative sums, and exponential weighted functions."
   ]
  },
  {
   "cell_type": "code",
   "execution_count": null,
   "id": "c2d9f14e-e3f9-4d98-bb4b-217b1a241ec3",
   "metadata": {},
   "outputs": [],
   "source": [
    "andas provides several types of window functions that can be used with the rolling() method. Some of the commonly \n",
    "used window functions are:\n",
    "\n",
    "=> rolling() - It creates a rolling window object with a specified window size and allows you to apply a function\n",
    "to the data within the window.\n",
    "\n",
    "=> expanding() - It creates an expanding window object that starts with the first value and expands to include all\n",
    "values up to the current value.\n",
    "\n",
    "=> ewm() - It calculates exponential weighted functions.\n",
    "\n",
    "=> groupby() - It groups the data based on a specified column and then applies a function to each group.\n",
    "\n",
    "=> resample() - It is used for resampling time-series data at a specified frequency, such as daily, weekly, \n",
    "monthly, etc.\n",
    "\n",
    "=> shift() - It shifts the data by a specified number of periods."
   ]
  },
  {
   "cell_type": "code",
   "execution_count": null,
   "id": "8c6024e9-d09f-4781-a6bb-d9633dc1e172",
   "metadata": {},
   "outputs": [],
   "source": [
    "Window functions provide a powerful way to perform time-series analysis and data manipulation in pandas. \n",
    "They allow you to apply complex functions to subsets of data and extract valuable insights from large datasets."
   ]
  },
  {
   "cell_type": "markdown",
   "id": "64292527-4e68-4250-99df-a4fa12c5b1e5",
   "metadata": {},
   "source": [
    "### Q7"
   ]
  },
  {
   "cell_type": "code",
   "execution_count": null,
   "id": "d2863e55-110f-4237-b977-80108b697b26",
   "metadata": {},
   "outputs": [],
   "source": [
    "Q7. Write a code to print only the current month and year at the time of answering this question.\n",
    "[Hint: Use pandas.datetime function]"
   ]
  },
  {
   "cell_type": "code",
   "execution_count": null,
   "id": "78644236-0544-4593-9abc-da5eb73fb579",
   "metadata": {},
   "outputs": [],
   "source": [
    "Ans:- pandas.datetime has been deprecated since version 0.23.4 and replaced by the datetime module in \n",
    "Python's standard library. Here's how you can use the datetime module to print the current month and year:"
   ]
  },
  {
   "cell_type": "code",
   "execution_count": 16,
   "id": "bb8dd828-5475-42d8-be6d-6c92556e90a8",
   "metadata": {},
   "outputs": [
    {
     "name": "stdout",
     "output_type": "stream",
     "text": [
      "Current month and year: March 2023\n"
     ]
    }
   ],
   "source": [
    "import datetime\n",
    "\n",
    "now = datetime.datetime.now()\n",
    "print(\"Current month and year:\", now.strftime(\"%B %Y\"))\n"
   ]
  },
  {
   "cell_type": "code",
   "execution_count": null,
   "id": "1be32942-4ffa-4805-975b-ee304ed52d5c",
   "metadata": {},
   "outputs": [],
   "source": [
    "This code first imports the datetime module and then uses the now() method to get the current date and time. \n",
    "The strftime() method is used to format the date and time in a specific way. The argument \"%B %Y\" is a format\n",
    "string that specifies that we want to display the full month name (%B) followed by the four-digit year (%Y)."
   ]
  },
  {
   "cell_type": "markdown",
   "id": "8dc8b3a7-1c3b-498c-b45a-9bbb0c3ffcb4",
   "metadata": {},
   "source": [
    "### Q8"
   ]
  },
  {
   "cell_type": "code",
   "execution_count": null,
   "id": "6fb96303-f618-42a1-92c0-3524fca90421",
   "metadata": {},
   "outputs": [],
   "source": [
    "Q8. Write a Python program that takes in two dates as input (in the format YYYY-MM-DD) and\n",
    "calculates the difference between them in days, hours, and minutes using Pandas time delta. The\n",
    "program should prompt the user to enter the dates and display the result."
   ]
  },
  {
   "cell_type": "code",
   "execution_count": null,
   "id": "cc195e1a-5d64-483f-8a54-e5e681716516",
   "metadata": {},
   "outputs": [],
   "source": [
    "Ans:- takes in two dates as input, calculates the difference between them in days, hours, and minutes using \n",
    "Pandas time delta, and displays the result:"
   ]
  },
  {
   "cell_type": "code",
   "execution_count": 17,
   "id": "67719515-fba8-4059-b5c7-0d045909d4cc",
   "metadata": {},
   "outputs": [
    {
     "name": "stdin",
     "output_type": "stream",
     "text": [
      "Enter the first date (YYYY-MM-DD):  2000-08-27\n",
      "Enter the second date (YYYY-MM-DD):  1997-05-15\n"
     ]
    },
    {
     "name": "stdout",
     "output_type": "stream",
     "text": [
      "Difference between 2000-08-27 and 1997-05-15 :\n",
      "-1200 days, 0 hours, 0 minutes\n"
     ]
    }
   ],
   "source": [
    "import pandas as pd\n",
    "\n",
    "# prompt the user to enter the two dates\n",
    "date1 = input(\"Enter the first date (YYYY-MM-DD): \")\n",
    "date2 = input(\"Enter the second date (YYYY-MM-DD): \")\n",
    "\n",
    "# convert the input strings to datetime objects\n",
    "date1 = pd.to_datetime(date1)\n",
    "date2 = pd.to_datetime(date2)\n",
    "\n",
    "# calculate the difference between the two dates\n",
    "diff = date2 - date1\n",
    "\n",
    "# extract the days, hours, and minutes from the time delta\n",
    "days = diff.days\n",
    "hours = diff.seconds // 3600\n",
    "minutes = (diff.seconds % 3600) // 60\n",
    "\n",
    "# display the result\n",
    "print(\"Difference between\", date1.date(), \"and\", date2.date(), \":\")\n",
    "print(days, \"days,\", hours, \"hours,\", minutes, \"minutes\")\n"
   ]
  },
  {
   "cell_type": "code",
   "execution_count": null,
   "id": "ebe14361-97b7-4d46-9d87-1cd8651a1a29",
   "metadata": {},
   "outputs": [],
   "source": [
    "In this code, we first prompt the user to enter the two dates as input strings in the format YYYY-MM-DD.\n",
    "We then use the pd.to_datetime() method to convert these strings to Pandas datetime objects.\n",
    "\n",
    "Next, we calculate the difference between the two dates using the - operator. This returns a Pandas time delta\n",
    "object.\n",
    "\n",
    "We then extract the number of days, hours, and minutes from the time delta object using the days, seconds, \n",
    "and minutes attributes.\n",
    "\n",
    "Finally, we display the result using the print() function. The output will show the number of days, hours, \n",
    "and minutes between the two dates."
   ]
  },
  {
   "cell_type": "code",
   "execution_count": null,
   "id": "e4b79a96-0d51-4114-94a3-dfd314979095",
   "metadata": {},
   "outputs": [],
   "source": []
  }
 ],
 "metadata": {
  "kernelspec": {
   "display_name": "Python 3 (ipykernel)",
   "language": "python",
   "name": "python3"
  },
  "language_info": {
   "codemirror_mode": {
    "name": "ipython",
    "version": 3
   },
   "file_extension": ".py",
   "mimetype": "text/x-python",
   "name": "python",
   "nbconvert_exporter": "python",
   "pygments_lexer": "ipython3",
   "version": "3.10.8"
  }
 },
 "nbformat": 4,
 "nbformat_minor": 5
}
