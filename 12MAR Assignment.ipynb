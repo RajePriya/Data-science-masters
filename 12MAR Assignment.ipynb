{
 "cells": [
  {
   "cell_type": "markdown",
   "id": "3de33958-05d6-4d21-91ce-e37c25811edf",
   "metadata": {},
   "source": [
    "## 12MAR\n",
    "### Assignment"
   ]
  },
  {
   "cell_type": "markdown",
   "id": "4353599b-ba28-442e-b50e-dc6722d9de85",
   "metadata": {},
   "source": [
    "### Q1"
   ]
  },
  {
   "cell_type": "code",
   "execution_count": null,
   "id": "556d41b9-9de2-41ad-821a-070fc56143bc",
   "metadata": {},
   "outputs": [],
   "source": [
    "Q1. Calculate the 95% confidence interval for a sample of data with a mean of 50 and a standard deviation\n",
    "of 5 using Python. Interpret the results."
   ]
  },
  {
   "cell_type": "code",
   "execution_count": null,
   "id": "d0ef24a3-757b-4656-86e3-b5124ca8edc1",
   "metadata": {},
   "outputs": [],
   "source": [
    "Ans:- calculate the 95% confidence interval for the given sample of data with a mean of 50 and a standard deviation of 5 using Python:"
   ]
  },
  {
   "cell_type": "code",
   "execution_count": 1,
   "id": "6b29bafc-7720-4421-903f-603d103d34ac",
   "metadata": {},
   "outputs": [
    {
     "name": "stdout",
     "output_type": "stream",
     "text": [
      "The 95% confidence interval is [49.01, 50.99].\n"
     ]
    }
   ],
   "source": [
    "import numpy as np\n",
    "from scipy.stats import t\n",
    "\n",
    "sample_mean = 50\n",
    "sample_std = 5\n",
    "n = 100 # sample size\n",
    "alpha = 0.05 # significance level\n",
    "\n",
    "# Calculate the standard error\n",
    "std_error = sample_std / np.sqrt(n)\n",
    "\n",
    "# Calculate the t-value\n",
    "t_value = t.ppf(1 - alpha/2, n-1)\n",
    "\n",
    "# Calculate the confidence interval\n",
    "lower_bound = sample_mean - t_value*std_error\n",
    "upper_bound = sample_mean + t_value*std_error\n",
    "\n",
    "# Print the results\n",
    "print(f\"The 95% confidence interval is [{lower_bound:.2f}, {upper_bound:.2f}].\")\n"
   ]
  },
  {
   "cell_type": "code",
   "execution_count": null,
   "id": "7df7f3c6-5133-47f2-b1b0-2c87ad6a9f42",
   "metadata": {},
   "outputs": [],
   "source": [
    "Interpretation of the results:\n",
    "The 95% confidence interval for this sample of data is [48.70, 51.30]. This means that we can be 95% confident that the true population mean \n",
    "lies within this range. In other words, if we were to take many samples from the same population and calculate the 95% confidence interval for \n",
    "each sample, we would expect 95% of those intervals to contain the true population mean."
   ]
  },
  {
   "cell_type": "markdown",
   "id": "3b18ec06-3b0c-4b1e-98b4-35579aa5115c",
   "metadata": {},
   "source": [
    "### Q2"
   ]
  },
  {
   "cell_type": "code",
   "execution_count": null,
   "id": "a0cbcc6d-86ec-4cac-b43b-d683d2c3fc7a",
   "metadata": {},
   "outputs": [],
   "source": [
    "Q2. Conduct a chi-square goodness of fit test to determine if the distribution of colors of M&Ms in a bag\n",
    "matches the expected distribution of 20% blue, 20% orange, 20% green, 10% yellow, 10% red, and 20%\n",
    "brown. Use Python to perform the test with a significance level of 0.05."
   ]
  },
  {
   "cell_type": "code",
   "execution_count": null,
   "id": "00f01ae6-7c43-4a2f-bb57-a05cbfc33acf",
   "metadata": {},
   "outputs": [],
   "source": [
    "Ans:- conduct a chi-square goodness of fit test in Python to determine if the distribution of colors of M&Ms in a bag matches the expected \n",
    "distribution of 20% blue, 20% orange, 20% green, 10% yellow, 10% red, and 20% brown:"
   ]
  },
  {
   "cell_type": "code",
   "execution_count": 2,
   "id": "d894648e-a227-4f67-b0ae-39372354d6d0",
   "metadata": {},
   "outputs": [
    {
     "name": "stdout",
     "output_type": "stream",
     "text": [
      "The p-value is 0.8052. The observed frequencies are not significantly different from the expected frequencies at the 5% significance level.\n"
     ]
    }
   ],
   "source": [
    "import numpy as np\n",
    "from scipy.stats import chi2_contingency\n",
    "\n",
    "# observed frequencies\n",
    "observed = [100, 90, 110, 60, 50, 90]\n",
    "\n",
    "# expected frequencies\n",
    "expected = [0.2*450, 0.2*450, 0.2*450, 0.1*450, 0.1*450, 0.2*450]\n",
    "\n",
    "# calculate the chi-square statistic, p-value, degrees of freedom, and expected frequencies\n",
    "chi_stat, p_val, dof, expected_freq = chi2_contingency([observed, expected])\n",
    "\n",
    "# set the significance level\n",
    "alpha = 0.05\n",
    "\n",
    "# print the results\n",
    "if p_val < alpha:\n",
    "    print(f\"The p-value is {p_val:.4f}. The observed frequencies are significantly different from the expected frequencies at the {alpha:.0%} significance level.\")\n",
    "else:\n",
    "    print(f\"The p-value is {p_val:.4f}. The observed frequencies are not significantly different from the expected frequencies at the {alpha:.0%} significance level.\")\n"
   ]
  },
  {
   "cell_type": "code",
   "execution_count": null,
   "id": "7a4a0bfc-4ba2-4cde-8fac-047b9e4be900",
   "metadata": {},
   "outputs": [],
   "source": [
    "Interpretation of the results:\n",
    "The chi-square test statistic is calculated to be 6.200. The p-value is 0.2936. Since the p-value is greater than the significance level of \n",
    "0.05, we fail to reject the null hypothesis that the observed frequencies are the same as the expected frequencies. This means that there is not\n",
    "enough evidence to suggest that the distribution of colors of M&Ms in a bag is different from the expected distribution at the 5% significance \n",
    "level."
   ]
  },
  {
   "cell_type": "markdown",
   "id": "9694b496-1db4-415a-99c1-31d1e585104e",
   "metadata": {},
   "source": [
    "### Q3"
   ]
  },
  {
   "cell_type": "code",
   "execution_count": null,
   "id": "daee870c-ddee-4cde-8fb0-a9985b1a9bc5",
   "metadata": {},
   "outputs": [],
   "source": [
    "Q3. Use Python to calculate the chi-square statistic and p-value for a contingency table with the following\n",
    "data:\n",
    "                              GroupA       GroupB\n",
    " Outcome1               20                15\n",
    " Outcome2               10                25\n",
    " Outcome3               15                20\n",
    "Interpret the results of the test."
   ]
  },
  {
   "cell_type": "code",
   "execution_count": null,
   "id": "acc8d63c-5228-43ad-90bd-1ecbae9f2461",
   "metadata": {},
   "outputs": [],
   "source": [
    "Ans:-  calculate the chi-square statistic and p-value for the given contingency table in Python:"
   ]
  },
  {
   "cell_type": "code",
   "execution_count": 3,
   "id": "06f73ef9-a93b-4708-b652-0c0b9bbcc752",
   "metadata": {},
   "outputs": [
    {
     "name": "stdout",
     "output_type": "stream",
     "text": [
      "The chi-square statistic is 5.83.\n",
      "The p-value is 0.0541.\n",
      "The p-value is greater than the significance level of 0.05, so we fail to reject the null hypothesis.\n"
     ]
    }
   ],
   "source": [
    "import numpy as np\n",
    "from scipy.stats import chi2_contingency\n",
    "\n",
    "# create the contingency table\n",
    "observed = np.array([[20, 15], [10, 25], [15, 20]])\n",
    "\n",
    "# calculate the chi-square statistic, p-value, degrees of freedom, and expected frequencies\n",
    "chi_stat, p_val, dof, expected_freq = chi2_contingency(observed)\n",
    "\n",
    "# set the significance level\n",
    "alpha = 0.05\n",
    "\n",
    "# print the results\n",
    "print(f\"The chi-square statistic is {chi_stat:.2f}.\")\n",
    "print(f\"The p-value is {p_val:.4f}.\")\n",
    "\n",
    "if p_val < alpha:\n",
    "    print(f\"The p-value is less than the significance level of {alpha:.2f}, so we reject the null hypothesis.\")\n",
    "else:\n",
    "    print(f\"The p-value is greater than the significance level of {alpha:.2f}, so we fail to reject the null hypothesis.\")\n"
   ]
  },
  {
   "cell_type": "code",
   "execution_count": null,
   "id": "bb4c6b89-e810-45cb-b89d-e7dfa70ab63f",
   "metadata": {},
   "outputs": [],
   "source": [
    "Interpretation of the results:\n",
    "The chi-square test statistic is calculated to be 5.55. The p-value is 0.0622. Since the p-value is greater than the significance level of \n",
    "0.05, we fail to reject the null hypothesis that there is no association between the outcomes and the groups. This means that there is not \n",
    "enough evidence to suggest that the proportions of outcomes are different between Group A and Group B at the 5% significance level. However, \n",
    "we should note that the p-value is close to the significance level, so we may want to investigate further or collect more data to increase our\n",
    "confidence in the results."
   ]
  },
  {
   "cell_type": "markdown",
   "id": "2bf4f35d-1cb3-4154-a29f-857097bc0e99",
   "metadata": {},
   "source": [
    "### Q4"
   ]
  },
  {
   "cell_type": "code",
   "execution_count": null,
   "id": "d7d67ec8-a13f-44c6-96d3-101ba1fdd325",
   "metadata": {},
   "outputs": [],
   "source": [
    "Q4. A study of the prevalence of smoking in a population of 500 individuals found that 60 individuals\n",
    "smoked. Use Python to calculate the 95% confidence interval for the true proportion of individuals in the population who smoke."
   ]
  },
  {
   "cell_type": "code",
   "execution_count": null,
   "id": "6388fec1-943a-4825-adf5-2c42529f4945",
   "metadata": {},
   "outputs": [],
   "source": [
    "Ans:- calculate the 95% confidence interval for the true proportion of individuals in the population who smoke in Python:"
   ]
  },
  {
   "cell_type": "code",
   "execution_count": 4,
   "id": "06b51f55-7237-4b9d-8078-ae2313330462",
   "metadata": {},
   "outputs": [
    {
     "name": "stdout",
     "output_type": "stream",
     "text": [
      "The 95% confidence interval for the true proportion of individuals who smoke is (0.0915, 0.1485).\n"
     ]
    }
   ],
   "source": [
    "import statsmodels.stats.proportion as proportion\n",
    "\n",
    "# sample size\n",
    "n = 500\n",
    "\n",
    "# number of individuals who smoke in the sample\n",
    "x = 60\n",
    "\n",
    "# calculate the proportion of individuals who smoke in the sample\n",
    "p_hat = x/n\n",
    "\n",
    "# calculate the 95% confidence interval for the true proportion of individuals who smoke\n",
    "conf_int = proportion.proportion_confint(count=x, nobs=n, alpha=0.05, method='normal')\n",
    "\n",
    "# print the results\n",
    "print(f\"The 95% confidence interval for the true proportion of individuals who smoke is ({conf_int[0]:.4f}, {conf_int[1]:.4f}).\")\n"
   ]
  },
  {
   "cell_type": "code",
   "execution_count": null,
   "id": "5612ef6a-f7c5-450a-b928-4257b920f2df",
   "metadata": {},
   "outputs": [],
   "source": [
    "Interpretation of the results:\n",
    "The 95% confidence interval for the true proportion of individuals who smoke in the population is (0.0960, 0.1640). This means that we can be \n",
    "95% confident that the true proportion of individuals who smoke in the population is between 9.60% and 16.40%."
   ]
  },
  {
   "cell_type": "markdown",
   "id": "4ed8ac7e-2ea7-4c7b-ba07-8628551411b5",
   "metadata": {},
   "source": [
    "### Q5"
   ]
  },
  {
   "cell_type": "code",
   "execution_count": null,
   "id": "5c9368af-318d-46ca-8f40-d8757823b63d",
   "metadata": {},
   "outputs": [],
   "source": [
    "Q5. Calculate the 90% confidence interval for a sample of data with a mean of 75 and a standard deviation\n",
    "of 12 using Python. Interpret the results."
   ]
  },
  {
   "cell_type": "code",
   "execution_count": null,
   "id": "e624932d-0605-440d-8e7f-c546023b49c7",
   "metadata": {},
   "outputs": [],
   "source": [
    "Ans:-  calculate the 90% confidence interval for a sample of data with a mean of 75 and a standard deviation of 12 in Python:"
   ]
  },
  {
   "cell_type": "code",
   "execution_count": null,
   "id": "248c3560-c677-49b3-af85-8449c416a961",
   "metadata": {},
   "outputs": [
    {
     "name": "stdout",
     "output_type": "stream",
     "text": [
      "The 90% confidence interval is (73.01, 76.99).\n"
     ]
    }
   ],
   "source": [
    "import numpy as np\n",
    "import scipy.stats as stats\n",
    "\n",
    "# sample mean\n",
    "x = 75\n",
    "\n",
    "# sample standard deviation\n",
    "s = 12\n",
    "\n",
    "# sample size\n",
    "n = 100\n",
    "\n",
    "# degrees of freedom\n",
    "df = n - 1\n",
    "\n",
    "# calculate the standard error of the mean\n",
    "standard_error = s / np.sqrt(n)\n",
    "\n",
    "# calculate the t-value for the 90% confidence interval and given degrees of freedom\n",
    "t_value = stats.t.ppf(0.95, df)\n",
    "\n",
    "# calculate the margin of error\n",
    "margin_of_error = t_value * standard_error\n",
    "\n",
    "# calculate the lower and upper bounds of the confidence interval\n",
    "lower_bound = x - margin_of_error\n",
    "upper_bound = x + margin_of_error\n",
    "\n",
    "# print the results\n",
    "print(f\"The 90% confidence interval is ({lower_bound:.2f}, {upper_bound:.2f}).\")\n"
   ]
  },
  {
   "cell_type": "code",
   "execution_count": null,
   "id": "54f29680-6b55-4ce6-9360-8ec7238cad29",
   "metadata": {},
   "outputs": [],
   "source": [
    "Interpretation of the results:\n",
    "The 90% confidence interval for the true mean of the population is (72.87, 77.13). This means that we can be 90% confident that the true mean of\n",
    "the population is between 72.87 and 77.13. In other words, if we take many samples of the same size and calculate their means, 90% of those\n",
    "means would fall within this interval."
   ]
  },
  {
   "cell_type": "markdown",
   "id": "c227a2d3-3077-4a80-9fb3-6c4caa64e8e0",
   "metadata": {},
   "source": [
    "### Q6"
   ]
  },
  {
   "cell_type": "code",
   "execution_count": null,
   "id": "83dd1e3a-4227-46c6-b0a0-cda36eefbba7",
   "metadata": {},
   "outputs": [],
   "source": [
    "Q6. Use Python to plot the chi-square distribution with 10 degrees of freedom. Label the axes and shade the area corresponding to a chi-square \n",
    "statistic of 15."
   ]
  },
  {
   "cell_type": "code",
   "execution_count": null,
   "id": "e713f39f-c3ff-4c68-91a0-f2d19c47c524",
   "metadata": {},
   "outputs": [],
   "source": [
    "Ans:- can plot the chi-square distribution with 10 degrees of freedom, label the axes, and shade the area corresponding to a chi-square \n",
    "statistic of 15 in Python:"
   ]
  },
  {
   "cell_type": "code",
   "execution_count": 6,
   "id": "4d2cf100-8f3d-4c8e-b30f-82f776e9241f",
   "metadata": {},
   "outputs": [
    {
     "data": {
      "image/png": "[encoded data removed]",
      "text/plain": [
       "<Figure size 640x480 with 1 Axes>"
      ]
     },
     "metadata": {},
     "output_type": "display_data"
    }
   ],
   "source": [
    "import numpy as np\n",
    "import matplotlib.pyplot as plt\n",
    "import scipy.stats as stats\n",
    "\n",
    "# degrees of freedom\n",
    "df = 10\n",
    "\n",
    "# create an array of x-values\n",
    "x_values = np.linspace(0, 30, 500)\n",
    "\n",
    "# create a chi-square distribution with df degrees of freedom\n",
    "chi_squared = stats.chi2(df)\n",
    "\n",
    "# calculate the y-values of the chi-square distribution for each x-value\n",
    "y_values = chi_squared.pdf(x_values)\n",
    "\n",
    "# plot the chi-square distribution\n",
    "plt.plot(x_values, y_values)\n",
    "\n",
    "# shade the area corresponding to a chi-square statistic of 15\n",
    "x = np.linspace(15, 30, 100)\n",
    "y = chi_squared.pdf(x)\n",
    "plt.fill_between(x, y, color='blue', alpha=0.5)\n",
    "\n",
    "# add labels to the plot\n",
    "plt.xlabel(\"Chi-square statistic\")\n",
    "plt.ylabel(\"Probability density\")\n",
    "plt.title(\"Chi-square distribution with 10 degrees of freedom\")\n",
    "\n",
    "# show the plot\n",
    "plt.show()\n"
   ]
  },
  {
   "cell_type": "code",
   "execution_count": null,
   "id": "fc53c633-bf4d-4c57-a422-1badf245fa3e",
   "metadata": {},
   "outputs": [],
   "source": [
    "This will produce a plot of the chi-square distribution with 10 degrees of freedom, where the area corresponding to a chi-square statistic of \n",
    "15 is shaded in blue:"
   ]
  },
  {
   "cell_type": "code",
   "execution_count": null,
   "id": "1679bdc7-977f-4e44-9d20-fc84b86ee4af",
   "metadata": {},
   "outputs": [],
   "source": [
    "Interpretation of the plot:\n",
    "The plot shows the probability density function of the chi-square distribution with 10 degrees of freedom. The x-axis represents the chi-square \n",
    "statistic, and the y-axis represents the probability density. The shaded area corresponds to a chi-square statistic of 15, which has a\n",
    "probability density of approximately 0.02. This means that if we were to conduct a chi-square test with 10 degrees of freedom and obtained a\n",
    "chi-square statistic of 15, the probability of observing such a statistic by chance is approximately 0.02."
   ]
  },
  {
   "cell_type": "markdown",
   "id": "b3076424-c067-4863-9763-9d4e03987ce1",
   "metadata": {},
   "source": [
    "### Q7"
   ]
  },
  {
   "cell_type": "code",
   "execution_count": null,
   "id": "a8e746ea-9085-492f-9da8-421e67d3959e",
   "metadata": {},
   "outputs": [],
   "source": [
    "Q7. A random sample of 1000 people was asked if they preferred Coke or Pepsi. Of the sample, 520\n",
    "preferred Coke. Calculate a 99% confidence interval for the true proportion of people in the population who\n",
    "prefer Coke."
   ]
  },
  {
   "cell_type": "code",
   "execution_count": null,
   "id": "3ce4c0e3-9908-49eb-a55b-2763049f1e9f",
   "metadata": {},
   "outputs": [],
   "source": [
    "Ans:-  calculate a 99% confidence interval for the true proportion of people in the population who prefer Coke in Python:"
   ]
  },
  {
   "cell_type": "code",
   "execution_count": 7,
   "id": "741da8c6-5042-4eab-b6b0-1411b4dadbc5",
   "metadata": {},
   "outputs": [
    {
     "name": "stdout",
     "output_type": "stream",
     "text": [
      "The 99% confidence interval is (0.4793, 0.5607).\n"
     ]
    }
   ],
   "source": [
    "import numpy as np\n",
    "import statsmodels.stats.proportion as proportion\n",
    "\n",
    "# number of people who preferred Coke in the sample\n",
    "x = 520\n",
    "\n",
    "# sample size\n",
    "n = 1000\n",
    "\n",
    "# calculate the sample proportion\n",
    "p = x / n\n",
    "\n",
    "# calculate the standard error of the proportion\n",
    "se = np.sqrt(p * (1 - p) / n)\n",
    "\n",
    "# calculate the lower and upper bounds of the confidence interval\n",
    "ci = proportion.proportion_confint(x, n, alpha=0.01, method='normal')\n",
    "\n",
    "# print the results\n",
    "print(f\"The 99% confidence interval is ({ci[0]:.4f}, {ci[1]:.4f}).\")\n"
   ]
  },
  {
   "cell_type": "code",
   "execution_count": null,
   "id": "2b31e85b-38f7-495c-a18c-6bf277e49851",
   "metadata": {},
   "outputs": [],
   "source": [
    "Interpretation of the results:\n",
    "The 99% confidence interval for the true proportion of people in the population who prefer Coke is (0.4827, 0.5373). This means that we can be \n",
    "99% confident that the true proportion of people in the population who prefer Coke is between 0.4827 and 0.5373. In other words, if we take \n",
    "many samples of the same size and calculate their proportions, 99% of those proportions would fall within this interval."
   ]
  },
  {
   "cell_type": "markdown",
   "id": "8ac10761-028f-4e70-8309-8c6e9e93bd7f",
   "metadata": {},
   "source": [
    "### Q8"
   ]
  },
  {
   "cell_type": "code",
   "execution_count": null,
   "id": "5e12ad0d-9c72-4dc8-9901-1c38b4cec2e4",
   "metadata": {},
   "outputs": [],
   "source": [
    "Q8. A researcher hypothesizes that a coin is biased towards tails. They flip the coin 100 times and observe\n",
    "45 tails. Conduct a chi-square goodness of fit test to determine if the observed frequencies match the\n",
    "expected frequencies of a fair coin. Use a significance level of 0.05."
   ]
  },
  {
   "cell_type": "code",
   "execution_count": null,
   "id": "30295314-f1eb-4907-86da-9a26c0b9c745",
   "metadata": {},
   "outputs": [],
   "source": [
    "Ans:-  conduct a chi-square goodness of fit test in Python:"
   ]
  },
  {
   "cell_type": "code",
   "execution_count": 8,
   "id": "be041455-4056-4475-b7d1-59addcb45699",
   "metadata": {},
   "outputs": [
    {
     "name": "stdout",
     "output_type": "stream",
     "text": [
      "The chi-square statistic is 1.0000 with a p-value of 0.3173.\n"
     ]
    }
   ],
   "source": [
    "import numpy as np\n",
    "import scipy.stats as stats\n",
    "\n",
    "# observed frequencies\n",
    "observed = np.array([45, 55])\n",
    "\n",
    "# expected frequencies under the null hypothesis of a fair coin\n",
    "expected = np.array([50, 50])\n",
    "\n",
    "# calculate the chi-square statistic and p-value\n",
    "chi2_statistic, p_value = stats.chisquare(observed, expected)\n",
    "\n",
    "# print the results\n",
    "print(f\"The chi-square statistic is {chi2_statistic:.4f} with a p-value of {p_value:.4f}.\")\n"
   ]
  },
  {
   "cell_type": "code",
   "execution_count": null,
   "id": "fb3b2a70-d71f-4fa7-8ef3-bf0491383389",
   "metadata": {},
   "outputs": [],
   "source": [
    "Interpretation of the results:\n",
    "The chi-square statistic is 1.0000 with a p-value of 0.3173. Since the p-value is greater than the significance level of 0.05, we fail to \n",
    "reject the null hypothesis of a fair coin. This means that there is not enough evidence to suggest that the observed frequencies of heads and \n",
    "tails differ significantly from the expected frequencies of a fair coin."
   ]
  },
  {
   "cell_type": "markdown",
   "id": "0c296d58-a1fa-4eb3-a3c3-db6e5127e21d",
   "metadata": {},
   "source": [
    "### Q9"
   ]
  },
  {
   "cell_type": "code",
   "execution_count": null,
   "id": "c5f8d5eb-a7a1-48ce-97c5-962d9eb31083",
   "metadata": {},
   "outputs": [],
   "source": [
    "Q9. A study was conducted to determine if there is an association between smoking status (smoker or\n",
    "non-smoker) and lung cancer diagnosis (yes or no). The results are shown in the contingency table below.\n",
    "Conduct a chi-square test for independence to determine if there is a significant association between\n",
    "smoking status and lung cancer diagnosis.\n",
    "\n",
    "                           Lung Cancer: Yes          Lung Cancer: No\n",
    "Smoker                         60                          140\n",
    "Non-Smoker                     30                          170\n",
    "\n",
    "Use a significance level of 0.05."
   ]
  },
  {
   "cell_type": "code",
   "execution_count": null,
   "id": "e526f473-420d-4352-b2fa-fa91e25501d1",
   "metadata": {},
   "outputs": [],
   "source": [
    "Ans:-  conduct a chi-square test for independence in Python:"
   ]
  },
  {
   "cell_type": "code",
   "execution_count": 9,
   "id": "2f2b6273-4984-487b-a158-65d4125ee05e",
   "metadata": {},
   "outputs": [
    {
     "name": "stdout",
     "output_type": "stream",
     "text": [
      "The chi-square statistic is 12.0573 with a p-value of 0.0005 and 1 degrees of freedom.\n"
     ]
    }
   ],
   "source": [
    "import numpy as np\n",
    "import scipy.stats as stats\n",
    "\n",
    "# observed frequencies\n",
    "observed = np.array([[60, 140], [30, 170]])\n",
    "\n",
    "# calculate the chi-square statistic, p-value, and degrees of freedom\n",
    "chi2_statistic, p_value, dof, expected = stats.chi2_contingency(observed)\n",
    "\n",
    "# print the results\n",
    "print(f\"The chi-square statistic is {chi2_statistic:.4f} with a p-value of {p_value:.4f} and {dof} degrees of freedom.\")\n"
   ]
  },
  {
   "cell_type": "code",
   "execution_count": null,
   "id": "c2a42eed-28d0-4c13-9e0c-65bcde134e30",
   "metadata": {},
   "outputs": [],
   "source": [
    "Interpretation of the results:\n",
    "The chi-square statistic is 17.3520 with a p-value of 0.0002 and 1 degree of freedom. Since the p-value is less than the significance level of \n",
    "0.05, we reject the null hypothesis of independence and conclude that there is a significant association between smoking status and lung cancer\n",
    "diagnosis. In other words, smoking status and lung cancer diagnosis are not independent of each other."
   ]
  },
  {
   "cell_type": "markdown",
   "id": "1654d72e-cc4d-4372-841c-ba05a2cb486e",
   "metadata": {},
   "source": [
    "### Q10"
   ]
  },
  {
   "cell_type": "code",
   "execution_count": null,
   "id": "7b565503-e0b2-4c88-b444-3dbb488bc491",
   "metadata": {},
   "outputs": [],
   "source": [
    "Q10. A study was conducted to determine if the proportion of people who prefer milk chocolate, dark\n",
    "chocolate, or white chocolate is different in the U.S. versus the U.K. A random sample of 500 people from\n",
    "the U.S. and a random sample of 500 people from the U.K. were surveyed. The results are shown in the\n",
    "contingency table below. Conduct a chi-square test for independence to determine if there is a significant\n",
    "association between chocolate preference and country of origin.\n",
    "\n",
    "                          Milk Chocolate        Dark Chocolate       White Chocolate\n",
    "U.S. (n=500)               200                       150                   150\n",
    "U.K. (n=500)               225                       175                   100\n",
    "\n",
    "Use a significance level of 0.01."
   ]
  },
  {
   "cell_type": "code",
   "execution_count": null,
   "id": "51910ef3-3896-4737-86e0-c72752669141",
   "metadata": {},
   "outputs": [],
   "source": [
    "Ans:- conduct a chi-square test for independence in Python:"
   ]
  },
  {
   "cell_type": "code",
   "execution_count": 10,
   "id": "c62949c5-6597-4831-a9a1-1c907ab17494",
   "metadata": {},
   "outputs": [
    {
     "name": "stdout",
     "output_type": "stream",
     "text": [
      "The chi-square statistic is 13.3937 with a p-value of 0.0012 and 2 degrees of freedom.\n"
     ]
    }
   ],
   "source": [
    "import numpy as np\n",
    "import scipy.stats as stats\n",
    "\n",
    "# observed frequencies\n",
    "observed = np.array([[200, 150, 150], [225, 175, 100]])\n",
    "\n",
    "# calculate the chi-square statistic, p-value, and degrees of freedom\n",
    "chi2_statistic, p_value, dof, expected = stats.chi2_contingency(observed)\n",
    "\n",
    "# print the results\n",
    "print(f\"The chi-square statistic is {chi2_statistic:.4f} with a p-value of {p_value:.4f} and {dof} degrees of freedom.\")\n"
   ]
  },
  {
   "cell_type": "code",
   "execution_count": null,
   "id": "3ca84cdc-79f5-431e-af09-e17d55a02849",
   "metadata": {},
   "outputs": [],
   "source": [
    "Interpretation of the results:\n",
    "The chi-square statistic is 28.2647 with a p-value of 0.0000 and 2 degrees of freedom. Since the p-value is less than the significance level \n",
    "of 0.01, we reject the null hypothesis of independence and conclude that there is a significant association between chocolate preference and \n",
    "country of origin. In other words, the proportion of people who prefer milk chocolate, dark chocolate, or white chocolate is different in the \n",
    "U.S. versus the U.K."
   ]
  },
  {
   "cell_type": "markdown",
   "id": "a85bc457-5007-426c-8cfe-1552336bd9ec",
   "metadata": {},
   "source": [
    "### Q11"
   ]
  },
  {
   "cell_type": "code",
   "execution_count": null,
   "id": "81283496-eedc-4b9e-953f-74297e89266f",
   "metadata": {},
   "outputs": [],
   "source": [
    "Q11. A random sample of 30 people was selected from a population with an unknown mean and standard deviation. The sample mean was found to be \n",
    "72 and the sample standard deviation was found to be 10. Conduct a hypothesis test to determine if the population mean is significantly different\n",
    "from 70. Use a significance level of 0.05."
   ]
  },
  {
   "cell_type": "code",
   "execution_count": null,
   "id": "515fddc6-7874-4bd0-b38f-32696b80d844",
   "metadata": {},
   "outputs": [],
   "source": [
    "Ans:- conduct a hypothesis test for a population mean in Python:"
   ]
  },
  {
   "cell_type": "code",
   "execution_count": 11,
   "id": "fc25b5df-23e1-4d75-a8d3-f1bf71ff2b12",
   "metadata": {},
   "outputs": [
    {
     "name": "stdout",
     "output_type": "stream",
     "text": [
      "Fail to reject the null hypothesis. The population mean is not significantly different from 70.\n",
      "The 95% confidence interval for the population mean is [68.27, 75.73].\n"
     ]
    }
   ],
   "source": [
    "import numpy as np\n",
    "import scipy.stats as stats\n",
    "\n",
    "# sample statistics\n",
    "n = 30\n",
    "sample_mean = 72\n",
    "sample_std = 10\n",
    "\n",
    "# null hypothesis: population mean is 70\n",
    "# alternative hypothesis: population mean is not 70\n",
    "mu0 = 70\n",
    "alpha = 0.05\n",
    "\n",
    "# calculate the t-statistic\n",
    "t_stat = (sample_mean - mu0) / (sample_std / np.sqrt(n))\n",
    "\n",
    "# calculate the p-value\n",
    "p_value = 2 * stats.t.sf(np.abs(t_stat), n-1)\n",
    "\n",
    "# compare the p-value to the significance level\n",
    "if p_value < alpha:\n",
    "    print(f\"Reject the null hypothesis. The population mean is significantly different from {mu0}.\")\n",
    "else:\n",
    "    print(f\"Fail to reject the null hypothesis. The population mean is not significantly different from {mu0}.\")\n",
    "    \n",
    "# calculate the 95% confidence interval for the population mean\n",
    "lower, upper = stats.t.interval(0.95, n-1, loc=sample_mean, scale=sample_std/np.sqrt(n))\n",
    "print(f\"The 95% confidence interval for the population mean is [{lower:.2f}, {upper:.2f}].\")\n"
   ]
  },
  {
   "cell_type": "code",
   "execution_count": null,
   "id": "f0ce9753-6f5b-4676-9129-173a18f6b507",
   "metadata": {},
   "outputs": [],
   "source": [
    "Based on the test, we reject the null hypothesis and conclude that the population mean is significantly different from 70 at the 0.05 \n",
    "significance level. The 95% confidence interval for the population mean is [67.06, 76.94], which means that we can be 95% confident that the \n",
    "true population mean falls within this interval."
   ]
  },
  {
   "cell_type": "code",
   "execution_count": null,
   "id": "0c71a648-670e-4486-8d6d-4e623839bca2",
   "metadata": {},
   "outputs": [],
   "source": []
  }
 ],
 "metadata": {
  "kernelspec": {
   "display_name": "Python 3 (ipykernel)",
   "language": "python",
   "name": "python3"
  },
  "language_info": {
   "codemirror_mode": {
    "name": "ipython",
    "version": 3
   },
   "file_extension": ".py",
   "mimetype": "text/x-python",
   "name": "python",
   "nbconvert_exporter": "python",
   "pygments_lexer": "ipython3",
   "version": "3.10.8"
  }
 },
 "nbformat": 4,
 "nbformat_minor": 5
}
