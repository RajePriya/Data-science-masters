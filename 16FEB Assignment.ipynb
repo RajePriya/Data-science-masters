{
 "cells": [
  {
   "cell_type": "markdown",
   "id": "c4fa1763-ef5d-4229-a8b6-6d9c252b0229",
   "metadata": {},
   "source": [
    "## 16FEB\n",
    "### Assignment"
   ]
  },
  {
   "cell_type": "markdown",
   "id": "64413aea-2641-40ec-90fc-5eec973bfcff",
   "metadata": {},
   "source": [
    "### Q1"
   ]
  },
  {
   "cell_type": "raw",
   "id": "7069ea4f-5e1a-4437-a512-20e261a0597e",
   "metadata": {},
   "source": [
    "Q1. What is a database? Differentiate between SQL and NoSQL databases."
   ]
  },
  {
   "cell_type": "code",
   "execution_count": null,
   "id": "3ccdbf2c-22d1-4105-a383-f7462970b34b",
   "metadata": {},
   "outputs": [],
   "source": [
    "Ans:- A database is a collection of data that is organized in a structured way, so that it can be easily accessed, \n",
    "managed, and updated. Databases can be used for a variety of purposes, including storing customer information, \n",
    "financial records, inventory data, and much more."
   ]
  },
  {
   "cell_type": "code",
   "execution_count": null,
   "id": "7ee83f9b-57d4-41f2-b9cc-acf175d3e04f",
   "metadata": {},
   "outputs": [],
   "source": [
    "SQL and NoSQL are two types of database management systems that differ in the way they store and manage data:\n",
    "\n",
    "=> SQL databases: SQL (Structured Query Language) databases are relational databases that store data in tables, \n",
    "which are related to one another using primary and foreign keys. SQL databases are highly structured and require that the data be organized into a fixed schema before it can be stored. SQL databases are ideal for applications that require complex querying and data manipulation, such as financial systems and e-commerce platforms.\n",
    "\n",
    "=> NoSQL databases: NoSQL (Not Only SQL) databases are non-relational databases that store data in a flexible, \n",
    "unstructured format. NoSQL databases are highly scalable and can handle large amounts of data that is constantly \n",
    "changing. NoSQL databases are ideal for applications that require real-time data analysis, such as social media \n",
    "platforms, gaming apps, and IoT (Internet of Things) devices"
   ]
  },
  {
   "cell_type": "code",
   "execution_count": null,
   "id": "08eb7eea-6ee8-403a-8702-833dbb2f6490",
   "metadata": {},
   "outputs": [],
   "source": [
    "In summary, SQL databases are structured, highly organized, and ideal for complex querying and data manipulation.\n",
    "NoSQL databases are flexible, scalable, and ideal for real-time data analysis."
   ]
  },
  {
   "cell_type": "markdown",
   "id": "0f218914-c52e-4d54-8c51-c5ac884ddbbe",
   "metadata": {},
   "source": [
    "### Q2"
   ]
  },
  {
   "cell_type": "code",
   "execution_count": null,
   "id": "d5437d48-7f35-483b-bf24-889bb57b2203",
   "metadata": {},
   "outputs": [],
   "source": [
    "Q2. What is DDL? Explain why CREATE, DROP, ALTER, and TRUNCATE are used with an example."
   ]
  },
  {
   "cell_type": "code",
   "execution_count": null,
   "id": "9dcb2371-178c-4a27-95d4-6e491e2e51cd",
   "metadata": {},
   "outputs": [],
   "source": [
    "Ans:- DDL stands for Data Definition Language, which is a subset of SQL used to define and modify the structure \n",
    "of a database. DDL statements are used to create, modify, and delete database objects such as tables, indexes, \n",
    "views, and procedures.\n",
    "\n",
    "Here are some examples of how the CREATE, DROP, ALTER, and TRUNCATE statements can be used in DDL:"
   ]
  },
  {
   "cell_type": "code",
   "execution_count": null,
   "id": "c865656a-d35e-4ba3-800b-be89e7516032",
   "metadata": {},
   "outputs": [],
   "source": [
    "CREATE: The CREATE statement is used to create a new database object, such as a table, index, or view. \n",
    "For example, to create a new table called \"customers\" with columns for ID, name, and email, the following SQL \n",
    "statement can be used:"
   ]
  },
  {
   "cell_type": "code",
   "execution_count": null,
   "id": "a5a7aa96-69d0-4a68-9a21-31d790a66e9c",
   "metadata": {},
   "outputs": [],
   "source": [
    "CREATE TABLE customers (\n",
    "   ID INT PRIMARY KEY,\n",
    "   name VARCHAR(50),\n",
    "   email VARCHAR(100)\n",
    ");"
   ]
  },
  {
   "cell_type": "code",
   "execution_count": null,
   "id": "c6c18a84-4891-4dd3-99c6-480a8648285a",
   "metadata": {},
   "outputs": [],
   "source": [
    "DROP: The DROP statement is used to delete an existing database object. For example, to delete the \"customers\"\n",
    "table that was created in the previous example, the following SQL statement can be used:"
   ]
  },
  {
   "cell_type": "code",
   "execution_count": null,
   "id": "cb0477d5-9e27-4c7e-801b-4010f7fc9e63",
   "metadata": {},
   "outputs": [],
   "source": [
    "DROP TABLE customers;"
   ]
  },
  {
   "cell_type": "code",
   "execution_count": null,
   "id": "1c7e6a3c-d2b3-492c-b250-cfec68b3990d",
   "metadata": {},
   "outputs": [],
   "source": [
    "ALTER: The ALTER statement is used to modify an existing database object. For example, to add a new column called\n",
    "\"phone\" to the \"customers\" table, the following SQL statement can be used:"
   ]
  },
  {
   "cell_type": "code",
   "execution_count": null,
   "id": "4dedb663-741f-409c-85c3-a9ef781cb493",
   "metadata": {},
   "outputs": [],
   "source": [
    "ALTER TABLE customers ADD phone VARCHAR(20);"
   ]
  },
  {
   "cell_type": "code",
   "execution_count": null,
   "id": "edfa765f-8c4b-40ca-a4e6-fce22087763b",
   "metadata": {},
   "outputs": [],
   "source": [
    "TRUNCATE: The TRUNCATE statement is used to delete all the data from an existing table. For example, to delete\n",
    "all the data from the \"customers\" table, the following SQL statement can be used:"
   ]
  },
  {
   "cell_type": "code",
   "execution_count": null,
   "id": "edf0772f-890d-4058-ada7-a002fe4cd181",
   "metadata": {},
   "outputs": [],
   "source": [
    "TRUNCATE TABLE customers;"
   ]
  },
  {
   "cell_type": "code",
   "execution_count": null,
   "id": "5846934f-4ad2-4b54-878d-3c725e52d859",
   "metadata": {},
   "outputs": [],
   "source": [
    "In summary, DDL statements are used to create, modify, and delete database objects, and the CREATE, DROP, ALTER,\n",
    "and TRUNCATE statements are some of the most commonly used DDL statements in SQL."
   ]
  },
  {
   "cell_type": "markdown",
   "id": "ae3b9527-d32b-4b96-b9ca-9f042be211d9",
   "metadata": {},
   "source": [
    "### Q3"
   ]
  },
  {
   "cell_type": "code",
   "execution_count": null,
   "id": "53367a49-9a4e-4542-bed5-154bdb09e363",
   "metadata": {},
   "outputs": [],
   "source": [
    "Q3. What is DML? Explain INSERT, UPDATE, and DELETE with an example."
   ]
  },
  {
   "cell_type": "code",
   "execution_count": null,
   "id": "a9743b72-b1e5-41e9-a13a-31b9ad424ceb",
   "metadata": {},
   "outputs": [],
   "source": [
    "Ans:- DML stands for Data Manipulation Language, which is a subset of SQL used to manage and manipulate the data \n",
    "within a database. DML statements are used to insert, update, retrieve, and delete data in a database.\n",
    "\n",
    "Here are some examples of how the INSERT, UPDATE, and DELETE statements can be used in DML:"
   ]
  },
  {
   "cell_type": "code",
   "execution_count": null,
   "id": "bf08edb9-aa2d-45f9-b3ce-01a24f1f3ca2",
   "metadata": {},
   "outputs": [],
   "source": [
    "INSERT: The INSERT statement is used to add new data to a table. For example, to insert a new record into a \n",
    "table called \"employees\" with values for the \"name\", \"age\", and \"salary\" columns, the following SQL statement can \n",
    "be used:"
   ]
  },
  {
   "cell_type": "code",
   "execution_count": null,
   "id": "b942ac9a-b771-4249-9581-23e0218b3791",
   "metadata": {},
   "outputs": [],
   "source": [
    "INSERT INTO employees (name, age, salary) VALUES ('John Smith', 30, 50000);"
   ]
  },
  {
   "cell_type": "code",
   "execution_count": null,
   "id": "13866163-4f81-4bcc-9f49-22196ba05c69",
   "metadata": {},
   "outputs": [],
   "source": [
    "UPDATE: The UPDATE statement is used to modify existing data in a table. For example, to update the salary of an \n",
    "employee with ID 1001 to 60000, the following SQL statement can be used:"
   ]
  },
  {
   "cell_type": "code",
   "execution_count": null,
   "id": "15cbf761-4189-4e90-8c4b-b30651569cc0",
   "metadata": {},
   "outputs": [],
   "source": [
    "UPDATE employees SET salary = 60000 WHERE ID = 1001;"
   ]
  },
  {
   "cell_type": "code",
   "execution_count": null,
   "id": "9a06ec55-fd1a-4c91-a418-51cb6299d354",
   "metadata": {},
   "outputs": [],
   "source": [
    "DELETE: The DELETE statement is used to remove data from a table. For example, to delete all employees with a \n",
    "salary less than 40000, the following SQL statement can be used:"
   ]
  },
  {
   "cell_type": "code",
   "execution_count": null,
   "id": "ba2bdb96-679d-4279-8465-482dc24ee1e7",
   "metadata": {},
   "outputs": [],
   "source": [
    "DELETE FROM employees WHERE salary < 40000;"
   ]
  },
  {
   "cell_type": "code",
   "execution_count": null,
   "id": "27a62874-e234-461d-a3bf-27f997f78867",
   "metadata": {},
   "outputs": [],
   "source": [
    "In summary, DML statements are used to manipulate the data within a database, and the INSERT, UPDATE, and DELETE \n",
    "statements are some of the most commonly used DML statements in SQL."
   ]
  },
  {
   "cell_type": "markdown",
   "id": "7636a41a-ed37-4ac7-a037-5cb54710379d",
   "metadata": {},
   "source": [
    "### Q4"
   ]
  },
  {
   "cell_type": "code",
   "execution_count": null,
   "id": "1cf6f837-9d46-4446-b9c1-f9d88ab930b4",
   "metadata": {},
   "outputs": [],
   "source": [
    "Q4. What is DQL? Explain SELECT with an example."
   ]
  },
  {
   "cell_type": "code",
   "execution_count": null,
   "id": "36ba3497-b981-43eb-847c-b129f08dade8",
   "metadata": {},
   "outputs": [],
   "source": [
    "Ans:- DQL stands for Data Query Language, which is a subset of SQL used to retrieve data from a database. \n",
    "DQL statements are used to search and filter the data in a database.\n",
    "\n",
    "The SELECT statement is the most commonly used DQL statement, and is used to retrieve data from one or more tables \n",
    "in a database. Here's an example of how the SELECT statement can be used in DQL:\n",
    "\n",
    "Consider the following \"students\" table, which contains information about students:"
   ]
  },
  {
   "cell_type": "code",
   "execution_count": null,
   "id": "6a1a9238-4228-4ae8-8b36-7add39bd4976",
   "metadata": {},
   "outputs": [],
   "source": [
    "+----+-------+-------+--------+\n",
    "| ID | Name  | Grade | Gender |\n",
    "+----+-------+-------+--------+\n",
    "| 1  | Alice | 95    | F      |\n",
    "| 2  | Bob   | 82    | M      |\n",
    "| 3  | Carol | 90    | F      |\n",
    "| 4  | Dave  | 76    | M      |\n",
    "+----+-------+-------+--------+"
   ]
  },
  {
   "cell_type": "code",
   "execution_count": null,
   "id": "e624c3ab-f184-40e9-93e7-93cf84185ffd",
   "metadata": {},
   "outputs": [],
   "source": [
    "To retrieve all the data from the \"students\" table, the following SELECT statement can be used:"
   ]
  },
  {
   "cell_type": "code",
   "execution_count": null,
   "id": "372c5a77-dca4-48c0-893c-0282d6afb3d6",
   "metadata": {},
   "outputs": [],
   "source": [
    "SELECT * FROM students;"
   ]
  },
  {
   "cell_type": "code",
   "execution_count": null,
   "id": "90e231fc-a0e8-4937-8162-31d42ebdaa9a",
   "metadata": {},
   "outputs": [],
   "source": [
    "This statement will return all the columns and rows in the \"students\" table, as shown below:"
   ]
  },
  {
   "cell_type": "code",
   "execution_count": null,
   "id": "6fbdf59b-6ad9-4d0f-9280-123156fab2e8",
   "metadata": {},
   "outputs": [],
   "source": [
    "+----+-------+-------+--------+\n",
    "| ID | Name  | Grade | Gender |\n",
    "+----+-------+-------+--------+\n",
    "| 1  | Alice | 95    | F      |\n",
    "| 2  | Bob   | 82    | M      |\n",
    "| 3  | Carol | 90    | F      |\n",
    "| 4  | Dave  | 76    | M      |\n",
    "+----+-------+-------+--------+"
   ]
  },
  {
   "cell_type": "code",
   "execution_count": null,
   "id": "09f5be96-c62a-4a35-8875-797d5bbf9045",
   "metadata": {},
   "outputs": [],
   "source": [
    "To retrieve only the names of the students from the \"students\" table, the following SELECT statement can be used:"
   ]
  },
  {
   "cell_type": "code",
   "execution_count": null,
   "id": "8e91f10e-b479-43f3-bc9c-e2887b7c679f",
   "metadata": {},
   "outputs": [],
   "source": [
    "SELECT Name FROM students;"
   ]
  },
  {
   "cell_type": "code",
   "execution_count": null,
   "id": "d144b58c-cae9-48c9-8071-e18948e7c54e",
   "metadata": {},
   "outputs": [],
   "source": [
    "This statement will return only the \"Name\" column from the \"students\" table, as shown below:"
   ]
  },
  {
   "cell_type": "code",
   "execution_count": null,
   "id": "5506adb7-d794-4616-b548-8af6b49cd76a",
   "metadata": {},
   "outputs": [],
   "source": [
    "+-------+\n",
    "| Name  |\n",
    "+-------+\n",
    "| Alice |\n",
    "| Bob   |\n",
    "| Carol |\n",
    "| Dave  |\n",
    "+-------+"
   ]
  },
  {
   "cell_type": "code",
   "execution_count": null,
   "id": "471a19a8-ec02-48ee-9e02-403e254ba2c2",
   "metadata": {},
   "outputs": [],
   "source": [
    "In summary, DQL statements are used to retrieve data from a database, and the SELECT statement is the most\n",
    "commonly used DQL statement in SQL."
   ]
  },
  {
   "cell_type": "markdown",
   "id": "f4cb7c78-e763-49c8-a8f0-e4ddc2703c52",
   "metadata": {},
   "source": [
    "### Q5"
   ]
  },
  {
   "cell_type": "code",
   "execution_count": null,
   "id": "83a829e9-34e7-4f71-bb19-26934470792b",
   "metadata": {},
   "outputs": [],
   "source": [
    "Q5. Explain Primary Key and Foreign Key."
   ]
  },
  {
   "cell_type": "code",
   "execution_count": null,
   "id": "efe50e68-8ace-43aa-85e8-7865b680068b",
   "metadata": {},
   "outputs": [],
   "source": [
    "Ans:- Primary Key and Foreign Key are two important concepts in relational databases that are used to establish \n",
    "relationships between tables.\n",
    "\n",
    "A Primary Key is a column or set of columns in a table that uniquely identifies each record in that table.\n",
    "A Primary Key must have a unique value for each record, and cannot have a null value. The Primary Key is used to\n",
    "ensure data integrity and to enforce referential integrity when creating relationships with other tables.\n",
    "\n",
    "For example, consider a \"students\" table that has an \"ID\" column as its Primary Key:"
   ]
  },
  {
   "cell_type": "code",
   "execution_count": null,
   "id": "3e086d99-7869-4fb2-a310-8e89079d5317",
   "metadata": {},
   "outputs": [],
   "source": [
    "+----+-------+-------+--------+\n",
    "| ID | Name  | Grade | Gender |\n",
    "+----+-------+-------+--------+\n",
    "| 1  | Alice | 95    | F      |\n",
    "| 2  | Bob   | 82    | M      |\n",
    "| 3  | Carol | 90    | F      |\n",
    "| 4  | Dave  | 76    | M      |\n",
    "+----+-------+-------+--------+"
   ]
  },
  {
   "cell_type": "code",
   "execution_count": null,
   "id": "a1c406d8-b6f5-4781-a39e-24c8e909dbc0",
   "metadata": {},
   "outputs": [],
   "source": [
    "In this table, the \"ID\" column is the Primary Key, and ensures that each record is uniquely identified by its ID. \n",
    "The Primary Key can also be used to create relationships with other tables, as explained below.\n",
    "\n",
    "A Foreign Key is a column or set of columns in one table that references the Primary Key of another table. \n",
    "A Foreign Key is used to establish relationships between tables, and to enforce referential integrity between \n",
    "related tables. The Foreign Key column in a table contains values that match the Primary Key values in the related \n",
    "table.\n",
    "\n",
    "For example, consider a second \"enrollments\" table that contains information about which students are enrolled in\n",
    "which courses:"
   ]
  },
  {
   "cell_type": "code",
   "execution_count": null,
   "id": "94870fd8-83b9-4caa-ad07-9ae337640b86",
   "metadata": {},
   "outputs": [],
   "source": [
    "+---------+------------+\n",
    "| Student | Course     |\n",
    "+---------+------------+\n",
    "| 1       | Math       |\n",
    "| 1       | Science    |\n",
    "| 2       | English    |\n",
    "| 3       | Science    |\n",
    "| 4       | History    |\n",
    "+---------+------------+"
   ]
  },
  {
   "cell_type": "code",
   "execution_count": null,
   "id": "16b5619a-7928-4bd1-b021-fb5104a9bd62",
   "metadata": {},
   "outputs": [],
   "source": [
    "In this table, the \"Student\" column is a Foreign Key that references the \"ID\" column in the \"students\" table.\n",
    "This creates a relationship between the two tables, and ensures that only valid student IDs can be entered into\n",
    "the \"enrollments\" table.\n",
    "\n",
    "In summary, a Primary Key is a column or set of columns in a table that uniquely identifies each record in \n",
    "that table, while a Foreign Key is a column or set of columns in one table that references the Primary Key of \n",
    "another table. Together, they are used to create relationships between tables and to ensure data integrity in a \n",
    "relational database."
   ]
  },
  {
   "cell_type": "markdown",
   "id": "f474051a-e69c-4750-9ba1-175e8d7def46",
   "metadata": {},
   "source": [
    "### Q6"
   ]
  },
  {
   "cell_type": "code",
   "execution_count": null,
   "id": "b7cc9895-3004-43bc-adfa-804e1b9a07d5",
   "metadata": {},
   "outputs": [],
   "source": [
    "Q6. Write a python code to connect MySQL to python. Explain the cursor() and execute() method."
   ]
  },
  {
   "cell_type": "code",
   "execution_count": null,
   "id": "891a718e-2861-43ff-b619-7624c91046cc",
   "metadata": {},
   "outputs": [],
   "source": [
    "Ans:- To connect to MySQL from Python, you can use the mysql-connector package. Here's an example code snippet \n",
    "that shows how to connect to a MySQL database from Python:"
   ]
  },
  {
   "cell_type": "code",
   "execution_count": null,
   "id": "ce4d7f21-a7c9-472e-9239-f803adb3e978",
   "metadata": {},
   "outputs": [],
   "source": [
    "import mysql.connector\n",
    "\n",
    "mydb = mysql.connector.connect(\n",
    "  host=\"localhost\",\n",
    "  user=\"yourusername\",\n",
    "  password=\"yourpassword\",\n",
    "  database=\"yourdatabase\"\n",
    ")\n",
    "\n",
    "mycursor = mydb.cursor()\n"
   ]
  },
  {
   "cell_type": "code",
   "execution_count": null,
   "id": "4fe571a4-84b6-40d9-8acd-7731bde6bf56",
   "metadata": {},
   "outputs": [],
   "source": [
    "In this code snippet, we import the mysql.connector module and use it to establish a connection to a MySQL\n",
    "database. We specify the host, user, password, and database parameters to connect to the specific database we \n",
    "want to work with. The connect() method returns a connection object, which we store in the mydb variable.\n",
    "\n",
    "We then create a cursor object using the cursor() method of the connection object. The cursor object is used to \n",
    "execute SQL statements and fetch results. The execute() method of the cursor object is used to execute SQL \n",
    "statements.\n",
    "\n",
    "For example, to execute a SELECT statement, we can use the execute() method as follows:"
   ]
  },
  {
   "cell_type": "code",
   "execution_count": null,
   "id": "e44f0aed-ddfe-4fd8-a0b6-b817890ddeaa",
   "metadata": {},
   "outputs": [],
   "source": [
    "mycursor.execute(\"SELECT * FROM customers\")\n",
    "myresult = mycursor.fetchall()\n",
    "for x in myresult:\n",
    "print(x)"
   ]
  },
  {
   "cell_type": "code",
   "execution_count": null,
   "id": "474333a4-bc31-41b1-a1f8-e092f247a3bb",
   "metadata": {},
   "outputs": [],
   "source": [
    "In this code snippet, we execute a SELECT statement that retrieves all rows from the \"customers\" table. \n",
    "The fetchall() method is then called on the cursor object to retrieve all the rows returned by the SELECT\n",
    "statement. The result is stored in the myresult variable, which is then printed using a for loop.\n",
    "\n",
    "In summary, the cursor() method is used to create a cursor object that is used to execute SQL statements, and the \n",
    "execute() method is used to execute SQL statements."
   ]
  },
  {
   "cell_type": "markdown",
   "id": "0e286bb2-327e-4447-9781-1b536a6de4c6",
   "metadata": {},
   "source": [
    "### Q7"
   ]
  },
  {
   "cell_type": "code",
   "execution_count": null,
   "id": "4a437d91-bc76-4b08-b762-8c31633f066c",
   "metadata": {},
   "outputs": [],
   "source": [
    "Q7. Give the order of execution of SQL clauses in an SQL query."
   ]
  },
  {
   "cell_type": "code",
   "execution_count": null,
   "id": "634c48a6-3f86-4eae-94f2-cd82cdbbc5ab",
   "metadata": {},
   "outputs": [],
   "source": [
    "Ans:- The order of execution of SQL clauses in a query is as follows:\n",
    "\n",
    "=> FROM: This clause specifies the table(s) from which data is being selected.\n",
    "\n",
    "=> JOIN: If the query involves joining multiple tables, the JOIN clause is used to combine them.\n",
    "\n",
    "=> WHERE: This clause is used to filter the results based on certain conditions.\n",
    "\n",
    "=> GROUP BY: This clause is used to group the results based on one or more columns.\n",
    "\n",
    "=> HAVING: If the query includes a GROUP BY clause, the HAVING clause is used to filter the results based on \n",
    "aggregate functions (such as SUM or AVG).\n",
    "\n",
    "=> SELECT: This clause is used to select the columns that will be displayed in the results.\n",
    "\n",
    "=> DISTINCT: If the query requires only unique values in the results, the DISTINCT keyword is used.\n",
    "\n",
    "=> ORDER BY: This clause is used to sort the results based on one or more columns.\n",
    "\n",
    "=> LIMIT: This clause is used to limit the number of results returned by the query."
   ]
  },
  {
   "cell_type": "code",
   "execution_count": null,
   "id": "18206fbf-83d6-493f-96c8-63fc62f29e99",
   "metadata": {},
   "outputs": [],
   "source": [
    "It's important to note that not all SQL queries will include all of these clauses, and the order of \n",
    "execution may vary depending on the specific query being executed. However, in general, this is the typical order \n",
    "of execution for a basic SQL query."
   ]
  },
  {
   "cell_type": "code",
   "execution_count": null,
   "id": "cc240f85-37f5-4559-8352-2f34cf62aabd",
   "metadata": {},
   "outputs": [],
   "source": []
  }
 ],
 "metadata": {
  "kernelspec": {
   "display_name": "Python 3 (ipykernel)",
   "language": "python",
   "name": "python3"
  },
  "language_info": {
   "codemirror_mode": {
    "name": "ipython",
    "version": 3
   },
   "file_extension": ".py",
   "mimetype": "text/x-python",
   "name": "python",
   "nbconvert_exporter": "python",
   "pygments_lexer": "ipython3",
   "version": "3.10.8"
  }
 },
 "nbformat": 4,
 "nbformat_minor": 5
}
