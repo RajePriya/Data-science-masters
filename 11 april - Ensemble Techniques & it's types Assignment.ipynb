{
 "cells": [
  {
   "cell_type": "markdown",
   "id": "436184dc",
   "metadata": {},
   "source": [
    "# Q1"
   ]
  },
  {
   "cell_type": "code",
   "execution_count": null,
   "id": "31d03c80",
   "metadata": {},
   "outputs": [],
   "source": [
    "Q1. What is an ensemble technique in machine learning?"
   ]
  },
  {
   "cell_type": "markdown",
   "id": "9b82bb8b",
   "metadata": {},
   "source": [
    "Ans:- \n",
    "    \n",
    "    In machine learning, an ensemble technique is a method of combining multiple individual models (often called base models or weak learners) to create a more robust and accurate prediction model. The main idea behind ensemble techniques is that by combining the predictions of multiple models, the overall performance can be significantly improved compared to using a single model.\n",
    "\n",
    "Ensemble techniques are widely used and have proven to be effective in various machine learning tasks, including classification, regression, and clustering. The key principle is that the individual models should be diverse, meaning they should make different types of errors. When combined, these diverse models can compensate for each other's weaknesses and produce a more accurate and stable prediction.\n",
    "\n",
    "There are several popular ensemble techniques, including:\n",
    "\n",
    "1. Bagging (Bootstrap Aggregating): It involves training multiple instances of the same model on different subsets of the training data. The final prediction is obtained by aggregating the predictions of all the models (e.g., by averaging for regression or voting for classification).\n",
    "\n",
    "2. Boosting: Boosting is an iterative technique where each model tries to correct the errors made by the previous models. Examples that were misclassified by the previous models are given higher weight, so subsequent models focus more on getting them right.\n",
    "\n",
    "3. Random Forest: It is an ensemble of decision trees created using bagging. Each tree is trained on a different subset of the data and a random subset of features. The final prediction is obtained by averaging (regression) or voting (classification) the predictions of all the trees.\n",
    "\n",
    "4. Stacking: Stacking involves training multiple models, and instead of simply averaging or voting their predictions, a meta-model is trained to learn how to combine the base models' outputs effectively.\n",
    "\n",
    "5. Gradient Boosting Machines (GBM): GBMs are a specific type of boosting technique where each model is trained to correct the errors of the previous model using gradient descent optimization.\n",
    "\n",
    "6. Ensemble techniques are powerful because they can often lead to significant improvements in model performance and can help mitigate overfitting. However, they are also computationally more expensive and require careful tuning of hyperparameters to achieve the best results."
   ]
  },
  {
   "cell_type": "markdown",
   "id": "114099e3",
   "metadata": {},
   "source": [
    "# Q2"
   ]
  },
  {
   "cell_type": "code",
   "execution_count": null,
   "id": "8acf07cc",
   "metadata": {},
   "outputs": [],
   "source": [
    "Q2. Why are ensemble techniques used in machine learning?"
   ]
  },
  {
   "cell_type": "markdown",
   "id": "ea07084b",
   "metadata": {},
   "source": [
    "Ans:-\n",
    "    \n",
    "    Ensemble techniques are used in machine learning for several reasons, as they offer numerous benefits and advantages that can lead to improved model performance and generalization. Some of the key reasons why ensemble techniques are popular and widely used are:\n",
    "\n",
    "1. Improved Accuracy and Performance: Ensemble methods can significantly enhance the predictive performance of machine learning models. By combining the predictions of multiple diverse models, the ensemble can effectively reduce errors and provide more accurate and robust predictions than individual models.\n",
    "\n",
    "2. Reduced Overfitting: Ensemble techniques can help mitigate overfitting, which occurs when a model performs well on the training data but poorly on unseen data. By combining multiple models, each capturing different patterns in the data, the ensemble is less likely to overfit and can generalize better to new data.\n",
    "\n",
    "3. Robustness to Noise and Outliers: Individual models may be sensitive to noise or outliers in the data, but when combined in an ensemble, the impact of these anomalies is reduced. The ensemble can focus on the common patterns present in the majority of the models, making it more robust to noisy data.\n",
    "\n",
    "4. Model Stability: Ensemble methods provide stability to the predictions. In case one or a few models in the ensemble make mistakes on certain samples, the overall ensemble's prediction is still likely to be correct due to the combined wisdom of multiple models.\n",
    "\n",
    "5. Handling Model Uncertainty: Ensemble methods can provide a measure of uncertainty for the predictions. By combining multiple models with different perspectives, the ensemble can indicate the level of agreement or disagreement among the models, which can be valuable in decision-making scenarios.\n",
    "\n",
    "6. Flexibility and Compatibility: Ensemble techniques can be applied to a wide range of machine learning algorithms and models. They are not limited to a specific type of model and can be used with decision trees, neural networks, support vector machines, etc.\n",
    "\n",
    "7. Ease of Implementation: Many ensemble techniques, such as bagging and random forests, are relatively simple to implement and can be parallelized easily, making them suitable for large-scale data and distributed computing environments.\n",
    "\n",
    "8. State-of-the-Art Performance: Ensemble methods have been used to achieve state-of-the-art performance in various machine learning competitions and real-world applications, showcasing their effectiveness.\n",
    "\n",
    "Overall, ensemble techniques are a powerful tool in a machine learning practitioner's arsenal, providing a means to boost the performance, robustness, and generalization capabilities of their models, particularly when individual models may not perform optimally on their own. However, it's essential to strike a balance between model complexity, computational resources, and the potential gains from using ensembles, as they come with increased computational costs compared to using single models."
   ]
  },
  {
   "cell_type": "markdown",
   "id": "026343c8",
   "metadata": {},
   "source": [
    "# Q3"
   ]
  },
  {
   "cell_type": "code",
   "execution_count": null,
   "id": "78900ec7",
   "metadata": {},
   "outputs": [],
   "source": [
    "Q3. What is bagging?"
   ]
  },
  {
   "cell_type": "markdown",
   "id": "56054174",
   "metadata": {},
   "source": [
    "Ans:- \n",
    "    \n",
    "    Bagging, short for Bootstrap Aggregating, is an ensemble machine learning technique used to improve the accuracy and robustness of models, particularly in the context of decision trees and other high-variance models. It was introduced by Leo Breiman in 1996.\n",
    "\n",
    "The main idea behind bagging is to create multiple instances of the same model by training them on different random subsets of the training data. The process involves the following steps:\n",
    "\n",
    "1. Bootstrap Sampling: Given a dataset with N samples, bagging generates multiple bootstrap samples of size N (usually of the same size as the original dataset) by randomly sampling with replacement from the original dataset. This means that some samples will appear multiple times in a bootstrap sample, while others may not appear at all.\n",
    "\n",
    "2. Model Training: For each bootstrap sample, a separate instance of the model is trained on that particular sample. For example, if using decision trees, multiple decision trees are built, each using a different bootstrap sample.\n",
    "\n",
    "3. Aggregation of Predictions: Once all the models are trained, predictions are made by each individual model on the test data. For regression tasks, the predictions are often averaged to obtain the final ensemble prediction. For classification tasks, the predictions are combined through voting, where the majority class is chosen as the final prediction.\n",
    "\n",
    "4. The key advantage of bagging is that by training models on different subsets of the data, the ensemble can reduce variance and improve generalization performance. It helps to reduce overfitting, especially for models that are prone to high variance (e.g., deep decision trees).\n",
    "\n",
    "5. The most popular variant of bagging is Random Forest, which applies bagging to decision trees. In addition to using different subsets of the data for training, Random Forest also introduces an additional level of randomness by randomly selecting a subset of features to consider at each split in the decision tree. This further enhances the diversity among the individual trees and helps prevent overfitting.\n",
    "\n",
    "Overall, bagging is a powerful technique for creating diverse models and combining their predictions to achieve better overall performance, especially when dealing with complex and noisy datasets. It has proven to be effective in a wide range of machine learning tasks, including classification, regression, and even anomaly detection."
   ]
  },
  {
   "cell_type": "markdown",
   "id": "3a98fa3d",
   "metadata": {},
   "source": [
    "# Q4"
   ]
  },
  {
   "cell_type": "code",
   "execution_count": null,
   "id": "9ed1053c",
   "metadata": {},
   "outputs": [],
   "source": [
    "Q4. What is boosting?"
   ]
  },
  {
   "cell_type": "markdown",
   "id": "84cd81e0",
   "metadata": {},
   "source": [
    "Ans:-\n",
    "\n",
    "\n",
    "Boosting is another ensemble machine learning technique used to improve the accuracy and performance of models, particularly in the context of weak learners (models that are only slightly better than random guessing). Unlike bagging, which creates multiple models independently, boosting builds models sequentially, where each model focuses on correcting the errors made by the previous ones.\n",
    "\n",
    "The main idea behind boosting is to combine the predictions of multiple weak learners to create a strong learner. The boosting process involves the following steps:\n",
    "\n",
    "1. Sequential Model Training: Boosting starts by training a base model (weak learner) on the original training data.\n",
    "\n",
    "2. Sample Weighting: After the first model is trained, the training data points are assigned weights. Initially, all data points have equal weight. However, after each iteration, the weights of the misclassified samples are increased, while the weights of the correctly classified samples are decreased. This way, the subsequent model will pay more attention to the previously misclassified data points.\n",
    "\n",
    "3. Iterative Model Building: In each iteration, a new weak learner is trained on the updated training data, where the weights of the data points influence the learner's focus. The weak learners are typically shallow decision trees, such as decision stumps (decision trees with only one split).\n",
    "\n",
    "4. Weighted Voting: When making predictions, the final model (strong learner) combines the predictions of all the weak learners, with each learner's prediction weighted according to its performance during training. More accurate learners are given higher influence in the final prediction.\n",
    "\n",
    "The boosting process continues until a specified number of weak learners is reached or until a performance criterion is met. Notably, boosting emphasizes the importance of samples that are difficult to classify correctly, making it effective in handling complex and challenging datasets.\n",
    "\n",
    "One of the most popular boosting algorithms is AdaBoost (Adaptive Boosting), which was introduced by Yoav Freund and Robert Schapire in 1996. AdaBoost is one of the earliest and widely used boosting algorithms. Other popular boosting algorithms include Gradient Boosting Machines (GBM) and XGBoost.\n",
    "\n",
    "Boosting has proven to be a powerful technique in various machine learning tasks, often achieving better performance than individual base models or other ensemble methods. It helps to reduce bias and variance, leading to improved generalization capabilities. However, boosting is more susceptible to overfitting than bagging, and it requires careful tuning of hyperparameters to achieve optimal results."
   ]
  },
  {
   "cell_type": "markdown",
   "id": "574a2144",
   "metadata": {},
   "source": [
    "# Q5"
   ]
  },
  {
   "cell_type": "code",
   "execution_count": null,
   "id": "cd52bb3f",
   "metadata": {},
   "outputs": [],
   "source": [
    "Q5. What are the benefits of using ensemble techniques?"
   ]
  },
  {
   "cell_type": "markdown",
   "id": "fb2d7236",
   "metadata": {},
   "source": [
    "Ans:-\n",
    "    \n",
    "    Ensemble techniques offer several benefits and advantages in machine learning, making them a popular choice for improving model performance and generalization. Some of the key benefits of using ensemble techniques are:\n",
    "\n",
    "1. Improved Accuracy: Ensemble methods can significantly enhance the predictive accuracy of machine learning models. By combining the predictions of multiple diverse models, the ensemble can reduce errors and provide more accurate and robust predictions than individual models.\n",
    "\n",
    "2. Reduced Overfitting: Ensemble techniques can help mitigate overfitting, which occurs when a model performs well on the training data but poorly on unseen data. By combining multiple models, each capturing different patterns in the data, the ensemble is less likely to overfit and can generalize better to new data.\n",
    "\n",
    "3. Robustness to Noise and Outliers: Individual models may be sensitive to noise or outliers in the data, but when combined in an ensemble, the impact of these anomalies is reduced. The ensemble can focus on the common patterns present in the majority of the models, making it more robust to noisy data.\n",
    "\n",
    "4. Model Stability: Ensemble methods provide stability to the predictions. In case one or a few models in the ensemble make mistakes on certain samples, the overall ensemble's prediction is still likely to be correct due to the combined wisdom of multiple models.\n",
    "\n",
    "5. Handling Model Uncertainty: Ensemble methods can provide a measure of uncertainty for the predictions. By combining multiple models with different perspectives, the ensemble can indicate the level of agreement or disagreement among the models, which can be valuable in decision-making scenarios.\n",
    "\n",
    "6. Flexibility and Compatibility: Ensemble techniques can be applied to a wide range of machine learning algorithms and models. They are not limited to a specific type of model and can be used with decision trees, neural networks, support vector machines, etc.\n",
    "\n",
    "7. Ease of Implementation: Many ensemble techniques, such as bagging and random forests, are relatively simple to implement and can be parallelized easily, making them suitable for large-scale data and distributed computing environments.\n",
    "\n",
    "8. State-of-the-Art Performance: Ensemble methods have been used to achieve state-of-the-art performance in various machine learning competitions and real-world applications, showcasing their effectiveness.\n",
    "\n",
    "9. Interpretability (in some cases): In certain ensemble methods like Random Forests, feature importance can be extracted to understand the relative significance of different features in making predictions.\n",
    "\n",
    "10. Tackling Imbalanced Data: Ensembles can handle imbalanced datasets more effectively than single models. The ensemble can learn to pay more attention to the minority class by appropriately weighting the models or samples.\n",
    "\n",
    "11. Ensemble Diversity: Ensemble methods promote diversity among the individual models, as they can be trained using different algorithms, subsets of data, or feature sets. This diversity contributes to better generalization and model performance.\n",
    "\n",
    "It is important to note that while ensemble techniques provide many benefits, they also come with some trade-offs. Ensembles may be computationally more expensive, require larger memory, and can be more challenging to interpret compared to single models. However, the advantages they offer often outweigh these limitations, especially in tasks where accuracy and robustness are crucial."
   ]
  },
  {
   "cell_type": "markdown",
   "id": "d6c55653",
   "metadata": {},
   "source": [
    "# Q6"
   ]
  },
  {
   "cell_type": "code",
   "execution_count": null,
   "id": "5b118d37",
   "metadata": {},
   "outputs": [],
   "source": [
    "Q6. Are ensemble techniques always better than individual models?"
   ]
  },
  {
   "cell_type": "markdown",
   "id": "e39da90f",
   "metadata": {},
   "source": [
    "Ans:-\n",
    "    \n",
    "    Ensemble techniques are powerful tools that can often outperform individual models in terms of accuracy, robustness, and generalization. However, whether ensemble techniques are always better than individual models depends on various factors and the specific context of the problem at hand. Here are some considerations to keep in mind:\n",
    "\n",
    "1. Data Size: For small datasets, individual models may perform reasonably well without the need for ensemble techniques. Ensembles typically shine when there is a substantial amount of data to create diverse subsets for training multiple models.\n",
    "\n",
    "2. Model Complexity: If the problem at hand is relatively simple and can be adequately addressed by a single model, employing an ensemble might introduce unnecessary complexity and computational overhead.\n",
    "\n",
    "3. Computational Resources: Ensembles can be computationally more expensive than individual models, especially if there are a large number of base models or iterations involved. In resource-constrained environments, using ensembles may not always be practical.\n",
    "\n",
    "4. Model Interpretability: Individual models are often more interpretable than ensembles, especially decision trees or linear models. If interpretability is crucial for the problem domain, an ensemble's black-box nature might be a disadvantage.\n",
    "\n",
    "5. Training Time: Training an ensemble can take longer than training a single model, especially for boosting algorithms that build models sequentially. If time is a critical factor, a single model might be preferred.\n",
    "\n",
    "6. Ensemble Diversity: The effectiveness of an ensemble heavily depends on the diversity of the individual models. If the base models are too similar or correlated, the ensemble might not bring significant performance improvements.\n",
    "\n",
    "7. Imbalanced Data: Ensembles can handle imbalanced datasets better than individual models. If dealing with imbalanced classes, ensembles might be more advantageous.\n",
    "\n",
    "8. Model Selection and Hyperparameter Tuning: Ensembles introduce additional hyperparameters that need to be tuned, and model selection becomes more complex. It requires careful optimization to achieve the best performance.\n",
    "\n",
    "9. Risk of Overfitting: While ensembles can reduce overfitting, there is still a risk of overfitting if the ensemble is too complex or the individual models are highly overfitted.\n",
    "\n",
    "In practice, it is common to start with a well-performing individual model and then explore whether an ensemble can further improve performance. The decision to use an ensemble should be based on empirical experimentation and evaluation on the specific dataset and problem. Cross-validation and performance metrics can help compare the performance of individual models with ensembles and determine the most suitable approach.\n",
    "\n",
    "Ultimately, the effectiveness of ensemble techniques relies on the diversity and quality of the individual models, as well as the characteristics of the dataset. While they often lead to better results, it's not a guarantee, and careful experimentation and analysis are necessary to make an informed decision."
   ]
  },
  {
   "cell_type": "markdown",
   "id": "58c6f0ff",
   "metadata": {},
   "source": [
    "# Q7"
   ]
  },
  {
   "cell_type": "code",
   "execution_count": null,
   "id": "a47744a2",
   "metadata": {},
   "outputs": [],
   "source": [
    "Q7. How is the confidence interval calculated using bootstrap?"
   ]
  },
  {
   "cell_type": "markdown",
   "id": "4bb6e7b6",
   "metadata": {},
   "source": [
    "Ans:- \n",
    "    \n",
    "    The confidence interval using bootstrap is calculated by estimating the sampling distribution of a statistic of interest from resampled data. Bootstrap is a non-parametric statistical technique that allows us to make inferences about the population parameter without assuming a specific underlying distribution. The confidence interval provides a range of values within which the true population parameter is likely to lie with a certain level of confidence.\n",
    "\n",
    "Here are the steps to calculate the confidence interval using bootstrap:\n",
    "\n",
    "1. Data Resampling: Given a dataset with N samples, the bootstrap process involves randomly sampling N samples with replacement from the original dataset to create a new \"bootstrap sample.\" This new sample will have the same size as the original dataset but may contain duplicate data points and omit some original data points.\n",
    "\n",
    "2. Statistic Calculation: Calculate the statistic of interest (e.g., mean, median, standard deviation, etc.) on the resampled data. This gives us one value of the statistic for the current bootstrap sample.\n",
    "\n",
    "3. Repeat the Process: Repeat steps 1 and 2 a large number of times (typically thousands of iterations) to create a distribution of the statistic under different resampled datasets.\n",
    "\n",
    "4. Confidence Interval Estimation: Once we have the distribution of the statistic, we can calculate the confidence interval. The confidence interval represents a range of values within which the true population parameter is expected to lie with a specified level of confidence. The confidence level is typically chosen in advance (e.g., 95% or 99%).\n",
    "\n",
    "For example, to calculate a 95% confidence interval, we sort the distribution of the statistic in ascending order and find the values at the 2.5th percentile and the 97.5th percentile. These values define the lower and upper bounds of the confidence interval, respectively.\n",
    "\n",
    "The formula to calculate the confidence interval is as follows: CSS"
   ]
  },
  {
   "cell_type": "code",
   "execution_count": null,
   "id": "55c5ba3f",
   "metadata": {},
   "outputs": [],
   "source": [
    "Lower Bound = (Percentile)th value of the sorted distribution\n",
    "Upper Bound = (100 - Percentile)th value of the sorted distribution"
   ]
  },
  {
   "cell_type": "markdown",
   "id": "bfbba00f",
   "metadata": {},
   "source": [
    "For a 95% confidence interval, Percentile = 2.5.\n",
    "\n",
    "5. Interpretation: The resulting confidence interval represents the range of values where we can be confident (with the chosen confidence level) that the true population parameter lies.\n",
    "\n",
    "Bootstrap is a powerful and versatile technique, especially when the underlying population distribution is unknown or complicated. It allows us to approximate the sampling distribution of a statistic, providing valuable information about the uncertainty associated with our estimates."
   ]
  },
  {
   "cell_type": "markdown",
   "id": "09bed3a3",
   "metadata": {},
   "source": [
    "# Q8"
   ]
  },
  {
   "cell_type": "code",
   "execution_count": null,
   "id": "dd045fb5",
   "metadata": {},
   "outputs": [],
   "source": [
    "Q8. How does bootstrap work and What are the steps involved in bootstrap?"
   ]
  },
  {
   "cell_type": "markdown",
   "id": "622f1263",
   "metadata": {},
   "source": [
    "Ans:-\n",
    "    \n",
    "    Bootstrap is a statistical resampling technique used to estimate the sampling distribution of a statistic or to make inferences about a population parameter without making strong assumptions about the underlying data distribution. It is particularly useful when the sample size is small, or the underlying population distribution is unknown or non-parametric. Bootstrap works by repeatedly resampling the observed data to create multiple \"bootstrap samples\" and then calculating the statistic of interest on each sample.\n",
    "\n",
    "Here are the steps involved in bootstrap:\n",
    "\n",
    "1. Original Sample: Start with the original dataset containing N observations.\n",
    "\n",
    "2. Data Resampling: Randomly draw N observations from the original dataset with replacement to create a new \"bootstrap sample.\" This means that some observations may be selected multiple times, while others may not be selected at all. The size of the bootstrap sample is the same as the size of the original dataset.\n",
    "\n",
    "3. Statistic Calculation: Calculate the statistic of interest (e.g., mean, median, standard deviation, etc.) on the resampled data. This gives us one value of the statistic for the current bootstrap sample.\n",
    "\n",
    "4. Repeat the Process: Repeat steps 2 and 3 a large number of times (typically thousands of iterations) to create a distribution of the statistic under different resampled datasets. Each iteration generates a new bootstrap sample and a corresponding value of the statistic.\n",
    "\n",
    "5. Statistic Distribution: The collection of statistic values obtained from the resampled datasets forms the \"bootstrap distribution\" of the statistic. This distribution approximates the sampling distribution of the statistic.\n",
    "\n",
    "6. Confidence Interval Estimation: From the bootstrap distribution, we can calculate the confidence interval for the statistic. The confidence interval provides a range of values within which the true population parameter is likely to lie with a certain level of confidence. The confidence level is typically chosen in advance (e.g., 95% or 99%).\n",
    "\n",
    "For example, to calculate a 95% confidence interval, we sort the bootstrap distribution of the statistic in ascending order and find the values at the 2.5th percentile and the 97.5th percentile. These values define the lower and upper bounds of the confidence interval, respectively.\n",
    "\n",
    "7. Inference: With the confidence interval, we can make statistical inferences about the population parameter. If the confidence interval does not include a specific value (e.g., zero for a difference in means), we can conclude that the parameter is statistically significantly different from that value at the chosen confidence level.\n",
    "\n",
    "The key idea behind bootstrap is that by resampling the observed data, we are effectively creating multiple \"pseudo-populations\" from which we can estimate the variability and uncertainty associated with our statistic of interest. It is important to note that bootstrap assumes that the observed data is a representative sample from the population of interest, and the quality of the bootstrap estimates depends on the quality of the original sample."
   ]
  },
  {
   "cell_type": "markdown",
   "id": "a2932e63",
   "metadata": {},
   "source": [
    "# Q9"
   ]
  },
  {
   "cell_type": "markdown",
   "id": "b934e2e1",
   "metadata": {},
   "source": [
    "Q9. A researcher wants to estimate the mean height of a population of trees. They measure the height of a sample of 50 trees and obtain a mean height of 15 meters and a standard deviation of 2 meters. Use bootstrap to estimate the 95% confidence interval for the population mean height."
   ]
  },
  {
   "cell_type": "markdown",
   "id": "1c68ece7",
   "metadata": {},
   "source": [
    "Ans:-\n",
    "    \n",
    "    To estimate the 95% confidence interval for the population mean height using bootstrap, we will follow these steps:\n",
    "\n",
    "1. Create the Bootstrap Sample: Randomly sample with replacement from the original sample of 50 tree heights to create a new bootstrap sample of the same size (50 heights). Repeat this process many times (e.g., 10,000 iterations) to generate multiple bootstrap samples.\n",
    "\n",
    "2. Calculate the Mean Height for Each Bootstrap Sample: For each bootstrap sample, calculate the mean height.\n",
    "\n",
    "3. Bootstrap Distribution: Collect all the calculated mean heights from the bootstrap samples to create the bootstrap distribution.\n",
    "\n",
    "4. Calculate the Confidence Interval: Determine the 2.5th percentile and the 97.5th percentile of the bootstrap distribution to construct the 95% confidence interval.\n",
    "\n",
    "Let's go through the process step by step:\n",
    "\n",
    "Step 1: Create Bootstrap Samples\n",
    "Randomly sample 50 heights (with replacement) from the original sample of 50 tree heights to create a new bootstrap sample. Repeat this process many times to generate multiple bootstrap samples.\n",
    "\n",
    "Step 2: Calculate the Mean Height for Each Bootstrap Sample\n",
    "Calculate the mean height for each of the bootstrap samples.\n",
    "\n",
    "Step 3: Bootstrap Distribution\n",
    "Collect all the calculated mean heights from the bootstrap samples to create the bootstrap distribution.\n",
    "\n",
    "Step 4: Calculate the Confidence Interval\n",
    "From the bootstrap distribution, find the 2.5th percentile and the 97.5th percentile. These values will form the lower and upper bounds of the 95% confidence interval.\n",
    "\n",
    "Please note that since this process requires generating many bootstrap samples and performing calculations, it's often more efficiently done using statistical software or programming languages with bootstrap functionality, such as Python or R. In these languages, you can use libraries like \"boot\" in R or \"numpy\" and \"scipy\" in Python to perform bootstrap resampling and obtain the confidence interval."
   ]
  },
  {
   "cell_type": "code",
   "execution_count": 1,
   "id": "953ec9f8",
   "metadata": {},
   "outputs": [
    {
     "name": "stdout",
     "output_type": "stream",
     "text": [
      "95% Confidence Interval for the Population Mean Height:\n",
      "Lower Bound: 14.17 meters\n",
      "Upper Bound: 15.12 meters\n"
     ]
    }
   ],
   "source": [
    "import numpy as np\n",
    "\n",
    "# Sample of tree heights (mean height = 15 meters, standard deviation = 2 meters)\n",
    "tree_heights = np.random.normal(loc=15, scale=2, size=50)\n",
    "\n",
    "# Number of bootstrap iterations\n",
    "num_iterations = 10000\n",
    "\n",
    "# Create an array to store bootstrap sample means\n",
    "bootstrap_sample_means = np.zeros(num_iterations)\n",
    "\n",
    "# Perform bootstrap\n",
    "for i in range(num_iterations):\n",
    "    # Generate a bootstrap sample (sample with replacement)\n",
    "    bootstrap_sample = np.random.choice(tree_heights, size=len(tree_heights), replace=True)\n",
    "    \n",
    "    # Calculate the mean of the bootstrap sample\n",
    "    bootstrap_sample_mean = np.mean(bootstrap_sample)\n",
    "    \n",
    "    # Store the bootstrap sample mean\n",
    "    bootstrap_sample_means[i] = bootstrap_sample_mean\n",
    "\n",
    "# Calculate the 95% confidence interval\n",
    "confidence_interval = np.percentile(bootstrap_sample_means, [2.5, 97.5])\n",
    "\n",
    "print(\"95% Confidence Interval for the Population Mean Height:\")\n",
    "print(f\"Lower Bound: {confidence_interval[0]:.2f} meters\")\n",
    "print(f\"Upper Bound: {confidence_interval[1]:.2f} meters\")\n"
   ]
  },
  {
   "cell_type": "markdown",
   "id": "0aa6cb27",
   "metadata": {},
   "source": [
    "In this code, we first generate a random sample of 50 tree heights using the numpy.random.normal function, assuming that the mean height is 15 meters and the standard deviation is 2 meters. Then, we perform bootstrap by creating multiple bootstrap samples, calculating the mean height for each bootstrap sample, and storing the means in the bootstrap_sample_means array.\n",
    "\n",
    "Finally, we use numpy.percentile to calculate the 2.5th and 97.5th percentiles of the bootstrap_sample_means array, which correspond to the lower and upper bounds of the 95% confidence interval for the population mean height, respectively."
   ]
  },
  {
   "cell_type": "code",
   "execution_count": null,
   "id": "7398a008",
   "metadata": {},
   "outputs": [],
   "source": []
  },
  {
   "cell_type": "code",
   "execution_count": null,
   "id": "4bb2e94e",
   "metadata": {},
   "outputs": [],
   "source": []
  }
 ],
 "metadata": {
  "kernelspec": {
   "display_name": "Python 3 (ipykernel)",
   "language": "python",
   "name": "python3"
  },
  "language_info": {
   "codemirror_mode": {
    "name": "ipython",
    "version": 3
   },
   "file_extension": ".py",
   "mimetype": "text/x-python",
   "name": "python",
   "nbconvert_exporter": "python",
   "pygments_lexer": "ipython3",
   "version": "3.9.13"
  }
 },
 "nbformat": 4,
 "nbformat_minor": 5
}
