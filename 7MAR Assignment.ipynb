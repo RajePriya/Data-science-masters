{
 "cells": [
  {
   "cell_type": "markdown",
   "id": "feb5c9fc-3c68-47fa-b5c3-f9d9e81109a2",
   "metadata": {},
   "source": [
    "## 7MAR\n",
    "### Assignment"
   ]
  },
  {
   "cell_type": "markdown",
   "id": "a32eecc5-0348-4386-8688-51c80334673a",
   "metadata": {},
   "source": [
    "### Q1"
   ]
  },
  {
   "cell_type": "code",
   "execution_count": null,
   "id": "b2bd996c-1853-4798-a327-9b5873bd9733",
   "metadata": {},
   "outputs": [],
   "source": [
    "Q1. What are the three measures of central tendency?"
   ]
  },
  {
   "cell_type": "code",
   "execution_count": null,
   "id": "99124ce2-1eb4-4d58-ad35-1ee02b46bb1e",
   "metadata": {},
   "outputs": [],
   "source": [
    "Ans:- The three measures of central tendency are:\n",
    "\n",
    "Mean: The mean is the sum of all the values in a dataset divided by the total number of values. It \n",
    "is also known as the average. The mean is sensitive to extreme values, which can skew the result.\n",
    "\n",
    "Median: The median is the middle value in a dataset when the values are arranged in order. If there \n",
    "are an even number of values, the median is the average of the two middle values. The median is a \n",
    "useful measure of central tendency when there are extreme values that can skew the mean.\n",
    "\n",
    "Mode: The mode is the value that occurs most frequently in a dataset. If there are two or more \n",
    "values with the same highest frequency, then the dataset is bimodal, trimodal, etc. The mode is \n",
    "useful when dealing with categorical or nominal data."
   ]
  },
  {
   "cell_type": "markdown",
   "id": "e0b7179d-1d0e-431c-a991-d3cbf63dc871",
   "metadata": {},
   "source": [
    "### Q2"
   ]
  },
  {
   "cell_type": "code",
   "execution_count": null,
   "id": "92f350e5-d335-42de-9fd3-1f61036ab985",
   "metadata": {},
   "outputs": [],
   "source": [
    "Q2. What is the difference between the mean, median, and mode? How are they used to measure the\n",
    "central tendency of a dataset?"
   ]
  },
  {
   "cell_type": "code",
   "execution_count": null,
   "id": "ccced991-211d-4140-8f35-be5a9c4179f1",
   "metadata": {},
   "outputs": [],
   "source": [
    "Ans:- The mean, median, and mode are all measures of central tendency used to describe a dataset.\n",
    "\n",
    "The mean is calculated by adding up all the values in a dataset and dividing by the total number of\n",
    "values. It is useful when dealing with continuous data and provides a good estimate of the central\n",
    "value when the data is normally distributed. However, the mean can be sensitive to outliers and \n",
    "extreme values, which can skew the result.\n",
    "\n",
    "The median is the middle value of a dataset when the values are arranged in order. It is useful \n",
    "when there are outliers or extreme values that can skew the mean. The median is also useful for \n",
    "ordinal data or when the data is not normally distributed.\n",
    "\n",
    "The mode is the value that occurs most frequently in a dataset. It is useful for nominal data or \n",
    "when there are categories or groups in the data. The mode can also be used to identify the most \n",
    "popular or common value in a dataset.\n",
    "\n",
    "In summary, the mean, median, and mode are all measures of central tendency used to describe the \n",
    "center of a dataset. The mean is used for normally distributed continuous data, the median is used \n",
    "for non-normally distributed or skewed data, and the mode is used for categorical or nominal data.\n",
    "Choosing the appropriate measure of central tendency depends on the type of data being analyzed and\n",
    "the research question being addressed."
   ]
  },
  {
   "cell_type": "markdown",
   "id": "497c2153-9325-4f17-b499-09b88ed6835f",
   "metadata": {},
   "source": [
    "### Q3"
   ]
  },
  {
   "cell_type": "code",
   "execution_count": null,
   "id": "697921eb-b8f5-4b9a-b9db-eba95a27707e",
   "metadata": {},
   "outputs": [],
   "source": [
    "Q3. Measure the three measures of central tendency for the given height data:\n",
    "[178,177,176,177,178.2,178,175,179,180,175,178.9,176.2,177,172.5,178,176.5]"
   ]
  },
  {
   "cell_type": "code",
   "execution_count": null,
   "id": "4b57b975-4958-4beb-95de-18ec9afbeb00",
   "metadata": {},
   "outputs": [],
   "source": [
    "Ans:- To calculate the measures of central tendency for the given height data, we can use the \n",
    "following formulas:\n",
    "\n",
    "Mean = Sum of all values / Total number of values\n",
    "\n",
    "Median = Middle value when values are arranged in order\n",
    "\n",
    "Mode = Value that appears most frequently in the dataset\n",
    "\n",
    "First, we can sort the data in ascending order:\n",
    "\n",
    "[172.5, 175, 175, 176, 176.2, 176.5, 177, 177, 178, 178, 178, 178.2, 178.9, 179, 180]\n",
    "\n",
    "Now, we can calculate the mean:\n",
    "\n",
    "Mean = (172.5 + 175 + 175 + 176 + 176.2 + 176.5 + 177 + 177 + 178 + 178 + 178 + 178.2 + 178.9 + \n",
    "        179 + 180) / 15\n",
    "\n",
    "Mean = 176.93\n",
    "\n",
    "Next, we can calculate the median:\n",
    "\n",
    "Median = (176.5 + 177) / 2\n",
    "\n",
    "Median = 176.75\n",
    "\n",
    "Finally, we can calculate the mode:\n",
    "\n",
    "Mode = 178\n",
    "\n",
    "Therefore, the measures of central tendency for the given height data are:\n",
    "\n",
    "Mean = 176.93\n",
    "Median = 176.75\n",
    "Mode = 178"
   ]
  },
  {
   "cell_type": "markdown",
   "id": "610cbd84-49d3-4b25-bf8d-bf924421c577",
   "metadata": {},
   "source": [
    "### Q4"
   ]
  },
  {
   "cell_type": "code",
   "execution_count": null,
   "id": "7948451d-600c-4719-9ec5-246aa55dd530",
   "metadata": {},
   "outputs": [],
   "source": [
    "Q4. Find the standard deviation for the given data:\n",
    "[178,177,176,177,178.2,178,175,179,180,175,178.9,176.2,177,172.5,178,176.5]"
   ]
  },
  {
   "cell_type": "code",
   "execution_count": null,
   "id": "bde03c74-eaca-4e51-90cb-632830dd1599",
   "metadata": {},
   "outputs": [],
   "source": [
    "Ans:- To find the standard deviation for the given data, we can use the following formula:\n",
    "\n",
    "Standard deviation (s) = sqrt [ Σ ( xi - μ )2 / N ]\n",
    "Where:\n",
    "\n",
    "Σ = the sum of\n",
    "xi = each value in the dataset\n",
    "μ = the mean of the dataset\n",
    "N = the total number of values in the dataset\n",
    "\n",
    "First, we can calculate the mean of the dataset as follows:"
   ]
  },
  {
   "cell_type": "code",
   "execution_count": null,
   "id": "e9862340-0b0b-485a-9351-178678a6ae26",
   "metadata": {},
   "outputs": [],
   "source": [
    "Mean (μ) = (178 + 177 + 176 + 177 + 178.2 + 178 + 175 + 179 + 180 + 175 + 178.9 + 176.2 + 177 + 172.5 + 178 + 176.5) / 16\n",
    "\n",
    "Mean (μ) = 176.93"
   ]
  },
  {
   "cell_type": "code",
   "execution_count": null,
   "id": "6851ae69-79e5-4bb3-9dbf-970ddf0fced4",
   "metadata": {},
   "outputs": [],
   "source": [
    "Next, we can calculate the standard deviation as follows:\n",
    "\n",
    "s = sqrt [ ( (178 - 176.93)^2 + (177 - 176.93)^2 + (176 - 176.93)^2 + (177 - 176.93)^2 + \n",
    "            (178.2 - 176.93)^2 + (178 - 176.93)^2 + (175 - 176.93)^2 + (179 - 176.93)^2 +\n",
    "            (180 - 176.93)^2 + (175 - 176.93)^2 + (178.9 - 176.93)^2 + (176.2 - 176.93)^2 + \n",
    "            (177 - 176.93)^2 + (172.5 - 176.93)^2 + (178 - 176.93)^2 + (176.5 - 176.93)^2 ) / 15 ]\n",
    "\n",
    "s = 1.862\n",
    "\n",
    "Therefore, the standard deviation of the given data is approximately 1.862."
   ]
  },
  {
   "cell_type": "markdown",
   "id": "c7e4b0c5-57ad-4a8e-adfb-dcfe8e0e116e",
   "metadata": {},
   "source": [
    "### Q5"
   ]
  },
  {
   "cell_type": "code",
   "execution_count": null,
   "id": "f13a7b0a-2537-41f9-9ba8-22505d14da55",
   "metadata": {},
   "outputs": [],
   "source": [
    "Q5. How are measures of dispersion such as range, variance, and standard deviation used to describe\n",
    "the spread of a dataset? Provide an example."
   ]
  },
  {
   "cell_type": "code",
   "execution_count": null,
   "id": "f9629cd6-b016-4170-8e6d-44480a9d4240",
   "metadata": {},
   "outputs": [],
   "source": [
    "Ans:- Measures of dispersion, such as range, variance, and standard deviation, are used to describe\n",
    "the spread of a dataset. These measures provide information about how spread out the values are in \n",
    "relation to the central tendency of the dataset.\n",
    "\n",
    "The range is the simplest measure of dispersion and is calculated by subtracting the smallest value\n",
    "from the largest value in a dataset. It provides a rough estimate of the spread of the data but \n",
    "does not take into account the distribution of values.\n",
    "\n",
    "The variance and standard deviation are more precise measures of dispersion and are calculated \n",
    "based on how far each value in the dataset is from the mean. The variance is calculated by taking \n",
    "the average of the squared differences between each value and the mean, while the standard \n",
    "deviation is the square root of the variance.\n",
    "\n",
    "For example, consider a dataset of the following test scores:\n",
    "\n",
    "[70, 75, 80, 85, 90]\n",
    "\n",
    "The mean of this dataset is 80, and the range is 20 (90 - 70). To calculate the variance, we first\n",
    "calculate the squared differences between each value and the mean:\n",
    "\n",
    "(70 - 80)^2 = 100\n",
    "(75 - 80)^2 = 25\n",
    "(80 - 80)^2 = 0\n",
    "(85 - 80)^2 = 25\n",
    "(90 - 80)^2 = 100\n",
    "\n",
    "The sum of these squared differences is 250, and since there are 5 values in the dataset, the \n",
    "variance is 50:\n",
    "\n",
    "Variance = 250 / 5 = 50\n",
    "\n",
    "The standard deviation is the square root of the variance, which is approximately 7.07:\n",
    "\n",
    "Standard deviation = sqrt(50) = 7.07\n",
    "\n",
    "Therefore, we can say that the test scores in this dataset have a mean of 80, a range of 20, a \n",
    "variance of 50, and a standard deviation of 7.07. This information tells us how spread out the \n",
    "values are in relation to the mean, with a larger standard deviation indicating a greater spread of\n",
    "values."
   ]
  },
  {
   "cell_type": "markdown",
   "id": "3565916f-923d-47bb-9b85-f9cc526316b5",
   "metadata": {},
   "source": [
    "### Q6"
   ]
  },
  {
   "cell_type": "code",
   "execution_count": null,
   "id": "d0a480f3-4ffa-47f1-8592-9ba49cdad0da",
   "metadata": {},
   "outputs": [],
   "source": [
    "Q6. What is a Venn diagram?"
   ]
  },
  {
   "cell_type": "code",
   "execution_count": null,
   "id": "8bc89892-f389-40e0-9649-dab431599810",
   "metadata": {},
   "outputs": [],
   "source": [
    "Ans:- A Venn diagram is a visual representation of the relationships between sets of data. It \n",
    "consists of overlapping circles or other shapes, where each circle represents a set, and the\n",
    "overlapping area represents the intersection of the sets. The areas outside the circles represent \n",
    "the data that is not in any of the sets.\n",
    "\n",
    "Venn diagrams are often used in mathematics, statistics, and other fields to help visualize the \n",
    "relationships between different sets of data. They can be used to show how different sets are \n",
    "related to each other, how they overlap, and how they are different. Venn diagrams are also useful\n",
    "for understanding the concept of probability, as they can show the likelihood of events occurring \n",
    "based on the intersection of different sets.\n",
    "\n",
    "For example, consider a Venn diagram representing two sets of data: A and B. If set A represents \n",
    "all the students who play soccer, and set B represents all the students who play basketball, the\n",
    "overlapping area represents the students who play both soccer and basketball. The area outside the \n",
    "circles represents the students who do not play either sport. By using a Venn diagram, we can \n",
    "quickly see how many students play each sport, how many play both sports, and how many do not play\n",
    "either sport."
   ]
  },
  {
   "cell_type": "markdown",
   "id": "6d8ab13e-9e29-4814-aa22-4f32f57e3f62",
   "metadata": {},
   "source": [
    "### Q7"
   ]
  },
  {
   "cell_type": "code",
   "execution_count": null,
   "id": "836fa3b0-561b-4713-aa96-afacf5400a45",
   "metadata": {},
   "outputs": [],
   "source": [
    "Q7. For the two given sets A = (2,3,4,5,6,7) & B = (0,2,6,8,10). Find:\n",
    "(i) A B\n",
    "(ii) A ⋃ B"
   ]
  },
  {
   "cell_type": "code",
   "execution_count": null,
   "id": "202a440b-583b-4f8e-94fc-df8f38d7e1cc",
   "metadata": {},
   "outputs": [],
   "source": [
    "Ans:- Given sets A = (2, 3, 4, 5, 6, 7) and B = (0, 2, 6, 8, 10).\n",
    "\n",
    "(i) A B represents the intersection of sets A and B, which contains the elements that are common to\n",
    "both sets. From the given sets, we see that the only common element between A and B is 2, so:\n",
    "\n",
    "A B = {2}\n",
    "\n",
    "(ii) A ⋃ B represents the union of sets A and B, which contains all the elements in both sets \n",
    "without any duplicates. To find the union, we combine the elements from both sets and remove any \n",
    "duplicates. Thus:\n",
    "\n",
    "A ⋃ B = {0, 2, 3, 4, 5, 6, 7, 8, 10}"
   ]
  },
  {
   "cell_type": "markdown",
   "id": "6bafec57-32e2-49c6-8ce0-0554a56e2f31",
   "metadata": {},
   "source": [
    "### Q8"
   ]
  },
  {
   "cell_type": "code",
   "execution_count": null,
   "id": "0d2d640c-114d-4ae9-bc22-bf34caf69294",
   "metadata": {},
   "outputs": [],
   "source": [
    "Q8. What do you understand about skewness in data?"
   ]
  },
  {
   "cell_type": "code",
   "execution_count": null,
   "id": "8a60e55d-056c-420e-b520-efe67fce9123",
   "metadata": {},
   "outputs": [],
   "source": [
    "Ans:- Skewness in data refers to the extent to which a distribution of values is asymmetrical \n",
    "around its mean. A distribution can be classified as positively skewed, negatively skewed, or \n",
    "symmetric.\n",
    "\n",
    "=> A positively skewed distribution has a long tail on the right side of the curve, and the majority \n",
    "of the values are on the left side. This means that the mean is greater than the median.\n",
    "=> A negatively skewed distribution has a long tail on the left side of the curve, and the majority\n",
    "of the values are on the right side. This means that the mean is less than the median.\n",
    "=> A symmetric distribution has no skewness, and the values are evenly distributed around the mean.\n",
    "This means that the mean and the median are the same.\n",
    "\n",
    "\n",
    "Skewness can affect how we interpret data and make decisions based on it. For example, if we are \n",
    "analyzing the salaries of employees in a company, and the distribution is positively skewed, it \n",
    "means that there are a few high earners who are skewing the mean upwards. In this case, the median \n",
    "might be a better measure of central tendency to use when making decisions about salary ranges or \n",
    "bonuses.\n",
    "\n",
    "Similarly, if we are analyzing test scores, and the distribution is negatively skewed, it means \n",
    "that there are a few students who are performing poorly and skewing the mean downwards. In this \n",
    "case, the median might be a better measure of central tendency to use when assessing the overall \n",
    "performance of the class.\n",
    "\n",
    "Therefore, understanding skewness in data is important for making accurate and informed decisions \n",
    "based on the data."
   ]
  },
  {
   "cell_type": "markdown",
   "id": "b3ff6b05-0e5d-4382-a723-90be53617b9f",
   "metadata": {},
   "source": [
    "### Q9"
   ]
  },
  {
   "cell_type": "code",
   "execution_count": null,
   "id": "8f113a86-9ad9-4e9f-bfc4-5fc4226d1c15",
   "metadata": {},
   "outputs": [],
   "source": [
    "Q9. If a data is right skewed then what will be the position of median with respect to mean?"
   ]
  },
  {
   "cell_type": "code",
   "execution_count": null,
   "id": "99f217dd-18fb-49c8-a24b-e14fd3cbc81b",
   "metadata": {},
   "outputs": [],
   "source": [
    "Ans:- If a data set is right-skewed, then the mean will be greater than the median. This is because\n",
    "the right tail of the distribution contains a few very large values that pull the mean to the \n",
    "right, while the median is more influenced by the central values in the distribution.\n",
    "\n",
    "For example, consider a dataset of salaries in a company where a few high earners have salaries in\n",
    "the millions, while most employees have salaries in the tens of thousands. This would result in a \n",
    "right-skewed distribution, with the mean being pulled to the right by the high earners, while the \n",
    "median is not affected as much by these outliers and is closer to the center of the distribution.\n",
    "\n",
    "In general, the more skewed a distribution is, the greater the difference between the mean and the\n",
    "median will be."
   ]
  },
  {
   "cell_type": "markdown",
   "id": "3cf8c7ad-d286-45fa-aff8-559c745101fb",
   "metadata": {},
   "source": [
    "### Q10"
   ]
  },
  {
   "cell_type": "code",
   "execution_count": null,
   "id": "39ac65f1-bfea-4a97-ad08-941a7999a968",
   "metadata": {},
   "outputs": [],
   "source": [
    "Q10. Explain the difference between covariance and correlation. How are these measures used in\n",
    "statistical analysis?"
   ]
  },
  {
   "cell_type": "code",
   "execution_count": null,
   "id": "2a37b07d-0fb3-4641-a224-193b1d95ca3f",
   "metadata": {},
   "outputs": [],
   "source": [
    "Ans:- Covariance and correlation are both measures of the relationship between two variables, but\n",
    "they have some important differences.\n",
    "\n",
    "Covariance measures the extent to which two variables vary together. It is a measure of the linear\n",
    "association between two variables, and it can take positive or negative values. A positive \n",
    "covariance means that the two variables tend to increase or decrease together, while a negative \n",
    "covariance means that they tend to move in opposite directions. The formula for covariance is:\n",
    "\n",
    "cov(X,Y) = Σ[(Xi - X̅)(Yi - Ȳ)] / (n-1)\n",
    "\n",
    "where X and Y are the two variables, Xi and Yi are their respective values, X̅ and Ȳ are the mean \n",
    "values of X and Y, and n is the number of observations.\n",
    "\n",
    "Correlation, on the other hand, measures the strength and direction of the linear relationship \n",
    "between two variables. It is a standardized version of covariance that ranges from -1 to 1, with \n",
    "values of -1 indicating a perfect negative correlation, 0 indicating no correlation, and 1 \n",
    "indicating a perfect positive correlation. The formula for correlation is:\n",
    "\n",
    "r = cov(X,Y) / (σX * σY)\n",
    "\n",
    "where r is the correlation coefficient, cov(X,Y) is the covariance between X and Y, and σX and σY\n",
    "are the standard deviations of X and Y, respectively.\n",
    "\n",
    "In statistical analysis, covariance and correlation are used to assess the relationship between\n",
    "two variables. Covariance can be used to determine the direction of the relationship between two \n",
    "variables, while correlation provides a more standardized measure of the strength of the \n",
    "relationship. Both measures are useful for identifying patterns and relationships in data, but \n",
    "correlation is often preferred because it is less affected by differences in the scales of the \n",
    "variables being measured. For example, if we are interested in studying the relationship between \n",
    "height and weight, we might use correlation to determine whether taller people tend to weigh more,\n",
    "rather than covariance, because height and weight are measured on different scales."
   ]
  },
  {
   "cell_type": "markdown",
   "id": "e0224b60-d41e-49d0-9073-5984b1a949a1",
   "metadata": {},
   "source": [
    "### Q11"
   ]
  },
  {
   "cell_type": "code",
   "execution_count": null,
   "id": "57f6210f-c377-43e9-ae1a-752214f011a7",
   "metadata": {},
   "outputs": [],
   "source": [
    "Q11. What is the formula for calculating the sample mean? Provide an example calculation for a\n",
    "dataset."
   ]
  },
  {
   "cell_type": "code",
   "execution_count": null,
   "id": "21d4dadc-bbe4-47e1-86e8-5a1707b60b01",
   "metadata": {},
   "outputs": [],
   "source": [
    "Ans:- The formula for calculating the sample mean is:\n",
    "\n",
    "x̄ = Σx / n\n",
    "\n",
    "where x̄ is the sample mean, Σx is the sum of all the values in the sample, and n is the sample \n",
    "size.\n",
    "\n",
    "For example, let's say we have a sample of five test scores: 75, 80, 85, 90, and 95. We can \n",
    "calculate the sample mean as follows:\n",
    "\n",
    "x̄ = (75 + 80 + 85 + 90 + 95) / 5\n",
    "= 425 / 5\n",
    "= 85\n",
    "\n",
    "So the sample mean for this dataset is 85, which represents the average test score for this sample \n",
    "of students."
   ]
  },
  {
   "cell_type": "markdown",
   "id": "420d8e67-973e-4057-bc11-e7a52f7202bc",
   "metadata": {},
   "source": [
    "### Q12"
   ]
  },
  {
   "cell_type": "code",
   "execution_count": null,
   "id": "ba674f38-5736-4bb3-ba62-5654d75892aa",
   "metadata": {},
   "outputs": [],
   "source": [
    "Q12. For a normal distribution data what is the relationship between its measure of central \n",
    "tendency?"
   ]
  },
  {
   "cell_type": "code",
   "execution_count": null,
   "id": "082680e2-94fa-4810-a7cb-7b4fc963ea1b",
   "metadata": {},
   "outputs": [],
   "source": [
    "Ans:- For a normal distribution, the measures of central tendency (mean, median, and mode) are all\n",
    "equal. This is because a normal distribution is symmetric around its mean, so the median and mode \n",
    "will also be located at the mean.\n",
    "\n",
    "In other words, the normal distribution has a bell-shaped curve where the highest point (the peak)\n",
    "is at the mean, and the curve is symmetric on either side of the mean. The median is also located \n",
    "at the mean because 50% of the data is located on either side of the mean. Similarly, the mode is \n",
    "also at the mean because it is the most frequently occurring value in the distribution.\n",
    "\n",
    "This relationship between the measures of central tendency in a normal distribution is one of the\n",
    "reasons why the normal distribution is so important in statistics. It allows us to use the mean,\n",
    "median, and mode interchangeably as measures of central tendency, and also provides a basis for \n",
    "many statistical tests and models."
   ]
  },
  {
   "cell_type": "markdown",
   "id": "f82ffe90-cb37-4832-816f-2b0ef4ce27f8",
   "metadata": {},
   "source": [
    "### Q13"
   ]
  },
  {
   "cell_type": "code",
   "execution_count": null,
   "id": "8a68a376-e3be-4bb9-a9af-605d6590c4eb",
   "metadata": {},
   "outputs": [],
   "source": [
    "Q13. How is covariance different from correlation?"
   ]
  },
  {
   "cell_type": "code",
   "execution_count": null,
   "id": "e233964c-328e-44bc-baab-e872a5f60c61",
   "metadata": {},
   "outputs": [],
   "source": [
    "Ans:- Covariance and correlation are both measures of the relationship between two variables, but \n",
    "they differ in important ways.\n",
    "\n",
    "Covariance is a measure of how two variables change together. It measures the extent to which two\n",
    "variables are linearly related, and whether they tend to increase or decrease together. The formula\n",
    "for covariance is:\n",
    "\n",
    "cov(X,Y) = Σ[(xi - x̄)(yi - ȳ)] / (n - 1)\n",
    "\n",
    "where X and Y are the two variables being measured, xi and yi are the individual values for each\n",
    "variable, x̄ and ȳ are the means for each variable, and n is the sample size.\n",
    "\n",
    "Correlation, on the other hand, measures the strength and direction of the linear relationship \n",
    "between two variables. Correlation is a standardized measure of covariance, which means it scales\n",
    "the covariance by the standard deviation of each variable so that it falls between -1 and 1. The\n",
    "formula for correlation is:\n",
    "\n",
    "r(X,Y) = cov(X,Y) / (σX * σY)\n",
    "\n",
    "where cov(X,Y) is the covariance between X and Y, σX and σY are the standard deviations of X and Y,\n",
    "respectively.\n",
    "\n",
    "In summary, covariance measures the direction and strength of the linear relationship between two \n",
    "variables, but the magnitude of covariance is difficult to interpret because it depends on the \n",
    "units of measurement of the two variables. Correlation, on the other hand, measures the strength \n",
    "and direction of the linear relationship between two variables on a standardized scale, making it \n",
    "easier to compare across different studies and datasets."
   ]
  },
  {
   "cell_type": "markdown",
   "id": "cf217a92-1450-4c2e-b43e-86e86c094da6",
   "metadata": {},
   "source": [
    "### Q14"
   ]
  },
  {
   "cell_type": "code",
   "execution_count": null,
   "id": "f8d52913-d0e3-4a56-848f-e9e0c54396a4",
   "metadata": {},
   "outputs": [],
   "source": [
    "Q14. How do outliers affect measures of central tendency and dispersion? Provide an example."
   ]
  },
  {
   "cell_type": "code",
   "execution_count": null,
   "id": "74ac7cfe-112e-41f7-9fe1-90114d9f55e8",
   "metadata": {},
   "outputs": [],
   "source": [
    "Ans:- Outliers are data points that are significantly different from the other values in a dataset.\n",
    "Outliers can have a significant impact on measures of central tendency and dispersion, as they can \n",
    "skew the results and make them less representative of the majority of the data.\n",
    "\n",
    "In terms of measures of central tendency, outliers can significantly affect the mean, as it is \n",
    "calculated by taking the sum of all values and dividing by the number of values. If there are one \n",
    "or more outliers that are significantly higher or lower than the rest of the values, they can pull\n",
    "the mean in that direction. The median is generally less affected by outliers, as it is the middle\n",
    "value of the dataset and is not influenced by extreme values. The mode may also be affected by \n",
    "outliers if they are present in a way that makes one value much more frequent than the others.\n",
    "\n",
    "In terms of measures of dispersion, outliers can have a significant impact on the range, variance,\n",
    "and standard deviation. The range, which is the difference between the maximum and minimum values \n",
    "in the dataset, will be larger if there are outliers at the extremes. The variance and standard\n",
    "deviation, which are measures of how spread out the data is, will also be larger if there are \n",
    "outliers present. This is because the presence of outliers increases the variability of the data \n",
    "and increases the distance between the values and the mean.\n",
    "\n",
    "For example, consider a dataset of 10 test scores: 80, 82, 85, 86, 90, 91, 92, 94, 95, and 100. If\n",
    "we add an outlier value of 150 to this dataset, the mean will increase from 88.5 to 95.5, and the \n",
    "standard deviation will increase from 5.7 to 24.3. This illustrates how outliers can significantly\n",
    "impact the results of statistical analysis and highlights the importance of identifying and dealing\n",
    "with outliers appropriately."
   ]
  },
  {
   "cell_type": "code",
   "execution_count": null,
   "id": "6441efe5-8583-4ce8-b570-d6b9dd30c6fd",
   "metadata": {},
   "outputs": [],
   "source": []
  }
 ],
 "metadata": {
  "kernelspec": {
   "display_name": "Python 3 (ipykernel)",
   "language": "python",
   "name": "python3"
  },
  "language_info": {
   "codemirror_mode": {
    "name": "ipython",
    "version": 3
   },
   "file_extension": ".py",
   "mimetype": "text/x-python",
   "name": "python",
   "nbconvert_exporter": "python",
   "pygments_lexer": "ipython3",
   "version": "3.10.8"
  }
 },
 "nbformat": 4,
 "nbformat_minor": 5
}
