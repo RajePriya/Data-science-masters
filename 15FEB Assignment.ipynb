{
 "cells": [
  {
   "cell_type": "markdown",
   "id": "d79f9bb6-23fc-4e75-b098-ce9cef843b96",
   "metadata": {},
   "source": [
    "## 15 FEB\n",
    "### Assignment"
   ]
  },
  {
   "cell_type": "markdown",
   "id": "ee908f95-28f5-4508-bd1c-747a663f010f",
   "metadata": {},
   "source": [
    "### Q1"
   ]
  },
  {
   "cell_type": "code",
   "execution_count": null,
   "id": "401c5a65-1270-4059-8c57-6f49aa6fc520",
   "metadata": {},
   "outputs": [],
   "source": [
    "Q1. What is multiprocessing in python? Why is it useful?"
   ]
  },
  {
   "cell_type": "code",
   "execution_count": null,
   "id": "44d546f7-9c1d-48d8-90da-0f16faa3b318",
   "metadata": {},
   "outputs": [],
   "source": [
    "Ans:- Multiprocessing in Python is a module that enables the use of multiple processes in a single Python program, allowing you to take advantage of \n",
    "multi-core CPUs and distribute computational workload across them. This allows you to execute multiple tasks concurrently, which can improve the\n",
    "performance and efficiency of your Python programs.\n",
    "\n",
    "In a nutshell, multiprocessing creates several processes, which are separate instances of the same program running at the same time, each with its \n",
    "own memory space and resources. The processes communicate with each other using pipes or queues, which allows them to share data and coordinate their\n",
    "actions."
   ]
  },
  {
   "cell_type": "code",
   "execution_count": null,
   "id": "3d7bb73a-e0e8-4969-847e-44cd336282b2",
   "metadata": {},
   "outputs": [],
   "source": [
    "Multiprocessing is useful in many scenarios, such as:\n",
    "\n",
    "=> Computationally intensive tasks: By distributing the workload across multiple processes, you can speed up the execution of tasks that take a \n",
    "long time to complete.\n",
    "\n",
    "=> Parallelization of IO-bound tasks: Processes can run concurrently, allowing you to speed up tasks that involve I/O operations such as reading or \n",
    "writing files, network requests, or database access.\n",
    "\n",
    "=> Resource-intensive tasks: If your program needs to make use of a lot of memory or CPU resources, multiprocessing can help you leverage multiple \n",
    "cores to avoid bottlenecking.\n",
    "\n",
    "=> GUI applications: When building GUI applications, multiprocessing can help you keep the UI responsive by running time-consuming tasks in separate\n",
    "processes, so that they don't block the main thread."
   ]
  },
  {
   "cell_type": "code",
   "execution_count": null,
   "id": "d867af31-95c1-4b63-9c3b-61431f2caf0a",
   "metadata": {},
   "outputs": [],
   "source": [
    "In summary, multiprocessing in Python is a powerful tool that enables you to take advantage of modern CPUs to run your programs faster and more efficiently, \n",
    "particularly for CPU-bound or IO-bound tasks."
   ]
  },
  {
   "cell_type": "markdown",
   "id": "c58e6cda-0030-470c-bba3-55114d188620",
   "metadata": {},
   "source": [
    "### Q2"
   ]
  },
  {
   "cell_type": "code",
   "execution_count": null,
   "id": "605be3de-fcc2-43ef-af15-cf87b4e4cd69",
   "metadata": {},
   "outputs": [],
   "source": [
    "Ans:- Multiprocessing and multithreading are two different approaches to achieving concurrency in a program. Here are the main differences between \n",
    "them:"
   ]
  },
  {
   "cell_type": "code",
   "execution_count": null,
   "id": "4f9ef766-5087-4d27-998c-e1a0fc8cc584",
   "metadata": {},
   "outputs": [],
   "source": [
    "=> Parallelism: In multiprocessing, the different processes run in parallel, each with its own memory space and resources. In multithreading, the \n",
    "different threads share the same memory space and resources of the process and run concurrently.\n",
    "\n",
    "=> Overhead: Multiprocessing has more overhead than multithreading, as the creation of new processes involves more system resources than the creation \n",
    "of new threads. However, multiprocessing can take better advantage of multi-core CPUs and distribute the workload across them, which can lead to\n",
    "better performance.\n",
    "\n",
    "=> Isolation: Processes in multiprocessing are completely isolated from each other, whereas threads in multithreading share the same memory space and\n",
    "resources, which can lead to synchronization issues and potential race conditions.\n",
    "\n",
    "=> Memory: Because multiprocessing creates separate processes, each process has its own memory space, which can help prevent memory conflicts. \n",
    "In multithreading, threads share the same memory space, which can lead to memory-related issues like deadlock or data corruption.\n",
    "\n",
    "=> Complexity: Multithreading is generally considered to be more complex than multiprocessing, as threads need to coordinate with each other more\n",
    "closely to avoid race conditions and other synchronization issues.\n",
    "\n",
    "In summary, multiprocessing and multithreading have different strengths and weaknesses, and which one to choose depends on the specific requirements \n",
    "of your application. If your program involves I/O-bound operations, multithreading may be more suitable. If your program involves CPU-bound \n",
    "operations or parallelization of multiple cores, multiprocessing may be more suitable."
   ]
  },
  {
   "cell_type": "markdown",
   "id": "8e046485-f258-4bb0-9b9c-ca0fd00e4e82",
   "metadata": {},
   "source": [
    "### Q3"
   ]
  },
  {
   "cell_type": "code",
   "execution_count": null,
   "id": "46c1259a-1c77-4895-89e0-d6456f66bfb4",
   "metadata": {},
   "outputs": [],
   "source": [
    "Q3. Write a python code to create a process using the multiprocessing module."
   ]
  },
  {
   "cell_type": "code",
   "execution_count": null,
   "id": "eb3c20bb-c2e7-47f6-86ca-91198743c8a2",
   "metadata": {},
   "outputs": [],
   "source": [
    "Ans:- example Python code that creates a process using the multiprocessing module:"
   ]
  },
  {
   "cell_type": "code",
   "execution_count": 1,
   "id": "c0d22f6b-ceeb-4c93-8b3b-3864a1068fec",
   "metadata": {},
   "outputs": [
    {
     "name": "stdout",
     "output_type": "stream",
     "text": [
      "This is running in a separate process!\n",
      "Process completed!\n"
     ]
    }
   ],
   "source": [
    "import multiprocessing\n",
    "\n",
    "def my_process():\n",
    "    print(\"This is running in a separate process!\")\n",
    "\n",
    "if __name__ == '__main__':\n",
    "    # Create a new process\n",
    "    p = multiprocessing.Process(target=my_process)\n",
    "\n",
    "    # Start the process\n",
    "    p.start()\n",
    "\n",
    "    # Wait for the process to finish\n",
    "    p.join()\n",
    "\n",
    "    print(\"Process completed!\")\n"
   ]
  },
  {
   "cell_type": "code",
   "execution_count": null,
   "id": "1c1aff3c-3393-43a6-8683-1f316ea22355",
   "metadata": {},
   "outputs": [],
   "source": [
    "In this code, we define a function my_process() that will run in a separate process. We then use the Process class from the multiprocessing module to\n",
    "create a new process that will run this function.\n",
    "\n",
    "To start the process, we call the start() method on the process object. This will start a new process that will execute the my_process() function.\n",
    "\n",
    "After starting the process, we wait for it to complete by calling the join() method on the process object. This will block the main process until the\n",
    "child process has finished executing."
   ]
  },
  {
   "cell_type": "code",
   "execution_count": null,
   "id": "04302281-330f-4761-bff2-6982e3a654a4",
   "metadata": {},
   "outputs": [],
   "source": [
    "Finally, we print a message to indicate that the process has completed. Note that the if __name__ == '__main__': check is used to ensure that the \n",
    "code only runs when this script is executed as the main program, and not when it is imported as a module. This is necessary to avoid issues with\n",
    "creating multiple processes when the script is imported."
   ]
  },
  {
   "cell_type": "markdown",
   "id": "05bf2844-e976-4be0-8322-6fe762919d97",
   "metadata": {},
   "source": [
    "### Q4"
   ]
  },
  {
   "cell_type": "code",
   "execution_count": null,
   "id": "d0fe014c-6317-495c-90e4-561b315ffc05",
   "metadata": {},
   "outputs": [],
   "source": [
    "Q4. What is a multiprocessing pool in python? Why is it used?"
   ]
  },
  {
   "cell_type": "code",
   "execution_count": null,
   "id": "0a55324e-4f3e-48ab-9241-3296064d135e",
   "metadata": {},
   "outputs": [],
   "source": [
    "Ans:- A multiprocessing pool in Python is a useful tool for parallelizing tasks across multiple processes. It is a high-level abstraction layer on \n",
    "top of the multiprocessing module that allows you to easily distribute work across a pool of worker processes.\n",
    "\n",
    "A multiprocessing pool works by creating a group of worker processes that are ready to execute tasks. You can then submit tasks to the pool, and the \n",
    "pool will distribute them to the available workers. Once a worker completes a task, it returns the result to the main process.\n",
    "\n",
    "Here's an example of how to use a multiprocessing pool:"
   ]
  },
  {
   "cell_type": "code",
   "execution_count": null,
   "id": "9d86a9cc-4c29-4c09-99c4-2dbc0f0ad2ef",
   "metadata": {},
   "outputs": [],
   "source": [
    "import multiprocessing\n",
    "\n",
    "def my_task(arg):\n",
    "    # do some work here\n",
    "    return result\n",
    "\n",
    "if __name__ == '__main__':\n",
    "    # Create a pool with 4 worker processes\n",
    "    with multiprocessing.Pool(processes=4) as pool:\n",
    "        # Submit 10 tasks to the pool\n",
    "        results = pool.map(my_task, range(10))\n",
    "    \n",
    "    # Print the results\n",
    "    print(results)\n"
   ]
  },
  {
   "cell_type": "code",
   "execution_count": null,
   "id": "0b3076c6-5ff4-4aa4-986a-62eacbbb84fd",
   "metadata": {},
   "outputs": [],
   "source": [
    "In this example, we define a function my_task() that takes an argument and returns a result. We then use a Pool object to create a pool of 4 worker \n",
    "processes. We submit 10 tasks to the pool using the map() method, which applies the my_task() function to each element of the iterable (range(10) in\n",
    "this case) and returns a list of results.\n",
    "\n",
    "The pool will automatically distribute the tasks across the available worker processes, and return the results to the main process. Once all tasks\n",
    "have been completed, the pool automatically closes and the results are printed to the console.\n",
    "\n",
    "Using a multiprocessing pool can help improve the performance of CPU-bound tasks, as it allows you to take advantage of multiple CPU cores to execute\n",
    "tasks in parallel. It can also help simplify the code required to distribute tasks across multiple processes, as it handles many of the details of\n",
    "creating and managing worker processes."
   ]
  },
  {
   "cell_type": "markdown",
   "id": "ddbdfcae-9b96-4b05-8380-55643fb2e6ba",
   "metadata": {},
   "source": [
    "### Q5"
   ]
  },
  {
   "cell_type": "code",
   "execution_count": null,
   "id": "4c1a685d-0db6-47e3-bbd7-9d526df5c233",
   "metadata": {},
   "outputs": [],
   "source": [
    "Q5. How can we create a pool of worker processes in python using the multiprocessing module?"
   ]
  },
  {
   "cell_type": "code",
   "execution_count": null,
   "id": "95b43db6-993b-4a13-9415-84a7e9c2adb3",
   "metadata": {},
   "outputs": [],
   "source": [
    "Ans:- In Python, we can create a pool of worker processes using the multiprocessing module. Here's an example of how to create a pool of worker\n",
    "processes in Python:"
   ]
  },
  {
   "cell_type": "code",
   "execution_count": null,
   "id": "40234bfd-396f-430d-b9bb-8eaf4c903d17",
   "metadata": {},
   "outputs": [],
   "source": [
    "import multiprocessing\n",
    "\n",
    "def my_task(arg):\n",
    "    # do some work here\n",
    "    return result\n",
    "\n",
    "if __name__ == '__main__':\n",
    "    # Create a pool with 4 worker processes\n",
    "    with multiprocessing.Pool(processes=4) as pool:\n",
    "        # Submit tasks to the pool\n",
    "        results = pool.map(my_task, [arg1, arg2, arg3])\n",
    "    \n",
    "    # Print the results\n",
    "    print(results)\n"
   ]
  },
  {
   "cell_type": "code",
   "execution_count": null,
   "id": "940c5817-7a77-459e-adee-8a7e45d7f9ea",
   "metadata": {},
   "outputs": [],
   "source": [
    "In this example, we create a Pool object with 4 worker processes using the multiprocessing.Pool() constructor. We then submit tasks to the pool \n",
    "using the map() method, which applies the my_task() function to each element of the iterable ([arg1, arg2, arg3] in this case) and returns a list \n",
    "of results.\n",
    "\n",
    "The with statement is used to ensure that the pool is properly closed when it is no longer needed. The if __name__ == '__main__': check is used to\n",
    "ensure that the code only runs when this script is executed as the main program, and not when it is imported as a module. This is necessary to avoid\n",
    "issues with creating multiple processes when the script is imported.\n",
    "\n",
    "Using a pool of worker processes can help improve the performance of CPU-bound tasks, as it allows you to take advantage of multiple CPU cores to \n",
    "execute tasks in parallel. It can also help simplify the code required to distribute tasks across multiple processes, as it handles many of the \n",
    "details of creating and managing worker processes."
   ]
  },
  {
   "cell_type": "markdown",
   "id": "7fbbbb8a-02e8-4228-a925-2df618fcc561",
   "metadata": {},
   "source": [
    "### Q6"
   ]
  },
  {
   "cell_type": "code",
   "execution_count": null,
   "id": "c79d87ff-a3fe-441e-aae7-82b78f8a6d13",
   "metadata": {},
   "outputs": [],
   "source": [
    "Q6. Write a python program to create 4 processes, each process should print a different number using the\n",
    "multiprocessing module in python."
   ]
  },
  {
   "cell_type": "code",
   "execution_count": null,
   "id": "be973d33-beba-4d2b-8e8e-7651ff885a57",
   "metadata": {},
   "outputs": [],
   "source": [
    "Ans:- an example Python program that creates 4 processes, each of which prints a different number using the multiprocessing module:"
   ]
  },
  {
   "cell_type": "code",
   "execution_count": 5,
   "id": "04a7105a-294a-465f-91e3-c3c617efcb2d",
   "metadata": {},
   "outputs": [
    {
     "name": "stdout",
     "output_type": "stream",
     "text": [
      "Process Process-14 printed 1\n",
      "Process Process-15 printed 2\n",
      "Process Process-16 printed 3\n",
      "Process Process-17 printed 4\n",
      "All processes completed\n"
     ]
    }
   ],
   "source": [
    "import multiprocessing\n",
    "\n",
    "def print_number(num):\n",
    "    print(f\"Process {multiprocessing.current_process().name} printed {num}\")\n",
    "\n",
    "if __name__ == '__main__':\n",
    "    # Create 4 processes\n",
    "    processes = [multiprocessing.Process(target=print_number, args=(i+1,)) for i in range(4)]\n",
    "\n",
    "    # Start the processes\n",
    "    for p in processes:\n",
    "        p.start()\n",
    "\n",
    "    # Wait for the processes to finish\n",
    "    for p in processes:\n",
    "        p.join()\n",
    "\n",
    "    print(\"All processes completed\")\n"
   ]
  },
  {
   "cell_type": "code",
   "execution_count": null,
   "id": "54d9a548-f6e2-41d6-adf6-352f576f5640",
   "metadata": {},
   "outputs": [],
   "source": [
    "In this code, we define a function print_number() that takes a single argument num and prints a message to the console indicating the process name \n",
    "and the number.\n",
    "\n",
    "We then create 4 processes using a list comprehension that creates a new Process object for each number from 1 to 4. We pass the print_number() \n",
    "function as the target argument and the current number as the args argument.\n",
    "\n",
    "To start the processes, we loop through the list of processes and call the start() method on each one. This will start a new process that will \n",
    "execute the print_number() function with the corresponding number."
   ]
  },
  {
   "cell_type": "code",
   "execution_count": null,
   "id": "9874efe0-d3ac-463f-b630-9fee5d270229",
   "metadata": {},
   "outputs": [],
   "source": [
    "After starting the processes, we wait for them to complete by calling the join() method on each process. This will block the main process until\n",
    "each child process has finished executing.\n",
    "\n",
    "Finally, we print a message to indicate that all processes have completed. Note that the if __name__ == '__main__': check is used to ensure that\n",
    "the code only runs when this script is executed as the main program, and not when it is imported as a module. This is necessary to avoid issues \n",
    "with creating multiple processes when the script is imported."
   ]
  },
  {
   "cell_type": "code",
   "execution_count": null,
   "id": "c822a76c-f6de-4e5c-9ae4-d16273d33341",
   "metadata": {},
   "outputs": [],
   "source": []
  }
 ],
 "metadata": {
  "kernelspec": {
   "display_name": "Python 3 (ipykernel)",
   "language": "python",
   "name": "python3"
  },
  "language_info": {
   "codemirror_mode": {
    "name": "ipython",
    "version": 3
   },
   "file_extension": ".py",
   "mimetype": "text/x-python",
   "name": "python",
   "nbconvert_exporter": "python",
   "pygments_lexer": "ipython3",
   "version": "3.10.8"
  }
 },
 "nbformat": 4,
 "nbformat_minor": 5
}
