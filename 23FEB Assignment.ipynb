{
 "cells": [
  {
   "cell_type": "markdown",
   "id": "c77075ad-b73c-41c8-9f23-a4ee6c311aa5",
   "metadata": {},
   "source": [
    "## 22FEB\n",
    "### ASSIGNMENT"
   ]
  },
  {
   "cell_type": "markdown",
   "id": "4c5c9a50-ea1e-4b18-9504-c6593fe574c3",
   "metadata": {},
   "source": [
    "### Q1"
   ]
  },
  {
   "cell_type": "code",
   "execution_count": null,
   "id": "092dc7db-4fa9-4393-b2dc-8785c00b0fe7",
   "metadata": {},
   "outputs": [],
   "source": [
    "Q1. Create a Pandas Series that contains the following data: 4, 8, 15, 16, 23, and 42. Then, print the series."
   ]
  },
  {
   "cell_type": "code",
   "execution_count": null,
   "id": "b038bc35-5736-481f-a1f2-e22a63841444",
   "metadata": {},
   "outputs": [],
   "source": [
    "Ans:- to create a Pandas Series containing the given data and print it:"
   ]
  },
  {
   "cell_type": "code",
   "execution_count": 1,
   "id": "8381d607-35e4-4a2d-9ab3-9e7eb7ad9c0d",
   "metadata": {},
   "outputs": [
    {
     "name": "stdout",
     "output_type": "stream",
     "text": [
      "0     4\n",
      "1     8\n",
      "2    15\n",
      "3    16\n",
      "4    23\n",
      "5    42\n",
      "dtype: int64\n"
     ]
    }
   ],
   "source": [
    "import pandas as pd\n",
    "\n",
    "# create a Pandas Series\n",
    "series = pd.Series([4, 8, 15, 16, 23, 42])\n",
    "\n",
    "# print the series\n",
    "print(series)\n"
   ]
  },
  {
   "cell_type": "code",
   "execution_count": null,
   "id": "f5620877-27b7-473e-921a-ba2944275077",
   "metadata": {},
   "outputs": [],
   "source": [
    "In this output, you can see that each element of the series is labeled with an index number, starting from 0. The \n",
    "dtype attribute indicates that the data type of the elements in the series is integer (int64)."
   ]
  },
  {
   "cell_type": "markdown",
   "id": "14851ba0-820d-4a92-a282-5a78ead1e332",
   "metadata": {},
   "source": [
    "### Q2"
   ]
  },
  {
   "cell_type": "code",
   "execution_count": null,
   "id": "7513df06-c544-4fcb-8f49-bf3638775647",
   "metadata": {},
   "outputs": [],
   "source": [
    "Q2. Create a variable of list type containing 10 elements in it, and apply pandas.Series function on the\n",
    "variable print it."
   ]
  },
  {
   "cell_type": "code",
   "execution_count": null,
   "id": "80637ce8-9b82-46c9-9479-4d50f7248772",
   "metadata": {},
   "outputs": [],
   "source": [
    "Ans:- to create a list variable with 10 elements and then convert it to a Pandas Series:"
   ]
  },
  {
   "cell_type": "code",
   "execution_count": 2,
   "id": "0faee567-0d60-44a2-8ed4-5544c5895498",
   "metadata": {},
   "outputs": [
    {
     "name": "stdout",
     "output_type": "stream",
     "text": [
      "0     10\n",
      "1     20\n",
      "2     30\n",
      "3     40\n",
      "4     50\n",
      "5     60\n",
      "6     70\n",
      "7     80\n",
      "8     90\n",
      "9    100\n",
      "dtype: int64\n"
     ]
    }
   ],
   "source": [
    "import pandas as pd\n",
    "\n",
    "# create a list with 10 elements\n",
    "my_list = [10, 20, 30, 40, 50, 60, 70, 80, 90, 100]\n",
    "\n",
    "# create a Pandas Series from the list\n",
    "my_series = pd.Series(my_list)\n",
    "\n",
    "# print the Pandas Series\n",
    "print(my_series)\n"
   ]
  },
  {
   "cell_type": "code",
   "execution_count": null,
   "id": "e74ceb48-3853-4544-8741-55523d1da595",
   "metadata": {},
   "outputs": [],
   "source": [
    "In this output, you can see that the Pandas Series has 10 elements labeled with index numbers from 0 to 9. The \n",
    "data type of the elements is integer (int64)."
   ]
  },
  {
   "cell_type": "markdown",
   "id": "a3f9d3e2-fefd-437f-8e22-c5a75368691d",
   "metadata": {},
   "source": [
    "### Q3"
   ]
  },
  {
   "cell_type": "code",
   "execution_count": null,
   "id": "0780d5b0-8cea-4703-a5ed-3505ccdae4f3",
   "metadata": {},
   "outputs": [],
   "source": [
    "Q3. Create a Pandas DataFrame that contains the following data: \n",
    "\n",
    "Name \n",
    "Alice \n",
    "Bob \n",
    "Claire \n",
    "Then, print the DataFrame. \n",
    "Age 25 \n",
    "30 \n",
    "27 \n",
    "Gender Female Male \n",
    "Female"
   ]
  },
  {
   "cell_type": "code",
   "execution_count": null,
   "id": "86f58464-e960-4fdc-9bb4-1cdd21cd9f7c",
   "metadata": {},
   "outputs": [],
   "source": [
    "Ans:- an example of how to create a Pandas DataFrame with the given data and print it:"
   ]
  },
  {
   "cell_type": "code",
   "execution_count": 3,
   "id": "34f86441-03a4-467c-b55f-42f4002fdfb4",
   "metadata": {},
   "outputs": [
    {
     "name": "stdout",
     "output_type": "stream",
     "text": [
      "     Name  Age  Gender\n",
      "0   Alice   25  Female\n",
      "1     Bob   30    Male\n",
      "2  Claire   27  Female\n"
     ]
    }
   ],
   "source": [
    "import pandas as pd\n",
    "\n",
    "# create a dictionary with the data\n",
    "data = {\n",
    "    'Name': ['Alice', 'Bob', 'Claire'],\n",
    "    'Age': [25, 30, 27],\n",
    "    'Gender': ['Female', 'Male', 'Female']\n",
    "}\n",
    "\n",
    "# create a Pandas DataFrame from the dictionary\n",
    "df = pd.DataFrame(data)\n",
    "\n",
    "# print the DataFrame\n",
    "print(df)\n"
   ]
  },
  {
   "cell_type": "code",
   "execution_count": null,
   "id": "04b4610f-5a10-4620-bba5-7cf50181b416",
   "metadata": {},
   "outputs": [],
   "source": [
    "In this output, you can see that the DataFrame has three columns (Name, Age, and Gender) and three rows of data. \n",
    "Each row is labeled with an index number starting from 0. The data types of the columns are inferred by Pandas \n",
    "based on the data provided."
   ]
  },
  {
   "cell_type": "markdown",
   "id": "19067b01-ff4d-4364-ae1b-561ad0ccdf04",
   "metadata": {},
   "source": [
    "### Q4"
   ]
  },
  {
   "cell_type": "code",
   "execution_count": null,
   "id": "1b9b5d6e-ea7d-4e40-a1f4-d86f8f75e80d",
   "metadata": {},
   "outputs": [],
   "source": [
    "Q4. What is ‘DataFrame’ in pandas and how is it different from pandas.series? Explain with an example."
   ]
  },
  {
   "cell_type": "code",
   "execution_count": null,
   "id": "9e827630-2aca-40c5-a440-40419eecf3c4",
   "metadata": {},
   "outputs": [],
   "source": [
    "Ans:- In Pandas, a DataFrame is a two-dimensional labeled data structure with columns of potentially different \n",
    "data types. It is similar to a spreadsheet or a SQL table. Each column in a DataFrame is a Series object, so a\n",
    "DataFrame can be thought of as a collection of Series that share the same index. A Series, on the other hand, is a\n",
    "\n",
    "one-dimensional labeled array capable of holding any data type.\n",
    "\n",
    "Here's an example to demonstrate the difference between a DataFrame and a Series:"
   ]
  },
  {
   "cell_type": "code",
   "execution_count": 4,
   "id": "f0d3c796-9333-4cfa-aec6-9610624f82f6",
   "metadata": {},
   "outputs": [
    {
     "name": "stdout",
     "output_type": "stream",
     "text": [
      "0    1\n",
      "1    2\n",
      "2    3\n",
      "3    4\n",
      "4    5\n",
      "dtype: int64\n",
      "   A  B  C\n",
      "0  1  4  7\n",
      "1  2  5  8\n",
      "2  3  6  9\n"
     ]
    }
   ],
   "source": [
    "import pandas as pd\n",
    "\n",
    "# create a Pandas Series\n",
    "ser = pd.Series([1, 2, 3, 4, 5])\n",
    "\n",
    "# create a Pandas DataFrame\n",
    "df = pd.DataFrame({\n",
    "    'A': [1, 2, 3],\n",
    "    'B': [4, 5, 6],\n",
    "    'C': [7, 8, 9]\n",
    "})\n",
    "\n",
    "# print the Series and the DataFrame\n",
    "print(ser)\n",
    "print(df)\n"
   ]
  },
  {
   "cell_type": "code",
   "execution_count": null,
   "id": "fe087b1d-7b04-48c0-85ff-8d35a3ccae4e",
   "metadata": {},
   "outputs": [],
   "source": [
    "In this output, you can see that the Series object has only one column of data, and each element is labeled with\n",
    "an index number starting from 0. On the other hand, the DataFrame has three columns (A, B, and C), and each column \n",
    "is a Series object with its own index. The rows in the DataFrame are also labeled with an index number starting\n",
    "from 0.\n",
    "\n",
    "So, the main difference between a DataFrame and a Series is that a Series represents a one-dimensional array of\n",
    "data with a single index, whereas a DataFrame represents a two-dimensional table of data with row and column \n",
    "indexes."
   ]
  },
  {
   "cell_type": "markdown",
   "id": "b756c0ca-44df-4331-a070-8da0ecaaff59",
   "metadata": {},
   "source": [
    "### Q5"
   ]
  },
  {
   "cell_type": "code",
   "execution_count": null,
   "id": "88ecba57-6fa0-4310-90f2-205477ada5b5",
   "metadata": {},
   "outputs": [],
   "source": [
    "Q5. What are some common functions you can use to manipulate data in a Pandas DataFrame? Can\n",
    "you give an example of when you might use one of these functions?"
   ]
  },
  {
   "cell_type": "code",
   "execution_count": null,
   "id": "d7c25a7f-715d-481b-a24b-f145e0107b65",
   "metadata": {},
   "outputs": [],
   "source": [
    "Ans:- Pandas provides a wide range of functions for manipulating data in a DataFrame. Here are some commonly used \n",
    "functions:\n",
    "\n",
    "=> head() and tail(): These functions are used to display the first and last n rows of a DataFrame, respectively.\n",
    "They are useful for quickly inspecting the data and checking if it has been loaded correctly."
   ]
  },
  {
   "cell_type": "code",
   "execution_count": 5,
   "id": "43587b54-be1f-4232-8e8e-35260fbfc31a",
   "metadata": {},
   "outputs": [
    {
     "name": "stdout",
     "output_type": "stream",
     "text": [
      "   A  B  C\n",
      "0  1  4  7\n",
      "1  2  5  8\n",
      "   A  B  C\n",
      "1  2  5  8\n",
      "2  3  6  9\n"
     ]
    }
   ],
   "source": [
    "import pandas as pd\n",
    "\n",
    "# create a Pandas DataFrame\n",
    "df = pd.DataFrame({\n",
    "    'A': [1, 2, 3],\n",
    "    'B': [4, 5, 6],\n",
    "    'C': [7, 8, 9]\n",
    "})\n",
    "\n",
    "# display the first two rows of the DataFrame\n",
    "print(df.head(2))\n",
    "\n",
    "# display the last two rows of the DataFrame\n",
    "print(df.tail(2))\n"
   ]
  },
  {
   "cell_type": "code",
   "execution_count": null,
   "id": "550c574d-14ec-46b6-9693-407972e0c7b2",
   "metadata": {},
   "outputs": [],
   "source": [
    "=> describe(): This function is used to generate a summary of statistics for the numerical columns in the\n",
    "DataFrame, such as count, mean, standard deviation, minimum, and maximum values."
   ]
  },
  {
   "cell_type": "code",
   "execution_count": 6,
   "id": "97e60f1b-0701-44d2-89ea-cd61b2e45621",
   "metadata": {},
   "outputs": [
    {
     "name": "stdout",
     "output_type": "stream",
     "text": [
      "         A    B    C\n",
      "count  3.0  3.0  3.0\n",
      "mean   2.0  5.0  8.0\n",
      "std    1.0  1.0  1.0\n",
      "min    1.0  4.0  7.0\n",
      "25%    1.5  4.5  7.5\n",
      "50%    2.0  5.0  8.0\n",
      "75%    2.5  5.5  8.5\n",
      "max    3.0  6.0  9.0\n"
     ]
    }
   ],
   "source": [
    "import pandas as pd\n",
    "\n",
    "# create a Pandas DataFrame\n",
    "df = pd.DataFrame({\n",
    "    'A': [1, 2, 3],\n",
    "    'B': [4, 5, 6],\n",
    "    'C': [7, 8, 9]\n",
    "})\n",
    "\n",
    "# generate a summary of statistics for the numerical columns in the DataFrame\n",
    "print(df.describe())\n"
   ]
  },
  {
   "cell_type": "code",
   "execution_count": null,
   "id": "d5031d63-b6af-48ac-b439-ceb9c8cc03ce",
   "metadata": {},
   "outputs": [],
   "source": [
    "=> groupby(): This function is used to group the rows of a DataFrame based on one or more columns, and then apply\n",
    "a function (such as sum(), mean(), count(), etc.) to each group. This is useful for calculating aggregate \n",
    "statistics for subsets of the data."
   ]
  },
  {
   "cell_type": "code",
   "execution_count": 7,
   "id": "ed46ce3f-a5fb-4293-aa42-c5e4d65272c1",
   "metadata": {},
   "outputs": [
    {
     "name": "stdout",
     "output_type": "stream",
     "text": [
      "        Height     Weight\n",
      "Gender                   \n",
      "F        157.5  52.500000\n",
      "M        175.0  78.333333\n"
     ]
    }
   ],
   "source": [
    "import pandas as pd\n",
    "\n",
    "# create a Pandas DataFrame\n",
    "df = pd.DataFrame({\n",
    "    'Gender': ['M', 'F', 'M', 'F', 'M'],\n",
    "    'Height': [170, 160, 180, 155, 175],\n",
    "    'Weight': [70, 55, 80, 50, 85]\n",
    "})\n",
    "\n",
    "# group the data by gender and calculate the mean height and weight for each group\n",
    "grouped_df = df.groupby('Gender').mean()\n",
    "print(grouped_df)\n"
   ]
  },
  {
   "cell_type": "code",
   "execution_count": null,
   "id": "60e67411-6670-4308-bd4a-b8bcbc5002ed",
   "metadata": {},
   "outputs": [],
   "source": [
    "In this example, the groupby() function is used to group the data by gender, and then the mean() function is \n",
    "applied to each group to calculate the average height and weight.\n",
    "\n",
    "=> merge(): This function is used to combine two or more DataFrames based on a common column or index. This is\n",
    "useful for combining related data from different sources."
   ]
  },
  {
   "cell_type": "code",
   "execution_count": 8,
   "id": "083ba198-14af-4d49-99f0-1f1dc09bcb7f",
   "metadata": {},
   "outputs": [
    {
     "name": "stdout",
     "output_type": "stream",
     "text": [
      "  key  value_x  value_y\n",
      "0   B        2        5\n",
      "1   D        4        6\n"
     ]
    }
   ],
   "source": [
    "import pandas as pd\n",
    "\n",
    "# create two Pandas DataFrames\n",
    "df1 = pd.DataFrame({\n",
    "    'key': ['A', 'B', 'C', 'D'],\n",
    "    'value': [1, 2, 3, 4]\n",
    "})\n",
    "\n",
    "df2 = pd.DataFrame({\n",
    "    'key': ['B', 'D', 'E', 'F'],\n",
    "    'value': [5, 6, 7, 8]\n",
    "})\n",
    "\n",
    "# merge the two DataFrames based on the 'key' column\n",
    "merged_df = pd.merge(df1, df2, on='key')\n",
    "print(merged_df)\n"
   ]
  },
  {
   "cell_type": "code",
   "execution_count": null,
   "id": "82e75f5c-75e0-4984-8ca4-afd3dd099a3e",
   "metadata": {},
   "outputs": [],
   "source": [
    "In this example, the merge() function is used to combine two DataFrames based on the 'key' column. The resulting\n",
    "DataFrame contains only the rows with matching keys in both DataFrames.\n",
    "\n",
    "These are just a few examples of the many functions available in Pandas for manipulating data in a DataFrame."
   ]
  },
  {
   "cell_type": "markdown",
   "id": "0e3f84c3-3cf1-4af9-ab0d-732a77dbc726",
   "metadata": {},
   "source": [
    "### Q6"
   ]
  },
  {
   "cell_type": "code",
   "execution_count": null,
   "id": "d2751e76-7835-40d3-9439-18a1ac2e66ef",
   "metadata": {},
   "outputs": [],
   "source": [
    "Q6. Which of the following is mutable in nature Series, DataFrame, Panel?"
   ]
  },
  {
   "cell_type": "code",
   "execution_count": null,
   "id": "fb0c834a-2dc6-4f31-8f2c-1131c655537b",
   "metadata": {},
   "outputs": [],
   "source": [
    "Ans:- Both Series and DataFrame are mutable in nature, whereas Panel is deprecated since Pandas version 0.25.0 and\n",
    "has been replaced by MultiIndex and other features."
   ]
  },
  {
   "cell_type": "markdown",
   "id": "abe2cb8d-da6c-4191-9e60-c8e33c7333bc",
   "metadata": {},
   "source": [
    "### Q7"
   ]
  },
  {
   "cell_type": "code",
   "execution_count": null,
   "id": "890de260-73a8-4f4f-a909-9bff0d0de322",
   "metadata": {},
   "outputs": [],
   "source": [
    "Q7. Create a DataFrame using multiple Series. Explain with an example."
   ]
  },
  {
   "cell_type": "code",
   "execution_count": null,
   "id": "cf9b2da6-1caf-4607-a844-7a96b81ec41e",
   "metadata": {},
   "outputs": [],
   "source": [
    "Ans:- To create a Pandas DataFrame using multiple Series, we can pass a dictionary of Series to the pd.DataFrame()\n",
    "function. The keys of the dictionary will become the column names of the DataFrame, and the values will become the\n",
    "data for each column. Here is an example:"
   ]
  },
  {
   "cell_type": "code",
   "execution_count": 9,
   "id": "9995eddb-9316-4561-a910-aa46a0781052",
   "metadata": {},
   "outputs": [
    {
     "name": "stdout",
     "output_type": "stream",
     "text": [
      "     Name  Age  Gender\n",
      "0   Alice   25  Female\n",
      "1     Bob   30    Male\n",
      "2  Claire   27  Female\n"
     ]
    }
   ],
   "source": [
    "import pandas as pd\n",
    "\n",
    "# create Series for the data\n",
    "names = pd.Series(['Alice', 'Bob', 'Claire'])\n",
    "ages = pd.Series([25, 30, 27])\n",
    "genders = pd.Series(['Female', 'Male', 'Female'])\n",
    "\n",
    "# create a dictionary of Series\n",
    "data = {\n",
    "    'Name': names,\n",
    "    'Age': ages,\n",
    "    'Gender': genders\n",
    "}\n",
    "\n",
    "# create a DataFrame from the dictionary of Series\n",
    "df = pd.DataFrame(data)\n",
    "\n",
    "# print the DataFrame\n",
    "print(df)\n"
   ]
  },
  {
   "cell_type": "code",
   "execution_count": null,
   "id": "d9bacfa8-a28a-4443-bd92-4c8cb18c3c57",
   "metadata": {},
   "outputs": [],
   "source": [
    "In this example, we first create three Series objects for the names, ages, and genders of some people. Then, we \n",
    "create a dictionary of these Series objects, where the keys of the dictionary are the column names of the \n",
    "DataFrame we want to create.\n",
    "\n",
    "Finally, we pass the dictionary of Series to the pd.DataFrame() function to create the DataFrame. The resulting \n",
    "DataFrame will have three columns ('Name', 'Age', and 'Gender') and three rows of data."
   ]
  },
  {
   "cell_type": "code",
   "execution_count": null,
   "id": "f4e98f78-1f48-4aa4-98c6-14b54d08dfea",
   "metadata": {},
   "outputs": [],
   "source": []
  }
 ],
 "metadata": {
  "kernelspec": {
   "display_name": "Python 3 (ipykernel)",
   "language": "python",
   "name": "python3"
  },
  "language_info": {
   "codemirror_mode": {
    "name": "ipython",
    "version": 3
   },
   "file_extension": ".py",
   "mimetype": "text/x-python",
   "name": "python",
   "nbconvert_exporter": "python",
   "pygments_lexer": "ipython3",
   "version": "3.10.8"
  }
 },
 "nbformat": 4,
 "nbformat_minor": 5
}
