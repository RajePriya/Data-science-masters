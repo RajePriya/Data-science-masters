{
 "cells": [
  {
   "cell_type": "markdown",
   "id": "3750fec0-81d8-40eb-aa4a-69076ab66b23",
   "metadata": {},
   "source": [
    "## 22MAR\n",
    "### Assignment"
   ]
  },
  {
   "cell_type": "markdown",
   "id": "0dc97ff9-2ace-4a9a-b986-5d7780e4d576",
   "metadata": {},
   "source": [
    "### Q1"
   ]
  },
  {
   "cell_type": "code",
   "execution_count": null,
   "id": "fd239beb-a18b-400d-9937-f10a3345cda7",
   "metadata": {},
   "outputs": [],
   "source": [
    "Q1. Pearson correlation coefficient is a measure of the linear relationship between two variables. Suppose\n",
    "you have collected data on the amount of time students spend studying for an exam and their final exam\n",
    "scores. Calculate the Pearson correlation coefficient between these two variables and interpret the result."
   ]
  },
  {
   "cell_type": "code",
   "execution_count": null,
   "id": "39c4688f-4192-438f-bc39-251ef56b0d85",
   "metadata": {},
   "outputs": [],
   "source": [
    "Ans:- To calculate the Pearson correlation coefficient between the amount of time students spend studying for an exam and \n",
    "their final exam scores, you will need to perform the following steps:\n",
    "\n",
    "=> Calculate the mean and standard deviation of each variable (amount of time studying and exam scores).\n",
    "=> For each student, calculate the deviation from the mean for each variable.\n",
    "=> Multiply the deviations for each student (amount of time studying and exam scores).\n",
    "=> Calculate the sum of the multiplied deviations.\n",
    "=> Divide the sum of the multiplied deviations by the product of the standard deviations for each variable.\n",
    "\n",
    "\n",
    "Assuming you have performed these steps correctly, you will obtain a value between -1 and 1 as the Pearson correlation \n",
    "coefficient. The interpretation of the result depends on the value obtained:\n",
    "\n",
    "=> A correlation coefficient of 0 indicates no linear relationship between the two variables.\n",
    "=> A correlation coefficient of 1 or -1 indicates a perfect positive or negative linear relationship, respectively.\n",
    "=> A correlation coefficient between 0 and 1 (or 0 and -1) indicates a positive (or negative) linear relationship, with a \n",
    "value closer to 1 (or -1) indicating a stronger relationship.\n",
    "For example, if the Pearson correlation coefficient between the amount of time students spend studying for an exam and their\n",
    "final exam scores is 0.7, this indicates a strong positive linear relationship between the two variables. In other words, \n",
    "students who spend more time studying tend to have higher exam scores, and vice versa. However, it's important to note that \n",
    "correlation does not imply causation, and there may be other factors that contribute to students' exam scores besides the\n",
    "amount of time they spend studying."
   ]
  },
  {
   "cell_type": "markdown",
   "id": "19fdb241-9d51-4f3d-a044-6629105b2872",
   "metadata": {},
   "source": [
    "### Q2"
   ]
  },
  {
   "cell_type": "code",
   "execution_count": null,
   "id": "49e53d65-18ad-4000-9b0c-0980bce98983",
   "metadata": {},
   "outputs": [],
   "source": [
    "Q2. Spearman's rank correlation is a measure of the monotonic relationship between two variables.\n",
    "Suppose you have collected data on the amount of sleep individuals get each night and their overall job\n",
    "satisfaction level on a scale of 1 to 10. Calculate the Spearman's rank correlation between these two\n",
    "variables and interpret the result."
   ]
  },
  {
   "cell_type": "code",
   "execution_count": null,
   "id": "94eb0240-f132-4830-b084-955cb37bed08",
   "metadata": {},
   "outputs": [],
   "source": [
    "Ans:- To calculate the Spearman's rank correlation between the amount of sleep individuals get each night and their overall \n",
    "job satisfaction level, you will need to perform the following steps:\n",
    "\n",
    "=> Rank the values for each variable separately, from lowest to highest.\n",
    "=> Calculate the difference between the ranks for each individual for each variable.\n",
    "=> Square the differences for each individual for each variable.\n",
    "Calculate the sum of the squared differences for each variable.\n",
    "Calculate the Spearman's rank correlation coefficient by dividing the covariance of the ranked variables by the product of \n",
    "their standard deviations.\n",
    "Assuming you have performed these steps correctly, you will obtain a value between -1 and 1 as the Spearman's rank \n",
    "correlation coefficient. The interpretation of the result depends on the value obtained:\n",
    "\n",
    "A correlation coefficient of 0 indicates no monotonic relationship between the two variables.\n",
    "A correlation coefficient of 1 or -1 indicates a perfect monotonic positive or negative relationship, respectively.\n",
    "A correlation coefficient between 0 and 1 (or 0 and -1) indicates a positive (or negative) monotonic relationship, with a \n",
    "value closer to 1 (or -1) indicating a stronger relationship.\n",
    "For example, if the Spearman's rank correlation coefficient between the amount of sleep individuals get each night and their\n",
    "overall job satisfaction level is -0.6, this indicates a moderate negative monotonic relationship between the two variables.\n",
    "In other words, individuals who get less sleep tend to have lower job satisfaction levels, and vice versa. However, it's\n",
    "important to note that correlation does not imply causation, and there may be other factors that contribute to individuals'\n",
    "job satisfaction levels besides the amount of sleep they get."
   ]
  },
  {
   "cell_type": "markdown",
   "id": "841eeb21-3a85-4fd5-9912-29cb0535e466",
   "metadata": {},
   "source": [
    "### Q3"
   ]
  },
  {
   "cell_type": "code",
   "execution_count": null,
   "id": "53ca5f01-ea25-4aa6-9f39-372382960854",
   "metadata": {},
   "outputs": [],
   "source": [
    "Q3. Suppose you are conducting a study to examine the relationship between the number of hours of\n",
    "exercise per week and body mass index (BMI) in a sample of adults. You collected data on both variables\n",
    "for 50 participants. Calculate the Pearson correlation coefficient and the Spearman's rank correlation\n",
    "between these two variables and compare the results."
   ]
  },
  {
   "cell_type": "code",
   "execution_count": null,
   "id": "595d0aa3-6715-4f9f-9b89-b34e7fd0581c",
   "metadata": {},
   "outputs": [],
   "source": [
    "Ans:- To calculate the Pearson correlation coefficient and the Spearman's rank correlation between the number of hours of \n",
    "exercise per week and body mass index (BMI) in a sample of 50 participants, you will need to perform the following steps:\n",
    "\n",
    "\n",
    "Calculate the mean and standard deviation of each variable (number of hours of exercise and BMI).\n",
    "Calculate the Pearson correlation coefficient using the formula:\n",
    "r = (sum of (xi - x_mean) * (yi - y_mean)) / (n * std_dev(x) * std_dev(y))\n",
    "\n",
    "where xi is the number of hours of exercise for participant i, x_mean is the mean number of hours of exercise, yi is the BMI\n",
    "for participant i, y_mean is the mean BMI, and n is the sample size.\n",
    "\n",
    "Calculate the Spearman's rank correlation using the formula:\n",
    "1 - (6 * sum of d^2) / (n * (n^2 - 1))\n",
    "\n",
    "where d is the difference in ranks between the two variables for each participant.\n",
    "\n",
    "Assuming you have performed these steps correctly, you will obtain two correlation coefficients, one from Pearson\n",
    "correlation and the other from Spearman's rank correlation.\n",
    "\n",
    "The interpretation of the results depends on the values obtained:\n",
    "\n",
    "If the Pearson correlation coefficient is close to 1, this indicates a strong positive linear relationship between the two\n",
    "variables. A value close to -1 indicates a strong negative linear relationship, and a value close to 0 indicates no linear\n",
    "relationship.\n",
    "If the Spearman's rank correlation coefficient is close to 1, this indicates a strong monotonic relationship between the two\n",
    "variables. A value close to -1 indicates a strong negative monotonic relationship, and a value close to 0 indicates no \n",
    "monotonic relationship.\n",
    "It's important to note that Pearson correlation measures linear relationships while Spearman's rank correlation measures \n",
    "monotonic relationships. Linear relationships involve a constant rate of change between the two variables, while monotonic \n",
    "relationships only require that the two variables move in the same or opposite directions.\n",
    "\n",
    "To compare the results, you can look at the values obtained for the two correlation coefficients. If the Pearson correlation \n",
    "coefficient is close to 1 and the Spearman's rank correlation coefficient is also close to 1, this suggests a strong linear \n",
    "and monotonic relationship between the two variables. If the Pearson correlation coefficient is close to 0 but the\n",
    "Spearman's rank correlation coefficient is not, this suggests that there is a monotonic relationship between the two \n",
    "variables that is not linear. Conversely, if the Spearman's rank correlation coefficient is close to 0 but the Pearson \n",
    "correlation coefficient is not, this suggests that there is a linear relationship between the two variables that is not \n",
    "monotonic.\n",
    "\n",
    "Overall, comparing the results of Pearson and Spearman correlation coefficients can provide additional information about the\n",
    "nature of the relationship between the two variables being examined."
   ]
  },
  {
   "cell_type": "markdown",
   "id": "daa7f5b3-edba-4a81-9a29-575caa3f7ed7",
   "metadata": {},
   "source": [
    "### Q4"
   ]
  },
  {
   "cell_type": "code",
   "execution_count": null,
   "id": "0e95cd50-2f6e-4b43-bb2e-2c622a750d74",
   "metadata": {},
   "outputs": [],
   "source": [
    "Q4. A researcher is interested in examining the relationship between the number of hours individuals\n",
    "spend watching television per day and their level of physical activity. The researcher collected data on\n",
    "both variables from a sample of 50 participants. Calculate the Pearson correlation coefficient between\n",
    "these two variables."
   ]
  },
  {
   "cell_type": "code",
   "execution_count": null,
   "id": "5cfa09a6-e20d-479b-a692-ea83c8b49ccc",
   "metadata": {},
   "outputs": [],
   "source": [
    "Ans:- To calculate the Pearson correlation coefficient between the number of hours individuals spend watching television per\n",
    "day and their level of physical activity in a sample of 50 participants, you will need to perform the following steps:\n",
    "\n",
    "=> Collect data on the number of hours individuals spend watching television per day and their level of physical activity \n",
    "or 50 participants.\n",
    "=> Calculate the mean and standard deviation of each variable (number of hours watching TV and level of physical activity).\n",
    "=> Calculate the Pearson correlation coefficient using the formula:\n",
    "r = (sum of (xi - x_mean) * (yi - y_mean)) / (n * std_dev(x) * std_dev(y))\n",
    "\n",
    "where xi is the number of hours watching TV for participant i, x_mean is the mean number of hours watching TV, yi is the \n",
    "level of physical activity for participant i, y_mean is the mean level of physical activity, and n is the sample size.\n",
    "\n",
    "Assuming you have performed these steps correctly, you will obtain a Pearson correlation coefficient, which will be a value\n",
    "between -1 and 1.\n",
    "\n",
    "The interpretation of the result depends on the value obtained:\n",
    "\n",
    "=> A correlation coefficient of 0 indicates no linear relationship between the two variables.\n",
    "=> A correlation coefficient of 1 or -1 indicates a perfect positive or negative linear relationship, respectively.\n",
    "=> A correlation coefficient between 0 and 1 (or 0 and -1) indicates a positive (or negative) linear relationship, with a \n",
    "value closer to 1 (or -1) indicating a stronger relationship.\n",
    "For example, if the Pearson correlation coefficient between the number of hours individuals spend watching television per \n",
    "day and their level of physical activity is -0.6, this indicates a moderate negative linear relationship between the two \n",
    "variables. In other words, individuals who watch more TV tend to have lower levels of physical activity, and vice versa. \n",
    "However, it's important to note that correlation does not imply causation, and there may be other factors that contribute to \n",
    "individuals' levels of physical activity besides the number of hours they spend watching TV."
   ]
  },
  {
   "cell_type": "markdown",
   "id": "cc2f326b-91c3-4d74-8281-cea386b5f7e6",
   "metadata": {},
   "source": [
    "### Q5"
   ]
  },
  {
   "cell_type": "code",
   "execution_count": null,
   "id": "fcc7e7d5-7286-492b-bf8e-f38e688630fd",
   "metadata": {},
   "outputs": [],
   "source": [
    "Q5. A survey was conducted to examine the relationship between age and preference for a particular\n",
    "brand of soft drink. The survey results are shown below:\n",
    "    Age(years)            soft drink preference   \n",
    "        25                        Coke\n",
    "        42                       Pepsi\n",
    "        37                    Mountain dew\n",
    "        19                        Coke\n",
    "        31                       Pepsi\n",
    "        28                        Coke\n",
    "        "
   ]
  },
  {
   "cell_type": "code",
   "execution_count": null,
   "id": "744d90ff-74da-445e-a580-b6657853fff5",
   "metadata": {},
   "outputs": [],
   "source": [
    "Ans:- The data provided in the question only shows a small sample of the survey results, but based on this sample, it's not \n",
    "possible to calculate a correlation coefficient between age and preference for a particular brand of soft drink.\n",
    "\n",
    "To calculate a correlation coefficient, you need to have data on both variables (in this case, age and soft drink preference)\n",
    "for a larger sample of participants. Without this data, it's impossible to determine whether there is a relationship between\n",
    "the two variables and, if so, what type of relationship it is (positive, negative, or no relationship).\n",
    "\n",
    "However, based on the small sample provided, we can observe that the soft drink preferences are different for each age group.\n",
    "This suggests that there may be some relationship between age and soft drink preference, but further data collection and \n",
    "analysis would be needed to confirm this and to determine the strength and direction of the relationship"
   ]
  },
  {
   "cell_type": "markdown",
   "id": "1a509c2c-5825-4c30-9c6e-aaceb70fc2c9",
   "metadata": {},
   "source": [
    "### Q6"
   ]
  },
  {
   "cell_type": "code",
   "execution_count": null,
   "id": "09189e29-00c7-4a70-bb85-07ac54ff7b96",
   "metadata": {},
   "outputs": [],
   "source": [
    "Q6. A company is interested in examining the relationship between the number of sales calls made per day\n",
    "and the number of sales made per week. The company collected data on both variables from a sample of\n",
    "30 sales representatives. Calculate the Pearson correlation coefficient between these two variables."
   ]
  },
  {
   "cell_type": "code",
   "execution_count": null,
   "id": "fb802aee-3402-41bd-bbb3-2e57bbc78005",
   "metadata": {},
   "outputs": [],
   "source": [
    "Ans:- To calculate the Pearson correlation coefficient between the number of sales calls made per day and the number of\n",
    "sales made per week in a sample of 30 sales representatives, you will need to perform the following steps:\n",
    "\n",
    "=> Collect data on the number of sales calls made per day and the number of sales made per week for each of the 30 sales \n",
    "representatives.\n",
    "=> Calculate the mean and standard deviation of each variable (number of sales calls and number of sales made per week).\n",
    "=> Calculate the Pearson correlation coefficient using the formula:\n",
    "    \n",
    "r = (sum of (xi - x_mean) * (yi - y_mean)) / (n * std_dev(x) * std_dev(y))\n",
    "\n",
    "where xi is the number of sales calls made per day for representative i, x_mean is the mean number of sales calls, yi is the\n",
    "number of sales made per week for representative i, y_mean is the mean number of sales made per week, and n is the sample \n",
    "size.\n",
    "\n",
    "Assuming you have performed these steps correctly, you will obtain a Pearson correlation coefficient, which will be a value\n",
    "between -1 and 1.\n",
    "\n",
    "The interpretation of the result depends on the value obtained:\n",
    "\n",
    "=> A correlation coefficient of 0 indicates no linear relationship between the two variables.\n",
    "=> A correlation coefficient of 1 or -1 indicates a perfect positive or negative linear relationship, respectively.\n",
    "=> A correlation coefficient between 0 and 1 (or 0 and -1) indicates a positive (or negative) linear relationship, with a\n",
    "value closer to 1 (or -1) indicating a stronger relationship.\n",
    "For example, if the Pearson correlation coefficient between the number of sales calls made per day and the number of sales \n",
    "made per week is 0.8, this indicates a strong positive linear relationship between the two variables. In other words, sales\n",
    "representatives who make more sales calls tend to make more sales overall, and vice versa. However, it's important to note\n",
    "that correlation does not imply causation, and there may be other factors that contribute to sales representatives' success\n",
    "besides the number of sales calls they make."
   ]
  },
  {
   "cell_type": "code",
   "execution_count": null,
   "id": "872b8f85-5b9e-4709-9ffa-7ea900ab70e9",
   "metadata": {},
   "outputs": [],
   "source": []
  }
 ],
 "metadata": {
  "kernelspec": {
   "display_name": "Python 3 (ipykernel)",
   "language": "python",
   "name": "python3"
  },
  "language_info": {
   "codemirror_mode": {
    "name": "ipython",
    "version": 3
   },
   "file_extension": ".py",
   "mimetype": "text/x-python",
   "name": "python",
   "nbconvert_exporter": "python",
   "pygments_lexer": "ipython3",
   "version": "3.10.8"
  }
 },
 "nbformat": 4,
 "nbformat_minor": 5
}
