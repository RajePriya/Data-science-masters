{
 "cells": [
  {
   "cell_type": "markdown",
   "id": "4279e3c5-448b-43d5-9fb8-d77cf65145f5",
   "metadata": {},
   "source": [
    "## 6APR\n",
    "### Assignment"
   ]
  },
  {
   "cell_type": "markdown",
   "id": "825adb23-bfd1-4c8c-bdb0-da56cb8e2f04",
   "metadata": {},
   "source": [
    "### Q1"
   ]
  },
  {
   "cell_type": "code",
   "execution_count": null,
   "id": "74046a7d-6b38-4d44-b85d-43a931671620",
   "metadata": {},
   "outputs": [],
   "source": [
    "Q1. What is the mathematical formula for a linear SVM?"
   ]
  },
  {
   "cell_type": "code",
   "execution_count": null,
   "id": "bf1bc052-b090-4cfe-b273-f69ab38f0699",
   "metadata": {},
   "outputs": [],
   "source": [
    "Ans:- A linear support vector machine (SVM) is a supervised machine learning algorithm used for classification. \n",
    "The mathematical formula for a linear SVM can be expressed as:\n",
    "\n",
    "h(x) = sign(w^T x + b)\n",
    "\n",
    "where:\n",
    "\n",
    "h(x) is the predicted class label for a new input instance x\n",
    "w is the weight vector\n",
    "b is the bias term\n",
    "x is the input feature vector\n",
    "T denotes the transpose operation\n",
    "sign() is the sign function that returns either -1 or 1, depending on whether the input is negative or positive, \n",
    "respectively.\n",
    "The goal of a linear SVM is to find the weight vector w and the bias term b that separates the positive and \n",
    "negative class instances with the largest margin possible. This is done by solving a quadratic optimization\n",
    "problem, subject to constraints that enforce that all instances are correctly classified and that the margin is\n",
    "maximized."
   ]
  },
  {
   "cell_type": "markdown",
   "id": "a71dc5c7-6a78-4b98-ab7b-68abbb1bf5e6",
   "metadata": {},
   "source": [
    "### Q2"
   ]
  },
  {
   "cell_type": "code",
   "execution_count": null,
   "id": "387206d8-d90c-48b6-b656-8a39e9ab2a68",
   "metadata": {},
   "outputs": [],
   "source": [
    "Q2. What is the objective function of a linear SVM?"
   ]
  },
  {
   "cell_type": "code",
   "execution_count": null,
   "id": "3aeda23d-3baf-4db1-ab38-90eccfb75fd0",
   "metadata": {},
   "outputs": [],
   "source": [
    "Ans:- The objective function of a linear support vector machine (SVM) is to find the hyperplane that best\n",
    "separates the two classes of data, while maximizing the margin between the two classes. The margin is defined as\n",
    "the distance between the hyperplane and the closest data points of each class.\n",
    "\n",
    "The objective function for a linear SVM can be expressed as:\n",
    "\n",
    "minimize 1/2 * ||w||^2\n",
    "\n",
    "subject to yi(w^T xi + b) >= 1, for i = 1, 2, ..., n\n",
    "\n",
    "where:\n",
    "\n",
    "=> ||w||^2 is the L2 norm of the weight vector w, which is the square root of the sum of squares of all its \n",
    "elements\n",
    "=> yi is the label of the i-th training instance, either +1 or -1 for the positive or negative class respectively\n",
    "=> xi is the feature vector of the i-th training instance\n",
    "=> b is the bias term that shifts the hyperplane from the origin\n",
    "=> n is the number of training instances\n",
    "The constraints in this optimization problem ensure that all training instances are correctly classified and are\n",
    "located outside the margin (i.e., have a functional margin of at least 1). The objective function seeks to minimize\n",
    "the norm of the weight vector w, which in turn maximizes the margin between the two classes."
   ]
  },
  {
   "cell_type": "markdown",
   "id": "0e90b791-0b89-416a-b4ad-ffb567a9e854",
   "metadata": {},
   "source": [
    "### Q3"
   ]
  },
  {
   "cell_type": "code",
   "execution_count": null,
   "id": "402d0135-d01d-4fac-8c89-5cc8d4f5d388",
   "metadata": {},
   "outputs": [],
   "source": [
    "Q3. What is the kernel trick in SVM?"
   ]
  },
  {
   "cell_type": "code",
   "execution_count": null,
   "id": "0d498ec5-191d-4954-a4f6-30da05168d05",
   "metadata": {},
   "outputs": [],
   "source": [
    "Ans:- The kernel trick is a technique used in support vector machines (SVMs) that allows for the nonlinear \n",
    "separation of data without explicitly mapping the data to a higher-dimensional space. The kernel trick is based on\n",
    "the mathematical concept of kernel functions.\n",
    "\n",
    "In a linear SVM, the input data is mapped to a higher-dimensional space, where it can be linearly separated. \n",
    "However, mapping the data to a higher-dimensional space can be computationally expensive, especially when dealing \n",
    "with large datasets. The kernel trick allows SVMs to operate in the original input space while still being able to\n",
    "classify nonlinearly separable data.\n",
    "\n",
    "Instead of mapping the data to a higher-dimensional space, the kernel trick computes the dot product of the input\n",
    "data in a feature space, which is defined implicitly by a kernel function. The kernel function takes two input\n",
    "vectors and outputs a similarity measure between them. By using a kernel function, the SVM can implicitly operate\n",
    "in a higher-dimensional feature space without ever explicitly computing the feature vectors.\n",
    "\n",
    "The kernel trick allows for the classification of nonlinearly separable data, as the SVM can find nonlinear \n",
    "decision boundaries in the implicit feature space defined by the kernel function. Some commonly used kernel \n",
    "functions include the radial basis function (RBF) kernel, polynomial kernel, and sigmoid kernel. The choice of \n",
    "kernel function depends on the nature of the data and the problem being solved."
   ]
  },
  {
   "cell_type": "markdown",
   "id": "69536442-9497-4738-9f71-9a3d01840b37",
   "metadata": {},
   "source": [
    "### Q4"
   ]
  },
  {
   "cell_type": "code",
   "execution_count": null,
   "id": "cde2c42f-e0d0-4f78-9b68-daa5992ae4c2",
   "metadata": {},
   "outputs": [],
   "source": [
    "Q4. What is the role of support vectors in SVM Explain with example"
   ]
  },
  {
   "cell_type": "code",
   "execution_count": null,
   "id": "778613c7-9a57-4dcc-b2ff-6018aa826343",
   "metadata": {},
   "outputs": [],
   "source": [
    "Ans:- In support vector machines (SVMs), the support vectors are the data points that lie closest to the decision \n",
    "boundary or hyperplane that separates the two classes of data. These data points play a crucial role in determining\n",
    "the hyperplane and the margin between the two classes.\n",
    "\n",
    "The role of support vectors can be understood through an example. Consider a binary classification problem with \n",
    "two classes of data that are not linearly separable in the input space. The SVM finds the hyperplane that separates \n",
    "the two classes of data in a higher-dimensional feature space.\n",
    "\n",
    "Suppose we have a dataset of 10 points, 5 of which belong to the positive class (+) and 5 of which belong to the \n",
    "negative class (-). The SVM finds the hyperplane that maximizes the margin between the two classes. The hyperplane\n",
    "is defined by a decision boundary in the feature space, and it is characterized by a weight vector w and a bias \n",
    "term b.\n",
    "\n",
    "The support vectors are the data points that lie closest to the decision boundary. In this example, let us assume\n",
    "that 3 of the positive points and 2 of the negative points are the support vectors. These points have a functional\n",
    "margin of exactly 1, which means they satisfy the constraint yi(w^T xi + b) >= 1.\n",
    "\n",
    "The other points in the dataset do not affect the position of the hyperplane or the margin, as they have a \n",
    "functional margin greater than 1. The position of the hyperplane is determined solely by the support vectors.\n",
    "\n",
    "The support vectors play a critical role in the SVM algorithm, as they determine the position of the hyperplane and\n",
    "the margin. The SVM seeks to maximize the margin between the two classes of data while ensuring that all the data\n",
    "points are correctly classified. The support vectors are the points that lie closest to the decision boundary and\n",
    "therefore have the greatest influence on the position of the hyperplane and the margin."
   ]
  },
  {
   "cell_type": "markdown",
   "id": "fd29ac54-f6e2-414d-afc2-458fa32c738a",
   "metadata": {},
   "source": [
    "### Q5"
   ]
  },
  {
   "cell_type": "code",
   "execution_count": null,
   "id": "59bd294f-6802-430a-8ef4-da65763dda83",
   "metadata": {},
   "outputs": [],
   "source": [
    "Q5. Illustrate with examples and graphs of Hyperplane, Marginal plane, Soft margin and Hard margin in\n",
    "SVM?"
   ]
  },
  {
   "cell_type": "code",
   "execution_count": null,
   "id": "853fd12d-3996-4e5a-984b-5c62dbb3955e",
   "metadata": {},
   "outputs": [],
   "source": [
    "Ans:- \n",
    "=> Hyperplane:\n",
    "The hyperplane is a decision boundary that separates the two classes in an SVM. In a 2-dimensional space, a \n",
    "hyperplane is a line, and in a 3-dimensional space, it is a plane. The hyperplane is defined by a weight vector w \n",
    "and a bias term b.\n",
    "In a binary classification problem with two classes, the hyperplane is a line or a plane that separates the two \n",
    "classes. For example, in a 2-dimensional input space, the hyperplane is a line that separates the data points \n",
    "belonging to the two classes. In a 3-dimensional input space, the hyperplane is a plane that separates the two \n",
    "classes.\n",
    "Example: Let's consider a binary classification problem with two classes, +1 and -1. The following graph shows a \n",
    "hyperplane that separates the two classes in a 2-dimensional input space.\n",
    "\n",
    "=> Marginal plane:\n",
    "The marginal plane is a plane that is parallel to the hyperplane and touches the support vectors. The distance \n",
    "between the hyperplane and the marginal plane is known as the margin. The margin is defined as the distance \n",
    "between the hyperplane and the closest support vector.\n",
    "The marginal plane is a plane that is parallel to the hyperplane and touches the support vectors. The distance \n",
    "between the hyperplane and the marginal plane is known as the margin. The margin is defined as the distance between\n",
    "the hyperplane and the closest \n",
    "Example: Let's consider the same binary classification problem as before. The following graph shows the marginal \n",
    "plane that touches the support vectors and the hyperplane.\n",
    "\n",
    "=> Soft margin:\n",
    "In some cases, the data may not be linearly separable, and it may not be possible to find a hyperplane that \n",
    "completely separates the two classes. In such cases, we can use a soft margin, which allows for some \n",
    "misclassification errors. A soft margin is achieved by allowing some of the data points to violate the functional \n",
    "margin constraint.\n",
    "In a dataset that is not linearly separable, we can use a soft margin SVM that allows for some misclassification\n",
    "errors. The soft margin SVM allows some of the data points to violate the functional margin constraint. This is\n",
    "achieved by introducing a slack variable that measures the degree to which each data point violates the functional\n",
    "margin constraint.\n",
    "Example: Let's consider a dataset that is not linearly separable. The following graph shows a soft margin \n",
    "hyperplane that allows for some misclassification errors.\n",
    "\n",
    "=> Hard margin:\n",
    "In contrast to a soft margin, a hard margin SVM requires that all data points be correctly classified, and there \n",
    "are no misclassification errors. This can only be achieved if the data is linearly separable.\n",
    "In a dataset that is linearly separable, we can use a hard margin SVM that requires that all data points be \n",
    "correctly classified, and there are no misclassification errors. The hard margin SVM finds a hyperplane that\n",
    "completely separates the two classes of data with no margin violations\n",
    "Example: Let's consider a dataset that is linearly separable. The following graph shows a hard margin hyperplane \n",
    "that separates the two classes with no misclassification errors.\n",
    "\n",
    "\n",
    "In summary, the hyperplane is a decision boundary that separates the two classes in an SVM. The marginal plane is \n",
    "a plane that is parallel to the hyperplane and touches the support vectors. A soft margin allows for some \n",
    "misclassification errors, while a hard margin requires that all data points be correctly classified.\n"
   ]
  },
  {
   "cell_type": "markdown",
   "id": "dabb839e-578e-426a-bf29-00644356fb4a",
   "metadata": {},
   "source": [
    "### Q6"
   ]
  },
  {
   "cell_type": "code",
   "execution_count": null,
   "id": "bd27cc09-39e7-498a-9c7d-7a87e4f390dd",
   "metadata": {},
   "outputs": [],
   "source": [
    "Q6. SVM Implementation through Iris dataset.\n",
    "\n",
    "~ Load the iris dataset from the scikit-learn library and split it into a training set and a testing setl\n",
    "~ Train a linear SVM classifier on the training set and predict the labels for the testing setl\n",
    "~ Compute the accuracy of the model on the testing setl\n",
    "~ Plot the decision boundaries of the trained model using two of the featuresl\n",
    "~ Try different values"
   ]
  },
  {
   "cell_type": "code",
   "execution_count": null,
   "id": "f1c09354-2423-4dbc-85d3-e2e906ec065e",
   "metadata": {},
   "outputs": [],
   "source": [
    "Ans:- Through implementing SVM on the iris dataset using scikit-learn \n",
    "Step 1: Import the required libraries"
   ]
  },
  {
   "cell_type": "code",
   "execution_count": 1,
   "id": "f800c9ab-668e-4f1b-b72c-7916eee235b4",
   "metadata": {},
   "outputs": [],
   "source": [
    "import numpy as np\n",
    "import matplotlib.pyplot as plt\n",
    "from sklearn.datasets import load_iris\n",
    "from sklearn.model_selection import train_test_split\n",
    "from sklearn.svm import SVC\n",
    "from sklearn.metrics import accuracy_score"
   ]
  },
  {
   "cell_type": "code",
   "execution_count": null,
   "id": "80efcfbd-3c5c-48d5-bdaa-8593f7ae7485",
   "metadata": {},
   "outputs": [],
   "source": [
    "Step 2: Load the iris dataset and split it into training and testing sets"
   ]
  },
  {
   "cell_type": "code",
   "execution_count": 2,
   "id": "1eaecc83-dd5d-40cf-a58e-5451e60f1667",
   "metadata": {},
   "outputs": [],
   "source": [
    "iris = load_iris()\n",
    "X = iris.data[:, :2]  # We will only use two features to plot the decision boundaries\n",
    "y = iris.target\n",
    "X_train, X_test, y_train, y_test = train_test_split(X, y, test_size=0.2, random_state=42)"
   ]
  },
  {
   "cell_type": "code",
   "execution_count": null,
   "id": "0703faf6-2fee-4185-a040-f7f35b5a1117",
   "metadata": {},
   "outputs": [],
   "source": [
    "Step 3: Train a linear SVM classifier on the training set"
   ]
  },
  {
   "cell_type": "code",
   "execution_count": 3,
   "id": "8adecefa-74b8-41bd-b539-32b8726ec8f4",
   "metadata": {},
   "outputs": [
    {
     "data": {
      "text/html": [
       "<style>#sk-container-id-1 {color: black;background-color: white;}#sk-container-id-1 pre{padding: 0;}#sk-container-id-1 div.sk-toggleable {background-color: white;}#sk-container-id-1 label.sk-toggleable__label {cursor: pointer;display: block;width: 100%;margin-bottom: 0;padding: 0.3em;box-sizing: border-box;text-align: center;}#sk-container-id-1 label.sk-toggleable__label-arrow:before {content: \"▸\";float: left;margin-right: 0.25em;color: #696969;}#sk-container-id-1 label.sk-toggleable__label-arrow:hover:before {color: black;}#sk-container-id-1 div.sk-estimator:hover label.sk-toggleable__label-arrow:before {color: black;}#sk-container-id-1 div.sk-toggleable__content {max-height: 0;max-width: 0;overflow: hidden;text-align: left;background-color: #f0f8ff;}#sk-container-id-1 div.sk-toggleable__content pre {margin: 0.2em;color: black;border-radius: 0.25em;background-color: #f0f8ff;}#sk-container-id-1 input.sk-toggleable__control:checked~div.sk-toggleable__content {max-height: 200px;max-width: 100%;overflow: auto;}#sk-container-id-1 input.sk-toggleable__control:checked~label.sk-toggleable__label-arrow:before {content: \"▾\";}#sk-container-id-1 div.sk-estimator input.sk-toggleable__control:checked~label.sk-toggleable__label {background-color: #d4ebff;}#sk-container-id-1 div.sk-label input.sk-toggleable__control:checked~label.sk-toggleable__label {background-color: #d4ebff;}#sk-container-id-1 input.sk-hidden--visually {border: 0;clip: rect(1px 1px 1px 1px);clip: rect(1px, 1px, 1px, 1px);height: 1px;margin: -1px;overflow: hidden;padding: 0;position: absolute;width: 1px;}#sk-container-id-1 div.sk-estimator {font-family: monospace;background-color: #f0f8ff;border: 1px dotted black;border-radius: 0.25em;box-sizing: border-box;margin-bottom: 0.5em;}#sk-container-id-1 div.sk-estimator:hover {background-color: #d4ebff;}#sk-container-id-1 div.sk-parallel-item::after {content: \"\";width: 100%;border-bottom: 1px solid gray;flex-grow: 1;}#sk-container-id-1 div.sk-label:hover label.sk-toggleable__label {background-color: #d4ebff;}#sk-container-id-1 div.sk-serial::before {content: \"\";position: absolute;border-left: 1px solid gray;box-sizing: border-box;top: 0;bottom: 0;left: 50%;z-index: 0;}#sk-container-id-1 div.sk-serial {display: flex;flex-direction: column;align-items: center;background-color: white;padding-right: 0.2em;padding-left: 0.2em;position: relative;}#sk-container-id-1 div.sk-item {position: relative;z-index: 1;}#sk-container-id-1 div.sk-parallel {display: flex;align-items: stretch;justify-content: center;background-color: white;position: relative;}#sk-container-id-1 div.sk-item::before, #sk-container-id-1 div.sk-parallel-item::before {content: \"\";position: absolute;border-left: 1px solid gray;box-sizing: border-box;top: 0;bottom: 0;left: 50%;z-index: -1;}#sk-container-id-1 div.sk-parallel-item {display: flex;flex-direction: column;z-index: 1;position: relative;background-color: white;}#sk-container-id-1 div.sk-parallel-item:first-child::after {align-self: flex-end;width: 50%;}#sk-container-id-1 div.sk-parallel-item:last-child::after {align-self: flex-start;width: 50%;}#sk-container-id-1 div.sk-parallel-item:only-child::after {width: 0;}#sk-container-id-1 div.sk-dashed-wrapped {border: 1px dashed gray;margin: 0 0.4em 0.5em 0.4em;box-sizing: border-box;padding-bottom: 0.4em;background-color: white;}#sk-container-id-1 div.sk-label label {font-family: monospace;font-weight: bold;display: inline-block;line-height: 1.2em;}#sk-container-id-1 div.sk-label-container {text-align: center;}#sk-container-id-1 div.sk-container {/* jupyter's `normalize.less` sets `[hidden] { display: none; }` but bootstrap.min.css set `[hidden] { display: none !important; }` so we also need the `!important` here to be able to override the default hidden behavior on the sphinx rendered scikit-learn.org. See: https://github.com/scikit-learn/scikit-learn/issues/21755 */display: inline-block !important;position: relative;}#sk-container-id-1 div.sk-text-repr-fallback {display: none;}</style><div id=\"sk-container-id-1\" class=\"sk-top-container\"><div class=\"sk-text-repr-fallback\"><pre>SVC(kernel=&#x27;linear&#x27;)</pre><b>In a Jupyter environment, please rerun this cell to show the HTML representation or trust the notebook. <br />On GitHub, the HTML representation is unable to render, please try loading this page with nbviewer.org.</b></div><div class=\"sk-container\" hidden><div class=\"sk-item\"><div class=\"sk-estimator sk-toggleable\"><input class=\"sk-toggleable__control sk-hidden--visually\" id=\"sk-estimator-id-1\" type=\"checkbox\" checked><label for=\"sk-estimator-id-1\" class=\"sk-toggleable__label sk-toggleable__label-arrow\">SVC</label><div class=\"sk-toggleable__content\"><pre>SVC(kernel=&#x27;linear&#x27;)</pre></div></div></div></div></div>"
      ],
      "text/plain": [
       "SVC(kernel='linear')"
      ]
     },
     "execution_count": 3,
     "metadata": {},
     "output_type": "execute_result"
    }
   ],
   "source": [
    "clf = SVC(kernel='linear')\n",
    "clf.fit(X_train, y_train)"
   ]
  },
  {
   "cell_type": "code",
   "execution_count": null,
   "id": "b3b5b089-f3b7-42c4-a330-309b4e0154f5",
   "metadata": {},
   "outputs": [],
   "source": [
    "Step 4: Predict the labels for the testing set and compute the accuracy of the model"
   ]
  },
  {
   "cell_type": "code",
   "execution_count": 4,
   "id": "7d6e2855-d293-4c34-84fb-1c151aefe5a5",
   "metadata": {},
   "outputs": [
    {
     "name": "stdout",
     "output_type": "stream",
     "text": [
      "Accuracy: 0.9\n"
     ]
    }
   ],
   "source": [
    "y_pred = clf.predict(X_test)\n",
    "accuracy = accuracy_score(y_test, y_pred)\n",
    "print(\"Accuracy:\", accuracy)"
   ]
  },
  {
   "cell_type": "code",
   "execution_count": null,
   "id": "8d05a9f3-a0e5-47e7-8097-b855739319f6",
   "metadata": {},
   "outputs": [],
   "source": [
    "Step 5: Plot the decision boundaries of the trained model using two of the features"
   ]
  },
  {
   "cell_type": "code",
   "execution_count": 5,
   "id": "bc269b79-ff0b-4b69-a85f-6044a1a638ad",
   "metadata": {},
   "outputs": [
    {
     "data": {
      "image/png": "[encoded data removed]",
      "text/plain": [
       "<Figure size 800x600 with 1 Axes>"
      ]
     },
     "metadata": {},
     "output_type": "display_data"
    }
   ],
   "source": [
    "# Plot the decision boundaries for the SVM classifier\n",
    "x_min, x_max = X[:, 0].min() - 0.5, X[:, 0].max() + 0.5\n",
    "y_min, y_max = X[:, 1].min() - 0.5, X[:, 1].max() + 0.5\n",
    "xx, yy = np.meshgrid(np.arange(x_min, x_max, 0.02), np.arange(y_min, y_max, 0.02))\n",
    "Z = clf.predict(np.c_[xx.ravel(), yy.ravel()])\n",
    "\n",
    "# Put the result into a color plot\n",
    "Z = Z.reshape(xx.shape)\n",
    "plt.figure(1, figsize=(8, 6))\n",
    "plt.pcolormesh(xx, yy, Z, cmap=plt.cm.Paired)\n",
    "\n",
    "# Plot also the training points\n",
    "plt.scatter(X[:, 0], X[:, 1], c=y, edgecolors='k', cmap=plt.cm.Paired)\n",
    "plt.xlabel('Sepal length')\n",
    "plt.ylabel('Sepal width')\n",
    "\n",
    "plt.xlim(xx.min(), xx.max())\n",
    "plt.ylim(yy.min(), yy.max())\n",
    "plt.xticks(())\n",
    "plt.yticks(())\n",
    "plt.title('Decision boundaries for SVM with linear kernel')\n",
    "plt.show()\n"
   ]
  },
  {
   "cell_type": "code",
   "execution_count": null,
   "id": "50c0f9f5-8908-4fd6-a3f7-74f6f6a24779",
   "metadata": {},
   "outputs": [],
   "source": [
    "You can try different values for the kernel and other hyperparameters of the SVM classifier to see if you can \n",
    "improve the accuracy and decision boundaries."
   ]
  },
  {
   "cell_type": "markdown",
   "id": "5bf4c46d-f655-4381-8c7c-5641bdc48968",
   "metadata": {},
   "source": [
    "### Bonus task"
   ]
  },
  {
   "cell_type": "code",
   "execution_count": null,
   "id": "68e17e97-3e67-4a8a-b1e7-56bfb958a4e0",
   "metadata": {},
   "outputs": [],
   "source": [
    "--- Bonus task: Implement a linear SVM classifier from scratch using Python and compare its\n",
    "performance with the scikit-learn implementation."
   ]
  },
  {
   "cell_type": "code",
   "execution_count": null,
   "id": "a1250627-2c58-4024-be27-d7242c5d2af8",
   "metadata": {},
   "outputs": [],
   "source": [
    "- to implement a linear SVM classifier from scratch"
   ]
  },
  {
   "cell_type": "code",
   "execution_count": null,
   "id": "43922d29-9d6c-428b-acd5-16487c953044",
   "metadata": {},
   "outputs": [],
   "source": [
    "Step 1: Import the required libraries"
   ]
  },
  {
   "cell_type": "code",
   "execution_count": 6,
   "id": "196d4877-a45e-4d43-b087-6c8f68fdb780",
   "metadata": {},
   "outputs": [],
   "source": [
    "import numpy as np\n",
    "import matplotlib.pyplot as plt\n",
    "from sklearn.datasets import load_iris\n",
    "from sklearn.model_selection import train_test_split\n",
    "from sklearn.metrics import accuracy_score"
   ]
  },
  {
   "cell_type": "code",
   "execution_count": null,
   "id": "67f5e776-93d3-4338-a4e1-ef50eb88efd0",
   "metadata": {},
   "outputs": [],
   "source": [
    "Step 2: Load the iris dataset and split it into training and testing sets"
   ]
  },
  {
   "cell_type": "code",
   "execution_count": 7,
   "id": "d086f116-d69c-4415-b4eb-a5b592f22507",
   "metadata": {},
   "outputs": [],
   "source": [
    "iris = load_iris()\n",
    "X = iris.data[:, :2]  # We will only use two features to plot the decision boundaries\n",
    "y = iris.target\n",
    "X_train, X_test, y_train, y_test = train_test_split(X, y, test_size=0.2, random_state=42)"
   ]
  },
  {
   "cell_type": "code",
   "execution_count": null,
   "id": "dff13a12-7698-46a7-9efc-28ae319429cd",
   "metadata": {},
   "outputs": [],
   "source": [
    "Step 3: Implement the linear SVM classifier from scratch"
   ]
  },
  {
   "cell_type": "code",
   "execution_count": 8,
   "id": "2e9cdcf5-1288-48bf-a083-27711f88e822",
   "metadata": {},
   "outputs": [],
   "source": [
    "class LinearSVM:\n",
    "    def __init__(self, lr=0.001, num_iter=1000):\n",
    "        self.lr = lr\n",
    "        self.num_iter = num_iter\n",
    "        self.weights = None\n",
    "        self.bias = None\n",
    "    \n",
    "    def fit(self, X, y):\n",
    "        # Initialize the weights and bias\n",
    "        n_samples, n_features = X.shape\n",
    "        self.weights = np.zeros(n_features)\n",
    "        self.bias = 0\n",
    "        \n",
    "        # Gradient descent\n",
    "        for i in range(self.num_iter):\n",
    "            y_pred = np.dot(X, self.weights) + self.bias\n",
    "            # Loss function with L2 regularization\n",
    "            loss = 1/2 * np.dot(self.weights, self.weights) + \\\n",
    "                   1/n_samples * np.sum(np.maximum(0, 1 - y * y_pred))\n",
    "            \n",
    "            # Compute the gradients\n",
    "            d_weights = np.zeros(n_features)\n",
    "            d_bias = 0\n",
    "            for j in range(n_samples):\n",
    "                if y[j] * y_pred[j] < 1:\n",
    "                    d_weights += -y[j] * X[j]\n",
    "                    d_bias += -y[j]\n",
    "                else:\n",
    "                    d_weights += 0\n",
    "                    d_bias += 0\n",
    "            d_weights /= n_samples\n",
    "            d_bias /= n_samples\n",
    "            \n",
    "            # Update the weights and bias\n",
    "            self.weights -= self.lr * (self.weights + d_weights)\n",
    "            self.bias -= self.lr * d_bias\n",
    "    \n",
    "    def predict(self, X):\n",
    "        y_pred = np.dot(X, self.weights) + self.bias\n",
    "        return np.sign(y_pred)\n"
   ]
  },
  {
   "cell_type": "code",
   "execution_count": null,
   "id": "929f7a6d-57a4-4f6f-89c4-bd890b89dd62",
   "metadata": {},
   "outputs": [],
   "source": [
    "Step 4: Train the linear SVM classifier from scratch and predict the labels for the testing set"
   ]
  },
  {
   "cell_type": "code",
   "execution_count": 9,
   "id": "981441c1-5082-4e26-9199-ddb376497a2a",
   "metadata": {},
   "outputs": [],
   "source": [
    "clf_scratch = LinearSVM(lr=0.001, num_iter=1000)\n",
    "clf_scratch.fit(X_train, y_train)\n",
    "y_pred_scratch = clf_scratch.predict(X_test)"
   ]
  },
  {
   "cell_type": "code",
   "execution_count": null,
   "id": "3f1212c1-1138-4c25-ae1f-0f7dd1828e40",
   "metadata": {},
   "outputs": [],
   "source": [
    "Step 5: Compute the accuracy of the model implemented from scratch and compare it with the scikit-learn \n",
    "implementation"
   ]
  },
  {
   "cell_type": "code",
   "execution_count": 10,
   "id": "afcd38a8-a494-40d7-9e5b-79f8be4629c3",
   "metadata": {},
   "outputs": [
    {
     "name": "stdout",
     "output_type": "stream",
     "text": [
      "Accuracy (scratch): 0.3\n",
      "Accuracy (scikit-learn): 0.9\n"
     ]
    }
   ],
   "source": [
    "accuracy_scratch = accuracy_score(y_test, y_pred_scratch)\n",
    "print(\"Accuracy (scratch):\", accuracy_scratch)\n",
    "\n",
    "# Compare with scikit-learn implementation\n",
    "from sklearn.svm import SVC\n",
    "clf_sklearn = SVC(kernel='linear')\n",
    "clf_sklearn.fit(X_train, y_train)\n",
    "y_pred_sklearn = clf_sklearn.predict(X_test)\n",
    "accuracy_sklearn = accuracy_score(y_test, y_pred_sklearn)\n",
    "print(\"Accuracy (scikit-learn):\", accuracy_sklearn)\n"
   ]
  },
  {
   "cell_type": "code",
   "execution_count": null,
   "id": "04d9702d-ae45-42e4-8f23-06a8236319b4",
   "metadata": {},
   "outputs": [],
   "source": [
    "You can compare the accuracy of the linear SVM classifier implemented from scratch with the scikit-learn \n",
    "implementation to see if it is similar. You can also try different values for the learning rate and number of \n",
    "iterations to see if you can improve the accuracy."
   ]
  },
  {
   "cell_type": "code",
   "execution_count": null,
   "id": "92719df0-a7f1-4cba-bf9b-61359e80869d",
   "metadata": {},
   "outputs": [],
   "source": []
  }
 ],
 "metadata": {
  "kernelspec": {
   "display_name": "Python 3 (ipykernel)",
   "language": "python",
   "name": "python3"
  },
  "language_info": {
   "codemirror_mode": {
    "name": "ipython",
    "version": 3
   },
   "file_extension": ".py",
   "mimetype": "text/x-python",
   "name": "python",
   "nbconvert_exporter": "python",
   "pygments_lexer": "ipython3",
   "version": "3.10.8"
  }
 },
 "nbformat": 4,
 "nbformat_minor": 5
}
