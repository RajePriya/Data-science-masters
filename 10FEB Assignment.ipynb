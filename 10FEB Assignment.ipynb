{
 "cells": [
  {
   "cell_type": "markdown",
   "id": "2da33482-c1fa-4252-9e94-84d53e01dd1f",
   "metadata": {},
   "source": [
    "## FEB10\n",
    "### Assignment"
   ]
  },
  {
   "cell_type": "markdown",
   "id": "a8998f0a-4782-4e99-998f-0e7a5f77e7ae",
   "metadata": {},
   "source": [
    "### Q1"
   ]
  },
  {
   "cell_type": "code",
   "execution_count": null,
   "id": "4b57014b-7ae7-446d-9ffe-aac1deef85f9",
   "metadata": {},
   "outputs": [],
   "source": [
    "Q1. Which function is used to open a file? What are the different modes of opening a file? Explain each mode\n",
    "of file opening."
   ]
  },
  {
   "cell_type": "code",
   "execution_count": null,
   "id": "8bbb71c1-5846-47ae-944b-2d69be855e45",
   "metadata": {},
   "outputs": [],
   "source": [
    "Ans:- Opening a file\n",
    "r - open a file in read mode. w - opens or create a text file in write mode. a - opens a file in append mode. r+ - opens a file in both read and write mode"
   ]
  },
  {
   "cell_type": "code",
   "execution_count": null,
   "id": "9d228ad6-6b87-43b7-9519-a316ddd49833",
   "metadata": {},
   "outputs": [],
   "source": [
    "Different modes of files\n",
    "=> ab - Open for append in binary mode. Data is added to the end of the file.\n",
    "=> r+ - Open for both reading and writing.\n",
    "=> rb+ - Open for both reading and writing in binary mode.\n",
    "=> w+ - Open for both reading and writing.\n",
    "=> wb+ - Open for both reading and writing in binary mode.\n",
    "=> a+ - Open for both reading and appending.\n",
    "=> ab+ - Open for both reading and appending in binary mode."
   ]
  },
  {
   "cell_type": "markdown",
   "id": "00267b72-f33c-4bca-966c-9ff60cccf872",
   "metadata": {},
   "source": [
    "### Q2"
   ]
  },
  {
   "cell_type": "code",
   "execution_count": null,
   "id": "5be492be-1213-4817-98ab-e62aca10d96a",
   "metadata": {},
   "outputs": [],
   "source": [
    "Q2. Why close() function is used? Why is it important to close a file?"
   ]
  },
  {
   "cell_type": "code",
   "execution_count": null,
   "id": "2bf69742-13c3-41c2-b111-546bc82eac23",
   "metadata": {},
   "outputs": [],
   "source": [
    "Ans:- close() is a function used to close a file. It is important to close a file because it releases system resources associated with the file, such as memory and disk space. When a file is not closed properly, the memory associated with it may not be released, potentially causing memory leaks, which can lead to system instability. Additionally, if the file is not closed properly, any changes made to the file may not be saved, meaning any data added or modified may be lost."
   ]
  },
  {
   "cell_type": "markdown",
   "id": "949542e4-f1ec-41fe-abbd-8d5efa25645a",
   "metadata": {},
   "source": [
    "### Q3"
   ]
  },
  {
   "cell_type": "code",
   "execution_count": null,
   "id": "6b400a93-3e80-4ffc-85ad-ca4ad9d796f0",
   "metadata": {},
   "outputs": [],
   "source": [
    "Q3. Write a python program to create a text file. Write ‘I want to become a Data Scientist’ in that file. Then\n",
    "close the file. Open this file and read the content of the file."
   ]
  },
  {
   "cell_type": "code",
   "execution_count": 1,
   "id": "844ed60a-87bf-4819-a942-f8635d71ab50",
   "metadata": {},
   "outputs": [],
   "source": [
    "# Program to create a text file"
   ]
  },
  {
   "cell_type": "code",
   "execution_count": 2,
   "id": "162cb3a9-08e9-4679-bd47-52a9902c40ed",
   "metadata": {},
   "outputs": [],
   "source": [
    "# Creating a file\n",
    "file1 = open(\"myfile.txt\", \"w\") "
   ]
  },
  {
   "cell_type": "code",
   "execution_count": 3,
   "id": "739c869b-ec2d-4145-a7cc-39b20c6fa681",
   "metadata": {},
   "outputs": [
    {
     "data": {
      "text/plain": [
       "33"
      ]
     },
     "execution_count": 3,
     "metadata": {},
     "output_type": "execute_result"
    }
   ],
   "source": [
    "# Writing the content \n",
    "file1.write(\"I want to become a Data Scientist\") "
   ]
  },
  {
   "cell_type": "code",
   "execution_count": 4,
   "id": "4b0ca76a-f50a-4525-9c42-b8ded17e1f5c",
   "metadata": {},
   "outputs": [],
   "source": [
    "# Closing the file\n",
    "file1.close() \n"
   ]
  },
  {
   "cell_type": "code",
   "execution_count": 5,
   "id": "4b261473-b4d8-4970-8044-a146d83a5314",
   "metadata": {},
   "outputs": [],
   "source": [
    "# Opening the file\n",
    "file2 = open(\"myfile.txt\", \"r\") "
   ]
  },
  {
   "cell_type": "code",
   "execution_count": 6,
   "id": "e1bff334-98b9-43ff-9353-d95772b60d22",
   "metadata": {},
   "outputs": [],
   "source": [
    "# Reading the content\n",
    "content = file2.read() \n"
   ]
  },
  {
   "cell_type": "code",
   "execution_count": 7,
   "id": "919df0e2-4344-49ca-888a-f62e47a882d5",
   "metadata": {},
   "outputs": [
    {
     "name": "stdout",
     "output_type": "stream",
     "text": [
      "Content of the file is: \n",
      "I want to become a Data Scientist\n"
     ]
    }
   ],
   "source": [
    "# Printing the content\n",
    "print(\"Content of the file is: \") \n",
    "print(content) "
   ]
  },
  {
   "cell_type": "code",
   "execution_count": 8,
   "id": "453dcf1b-6f83-4495-a4df-e6243f46fd13",
   "metadata": {},
   "outputs": [],
   "source": [
    "# Closing the file\n",
    "file2.close()"
   ]
  },
  {
   "cell_type": "markdown",
   "id": "c6534d34-96ee-4bca-812e-8c1469043514",
   "metadata": {},
   "source": [
    "### Q4"
   ]
  },
  {
   "cell_type": "code",
   "execution_count": null,
   "id": "3c330425-552b-4b1a-b4ef-a32e469a752d",
   "metadata": {},
   "outputs": [],
   "source": [
    "Q4. Explain the following with python code: read(), readline() and readlines()."
   ]
  },
  {
   "cell_type": "code",
   "execution_count": null,
   "id": "9693e738-e785-4ca2-a79a-2d40f88c3832",
   "metadata": {},
   "outputs": [],
   "source": [
    "Ans:- Python readline() method will return a line from the file when called. readlines() method will return all the lines in a file in the format of a list where each element is a line in the file"
   ]
  },
  {
   "cell_type": "markdown",
   "id": "e2c28edd-41e4-4fe2-a2bb-f656bc9db670",
   "metadata": {},
   "source": [
    "### Q5"
   ]
  },
  {
   "cell_type": "code",
   "execution_count": null,
   "id": "82de74ae-7ed2-4be9-b29e-fcbf6d5f1656",
   "metadata": {},
   "outputs": [],
   "source": [
    "Q5. Explain why with statement is used with open(). What is the advantage of using with statement and\n",
    "open() together?"
   ]
  },
  {
   "cell_type": "code",
   "execution_count": null,
   "id": "dea260d1-8bd3-4572-a650-548e79dae99a",
   "metadata": {},
   "outputs": [],
   "source": [
    "Ans:- The with statement in Python is used in combination with open() to work with files. It provides a convenient way of ensuring that the file is properly closed after being used.\n",
    "\n",
    "When open() is used without the with statement, you must manually close the file when you are finished with it. If the file is not closed properly, it can lead to memory leaks and other \n",
    "issues. However, when you use open() with with statement, the file is automatically closed when the block of code under the with statement is exited.\n",
    "\n",
    "The advantage of using the with statement with open() is that it makes your code more concise and easier to read, while also reducing the risk of errors. Additionally, it guarantees that \n",
    "the file will be closed properly, even if an error occurs while the file is being read or written. This can help to prevent data corruption or loss.\n"
   ]
  },
  {
   "cell_type": "markdown",
   "id": "886a1cbe-aa69-4a1d-8706-f76766363a54",
   "metadata": {},
   "source": [
    "### Q6"
   ]
  },
  {
   "cell_type": "code",
   "execution_count": null,
   "id": "ccf602dc-1e11-4638-bf89-5e2da7a83b49",
   "metadata": {},
   "outputs": [],
   "source": [
    "Ans:- The write() function is a method in Python that writes a string to a file. It takes a single argument, the string to be written, and returns the number of characters written. \n",
    "If the file doesn't exist, it will be created, and if it does exist, the new data will overwrite the old data.\n",
    "\n",
    "The writelines() function is a method in Python that writes a sequence of strings to a file. It takes an iterable (e.g. list, tuple) of strings as its argument and writes each string to the file.\n",
    "Each string is written on a separate line in the file.\n",
    "\n",
    "Here's an example of using these functions:"
   ]
  },
  {
   "cell_type": "code",
   "execution_count": null,
   "id": "08d853de-884a-428e-81b4-e857fff25e44",
   "metadata": {},
   "outputs": [],
   "source": [
    "# using write() function\n",
    "with open('example.txt', 'w') as f:\n",
    "    f.write('Hello World!')\n",
    "    \n",
    "# using writelines() function\n",
    "with open('example.txt', 'a') as f:\n",
    "    lines = ['This is the first line\\n', 'This is the second line\\n']\n",
    "    f.writelines(lines)\n"
   ]
  },
  {
   "cell_type": "code",
   "execution_count": null,
   "id": "2bbbd7bb-d7cf-4f64-9ad9-64999b9b3f74",
   "metadata": {},
   "outputs": [],
   "source": [
    "In the above example, we first use the write() function to write the string \"Hello World!\" to a new file called \"example.txt\". Then, we use the writelines() function to append two lines to the end of the file.\n",
    "The lines are passed as a list of strings, each ending with a newline character, to ensure they are written on separate lines in the file."
   ]
  },
  {
   "cell_type": "code",
   "execution_count": null,
   "id": "d5bf7b30-86d0-4d9c-963d-4cd439a46fb1",
   "metadata": {},
   "outputs": [],
   "source": []
  }
 ],
 "metadata": {
  "kernelspec": {
   "display_name": "Python 3 (ipykernel)",
   "language": "python",
   "name": "python3"
  },
  "language_info": {
   "codemirror_mode": {
    "name": "ipython",
    "version": 3
   },
   "file_extension": ".py",
   "mimetype": "text/x-python",
   "name": "python",
   "nbconvert_exporter": "python",
   "pygments_lexer": "ipython3",
   "version": "3.10.8"
  }
 },
 "nbformat": 4,
 "nbformat_minor": 5
}
