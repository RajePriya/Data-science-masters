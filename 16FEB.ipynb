{
 "cells": [
  {
   "cell_type": "markdown",
   "id": "8da2916b-4276-46ab-ba45-d867013f3b0f",
   "metadata": {},
   "source": [
    "## 16FEB\n",
    "### ASSIGNMENT"
   ]
  },
  {
   "cell_type": "markdown",
   "id": "3f277bc3-984d-49c0-9ed2-bd9b9403914d",
   "metadata": {},
   "source": [
    "### Q1"
   ]
  },
  {
   "cell_type": "code",
   "execution_count": null,
   "id": "719b2cbf-4caa-4e8f-acff-7e1da3e63a55",
   "metadata": {},
   "outputs": [],
   "source": [
    "Q1. What is a database? Differentiate between SQL and NoSQL databases."
   ]
  },
  {
   "cell_type": "code",
   "execution_count": null,
   "id": "15be646e-3fbf-4364-931b-7c44e8fbce70",
   "metadata": {},
   "outputs": [],
   "source": [
    "Ans:- \n",
    "A database is a structured collection of data that is organized and stored in a way that enables efficient \n",
    "retrieval and manipulation of the data. Databases are commonly used in many areas of computing, including business,\n",
    "science, and entertainment.\n",
    "\n",
    "There are two main types of databases: SQL and NoSQL.\n",
    "\n",
    "SQL databases, also known as relational databases, store data in tables with rows and columns, where each row \n",
    "represents a unique record and each column represents a specific piece of data. The tables are then linked to \n",
    "each other using relationships defined by foreign keys. SQL databases use a query language called Structured Query\n",
    "Language (SQL) to access and manipulate the data. Examples of SQL databases include MySQL, Oracle, and Microsoft\n",
    "SQL Server.\n",
    "\n",
    "NoSQL databases, on the other hand, are non-relational and do not store data in tables. Instead, they use various \n",
    "data models, including document-oriented, key-value, column-oriented, and graph-based models, to store data in a\n",
    "flexible and scalable way. NoSQL databases typically offer better performance and scalability than SQL databases,\n",
    "making them a popular choice for handling large amounts of unstructured data. However, NoSQL databases may not \n",
    "offer the same level of consistency and reliability as SQL databases. Examples of NoSQL databases include MongoDB,\n",
    "Cassandra, and Amazon DynamoDB.\n",
    "\n",
    "The choice between SQL and NoSQL databases depends on the specific requirements of the application, such as the\n",
    "type and volume of data, the need for scalability, and the desired level of consistency and reliability. SQL \n",
    "databases are often a good choice for applications that require strong consistency and structured data, while\n",
    "NoSQL databases are often a good choice for applications that require flexibility, scalability, and handling of\n",
    "unstructured data."
   ]
  },
  {
   "cell_type": "markdown",
   "id": "df3b3591-3b66-4c61-9802-c1fa096f7d11",
   "metadata": {},
   "source": [
    "### Q2"
   ]
  },
  {
   "cell_type": "code",
   "execution_count": null,
   "id": "a349e1ee-156c-4d32-8d11-a8cad66af0e1",
   "metadata": {},
   "outputs": [],
   "source": [
    "Q2. What is DDL? Explain why CREATE, DROP, ALTER, and TRUNCATE are used with an example."
   ]
  },
  {
   "cell_type": "code",
   "execution_count": null,
   "id": "977746eb-b7b2-4ad7-b0c0-90de1087e978",
   "metadata": {},
   "outputs": [],
   "source": [
    "DDL stands for Data Definition Language, which is a subset of SQL used to define and manage the structure of a \n",
    "database. DDL statements are used to create, modify, and delete database objects, such as tables, indexes, and\n",
    "views.\n",
    "\n",
    "Here are some examples of DDL statements and how they are used:\n",
    "\n",
    "=> CREATE statement: The CREATE statement is used to create a new database object, such as a table or view. \n",
    "For example, to create a new table called \"employees\" with columns for employee ID, name, and salary, the\n",
    "following SQL code could be used:"
   ]
  },
  {
   "cell_type": "code",
   "execution_count": null,
   "id": "ff6fa1a2-b00a-41f3-957b-6774b964c12a",
   "metadata": {},
   "outputs": [],
   "source": [
    "CREATE TABLE employees (\n",
    "   employee_id INT PRIMARY KEY,\n",
    "   name VARCHAR(50) NOT NULL,\n",
    "   salary DECIMAL(10,2) NOT NULL\n",
    ");\n"
   ]
  },
  {
   "cell_type": "code",
   "execution_count": null,
   "id": "67428caf-d525-4a41-844a-ebbf90a9b189",
   "metadata": {},
   "outputs": [],
   "source": [
    "=> DROP statement: The DROP statement is used to delete an existing database object, such as a table or view. \n",
    "For example, to delete the \"employees\" table created above, the following SQL code could be used:"
   ]
  },
  {
   "cell_type": "code",
   "execution_count": null,
   "id": "27777f7b-0b49-40c4-b0c1-689a118b773e",
   "metadata": {},
   "outputs": [],
   "source": [
    "DROP TABLE employees;"
   ]
  },
  {
   "cell_type": "code",
   "execution_count": null,
   "id": "51ba2f1d-d361-43d7-ab39-4fcafd7ddd8e",
   "metadata": {},
   "outputs": [],
   "source": [
    "=> ALTER statement: The ALTER statement is used to modify an existing database object, such as adding or deleting \n",
    "columns in a table. For example, to add a new column called \"department\" to the \"employees\" table created above, \n",
    "the following SQL code could be used:"
   ]
  },
  {
   "cell_type": "code",
   "execution_count": null,
   "id": "e18098f3-87e5-4e26-b77b-10aa454fbf32",
   "metadata": {},
   "outputs": [],
   "source": [
    "ALTER TABLE employees ADD COLUMN department VARCHAR(50);"
   ]
  },
  {
   "cell_type": "code",
   "execution_count": null,
   "id": "ddac0599-9c5b-458e-b690-7ac1eded5e22",
   "metadata": {},
   "outputs": [],
   "source": [
    "=> TRUNCATE statement: The TRUNCATE statement is used to remove all data from a table while keeping the table \n",
    "structure intact. For example, to remove all data from the \"employees\" table created above, the following SQL code\n",
    "could be used:"
   ]
  },
  {
   "cell_type": "code",
   "execution_count": null,
   "id": "2f263331-557f-4f1d-9132-fdf38062c76d",
   "metadata": {},
   "outputs": [],
   "source": [
    "TRUNCATE TABLE employees;"
   ]
  },
  {
   "cell_type": "code",
   "execution_count": null,
   "id": "f6890357-f576-41f3-8964-a0b2bd54b51b",
   "metadata": {},
   "outputs": [],
   "source": [
    "In summary, DDL statements are used to define and manage the structure of a database, including creating,\n",
    "modifying, and deleting database objects. CREATE is used to create a new object, DROP is used to delete an object,\n",
    "ALTER is used to modify an object, and TRUNCATE is used to remove all data from an object while keeping the \n",
    "structure intact."
   ]
  },
  {
   "cell_type": "markdown",
   "id": "9814c2fe-2dd6-4e37-91cb-3cfab819875d",
   "metadata": {},
   "source": [
    "### Q3"
   ]
  },
  {
   "cell_type": "code",
   "execution_count": null,
   "id": "95746e48-e035-4d5b-bc93-ad75f7bbf903",
   "metadata": {},
   "outputs": [],
   "source": [
    "Q3. What is DML? Explain INSERT, UPDATE, and DELETE with an example."
   ]
  },
  {
   "cell_type": "code",
   "execution_count": null,
   "id": "784f9a4e-c8a7-4bcd-988f-4e6a0ad6aa54",
   "metadata": {},
   "outputs": [],
   "source": [
    "Ans:- DML stands for Data Manipulation Language, which is a subset of SQL used to manipulate data within a\n",
    "database. DML statements are used to insert, update, and delete data in database tables.\n",
    "\n",
    "Here are some examples of DML statements and how they are used:\n",
    "\n",
    "=> INSERT statement: The INSERT statement is used to add new data to a table. For example, to add a new employee \n",
    "to the \"employees\" table created in the previous question, the following SQL code could be used:"
   ]
  },
  {
   "cell_type": "code",
   "execution_count": null,
   "id": "7e2315a5-7ad8-437b-937d-42af2d041cc8",
   "metadata": {},
   "outputs": [],
   "source": [
    "INSERT INTO employees (employee_id, name, salary, department) VALUES (1, 'John Doe', 50000.00, 'Sales');"
   ]
  },
  {
   "cell_type": "code",
   "execution_count": null,
   "id": "39ab6c71-a3e1-4b45-b971-f921dd16b59b",
   "metadata": {},
   "outputs": [],
   "source": [
    "This statement will add a new row to the \"employees\" table with the values for the columns specified in the \n",
    "parentheses.\n",
    "\n",
    "=> UPDATE statement: The UPDATE statement is used to modify existing data in a table. For example, to update the\n",
    "salary of the employee with the ID of 1 in the \"employees\" table, the following SQL code could be used:"
   ]
  },
  {
   "cell_type": "code",
   "execution_count": null,
   "id": "71045118-0259-4ab7-aeb4-44e8d3f94637",
   "metadata": {},
   "outputs": [],
   "source": [
    "UPDATE employees SET salary = 60000.00 WHERE employee_id = 1;"
   ]
  },
  {
   "cell_type": "code",
   "execution_count": null,
   "id": "047a3ff1-144b-4574-8bb9-684dcd3cb3ee",
   "metadata": {},
   "outputs": [],
   "source": [
    "This statement will update the \"salary\" column for the row where the \"employee_id\" is equal to 1.\n",
    "\n",
    "=> DELETE statement: The DELETE statement is used to remove data from a table. For example, to remove the\n",
    "employee with the ID of 1 from the \"employees\" table, the following SQL code could be used:"
   ]
  },
  {
   "cell_type": "code",
   "execution_count": null,
   "id": "35f60be6-816b-4bfe-8c5e-5c6c0c8f28fc",
   "metadata": {},
   "outputs": [],
   "source": [
    "DELETE FROM employees WHERE employee_id = 1;"
   ]
  },
  {
   "cell_type": "code",
   "execution_count": null,
   "id": "c670b367-e28f-4a9d-a366-210984bc6fcd",
   "metadata": {},
   "outputs": [],
   "source": [
    "This statement will delete the row where the \"employee_id\" is equal to 1.\n",
    "\n",
    "In summary, DML statements are used to manipulate data within a database, including inserting new data with \n",
    "NSERT, updating existing data with UPDATE, and deleting data with DELETE. These statements are essential for \n",
    "managing the data in a database and are often used in conjunction with DDL statements to manage the structure \n",
    "and contents of a database."
   ]
  },
  {
   "cell_type": "markdown",
   "id": "59afd76a-eaf1-49ff-866b-97f302c1c944",
   "metadata": {},
   "source": [
    "### Q4"
   ]
  },
  {
   "cell_type": "code",
   "execution_count": null,
   "id": "bfc74bc3-dc4d-417f-b3cb-09f2970d7f3a",
   "metadata": {},
   "outputs": [],
   "source": [
    "Q4. What is DQL? Explain SELECT with an example."
   ]
  },
  {
   "cell_type": "code",
   "execution_count": null,
   "id": "ac2b4352-106f-4349-8fb1-3e3d9aa6375b",
   "metadata": {},
   "outputs": [],
   "source": [
    "Ans:- DQL stands for Data Query Language, which is a subset of SQL used to retrieve data from a database. \n",
    "QL statements are used to query the data stored in database tables.\n",
    "\n",
    "The most commonly used DQL statement is the SELECT statement. Here is an example of how the SELECT statement can \n",
    "be used to retrieve data from a table:"
   ]
  },
  {
   "cell_type": "code",
   "execution_count": null,
   "id": "d8f75765-8370-4e15-8a24-bff707087842",
   "metadata": {},
   "outputs": [],
   "source": [
    "SELECT * FROM employees;"
   ]
  },
  {
   "cell_type": "code",
   "execution_count": null,
   "id": "1e12ebe2-052c-4c25-b199-2375cf00958b",
   "metadata": {},
   "outputs": [],
   "source": [
    "This statement will retrieve all data from the \"employees\" table. The asterisk (*) is a wildcard character that \n",
    "represents all columns in the table.\n",
    "\n",
    "Here is another example of the SELECT statement that retrieves specific columns from a table and filters the \n",
    "results based on a condition:"
   ]
  },
  {
   "cell_type": "code",
   "execution_count": null,
   "id": "1dbdf0f2-332d-4d75-a307-5bb9edf77f86",
   "metadata": {},
   "outputs": [],
   "source": [
    "SELECT name, salary FROM employees WHERE department = 'Sales';"
   ]
  },
  {
   "cell_type": "code",
   "execution_count": null,
   "id": "8756363c-3556-45a1-af80-6021834e5cf1",
   "metadata": {},
   "outputs": [],
   "source": [
    "This statement will retrieve the \"name\" and \"salary\" columns from the \"employees\" table for all rows where the\n",
    "\"department\" column is equal to 'Sales'.\n",
    "\n",
    "The SELECT statement can also be used with various SQL functions to perform calculations, formatting, and other \n",
    "operations on the data being retrieved. Here is an example of using the COUNT function to retrieve the number of \n",
    "employees in the \"employees\" table:"
   ]
  },
  {
   "cell_type": "code",
   "execution_count": null,
   "id": "1ef5fdfd-7506-4b3d-81bd-29386d671455",
   "metadata": {},
   "outputs": [],
   "source": [
    "SELECT COUNT(*) FROM employees;"
   ]
  },
  {
   "cell_type": "code",
   "execution_count": null,
   "id": "edb2781e-e65e-46b5-a59f-b0337c89c0ce",
   "metadata": {},
   "outputs": [],
   "source": [
    "This statement will return a single value that represents the number of rows in the \"employees\" table.\n",
    "\n",
    "In summary, DQL statements are used to retrieve data from a database, with the most commonly used statement being \n",
    "the SELECT statement. The SELECT statement can be used to retrieve all data from a table, specific columns from a\n",
    "table, and filtered data based on conditions, and it can be used with various SQL functions to perform calculations\n",
    "and other operations on the retrieved data."
   ]
  },
  {
   "cell_type": "markdown",
   "id": "525b29e3-97eb-41bf-921c-7eb0229c7ebb",
   "metadata": {},
   "source": [
    "### Q5"
   ]
  },
  {
   "cell_type": "code",
   "execution_count": null,
   "id": "cd5889f5-a085-4c8a-ba83-96b7c4a3bb3a",
   "metadata": {},
   "outputs": [],
   "source": [
    "Q5. Explain Primary Key and Foreign Key."
   ]
  },
  {
   "cell_type": "code",
   "execution_count": null,
   "id": "99893948-2789-4f3e-b36b-03bfdc001d9c",
   "metadata": {},
   "outputs": [],
   "source": [
    "Ans:- Primary Key and Foreign Key are important concepts in database design that define relationships between \n",
    "tables.\n",
    "\n",
    "A Primary Key is a column or set of columns that uniquely identify each row in a table. The values in a primary\n",
    "key column must be unique and cannot be null. A primary key is used to ensure that each row in a table is unique \n",
    "and can be accessed quickly and efficiently.\n",
    "\n",
    "For example, consider a table named \"students\" that contains information about students in a school. Each student \n",
    "has a unique student ID, so the \"student_id\" column can be designated as the primary key for the \"students\" table.\n",
    "\n",
    "A Foreign Key is a column or set of columns that links two tables together. The foreign key column in one table \n",
    "refers to the primary key column in another table. This relationship is used to ensure data consistency and \n",
    "integrity, as it ensures that data in one table matches the data in another table.\n",
    "\n",
    "For example, consider a table named \"enrollments\" that contains information about which students are enrolled in \n",
    "which courses. The \"enrollments\" table might have a column named \"student_id\" that refers to the \"student_id\" \n",
    "column in the \"students\" table. This establishes a relationship between the \"enrollments\" table and the \"students\"\n",
    "table, allowing data to be easily retrieved from both tables.\n",
    "\n",
    "Here's an example of how the \"enrollments\" table might look:"
   ]
  },
  {
   "cell_type": "code",
   "execution_count": null,
   "id": "aed30adf-1acd-4ad7-aeb9-ba6ad2c57226",
   "metadata": {},
   "outputs": [],
   "source": [
    "enrollment_id\tcourse_id\tstudent_id\n",
    "     1\t           101\t      1234\n",
    "     2\t           102\t      5678\n",
    "     3\t           103\t      9012"
   ]
  },
  {
   "cell_type": "code",
   "execution_count": null,
   "id": "8da459fb-c1af-4818-8cab-702d8862977a",
   "metadata": {},
   "outputs": [],
   "source": [
    "In this example, the \"student_id\" column in the \"enrollments\" table is a foreign key that refers to the primary \n",
    "key in the \"students\" table. This relationship ensures that the data in the \"enrollments\" table is consistent with \n",
    "the data in the \"students\" table, as it ensures that each value in the \"student_id\" column in the \"enrollments\" \n",
    "table corresponds to a valid student ID in the \"students\" table.\n",
    "\n",
    "In summary, a primary key is used to uniquely identify rows in a table, while a foreign key is used to establish\n",
    "relationships between tables by linking a column in one table to the primary key column in another table."
   ]
  },
  {
   "cell_type": "markdown",
   "id": "19ecf587-e403-437a-aed3-7ce38446376f",
   "metadata": {},
   "source": [
    "### Q6"
   ]
  },
  {
   "cell_type": "code",
   "execution_count": null,
   "id": "d654c42c-d333-4a96-ad0f-dc56bf25df8c",
   "metadata": {},
   "outputs": [],
   "source": [
    "Q6. Write a python code to connect MySQL to python. Explain the cursor() and execute() method."
   ]
  },
  {
   "cell_type": "code",
   "execution_count": null,
   "id": "098daa29-c731-40da-ac11-f8e3c5dd5f78",
   "metadata": {},
   "outputs": [],
   "source": [
    "Ans:- To connect MySQL to Python, we first need to install the mysql-connector-python library. We can install it\n",
    "using pip by running the following command in the terminal:"
   ]
  },
  {
   "cell_type": "code",
   "execution_count": null,
   "id": "2fd80805-714f-4986-a1d4-abdd26f43644",
   "metadata": {},
   "outputs": [],
   "source": [
    "pip install mysql-connector-python"
   ]
  },
  {
   "cell_type": "code",
   "execution_count": null,
   "id": "7a107497-e422-4d71-983a-52cae02203cf",
   "metadata": {},
   "outputs": [],
   "source": [
    "Once we have installed the library, we can use the following Python code to connect to a MySQL database:"
   ]
  },
  {
   "cell_type": "code",
   "execution_count": null,
   "id": "e60a54b9-2c83-4f23-9584-5e2faf988dd6",
   "metadata": {},
   "outputs": [],
   "source": [
    "import mysql.connector\n",
    "\n",
    "# create a connection object\n",
    "mydb = mysql.connector.connect(\n",
    "  host=\"localhost\",\n",
    "  user=\"username\",\n",
    "  password=\"password\",\n",
    "  database=\"mydatabase\"\n",
    ")\n",
    "\n",
    "# create a cursor object\n",
    "mycursor = mydb.cursor()\n",
    "\n",
    "# execute a SQL query\n",
    "mycursor.execute(\"SELECT * FROM customers\")\n",
    "\n",
    "# fetch all rows of the result set\n",
    "results = mycursor.fetchall()\n",
    "\n",
    "# print the results\n",
    "for row in results:\n",
    "    print(row)\n"
   ]
  },
  {
   "cell_type": "code",
   "execution_count": null,
   "id": "a630b0c5-5379-4c26-9b68-fc246ad08a12",
   "metadata": {},
   "outputs": [],
   "source": [
    "In the code above, we first create a connection object using the mysql.connector.connect() method, passing in the \n",
    "host, username, password, and database name as parameters.\n",
    "\n",
    "We then create a cursor object using the cursor() method of the connection object. The cursor object is used to \n",
    "execute SQL queries and fetch the results.\n",
    "\n",
    "Next, we execute a SQL query using the execute() method of the cursor object. The query in this example selects \n",
    "all rows from the \"customers\" table.\n",
    "\n",
    "After executing the query, we fetch all rows of the result set using the fetchall() method of the cursor object. \n",
    "We can then loop through the results and print each row.\n",
    "\n",
    "The cursor() method creates a cursor object, which is used to execute SQL queries and fetch results from a \n",
    "database. The execute() method of the cursor object is used to execute a SQL query. It takes a SQL query string \n",
    "as a parameter and returns None. Once a query has been executed, we can use methods like fetchone(), fetchall(), \n",
    "and fetchmany() to fetch the results of the query.\n",
    "\n",
    "In summary, the cursor() method is used to create a cursor object, and the execute() method is used to execute a \n",
    "SQL query on the database."
   ]
  },
  {
   "cell_type": "markdown",
   "id": "b9a6bd20-668d-45e8-b1d5-529d7bc1932f",
   "metadata": {},
   "source": [
    "### Q7"
   ]
  },
  {
   "cell_type": "code",
   "execution_count": null,
   "id": "68116275-6aff-4846-b965-12513f9258c1",
   "metadata": {},
   "outputs": [],
   "source": [
    "Q7. Give the order of execution of SQL clauses in an SQL query."
   ]
  },
  {
   "cell_type": "code",
   "execution_count": null,
   "id": "b5b6dc14-7b4f-4cb1-818e-fa35a4a75265",
   "metadata": {},
   "outputs": [],
   "source": [
    "Ans:- The order of execution of SQL clauses in an SQL query can be summarized as follows:\n",
    "\n",
    "=> FROM clause: The FROM clause is executed first, which specifies the table or tables from which data will be \n",
    "retrieved.\n",
    "\n",
    "=> WHERE clause: The WHERE clause is executed next, which filters the rows returned by the FROM clause based on a \n",
    "specified condition.\n",
    "\n",
    "=> GROUP BY clause: The GROUP BY clause is executed next, which groups the rows returned by the WHERE clause based\n",
    "on one or more columns.\n",
    "\n",
    "=> HAVING clause: The HAVING clause is executed next, which filters the grouped rows based on a specified condition.\n",
    "\n",
    "=> SELECT clause: The SELECT clause is executed next, which specifies the columns to be returned in the result set.\n",
    "\n",
    "=> DISTINCT clause: If the DISTINCT keyword is used in the SELECT clause, duplicate rows are removed from the result\n",
    "set.\n",
    "\n",
    "=> ORDER BY clause: The ORDER BY clause is executed next, which sorts the result set based on one or more columns.\n",
    "\n",
    "=>LIMIT clause: If the LIMIT keyword is used, the result set is limited to a specified number of rows.\n",
    "\n",
    "Note that some clauses, such as the WHERE and HAVING clauses, can be used multiple times in a single query to \n",
    "further filter the result set. The order of execution may also be affected by the use of subqueries or joins.\n",
    "\n",
    "Overall, understanding the order of execution of SQL clauses is important for optimizing query performance and \n",
    "ensuring that the correct data is retrieved from the database."
   ]
  },
  {
   "cell_type": "code",
   "execution_count": null,
   "id": "8f4dc5b1-ee83-489e-8941-e7ecee960db8",
   "metadata": {},
   "outputs": [],
   "source": []
  }
 ],
 "metadata": {
  "kernelspec": {
   "display_name": "Python 3 (ipykernel)",
   "language": "python",
   "name": "python3"
  },
  "language_info": {
   "codemirror_mode": {
    "name": "ipython",
    "version": 3
   },
   "file_extension": ".py",
   "mimetype": "text/x-python",
   "name": "python",
   "nbconvert_exporter": "python",
   "pygments_lexer": "ipython3",
   "version": "3.10.8"
  }
 },
 "nbformat": 4,
 "nbformat_minor": 5
}
