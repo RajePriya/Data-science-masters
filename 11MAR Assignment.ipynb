{
 "cells": [
  {
   "cell_type": "markdown",
   "id": "4cc25d2c-3389-4e4f-89a8-21775f653f1d",
   "metadata": {},
   "source": [
    "## 11MAR\n",
    "### Assignment"
   ]
  },
  {
   "cell_type": "markdown",
   "id": "ef31ee11-3632-423c-923e-7008e7d1e3c3",
   "metadata": {},
   "source": [
    "### Q1"
   ]
  },
  {
   "cell_type": "code",
   "execution_count": null,
   "id": "d953b96b-99f0-45e3-b37f-c82a1405f2c3",
   "metadata": {},
   "outputs": [],
   "source": [
    "Q1: What is the difference between a t-test and a z-test? Provide an example scenario where you would\n",
    "use each type of test."
   ]
  },
  {
   "cell_type": "code",
   "execution_count": null,
   "id": "e4fefc3a-8846-4492-a6a5-f953e9d48aed",
   "metadata": {},
   "outputs": [],
   "source": [
    "Ans:- The key difference between a t-test and a z-test is the type of data being analyzed. A t-test is used when the sample size is small \n",
    "(typically less than 30), and the population standard deviation is unknown. On the other hand, a z-test is used when the sample size is large\n",
    "(typically greater than 30), and the population standard deviation is known.\n",
    "\n",
    "In a t-test, we use the t-distribution to calculate the probability of obtaining a particular sample mean, given the null hypothesis that the \n",
    "population mean is a specific value. A t-test is commonly used to compare the means of two groups, such as testing whether there is a significant\n",
    "difference between the average test scores of two classes.\n",
    "\n",
    "In a z-test, we use the standard normal distribution to calculate the probability of obtaining a particular sample mean, given the null \n",
    "hypothesis that the population mean is a specific value. A z-test is commonly used to test hypotheses about population proportions, such as \n",
    "whether the proportion of people who prefer a particular brand of soda is greater than a specified value.\n",
    "\n",
    "Example scenario for t-test:\n",
    "\n",
    "Suppose we want to compare the average height of male students and female students in a school. We can collect a sample of 20 male students \n",
    "and 20 female students, and we want to test if there is a significant difference between the two groups. In this case, we would use a two-sample\n",
    "t-test to compare the means of the two groups.\n",
    "\n",
    "Example scenario for z-test:\n",
    "\n",
    "Suppose we want to test the hypothesis that the proportion of adults who own a smartphone is 75%. We can collect a sample of 1000 adults and\n",
    "find that 760 of them own a smartphone. In this case, we can use a z-test to test if the sample proportion is significantly different from 0.75.\n"
   ]
  },
  {
   "cell_type": "markdown",
   "id": "b288a9d7-3397-4571-8fee-047f23707abd",
   "metadata": {},
   "source": [
    "### Q2"
   ]
  },
  {
   "cell_type": "code",
   "execution_count": null,
   "id": "f52071f8-990a-4246-a2b0-f46ecaa1cc3d",
   "metadata": {},
   "outputs": [],
   "source": [
    "Q2: Differentiate between one-tailed and two-tailed tests."
   ]
  },
  {
   "cell_type": "code",
   "execution_count": null,
   "id": "8f00c5fd-5207-4ecf-b3be-9cc4c2be8130",
   "metadata": {},
   "outputs": [],
   "source": [
    "Ans:- One-tailed and two-tailed tests are two types of hypothesis tests used in statistics.\n",
    "\n",
    "A one-tailed test is a statistical test where the alternative hypothesis is directional, meaning it specifies either an increase or a decrease \n",
    "in the parameter being tested. In other words, the alternative hypothesis only considers one direction of change in the population parameter.\n",
    "\n",
    "For example, if we want to test if a new drug reduces blood pressure, a one-tailed test would have the alternative hypothesis: \"The new drug \n",
    "reduces blood pressure\" (directional).\n",
    "\n",
    "A two-tailed test is a statistical test where the alternative hypothesis is non-directional, meaning it specifies only that there is a difference\n",
    "between the sample statistic and the population parameter, but not the direction of that difference. In other words, the alternative hypothesis \n",
    "considers both directions of change in the population parameter.\n",
    "\n",
    "For example, if we want to test if the mean weight of oranges is different from a known value, a two-tailed test would have the alternative \n",
    "hypothesis: \"The mean weight of oranges is not equal to the known value\" (non-directional).\n",
    "\n",
    "The choice between a one-tailed test and a two-tailed test depends on the specific research question and the nature of the alternative \n",
    "hypothesis. If the research question is directional and we have a specific expectation about the direction of the effect, we would use a \n",
    "one-tailed test. If the research question is non-directional or we do not have any specific expectation about the direction of the effect,\n",
    "we would use a two-tailed test."
   ]
  },
  {
   "cell_type": "markdown",
   "id": "a143418c-cdaf-4ee7-9aaa-234dc22195be",
   "metadata": {},
   "source": [
    "### Q3"
   ]
  },
  {
   "cell_type": "code",
   "execution_count": null,
   "id": "afdf7b63-3d05-499e-9918-e734f300c2f6",
   "metadata": {},
   "outputs": [],
   "source": [
    "Q3: Explain the concept of Type 1 and Type 2 errors in hypothesis testing. Provide an example scenario for\n",
    "each type of error."
   ]
  },
  {
   "cell_type": "code",
   "execution_count": null,
   "id": "0792e945-4454-4105-b0d2-4a67c5558152",
   "metadata": {},
   "outputs": [],
   "source": [
    "Ans:- In hypothesis testing, we set up null and alternative hypotheses and test the null hypothesis based on the sample data. Type I and Type \n",
    "II errors are two possible errors that can occur in hypothesis testing.\n",
    "\n",
    "Type I error, also known as a false positive, occurs when we reject the null hypothesis when it is actually true. In other words, we conclude\n",
    "that there is a significant difference or effect when in reality there is none. Type I error is usually denoted by the symbol alpha (α), which \n",
    "represents the level of significance of the test.\n",
    "\n",
    "Example scenario for Type I error:\n",
    "\n",
    "Suppose we are testing the hypothesis that a new drug reduces blood pressure. We set the significance level at 0.05 (α = 0.05). If we reject the\n",
    "null hypothesis and conclude that the drug reduces blood pressure when in fact it does not, we have made a Type I error. This means we have \n",
    "concluded that the drug is effective when in reality it is not.\n",
    "\n",
    "Type II error, also known as a false negative, occurs when we fail to reject the null hypothesis when it is actually false. In other words, we \n",
    "conclude that there is no significant difference or effect when in reality there is one. Type II error is usually denoted by the symbol beta \n",
    "(β), which represents the probability of making a Type II error.\n",
    "\n",
    "Example scenario for Type II error:\n",
    "\n",
    "Suppose we are testing the hypothesis that a new drug reduces blood pressure. We set the significance level at 0.05 (α = 0.05). If we fail to \n",
    "reject the null hypothesis and conclude that the drug does not reduce blood pressure when in fact it does, we have made a Type II error. This\n",
    "means we have concluded that the drug is not effective when in reality it is.\n",
    "\n",
    "In summary, Type I error occurs when we reject the null hypothesis when it is actually true, and Type II error occurs when we fail to reject \n",
    "the null hypothesis when it is actually false. The significance level of the test (α) and the power of the test (1-β) are used to control the \n",
    "probabilities of Type I and Type II errors in hypothesis testing."
   ]
  },
  {
   "cell_type": "markdown",
   "id": "56e1824a-be89-43fc-8e32-1a26092cfc95",
   "metadata": {},
   "source": [
    "### Q4"
   ]
  },
  {
   "cell_type": "code",
   "execution_count": null,
   "id": "b6b0080b-2eee-4b1d-a907-2be09d9cfee1",
   "metadata": {},
   "outputs": [],
   "source": [
    "Q4: Explain Bayes's theorem with an example."
   ]
  },
  {
   "cell_type": "code",
   "execution_count": null,
   "id": "f598187e-d53d-4458-a363-3a0f10b869c7",
   "metadata": {},
   "outputs": [],
   "source": [
    "Ans:- Bayes's theorem is a fundamental concept in probability theory that allows us to update our beliefs about the likelihood of an event\n",
    "based on new evidence or information. It is named after the 18th-century English statistician and philosopher, Thomas Bayes.\n",
    "\n",
    "Bayes's theorem states that the probability of a hypothesis H (e.g., a proposition or event) given some evidence E (e.g., some observed data) is \n",
    "proportional to the product of the probability of the evidence given the hypothesis and the prior probability of the hypothesis, divided by the\n",
    "marginal probability of the evidence:\n",
    "\n",
    "P(H|E) = P(E|H) * P(H) / P(E)\n",
    "\n",
    "Where:\n",
    "\n",
    "P(H|E) is the probability of the hypothesis H given the evidence E (the posterior probability).\n",
    "P(E|H) is the probability of the evidence E given the hypothesis H (the likelihood).\n",
    "P(H) is the prior probability of the hypothesis H.\n",
    "P(E) is the marginal probability of the evidence E.\n",
    "In other words, Bayes's theorem allows us to update our prior beliefs or probabilities (P(H)) about the likelihood of a hypothesis H given some\n",
    "observed evidence E by multiplying it with the likelihood of the evidence given the hypothesis (P(E|H)) and normalizing it by dividing it by the\n",
    "marginal probability of the evidence (P(E)).\n",
    "\n",
    "Example:\n",
    "Suppose a company produces two types of machines: A and B. Machine A has a 5% defect rate, while machine B has a 10% defect rate. The company\n",
    "randomly selects a machine from their production line and ships it to a customer. The customer reports that the machine is defective. What is \n",
    "the probability that the machine is machine A?\n",
    "\n",
    "Using Bayes's theorem, we can calculate the posterior probability of the machine being machine A given the evidence of a defective machine \n",
    "reported by the customer.\n",
    "\n",
    "Let H be the hypothesis that the machine is machine A.\n",
    "Let H' be the hypothesis that the machine is machine B.\n",
    "Let E be the evidence that the machine is defective.\n",
    "\n",
    "We know that P(H) = 0.5 (since the company produces equal numbers of machine A and machine B).\n",
    "We also know that P(H') = 0.5.\n",
    "\n",
    "The likelihood of the evidence given the hypothesis is:\n",
    "\n",
    "P(E|H) = 0.05 (since the probability of a defective machine given machine A is 5%).\n",
    "P(E|H') = 0.10 (since the probability of a defective machine given machine B is 10%).\n",
    "\n",
    "The marginal probability of the evidence is:\n",
    "\n",
    "P(E) = P(E|H)P(H) + P(E|H')P(H') = 0.050.5 + 0.100.5 = 0.075\n",
    "\n",
    "Using Bayes's theorem, we can calculate the posterior probability:\n",
    "\n",
    "P(H|E) = P(E|H) * P(H) / P(E) = 0.05 * 0.5 / 0.075 = 0.33 (rounded to two decimal places).\n",
    "\n",
    "Therefore, the probability that the machine is machine A given the evidence of a defective machine reported by the customer is 0.33 or 33%."
   ]
  },
  {
   "cell_type": "markdown",
   "id": "a6ad4d03-582e-4445-9651-63785e24c14b",
   "metadata": {},
   "source": [
    "### Q5"
   ]
  },
  {
   "cell_type": "code",
   "execution_count": null,
   "id": "4e53de01-ca34-442e-bb1f-903c68b1a0a8",
   "metadata": {},
   "outputs": [],
   "source": [
    "Q5: What is a confidence interval? How to calculate the confidence interval, explain with an example."
   ]
  },
  {
   "cell_type": "code",
   "execution_count": null,
   "id": "ddaec592-4176-41dd-af0e-4375946cd47e",
   "metadata": {},
   "outputs": [],
   "source": [
    "Ans:- A confidence interval is a range of values that is used to estimate the true value of a population parameter (e.g., population mean or\n",
    "population proportion) with a certain level of confidence. It provides a measure of the precision or accuracy of the sample estimate and takes \n",
    "into account the inherent variability in sample data.\n",
    "\n",
    "The calculation of a confidence interval involves three key components:\n",
    "\n",
    "The sample statistic (e.g., sample mean or sample proportion).\n",
    "The standard error of the statistic, which represents the variability of the statistic across different samples.\n",
    "The desired level of confidence, which determines the width of the interval.\n",
    "The general formula for calculating a confidence interval for a population mean, when the sample size is large (n > 30) and the population \n",
    "standard deviation is known, is:\n",
    "\n",
    "Confidence interval = sample mean ± z * (standard deviation / square root of n)\n",
    "\n",
    "where:\n",
    "\n",
    "sample mean: the mean of the sample.\n",
    "z: the critical value from the standard normal distribution based on the desired level of confidence.\n",
    "standard deviation: the known population standard deviation.\n",
    "n: the sample size.\n",
    "Example:\n",
    "Suppose a researcher wants to estimate the average weight of apples produced by a particular orchard. They take a random sample of 50 apples \n",
    "from the orchard and weigh them. The sample mean weight is 150 grams, and the population standard deviation is known to be 10 grams. \n",
    "The researcher wants to calculate a 95% confidence interval for the population mean weight.\n",
    "\n",
    "The critical value for a 95% confidence interval from the standard normal distribution is 1.96. Therefore, the confidence interval can be \n",
    "calculated as follows:\n",
    "\n",
    "Confidence interval = sample mean ± z * (standard deviation / square root of n)\n",
    "Confidence interval = 150 ± 1.96 * (10 / square root of 50)\n",
    "Confidence interval = 150 ± 2.82\n",
    "Confidence interval = (147.18, 152.82)\n",
    "\n",
    "The 95% confidence interval for the population mean weight of apples produced by the orchard is (147.18, 152.82) grams. This means that we can \n",
    "e 95% confident that the true population mean weight of apples falls within this range."
   ]
  },
  {
   "cell_type": "markdown",
   "id": "3951d7e1-06c8-429c-8b58-32780dc66eea",
   "metadata": {},
   "source": [
    "### Q6"
   ]
  },
  {
   "cell_type": "code",
   "execution_count": null,
   "id": "7282cf52-e380-4098-9f50-988a703c484a",
   "metadata": {},
   "outputs": [],
   "source": [
    "Q6. Use Bayes' Theorem to calculate the probability of an event occurring given prior knowledge of the\n",
    "event's probability and new evidence. Provide a sample problem and solution."
   ]
  },
  {
   "cell_type": "code",
   "execution_count": null,
   "id": "8f27a89a-cc4e-49fc-88aa-d0c4e1f5b073",
   "metadata": {},
   "outputs": [],
   "source": [
    "Ans:- Sure, here's an example problem that can be solved using Bayes' Theorem:\n",
    "\n",
    "Suppose a company manufactures two types of light bulbs: type A and type B. Type A bulbs have a failure rate of 5%, while type B bulbs have a\n",
    "failure rate of 10%. The company produces 60% type A bulbs and 40% type B bulbs. If a randomly selected bulb from the production line fails,\n",
    "what is the probability that it is a type B bulb?\n",
    "\n",
    "Solution:\n",
    "\n",
    "Let's define the following events:\n",
    "\n",
    "A: the event that the bulb is type A\n",
    "B: the event that the bulb is type B\n",
    "F: the event that the bulb fails\n",
    "We want to find P(B|F), the probability that the bulb is type B given that it failed. Using Bayes' Theorem, we can express this probability as:\n",
    "\n",
    "P(B|F) = P(F|B) * P(B) / P(F)\n",
    "\n",
    "where:\n",
    "\n",
    "P(F|B) is the probability of the bulb failing given that it is type B (i.e., the failure rate of type B bulbs, which is 10%).\n",
    "P(B) is the prior probability of selecting a type B bulb from the production line (i.e., 0.4).\n",
    "P(F) is the total probability of the bulb failing, which can be calculated using the law of total probability as:\n",
    "P(F) = P(F|A) * P(A) + P(F|B) * P(B)\n",
    "\n",
    "where:\n",
    "\n",
    "P(F|A) is the probability of the bulb failing given that it is type A (i.e., the failure rate of type A bulbs, which is 5%).\n",
    "P(A) is the prior probability of selecting a type A bulb from the production line (i.e., 0.6).\n",
    "Substituting the values, we get:\n",
    "\n",
    "P(F) = 0.05 * 0.6 + 0.1 * 0.4\n",
    "P(F) = 0.07\n",
    "\n",
    "Therefore, the probability of selecting a bulb that fails is 0.07.\n",
    "\n",
    "Now, substituting all the values in Bayes' Theorem, we get:\n",
    "\n",
    "P(B|F) = 0.1 * 0.4 / 0.07\n",
    "P(B|F) = 0.5714\n",
    "\n",
    "Therefore, the probability that the failed bulb is type B is 0.5714 or approximately 57.14%."
   ]
  },
  {
   "cell_type": "markdown",
   "id": "5ae820ef-17eb-4f15-ae77-5236a7fe5df7",
   "metadata": {},
   "source": [
    "### Q7"
   ]
  },
  {
   "cell_type": "code",
   "execution_count": null,
   "id": "dbec7567-2380-4b6f-b93f-59eb21ad2267",
   "metadata": {},
   "outputs": [],
   "source": [
    "Q7. Calculate the 95% confidence interval for a sample of data with a mean of 50 and a standard deviation\n",
    "of 5. Interpret the results."
   ]
  },
  {
   "cell_type": "code",
   "execution_count": null,
   "id": "25e66d88-5dca-4449-a3d4-bd32666dc8e7",
   "metadata": {},
   "outputs": [],
   "source": [
    "Ans:- To calculate the 95% confidence interval for a sample of data with a mean of 50 and a standard deviation of 5, we need to use the formula:\n",
    "\n",
    "\n",
    "CI = X ± Zα/2 * (σ/√n)\n",
    "\n",
    "where:\n",
    "\n",
    "X is the sample mean (50)\n",
    "Zα/2 is the critical value from the standard normal distribution for a 95% confidence level, which is 1.96\n",
    "σ is the population standard deviation (unknown in this case, so we use the sample standard deviation instead)\n",
    "n is the sample size\n",
    "Assuming a sufficiently large sample size (n > 30), we can use the sample standard deviation as an estimate of the population standard deviation.\n",
    "\n",
    "\n",
    "Let's say our sample size is 100 (just as an example), then the 95% confidence interval for this sample would be:\n",
    "\n",
    "CI = 50 ± 1.96 * (5/√100)\n",
    "CI = 50 ± 0.98\n",
    "CI = (49.02, 50.98)\n",
    "\n",
    "Interpretation: We can be 95% confident that the true population mean lies within the range of 49.02 to 50.98, based on our sample data with a \n",
    "mean of 50 and a standard deviation of 5. This means that if we were to take many samples from the same population and calculate the confidence \n",
    "interval for each sample, 95% of the intervals would contain the true population mean."
   ]
  },
  {
   "cell_type": "markdown",
   "id": "8d018e5e-34f6-4632-8872-cb20ab621d78",
   "metadata": {},
   "source": [
    "### Q8"
   ]
  },
  {
   "cell_type": "code",
   "execution_count": null,
   "id": "df6fefc8-275e-4330-9209-d7f62497cc88",
   "metadata": {},
   "outputs": [],
   "source": [
    "Q8. What is the margin of error in a confidence interval? How does sample size affect the margin of error?\n",
    "Provide an example of a scenario where a larger sample size would result in a smaller margin of error."
   ]
  },
  {
   "cell_type": "code",
   "execution_count": null,
   "id": "722011d1-3b3c-4536-be7c-0fced5ff238c",
   "metadata": {},
   "outputs": [],
   "source": [
    "Ans:- The margin of error is the range of values above and below the point estimate that is likely to contain the true population parameter with\n",
    "a certain level of confidence. In other words, it is the amount of error we are willing to accept in our estimate. It is typically represented \n",
    "as a plus/minus (+/-) value.\n",
    "\n",
    "The margin of error depends on several factors, including the confidence level, sample size, and population standard deviation. As the confidence\n",
    "level and sample size increase, the margin of error decreases, meaning the estimate becomes more precise. Conversely, as the population standard \n",
    "deviation increases, the margin of error increases, meaning the estimate becomes less precise.\n",
    "\n",
    "For example, suppose we want to estimate the proportion of voters who support a particular candidate in an upcoming election. We take a sample of\n",
    "500 voters and find that 55% of them support the candidate. We want to calculate a 95% confidence interval for the true proportion of voters who\n",
    "support the candidate.\n",
    "\n",
    "Assuming a normal distribution and using the formula for the margin of error:\n",
    "\n",
    "Margin of error = z*(σ/√n)\n",
    "\n",
    "where z is the z-score for the desired confidence level (1.96 for 95% confidence level), σ is the population standard deviation (unknown in this\n",
    "case), and n is the sample size.\n",
    "\n",
    "If we assume a worst-case scenario where the population proportion is 0.5 (50%), the standard deviation is σ = sqrt(p*(1-p)/n) = \n",
    "sqrt(0.5*0.5/500) = 0.0224.\n",
    "\n",
    "Then, the margin of error would be:\n",
    "\n",
    "Margin of error = 1.96 * (0.0224 / sqrt(500)) = 0.0388\n",
    "\n",
    "So, the 95% confidence interval for the true proportion of voters who support the candidate would be:\n",
    "\n",
    "0.55 +/- 0.0388, or (0.5112, 0.5888)\n",
    "\n",
    "This means we can be 95% confident that the true proportion of voters who support the candidate lies somewhere between 0.5112 and 0.5888.\n",
    "\n",
    "Now, if we increase the sample size to 1000 while keeping everything else the same, the new margin of error would be:\n",
    "\n",
    "Margin of error = 1.96 * (0.0224 / sqrt(1000)) = 0.0158\n",
    "\n",
    "The smaller margin of error means that we are more confident in our estimate of the true proportion of voters who support the candidate, which \n",
    "is due to the increased sample size."
   ]
  },
  {
   "cell_type": "markdown",
   "id": "0bae74f6-2c98-40d2-a7ef-441055db87bb",
   "metadata": {},
   "source": [
    "### Q9"
   ]
  },
  {
   "cell_type": "code",
   "execution_count": null,
   "id": "831e3757-6903-4378-8c2e-1d3a00eeba63",
   "metadata": {},
   "outputs": [],
   "source": [
    "Q9. Calculate the z-score for a data point with a value of 75, a population mean of 70, and a population\n",
    "standard deviation of 5. Interpret the results."
   ]
  },
  {
   "cell_type": "code",
   "execution_count": null,
   "id": "682f407e-8b1e-4ea2-9e4f-eff176d7c8e6",
   "metadata": {},
   "outputs": [],
   "source": [
    "Ans:- To calculate the z-score for a data point, we use the formula:\n",
    "\n",
    "z = (x - μ) / σ\n",
    "\n",
    "where x is the data point, μ is the population mean, and σ is the population standard deviation.\n",
    "\n",
    "In this case, x = 75, μ = 70, and σ = 5. Substituting these values into the formula, we get:\n",
    "\n",
    "z = (75 - 70) / 5 = 1\n",
    "\n",
    "The z-score is 1, which means that the data point is one standard deviation above the population mean. This indicates that the data point is\n",
    "higher than the average value for the population by a moderate amount."
   ]
  },
  {
   "cell_type": "markdown",
   "id": "7dad9c66-759e-4f76-b00c-b1e30e8062ae",
   "metadata": {},
   "source": [
    "### Q10"
   ]
  },
  {
   "cell_type": "code",
   "execution_count": null,
   "id": "cada0e34-e913-4cac-a740-927286714dbe",
   "metadata": {},
   "outputs": [],
   "source": [
    "Q10. In a study of the effectiveness of a new weight loss drug, a sample of 50 participants lost an average\n",
    "of 6 pounds with a standard deviation of 2.5 pounds. Conduct a hypothesis test to determine if the drug is\n",
    "significantly effective at a 95% confidence level using a t-test."
   ]
  },
  {
   "cell_type": "code",
   "execution_count": null,
   "id": "170279f4-51db-451d-b614-882cba05a3ed",
   "metadata": {},
   "outputs": [],
   "source": [
    "Ans:- To conduct a hypothesis test, we need to state our null and alternative hypotheses:\n",
    "\n",
    "Null hypothesis (H0): The drug is not significantly effective. The population mean weight loss is equal to or less than 0 pounds.\n",
    "Alternative hypothesis (Ha): The drug is significantly effective. The population mean weight loss is greater than 0 pounds.\n",
    "\n",
    "We will use a one-tailed t-test because we are testing if the population mean weight loss is greater than 0.\n",
    "\n",
    "We can use the formula for a t-test:\n",
    "\n",
    "t = (x̄ - μ) / (s / sqrt(n))\n",
    "\n",
    "where x̄ is the sample mean, μ is the hypothesized population mean, s is the sample standard deviation, and n is the sample size.\n",
    "\n",
    "Substituting the values from the problem, we get:\n",
    "\n",
    "t = (6 - 0) / (2.5 / sqrt(50)) = 12.65\n",
    "\n",
    "The critical t-value for a one-tailed test with 49 degrees of freedom and a 95% confidence level is 1.676. Since our calculated t-value \n",
    "(12.65) is greater than the critical t-value (1.676), we reject the null hypothesis.\n",
    "\n",
    "Therefore, we can conclude that the weight loss drug is significantly effective at a 95% confidence level."
   ]
  },
  {
   "cell_type": "markdown",
   "id": "64e84962-c32c-4ba0-ae30-a37f649b45ae",
   "metadata": {},
   "source": [
    "### Q11"
   ]
  },
  {
   "cell_type": "code",
   "execution_count": null,
   "id": "6a01ad99-844e-4bd7-886a-7107916fc05b",
   "metadata": {},
   "outputs": [],
   "source": [
    "Q11. In a survey of 500 people, 65% reported being satisfied with their current job. Calculate the 95%\n",
    "confidence interval for the true proportion of people who are satisfied with their job."
   ]
  },
  {
   "cell_type": "code",
   "execution_count": null,
   "id": "4d5ffdf2-2cd1-4ee5-b2fe-45bbb228b4a1",
   "metadata": {},
   "outputs": [],
   "source": [
    "Ans:- To calculate the confidence interval for the true proportion of people who are satisfied with their job, we use the following formula:\n",
    "\n",
    "CI = p ± z * sqrt((p * (1 - p)) / n)\n",
    "\n",
    "where CI is the confidence interval, p is the sample proportion, z is the critical value from the standard normal distribution for the desired\n",
    "confidence level (in this case, 1.96 for a 95% confidence level), and n is the sample size.\n",
    "\n",
    "Substituting the values from the problem, we get:\n",
    "\n",
    "CI = 0.65 ± 1.96 * sqrt((0.65 * 0.35) / 500) = 0.65 ± 0.045\n",
    "\n",
    "The 95% confidence interval for the true proportion of people who are satisfied with their job is (0.605, 0.695).\n",
    "\n",
    "This means that we are 95% confident that the true proportion of people who are satisfied with their job falls within this range."
   ]
  },
  {
   "cell_type": "markdown",
   "id": "ce1a3c5c-c010-4209-b5ec-732605e06979",
   "metadata": {},
   "source": [
    "### Q12"
   ]
  },
  {
   "cell_type": "code",
   "execution_count": null,
   "id": "75fa639d-3a6d-4fdb-a64a-7b219b3ceee9",
   "metadata": {},
   "outputs": [],
   "source": [
    "Q12. A researcher is testing the effectiveness of two different teaching methods on student performance.\n",
    "Sample A has a mean score of 85 with a standard deviation of 6, while sample B has a mean score of 82\n",
    "with a standard deviation of 5. Conduct a hypothesis test to determine if the two teaching methods have a\n",
    "significant difference in student performance using a t-test with a significance level of 0.01."
   ]
  },
  {
   "cell_type": "code",
   "execution_count": null,
   "id": "0132ded6-4e74-4f0c-a900-f55cee19393c",
   "metadata": {},
   "outputs": [],
   "source": [
    "Ans:- To determine if there is a significant difference in student performance between the two teaching methods, we will perform a two-sample\n",
    "t-test with unequal variances. The null hypothesis is that the means of the two populations are equal, and the alternative hypothesis is that\n",
    "they are not equal.\n",
    "\n",
    "Let μ1 be the mean score of sample A and μ2 be the mean score of sample B. Then our hypotheses are:\n",
    "\n",
    "H0: μ1 = μ2\n",
    "Ha: μ1 ≠ μ2\n",
    "\n",
    "The test statistic for the two-sample t-test is:\n",
    "\n",
    "t = (x1 - x2) / sqrt((s1^2 / n1) + (s2^2 / n2))\n",
    "\n",
    "where x1 and x2 are the sample means, s1 and s2 are the sample standard deviations, and n1 and n2 are the sample sizes.\n",
    "\n",
    "Substituting the values from the problem, we get:\n",
    "\n",
    "t = (85 - 82) / sqrt((6^2 / 30) + (5^2 / 40)) = 2.43\n",
    "\n",
    "Using a t-table with (n1 + n2 - 2) degrees of freedom, and a significance level of 0.01, we find the critical t-value to be ±2.576.\n",
    "\n",
    "Since the calculated t-value (2.43) falls within the acceptance region between -2.576 and 2.576, we fail to reject the null hypothesis. This \n",
    "means that we do not have enough evidence to conclude that there is a significant difference in student performance between the two teaching\n",
    "methods at the 0.01 level of significance."
   ]
  },
  {
   "cell_type": "markdown",
   "id": "206ee43d-1499-4c80-bb85-d28066cb8e79",
   "metadata": {},
   "source": [
    "### Q13"
   ]
  },
  {
   "cell_type": "code",
   "execution_count": null,
   "id": "99975149-c276-4bed-a379-b34140e0768e",
   "metadata": {},
   "outputs": [],
   "source": [
    "Q13. A population has a mean of 60 and a standard deviation of 8. A sample of 50 observations has a mean\n",
    "of 65. Calculate the 90% confidence interval for the true population mean."
   ]
  },
  {
   "cell_type": "code",
   "execution_count": null,
   "id": "a68fb475-77b4-4ca8-9004-ca4f3d544e00",
   "metadata": {},
   "outputs": [],
   "source": [
    "Ans:- To calculate the 90% confidence interval for the true population mean, we can use the formula:\n",
    "\n",
    "CI = x̄ ± z*(σ/√n)\n",
    "\n",
    "Where CI is the confidence interval, x̄ is the sample mean, z is the z-score for the desired level of confidence \n",
    "(in this case, 90%, so z = 1.645), σ is the population standard deviation, and n is the sample size.\n",
    "\n",
    "Substituting the given values, we get:\n",
    "\n",
    "CI = 65 ± 1.645*(8/√50)\n",
    "\n",
    "Simplifying this expression, we get:\n",
    "\n",
    "CI = 65 ± 2.317\n",
    "\n",
    "Therefore, the 90% confidence interval for the true population mean is (62.683, 67.317). This means that if we were to repeatedly take samples\n",
    "of the same size from this population, and construct a 90% confidence interval for each sample, 90% of these intervals would contain the true \n",
    "population mean."
   ]
  },
  {
   "cell_type": "markdown",
   "id": "c30f4500-1bed-4cdb-883d-99b79b1b9555",
   "metadata": {},
   "source": [
    "### Q14"
   ]
  },
  {
   "cell_type": "code",
   "execution_count": null,
   "id": "63060577-0bb8-47f2-b99a-a362a98f044e",
   "metadata": {},
   "outputs": [],
   "source": [
    "Q14. In a study of the effects of caffeine on reaction time, a sample of 30 participants had an average\n",
    "reaction time of 0.25 seconds with a standard deviation of 0.05 seconds. Conduct a hypothesis test to\n",
    "determine if the caffeine has a significant effect on reaction time at a 90% confidence level using a t-test."
   ]
  },
  {
   "cell_type": "code",
   "execution_count": null,
   "id": "a2fd24eb-642d-4e9a-84cf-44bd103896d6",
   "metadata": {},
   "outputs": [],
   "source": [
    "Ans:- To conduct a hypothesis test to determine if caffeine has a significant effect on reaction time, we can use a t-test. The null hypothesis \n",
    "(H0) is that there is no significant difference in reaction time between the caffeine and non-caffeine conditions, and the alternative \n",
    "hypothesis (Ha) is that there is a significant difference.\n",
    "\n",
    "We will conduct a two-tailed t-test with a significance level of 0.1 (90% confidence level).\n",
    "\n",
    "The test statistic (t) is calculated using the formula:\n",
    "\n",
    "t = (x̄ - μ) / (s / sqrt(n))\n",
    "\n",
    "Where x̄ is the sample mean, μ is the hypothesized population mean under the null hypothesis, s is the sample standard deviation, and n is the \n",
    "sample size.\n",
    "\n",
    "Substituting the given values, we get:\n",
    "\n",
    "t = (0.25 - μ) / (0.05 / sqrt(30))\n",
    "\n",
    "Assuming the null hypothesis that caffeine has no effect on reaction time, the hypothesized population mean under the null hypothesis is \n",
    "μ = 0 (i.e., the mean reaction time in both conditions is the same).\n",
    "\n",
    "t = (0.25 - 0) / (0.05 / sqrt(30))\n",
    "t = 13.42\n",
    "\n",
    "Using a t-table with 29 degrees of freedom (df = n - 1), and a significance level of 0.1, we find that the critical t-value is ±1.699. Since \n",
    "our calculated t-value of 13.42 is greater than the critical t-value of 1.699, we can reject the null hypothesis and conclude that caffeine has \n",
    "a significant effect on reaction time.\n",
    "\n",
    "Therefore, we can conclude that caffeine has a significant effect on reaction time at a 90% confidence level."
   ]
  },
  {
   "cell_type": "code",
   "execution_count": null,
   "id": "996c6524-b63a-4d4f-b061-6967a72165ad",
   "metadata": {},
   "outputs": [],
   "source": []
  }
 ],
 "metadata": {
  "kernelspec": {
   "display_name": "Python 3 (ipykernel)",
   "language": "python",
   "name": "python3"
  },
  "language_info": {
   "codemirror_mode": {
    "name": "ipython",
    "version": 3
   },
   "file_extension": ".py",
   "mimetype": "text/x-python",
   "name": "python",
   "nbconvert_exporter": "python",
   "pygments_lexer": "ipython3",
   "version": "3.10.8"
  }
 },
 "nbformat": 4,
 "nbformat_minor": 5
}
