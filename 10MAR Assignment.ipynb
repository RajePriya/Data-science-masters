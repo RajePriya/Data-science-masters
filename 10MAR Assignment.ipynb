{
 "cells": [
  {
   "cell_type": "markdown",
   "id": "0925ec80-6e16-46a7-83c8-81a94b5fc642",
   "metadata": {},
   "source": [
    "## 10MAR\n",
    "### Assignment"
   ]
  },
  {
   "cell_type": "markdown",
   "id": "eb62af3f-1faa-429c-87b1-9134c3f6eccb",
   "metadata": {},
   "source": [
    "### Q1"
   ]
  },
  {
   "cell_type": "code",
   "execution_count": null,
   "id": "14c214e7-ed6d-4f51-824d-5212f9ca87b3",
   "metadata": {},
   "outputs": [],
   "source": [
    "Q1: What is Estimation Statistics? Explain point estimate and interval estimate."
   ]
  },
  {
   "cell_type": "code",
   "execution_count": null,
   "id": "e65ec569-3241-456e-be73-27e375b975ce",
   "metadata": {},
   "outputs": [],
   "source": [
    "Ans:- Estimation statistics is a branch of statistics that involves using sample data to make inferences or predictions about a population.\n",
    "\n",
    "Point estimate is a single value that is used to estimate the population parameter of interest. For example, if we are interested in estimating\n",
    "the mean height of all students in a university, we can take a random sample of students and calculate the sample mean, which would be our point\n",
    "estimate of the population mean.\n",
    "\n",
    "Interval estimate, on the other hand, involves constructing a range of values that is likely to contain the true population parameter. This is\n",
    "done by calculating a confidence interval, which provides an estimate of the range of values within which the true population parameter is\n",
    "likely to fall. For example, we might construct a 95% confidence interval for the population mean height of all students in a university based \n",
    "on a random sample, which would provide us with a range of values that we can be 95% confident contains the true population mean."
   ]
  },
  {
   "cell_type": "markdown",
   "id": "9376b69d-7141-457a-8541-16383dc31e54",
   "metadata": {},
   "source": [
    "### Q2"
   ]
  },
  {
   "cell_type": "code",
   "execution_count": null,
   "id": "afdde87c-ab4e-442d-8be8-7b51e2508bce",
   "metadata": {},
   "outputs": [],
   "source": [
    "Q2. Write a Python function to estimate the population mean using a sample mean and standard\n",
    "deviation."
   ]
  },
  {
   "cell_type": "code",
   "execution_count": null,
   "id": "50a702dc-8185-4c7b-95f6-fc4bf797f7b2",
   "metadata": {},
   "outputs": [],
   "source": [
    "Ans:- to estimate the population mean using a sample mean and standard deviation:"
   ]
  },
  {
   "cell_type": "code",
   "execution_count": 1,
   "id": "f4776caf-ec79-4bdd-93c9-59d41527bced",
   "metadata": {},
   "outputs": [],
   "source": [
    "def estimate_population_mean(sample_mean, sample_std_dev, sample_size):\n",
    "    import math\n",
    "    z_value = 1.96 # for 95% confidence interval\n",
    "    margin_of_error = z_value * (sample_std_dev / math.sqrt(sample_size))\n",
    "    lower_bound = sample_mean - margin_of_error\n",
    "    upper_bound = sample_mean + margin_of_error\n",
    "    return (lower_bound, upper_bound)\n"
   ]
  },
  {
   "cell_type": "code",
   "execution_count": null,
   "id": "655d5afe-38fe-4c7a-8c78-0e901d9756b8",
   "metadata": {},
   "outputs": [],
   "source": [
    "This function calculates the lower and upper bounds of a 95% confidence interval for the population mean, given the sample mean, sample standard\n",
    "deviation, and sample size. The z_value of 1.96 is used for a 95% confidence interval. The margin of error is calculated as z_value *\n",
    "(sample_std_dev / math.sqrt(sample_size)), and the lower and upper bounds of the confidence interval are calculated as sample_mean - \n",
    "margin_of_error and sample_mean + margin_of_error, respectively. The function returns a tuple containing the lower and upper bounds of the \n",
    "confidence interval."
   ]
  },
  {
   "cell_type": "markdown",
   "id": "c57a14d2-16fa-44cd-be18-7d1610896fd0",
   "metadata": {},
   "source": [
    "### Q3"
   ]
  },
  {
   "cell_type": "code",
   "execution_count": null,
   "id": "d1049743-2dae-4be7-b70f-ec9954a3ddd0",
   "metadata": {},
   "outputs": [],
   "source": [
    "Q3: What is Hypothesis testing? Why is it used? State the importance of Hypothesis testing."
   ]
  },
  {
   "cell_type": "code",
   "execution_count": null,
   "id": "6614f424-1854-44bc-9104-dad324b32c65",
   "metadata": {},
   "outputs": [],
   "source": [
    "Ans:- Hypothesis testing is a statistical method used to make decisions or draw conclusions about a population parameter based on sample data.\n",
    "It involves formulating two hypotheses, the null hypothesis (H0) and the alternative hypothesis (Ha), and testing them using sample statistics.\n",
    "\n",
    "The null hypothesis represents the status quo, while the alternative hypothesis represents the claim or the change being tested. The aim of\n",
    "hypothesis testing is to determine whether there is enough evidence in the sample data to reject the null hypothesis in favor of the alternative hypothesis.\n",
    "\n",
    "Hypothesis testing is used in many areas of research, such as medicine, engineering, social sciences, and business, to make decisions based on\n",
    "data analysis. It is important because it helps to ensure that decisions are based on reliable and valid information. It helps to reduce the \n",
    "possibility of making wrong decisions based on incomplete or inaccurate information.\n",
    "\n",
    "Hypothesis testing also allows researchers to draw conclusions about a population based on a sample. This is useful because it is often not \n",
    "feasible or practical to study an entire population, and so samples are used instead. Hypothesis testing provides a way to make inferences about\n",
    "the population from the sample data."
   ]
  },
  {
   "cell_type": "markdown",
   "id": "aaced654-d11d-430b-bb57-d37ccb89ce08",
   "metadata": {},
   "source": [
    "### Q4"
   ]
  },
  {
   "cell_type": "code",
   "execution_count": null,
   "id": "43b84d5e-4a53-40cc-b1be-c8b3e5d99206",
   "metadata": {},
   "outputs": [],
   "source": [
    "Q4. Create a hypothesis that states whether the average weight of male college students is greater than\n",
    "the average weight of female college students."
   ]
  },
  {
   "cell_type": "code",
   "execution_count": null,
   "id": "68839952-a5a5-4c03-90b3-7d0003036bda",
   "metadata": {},
   "outputs": [],
   "source": [
    "Ans:- Hypothesis: The average weight of male college students is greater than the average weight of female college students."
   ]
  },
  {
   "cell_type": "markdown",
   "id": "de4de2bd-55bf-48a5-8765-55efd25a9870",
   "metadata": {},
   "source": [
    "### Q5"
   ]
  },
  {
   "cell_type": "code",
   "execution_count": null,
   "id": "b74e5c79-fa03-4e78-aaef-32047b30b097",
   "metadata": {},
   "outputs": [],
   "source": [
    "Q5. Write a Python script to conduct a hypothesis test on the difference between two population means,\n",
    "given a sample from each population."
   ]
  },
  {
   "cell_type": "code",
   "execution_count": null,
   "id": "ad2b0e43-1c1d-4a31-893c-7bda0b9d358d",
   "metadata": {},
   "outputs": [],
   "source": [
    "Ans:- script to conduct a two-sample t-test for the difference between two population means:"
   ]
  },
  {
   "cell_type": "code",
   "execution_count": 2,
   "id": "6d879b77-3f3d-4ea2-8371-4d62348ba66c",
   "metadata": {},
   "outputs": [
    {
     "name": "stdout",
     "output_type": "stream",
     "text": [
      "Sample 1 mean: 10.070224566250875\n",
      "Sample 2 mean: 7.849537630605202\n",
      "Sample 1 std: 1.991369700670806\n",
      "Sample 2 std: 2.935675684370706\n",
      "t-statistic: 6.228736805924274\n",
      "p-value: 3.4207551864962705e-09\n"
     ]
    }
   ],
   "source": [
    "import numpy as np\n",
    "from scipy.stats import ttest_ind\n",
    "\n",
    "# Generate two random samples from normal distributions with different means and variances\n",
    "np.random.seed(1234)\n",
    "sample1 = np.random.normal(loc=10, scale=2, size=100)\n",
    "sample2 = np.random.normal(loc=8, scale=3, size=100)\n",
    "\n",
    "# Compute the sample means and standard deviations\n",
    "mean1, mean2 = np.mean(sample1), np.mean(sample2)\n",
    "std1, std2 = np.std(sample1), np.std(sample2)\n",
    "\n",
    "# Compute the degrees of freedom for the t-test\n",
    "df = len(sample1) + len(sample2) - 2\n",
    "\n",
    "# Conduct the two-sample t-test\n",
    "t_stat, p_val = ttest_ind(sample1, sample2, equal_var=False)\n",
    "\n",
    "# Print the results\n",
    "print(\"Sample 1 mean:\", mean1)\n",
    "print(\"Sample 2 mean:\", mean2)\n",
    "print(\"Sample 1 std:\", std1)\n",
    "print(\"Sample 2 std:\", std2)\n",
    "print(\"t-statistic:\", t_stat)\n",
    "print(\"p-value:\", p_val)\n"
   ]
  },
  {
   "cell_type": "code",
   "execution_count": null,
   "id": "83ad05d9-a30a-4ad3-a794-5b0e365b2218",
   "metadata": {},
   "outputs": [],
   "source": [
    "In this example, we generate two random samples of size 100 from normal distributions with means of 10 and 8 and standard deviations of 2 and 3,\n",
    "respectively. We then compute the sample means and standard deviations for each sample, and use these values to conduct a two-sample t-test \n",
    "assuming unequal variances. The ttest_ind function from the scipy.stats module is used to compute the t-statistic and p-value for the test.\n",
    "Finally, we print out the sample statistics and test results."
   ]
  },
  {
   "cell_type": "markdown",
   "id": "61c6eadd-13a4-445b-b0e3-ed7e1237b3cc",
   "metadata": {},
   "source": [
    "### Q6"
   ]
  },
  {
   "cell_type": "code",
   "execution_count": null,
   "id": "e6256dc2-6025-4193-ab9f-dc9b4d5a6590",
   "metadata": {},
   "outputs": [],
   "source": [
    "Q6: What is a null and alternative hypothesis? Give some examples."
   ]
  },
  {
   "cell_type": "code",
   "execution_count": null,
   "id": "f67b7002-da12-4b29-93a3-7d606a09f8ba",
   "metadata": {},
   "outputs": [],
   "source": [
    "Ans:- In statistical hypothesis testing, the null hypothesis (H0) is a statement that assumes there is no significant difference or relationship\n",
    "between two variables or populations. The alternative hypothesis (Ha), on the other hand, is a statement that contradicts the null hypothesis,\n",
    "assuming that there is a significant difference or relationship between the variables or populations.\n",
    "\n",
    "Here are some examples of null and alternative hypotheses:\n",
    "\n",
    "=> Null hypothesis: There is no significant difference in the mean weight of apples produced by two different farming techniques.\n",
    "Alternative hypothesis: There is a significant difference in the mean weight of apples produced by two different farming techniques.\n",
    "\n",
    "=> Null hypothesis: There is no significant relationship between smoking and the incidence of lung cancer.\n",
    "Alternative hypothesis: There is a significant relationship between smoking and the incidence of lung cancer.\n",
    "\n",
    "=> Null hypothesis: There is no significant difference in the average height of male and female students in a school.\n",
    "Alternative hypothesis: There is a significant difference in the average height of male and female students in a school."
   ]
  },
  {
   "cell_type": "markdown",
   "id": "692ac29c-3d25-4b69-b82b-c0ca4636a11d",
   "metadata": {},
   "source": [
    "### Q7"
   ]
  },
  {
   "cell_type": "code",
   "execution_count": null,
   "id": "0259ee4e-6d2e-43ad-a5c1-69de4d6d2c3f",
   "metadata": {},
   "outputs": [],
   "source": [
    "Q7: Write down the steps involved in hypothesis testing."
   ]
  },
  {
   "cell_type": "code",
   "execution_count": null,
   "id": "d3fd2a97-7493-40e2-b128-3ce8d6ef14c1",
   "metadata": {},
   "outputs": [],
   "source": [
    "Ans:- The general steps involved in hypothesis testing are:\n",
    "\n",
    "=> State the null hypothesis and the alternative hypothesis.\n",
    "=> Determine the appropriate test statistic and its distribution under the null hypothesis.\n",
    "=> Determine the level of significance (alpha) and the critical value(s) for the test statistic.\n",
    "=> Collect the sample data and calculate the test statistic.\n",
    "=> Compare the calculated test statistic with the critical value(s) to decide whether to reject or fail to reject the null hypothesis.\n",
    "=> Draw a conclusion and interpret the results in the context of the problem.\n",
    "Note that the specific steps may vary depending on the type of hypothesis test being conducted and the specific details of the problem."
   ]
  },
  {
   "cell_type": "markdown",
   "id": "3a93974a-2ef4-469d-b930-ba345f202621",
   "metadata": {},
   "source": [
    "### Q8"
   ]
  },
  {
   "cell_type": "code",
   "execution_count": null,
   "id": "857a2534-afb3-4a7e-b5d8-72ee92432edc",
   "metadata": {},
   "outputs": [],
   "source": [
    "Q8. Define p-value and explain its significance in hypothesis testing."
   ]
  },
  {
   "cell_type": "code",
   "execution_count": null,
   "id": "39459307-eea3-4713-8907-b6d1e7a71df3",
   "metadata": {},
   "outputs": [],
   "source": [
    "Ans:- In hypothesis testing, the p-value is the probability of obtaining a test statistic at least as extreme as the observed value, assuming \n",
    "the null hypothesis is true. In other words, it is the probability of obtaining the observed sample data or more extreme data points, given that\n",
    "the null hypothesis is true.\n",
    "\n",
    "The significance of the p-value is that it helps to determine whether the null hypothesis should be rejected or not. Generally, if the p-value \n",
    "s less than the significance level (alpha), which is usually set at 0.05, then the null hypothesis is rejected, and the alternative hypothesis \n",
    "is accepted as it is unlikely to obtain such extreme data by chance alone. On the other hand, if the p-value is greater than alpha, then the \n",
    "null hypothesis cannot be rejected as there is insufficient evidence to support the alternative hypothesis."
   ]
  },
  {
   "cell_type": "markdown",
   "id": "80bb4d96-dd05-4c3f-8547-0c8d9ad0a36a",
   "metadata": {},
   "source": [
    "### Q9"
   ]
  },
  {
   "cell_type": "code",
   "execution_count": null,
   "id": "6dd78932-cf8c-475b-91a8-868d0157102c",
   "metadata": {},
   "outputs": [],
   "source": [
    "Q9. Generate a Student's t-distribution plot using Python's matplotlib library, with the degrees of freedom\n",
    "parameter set to 10."
   ]
  },
  {
   "cell_type": "code",
   "execution_count": null,
   "id": "fbcc24af-ac61-417e-8da4-154ae9468de5",
   "metadata": {},
   "outputs": [],
   "source": [
    "Ans:-   to generate a Student's t-distribution plot with degrees of freedom set to 10 using Python's matplotlib library:"
   ]
  },
  {
   "cell_type": "code",
   "execution_count": 4,
   "id": "4763b4e5-23d3-485e-8e12-f54f46b5e908",
   "metadata": {},
   "outputs": [
    {
     "data": {
      "image/png": "[encoded data removed]",
      "text/plain": [
       "<Figure size 640x480 with 1 Axes>"
      ]
     },
     "metadata": {},
     "output_type": "display_data"
    }
   ],
   "source": [
    "import numpy as np\n",
    "import matplotlib.pyplot as plt\n",
    "from scipy.stats import t\n",
    "\n",
    "# Set degrees of freedom\n",
    "df = 10\n",
    "\n",
    "# Generate x-values for the plot\n",
    "x = np.linspace(-4, 4, num=100)\n",
    "\n",
    "# Compute the y-values for the t-distribution\n",
    "y = t.pdf(x, df)\n",
    "\n",
    "# Plot the t-distribution\n",
    "plt.plot(x, y, label='t-distribution with df={}'.format(df))\n",
    "plt.legend()\n",
    "plt.show()\n"
   ]
  },
  {
   "cell_type": "code",
   "execution_count": null,
   "id": "6e7fdc5f-aa6c-4e45-89d2-e2a076a63cfe",
   "metadata": {},
   "outputs": [],
   "source": [
    "This will generate a plot of the t-distribution with degrees of freedom set to 10. The t.pdf() function from the scipy.stats module is used to \n",
    "compute the y-values for the t-distribution, and the plt.plot() function from matplotlib is used to plot the distribution. The plt.legend() and \n",
    "plt.show() functions are used to add a legend to the plot and display it, respectively."
   ]
  },
  {
   "cell_type": "markdown",
   "id": "4c3b3550-55e0-41f1-a853-66a53a49b74d",
   "metadata": {},
   "source": [
    "### Q10"
   ]
  },
  {
   "cell_type": "code",
   "execution_count": null,
   "id": "8d9b0e58-f1e2-4653-afd4-ee73c2939085",
   "metadata": {},
   "outputs": [],
   "source": [
    "Q10. Write a Python program to calculate the two-sample t-test for independent samples, given two\n",
    "random samples of equal size and a null hypothesis that the population means are equal."
   ]
  },
  {
   "cell_type": "code",
   "execution_count": null,
   "id": "0cb22a5b-0250-4a77-9da6-9de86d82df0c",
   "metadata": {},
   "outputs": [],
   "source": [
    "Ans:- to calculate the two-sample t-test for independent samples:"
   ]
  },
  {
   "cell_type": "code",
   "execution_count": 5,
   "id": "96bc82d5-c547-4bec-beed-10365a283e5c",
   "metadata": {},
   "outputs": [
    {
     "name": "stdout",
     "output_type": "stream",
     "text": [
      "t-statistic: -5.858411887964185\n",
      "p-value: 1.9216830054749663e-08\n"
     ]
    }
   ],
   "source": [
    "import numpy as np\n",
    "from scipy.stats import ttest_ind\n",
    "\n",
    "# generate two random samples\n",
    "sample1 = np.random.normal(10, 2, size=100)\n",
    "sample2 = np.random.normal(12, 3, size=100)\n",
    "\n",
    "# calculate the t-test\n",
    "t_stat, p_value = ttest_ind(sample1, sample2)\n",
    "\n",
    "# print the results\n",
    "print(\"t-statistic:\", t_stat)\n",
    "print(\"p-value:\", p_value)\n"
   ]
  },
  {
   "cell_type": "code",
   "execution_count": null,
   "id": "27d4dbcd-8143-4e67-be8d-00e1073a7158",
   "metadata": {},
   "outputs": [],
   "source": [
    "In this example, we generate two random samples using numpy's random.normal function with means of 10 and 12, standard deviations of 2 and 3, \n",
    "and sizes of 100 each. We then use the ttest_ind function from scipy's stats module to calculate the t-test for the two samples. The t-test \n",
    "calculates the t-statistic and the p-value, which we then print to the console.\n",
    "\n",
    "Note that the null hypothesis for this test is that the population means are equal. If the p-value is less than the significance level \n",
    "(usually 0.05), we reject the null hypothesis and conclude that the population means are significantly different."
   ]
  },
  {
   "cell_type": "markdown",
   "id": "aedbf6ab-7ecd-413b-90bd-cae86676e021",
   "metadata": {},
   "source": [
    "### Q11"
   ]
  },
  {
   "cell_type": "code",
   "execution_count": null,
   "id": "1e50c035-f03d-4c59-b214-4418487c28ea",
   "metadata": {},
   "outputs": [],
   "source": [
    "Q11: What is Student’s t distribution? When to use the t-Distribution."
   ]
  },
  {
   "cell_type": "code",
   "execution_count": null,
   "id": "ed9f36ef-636e-4043-9574-a5f02e6e18f9",
   "metadata": {},
   "outputs": [],
   "source": [
    "Ans:- Student's t-distribution is a probability distribution that arises in the problem of estimating the population mean of a normally\n",
    "distributed variable when the sample size is small or the population variance is unknown. It is similar to the standard normal distribution but\n",
    "has heavier tails, which makes it more appropriate for small sample sizes.\n",
    "\n",
    "The t-distribution is commonly used in hypothesis testing to determine if there is a significant difference between the means of two independent\n",
    "samples, when the population standard deviation is unknown. It is also used to construct confidence intervals for the population mean when the\n",
    "sample size is small or the population variance is unknown."
   ]
  },
  {
   "cell_type": "markdown",
   "id": "b5124819-d862-4e99-bf01-a7e2e2ca5f9e",
   "metadata": {},
   "source": [
    "### Q12"
   ]
  },
  {
   "cell_type": "code",
   "execution_count": null,
   "id": "d4700224-842d-414c-99fe-22116bbb9314",
   "metadata": {},
   "outputs": [],
   "source": [
    "Q12: What is t-statistic? State the formula for t-statistic."
   ]
  },
  {
   "cell_type": "code",
   "execution_count": null,
   "id": "88a852d0-51ad-4000-8235-2c2f2954bfca",
   "metadata": {},
   "outputs": [],
   "source": [
    "Ans:- The t-statistic is a measure of how much the sample mean deviates from the null hypothesis. It is used in hypothesis testing to \n",
    "determine whether there is a significant difference between the means of two populations. The formula for t-statistic is:\n",
    "\n",
    "t = (x1 - x2) / sqrt((s1^2/n1) + (s2^2/n2))\n",
    "\n",
    "where:\n",
    "x1 and x2 are the sample means\n",
    "s1 and s2 are the sample standard deviations\n",
    "n1 and n2 are the sample sizes"
   ]
  },
  {
   "cell_type": "markdown",
   "id": "8ee25eca-1f07-4625-b0a1-fb57c55bc616",
   "metadata": {},
   "source": [
    "### Q13"
   ]
  },
  {
   "cell_type": "code",
   "execution_count": null,
   "id": "0d4c4481-76b5-4405-b292-be9a088ee8a0",
   "metadata": {},
   "outputs": [],
   "source": [
    "Q13. A coffee shop owner wants to estimate the average daily revenue for their shop. They take a random\n",
    "sample of 50 days and find the sample mean revenue to be $500 with a standard deviation of $50.\n",
    "Estimate the population mean revenue with a 95% confidence interval."
   ]
  },
  {
   "cell_type": "code",
   "execution_count": null,
   "id": "871b3669-aaa3-413a-ba26-4ca8431d0c00",
   "metadata": {},
   "outputs": [],
   "source": [
    "Ans:- To estimate the population mean revenue with a 95% confidence interval, we can use the following formula:\n",
    "\n",
    "Confidence interval = sample mean +/- margin of error\n",
    "\n",
    "where the margin of error is given by:\n",
    "\n",
    "Margin of error = t-value * standard error\n",
    "\n",
    "The t-value depends on the confidence level and the degrees of freedom. For a 95% confidence level with 49 degrees of freedom (n-1), the \n",
    "t-value is approximately 2.009 (from a t-distribution table or using Python's scipy.stats.t.ppf() function).\n",
    "\n",
    "The standard error is given by the formula:\n",
    "\n",
    "Standard error = sample standard deviation / sqrt(n)\n",
    "\n",
    "Substituting the values given in the problem, we get:\n",
    "\n",
    "Standard error = 50 / sqrt(50) = 7.07\n",
    "\n",
    "Margin of error = 2.009 * 7.07 = 14.20\n",
    "\n",
    "Confidence interval = 500 +/- 14.20 = (485.80, 514.20)\n",
    "\n",
    "Therefore, we can say with 95% confidence that the population mean revenue for the coffee shop is between $485.80 and $514.20."
   ]
  },
  {
   "cell_type": "markdown",
   "id": "2118ad22-6123-4229-a7da-ca98d89a40e0",
   "metadata": {},
   "source": [
    "### Q14"
   ]
  },
  {
   "cell_type": "code",
   "execution_count": null,
   "id": "e37b814f-9ed4-49f2-95b5-e01128849d22",
   "metadata": {},
   "outputs": [],
   "source": [
    "Q14. A researcher hypothesizes that a new drug will decrease blood pressure by 10 mmHg. They conduct a\n",
    "clinical trial with 100 patients and find that the sample mean decrease in blood pressure is 8 mmHg with a\n",
    "standard deviation of 3 mmHg. Test the hypothesis with a significance level of 0.05."
   ]
  },
  {
   "cell_type": "code",
   "execution_count": null,
   "id": "ff98f5bc-85c3-4656-b797-8e50815816d0",
   "metadata": {},
   "outputs": [],
   "source": [
    "Ans:- To test the hypothesis with a significance level of 0.05, we will use a one-sample t-test.\n",
    "\n",
    "The null hypothesis is that the true mean decrease in blood pressure is equal to 10 mmHg.\n",
    "The alternative hypothesis is that the true mean decrease in blood pressure is less than 10 mmHg.\n",
    "\n",
    "We will use a one-tailed t-test because we are interested in testing if the decrease in blood pressure is less than 10 mmHg.\n",
    "\n",
    "The test statistic can be calculated using the formula:\n",
    "\n",
    "t = (x̄ - μ) / (s / √n)\n",
    "\n",
    "Where x̄ is the sample mean, μ is the hypothesized population mean (10 mmHg), s is the sample standard deviation, and n is the sample size.\n",
    "\n",
    "t = (8 - 10) / (3 / √100) = -4.47\n",
    "\n",
    "Using a t-distribution table with 99 degrees of freedom (n-1), we find that the p-value for a one-tailed test with a t-score of -4.47 is less\n",
    "than\n",
    "0.0005.\n",
    "\n",
    "Since the p-value is less than 0.05, we reject the null hypothesis and conclude that the new drug does decrease blood pressure by more than \n",
    "10 mmHg."
   ]
  },
  {
   "cell_type": "markdown",
   "id": "c0ce06a4-77de-4875-95d8-4d98d090e058",
   "metadata": {},
   "source": [
    "### Q15"
   ]
  },
  {
   "cell_type": "code",
   "execution_count": null,
   "id": "972d6526-210e-49de-ab53-5b303ee2064a",
   "metadata": {},
   "outputs": [],
   "source": [
    "Q15. An electronics company produces a certain type of product with a mean weight of 5 pounds and a\n",
    "standard deviation of 0.5 pounds. A random sample of 25 products is taken, and the sample mean weight\n",
    "is found to be 4.8 pounds. Test the hypothesis that the true mean weight of the products is less than 5\n",
    "pounds with a significance level of 0.01."
   ]
  },
  {
   "cell_type": "code",
   "execution_count": null,
   "id": "05d8db58-a07a-41aa-8d60-398290c82d8f",
   "metadata": {},
   "outputs": [],
   "source": [
    "Ans:- Given:\n",
    "\n",
    "=> Population mean (µ) = 5 pounds\n",
    "=> Population standard deviation (σ) = 0.5 pounds\n",
    "=> Sample size (n) = 25\n",
    "=> Sample mean (x̄) = 4.8 pounds\n",
    "=> Significance level (α) = 0.01\n",
    "We need to test the hypothesis that the true mean weight of the products is less than 5 pounds.\n",
    "\n",
    "Null hypothesis: H0: µ >= 5\n",
    "Alternative hypothesis: Ha: µ < 5\n",
    "\n",
    "We need to find the t-score using the formula:\n",
    "\n",
    "t = (x̄ - µ) / (s / sqrt(n))\n",
    "\n",
    "where s = population standard deviation / sqrt(n)\n",
    "\n",
    "Using the values given above, we get:\n",
    "\n",
    "s = 0.5 / sqrt(25) = 0.1\n",
    "\n",
    "t = (4.8 - 5) / (0.1) = -2\n",
    "\n",
    "The degrees of freedom (df) = n - 1 = 24\n",
    "\n",
    "Using a t-table or calculator, we find that the critical value of t for a one-tailed test with 24 degrees of freedom and a significance level of\n",
    "0.01 is -2.492.\n",
    "\n",
    "Since the calculated t-score (-2) is greater than the critical t-value (-2.492), we reject the null hypothesis.\n",
    "\n",
    "Therefore, we can conclude that there is sufficient evidence to support the alternative hypothesis that the true mean weight of the products is\n",
    "less than 5 pounds."
   ]
  },
  {
   "cell_type": "markdown",
   "id": "044a2694-e6cd-4c92-94d4-324ac680689b",
   "metadata": {},
   "source": [
    "### Q16"
   ]
  },
  {
   "cell_type": "code",
   "execution_count": null,
   "id": "f3e4230f-0872-4749-bfc4-68ad432cb552",
   "metadata": {},
   "outputs": [],
   "source": [
    "Q16. Two groups of students are given different study materials to prepare for a test. The first group (n1 =\n",
    "30) has a mean score of 80 with a standard deviation of 10, and the second group (n2 = 40) has a mean\n",
    "score of 75 with a standard deviation of 8. Test the hypothesis that the population means for the two\n",
    "groups are equal with a significance level of 0.01."
   ]
  },
  {
   "cell_type": "code",
   "execution_count": null,
   "id": "18cd1e39-21cb-46f9-b9c6-a2d72a47131d",
   "metadata": {},
   "outputs": [],
   "source": [
    "Ans:- To test whether the population means of the two groups are equal, we can use a two-sample t-test. The null hypothesis is that the means \n",
    "are equal, and the alternative hypothesis is that they are not.\n",
    "\n",
    "We can use the following formula to calculate the t-statistic:\n",
    "\n",
    "t = (x1 - x2) / (s1^2/n1 + s2^2/n2)^0.5\n",
    "\n",
    "where x1 and x2 are the sample means, s1 and s2 are the sample standard deviations, and n1 and n2 are the sample sizes.\n",
    "\n",
    "Using the given values, we have:\n",
    "\n",
    "x1 = 80, s1 = 10, n1 = 30\n",
    "x2 = 75, s2 = 8, n2 = 40\n",
    "\n",
    "Plugging in these values, we get:\n",
    "\n",
    "t = (80 - 75) / (10^2/30 + 8^2/40)^0.5\n",
    "t = 2.63\n",
    "\n",
    "The degrees of freedom for this test is (n1 + n2 - 2) = 68.\n",
    "\n",
    "We can now use a t-distribution table to find the critical t-value at a significance level of 0.01 with 68 degrees of freedom. The critical \n",
    "t-value is 2.645.\n",
    "\n",
    "Since our calculated t-value of 2.63 is less than the critical t-value of 2.645, we fail to reject the null hypothesis. We do not have sufficient\n",
    "evidence to conclude that the population means for the two groups are different at a significance level of 0.01.\n",
    "\n",
    "Therefore, we can conclude that there is not enough evidence to support the claim that the population means of the two groups are different."
   ]
  },
  {
   "cell_type": "markdown",
   "id": "96b74bec-1858-4257-b8ea-a25cd060d6ce",
   "metadata": {},
   "source": [
    "### Q17"
   ]
  },
  {
   "cell_type": "code",
   "execution_count": null,
   "id": "46f18b81-477c-4f5c-8adb-6866cbfd7a09",
   "metadata": {},
   "outputs": [],
   "source": [
    "Q17. A marketing company wants to estimate the average number of ads watched by viewers during a TV\n",
    "program. They take a random sample of 50 viewers and find that the sample mean is 4 with a standard\n",
    "deviation of 1.5. Estimate the population mean with a 99% confidence interval."
   ]
  },
  {
   "cell_type": "code",
   "execution_count": null,
   "id": "b54492fd-85c8-4e4c-a275-14497be80bbb",
   "metadata": {},
   "outputs": [],
   "source": [
    "Ans:- To estimate the population mean with a 99% confidence interval, we can use the following formula:\n",
    "\n",
    "CI = x̄ ± z* (s / √n)\n",
    "\n",
    "where CI is the confidence interval, x̄ is the sample mean, s is the sample standard deviation, n is the sample size, and z* is the critical \n",
    "z-value based on the confidence level.\n",
    "\n",
    "Since we want a 99% confidence interval, the critical z-value will be 2.576 (from a standard normal distribution table).\n",
    "\n",
    "Plugging in the given values, we have:\n",
    "\n",
    "CI = 4 ± 2.576 * (1.5 / √50)\n",
    "\n",
    "Simplifying this expression, we get:\n",
    "\n",
    "CI = 4 ± 0.678\n",
    "\n",
    "Therefore, the 99% confidence interval for the population mean number of ads watched by viewers during a TV program is (3.322, 4.678).\n",
    "\n",
    "We can be 99% confident that the true population mean lies within this interval. In other words, if we were to repeat this sampling procedure \n",
    "many times and calculate the confidence interval each time, approximately 99% of these intervals would contain the true population mean."
   ]
  },
  {
   "cell_type": "code",
   "execution_count": null,
   "id": "e058038f-ce3c-4d84-87c9-0adf596b70b7",
   "metadata": {},
   "outputs": [],
   "source": []
  }
 ],
 "metadata": {
  "kernelspec": {
   "display_name": "Python 3 (ipykernel)",
   "language": "python",
   "name": "python3"
  },
  "language_info": {
   "codemirror_mode": {
    "name": "ipython",
    "version": 3
   },
   "file_extension": ".py",
   "mimetype": "text/x-python",
   "name": "python",
   "nbconvert_exporter": "python",
   "pygments_lexer": "ipython3",
   "version": "3.10.8"
  }
 },
 "nbformat": 4,
 "nbformat_minor": 5
}
