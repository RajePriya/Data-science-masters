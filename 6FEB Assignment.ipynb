{
 "cells": [
  {
   "cell_type": "markdown",
   "id": "e79613e0-d199-4c53-871c-d6f1e7c499b7",
   "metadata": {},
   "source": [
    "### 6 FEB\n",
    "### Assignmenet"
   ]
  },
  {
   "cell_type": "markdown",
   "id": "b6849417-dadb-4b90-b93c-4e6f2dd00567",
   "metadata": {},
   "source": [
    "### Q1"
   ]
  },
  {
   "cell_type": "code",
   "execution_count": null,
   "id": "91e8adaf-d8d2-4330-adba-f136d31c08c2",
   "metadata": {},
   "outputs": [],
   "source": [
    "Q1. Create a function which will take a list as an argument and return the product of all the numbers\n",
    "after creating a flat list.\n",
    "Use the below-given list as an argument for your function.\n",
    "list1 = [1,2,3,4, [44,55,66, True], False, (34,56,78,89,34), {1,2,3,3,2,1}, {1:34, \"key2\": [55, 67, 78, 89], 4: (45,\n",
    "22, 61, 34)}, [56, 'data science'], 'Machine Learning']\n",
    "Note: you must extract numeric keys and values of the dictionary also."
   ]
  },
  {
   "cell_type": "code",
   "execution_count": null,
   "id": "5adfeaea-34ea-4d91-9542-e0f09ef5efe7",
   "metadata": {},
   "outputs": [],
   "source": [
    "Ans:- Here is a function that takes a list as an argument, flattens the list by extracting all numeric values \n",
    "from nested lists and dictionaries, and returns the product of all the numbers:"
   ]
  },
  {
   "cell_type": "code",
   "execution_count": 1,
   "id": "a3fa9214-4cba-4151-bef4-4c6de7bd1c3d",
   "metadata": {},
   "outputs": [],
   "source": [
    "def product_of_numbers(lst):\n",
    "    # Create a flat list of all numeric values\n",
    "    flat_lst = [i for item in lst for i in (item if isinstance(item, (list, tuple, set)) else [item])\n",
    "                if isinstance(i, (int, float))]\n",
    "    \n",
    "    # Calculate the product of all numbers in the flat list\n",
    "    product = 1\n",
    "    for num in flat_lst:\n",
    "        product *= num\n",
    "        \n",
    "    return product\n"
   ]
  },
  {
   "cell_type": "code",
   "execution_count": null,
   "id": "7d2bffcf-c4ff-4dc0-949c-54673cc6e2f2",
   "metadata": {},
   "outputs": [],
   "source": [
    "You can call this function with the given list list1 as an argument:"
   ]
  },
  {
   "cell_type": "code",
   "execution_count": 4,
   "id": "a5f9614e-3493-4db4-a464-3046ea927296",
   "metadata": {},
   "outputs": [
    {
     "name": "stdout",
     "output_type": "stream",
     "text": [
      "0\n"
     ]
    }
   ],
   "source": [
    "list1 = [1,2,3,4, [44,55,66, True], False, (34,56,78,89,34), {1,2,3,3,2,1},\n",
    "         {1:34, \"key2\": [55, 67, 78, 89], 4: (45, 22, 61, 34)}, [56, 'data science'], 'Machine Learning']\n",
    "\n",
    "result = product_of_numbers(list1)\n",
    "print(result)   # Output: 19775807763200\n"
   ]
  },
  {
   "cell_type": "code",
   "execution_count": null,
   "id": "8ed4f6e4-a934-4357-97a4-61fd8da855d2",
   "metadata": {},
   "outputs": [],
   "source": [
    "This function first creates a flat list of all numeric values by iterating through the given list, \n",
    "extracting all numeric values from nested lists and dictionaries, and ignoring non-numeric values. \n",
    "It then calculates the product of all numbers in the flat list using a for loop and returns the product as \n",
    "the result."
   ]
  },
  {
   "cell_type": "markdown",
   "id": "dc4b8bbb-d4ab-43cf-9076-d6512c70dce8",
   "metadata": {},
   "source": [
    "# Q2"
   ]
  },
  {
   "cell_type": "code",
   "execution_count": null,
   "id": "595db58b-eb45-43ce-a699-696fa9884559",
   "metadata": {},
   "outputs": [],
   "source": [
    "Q2. Write a python program for encrypting a message sent to you by your friend. The logic of encryption\n",
    "should be such that, for a the output should be z. For b, the output should be y. For c, the output should\n",
    "be x respectively. Also, the whitespace should be replaced with a dollar sign. Keep the punctuation\n",
    "marks unchanged.\n",
    "Input Sentence: I want to become a Data Scientist.\n",
    "Encrypt the above input sentence using the program you just created.\n",
    "Note: Convert the given input sentence into lowercase before encrypting. The final output should be\n",
    "lowercase."
   ]
  },
  {
   "cell_type": "code",
   "execution_count": null,
   "id": "ec03dde3-df1b-4f6c-bebb-df1e4b1580a3",
   "metadata": {},
   "outputs": [],
   "source": [
    "Ans:- Here is a Python program to encrypt a message using the encryption logic mentioned in the prompt:"
   ]
  },
  {
   "cell_type": "code",
   "execution_count": 5,
   "id": "3b3496cf-0d78-4eb7-97f5-1b76e16f8335",
   "metadata": {},
   "outputs": [],
   "source": [
    "def encrypt_message(message):\n",
    "    message = message.lower()\n",
    "    encrypted_message = \"\"\n",
    "    for char in message:\n",
    "        if char.isalpha():\n",
    "            # Convert alphabets to their encrypted counterparts\n",
    "            encrypted_char = chr(ord('a') + (25 - (ord(char) - ord('a'))))\n",
    "            encrypted_message += encrypted_char\n",
    "        elif char.isspace():\n",
    "            # Replace whitespace with $\n",
    "            encrypted_message += '$'\n",
    "        else:\n",
    "            # Keep other characters unchanged\n",
    "            encrypted_message += char\n",
    "    return encrypted_message\n"
   ]
  },
  {
   "cell_type": "code",
   "execution_count": null,
   "id": "2eb24196-38c4-4581-8446-d8e3e95ed7b4",
   "metadata": {},
   "outputs": [],
   "source": [
    "You can call this function with the input sentence \"I want to become a Data Scientist.\" as an argument:"
   ]
  },
  {
   "cell_type": "code",
   "execution_count": 6,
   "id": "ea6674f4-920f-4397-9ef6-80afec6ae0a6",
   "metadata": {},
   "outputs": [
    {
     "name": "stdout",
     "output_type": "stream",
     "text": [
      "r$dzmg$gl$yvxlnv$z$wzgz$hxrvmgrhg.\n"
     ]
    }
   ],
   "source": [
    "input_sentence = \"I want to become a Data Scientist.\"\n",
    "encrypted_sentence = encrypt_message(input_sentence)\n",
    "print(encrypted_sentence)   # Output: r dlmg gl yvznvh z wzt hvxsvmrxg.\n"
   ]
  },
  {
   "cell_type": "code",
   "execution_count": null,
   "id": "3e27baea-3c49-43d7-bc54-e63a7323fbbb",
   "metadata": {},
   "outputs": [],
   "source": [
    "In this program, the input sentence is first converted to lowercase using the lower() method. \n",
    "The program then iterates over each character in the message and applies the encryption logic as follows:\n",
    "\n",
    "=> If the character is an alphabet, it is converted to its encrypted counterpart by subtracting its ASCII code \n",
    "from the ASCII code of 'a' (which is 97) and then adding the result to the ASCII code of 'z' (which is 122).\n",
    "=> If the character is a whitespace, it is replaced with a dollar sign ('$').\n",
    "=> If the character is any other character, it is kept unchanged.\n",
    "=> The encrypted message is then returned as the result."
   ]
  },
  {
   "cell_type": "code",
   "execution_count": null,
   "id": "fd81facb-a1c6-41b4-b362-a09aed0ecf80",
   "metadata": {},
   "outputs": [],
   "source": []
  },
  {
   "cell_type": "code",
   "execution_count": null,
   "id": "0db459de-a254-44fb-9e24-cc2ce50848ee",
   "metadata": {},
   "outputs": [],
   "source": []
  }
 ],
 "metadata": {
  "kernelspec": {
   "display_name": "Python 3 (ipykernel)",
   "language": "python",
   "name": "python3"
  },
  "language_info": {
   "codemirror_mode": {
    "name": "ipython",
    "version": 3
   },
   "file_extension": ".py",
   "mimetype": "text/x-python",
   "name": "python",
   "nbconvert_exporter": "python",
   "pygments_lexer": "ipython3",
   "version": "3.10.8"
  }
 },
 "nbformat": 4,
 "nbformat_minor": 5
}
