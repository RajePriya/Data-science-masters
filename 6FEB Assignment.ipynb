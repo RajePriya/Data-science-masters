{
 "cells": [
  {
   "cell_type": "markdown",
   "id": "e79613e0-d199-4c53-871c-d6f1e7c499b7",
   "metadata": {},
   "source": [
    "### 6 FEB\n",
    "### Assignmenet"
   ]
  },
  {
   "cell_type": "markdown",
   "id": "b6849417-dadb-4b90-b93c-4e6f2dd00567",
   "metadata": {},
   "source": [
    "### Q1"
   ]
  },
  {
   "cell_type": "code",
   "execution_count": null,
   "id": "91e8adaf-d8d2-4330-adba-f136d31c08c2",
   "metadata": {},
   "outputs": [],
   "source": [
    "Q1. Create a function which will take a list as an argument and return the product of all the numbers\n",
    "after creating a flat list.\n",
    "Use the below-given list as an argument for your function.\n",
    "list1 = [1,2,3,4, [44,55,66, True], False, (34,56,78,89,34), {1,2,3,3,2,1}, {1:34, \"key2\": [55, 67, 78, 89], 4: (45,\n",
    "22, 61, 34)}, [56, 'data science'], 'Machine Learning']\n",
    "Note: you must extract numeric keys and values of the dictionary also."
   ]
  },
  {
   "cell_type": "code",
   "execution_count": 16,
   "id": "43d3256a-57f9-4625-b28c-94358adb4fc8",
   "metadata": {},
   "outputs": [],
   "source": [
    "list1 = [1,2,3,4, [44,55,66, True], False, (34,56,78,89,34), {1,2,3,3,2,1}, {1:34, \"key2\": [55, 67, 78, 89], 4: (45,\n",
    "22, 61, 34)}, [56, 'data science'], 'Machine Learning']"
   ]
  },
  {
   "cell_type": "code",
   "execution_count": 17,
   "id": "04c3cf56-8c43-4049-8dcc-3889d3e887f2",
   "metadata": {},
   "outputs": [],
   "source": [
    "def productList(list1):\n",
    "    flat_list = []\n",
    "    for item in list1:\n",
    "        if type(item) == list:\n",
    "            for i in item:\n",
    "                flat_list.append(i)\n",
    "        elif type(item) == dict:\n",
    "            for key,val in item.items():\n",
    "                if type(val) == list:\n",
    "                    for i in val:\n",
    "                        flat_list.append(i)\n",
    "                else:\n",
    "                    flat_list.append(val)\n",
    "        elif type(item) == tuple:\n",
    "            for i in item:\n",
    "                flat_list.append(i)\n",
    "        else:\n",
    "            flat_list.append(item)\n",
    "    product = 1\n",
    "    for item in flat_list:\n",
    "        if type(item) == int or type(item) == float:\n",
    "            product *= item\n",
    "    return product"
   ]
  },
  {
   "cell_type": "code",
   "execution_count": 18,
   "id": "7f4c53f0-c632-405c-a8e5-fd1b0834ac19",
   "metadata": {},
   "outputs": [
    {
     "name": "stdout",
     "output_type": "stream",
     "text": [
      "83905428420071120211148800\n"
     ]
    }
   ],
   "source": [
    "print(productList(list1))"
   ]
  },
  {
   "cell_type": "markdown",
   "id": "dc4b8bbb-d4ab-43cf-9076-d6512c70dce8",
   "metadata": {},
   "source": [
    "# Q2"
   ]
  },
  {
   "cell_type": "code",
   "execution_count": null,
   "id": "595db58b-eb45-43ce-a699-696fa9884559",
   "metadata": {},
   "outputs": [],
   "source": [
    "Q2. Write a python program for encrypting a message sent to you by your friend. The logic of encryption\n",
    "should be such that, for a the output should be z. For b, the output should be y. For c, the output should\n",
    "be x respectively. Also, the whitespace should be replaced with a dollar sign. Keep the punctuation\n",
    "marks unchanged.\n",
    "Input Sentence: I want to become a Data Scientist.\n",
    "Encrypt the above input sentence using the program you just created.\n",
    "Note: Convert the given input sentence into lowercase before encrypting. The final output should be\n",
    "lowercase."
   ]
  },
  {
   "cell_type": "code",
   "execution_count": null,
   "id": "2fd4e3bd-eead-465d-a5a6-5fe8e6aeb2c1",
   "metadata": {},
   "outputs": [],
   "source": [
    "# Input Sentence: i want to become a data scientist.\n"
   ]
  },
  {
   "cell_type": "code",
   "execution_count": null,
   "id": "d60b903f-7cf7-4aac-aa41-636c7cfd1a96",
   "metadata": {},
   "outputs": [],
   "source": [
    "# Encrypted Sentence: $wznt$tobxyme$ax$dxtxta$sciexitifxt."
   ]
  },
  {
   "cell_type": "code",
   "execution_count": null,
   "id": "ec03dde3-df1b-4f6c-bebb-df1e4b1580a3",
   "metadata": {},
   "outputs": [],
   "source": []
  },
  {
   "cell_type": "code",
   "execution_count": null,
   "id": "3b3496cf-0d78-4eb7-97f5-1b76e16f8335",
   "metadata": {},
   "outputs": [],
   "source": []
  },
  {
   "cell_type": "code",
   "execution_count": null,
   "id": "2eb24196-38c4-4581-8446-d8e3e95ed7b4",
   "metadata": {},
   "outputs": [],
   "source": []
  },
  {
   "cell_type": "code",
   "execution_count": null,
   "id": "ea6674f4-920f-4397-9ef6-80afec6ae0a6",
   "metadata": {},
   "outputs": [],
   "source": []
  }
 ],
 "metadata": {
  "kernelspec": {
   "display_name": "Python 3 (ipykernel)",
   "language": "python",
   "name": "python3"
  },
  "language_info": {
   "codemirror_mode": {
    "name": "ipython",
    "version": 3
   },
   "file_extension": ".py",
   "mimetype": "text/x-python",
   "name": "python",
   "nbconvert_exporter": "python",
   "pygments_lexer": "ipython3",
   "version": "3.10.8"
  }
 },
 "nbformat": 4,
 "nbformat_minor": 5
}
