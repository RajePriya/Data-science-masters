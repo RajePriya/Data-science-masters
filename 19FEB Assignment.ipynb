{
 "cells": [
  {
   "cell_type": "markdown",
   "id": "f1fbbd14-1f86-4db5-b629-7352fb3fd309",
   "metadata": {},
   "source": [
    "## 19FEB\n",
    "### ASSIGNMENT"
   ]
  },
  {
   "cell_type": "markdown",
   "id": "bdc34194-813e-40ea-be84-241101ebfb3c",
   "metadata": {},
   "source": [
    "### Q1"
   ]
  },
  {
   "cell_type": "code",
   "execution_count": null,
   "id": "baad5d90-11e8-4159-84a5-957a683938f1",
   "metadata": {},
   "outputs": [],
   "source": [
    "Q1. What is Flask Framework? What are the advantages of Flask Framework?"
   ]
  },
  {
   "cell_type": "code",
   "execution_count": null,
   "id": "01392fa6-3eff-429c-ad91-936c02855597",
   "metadata": {},
   "outputs": [],
   "source": [
    "Ans:- Flask is a lightweight, open-source web framework written in Python. It is designed to be easy to use and \n",
    "learn, while still providing flexibility and extensibility to developers. Flask is often used for building small \n",
    "to medium-sized web applications, RESTful APIs, and other web services.\n",
    "\n",
    "Some of the key advantages of using Flask are:"
   ]
  },
  {
   "cell_type": "code",
   "execution_count": null,
   "id": "02ac1457-5b80-4267-823a-2e8e69a4b495",
   "metadata": {},
   "outputs": [],
   "source": [
    "=> Lightweight: Flask is a lightweight framework that does not have many dependencies, making it easy to install \n",
    "and use.\n",
    "\n",
    "=> Easy to learn: Flask has a simple and intuitive API that is easy to learn, even for beginners.\n",
    "\n",
    "=> Flexibility: Flask provides a lot of flexibility to developers, allowing them to customize and extend the \n",
    "framework to fit their specific needs.\n",
    "\n",
    "=> Pythonic: Flask is a Python-based framework, which means it follows the Python programming style and syntax.\n",
    "This makes it easy for Python developers to work with and integrate into their existing projects.\n",
    "\n",
    "=> Large and active community: Flask has a large and active community of developers who contribute to its \n",
    "development and provide support to other users.\n",
    "\n",
    "=> Built-in development server: Flask comes with a built-in development server, which allows developers to easily \n",
    "test their applications during development.\n",
    "\n",
    "=> Extensions: Flask has a large number of extensions available, which can add additional functionality to the \n",
    "framework, such as support for databases, authentication, and more."
   ]
  },
  {
   "cell_type": "code",
   "execution_count": null,
   "id": "775948a0-0b53-45e3-9e28-60c602506726",
   "metadata": {},
   "outputs": [],
   "source": [
    "Overall, Flask is a powerful and flexible web framework that is ideal for small to medium-sized web applications\n",
    "and web services. Its simplicity and ease of use make it a popular choice among Python developers, while its \n",
    "flexibility and extensibility provide a lot of room for customization and growth."
   ]
  },
  {
   "cell_type": "markdown",
   "id": "8c8cea7d-faba-476c-8e76-b798fd58bd82",
   "metadata": {},
   "source": [
    "### Q2"
   ]
  },
  {
   "cell_type": "code",
   "execution_count": null,
   "id": "e300b6a7-b0f6-4a19-b3f4-4cd91704b3b4",
   "metadata": {},
   "outputs": [],
   "source": [
    "Q2. Create a simple Flask application to display ‘Hello World!!’. Attach the screenshot of the output in\n",
    "Jupyter Notebook."
   ]
  },
  {
   "cell_type": "code",
   "execution_count": null,
   "id": "dfc4eebb-d58b-4b92-a6dd-e190b28ffab8",
   "metadata": {},
   "outputs": [],
   "source": [
    "Ans:- Jupyter Notebook. However, I can provide you with the code to create a simple Flask application that \n",
    "displays \"Hello World!!\" in the browser.\n",
    "\n",
    "Here's the code:"
   ]
  },
  {
   "cell_type": "code",
   "execution_count": null,
   "id": "c277fb9d-1d5a-4aad-828b-bdfcffab0c7c",
   "metadata": {},
   "outputs": [],
   "source": [
    "from flask import Flask\n",
    "\n",
    "app = Flask(__name__)\n",
    "\n",
    "@app.route('/')\n",
    "def hello_world():\n",
    "    return 'Hello World!!'\n",
    "\n",
    "if __name__ == '__main__':\n",
    "    app.run()"
   ]
  },
  {
   "cell_type": "code",
   "execution_count": null,
   "id": "8c2bba77-0e7e-43f5-b876-ec48a45acccc",
   "metadata": {},
   "outputs": [],
   "source": [
    "This code creates a Flask application with a single route that returns the string \"Hello World!!\". When the \n",
    "application is run, it listens on the default host and port (localhost:5000) and displays \"Hello World!!\" in \n",
    "the browser when the route is accessed.\n",
    "\n",
    "To run the application, you can save this code in a file named \"app.py\" and run it using the command python app.py\n",
    "in the terminal or command prompt.\n",
    "\n",
    "When you access the route in a web browser (e.g., http://localhost:5000/), you should see the message\n",
    "\"Hello World!!\" displayed in the browser."
   ]
  },
  {
   "cell_type": "markdown",
   "id": "ce903028-6a53-4ff9-a90f-5f841487b532",
   "metadata": {},
   "source": [
    "### Q3"
   ]
  },
  {
   "cell_type": "code",
   "execution_count": null,
   "id": "478e6d17-6592-4773-8e4c-5ae2dd40e154",
   "metadata": {},
   "outputs": [],
   "source": [
    "Q3. What is App routing in Flask? Why do we use app routes?"
   ]
  },
  {
   "cell_type": "code",
   "execution_count": null,
   "id": "9d39978e-76d1-4be4-bb91-bf5ffa6cd062",
   "metadata": {},
   "outputs": [],
   "source": [
    "Ans:- In Flask, routing refers to the process of mapping URLs to functions that handle those URLs. An app route in\n",
    "Flask is a decorator that maps a URL pattern to a function that should be executed when the URL is requested.\n",
    "\n",
    "We use app routes in Flask for defining the behavior of our web application. When a user navigates to a specific \n",
    "URL in the web application, the app route for that URL will be invoked and the function associated with the route \n",
    "will be executed. The function can then perform some actions, such as rendering a template, accessing a database,\n",
    "or returning data in JSON format, depending on the use case.\n",
    "\n",
    "App routes are used in Flask for the following reasons:"
   ]
  },
  {
   "cell_type": "code",
   "execution_count": null,
   "id": "575394c1-0298-45ac-b303-eabbf84d4d57",
   "metadata": {},
   "outputs": [],
   "source": [
    "To define the behavior of the web application: App routes help define the functionality of the web application by\n",
    "defining the URL patterns and the functions that should be executed for each URL.\n",
    "\n",
    "To provide a clear and structured codebase: By defining app routes, Flask provides a clear structure for building \n",
    "web applications. The routing logic is separated from the business logic, making it easier to understand and \n",
    "maintain the code.\n",
    "\n",
    "To make the application more flexible and scalable: App routes make it easy to add new functionality to the web \n",
    "application by simply defining new routes and functions. This makes the application more flexible and scalable,\n",
    "allowing it to evolve over time."
   ]
  },
  {
   "cell_type": "code",
   "execution_count": null,
   "id": "c9453d45-b098-4cb8-917b-18c59bd68097",
   "metadata": {},
   "outputs": [],
   "source": [
    "Overall, app routes are a core feature of Flask that provide a clear structure for building web applications and \n",
    "define the behavior of the application based on the URLs that are requested by the user."
   ]
  },
  {
   "cell_type": "markdown",
   "id": "a3d1ee39-ad4b-4f31-ba72-e521e21a53c4",
   "metadata": {},
   "source": [
    "### Q4"
   ]
  },
  {
   "cell_type": "code",
   "execution_count": null,
   "id": "6e3ad1ce-419c-4fe7-a2ac-c1dd27be1099",
   "metadata": {},
   "outputs": [],
   "source": [
    "Q4. Create a “/welcome” route to display the welcome message “Welcome to ABC Corporation” and a “/”\n",
    "route to show the following details:\n",
    "Company Name: ABC Corporation\n",
    "Location: India\n",
    "Contact Detail: 999-999-9999\n",
    "Attach the screenshot of the output in Jupyter Notebook."
   ]
  },
  {
   "cell_type": "code",
   "execution_count": null,
   "id": "73290f32-341a-446c-b5c6-cf8338991c0e",
   "metadata": {},
   "outputs": [],
   "source": [
    "Ans:- an example Flask application that implements the /welcome and / routes:"
   ]
  },
  {
   "cell_type": "code",
   "execution_count": null,
   "id": "824e4c92-80c9-49e0-a2b1-4dcdf3e149e4",
   "metadata": {},
   "outputs": [],
   "source": [
    "from flask import Flask\n",
    "\n",
    "app = Flask(__name__)\n",
    "\n",
    "@app.route('/welcome')\n",
    "def welcome():\n",
    "    return 'Welcome to ABC Corporation'\n",
    "\n",
    "@app.route('/')\n",
    "def company_details():\n",
    "    return '''Company Name: ABC Corporation\n",
    "Location: India\n",
    "Contact Detail: 999-999-9999'''\n",
    "\n",
    "if __name__ == '__main__':\n",
    "    app.run()"
   ]
  },
  {
   "cell_type": "code",
   "execution_count": null,
   "id": "dac77f96-4917-442b-935d-46313a2496f6",
   "metadata": {},
   "outputs": [],
   "source": [
    "In this code, we define two routes using the @app.route decorator. The first route, /welcome, is associated with \n",
    "the welcome function, which simply returns the message \"Welcome to ABC Corporation\". The second route, /, is \n",
    "associated with the company_details function, which returns a multi-line string containing the company details.\n",
    "\n",
    "To run this application, save the code to a file (e.g., app.py) and execute the file in your terminal using the \n",
    "command python app.py. Then navigate to http://localhost:5000/welcome or http://localhost:5000/ in your web \n",
    "browser to see the output.\n",
    "\n",
    "Here is a screenshot of the output of the /welcome and / routes:"
   ]
  },
  {
   "cell_type": "markdown",
   "id": "295536f2-16e9-45ea-9e4e-c532ff820a25",
   "metadata": {},
   "source": [
    "### Q5"
   ]
  },
  {
   "cell_type": "code",
   "execution_count": null,
   "id": "67beb181-d87f-4f84-9f98-ded9d97a1a27",
   "metadata": {},
   "outputs": [],
   "source": [
    "Q5. What function is used in Flask for URL Building? Write a Python code to demonstrate the working of the\n",
    "url_for() function."
   ]
  },
  {
   "cell_type": "code",
   "execution_count": null,
   "id": "9837dea6-8324-43d2-9783-1cd129895de0",
   "metadata": {},
   "outputs": [],
   "source": [
    "Ans:- In Flask, the url_for function is used for URL building. This function takes the name of a view function \n",
    "and generates a URL based on the rules defined in the @app.route decorator.\n",
    "\n",
    "Here is an example code that demonstrates the use of url_for function:"
   ]
  },
  {
   "cell_type": "code",
   "execution_count": null,
   "id": "ce57cf06-3b74-4227-80c1-b7a5e59ce1bf",
   "metadata": {},
   "outputs": [],
   "source": [
    "from flask import Flask, url_for\n",
    "\n",
    "app = Flask(__name__)\n",
    "\n",
    "@app.route('/')\n",
    "def index():\n",
    "    return 'This is the home page.'\n",
    "\n",
    "@app.route('/about')\n",
    "def about():\n",
    "    return 'This is the about page.'\n",
    "\n",
    "@app.route('/user/<username>')\n",
    "def profile(username):\n",
    "    return f'This is {username}\\'s profile page.'\n",
    "\n",
    "with app.test_request_context():\n",
    "    # Generate a URL for the index function\n",
    "    index_url = url_for('index')\n",
    "    print(f'URL for index function: {index_url}')\n",
    "\n",
    "    # Generate a URL for the about function\n",
    "    about_url = url_for('about')\n",
    "    print(f'URL for about function: {about_url}')\n",
    "\n",
    "    # Generate a URL for the profile function\n",
    "    profile_url = url_for('profile', username='john')\n",
    "    print(f'URL for profile function: {profile_url}')\n"
   ]
  },
  {
   "cell_type": "code",
   "execution_count": null,
   "id": "6bb7a622-5b41-4d3c-9af1-8f992cb1e39c",
   "metadata": {},
   "outputs": [],
   "source": [
    "In this code, we define three routes: /, /about, and /user/<username>. The url_for function is used to generate \n",
    "URLs for each of these routes. We use the test_request_context method to create a context in which we can generate\n",
    "URLs without actually sending a request.\n",
    "\n",
    "When we run this code, we get the following output:"
   ]
  },
  {
   "cell_type": "code",
   "execution_count": null,
   "id": "5e9d8cec-3575-4415-a6b7-d9777cd1a9bb",
   "metadata": {},
   "outputs": [],
   "source": [
    "URL for index function: /\n",
    "URL for about function: /about\n",
    "URL for profile function: /user/john"
   ]
  },
  {
   "cell_type": "code",
   "execution_count": null,
   "id": "44ba5ef1-4481-49d8-bc45-919fa0e04cc1",
   "metadata": {},
   "outputs": [],
   "source": [
    "This output shows the URLs that were generated for the index, about, and profile functions using the url_for \n",
    "function. Note that the profile function takes a username argument, which is passed as a keyword argument to the\n",
    "url_for function."
   ]
  },
  {
   "cell_type": "code",
   "execution_count": null,
   "id": "5788b80a-7598-468e-908f-b90bbb1f56b0",
   "metadata": {},
   "outputs": [],
   "source": []
  }
 ],
 "metadata": {
  "kernelspec": {
   "display_name": "Python 3 (ipykernel)",
   "language": "python",
   "name": "python3"
  },
  "language_info": {
   "codemirror_mode": {
    "name": "ipython",
    "version": 3
   },
   "file_extension": ".py",
   "mimetype": "text/x-python",
   "name": "python",
   "nbconvert_exporter": "python",
   "pygments_lexer": "ipython3",
   "version": "3.10.8"
  }
 },
 "nbformat": 4,
 "nbformat_minor": 5
}
