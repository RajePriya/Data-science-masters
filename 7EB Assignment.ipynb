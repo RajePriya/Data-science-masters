{
 "cells": [
  {
   "cell_type": "markdown",
   "id": "ca103ca8-6e37-4dee-aae9-c4465cdbb86a",
   "metadata": {},
   "source": [
    "## 7FEB"
   ]
  },
  {
   "cell_type": "markdown",
   "id": "bf12bb09-3c2c-47c8-ac07-0eb8da87086d",
   "metadata": {},
   "source": [
    "### Assignment"
   ]
  },
  {
   "cell_type": "markdown",
   "id": "200e870c-0fd3-448a-9d65-b6b51e2b9f5b",
   "metadata": {},
   "source": [
    "## Q1"
   ]
  },
  {
   "cell_type": "code",
   "execution_count": null,
   "id": "47f48a8b-8667-4496-90a2-e9ba5b89e7ea",
   "metadata": {},
   "outputs": [],
   "source": [
    "Q1. You are writing code for a company. The requirement of the company is that you create a python\n",
    "function that will check whether the password entered by the user is correct or not. The function should\n",
    "take the password as input and return the string “Valid Password” if the entered password follows the\n",
    "below-given password guidelines else it should return “Invalid Password”.\n",
    "Note: 1. The Password should contain at least two uppercase letters and at least two lowercase letters.\n",
    "2. The Password should contain at least a number and three special characters.\n",
    "3. The length of the password should be 10 characters long."
   ]
  },
  {
   "cell_type": "code",
   "execution_count": null,
   "id": "44ef0166-d361-480a-9a82-bd0909b34bb6",
   "metadata": {},
   "outputs": [],
   "source": [
    "Ans:- Password Guidelines:\n",
    "•   Must be at least 8 characters long.\n",
    "•   Must contain at least one uppercase letter, one lowercase letter and one number.\n"
   ]
  },
  {
   "cell_type": "code",
   "execution_count": 1,
   "id": "3507ecb9-25e9-4dfb-b2c7-751fca8061f4",
   "metadata": {},
   "outputs": [],
   "source": [
    "def check_password(input_password): \n",
    "  # set boolean variables to False \n",
    "  has_upper = False\n",
    "  has_lower = False\n",
    "  has_number = False\n",
    "  has_special = False"
   ]
  },
  {
   "cell_type": "code",
   "execution_count": null,
   "id": "481bd76d-cff6-4aa0-a6ae-0fc51a72f5c9",
   "metadata": {},
   "outputs": [],
   "source": [
    "# check if the password meets the required length\n",
    "  if len(input_password) == 10: \n",
    "    "
   ]
  },
  {
   "cell_type": "code",
   "execution_count": null,
   "id": "9d0abeec-7ff5-4351-bb0e-f12f950181fc",
   "metadata": {},
   "outputs": [],
   "source": [
    "# loop through each character in the password \n",
    "    for char in input_password: \n",
    "      # check if the character is upper case \n",
    "      if char.isupper(): \n",
    "        has_upper = True\n",
    "      # check if the character is lower case \n",
    "      elif char.islower(): \n",
    "        has_lower = True\n",
    "      # check if the character is a number \n",
    "      elif char.isdigit(): \n",
    "        has_number = True\n",
    "      # otherwise it is a special character \n",
    "      else: \n",
    "        has_special = True"
   ]
  },
  {
   "cell_type": "code",
   "execution_count": null,
   "id": "d04f9fa1-4dc4-4f3e-a345-c1e18aec9b28",
   "metadata": {},
   "outputs": [],
   "source": [
    " # check if the password meets all the requirements \n",
    "  if has_upper and has_lower and has_number and has_special: \n",
    "    return \"Valid Password\"\n",
    "  else: \n",
    "    return \"Invalid Password"
   ]
  },
  {
   "cell_type": "markdown",
   "id": "6925bce4-7e34-40e1-a686-4808849cd3c4",
   "metadata": {},
   "source": [
    "# Q2"
   ]
  },
  {
   "cell_type": "code",
   "execution_count": null,
   "id": "a6598b44-dfa5-4fd0-82ce-3e165bfd6e86",
   "metadata": {},
   "outputs": [],
   "source": [
    "Q2. Solve the below-given questions using at least one of the following:\n",
    "1. Lambda functioJ\n",
    "2. Filter functioJ\n",
    "3. Zap functioJ\n",
    "4. List ComprehensioI\n",
    "B Check if the string starts with a particular letterY\n",
    "B Check if the string is numericY\n",
    "B Sort a list of tuples having fruit names and their quantity. [(\"mango\",99),(\"orange\",80), (\"grapes\", 1000)-\n",
    "B Find the squares of numbers from 1 to 10Y\n",
    "B Find the cube root of numbers from 1 to 10Y\n",
    "B Check if a given number is evenY\n",
    "B Filter odd numbers from the given list.\n",
    "[1,2,3,4,5,6,7,8,9,10-\n",
    "B Sort a list of integers into positive and negative integers lists.\n",
    "[1,2,3,4,5,6,-1,-2,-3,-4,-5,0]"
   ]
  },
  {
   "cell_type": "code",
   "execution_count": null,
   "id": "f6bb36f3-5989-41bd-9820-ab6b1e84b7c8",
   "metadata": {},
   "outputs": [],
   "source": [
    "Ans:- \n",
    "1. Lambda Function:\n",
    "a. Check if the string starts with a particular letter:\n",
    "    filter(lambda x: x.startswith(\"letter\"), list_of_strings)\n"
   ]
  },
  {
   "cell_type": "code",
   "execution_count": null,
   "id": "01acba3a-77d6-4bb7-82ec-11271d4996cb",
   "metadata": {},
   "outputs": [],
   "source": [
    "b. Check if the string is numeric:\n",
    "    filter(lambda x: x.isnumeric(), list_of_strings)\n"
   ]
  },
  {
   "cell_type": "code",
   "execution_count": null,
   "id": "bd4947b2-7b6b-40fb-bbf3-3637c64af77d",
   "metadata": {},
   "outputs": [],
   "source": [
    "2. Filter Function:\n",
    "a. Sort a list of tuples having fruit names and their quantity:\n",
    "    sorted(list_of_tuples, key=lambda x: (x[0], x[1]))\n"
   ]
  },
  {
   "cell_type": "code",
   "execution_count": null,
   "id": "f0451910-a5c0-4776-afd7-8209370d6be2",
   "metadata": {},
   "outputs": [],
   "source": [
    "3. Map Function:\n",
    "a. Find the squares of numbers from 1 to 10:\n",
    "    list(map(lambda x: x**2, range(1, 11)))\n"
   ]
  },
  {
   "cell_type": "code",
   "execution_count": null,
   "id": "2e8ab7bd-f1d0-4ddd-b574-5568103c44d5",
   "metadata": {},
   "outputs": [],
   "source": [
    "b. Find the cube root of numbers from 1 to 10:\n",
    "    list(map(lambda x: x**(1/3), range(1, 11)))\n"
   ]
  },
  {
   "cell_type": "code",
   "execution_count": null,
   "id": "906b95bd-af45-44fb-b4f2-7b56e17bc877",
   "metadata": {},
   "outputs": [],
   "source": [
    "4. List Comprehension:\n",
    "a. Check if a given number is even:\n",
    "    [x for x in list_of_numbers if x % 2 == 0]\n"
   ]
  },
  {
   "cell_type": "code",
   "execution_count": null,
   "id": "b41f515f-dff4-4fd4-b780-b20b18e7b98b",
   "metadata": {},
   "outputs": [],
   "source": [
    "b. Filter odd numbers from the given list:\n",
    "    [x for x in list_of_numbers if x % 2 != 0]"
   ]
  },
  {
   "cell_type": "code",
   "execution_count": null,
   "id": "f1baceb3-6148-416c-80b2-703f438b07cf",
   "metadata": {},
   "outputs": [],
   "source": [
    "c. Sort a list of integers into positive and negative integers lists:\n",
    "    [x for x in list_of_numbers if x > 0]\n",
    "    [x for x in list_of_numbers if x < 0]"
   ]
  },
  {
   "cell_type": "code",
   "execution_count": null,
   "id": "57713891-27cb-4cbe-9761-abd0dc5ca589",
   "metadata": {},
   "outputs": [],
   "source": []
  },
  {
   "cell_type": "code",
   "execution_count": null,
   "id": "ba66c762-03ed-4216-8791-b4490ae2bd08",
   "metadata": {},
   "outputs": [],
   "source": []
  },
  {
   "cell_type": "code",
   "execution_count": null,
   "id": "5f2a4ca7-1c53-449f-ae4b-e0eae476c215",
   "metadata": {},
   "outputs": [],
   "source": []
  }
 ],
 "metadata": {
  "kernelspec": {
   "display_name": "Python 3 (ipykernel)",
   "language": "python",
   "name": "python3"
  },
  "language_info": {
   "codemirror_mode": {
    "name": "ipython",
    "version": 3
   },
   "file_extension": ".py",
   "mimetype": "text/x-python",
   "name": "python",
   "nbconvert_exporter": "python",
   "pygments_lexer": "ipython3",
   "version": "3.10.8"
  }
 },
 "nbformat": 4,
 "nbformat_minor": 5
}
