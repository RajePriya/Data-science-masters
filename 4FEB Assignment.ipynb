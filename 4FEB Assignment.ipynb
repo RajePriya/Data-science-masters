{
 "cells": [
  {
   "cell_type": "markdown",
   "id": "36b21819-b0ea-4c07-b3e2-ade222935559",
   "metadata": {},
   "source": [
    "## FEB 4\n",
    "## Assignment"
   ]
  },
  {
   "cell_type": "markdown",
   "id": "8be285a4-90a8-47b3-9862-93fa29587b1d",
   "metadata": {},
   "source": [
    "### Q1"
   ]
  },
  {
   "cell_type": "code",
   "execution_count": 23,
   "id": "f94a6c03-f392-470f-86c1-661ee6bd1f43",
   "metadata": {},
   "outputs": [],
   "source": [
    "## Q1. Create a python program to sort the given list of tuples based on integer value using a\n",
    "# lambda function.\n",
    "#[('Sachin Tendulkar', 34357), ('Ricky Ponting', 27483), ('Jack Kallis', 25534), ('Virat Kohli', 24936)]"
   ]
  },
  {
   "cell_type": "code",
   "execution_count": 2,
   "id": "13df45fb-b558-468c-9ca3-5dcf03ff72fe",
   "metadata": {},
   "outputs": [
    {
     "data": {
      "text/plain": [
       "[('Sachin Tendulkar', 34357),\n",
       " ('Ricky Ponting', 27483),\n",
       " ('Jack Kallis', 25534),\n",
       " ('Virat Kohli', 24936)]"
      ]
     },
     "execution_count": 2,
     "metadata": {},
     "output_type": "execute_result"
    }
   ],
   "source": [
    "[('Sachin Tendulkar', 34357), ('Ricky Ponting', 27483), ('Jack Kallis', 25534), ('Virat Kohli', 24936)]"
   ]
  },
  {
   "cell_type": "code",
   "execution_count": 5,
   "id": "23662106-6e75-47c4-874f-5bfae6ae5e14",
   "metadata": {},
   "outputs": [],
   "source": [
    "unsorted_list = [('Sachin Tendulkar', 34357), ('Ricky Ponting', 27483), ('Jack Kallis', 25534), ('Virat Kohli', 24936)]\n"
   ]
  },
  {
   "cell_type": "code",
   "execution_count": 6,
   "id": "572931f5-d93b-4875-9579-1f1b7ed11493",
   "metadata": {},
   "outputs": [],
   "source": [
    "sorted_list = sorted(unsorted_list, key = lambda x: x[1])\n"
   ]
  },
  {
   "cell_type": "code",
   "execution_count": 7,
   "id": "9d471e02-e95b-465d-a87d-66372d0b8e90",
   "metadata": {},
   "outputs": [
    {
     "name": "stdout",
     "output_type": "stream",
     "text": [
      "[('Virat Kohli', 24936), ('Jack Kallis', 25534), ('Ricky Ponting', 27483), ('Sachin Tendulkar', 34357)]\n"
     ]
    }
   ],
   "source": [
    "print(sorted_list)"
   ]
  },
  {
   "cell_type": "markdown",
   "id": "e74e6d26-7ea1-43e3-80be-e7a65658b83c",
   "metadata": {},
   "source": [
    "### Q2"
   ]
  },
  {
   "cell_type": "code",
   "execution_count": null,
   "id": "f13cfa52-8602-4c59-8fa7-2e02aac1cb62",
   "metadata": {},
   "outputs": [],
   "source": [
    "Q2. Write a Python Program to find the squares of all the numbers in the given list of integers using\n",
    "lambda and map functions.\n",
    "[1, 2, 3, 4, 5, 6, 7, 8, 9, 10]"
   ]
  },
  {
   "cell_type": "code",
   "execution_count": 17,
   "id": "9c6a418f-61a2-438a-88f8-76a7407df453",
   "metadata": {},
   "outputs": [],
   "source": [
    "# BY using lamda function"
   ]
  },
  {
   "cell_type": "code",
   "execution_count": 2,
   "id": "564b55c1-41c9-436b-ae8e-92ce2bffcb83",
   "metadata": {},
   "outputs": [],
   "source": [
    "#Use lambda function to find squares of all the numbers in the list\n",
    "result = list(map(lambda x: x**2, my_list))"
   ]
  },
  {
   "cell_type": "code",
   "execution_count": 3,
   "id": "f99899f0-4611-4c4a-80c9-3054e18e2ab8",
   "metadata": {},
   "outputs": [
    {
     "name": "stdout",
     "output_type": "stream",
     "text": [
      "[1, 4, 9, 16, 25, 36, 49, 64, 81, 100]\n"
     ]
    }
   ],
   "source": [
    "#Print the result\n",
    "print(result)\n"
   ]
  },
  {
   "cell_type": "code",
   "execution_count": 4,
   "id": "d693170f-1a30-495b-bbe4-7cae7d1bcc57",
   "metadata": {},
   "outputs": [],
   "source": [
    "## By using map function"
   ]
  },
  {
   "cell_type": "code",
   "execution_count": 5,
   "id": "4d7e1410-698b-444f-8004-e68bc92d7d19",
   "metadata": {},
   "outputs": [],
   "source": [
    "def squares(numbers):\n",
    "  return map(lambda x: x*x, numbers)"
   ]
  },
  {
   "cell_type": "code",
   "execution_count": null,
   "id": "0925b41f-153f-41a9-b79b-48ce43b6d0e0",
   "metadata": {},
   "outputs": [
    {
     "name": "stdout",
     "output_type": "stream",
     "text": [
      "[1, 4, 9, 16, 25, 36, 49, 64, 81, 100]\n"
     ]
    }
   ],
   "source": [
    "numbers = [1, 2, 3, 4, 5, 6, 7, 8, 9, 10]\n",
    "print(list(squares(numbers)))"
   ]
  },
  {
   "cell_type": "markdown",
   "id": "78851d43-98e7-4c4e-bcc0-44791c35c5ee",
   "metadata": {},
   "source": [
    "## Q3"
   ]
  },
  {
   "cell_type": "code",
   "execution_count": null,
   "id": "6c2fb6c5-cead-4cf5-aa16-86dea9dda071",
   "metadata": {},
   "outputs": [],
   "source": [
    "Write a python program to convert the given list of integers into a tuple of strings. Use map and\n",
    "lambda functions\n",
    "Given String: [1, 2, 3, 4, 5, 6, 7, 8, 9, 10]\n",
    "Expected output: ('1', '2', '3', '4', '5', '6', '7', '8', '9', '10')"
   ]
  },
  {
   "cell_type": "code",
   "execution_count": 8,
   "id": "2ae99d99-5042-4287-a5b8-47effa55ebf3",
   "metadata": {},
   "outputs": [],
   "source": [
    "#using map and lambda functions \n",
    "lst = [1, 2, 3, 4, 5, 6, 7, 8, 9, 10]"
   ]
  },
  {
   "cell_type": "code",
   "execution_count": 9,
   "id": "d42531cd-873d-4917-8fe6-2a6f1e306e62",
   "metadata": {},
   "outputs": [
    {
     "name": "stdout",
     "output_type": "stream",
     "text": [
      "('1', '2', '3', '4', '5', '6', '7', '8', '9', '10')\n"
     ]
    }
   ],
   "source": [
    "tup = tuple(map(lambda x: str(x), lst))\n",
    "print(tup)"
   ]
  },
  {
   "cell_type": "markdown",
   "id": "c9a10a4f-c94b-421e-8cb1-8f7ab6f52f4d",
   "metadata": {},
   "source": [
    "## Q 4"
   ]
  },
  {
   "cell_type": "code",
   "execution_count": null,
   "id": "6891e9a9-34f2-4f6f-902e-8b365c68251e",
   "metadata": {},
   "outputs": [],
   "source": [
    "Q4. Write a python program using reduce function to compute the product of a list containing numbers\n",
    "from 1 to 25."
   ]
  },
  {
   "cell_type": "code",
   "execution_count": 11,
   "id": "ecb54d46-3c07-41bc-8471-5505475fb0ed",
   "metadata": {},
   "outputs": [],
   "source": [
    "from functools import reduce"
   ]
  },
  {
   "cell_type": "code",
   "execution_count": 12,
   "id": "838438aa-f3e9-4d24-9d09-f46c27c839dd",
   "metadata": {},
   "outputs": [],
   "source": [
    "list_of_numbers = [1, 2, 3, 4, 5, 6, 7, 8, 9, 10, 11, 12, 13, 14, 15, 16, 17, 18, 19, 20, 21, 22, 23, 24, 25]\n"
   ]
  },
  {
   "cell_type": "code",
   "execution_count": 13,
   "id": "4d53e6ca-95ea-45a6-907a-f358e0e539bb",
   "metadata": {},
   "outputs": [],
   "source": [
    "product = reduce(lambda x, y: x*y, list_of_numbers)"
   ]
  },
  {
   "cell_type": "code",
   "execution_count": 14,
   "id": "6fa54aff-7c6e-488f-9327-7505df9898cf",
   "metadata": {},
   "outputs": [
    {
     "name": "stdout",
     "output_type": "stream",
     "text": [
      "Product of the list is: 15511210043330985984000000\n"
     ]
    }
   ],
   "source": [
    "print(\"Product of the list is:\", product)"
   ]
  },
  {
   "cell_type": "markdown",
   "id": "8736a383-643b-40a1-b39a-f13a8627bc5f",
   "metadata": {},
   "source": [
    "## Q5"
   ]
  },
  {
   "cell_type": "code",
   "execution_count": null,
   "id": "f8b7ec01-9bb5-476b-8e15-3084f3ab7314",
   "metadata": {},
   "outputs": [],
   "source": [
    "Q5. Write a python program to filter the numbers in a given list that are divisible by 2 and 3 using the\n",
    "filter function.\n",
    "[2, 3, 6, 9, 27, 60, 90, 120, 55, 46]"
   ]
  },
  {
   "cell_type": "code",
   "execution_count": 16,
   "id": "5e259e54-8f67-4304-bc5f-8512c1d3af52",
   "metadata": {},
   "outputs": [],
   "source": [
    "list_num = [2, 3, 6, 9, 27, 60, 90, 120, 55, 46]"
   ]
  },
  {
   "cell_type": "code",
   "execution_count": 17,
   "id": "8a112e8c-ba63-4b7d-b897-adb61708998a",
   "metadata": {},
   "outputs": [],
   "source": [
    "result = list(filter(lambda x: (x%2==0 and x%3==0), list_num))"
   ]
  },
  {
   "cell_type": "code",
   "execution_count": 18,
   "id": "f0514e9c-e14c-4058-a56b-1a429d4bab4e",
   "metadata": {},
   "outputs": [
    {
     "name": "stdout",
     "output_type": "stream",
     "text": [
      "The numbers in the list that are divisible by 2 and 3 are: [6, 60, 90, 120]\n"
     ]
    }
   ],
   "source": [
    "print(\"The numbers in the list that are divisible by 2 and 3 are:\", result)"
   ]
  },
  {
   "cell_type": "markdown",
   "id": "2f7094c3-fc83-487c-92d8-5fe8051cebc7",
   "metadata": {},
   "source": [
    "## Q6"
   ]
  },
  {
   "cell_type": "code",
   "execution_count": null,
   "id": "24f5ace7-9210-4b66-8e9d-31077d49f379",
   "metadata": {},
   "outputs": [],
   "source": [
    "Q6. Write a python program to find palindromes in the given list of strings using lambda and filter\n",
    "function.\n",
    "['python', 'php', 'aba', 'radar', 'level']"
   ]
  },
  {
   "cell_type": "code",
   "execution_count": 20,
   "id": "c0e0c138-c86c-46a4-bfc1-674b33a88ae8",
   "metadata": {},
   "outputs": [],
   "source": [
    "# Program\n",
    "list_words = ['python', 'php', 'aba', 'radar', 'level']"
   ]
  },
  {
   "cell_type": "code",
   "execution_count": 21,
   "id": "fad7d5ec-e832-4021-bcf8-df358570f649",
   "metadata": {},
   "outputs": [],
   "source": [
    "palindrome_list = list(filter(lambda x: x == \"\".join(reversed(x)), list_words)) "
   ]
  },
  {
   "cell_type": "code",
   "execution_count": 22,
   "id": "618d0798-acdd-43c4-835b-48421aae4cb6",
   "metadata": {},
   "outputs": [
    {
     "name": "stdout",
     "output_type": "stream",
     "text": [
      "The list of palindromes in the given list are : ['php', 'aba', 'radar', 'level']\n"
     ]
    }
   ],
   "source": [
    "print(\"The list of palindromes in the given list are :\", palindrome_list)"
   ]
  },
  {
   "cell_type": "code",
   "execution_count": null,
   "id": "865bd668-6974-4619-afe7-2bb3100f2e46",
   "metadata": {},
   "outputs": [],
   "source": []
  }
 ],
 "metadata": {
  "kernelspec": {
   "display_name": "Python 3 (ipykernel)",
   "language": "python",
   "name": "python3"
  },
  "language_info": {
   "codemirror_mode": {
    "name": "ipython",
    "version": 3
   },
   "file_extension": ".py",
   "mimetype": "text/x-python",
   "name": "python",
   "nbconvert_exporter": "python",
   "pygments_lexer": "ipython3",
   "version": "3.10.8"
  }
 },
 "nbformat": 4,
 "nbformat_minor": 5
}
