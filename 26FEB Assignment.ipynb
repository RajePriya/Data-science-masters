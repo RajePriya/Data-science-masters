{
 "cells": [
  {
   "cell_type": "markdown",
   "id": "e17f7c7a-0b87-40b1-8903-070b8e9d3f04",
   "metadata": {},
   "source": [
    "## 26 FEB\n",
    "### Assignment"
   ]
  },
  {
   "cell_type": "markdown",
   "id": "2f609e9f-0968-4d6e-91d4-a36be0a4afd4",
   "metadata": {},
   "source": [
    "### Q1"
   ]
  },
  {
   "cell_type": "raw",
   "id": "61b3ae76-cc1e-4eca-a652-f3807c0062eb",
   "metadata": {},
   "source": [
    "Q1. Consider the below code to answer further questions:\n",
    "import numpy as np\n",
    "list_ = [ ‘1’ , ’2’ , ‘3’ , ‘4’ , ‘5’ ]\n",
    "array_list = np.array(object = list_)\n",
    "Q1. Is there any difference in the data type of variables list_ and array_list? If there is then write a code\n",
    "to print the data types of both the variables."
   ]
  },
  {
   "cell_type": "code",
   "execution_count": null,
   "id": "83dde27f-5ce1-4828-8cd6-a2444aa8a980",
   "metadata": {},
   "outputs": [],
   "source": [
    "Ans:- Yes, there is a difference in the data type of variables list_ and array_list. The variable list_ is a \n",
    "Python list object, while array_list is a numpy ndarray object.\n",
    "\n",
    "To print the data types of both variables, we can use the type() function as follows:"
   ]
  },
  {
   "cell_type": "code",
   "execution_count": 1,
   "id": "5919e6bc-5300-4540-8eba-7e7ec370d13b",
   "metadata": {},
   "outputs": [
    {
     "name": "stdout",
     "output_type": "stream",
     "text": [
      "<class 'list'>\n",
      "<class 'numpy.ndarray'>\n"
     ]
    }
   ],
   "source": [
    "import numpy as np\n",
    "\n",
    "list_ = ['1', '2', '3', '4', '5']\n",
    "array_list = np.array(object=list_)\n",
    "\n",
    "print(type(list_))\n",
    "print(type(array_list))\n"
   ]
  },
  {
   "cell_type": "code",
   "execution_count": null,
   "id": "fdb09c8c-a081-4e23-8b50-5c64ba3af463",
   "metadata": {},
   "outputs": [],
   "source": [
    "So we can see that list_ has a data type of list, while array_list has a data type of numpy.ndarray"
   ]
  },
  {
   "cell_type": "markdown",
   "id": "5ce0079d-608e-4982-9359-1358ecf437aa",
   "metadata": {},
   "source": [
    "### Q2"
   ]
  },
  {
   "cell_type": "code",
   "execution_count": null,
   "id": "255c3192-6e93-431a-82c7-874b9e61bff1",
   "metadata": {},
   "outputs": [],
   "source": [
    "Q2. Write a code to print the data type of each and every element of both the variables list_ and\n",
    "arra_list."
   ]
  },
  {
   "cell_type": "code",
   "execution_count": null,
   "id": "9c930c9b-3261-4bf8-90f1-01e2216a78a2",
   "metadata": {},
   "outputs": [],
   "source": [
    "Ans:- To print the data type of each and every element of list_, we can use a for loop to iterate over the \n",
    "elements of the list and print the data type of each element using the type() function. Similarly, we can use the\n",
    "dtype attribute of the numpy ndarray object to print the data type of each element of array_list."
   ]
  },
  {
   "cell_type": "code",
   "execution_count": 2,
   "id": "d6bb4a66-8846-4085-9c8f-5a6fcca9126c",
   "metadata": {},
   "outputs": [
    {
     "name": "stdout",
     "output_type": "stream",
     "text": [
      "<class 'str'>\n",
      "<class 'str'>\n",
      "<class 'str'>\n",
      "<class 'str'>\n",
      "<class 'str'>\n",
      "<U1\n",
      "<U1\n",
      "<U1\n",
      "<U1\n",
      "<U1\n"
     ]
    }
   ],
   "source": [
    "import numpy as np\n",
    "\n",
    "list_ = ['1', '2', '3', '4', '5']\n",
    "array_list = np.array(object=list_)\n",
    "\n",
    "# Print data type of each element in list_\n",
    "for elem in list_:\n",
    "    print(type(elem))\n",
    "\n",
    "# Print data type of each element in array_list\n",
    "for elem in array_list:\n",
    "    print(elem.dtype)\n"
   ]
  },
  {
   "cell_type": "code",
   "execution_count": null,
   "id": "11eb2b42-8b52-4b47-80ef-3f7473ec6c2e",
   "metadata": {},
   "outputs": [],
   "source": [
    " that the elements in list_ are of type str, while the elements in array_list are of type <U1, which is a unicode\n",
    "    string of length 1, because we initialized array_list with a list of strings."
   ]
  },
  {
   "cell_type": "markdown",
   "id": "2010b7c9-792b-481a-b567-fb5f279cb786",
   "metadata": {},
   "source": [
    "### Q3"
   ]
  },
  {
   "cell_type": "raw",
   "id": "fb07cba3-41a5-450a-80c0-3adfcbab084e",
   "metadata": {},
   "source": [
    "Q3. Considering the following changes in the variable, array_list:\n",
    "array_list = np.array(object = list_, dtype = int)\n",
    "Will there be any difference in the data type of the elements present in both the variables, list_ and\n",
    "arra_list? If so then print the data types of each and every element present in both the variables, list_\n",
    "and arra_list.\n",
    "Consider the below code to answer further questions:\n",
    "import numpy as np\n",
    "num_list = [ [ 1 , 2 , 3 ] , [ 4 , 5 , 6 ] ]\n",
    "num_array = np.array(object = num_list)"
   ]
  },
  {
   "cell_type": "code",
   "execution_count": null,
   "id": "9446e67b-945b-43d1-95f3-417da360954d",
   "metadata": {},
   "outputs": [],
   "source": [
    "Ans:- Yes, there will be a difference in the data type of the elements present in list_ and array_list.\n",
    "By passing dtype=int when creating the numpy ndarray, we are forcing the elements in array_list to be of type int,\n",
    "whereas in list_, the elements are still of type str."
   ]
  },
  {
   "cell_type": "code",
   "execution_count": 3,
   "id": "8622205d-3819-4344-b56d-c392737c7d30",
   "metadata": {},
   "outputs": [
    {
     "name": "stdout",
     "output_type": "stream",
     "text": [
      "<class 'str'>\n",
      "<class 'str'>\n",
      "<class 'str'>\n",
      "<class 'str'>\n",
      "<class 'str'>\n",
      "<class 'numpy.int64'>\n",
      "<class 'numpy.int64'>\n",
      "<class 'numpy.int64'>\n",
      "<class 'numpy.int64'>\n",
      "<class 'numpy.int64'>\n"
     ]
    }
   ],
   "source": [
    "import numpy as np\n",
    "\n",
    "list_ = ['1', '2', '3', '4', '5']\n",
    "array_list = np.array(object=list_, dtype=int)\n",
    "\n",
    "# Print data type of each element in list_\n",
    "for elem in list_:\n",
    "    print(type(elem))\n",
    "\n",
    "# Print data type of each element in array_list\n",
    "for elem in array_list:\n",
    "    print(type(elem))\n"
   ]
  },
  {
   "cell_type": "code",
   "execution_count": null,
   "id": "f17f6b81-fae3-46db-94e9-da6f27c79e74",
   "metadata": {},
   "outputs": [],
   "source": [
    "that the elements in list_ are still of type str, whereas the elements in array_list are now of type int."
   ]
  },
  {
   "cell_type": "markdown",
   "id": "f48b622c-a22d-4ef4-befd-637e8582369d",
   "metadata": {},
   "source": [
    "### Q4"
   ]
  },
  {
   "cell_type": "raw",
   "id": "ac118b87-a4bc-421d-9028-94f7d5d01da2",
   "metadata": {},
   "source": [
    "Q4. Write a code to find the following characteristics of variable, num_array:\n",
    "(i) shape\n",
    "(ii) size"
   ]
  },
  {
   "cell_type": "code",
   "execution_count": null,
   "id": "c6a0e031-fd24-4da7-9660-6810dcb2f64c",
   "metadata": {},
   "outputs": [],
   "source": [
    "Ans:- the code to find the shape and size of num_array:"
   ]
  },
  {
   "cell_type": "code",
   "execution_count": 4,
   "id": "87860ed1-fe84-476a-aefe-6f3307d32ed2",
   "metadata": {},
   "outputs": [
    {
     "name": "stdout",
     "output_type": "stream",
     "text": [
      "Shape of num_array: (2, 3)\n",
      "Size of num_array: 6\n"
     ]
    }
   ],
   "source": [
    "import numpy as np\n",
    "\n",
    "num_list = [[1, 2, 3], [4, 5, 6]]\n",
    "num_array = np.array(object=num_list)\n",
    "\n",
    "# Find shape of num_array\n",
    "print(\"Shape of num_array:\", num_array.shape)\n",
    "\n",
    "# Find size of num_array\n",
    "print(\"Size of num_array:\", num_array.size)\n"
   ]
  },
  {
   "cell_type": "code",
   "execution_count": null,
   "id": "f2e181c1-2faf-4c88-8d0b-55aa784cc046",
   "metadata": {},
   "outputs": [],
   "source": [
    "We can see that the shape of num_array is (2, 3) and its size is 6."
   ]
  },
  {
   "cell_type": "markdown",
   "id": "c58624f5-e038-4d03-b196-d967120bc5b4",
   "metadata": {},
   "source": [
    "### Q5"
   ]
  },
  {
   "cell_type": "raw",
   "id": "1a748215-32bb-40cb-aac3-e27353ac1690",
   "metadata": {},
   "source": [
    "Q5. Write a code to create numpy array of 3*3 matrix containing zeros only, using a numpy array\n",
    "creation function.\n",
    "[Hint: The size of the array will be 9 and the shape will be (3,3).]"
   ]
  },
  {
   "cell_type": "code",
   "execution_count": null,
   "id": "0fb02239-5b1b-4a5c-88cf-17e905f56891",
   "metadata": {},
   "outputs": [],
   "source": [
    "Ans:- the code to create a numpy array of 3x3 matrix containing zeros only:"
   ]
  },
  {
   "cell_type": "code",
   "execution_count": 5,
   "id": "2f88903e-2b6f-4014-a72b-b1cf5f83e118",
   "metadata": {},
   "outputs": [
    {
     "name": "stdout",
     "output_type": "stream",
     "text": [
      "[[0. 0. 0.]\n",
      " [0. 0. 0.]\n",
      " [0. 0. 0.]]\n"
     ]
    }
   ],
   "source": [
    "import numpy as np\n",
    "\n",
    "# Create a numpy array of zeros with shape (3, 3)\n",
    "zeros_array = np.zeros((3, 3))\n",
    "\n",
    "# Print the zeros_array\n",
    "print(zeros_array)\n"
   ]
  },
  {
   "cell_type": "code",
   "execution_count": null,
   "id": "5f5d3d59-249d-4687-9feb-33982d451d35",
   "metadata": {},
   "outputs": [],
   "source": [
    "We can see that the zeros_array contains 3 rows and 3 columns, and all its elements are zeros."
   ]
  },
  {
   "cell_type": "markdown",
   "id": "0e0888a7-9135-41ff-9a8b-216e84b45d4a",
   "metadata": {},
   "source": [
    "### Q6"
   ]
  },
  {
   "cell_type": "code",
   "execution_count": null,
   "id": "7c8fc67e-95be-4d35-b6ff-f128c1fcd162",
   "metadata": {},
   "outputs": [],
   "source": [
    "Q6. Create an identity matrix of shape (5,5) using numpy functions?\n",
    "[Hint: An identity matrix is a matrix containing 1 diagonally and other elements will be 0.]"
   ]
  },
  {
   "cell_type": "code",
   "execution_count": null,
   "id": "3c136ee2-2475-49a4-9c1e-1bc40f46cbd2",
   "metadata": {},
   "outputs": [],
   "source": [
    "Ans:-  the code to create an identity matrix of shape (5,5) using numpy functions:"
   ]
  },
  {
   "cell_type": "code",
   "execution_count": 6,
   "id": "c44ebed9-e073-4527-9d83-117c41d65feb",
   "metadata": {},
   "outputs": [
    {
     "name": "stdout",
     "output_type": "stream",
     "text": [
      "[[1. 0. 0. 0. 0.]\n",
      " [0. 1. 0. 0. 0.]\n",
      " [0. 0. 1. 0. 0.]\n",
      " [0. 0. 0. 1. 0.]\n",
      " [0. 0. 0. 0. 1.]]\n"
     ]
    }
   ],
   "source": [
    "import numpy as np\n",
    "\n",
    "# Create an identity matrix of shape (5,5)\n",
    "identity_matrix = np.identity(5)\n",
    "\n",
    "# Print the identity_matrix\n",
    "print(identity_matrix)\n"
   ]
  },
  {
   "cell_type": "code",
   "execution_count": null,
   "id": "bb498bb2-dfb0-4372-ac09-f2cedefa64d8",
   "metadata": {},
   "outputs": [],
   "source": [
    "We can see that the identity_matrix contains 1 diagonally and other elements are 0, and it has a shape of (5,5)."
   ]
  },
  {
   "cell_type": "code",
   "execution_count": null,
   "id": "b8076b7d-1d49-4d43-8c6d-db81db8bdd6b",
   "metadata": {},
   "outputs": [],
   "source": []
  }
 ],
 "metadata": {
  "kernelspec": {
   "display_name": "Python 3 (ipykernel)",
   "language": "python",
   "name": "python3"
  },
  "language_info": {
   "codemirror_mode": {
    "name": "ipython",
    "version": 3
   },
   "file_extension": ".py",
   "mimetype": "text/x-python",
   "name": "python",
   "nbconvert_exporter": "python",
   "pygments_lexer": "ipython3",
   "version": "3.10.8"
  }
 },
 "nbformat": 4,
 "nbformat_minor": 5
}
