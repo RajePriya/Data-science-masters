{
 "cells": [
  {
   "cell_type": "markdown",
   "id": "8bdd8465-3599-4686-be92-83897a5dd165",
   "metadata": {},
   "source": [
    "## 9APR\n",
    "### Assignment"
   ]
  },
  {
   "cell_type": "markdown",
   "id": "6f5b40f7-318e-43c3-afd2-3b0c91ff187d",
   "metadata": {},
   "source": [
    "### Q1"
   ]
  },
  {
   "cell_type": "code",
   "execution_count": null,
   "id": "5dca0880-27dd-4373-934c-dd0c967dbb95",
   "metadata": {},
   "outputs": [],
   "source": [
    "Q1. What is Bayes' theorem?"
   ]
  },
  {
   "cell_type": "code",
   "execution_count": null,
   "id": "edd75f4a-e6b2-44ed-a646-441454af9b8b",
   "metadata": {},
   "outputs": [],
   "source": [
    "Ans:- Bayes' theorem is a mathematical formula that describes the probability of an event occurring based on prior\n",
    "knowledge of conditions that might be related to the event. It is named after the 18th-century British statistician\n",
    "Thomas Bayes.\n",
    "\n",
    "The theorem states that the probability of a hypothesis H given some observed evidence E is proportional to the\n",
    "probability of the evidence E given the hypothesis H, multiplied by the prior probability of the hypothesis H.\n",
    "\n",
    "Mathematically, Bayes' theorem can be expressed as:\n",
    "\n",
    "P(H | E) = (P(E | H) * P(H)) / P(E)\n",
    "\n",
    "where:\n",
    "\n",
    "P(H | E) is the posterior probability of the hypothesis H given the evidence E.\n",
    "P(E | H) is the likelihood of observing the evidence E given the hypothesis H.\n",
    "P(H) is the prior probability of the hypothesis H.\n",
    "P(E) is the marginal likelihood of the evidence E."
   ]
  },
  {
   "cell_type": "markdown",
   "id": "bae7b3bd-b4a0-4324-af22-0c19993e512d",
   "metadata": {},
   "source": [
    "### Q2"
   ]
  },
  {
   "cell_type": "code",
   "execution_count": null,
   "id": "a9d55a67-e1ac-41e2-9425-eb8079a3f830",
   "metadata": {},
   "outputs": [],
   "source": [
    "Q2. What is the formula for Bayes' theorem?"
   ]
  },
  {
   "cell_type": "code",
   "execution_count": null,
   "id": "b3c3666a-babd-493b-83ab-b65118eca198",
   "metadata": {},
   "outputs": [],
   "source": [
    "Ans:- Bayes' theorem can be mathematically represented as:\n",
    "\n",
    "P(A|B) = (P(B|A) * P(A)) / P(B)\n",
    "\n",
    "where:\n",
    "\n",
    "P(A|B) is the posterior probability of A given B\n",
    "P(B|A) is the likelihood of B given A\n",
    "P(A) is the prior probability of A\n",
    "P(B) is the marginal probability of B\n",
    "In words, Bayes' theorem states that the probability of A occurring given that B has occurred is proportional to \n",
    "the likelihood of B given A multiplied by the prior probability of A, divided by the marginal probability of B."
   ]
  },
  {
   "cell_type": "markdown",
   "id": "073d7ae7-b6f1-47c6-bedb-7fd5fabf9e72",
   "metadata": {},
   "source": [
    "### Q3"
   ]
  },
  {
   "cell_type": "code",
   "execution_count": null,
   "id": "9f5bca5b-e67b-47bf-bcf6-d7a2645b9003",
   "metadata": {},
   "outputs": [],
   "source": [
    "Q3. How is Bayes' theorem used in practice?"
   ]
  },
  {
   "cell_type": "code",
   "execution_count": null,
   "id": "08281856-1cab-44b6-ba3b-65192b0af7e7",
   "metadata": {},
   "outputs": [],
   "source": [
    "Ans:- Bayes' theorem has numerous practical applications in various fields, including:\n",
    "\n",
    "=> Spam filtering: Bayes' theorem is used in email spam filters to determine whether an email is spam or not. The\n",
    "algorithm calculates the probability of an email being spam or not based on the words in the email, using Bayes'\n",
    "theorem.\n",
    "\n",
    "=> Medical diagnosis: Bayes' theorem is used in medical diagnosis to determine the probability of a patient having \n",
    "a disease or condition based on their symptoms, medical history, and other factors.\n",
    "\n",
    "=> Risk assessment: Bayes' theorem is used in risk assessment to determine the probability of an event occurring\n",
    "based on prior data and other relevant information. For example, it can be used to estimate the likelihood of a \n",
    "stock price going up or down.\n",
    "\n",
    "=> Machine learning: Bayes' theorem is used in machine learning algorithms, such as Naive Bayes classifiers, to \n",
    "classify data based on probabilities.\n",
    "\n",
    "=> Quality control: Bayes' theorem can be used in quality control to determine the probability of a product being\n",
    "defective based on testing data and prior knowledge.\n",
    "\n",
    "In general, Bayes' theorem is used to make predictions or decisions based on probabilities, where prior knowledge\n",
    "and observed data are taken into account."
   ]
  },
  {
   "cell_type": "markdown",
   "id": "1eacbcaa-bf7d-422b-a4bf-fff02fffa494",
   "metadata": {},
   "source": [
    "### Q4"
   ]
  },
  {
   "cell_type": "code",
   "execution_count": null,
   "id": "87a37643-33f7-4c1a-b38b-25a5a1d87c01",
   "metadata": {},
   "outputs": [],
   "source": [
    "Q4. What is the relationship between Bayes' theorem and conditional probability?"
   ]
  },
  {
   "cell_type": "code",
   "execution_count": null,
   "id": "a320c652-9aea-452e-b369-aa4d2edce237",
   "metadata": {},
   "outputs": [],
   "source": [
    "Ans:- Bayes' theorem and conditional probability are related in that Bayes' theorem is derived from conditional \n",
    "probability. Specifically, Bayes' theorem is a way of calculating conditional probabilities in situations where we\n",
    "have some prior knowledge about the probability of an event occurring.\n",
    "\n",
    "Conditional probability is the probability of an event occurring given that another event has already occurred. It\n",
    "can be calculated using the formula:\n",
    "\n",
    "P(A|B) = P(A and B) / P(B)\n",
    "\n",
    "where:\n",
    "\n",
    "P(A|B) is the conditional probability of A given B\n",
    "P(A and B) is the joint probability of A and B\n",
    "P(B) is the marginal probability of B\n",
    "Bayes' theorem, on the other hand, is a way of calculating conditional probabilities in situations where we have\n",
    "some prior knowledge about the probability of an event occurring. It can be written as:\n",
    "\n",
    "P(A|B) = (P(B|A) * P(A)) / P(B)\n",
    "\n",
    "where:\n",
    "\n",
    "P(A|B) is the posterior probability of A given B\n",
    "P(B|A) is the likelihood of B given A\n",
    "P(A) is the prior probability of A\n",
    "P(B) is the marginal probability of B\n",
    "As you can see, Bayes' theorem includes the likelihood of B given A, which is the conditional probability of B \n",
    "given A. This allows us to update our prior knowledge of the probability of A given B, based on new evidence in \n",
    "the form of the likelihood of B given A."
   ]
  },
  {
   "cell_type": "markdown",
   "id": "5ddfb286-643b-465c-92c0-d2b97ede0dd5",
   "metadata": {},
   "source": [
    "### Q5"
   ]
  },
  {
   "cell_type": "code",
   "execution_count": null,
   "id": "1d7818f2-9cf3-489c-87a4-c5736cd1e2b9",
   "metadata": {},
   "outputs": [],
   "source": [
    "Q5. How do you choose which type of Naive Bayes classifier to use for any given problem?"
   ]
  },
  {
   "cell_type": "code",
   "execution_count": null,
   "id": "69364843-6d1a-402c-a809-f76b24fd79c6",
   "metadata": {},
   "outputs": [],
   "source": [
    "Ans:- There are three main types of Naive Bayes classifiers: Gaussian Naive Bayes, Multinomial Naive Bayes, and \n",
    "Bernoulli Naive Bayes. The choice of which type of Naive Bayes classifier to use for a given problem depends on \n",
    "the nature of the data and the problem at hand.\n",
    "\n",
    "=> Gaussian Naive Bayes:\n",
    "Gaussian Naive Bayes is used when the features are continuous or real-valued. It assumes that the likelihood of the\n",
    "features given the class is normally distributed. Thus, if the features in your data are continuous, then Gaussian\n",
    "Naive Bayes is a good choice.\n",
    "\n",
    "=> Multinomial Naive Bayes:\n",
    "Multinomial Naive Bayes is used when the features are discrete and represent the counts or frequencies of events. \n",
    "This classifier is commonly used in text classification problems, where the features are often word counts or term\n",
    "frequencies.\n",
    "\n",
    "=> Bernoulli Naive Bayes:\n",
    "Bernoulli Naive Bayes is used when the features are binary or Boolean (i.e., they take on only two values). This\n",
    "classifier is also commonly used in text classification problems, where the features represent the presence or \n",
    "absence of particular words or phrases.\n",
    "\n",
    "In general, it is a good idea to try all three types of Naive Bayes classifiers on your data and compare their \n",
    "performance using cross-validation or some other evaluation metric. Ultimately, the choice of which classifier to\n",
    "use will depend on the nature of the data and the specific requirements of the problem."
   ]
  },
  {
   "cell_type": "markdown",
   "id": "59c4e220-67b1-473b-a7e5-5a4632ca8043",
   "metadata": {},
   "source": [
    "### Q6"
   ]
  },
  {
   "cell_type": "code",
   "execution_count": null,
   "id": "e15f0ea3-badf-4060-92a9-1c95fd9d85cd",
   "metadata": {},
   "outputs": [],
   "source": [
    "Q6. Assignment:\n",
    "You have a dataset with two features, X1 and X2, and two possible classes, A and B. You want to use Naive\n",
    "Bayes to classify a new instance with features X1 = 3 and X2 = 4. The following table shows the frequency of\n",
    "each feature value for each class:\n",
    "Class X1=1 X1=2 X1=3 X2=1 X2=2 X2=3 X2=4\n",
    "  A    3     3   4    4     3   3    3\n",
    "  B    2     2   1    2     2   2    3\n",
    "Assuming equal prior probabilities for each class, which class would Naive Bayes predict the new instance\n",
    "to belong to?"
   ]
  },
  {
   "cell_type": "code",
   "execution_count": null,
   "id": "30a257c0-ee9f-45f9-a590-ffa7b75a65a2",
   "metadata": {},
   "outputs": [],
   "source": [
    "Ans:- To determine which class the new instance belongs to using Naive Bayes, we need to calculate the posterior \n",
    "probabilities for both classes and choose the one with the higher probability.\n",
    "\n",
    "The posterior probability of class A given the new instance can be calculated as:\n",
    "\n",
    "P(A | X1=3, X2=4) = P(X1=3, X2=4 | A) * P(A) / P(X1=3, X2=4)\n",
    "\n",
    "We can apply the Naive Bayes assumption to factorize the joint probability P(X1=3, X2=4 | A) as P(X1=3 | A) * \n",
    "P(X2=4 | A). Then we can calculate the posterior probability of class A as:\n",
    "\n",
    "P(A | X1=3, X2=4) = P(X1=3 | A) * P(X2=4 | A) * P(A) / P(X1=3, X2=4)\n",
    "\n",
    "Similarly, we can calculate the posterior probability of class B as:\n",
    "\n",
    "P(B | X1=3, X2=4) = P(X1=3 | B) * P(X2=4 | B) * P(B) / P(X1=3, X2=4)\n",
    "\n",
    "We can calculate the likelihoods P(X1=3 | A), P(X1=3 | B), P(X2=4 | A), and P(X2=4 | B) from the given table:\n",
    "\n",
    "P(X1=3 | A) = 4/13\n",
    "P(X1=3 | B) = 1/5\n",
    "P(X2=4 | A) = 3/13\n",
    "P(X2=4 | B) = 1/3\n",
    "\n",
    "The prior probabilities P(A) and P(B) are assumed to be equal, so P(A) = P(B) = 1/2.\n",
    "\n",
    "To calculate the evidence P(X1=3, X2=4), we can use the law of total probability:\n",
    "\n",
    "P(X1=3, X2=4) = P(X1=3, X2=4 | A) * P(A) + P(X1=3, X2=4 | B) * P(B)\n",
    "\n",
    "P(X1=3, X2=4 | A) = P(X1=3 | A) * P(X2=4 | A) = (4/13) * (3/13) = 12/169\n",
    "P(X1=3, X2=4 | B) = P(X1=3 | B) * P(X2=4 | B) = (1/5) * (1/3) = 1/15\n",
    "\n",
    "So, we can calculate the evidence as:\n",
    "\n",
    "P(X1=3, X2=4) = (12/169) * (1/2) + (1/15) * (1/2) = 27/845\n",
    "\n",
    "Now, we can substitute all these values into the above equations to calculate the posterior probabilities:\n",
    "\n",
    "P(A | X1=3, X2=4) = (4/13) * (3/13) * (1/2) / (27/845) = 0.381\n",
    "P(B | X1=3, X2=4) = (1/5) * (1/3) * (1/2) / (27/845) = 0.619\n",
    "\n",
    "Therefore, Naive Bayes would predict that the new instance belongs to class B, since it has a higher posterior\n",
    "probability than class A."
   ]
  },
  {
   "cell_type": "code",
   "execution_count": null,
   "id": "d5174d94-7923-4f14-ab16-3033696f2f08",
   "metadata": {},
   "outputs": [],
   "source": []
  },
  {
   "cell_type": "code",
   "execution_count": null,
   "id": "05acd364-48d8-4cbc-b7ed-f8d30b238b87",
   "metadata": {},
   "outputs": [],
   "source": []
  }
 ],
 "metadata": {
  "kernelspec": {
   "display_name": "Python 3 (ipykernel)",
   "language": "python",
   "name": "python3"
  },
  "language_info": {
   "codemirror_mode": {
    "name": "ipython",
    "version": 3
   },
   "file_extension": ".py",
   "mimetype": "text/x-python",
   "name": "python",
   "nbconvert_exporter": "python",
   "pygments_lexer": "ipython3",
   "version": "3.10.8"
  }
 },
 "nbformat": 4,
 "nbformat_minor": 5
}
