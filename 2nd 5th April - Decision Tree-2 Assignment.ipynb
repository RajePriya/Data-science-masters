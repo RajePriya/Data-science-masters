{
 "cells": [
  {
   "cell_type": "code",
   "execution_count": null,
   "id": "5704259f",
   "metadata": {},
   "outputs": [],
   "source": [
    "You are a data scientist working for a healthcare company, and you have been tasked with creating a\n",
    "decision tree to help identify patients with diabetes based on a set of clinical variables. You have been\n",
    "given a dataset (diabetes.csv) with the following variables:\n",
    "1. Pregnancies: Number of times pregnant (integer)\n",
    "2. Glucose: Plasma glucose concentration a 2 hours in an oral glucose tolerance test (integer)\n",
    "3. BloodPressure: Diastolic blood pressure (mm Hg) (integer)\n",
    "4. SkinThickness: Triceps skin fold thickness (mm) (integer)\n",
    "5. Insulin: 2-Hour serum insulin (mu U/ml) (integer)\n",
    "6. BMI: Body mass index (weight in kg/(height in m)^2) (float)\n",
    "7. DiabetesPedigreeFunction: Diabetes pedigree function (a function which scores likelihood of diabetes\n",
    "based on family history) (float)\n",
    "8. Age: Age in years (integer)\n",
    "9. Outcome: Class variable (0 if non-diabetic, 1 if diabetic) (integer)\n",
    "    Your goal is to create a decision tree to predict whether a patient has diabetes based on the other\n",
    "variables."
   ]
  },
  {
   "cell_type": "code",
   "execution_count": 1,
   "id": "47be2a6c",
   "metadata": {},
   "outputs": [],
   "source": [
    "import pandas as pd\n",
    "from sklearn.tree import DecisionTreeClassifier\n",
    "from sklearn.model_selection import train_test_split\n",
    "from sklearn.metrics import accuracy_score"
   ]
  },
  {
   "cell_type": "code",
   "execution_count": 2,
   "id": "bd9f5e74",
   "metadata": {},
   "outputs": [],
   "source": [
    "df = pd.read_csv('diabetes.csv')"
   ]
  },
  {
   "cell_type": "code",
   "execution_count": 3,
   "id": "0edbecdf",
   "metadata": {},
   "outputs": [],
   "source": [
    "X = df.drop('Outcome', axis=1)\n",
    "y = df['Outcome']"
   ]
  },
  {
   "cell_type": "code",
   "execution_count": 4,
   "id": "7a923bc8",
   "metadata": {},
   "outputs": [],
   "source": [
    "X_train, X_test, y_train, y_test = train_test_split(X, y, test_size=0.2, random_state=42)"
   ]
  },
  {
   "cell_type": "code",
   "execution_count": 5,
   "id": "e4edf16f",
   "metadata": {},
   "outputs": [
    {
     "data": {
      "text/plain": [
       "DecisionTreeClassifier()"
      ]
     },
     "execution_count": 5,
     "metadata": {},
     "output_type": "execute_result"
    }
   ],
   "source": [
    "dt_classifier = DecisionTreeClassifier()\n",
    "dt_classifier.fit(X_train, y_train)"
   ]
  },
  {
   "cell_type": "code",
   "execution_count": 6,
   "id": "824b7288",
   "metadata": {},
   "outputs": [],
   "source": [
    "y_pred = dt_classifier.predict(X_test)"
   ]
  },
  {
   "cell_type": "code",
   "execution_count": 7,
   "id": "4675d707",
   "metadata": {},
   "outputs": [
    {
     "name": "stdout",
     "output_type": "stream",
     "text": [
      "Accuracy: 0.7337662337662337\n"
     ]
    }
   ],
   "source": [
    "accuracy = accuracy_score(y_test, y_pred)\n",
    "print(\"Accuracy:\", accuracy)"
   ]
  },
  {
   "cell_type": "markdown",
   "id": "79585f56",
   "metadata": {},
   "source": [
    "These steps allow you to import the necessary libraries, load the dataset, split it into training and test sets, create and train a decision tree model, make predictions on the test set, and evaluate the model's performance using accuracy as the metric.\n",
    "\n",
    "Remember to ensure that the 'diabetes.csv' file is located in the same directory as your Python script or notebook. If the file is in a different directory, provide the correct file path in the read_csv() function."
   ]
  },
  {
   "cell_type": "markdown",
   "id": "34bd9c82",
   "metadata": {},
   "source": [
    "# Q1"
   ]
  },
  {
   "cell_type": "code",
   "execution_count": null,
   "id": "57d4fa76",
   "metadata": {},
   "outputs": [],
   "source": [
    "1. Pregnancies: Number of times pregnant (integer)"
   ]
  },
  {
   "cell_type": "markdown",
   "id": "ffeb0b59",
   "metadata": {},
   "source": [
    "The \"Pregnancies\" variable represents the number of times a patient has been pregnant. It is an integer value that indicates the reproductive history of the patient. This variable can range from 0 to a positive integer.\n",
    "\n",
    "In the context of predicting diabetes, the \"Pregnancies\" variable can provide valuable information about the patient's reproductive history. It is well-established that pregnancy and gestational factors can influence the development and management of diabetes. Women who have had multiple pregnancies or a history of gestational diabetes may have an increased risk of developing diabetes later in life.\n",
    "\n",
    "When building a decision tree model, the \"Pregnancies\" variable can act as a useful predictor in determining the likelihood of diabetes. The decision tree will learn how different levels of pregnancies relate to the target variable (diabetic or non-diabetic) by creating splits based on this feature.\n",
    "\n",
    "For example, the decision tree might identify a split at a certain threshold of pregnancies, indicating that patients with a higher number of pregnancies are more likely to be diabetic. The decision tree will then branch out further based on other features to create a hierarchy of splits that best separate the diabetic and non-diabetic groups.\n",
    "\n",
    "Interpreting the decision tree's splits and branches related to the \"Pregnancies\" variable can provide insights into the relationship between pregnancy history and the likelihood of diabetes."
   ]
  },
  {
   "cell_type": "code",
   "execution_count": 8,
   "id": "09404fdf",
   "metadata": {},
   "outputs": [
    {
     "name": "stdout",
     "output_type": "stream",
     "text": [
      "Accuracy: 0.7792207792207793\n"
     ]
    }
   ],
   "source": [
    "import pandas as pd\n",
    "from sklearn.tree import DecisionTreeClassifier\n",
    "from sklearn.model_selection import train_test_split\n",
    "from sklearn.metrics import accuracy_score\n",
    "\n",
    "# Step 1: Import the dataset\n",
    "df = pd.read_csv('diabetes.csv')\n",
    "\n",
    "# Step 2: Split the data into features (X) and the target variable (y)\n",
    "X = df.drop('Outcome', axis=1)\n",
    "y = df['Outcome']\n",
    "\n",
    "# Step 3: Split the dataset into a training set and a test set\n",
    "X_train, X_test, y_train, y_test = train_test_split(X, y, test_size=0.2, random_state=42)\n",
    "\n",
    "# Step 4: Create and train the decision tree model\n",
    "dt_classifier = DecisionTreeClassifier()\n",
    "dt_classifier.fit(X_train, y_train)\n",
    "\n",
    "# Step 5: Make predictions on the test set\n",
    "y_pred = dt_classifier.predict(X_test)\n",
    "\n",
    "# Step 6: Evaluate the performance of the model\n",
    "accuracy = accuracy_score(y_test, y_pred)\n",
    "print(\"Accuracy:\", accuracy)"
   ]
  },
  {
   "cell_type": "markdown",
   "id": "17b649dd",
   "metadata": {},
   "source": [
    "In this code, we assume that you have the 'diabetes.csv' file containing the dataset in the same directory as your Python script or notebook.\n",
    "\n",
    "The \"Pregnancies\" variable is included in the feature set (X) when splitting the dataset into features and the target variable. The decision tree model is then created and trained using the DecisionTreeClassifier() class. Finally, predictions are made on the test set, and the accuracy of the model is calculated and printed.\n",
    "\n",
    "Please note that this code assumes that the dataset is in the format specified earlier in our conversation, with the \"Pregnancies\" variable present as one of the columns."
   ]
  },
  {
   "cell_type": "markdown",
   "id": "03d71a5c",
   "metadata": {},
   "source": [
    "# Q2"
   ]
  },
  {
   "cell_type": "code",
   "execution_count": null,
   "id": "ecc25a47",
   "metadata": {},
   "outputs": [],
   "source": [
    "2. Glucose: Plasma glucose concentration a 2 hours in an oral glucose tolerance test (integer)"
   ]
  },
  {
   "cell_type": "markdown",
   "id": "4bb92899",
   "metadata": {},
   "source": [
    "Ans:- \n",
    "    \n",
    "    The \"Glucose\" variable represents the plasma glucose concentration measured 2 hours after an oral glucose tolerance test. It is an integer value that indicates the blood glucose level of the patient.\n",
    "\n",
    "Glucose is a critical indicator for diabetes diagnosis and management. High glucose levels in the blood may suggest impaired glucose metabolism and can be an important risk factor for diabetes. Therefore, including the \"Glucose\" variable in the decision tree model can provide valuable information for predicting diabetes.\n",
    "\n",
    "To incorporate the \"Glucose\" variable into the decision tree model, you can follow the same code structure provided earlier. Make sure to include the \"Glucose\" column when splitting the dataset into features (X) and the target variable (y)"
   ]
  },
  {
   "cell_type": "code",
   "execution_count": 9,
   "id": "28cdb766",
   "metadata": {},
   "outputs": [
    {
     "name": "stdout",
     "output_type": "stream",
     "text": [
      "Accuracy: 0.7402597402597403\n"
     ]
    }
   ],
   "source": [
    "import pandas as pd\n",
    "from sklearn.tree import DecisionTreeClassifier\n",
    "from sklearn.model_selection import train_test_split\n",
    "from sklearn.metrics import accuracy_score\n",
    "\n",
    "# Step 1: Import the dataset\n",
    "df = pd.read_csv('diabetes.csv')\n",
    "\n",
    "# Step 2: Split the data into features (X) and the target variable (y)\n",
    "X = df.drop('Outcome', axis=1)\n",
    "y = df['Outcome']\n",
    "\n",
    "# Step 3: Split the dataset into a training set and a test set\n",
    "X_train, X_test, y_train, y_test = train_test_split(X, y, test_size=0.2, random_state=42)\n",
    "\n",
    "# Step 4: Create and train the decision tree model\n",
    "dt_classifier = DecisionTreeClassifier()\n",
    "dt_classifier.fit(X_train, y_train)\n",
    "\n",
    "# Step 5: Make predictions on the test set\n",
    "y_pred = dt_classifier.predict(X_test)\n",
    "\n",
    "# Step 6: Evaluate the performance of the model\n",
    "accuracy = accuracy_score(y_test, y_pred)\n",
    "print(\"Accuracy:\", accuracy)"
   ]
  },
  {
   "cell_type": "markdown",
   "id": "3d881698",
   "metadata": {},
   "source": [
    "By including the \"Glucose\" variable in the decision tree model, the algorithm will learn how different levels of glucose concentration relate to the likelihood of diabetes. The decision tree will create splits based on the \"Glucose\" values to determine the most effective thresholds for predicting diabetes.\n",
    "\n",
    "Interpreting the splits and branches related to the \"Glucose\" variable in the decision tree can provide insights into the relationship between glucose concentration and the prediction of diabetes."
   ]
  },
  {
   "cell_type": "markdown",
   "id": "71b5dee4",
   "metadata": {},
   "source": [
    "# Q3"
   ]
  },
  {
   "cell_type": "code",
   "execution_count": null,
   "id": "d2b39383",
   "metadata": {},
   "outputs": [],
   "source": [
    "3. BloodPressure: Diastolic blood pressure (mm Hg) (integer)"
   ]
  },
  {
   "cell_type": "markdown",
   "id": "ce298287",
   "metadata": {},
   "source": [
    "Ans:- \n",
    "    \n",
    "    The \"BloodPressure\" variable represents the diastolic blood pressure, measured in millimeters of mercury (mm Hg). It is an integer value that provides information about the pressure in the arteries when the heart is at rest between contractions.\n",
    "\n",
    "Blood pressure is an essential measure in diagnosing and managing various health conditions, including diabetes. While high blood pressure alone does not indicate diabetes, it is often associated with other risk factors and can contribute to the development and progression of the disease.\n",
    "\n",
    "To include the \"BloodPressure\" variable in the decision tree model, you can follow the same code structure provided earlier, ensuring that the column name is correctly included."
   ]
  },
  {
   "cell_type": "code",
   "execution_count": 10,
   "id": "2c112a1c",
   "metadata": {},
   "outputs": [
    {
     "name": "stdout",
     "output_type": "stream",
     "text": [
      "Accuracy: 0.7532467532467533\n"
     ]
    }
   ],
   "source": [
    "import pandas as pd\n",
    "from sklearn.tree import DecisionTreeClassifier\n",
    "from sklearn.model_selection import train_test_split\n",
    "from sklearn.metrics import accuracy_score\n",
    "\n",
    "# Step 1: Import the dataset\n",
    "df = pd.read_csv('diabetes.csv')\n",
    "\n",
    "# Step 2: Split the data into features (X) and the target variable (y)\n",
    "X = df.drop('Outcome', axis=1)\n",
    "y = df['Outcome']\n",
    "\n",
    "# Step 3: Split the dataset into a training set and a test set\n",
    "X_train, X_test, y_train, y_test = train_test_split(X, y, test_size=0.2, random_state=42)\n",
    "\n",
    "# Step 4: Create and train the decision tree model\n",
    "dt_classifier = DecisionTreeClassifier()\n",
    "dt_classifier.fit(X_train, y_train)\n",
    "\n",
    "# Step 5: Make predictions on the test set\n",
    "y_pred = dt_classifier.predict(X_test)\n",
    "\n",
    "# Step 6: Evaluate the performance of the model\n",
    "accuracy = accuracy_score(y_test, y_pred)\n",
    "print(\"Accuracy:\", accuracy)"
   ]
  },
  {
   "cell_type": "markdown",
   "id": "786a5dea",
   "metadata": {},
   "source": [
    "By including the \"BloodPressure\" variable in the decision tree model, the algorithm will learn how different levels of diastolic blood pressure relate to the likelihood of diabetes. The decision tree will create splits based on the \"BloodPressure\" values to determine the most effective thresholds for predicting diabetes.\n",
    "\n",
    "Interpreting the splits and branches related to the \"BloodPressure\" variable in the decision tree can provide insights into the relationship between blood pressure and the prediction of diabetes."
   ]
  },
  {
   "cell_type": "markdown",
   "id": "c6bd6715",
   "metadata": {},
   "source": [
    "# Q4"
   ]
  },
  {
   "cell_type": "code",
   "execution_count": null,
   "id": "dc0043ba",
   "metadata": {},
   "outputs": [],
   "source": [
    "4. SkinThickness: Triceps skin fold thickness (mm) (integer)"
   ]
  },
  {
   "cell_type": "markdown",
   "id": "684cf12c",
   "metadata": {},
   "source": [
    "Ans:- \n",
    "    The \"SkinThickness\" variable represents the thickness of the triceps skinfold, measured in millimeters (mm). It is an integer value that provides information about the subcutaneous fat layer beneath the skin.\n",
    "\n",
    "Skinfold thickness measurements are commonly used in clinical assessments to estimate body fat percentage. While \"SkinThickness\" itself may not directly indicate diabetes, it can be an important variable in predicting diabetes risk as it is associated with overall body composition and adiposity.\n",
    "\n",
    "To include the \"SkinThickness\" variable in the decision tree model, you can follow the same code structure provided earlier. "
   ]
  },
  {
   "cell_type": "code",
   "execution_count": 11,
   "id": "a221780a",
   "metadata": {},
   "outputs": [
    {
     "name": "stdout",
     "output_type": "stream",
     "text": [
      "Accuracy: 0.7532467532467533\n"
     ]
    }
   ],
   "source": [
    "import pandas as pd\n",
    "from sklearn.tree import DecisionTreeClassifier\n",
    "from sklearn.model_selection import train_test_split\n",
    "from sklearn.metrics import accuracy_score\n",
    "\n",
    "# Step 1: Import the dataset\n",
    "df = pd.read_csv('diabetes.csv')\n",
    "\n",
    "# Step 2: Split the data into features (X) and the target variable (y)\n",
    "X = df.drop('Outcome', axis=1)\n",
    "y = df['Outcome']\n",
    "\n",
    "# Step 3: Split the dataset into a training set and a test set\n",
    "X_train, X_test, y_train, y_test = train_test_split(X, y, test_size=0.2, random_state=42)\n",
    "\n",
    "# Step 4: Create and train the decision tree model\n",
    "dt_classifier = DecisionTreeClassifier()\n",
    "dt_classifier.fit(X_train, y_train)\n",
    "\n",
    "# Step 5: Make predictions on the test set\n",
    "y_pred = dt_classifier.predict(X_test)\n",
    "\n",
    "# Step 6: Evaluate the performance of the model\n",
    "accuracy = accuracy_score(y_test, y_pred)\n",
    "print(\"Accuracy:\", accuracy)"
   ]
  },
  {
   "cell_type": "markdown",
   "id": "f6edc4d9",
   "metadata": {},
   "source": [
    "By including the \"SkinThickness\" variable in the decision tree model, the algorithm will learn how different levels of triceps skinfold thickness relate to the likelihood of diabetes. The decision tree will create splits based on the \"SkinThickness\" values to determine the most effective thresholds for predicting diabetes.\n",
    "\n",
    "Interpreting the splits and branches related to the \"SkinThickness\" variable in the decision tree can provide insights into the relationship between skinfold thickness and the prediction of diabetes."
   ]
  },
  {
   "cell_type": "markdown",
   "id": "e4976d12",
   "metadata": {},
   "source": [
    "# Q5"
   ]
  },
  {
   "cell_type": "code",
   "execution_count": null,
   "id": "bcb8a287",
   "metadata": {},
   "outputs": [],
   "source": [
    "5. Insulin: 2-Hour serum insulin (mu U/ml) (integer)"
   ]
  },
  {
   "cell_type": "markdown",
   "id": "79817aa9",
   "metadata": {},
   "source": [
    "Ans:-\n",
    "    \n",
    "    The \"Insulin\" variable represents the 2-hour serum insulin level measured in micro International Units per milliliter (mu U/ml). It is an integer value that provides information about the insulin concentration in the blood after a glucose tolerance test.\n",
    "\n",
    "Insulin plays a crucial role in regulating blood glucose levels. In individuals with diabetes, there can be abnormalities in insulin production or utilization. Therefore, the \"Insulin\" variable can be relevant for predicting diabetes as it provides insight into the insulin response and function.\n",
    "\n",
    "To include the \"Insulin\" variable in the decision tree model, you can follow the same code structure provided earlier. "
   ]
  },
  {
   "cell_type": "code",
   "execution_count": 12,
   "id": "9a3c198c",
   "metadata": {},
   "outputs": [
    {
     "name": "stdout",
     "output_type": "stream",
     "text": [
      "Accuracy: 0.7662337662337663\n"
     ]
    }
   ],
   "source": [
    "import pandas as pd\n",
    "from sklearn.tree import DecisionTreeClassifier\n",
    "from sklearn.model_selection import train_test_split\n",
    "from sklearn.metrics import accuracy_score\n",
    "\n",
    "# Step 1: Import the dataset\n",
    "df = pd.read_csv('diabetes.csv')\n",
    "\n",
    "# Step 2: Split the data into features (X) and the target variable (y)\n",
    "X = df.drop('Outcome', axis=1)\n",
    "y = df['Outcome']\n",
    "\n",
    "# Step 3: Split the dataset into a training set and a test set\n",
    "X_train, X_test, y_train, y_test = train_test_split(X, y, test_size=0.2, random_state=42)\n",
    "\n",
    "# Step 4: Create and train the decision tree model\n",
    "dt_classifier = DecisionTreeClassifier()\n",
    "dt_classifier.fit(X_train, y_train)\n",
    "\n",
    "# Step 5: Make predictions on the test set\n",
    "y_pred = dt_classifier.predict(X_test)\n",
    "\n",
    "# Step 6: Evaluate the performance of the model\n",
    "accuracy = accuracy_score(y_test, y_pred)\n",
    "print(\"Accuracy:\", accuracy)"
   ]
  },
  {
   "cell_type": "markdown",
   "id": "78b43ef4",
   "metadata": {},
   "source": [
    "By including the \"Insulin\" variable in the decision tree model, the algorithm will learn how different levels of serum insulin relate to the likelihood of diabetes. The decision tree will create splits based on the \"Insulin\" values to determine the most effective thresholds for predicting diabetes.\n",
    "\n",
    "Interpreting the splits and branches related to the \"Insulin\" variable in the decision tree can provide insights into the relationship between serum insulin levels and the prediction of diabetes."
   ]
  },
  {
   "cell_type": "markdown",
   "id": "a14915dd",
   "metadata": {},
   "source": [
    "# Q6"
   ]
  },
  {
   "cell_type": "code",
   "execution_count": null,
   "id": "9f64ae20",
   "metadata": {},
   "outputs": [],
   "source": [
    "6. BMI: Body mass index (weight in kg/(height in m)^2) (float)"
   ]
  },
  {
   "cell_type": "markdown",
   "id": "f0e9e3cc",
   "metadata": {},
   "source": [
    "Ans:-\n",
    "    \n",
    "    The \"BMI\" variable represents the Body Mass Index, which is a measure of body weight relative to height. It is calculated as the weight in kilograms divided by the square of height in meters. The \"BMI\" variable is a float value that provides information about the patient's body composition and weight status.\n",
    "\n",
    "Body Mass Index is commonly used as an indicator of overall body fatness and can be associated with the risk of developing various health conditions, including diabetes. Higher BMI values are often correlated with increased adiposity and a higher risk of metabolic disorders.\n",
    "\n",
    "To include the \"BMI\" variable in the decision tree model, you can follow the same code structure provided earlier. "
   ]
  },
  {
   "cell_type": "code",
   "execution_count": 13,
   "id": "37927023",
   "metadata": {},
   "outputs": [
    {
     "name": "stdout",
     "output_type": "stream",
     "text": [
      "Accuracy: 0.7662337662337663\n"
     ]
    }
   ],
   "source": [
    "import pandas as pd\n",
    "from sklearn.tree import DecisionTreeClassifier\n",
    "from sklearn.model_selection import train_test_split\n",
    "from sklearn.metrics import accuracy_score\n",
    "\n",
    "# Step 1: Import the dataset\n",
    "df = pd.read_csv('diabetes.csv')\n",
    "\n",
    "# Step 2: Split the data into features (X) and the target variable (y)\n",
    "X = df.drop('Outcome', axis=1)\n",
    "y = df['Outcome']\n",
    "\n",
    "# Step 3: Split the dataset into a training set and a test set\n",
    "X_train, X_test, y_train, y_test = train_test_split(X, y, test_size=0.2, random_state=42)\n",
    "\n",
    "# Step 4: Create and train the decision tree model\n",
    "dt_classifier = DecisionTreeClassifier()\n",
    "dt_classifier.fit(X_train, y_train)\n",
    "\n",
    "# Step 5: Make predictions on the test set\n",
    "y_pred = dt_classifier.predict(X_test)\n",
    "\n",
    "# Step 6: Evaluate the performance of the model\n",
    "accuracy = accuracy_score(y_test, y_pred)\n",
    "print(\"Accuracy:\", accuracy)"
   ]
  },
  {
   "cell_type": "markdown",
   "id": "6f58ff4d",
   "metadata": {},
   "source": [
    "By including the \"BMI\" variable in the decision tree model, the algorithm will learn how different levels of body mass index relate to the likelihood of diabetes. The decision tree will create splits based on the \"BMI\" values to determine the most effective thresholds for predicting diabetes.\n",
    "\n",
    "Interpreting the splits and branches related to the \"BMI\" variable in the decision tree can provide insights into the relationship between body mass index and the prediction of diabetes."
   ]
  },
  {
   "cell_type": "markdown",
   "id": "f228616e",
   "metadata": {},
   "source": [
    "# Q7"
   ]
  },
  {
   "cell_type": "code",
   "execution_count": null,
   "id": "58423268",
   "metadata": {},
   "outputs": [],
   "source": [
    "7. DiabetesPedigreeFunction: Diabetes pedigree function (a function which scores likelihood of diabetes\n",
    "based on family history) (float)"
   ]
  },
  {
   "cell_type": "markdown",
   "id": "8a394408",
   "metadata": {},
   "source": [
    "Ans:-\n",
    "    \n",
    "    The \"DiabetesPedigreeFunction\" variable represents a function that scores the likelihood of diabetes based on family history. It is a float value that provides information about the patient's genetic predisposition to diabetes.\n",
    "\n",
    "The Diabetes Pedigree Function is a composite score that incorporates family history information related to diabetes. It takes into account the patient's family tree, the number of relatives with diabetes, and the age at which they were diagnosed. The higher the score, the higher the likelihood of diabetes.\n",
    "\n",
    "Including the \"DiabetesPedigreeFunction\" variable in the decision tree model can capture the influence of genetic factors on the prediction of diabetes. The decision tree will learn how different levels of the Diabetes Pedigree Function score relate to the likelihood of diabetes and create splits based on this variable to determine the most effective thresholds for predicting diabetes."
   ]
  },
  {
   "cell_type": "code",
   "execution_count": 14,
   "id": "28997583",
   "metadata": {},
   "outputs": [
    {
     "name": "stdout",
     "output_type": "stream",
     "text": [
      "Accuracy: 0.7727272727272727\n"
     ]
    }
   ],
   "source": [
    "import pandas as pd\n",
    "from sklearn.tree import DecisionTreeClassifier\n",
    "from sklearn.model_selection import train_test_split\n",
    "from sklearn.metrics import accuracy_score\n",
    "\n",
    "# Step 1: Import the dataset\n",
    "df = pd.read_csv('diabetes.csv')\n",
    "\n",
    "# Step 2: Split the data into features (X) and the target variable (y)\n",
    "X = df.drop('Outcome', axis=1)\n",
    "y = df['Outcome']\n",
    "\n",
    "# Step 3: Split the dataset into a training set and a test set\n",
    "X_train, X_test, y_train, y_test = train_test_split(X, y, test_size=0.2, random_state=42)\n",
    "\n",
    "# Step 4: Create and train the decision tree model\n",
    "dt_classifier = DecisionTreeClassifier()\n",
    "dt_classifier.fit(X_train, y_train)\n",
    "\n",
    "# Step 5: Make predictions on the test set\n",
    "y_pred = dt_classifier.predict(X_test)\n",
    "\n",
    "# Step 6: Evaluate the performance of the model\n",
    "accuracy = accuracy_score(y_test, y_pred)\n",
    "print(\"Accuracy:\", accuracy)"
   ]
  },
  {
   "cell_type": "markdown",
   "id": "866cbd90",
   "metadata": {},
   "source": [
    "By including the \"DiabetesPedigreeFunction\" variable in the decision tree model, the algorithm will learn how different levels of the Diabetes Pedigree Function score relate to the likelihood of diabetes. The decision tree will create splits based on the \"DiabetesPedigreeFunction\" values to determine the most effective thresholds for predicting diabetes.\n",
    "\n",
    "Interpreting the splits and branches related to the \"DiabetesPedigreeFunction\" variable in the decision tree can provide insights into the relationship between the genetic predisposition to diabetes and the prediction of diabetes."
   ]
  },
  {
   "cell_type": "markdown",
   "id": "3b5fc8d6",
   "metadata": {},
   "source": [
    "# Q8"
   ]
  },
  {
   "cell_type": "code",
   "execution_count": null,
   "id": "147a84ff",
   "metadata": {},
   "outputs": [],
   "source": [
    "8. Age: Age in years (integer)"
   ]
  },
  {
   "cell_type": "markdown",
   "id": "ff80eacf",
   "metadata": {},
   "source": [
    "Ans:- \n",
    "    The \"Age\" variable represents the age of the patient in years. It is an integer value that provides information about the patient's chronological age.\n",
    "\n",
    "Age is an important factor in assessing the risk of developing diabetes. As individuals get older, the risk of developing diabetes increases due to factors such as declining insulin sensitivity, changes in body composition, and lifestyle factors."
   ]
  },
  {
   "cell_type": "code",
   "execution_count": 15,
   "id": "ce2fd0c4",
   "metadata": {},
   "outputs": [
    {
     "name": "stdout",
     "output_type": "stream",
     "text": [
      "Accuracy: 0.7597402597402597\n"
     ]
    }
   ],
   "source": [
    "import pandas as pd\n",
    "from sklearn.tree import DecisionTreeClassifier\n",
    "from sklearn.model_selection import train_test_split\n",
    "from sklearn.metrics import accuracy_score\n",
    "\n",
    "# Step 1: Import the dataset\n",
    "df = pd.read_csv('diabetes.csv')\n",
    "\n",
    "# Step 2: Split the data into features (X) and the target variable (y)\n",
    "X = df.drop('Outcome', axis=1)\n",
    "y = df['Outcome']\n",
    "\n",
    "# Step 3: Split the dataset into a training set and a test set\n",
    "X_train, X_test, y_train, y_test = train_test_split(X, y, test_size=0.2, random_state=42)\n",
    "\n",
    "# Step 4: Create and train the decision tree model\n",
    "dt_classifier = DecisionTreeClassifier()\n",
    "dt_classifier.fit(X_train, y_train)\n",
    "\n",
    "# Step 5: Make predictions on the test set\n",
    "y_pred = dt_classifier.predict(X_test)\n",
    "\n",
    "# Step 6: Evaluate the performance of the model\n",
    "accuracy = accuracy_score(y_test, y_pred)\n",
    "print(\"Accuracy:\", accuracy)"
   ]
  },
  {
   "cell_type": "markdown",
   "id": "48256248",
   "metadata": {},
   "source": [
    "By including the \"Age\" variable in the decision tree model, the algorithm will learn how different age ranges relate to the likelihood of diabetes. The decision tree will create splits based on the \"Age\" values to determine the most effective thresholds for predicting diabetes.\n",
    "\n",
    "Interpreting the splits and branches related to the \"Age\" variable in the decision tree can provide insights into the relationship between age and the prediction of diabetes."
   ]
  },
  {
   "cell_type": "markdown",
   "id": "4a063bdb",
   "metadata": {},
   "source": [
    "# Q9"
   ]
  },
  {
   "cell_type": "code",
   "execution_count": null,
   "id": "c91b5db3",
   "metadata": {},
   "outputs": [],
   "source": [
    "9. Outcome: Class variable (0 if non-diabetic, 1 if diabetic) (integer)"
   ]
  },
  {
   "cell_type": "markdown",
   "id": "208267a8",
   "metadata": {},
   "source": [
    "Ans:-\n",
    "    \n",
    "    The \"Outcome\" variable represents the class variable that indicates whether a patient is diabetic or non-diabetic. It is an integer value that takes the value 0 if the patient is non-diabetic and 1 if the patient is diabetic.\n",
    "\n",
    "In the context of creating a decision tree to predict diabetes, the \"Outcome\" variable serves as the target variable or the variable we want to predict. The decision tree model will use the other clinical variables (such as pregnancies, glucose, blood pressure, etc.) as features to make predictions about the outcome variable (diabetic or non-diabetic).\n",
    "\n",
    "During the training phase, the decision tree algorithm will analyze the relationships between the clinical variables and the outcome to create a hierarchical structure of splits and branches that optimize the prediction accuracy. Each split in the decision tree is based on a specific feature and threshold, ultimately leading to a prediction of 0 (non-diabetic) or 1 (diabetic).\n",
    "\n",
    "It is important to note that the \"Outcome\" variable should be separated from the feature set (X) when training the decision tree model, as shown in the previous code examples.\n",
    "\n",
    "Interpreting the decision tree's splits, branches, and leaves related to the \"Outcome\" variable can provide insights into the most important clinical variables and their thresholds for predicting diabetes."
   ]
  },
  {
   "cell_type": "code",
   "execution_count": 16,
   "id": "3f735a2a",
   "metadata": {},
   "outputs": [
    {
     "name": "stdout",
     "output_type": "stream",
     "text": [
      "Accuracy: 0.7792207792207793\n"
     ]
    }
   ],
   "source": [
    "import pandas as pd\n",
    "from sklearn.tree import DecisionTreeClassifier\n",
    "from sklearn.model_selection import train_test_split\n",
    "from sklearn.metrics import accuracy_score\n",
    "\n",
    "# Step 1: Import the dataset\n",
    "df = pd.read_csv('diabetes.csv')\n",
    "\n",
    "# Step 2: Split the data into features (X) and the target variable (y)\n",
    "X = df.drop('Outcome', axis=1)\n",
    "y = df['Outcome']\n",
    "\n",
    "# Step 3: Split the dataset into a training set and a test set\n",
    "X_train, X_test, y_train, y_test = train_test_split(X, y, test_size=0.2, random_state=42)\n",
    "\n",
    "# Step 4: Create and train the decision tree model\n",
    "dt_classifier = DecisionTreeClassifier()\n",
    "dt_classifier.fit(X_train, y_train)\n",
    "\n",
    "# Step 5: Make predictions on the test set\n",
    "y_pred = dt_classifier.predict(X_test)\n",
    "\n",
    "# Step 6: Evaluate the performance of the model\n",
    "accuracy = accuracy_score(y_test, y_pred)\n",
    "print(\"Accuracy:\", accuracy)"
   ]
  },
  {
   "cell_type": "markdown",
   "id": "f8505de6",
   "metadata": {},
   "source": [
    "In this code, we load the 'diabetes.csv' dataset and split it into features (X) and the target variable (y). The \"Outcome\" variable is assigned to the target variable (y), which represents the class we want to predict (0 for non-diabetic, 1 for diabetic). We then split the dataset into a training set and a test set.\n",
    "\n",
    "Next, we create a decision tree classifier using the DecisionTreeClassifier class and train it on the training set. We make predictions on the test set using the trained model and calculate the accuracy score as the performance metric.\n",
    "\n",
    "Please ensure that the 'diabetes.csv' file is located in the same directory as your Python script or notebook. If the file is in a different directory, provide the correct file path in the read_csv() function."
   ]
  },
  {
   "cell_type": "code",
   "execution_count": null,
   "id": "5336115a",
   "metadata": {},
   "outputs": [],
   "source": []
  }
 ],
 "metadata": {
  "kernelspec": {
   "display_name": "Python 3 (ipykernel)",
   "language": "python",
   "name": "python3"
  },
  "language_info": {
   "codemirror_mode": {
    "name": "ipython",
    "version": 3
   },
   "file_extension": ".py",
   "mimetype": "text/x-python",
   "name": "python",
   "nbconvert_exporter": "python",
   "pygments_lexer": "ipython3",
   "version": "3.9.13"
  }
 },
 "nbformat": 4,
 "nbformat_minor": 5
}
