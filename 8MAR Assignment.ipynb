{
 "cells": [
  {
   "cell_type": "markdown",
   "id": "7ecbc4e1-57ec-4239-9480-26920e9b3104",
   "metadata": {},
   "source": [
    "## 8MAR\n",
    "### Assignment"
   ]
  },
  {
   "cell_type": "markdown",
   "id": "03c9be3b-b961-4973-bc78-2d20b837f22d",
   "metadata": {},
   "source": [
    "### Q1"
   ]
  },
  {
   "cell_type": "code",
   "execution_count": null,
   "id": "da05dd26-6aa7-4535-8406-0107ab04bb17",
   "metadata": {},
   "outputs": [],
   "source": [
    "Q1. What is the Probability density function?"
   ]
  },
  {
   "cell_type": "code",
   "execution_count": null,
   "id": "7e0f998c-2537-4117-b11c-fb3292de04d3",
   "metadata": {},
   "outputs": [],
   "source": [
    "Ans:- A probability density function (PDF) is a function that describes the relative likelihood of \n",
    "observing a continuous random variable taking a particular value or falling within a particular \n",
    "range of values. In other words, it describes the probability of a continuous variable being within\n",
    "a certain range of values, rather than taking on a particular value.\n",
    "\n",
    "The PDF is typically denoted as f(x) and can take on different forms depending on the distribution\n",
    "of the variable. For example, the PDF of a normally distributed variable has a bell-shaped curve, \n",
    "while the PDF of a uniform distribution has a constant value between the lower and upper bounds.\n",
    "\n",
    "The area under the PDF curve within a certain range of values represents the probability of the \n",
    "variable taking a value within that range. The total area under the curve is equal to 1, indicating\n",
    "that the probability of the variable taking any value within the entire range of values is 1.\n",
    "\n",
    "The PDF is commonly used in statistical inference and hypothesis testing to make inferences about\n",
    "the population from a sample of data. It is also used to calculate other statistical measures such \n",
    "as the mean, variance, and standard deviation of the distribution."
   ]
  },
  {
   "cell_type": "markdown",
   "id": "bc388f2d-a459-44ac-bba8-261d6afd545f",
   "metadata": {},
   "source": [
    "### Q2"
   ]
  },
  {
   "cell_type": "code",
   "execution_count": null,
   "id": "0c68318e-24d4-4cfa-95ec-928af48e79be",
   "metadata": {},
   "outputs": [],
   "source": [
    "Q2. What are the types of Probability distribution?"
   ]
  },
  {
   "cell_type": "code",
   "execution_count": null,
   "id": "363e495d-e658-4549-b7a4-51add17113eb",
   "metadata": {},
   "outputs": [],
   "source": [
    "There are many types of probability distributions, but some of the most commonly used ones are:\n",
    "\n",
    "=> Normal distribution: The normal distribution is a bell-shaped curve that is symmetric around \n",
    "the mean. Many natural phenomena, such as height and weight, follow a normal distribution.\n",
    "\n",
    "=> Binomial distribution: The binomial distribution describes the number of successes in a fixed\n",
    "number of independent trials with two possible outcomes (success or failure) and a constant\n",
    "probability of success.\n",
    "\n",
    "=> Poisson distribution: The Poisson distribution describes the number of rare events that occur\n",
    "within a fixed interval of time or space, given the average rate of occurrence.\n",
    "\n",
    "=> Exponential distribution: The exponential distribution describes the time between two \n",
    "consecutive events in a Poisson process, where the events occur randomly and independently.\n",
    "\n",
    "=> Uniform distribution: The uniform distribution describes a continuous random variable that has \n",
    "an equal probability of being any value within a fixed interval.\n",
    "\n",
    "=> Gamma distribution: The gamma distribution is a family of continuous probability distributions \n",
    "that are used to model the waiting time until a specified number of events occur.\n",
    "\n",
    "=> Chi-square distribution: The chi-square distribution is a family of continuous probability \n",
    "distributions that are used to test the goodness-of-fit of a statistical model.\n",
    "\n",
    "=> Student's t-distribution: The t-distribution is used in hypothesis testing when the sample size\n",
    "is small and the population standard deviation is unknown.\n",
    "\n",
    "=> F-distribution: The F-distribution is used to compare the variances of two populations based on\n",
    "sample data.\n",
    "\n",
    "Each of these distributions has its own unique properties, and they are used in a variety of \n",
    "fields such as finance, physics, biology, and engineering, among others."
   ]
  },
  {
   "cell_type": "markdown",
   "id": "d1ebceaa-8837-4baf-874d-8f71c6369c04",
   "metadata": {},
   "source": [
    "### Q3"
   ]
  },
  {
   "cell_type": "code",
   "execution_count": null,
   "id": "7b37d505-989f-438b-b0e4-d733ec3c77e6",
   "metadata": {},
   "outputs": [],
   "source": [
    "Q3. Write a Python function to calculate the probability density function of a normal distribution\n",
    "with given mean and standard deviation at a given point."
   ]
  },
  {
   "cell_type": "code",
   "execution_count": null,
   "id": "d8bc6b7d-f054-4532-a068-3a6081be14c1",
   "metadata": {},
   "outputs": [],
   "source": [
    "Ans:- to calculate the probability density function (PDF) of a normal distribution with a given\n",
    "mean and standard deviation at a given point:"
   ]
  },
  {
   "cell_type": "code",
   "execution_count": 1,
   "id": "93351650-b897-4e88-a803-2d84a9849566",
   "metadata": {},
   "outputs": [],
   "source": [
    "import math\n",
    "\n",
    "def normal_pdf(x, mean, std_dev):\n",
    "    \"\"\"\n",
    "    Calculates the PDF of a normal distribution with given mean and standard deviation at a given point.\n",
    "    \n",
    "    Parameters:\n",
    "    x (float): The point at which to calculate the PDF.\n",
    "    mean (float): The mean of the normal distribution.\n",
    "    std_dev (float): The standard deviation of the normal distribution.\n",
    "    \n",
    "    Returns:\n",
    "    float: The value of the PDF at the given point.\n",
    "    \"\"\"\n",
    "    exponent = -0.5 * ((x - mean) / std_dev)**2\n",
    "    coefficient = 1 / (std_dev * math.sqrt(2 * math.pi))\n",
    "    pdf = coefficient * math.exp(exponent)\n",
    "    return pdf\n"
   ]
  },
  {
   "cell_type": "code",
   "execution_count": 2,
   "id": "266d4ee3-9b7f-46ee-a85c-1a98bcd45287",
   "metadata": {},
   "outputs": [
    {
     "data": {
      "text/plain": [
       "0.05399096651318806"
      ]
     },
     "execution_count": 2,
     "metadata": {},
     "output_type": "execute_result"
    }
   ],
   "source": [
    ">>> normal_pdf(2, 0, 1)\n",
    "0.05399096651318806\n"
   ]
  },
  {
   "cell_type": "code",
   "execution_count": null,
   "id": "26d0a744-ac7e-440c-9fad-f01db421f6ae",
   "metadata": {},
   "outputs": [],
   "source": [
    "This calculates the PDF of a normal distribution with mean 0 and standard deviation 1 at x = 2, \n",
    "which is 0.05399."
   ]
  },
  {
   "cell_type": "markdown",
   "id": "7a90c71f-542d-446d-95cc-0c7cd32a0ffa",
   "metadata": {},
   "source": [
    "### Q4"
   ]
  },
  {
   "cell_type": "code",
   "execution_count": null,
   "id": "a7a556bc-76c6-4639-bfc9-a7d601886801",
   "metadata": {},
   "outputs": [],
   "source": [
    "Q4. What are the properties of Binomial distribution? Give two examples of events where binomial\n",
    "distribution can be applied."
   ]
  },
  {
   "cell_type": "code",
   "execution_count": null,
   "id": "6647c3f3-9983-40cf-88d8-9fb9ae8bdea1",
   "metadata": {},
   "outputs": [],
   "source": [
    "Ans:- Binomial distribution is a type of probability distribution that models the number of successes in a fixed number of independent trials, where each trial has a fixed probability of success. The following are the properties of binomial distribution:\n",
    "\n",
    "=> There are a fixed number of trials (n).\n",
    "=> Each trial has only two possible outcomes: success or failure.\n",
    "=> The probability of success (p) is constant across all trials.\n",
    "=> The trials are independent.\n",
    "\n",
    "\n",
    "Two examples of events where binomial distribution can be applied are:\n",
    "\n",
    "=> Flipping a coin: If we flip a fair coin 10 times, the probability of getting heads (success) is\n",
    "0.5 and the probability of getting tails (failure) is also 0.5. We can model this situation using a\n",
    "binomial distribution with n=10 and p=0.5.\n",
    "=> Quality control: In a manufacturing process, a sample of 50 items is taken from a large batch,\n",
    "and the number of defective items is counted. If the probability of an item being defective is 0.1,\n",
    "we can model this situation using a binomial distribution with n=50 and p=0.1. We can use this \n",
    "distribution to calculate the probability of getting a certain number of defective items in the \n",
    "sample."
   ]
  },
  {
   "cell_type": "markdown",
   "id": "c3f7a7f2-b24d-42a0-bc32-4ea1643c9d32",
   "metadata": {},
   "source": [
    "### Q5"
   ]
  },
  {
   "cell_type": "code",
   "execution_count": null,
   "id": "67aeebd0-d45b-4a05-97a0-1d64f6bae008",
   "metadata": {},
   "outputs": [],
   "source": [
    "Q5. Generate a random sample of size 1000 from a binomial distribution with probability of success \n",
    "0.4 and plot a histogram of the results using matplotlib."
   ]
  },
  {
   "cell_type": "code",
   "execution_count": null,
   "id": "8a9df67b-11d6-4114-a873-25cc9ae3b888",
   "metadata": {},
   "outputs": [],
   "source": [
    "Ans:- to generate a random sample of size 1000 from a binomial distribution with probability of \n",
    "success 0.4 and plot a histogram of the results using matplotlib:"
   ]
  },
  {
   "cell_type": "code",
   "execution_count": 3,
   "id": "b335ede5-e4cc-4cfc-934f-8d92e5c1ccff",
   "metadata": {},
   "outputs": [
    {
     "data": {
      "image/png": "[encoded data removed]",
      "text/plain": [
       "<Figure size 640x480 with 1 Axes>"
      ]
     },
     "metadata": {},
     "output_type": "display_data"
    }
   ],
   "source": [
    "import numpy as np\n",
    "import matplotlib.pyplot as plt\n",
    "\n",
    "# Set the parameters\n",
    "n = 10   # Number of trials\n",
    "p = 0.4  # Probability of success\n",
    "\n",
    "# Generate a random sample of size 1000\n",
    "sample = np.random.binomial(n, p, size=1000)\n",
    "\n",
    "# Plot the histogram\n",
    "plt.hist(sample, bins=range(11), align='left', rwidth=0.8)\n",
    "plt.xlabel('Number of successes')\n",
    "plt.ylabel('Frequency')\n",
    "plt.title('Histogram of a binomial distribution')\n",
    "plt.show()\n"
   ]
  },
  {
   "cell_type": "code",
   "execution_count": null,
   "id": "653513cd-ee24-4721-b60c-e1a59161ce1e",
   "metadata": {},
   "outputs": [],
   "source": [
    "This code generates a random sample of size 1000 from a binomial distribution with n=10 and p=0.4 using the np.random.binomial() function. Then \n",
    "it plots a histogram of the sample using the plt.hist() function, with the number of successes on the x-axis and the frequency of each value on\n",
    "the y-axis. The bins parameter specifies the range of values to be plotted (from 0 to 10, inclusive), and the align and rwidth parameters \n",
    "control the appearance of the bars in the histogram. Finally, the plt.xlabel(), plt.ylabel(), and plt.title() functions are used to label the \n",
    "plot."
   ]
  },
  {
   "cell_type": "markdown",
   "id": "1d343bce-53c7-4d43-a40f-faec2c611e73",
   "metadata": {},
   "source": [
    "### Q6"
   ]
  },
  {
   "cell_type": "code",
   "execution_count": null,
   "id": "944d969c-8cc6-4ed1-983a-cf6a06d820a6",
   "metadata": {},
   "outputs": [],
   "source": [
    "Q6. Write a Python function to calculate the cumulative distribution function of a Poisson distribution\n",
    "with given mean at a given point."
   ]
  },
  {
   "cell_type": "code",
   "execution_count": null,
   "id": "b8b1b3fd-ac07-4757-9586-841e3ed18ea9",
   "metadata": {},
   "outputs": [],
   "source": [
    "Ans:- to calculate the cumulative distribution function of a Poisson distribution with a given mean at a given point:"
   ]
  },
  {
   "cell_type": "code",
   "execution_count": 4,
   "id": "ac652f41-a4e9-42d1-88cf-0c9b36a55eb7",
   "metadata": {},
   "outputs": [],
   "source": [
    "import math\n",
    "\n",
    "def poisson_cdf(mean, k):\n",
    "    \"\"\"Calculate the cumulative distribution function of a Poisson distribution with a given mean at a given point k\"\"\"\n",
    "    cdf = 0\n",
    "    for i in range(k + 1):\n",
    "        cdf += math.exp(-mean) * (mean ** i) / math.factorial(i)\n",
    "    return cdf\n"
   ]
  },
  {
   "cell_type": "code",
   "execution_count": null,
   "id": "9d81e9f6-fcfe-4e3e-bd79-fe23a8690d5f",
   "metadata": {},
   "outputs": [],
   "source": [
    "The poisson_cdf() function takes two arguments: mean, the mean of the Poisson distribution, and k, the point at which to evaluate the cumulative\n",
    "distribution function. It calculates the cumulative distribution function by summing the probabilities of all Poisson random variables up to and\n",
    "including k. The math.exp() function is used to calculate the exponential term, math.factorial() to calculate the factorials, and the ** operator\n",
    "for exponentiation.\n",
    "\n",
    "For example, to calculate the cumulative distribution function of a Poisson distribution with mean 3 at point 5, we would call the function as \n",
    "follows:"
   ]
  },
  {
   "cell_type": "code",
   "execution_count": 5,
   "id": "fed121cf-5079-46ac-89cc-b4051d0255e1",
   "metadata": {},
   "outputs": [
    {
     "data": {
      "text/plain": [
       "0.2650259152973616"
      ]
     },
     "execution_count": 5,
     "metadata": {},
     "output_type": "execute_result"
    }
   ],
   "source": [
    ">>> poisson_cdf(3, 5)\n",
    "0.2650259152973616\n"
   ]
  },
  {
   "cell_type": "code",
   "execution_count": null,
   "id": "f8443d44-2d8c-4f23-a4e6-0a78cac0e36c",
   "metadata": {},
   "outputs": [],
   "source": [
    "This gives us the probability of getting 5 or fewer events in a Poisson process with a mean of 3."
   ]
  },
  {
   "cell_type": "markdown",
   "id": "ba41fb28-c660-432d-b995-39b7dfbac9e7",
   "metadata": {},
   "source": [
    "### Q7"
   ]
  },
  {
   "cell_type": "code",
   "execution_count": null,
   "id": "292b5e9f-67ef-47aa-a25c-799d4854ab62",
   "metadata": {},
   "outputs": [],
   "source": [
    "Q7. How Binomial distribution different from Poisson distribution?"
   ]
  },
  {
   "cell_type": "code",
   "execution_count": null,
   "id": "4067c3ac-cddf-4d9e-93d1-7ad22ec3359a",
   "metadata": {},
   "outputs": [],
   "source": [
    "Ans:- Binomial and Poisson distributions are both discrete probability distributions, but they differ in several ways.\n",
    "\n",
    "The main differences between Binomial and Poisson distributions are:\n",
    "\n",
    "=> Number of trials: The Binomial distribution is used when there are a fixed number of independent trials, while the Poisson distribution is \n",
    "used when the number of trials is unknown or unlimited.\n",
    "\n",
    "=> Probability of success: In the Binomial distribution, the probability of success remains constant for all trials, while in the Poisson \n",
    "distribution, the probability of success can vary depending on the mean of the distribution.\n",
    "\n",
    "=> Shape: The Binomial distribution is bell-shaped and symmetric, while the Poisson distribution is skewed to the right.\n",
    "\n",
    "=> Parameters: The Binomial distribution is characterized by two parameters: the number of trials and the probability of success. The Poisson\n",
    "distribution, on the other hand, is characterized by only one parameter: the mean or expected value.\n",
    "\n",
    "=> Applications: The Binomial distribution is commonly used to model events with two possible outcomes, such as success or failure, while the \n",
    "Poisson distribution is often used to model events that occur randomly and independently in time or space, such as the number of arrivals at a \n",
    "hospital per day or the number of defects in a manufacturing process.\n",
    "\n",
    "In summary, the Binomial distribution is used when there are a fixed number of independent trials with a constant probability of success, while\n",
    "the Poisson distribution is used when the number of trials is unknown or unlimited and the probability of success varies depending on the mean \n",
    "of the distribution."
   ]
  },
  {
   "cell_type": "markdown",
   "id": "8fbc31b2-f44b-45e5-b5ba-84971959e6b0",
   "metadata": {},
   "source": [
    "### Q8"
   ]
  },
  {
   "cell_type": "code",
   "execution_count": null,
   "id": "6ecd64a0-fafd-4ea8-94cc-398131e1d992",
   "metadata": {},
   "outputs": [],
   "source": [
    "Q8. Generate a random sample of size 1000 from a Poisson distribution with mean 5 and calculate the\n",
    "sample mean and variance."
   ]
  },
  {
   "cell_type": "code",
   "execution_count": null,
   "id": "8355f16c-fa15-45f8-b4f8-57ea439e04fa",
   "metadata": {},
   "outputs": [],
   "source": [
    "Ans:-  to generate a random sample of size 1000 from a Poisson distribution with mean 5 and calculate the sample mean and variance:"
   ]
  },
  {
   "cell_type": "code",
   "execution_count": 6,
   "id": "7cfc3e45-11c2-4612-acb4-75f72bbe1f37",
   "metadata": {},
   "outputs": [
    {
     "name": "stdout",
     "output_type": "stream",
     "text": [
      "Sample Mean: 4.948\n",
      "Sample Variance: 4.631296\n"
     ]
    }
   ],
   "source": [
    "import numpy as np\n",
    "\n",
    "# Generate random sample of size 1000 from Poisson distribution with mean 5\n",
    "sample = np.random.poisson(5, size=1000)\n",
    "\n",
    "# Calculate sample mean and variance\n",
    "sample_mean = np.mean(sample)\n",
    "sample_variance = np.var(sample)\n",
    "\n",
    "print(\"Sample Mean:\", sample_mean)\n",
    "print(\"Sample Variance:\", sample_variance)\n"
   ]
  },
  {
   "cell_type": "code",
   "execution_count": null,
   "id": "e5a5c3b2-6d8d-46e5-9a90-02fd19351ced",
   "metadata": {},
   "outputs": [],
   "source": [
    "The output will be two numbers, which represent the sample mean and variance, respectively. The values may vary slightly due to the randomness \n",
    "of the sample generation."
   ]
  },
  {
   "cell_type": "markdown",
   "id": "823d89e2-83a1-480d-b2b6-2e13cd5d7f3d",
   "metadata": {},
   "source": [
    "### Q9"
   ]
  },
  {
   "cell_type": "code",
   "execution_count": null,
   "id": "37362be0-9496-491d-89ff-3a82bc0a148e",
   "metadata": {},
   "outputs": [],
   "source": [
    "Q9. How mean and variance are related in Binomial distribution and Poisson distribution?"
   ]
  },
  {
   "cell_type": "code",
   "execution_count": null,
   "id": "570faafb-4aa2-46c0-bff6-b3cf441feeb2",
   "metadata": {},
   "outputs": [],
   "source": [
    "Ans:- In a binomial distribution, if the number of trials n is fixed and the probability of success p is small, then the mean and variance of \n",
    "the distribution are approximately equal and can be expressed as:\n",
    "\n",
    "mean = np\n",
    "\n",
    "variance = np(1-p)\n",
    "\n",
    "In a Poisson distribution, the mean and variance are equal and can be expressed as:\n",
    "\n",
    "mean = variance = λ\n",
    "\n",
    "where λ is the rate parameter.\n",
    "\n",
    "The relationship between mean and variance in these distributions is important because it helps us to better understand the shape and spread of\n",
    "the distribution. For example, if the mean and variance are equal, it indicates that the distribution is not very spread out and has a peak at \n",
    "the mean value. On the other hand, if the variance is much larger than the mean, it indicates that the distribution is more spread out and has \n",
    "a wider range of values."
   ]
  },
  {
   "cell_type": "markdown",
   "id": "e2232c95-5b45-43d1-b64f-64ef60bda1f5",
   "metadata": {},
   "source": [
    "### Q10"
   ]
  },
  {
   "cell_type": "code",
   "execution_count": null,
   "id": "900c96a3-1e16-4c61-8d30-4e75250c538d",
   "metadata": {},
   "outputs": [],
   "source": [
    "Q10. In normal distribution with respect to mean position, where does the least frequent data appear?"
   ]
  },
  {
   "cell_type": "code",
   "execution_count": null,
   "id": "c09e9d5f-2b4b-47b2-b455-2b9dd18ff3af",
   "metadata": {},
   "outputs": [],
   "source": [
    "Ans:- In a normal distribution, the least frequent data appears at the tails of the distribution, which are located farthest from the mean. The \n",
    "normal distribution is symmetrical around the mean, so the tails on both sides of the mean contain the same amount of data. The further away \n",
    "from the mean, the fewer data points there are, so the tails are where the least frequent data appears. The tails of a normal distribution \n",
    "correspond to the extreme values of the variable being measured. For example, if the variable is height, the tails of the normal distribution\n",
    "would correspond to very tall or very short people, who are less common in the population than people of average height."
   ]
  },
  {
   "cell_type": "code",
   "execution_count": null,
   "id": "d1702699-5e86-4fff-833c-6a31bfe8e916",
   "metadata": {},
   "outputs": [],
   "source": []
  }
 ],
 "metadata": {
  "kernelspec": {
   "display_name": "Python 3 (ipykernel)",
   "language": "python",
   "name": "python3"
  },
  "language_info": {
   "codemirror_mode": {
    "name": "ipython",
    "version": 3
   },
   "file_extension": ".py",
   "mimetype": "text/x-python",
   "name": "python",
   "nbconvert_exporter": "python",
   "pygments_lexer": "ipython3",
   "version": "3.10.8"
  }
 },
 "nbformat": 4,
 "nbformat_minor": 5
}
