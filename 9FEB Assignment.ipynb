{
 "cells": [
  {
   "cell_type": "markdown",
   "id": "2ea32927-63dd-4a42-b1e7-e3529751c7c1",
   "metadata": {},
   "source": [
    "## 9FEB\n",
    "### Assignment"
   ]
  },
  {
   "cell_type": "markdown",
   "id": "ca45dd51-9e2a-41fb-b67f-c3371347964c",
   "metadata": {},
   "source": [
    "# Q1"
   ]
  },
  {
   "cell_type": "code",
   "execution_count": null,
   "id": "3f27d093-f10c-413d-86d8-1c430e577929",
   "metadata": {},
   "outputs": [],
   "source": [
    "Q1. Create a vehicle class with an init method having instance variables as name_of_vehicle, max_speed\n",
    "and average_of_vehicle."
   ]
  },
  {
   "cell_type": "code",
   "execution_count": null,
   "id": "9b7ae298-abd8-4af5-a109-fe07741da7d3",
   "metadata": {},
   "outputs": [],
   "source": [
    "class Vehicle:\n",
    "    def __init__(self, name_of_vehicle, max_speed, average_of_vehicle):\n",
    "        self.name_of_vehicle = name_of_vehicle\n",
    "        self.max_speed = max_speed\n",
    "        self.average_of_vehicle = average_of_vehicle"
   ]
  },
  {
   "cell_type": "markdown",
   "id": "ebb1b4ee-ec02-43a2-bded-6738c6932790",
   "metadata": {},
   "source": [
    "# Q2"
   ]
  },
  {
   "cell_type": "code",
   "execution_count": null,
   "id": "77672f0c-aa31-4966-8c84-4570f6095577",
   "metadata": {},
   "outputs": [],
   "source": [
    "Q2. Create a child class car from the vehicle class created in Que 1, which will inherit the vehicle class.\n",
    "Create a method named seating_capacity which takes capacity as an argument and returns the name of\n",
    "the vehicle and its seating capacity."
   ]
  },
  {
   "cell_type": "code",
   "execution_count": null,
   "id": "c2c0cf8e-e5eb-4563-a8ab-4580ba21527a",
   "metadata": {},
   "outputs": [],
   "source": [
    "class Car(Vehicle):\n",
    " def __init__(self, make, model, year, color, capacity):\n",
    "    super().__init__(make, model, year, color)\n",
    "    self.capacity = capacity"
   ]
  },
  {
   "cell_type": "code",
   "execution_count": null,
   "id": "f96438ae-6239-4449-9f31-ad9e13f961d7",
   "metadata": {},
   "outputs": [],
   "source": [
    "  def seating_capacity(self):\n",
    "    return f\"The {self.make} {self.model} has a seating capacity of {self.capacity}.\""
   ]
  },
  {
   "cell_type": "markdown",
   "id": "ae5c1ccb-946b-4bb3-8aee-cca766f40a33",
   "metadata": {},
   "source": [
    "# Q3"
   ]
  },
  {
   "cell_type": "code",
   "execution_count": null,
   "id": "f9f55424-aa28-4336-9648-14eb56546226",
   "metadata": {},
   "outputs": [],
   "source": [
    "Q3. What is multiple inheritance? Write a python code to demonstrate multiple inheritance."
   ]
  },
  {
   "cell_type": "code",
   "execution_count": null,
   "id": "4978eb17-4354-4d44-9cce-2a6e2a2fd232",
   "metadata": {},
   "outputs": [],
   "source": [
    "Ans:- Multiple inheritance occurs when a class is derived from more than one parent class. This means a child class can inherit attributes and methods from multiple parent classes.\n"
   ]
  },
  {
   "cell_type": "code",
   "execution_count": 7,
   "id": "94cd4858-19b0-4455-a9d0-d9c5e43673d8",
   "metadata": {},
   "outputs": [],
   "source": [
    "# Example code:\n",
    "\n",
    "class Parent1:\n",
    "  def __init__(self):\n",
    "    self.name = \"Parent1\"\n",
    "    self.attribute1 = \"Attribute1\"\n"
   ]
  },
  {
   "cell_type": "code",
   "execution_count": 9,
   "id": "d65c5918-8e8b-4c3d-a1b8-787cfdd1fe09",
   "metadata": {},
   "outputs": [],
   "source": [
    "class Parent2:\n",
    "  def __init__(self):\n",
    "    self.name = \"Parent2\"\n",
    "    self.attribute2 = \"Attribute2\"\n"
   ]
  },
  {
   "cell_type": "code",
   "execution_count": 10,
   "id": "3a726f1f-a8a2-4b95-a8aa-ffb1c816b4aa",
   "metadata": {},
   "outputs": [],
   "source": [
    "class Child(Parent1,Parent2):\n",
    "  def __init__(self):\n",
    "    Parent1.__init__(self)\n",
    "    Parent2.__init__(self)\n",
    "    print(\"Name:\",self.name)\n",
    "    print(\"Attribute1:\",self.attribute1)\n",
    "    print(\"Attribute2:\",self.attribute2)"
   ]
  },
  {
   "cell_type": "code",
   "execution_count": 11,
   "id": "be8c09d5-cde6-48f6-ad16-c1e3d7ba5238",
   "metadata": {},
   "outputs": [
    {
     "name": "stdout",
     "output_type": "stream",
     "text": [
      "Name: Parent2\n",
      "Attribute1: Attribute1\n",
      "Attribute2: Attribute2\n"
     ]
    },
    {
     "data": {
      "text/plain": [
       "<__main__.Child at 0x7f1dcc6878e0>"
      ]
     },
     "execution_count": 11,
     "metadata": {},
     "output_type": "execute_result"
    }
   ],
   "source": [
    "Child()"
   ]
  },
  {
   "cell_type": "markdown",
   "id": "aeca4b79-177b-40e0-892f-f5fb6c4a9eb1",
   "metadata": {},
   "source": [
    "# Q4"
   ]
  },
  {
   "cell_type": "code",
   "execution_count": null,
   "id": "05d5ac04-7edc-45f5-a00f-70189af9435c",
   "metadata": {},
   "outputs": [],
   "source": [
    "Q4. What are getter and setter in python? Create a class and create a getter and a setter method in this\n",
    "class."
   ]
  },
  {
   "cell_type": "code",
   "execution_count": null,
   "id": "0d35fdc4-017f-4972-b8e6-00e8d13a9371",
   "metadata": {},
   "outputs": [],
   "source": [
    "Ans:- \n",
    "Getter and setter methods are used in object-oriented programming to retrieve and set the values of attributes of an object. They are used to protect the integrity of the object's data, as well as to provide a layer of abstraction between the object and the code that uses it.\n"
   ]
  },
  {
   "cell_type": "code",
   "execution_count": 12,
   "id": "03409f34-3096-4376-afbb-e5c59e59b91b",
   "metadata": {},
   "outputs": [],
   "source": [
    "# For example:\n",
    "\n",
    "class Book:\n",
    "    def __init__(self, title, author):\n",
    "        self.title = title\n",
    "        self.author = author\n",
    "    "
   ]
  },
  {
   "cell_type": "code",
   "execution_count": 17,
   "id": "a10d0f2a-4390-49a1-b433-7bd88b82f06d",
   "metadata": {},
   "outputs": [],
   "source": [
    "# Gitter\n",
    "def get_title(self):\n",
    "        return self.title\n",
    "    "
   ]
  },
  {
   "cell_type": "code",
   "execution_count": 18,
   "id": "cd990512-a2be-40d1-935d-850af0bea108",
   "metadata": {},
   "outputs": [],
   "source": [
    "  # Setter\n",
    "def set_title(self, new_title):\n",
    "        self.title = new_title"
   ]
  },
  {
   "cell_type": "markdown",
   "id": "a65bfeeb-791e-4813-85fa-d735415275ad",
   "metadata": {},
   "source": [
    "# Q5"
   ]
  },
  {
   "cell_type": "code",
   "execution_count": null,
   "id": "e722e615-22bb-4ff5-a83d-7386d4bbaf66",
   "metadata": {},
   "outputs": [],
   "source": [
    "Q5.What is method overriding in python? Write a python code to demonstrate method overriding."
   ]
  },
  {
   "cell_type": "code",
   "execution_count": null,
   "id": "bc7ea37d-c657-45dc-bf89-73a2b4e36f4f",
   "metadata": {},
   "outputs": [],
   "source": [
    "Ans:- Method overriding in Python is when a child class inherits a method from a parent class and then redefines that method in the child class. This allows the child class to provide its own implementation of the inherited method.\n",
    "\n"
   ]
  },
  {
   "cell_type": "code",
   "execution_count": 19,
   "id": "a4fe38da-395b-485f-ab83-73807f2ec06a",
   "metadata": {},
   "outputs": [],
   "source": [
    "# Example:\n",
    "\n",
    "class Parent:\n",
    "    def foo(self):\n",
    "        print(\"Parent foo\")"
   ]
  },
  {
   "cell_type": "code",
   "execution_count": 20,
   "id": "5fb495e8-47c4-4c50-ae99-8ada1f97f392",
   "metadata": {},
   "outputs": [],
   "source": [
    "class Child(Parent):\n",
    "    def foo(self):\n",
    "        print(\"Child foo\")"
   ]
  },
  {
   "cell_type": "code",
   "execution_count": 21,
   "id": "0cb7a5db-bd28-445b-9f2e-7b7542db7ebc",
   "metadata": {},
   "outputs": [],
   "source": [
    "# Create an instance of the Child class\n",
    "c = Child()\n"
   ]
  },
  {
   "cell_type": "code",
   "execution_count": 22,
   "id": "4cb565a0-eb82-4695-8960-86235a02008c",
   "metadata": {},
   "outputs": [
    {
     "name": "stdout",
     "output_type": "stream",
     "text": [
      "Child foo\n"
     ]
    }
   ],
   "source": [
    "# Call the foo method\n",
    "c.foo()"
   ]
  },
  {
   "cell_type": "code",
   "execution_count": null,
   "id": "8788d911-2e2b-4490-8bd5-ac3a0373e14b",
   "metadata": {},
   "outputs": [],
   "source": []
  },
  {
   "cell_type": "code",
   "execution_count": null,
   "id": "b30ed0ea-8110-4721-af12-62520976a923",
   "metadata": {},
   "outputs": [],
   "source": []
  },
  {
   "cell_type": "code",
   "execution_count": null,
   "id": "a23101e5-8931-46e9-92b8-ba2c131e5d54",
   "metadata": {},
   "outputs": [],
   "source": []
  },
  {
   "cell_type": "code",
   "execution_count": null,
   "id": "4f90caf0-61b5-4ef3-b668-d2c1c62a5794",
   "metadata": {},
   "outputs": [],
   "source": []
  },
  {
   "cell_type": "code",
   "execution_count": null,
   "id": "420872c0-0f5a-4b40-9215-c0d5246db59a",
   "metadata": {},
   "outputs": [],
   "source": []
  }
 ],
 "metadata": {
  "kernelspec": {
   "display_name": "Python 3 (ipykernel)",
   "language": "python",
   "name": "python3"
  },
  "language_info": {
   "codemirror_mode": {
    "name": "ipython",
    "version": 3
   },
   "file_extension": ".py",
   "mimetype": "text/x-python",
   "name": "python",
   "nbconvert_exporter": "python",
   "pygments_lexer": "ipython3",
   "version": "3.10.8"
  }
 },
 "nbformat": 4,
 "nbformat_minor": 5
}
