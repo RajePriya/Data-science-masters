{
 "cells": [
  {
   "cell_type": "markdown",
   "id": "03090ac4-0ee5-4cba-a587-6ee7c2c4f059",
   "metadata": {},
   "source": [
    "## 17FEB\n",
    "### ASSIGNMENT"
   ]
  },
  {
   "cell_type": "markdown",
   "id": "8b671bc6-6e4d-4cc1-a63a-1a127943c98b",
   "metadata": {},
   "source": [
    "### Q1"
   ]
  },
  {
   "cell_type": "code",
   "execution_count": null,
   "id": "8d8daf7e-5a43-4472-8ca7-52bea4f18341",
   "metadata": {},
   "outputs": [],
   "source": [
    "Q1. What is MongoDB? Explain non-relational databases in short. In which scenarios it is preferred to use\n",
    "MongoDB over SQL databases?"
   ]
  },
  {
   "cell_type": "code",
   "execution_count": null,
   "id": "04a3956f-7ea2-4f07-a3a5-309a575981cc",
   "metadata": {},
   "outputs": [],
   "source": [
    "Ans:- MongoDB is a popular NoSQL document-oriented database that is designed to store and manage large volumes of\n",
    "structured and semi-structured data. In MongoDB, data is stored in flexible, JSON-like documents that can have \n",
    "different structures, making it easy to scale and adapt to changing data requirements.\n",
    "\n",
    "Non-relational databases, also known as NoSQL databases, are a type of database that do not use the traditional\n",
    "relational data model used in SQL databases. NoSQL databases are designed to handle large volumes of unstructured \n",
    "or semi-structured data that cannot be easily stored in tables, and they typically offer better scalability and \n",
    "performance than SQL databases for certain use cases."
   ]
  },
  {
   "cell_type": "code",
   "execution_count": null,
   "id": "9b44c30c-99a0-406a-89ee-5a6eff6154e2",
   "metadata": {},
   "outputs": [],
   "source": [
    "MongoDB is often preferred over SQL databases in scenarios where:\n",
    "\n",
    "=> Scalability and performance are critical: MongoDB is designed to scale horizontally, meaning that it can easily\n",
    "handle large amounts of data by adding more servers to a cluster. This makes it ideal for use cases where\n",
    "performance and scalability are critical, such as big data, real-time analytics, or high-traffic web applications.\n",
    "\n",
    "=> Data is unstructured or changing frequently: MongoDB is a document-oriented database that allows you to store \n",
    "data in flexible, JSON-like documents that can have different structures. This makes it ideal for storing data that\n",
    "is unstructured or changing frequently, such as social media posts, product catalogs, or user profiles.\n",
    "\n",
    "=> Agile development: MongoDB's flexible schema makes it ideal for agile development, where requirements may \n",
    "change frequently. With MongoDB, you can easily update or add new fields to your documents without having to\n",
    "modify the entire schema.\n",
    "\n",
    "=> Geographic distribution: MongoDB's ability to scale and replicate data across multiple servers makes it ideal\n",
    "for use cases where data needs to be distributed across multiple geographic regions."
   ]
  },
  {
   "cell_type": "code",
   "execution_count": null,
   "id": "684e48ea-0e01-4baf-81b9-3b5727d7173f",
   "metadata": {},
   "outputs": [],
   "source": [
    "In summary, MongoDB is a popular NoSQL document-oriented database that offers better scalability, flexibility, \n",
    "and performance than SQL databases for certain use cases. It is often preferred in scenarios where data is\n",
    "unstructured, changing frequently, or needs to be distributed across multiple servers or regions."
   ]
  },
  {
   "cell_type": "markdown",
   "id": "1ce8914a-d721-48b8-98d3-d6ed252dd96e",
   "metadata": {},
   "source": [
    "### Q2"
   ]
  },
  {
   "cell_type": "code",
   "execution_count": null,
   "id": "91e2ed56-8664-43aa-b57b-8538bdf1b2b7",
   "metadata": {},
   "outputs": [],
   "source": [
    "Q2. State and Explain the features of MongoDB."
   ]
  },
  {
   "cell_type": "code",
   "execution_count": null,
   "id": "9831fe38-79ed-4dad-a990-aea3eae67415",
   "metadata": {},
   "outputs": [],
   "source": [
    "Ans:- MongoDB is a popular NoSQL document-oriented database that offers several features that make it a popular \n",
    "choice for handling large volumes of unstructured or semi-structured data. Some of the key features of MongoDB \n",
    "include:"
   ]
  },
  {
   "cell_type": "code",
   "execution_count": null,
   "id": "325ffc79-28ab-4bb1-aad8-0c057451847e",
   "metadata": {},
   "outputs": [],
   "source": [
    "=> Document-oriented: MongoDB is a document-oriented database that allows you to store data in flexible, JSON-like\n",
    "documents that can have different structures. This makes it easy to store and manage data that may not fit neatly\n",
    "into tables.\n",
    "\n",
    "=> Scalable: MongoDB is designed to scale horizontally, which means that you can easily add more servers to a \n",
    "cluster as your data grows. This makes it ideal for handling large amounts of data.\n",
    "\n",
    "=> Flexible schema: MongoDB has a flexible schema that allows you to store data without a predefined schema. \n",
    "This makes it easy to add or modify fields in your documents without having to modify the entire schema.\n",
    "\n",
    "=> Indexing: MongoDB supports flexible indexing, which allows you to create indexes on any field in your documents.\n",
    "This makes it easy to optimize queries for faster performance.\n",
    "\n",
    "=> High availability: MongoDB is designed to provide high availability, with built-in replication and automatic\n",
    "failover to ensure that your data is always available.\n",
    "\n",
    "=> Rich query language: MongoDB supports a rich query language that allows you to perform complex queries on your \n",
    "data, including range queries, regular expression searches, and text search.\n",
    "\n",
    "=> Aggregation framework: MongoDB's aggregation framework allows you to perform complex data aggregation \n",
    "operations, such as grouping, filtering, and transforming data.\n",
    "\n",
    "=> Geospatial capabilities: MongoDB has built-in support for geospatial indexing and querying, making it easy to\n",
    "work with location data.\n",
    "\n",
    "=> MapReduce: MongoDB supports MapReduce, which allows you to perform complex data processing and analysis.\n",
    "\n",
    "Overall, MongoDB's document-oriented, flexible, and scalable design, combined with its rich query language and \n",
    "advanced features, make it a popular choice for handling large volumes of unstructured or semi-structured data in\n",
    "a variety of use cases."
   ]
  },
  {
   "cell_type": "markdown",
   "id": "74186de6-6946-4455-a28a-689b39c8b55b",
   "metadata": {},
   "source": [
    "### Q3"
   ]
  },
  {
   "cell_type": "code",
   "execution_count": null,
   "id": "1c142186-2943-4cc9-a855-a134681cac4c",
   "metadata": {},
   "outputs": [],
   "source": [
    "Q3. Write a code to connect MongoDB to Python. Also, create a database and a collection in MongoDB."
   ]
  },
  {
   "cell_type": "code",
   "execution_count": null,
   "id": "a81eacbe-cf9f-4545-8751-7afa2e231608",
   "metadata": {},
   "outputs": [],
   "source": [
    "Ans:- Here's an example code to connect to MongoDB from Python using the PyMongo library and create a database \n",
    "and a collection:"
   ]
  },
  {
   "cell_type": "code",
   "execution_count": null,
   "id": "98fd0083-8bed-4065-95f1-412a76c2baa6",
   "metadata": {},
   "outputs": [],
   "source": [
    "import pymongo\n",
    "\n",
    "# Connect to MongoDB server\n",
    "client = pymongo.MongoClient(\"mongodb://localhost:27017/\")\n",
    "\n",
    "# Create a new database called 'mydatabase'\n",
    "mydb = client[\"mydatabase\"]\n",
    "\n",
    "# Create a new collection called 'customers' in 'mydatabase'\n",
    "mycol = mydb[\"customers\"]\n",
    "\n",
    "# Insert a document into the 'customers' collection\n",
    "mydict = { \"name\": \"John\", \"address\": \"Highway 37\" }\n",
    "x = mycol.insert_one(mydict)\n",
    "\n",
    "# Print the ID of the inserted document\n",
    "print(x.inserted_id)\n"
   ]
  },
  {
   "cell_type": "code",
   "execution_count": null,
   "id": "24e9e46e-43a6-4f51-b7c7-9c2a63511b0d",
   "metadata": {},
   "outputs": [],
   "source": [
    "In the code above, we first import the PyMongo library and then connect to the local MongoDB server running on \n",
    "port 27017. We create a new database called mydatabase and a new collection called customers within that database.\n",
    "We then insert a new document into the customers collection and print the ID of the inserted document.\n",
    "\n",
    "Note that if the database or collection does not already exist, MongoDB will automatically create it when we first\n",
    "insert data into it."
   ]
  },
  {
   "cell_type": "markdown",
   "id": "e1752ea1-9f92-4877-b72b-bd12bdde2e0d",
   "metadata": {},
   "source": [
    "### Q4"
   ]
  },
  {
   "cell_type": "code",
   "execution_count": null,
   "id": "094c062d-300a-42c1-8dba-496fcf1a0e6a",
   "metadata": {},
   "outputs": [],
   "source": [
    "Q4. Using the database and the collection created in question number 3, write a code to insert one record,\n",
    "and insert many records. Use the find() and find_one() methods to print the inserted record."
   ]
  },
  {
   "cell_type": "code",
   "execution_count": null,
   "id": "df49877a-e93b-4bbf-a79c-69665d90ffe4",
   "metadata": {},
   "outputs": [],
   "source": [
    "Ans:- Here's an example code to insert one record and multiple records into the customers collection in the\n",
    "mydatabase database created in the previous question, and then use the find() and find_one() methods to print the\n",
    "inserted records:"
   ]
  },
  {
   "cell_type": "code",
   "execution_count": null,
   "id": "58a4848f-fdfb-4315-be3f-3c4b60881abd",
   "metadata": {},
   "outputs": [],
   "source": [
    "import pymongo\n",
    "\n",
    "# Connect to MongoDB server\n",
    "client = pymongo.MongoClient(\"mongodb://localhost:27017/\")\n",
    "\n",
    "# Create a new database called 'mydatabase'\n",
    "mydb = client[\"mydatabase\"]\n",
    "\n",
    "# Create a new collection called 'customers' in 'mydatabase'\n",
    "mycol = mydb[\"customers\"]\n",
    "\n",
    "# Insert one record into the 'customers' collection\n",
    "mydict = { \"name\": \"Jane\", \"address\": \"Broadway 123\" }\n",
    "x = mycol.insert_one(mydict)\n",
    "\n",
    "# Insert multiple records into the 'customers' collection\n",
    "mylist = [\n",
    "  { \"name\": \"Tom\", \"address\": \"Park Lane 38\" },\n",
    "  { \"name\": \"Hannah\", \"address\": \"Mountain 21\" },\n",
    "  { \"name\": \"Peter\", \"address\": \"Lowstreet 27\" },\n",
    "  { \"name\": \"Amy\", \"address\": \"Apple st 652\" }\n",
    "]\n",
    "y = mycol.insert_many(mylist)\n",
    "\n",
    "# Print the inserted records using find() method\n",
    "print(\"All inserted records:\")\n",
    "for x in mycol.find():\n",
    "print(x)\n",
    "\n",
    "# Print the first inserted record using find_one() method\n",
    "print(\"One inserted record:\")\n",
    "print(mycol.find_one({ \"name\": \"Jane\" }))\n"
   ]
  },
  {
   "cell_type": "code",
   "execution_count": null,
   "id": "e866a1b8-265f-4c7d-b35b-58dbfa908fec",
   "metadata": {},
   "outputs": [],
   "source": [
    "In the code above, we first connect to the MongoDB server and retrieve the mydatabase database and the customers \n",
    "collection. We then insert one record and multiple records into the customers collection using the insert_one()\n",
    "and insert_many() methods, respectively. Finally, we print all the inserted records using the find() method, and\n",
    "print the first inserted record using the find_one() method."
   ]
  },
  {
   "cell_type": "markdown",
   "id": "d8746efa-be44-405d-b483-aa887f9ae41a",
   "metadata": {},
   "source": [
    "### Q5"
   ]
  },
  {
   "cell_type": "code",
   "execution_count": null,
   "id": "dc3b0896-d346-49bd-ba68-216a7b8b15cd",
   "metadata": {},
   "outputs": [],
   "source": [
    "Q5. Explain how you can use the find() method to query the MongoDB database. Write a simple code to\n",
    "demonstrate this."
   ]
  },
  {
   "cell_type": "code",
   "execution_count": null,
   "id": "b76c2cd3-cc36-4e26-8bd2-fec03ff238da",
   "metadata": {},
   "outputs": [],
   "source": [
    "Ans:- The find() method is used to retrieve data from a MongoDB collection. It takes an optional query object as \n",
    "its argument, which allows you to filter the results based on specific criteria.\n",
    "\n",
    "The query object can be constructed using a set of key-value pairs, where the keys are the fields you want to \n",
    "query, and the values are the criteria that the values of those fields must meet in order to be included in the \n",
    "results.\n",
    "\n",
    "Here's an example code to demonstrate how you can use the find() method to query a MongoDB collection:"
   ]
  },
  {
   "cell_type": "code",
   "execution_count": null,
   "id": "727c912c-9762-4862-98f4-fd4a8bca60c7",
   "metadata": {},
   "outputs": [],
   "source": [
    "import pymongo\n",
    "\n",
    "# Connect to MongoDB server\n",
    "client = pymongo.MongoClient(\"mongodb://localhost:27017/\")\n",
    "\n",
    "# Create a new database called 'mydatabase'\n",
    "mydb = client[\"mydatabase\"]\n",
    "\n",
    "# Create a new collection called 'customers' in 'mydatabase'\n",
    "mycol = mydb[\"customers\"]\n",
    "\n",
    "# Query the 'customers' collection for all records where the name starts with 'J'\n",
    "query = { \"name\": { \"$regex\": \"^J\" } }\n",
    "results = mycol.find(query)\n",
    "\n",
    "# Print the matching records\n",
    "for result in results:\n",
    "print(result)"
   ]
  },
  {
   "cell_type": "code",
   "execution_count": null,
   "id": "7bc4029b-eac7-4578-a19f-e22ab7ddee27",
   "metadata": {},
   "outputs": [],
   "source": [
    "In this example, we first connect to the MongoDB server and retrieve the mydatabase database and the customers \n",
    "collection. We then construct a query object that matches all records where the name field starts with the letter\n",
    "'J'. We pass this query object to the find() method, which returns a cursor object containing all the matching\n",
    "records. We then iterate over the cursor object and print each matching record."
   ]
  },
  {
   "cell_type": "markdown",
   "id": "ccad2ba1-a21d-479e-8905-de4b1e6f22a9",
   "metadata": {},
   "source": [
    "### Q6"
   ]
  },
  {
   "cell_type": "code",
   "execution_count": null,
   "id": "690972fa-0fba-486f-a96a-ba74a0f512c3",
   "metadata": {},
   "outputs": [],
   "source": [
    "Q6. Explain the sort() method. Give an example to demonstrate sorting in MongoDB."
   ]
  },
  {
   "cell_type": "code",
   "execution_count": null,
   "id": "3a0a9ae0-9fdf-4871-84f3-5d1717ac47d9",
   "metadata": {},
   "outputs": [],
   "source": [
    "Ans:- The sort() method is used to sort the results of a MongoDB query in ascending or descending order based on \n",
    "one or more fields. The method takes a dictionary as its argument, where each key represents a field to sort on,\n",
    "and the corresponding value is the sort order (1 for ascending order, -1 for descending order).\n",
    "\n",
    "Here's an example code to demonstrate how to use the sort() method to sort the results of a MongoDB query:"
   ]
  },
  {
   "cell_type": "code",
   "execution_count": null,
   "id": "94722b63-4768-4e46-a7b6-02a74147ea58",
   "metadata": {},
   "outputs": [],
   "source": [
    "import pymongo\n",
    "\n",
    "# Connect to MongoDB server\n",
    "client = pymongo.MongoClient(\"mongodb://localhost:27017/\")\n",
    "\n",
    "# Create a new database called 'mydatabase'\n",
    "mydb = client[\"mydatabase\"]\n",
    "\n",
    "# Create a new collection called 'customers' in 'mydatabase'\n",
    "mycol = mydb[\"customers\"]\n",
    "\n",
    "# Query the 'customers' collection for all records where the name starts with 'J'\n",
    "query = { \"name\": { \"$regex\": \"^J\" } }\n",
    "results = mycol.find(query).sort(\"name\", 1)\n",
    "\n",
    "# Print the sorted records\n",
    "for result in results:\n",
    "  print(result)\n"
   ]
  },
  {
   "cell_type": "code",
   "execution_count": null,
   "id": "37a58e16-3068-4508-95ca-7f8a6e831078",
   "metadata": {},
   "outputs": [],
   "source": [
    "In this example, we first connect to the MongoDB server and retrieve the mydatabase database and the customers \n",
    "collection. We then construct a query object that matches all records where the name field starts with the letter\n",
    "'J'. We pass this query object to the find() method, which returns a cursor object containing all the matching \n",
    "records. We then use the sort() method to sort the results in ascending order based on the name field. Finally, \n",
    "we iterate over the cursor object and print each sorted record."
   ]
  },
  {
   "cell_type": "markdown",
   "id": "ece68deb-3d1d-42c8-a0b2-2a1d0e9699a3",
   "metadata": {},
   "source": [
    "### Q7"
   ]
  },
  {
   "cell_type": "code",
   "execution_count": null,
   "id": "a3552268-7463-437e-8810-b00e30ff7518",
   "metadata": {},
   "outputs": [],
   "source": [
    "Q7. Explain why delete_one(), delete_many(), and drop() is used."
   ]
  },
  {
   "cell_type": "code",
   "execution_count": null,
   "id": "c07ced56-33a8-472b-bbc2-102246afb5ea",
   "metadata": {},
   "outputs": [],
   "source": [
    "Ans:- In MongoDB, delete_one(), delete_many(), and drop() are used to remove data from a collection or drop an \n",
    "entire collection."
   ]
  },
  {
   "cell_type": "code",
   "execution_count": null,
   "id": "92a8d227-a379-4dcf-a45e-4f373890195d",
   "metadata": {},
   "outputs": [],
   "source": [
    "=> delete_one() is used to remove a single document that matches a given query from a collection. If multiple\n",
    "documents match the query, only the first document will be removed.\n",
    "\n",
    "=> delete_many() is used to remove all documents that match a given query from a collection. This method is useful \n",
    "when you need to remove a large number of documents at once.\n",
    "\n",
    "=> drop() is used to drop an entire collection from a database. This method removes all documents in the \n",
    "collection and the collection itself."
   ]
  },
  {
   "cell_type": "code",
   "execution_count": null,
   "id": "53d560fb-ef19-4ff9-a060-3ccaedfd82f7",
   "metadata": {},
   "outputs": [],
   "source": [
    "These methods are useful when you need to remove data from a collection or a database. For example, you might want \n",
    "to delete all documents in a collection that meet certain criteria, or you might want to remove a collection\n",
    "entirely. The delete_one() and delete_many() methods can be used to remove specific documents from a collection, \n",
    "while the drop() method can be used to remove an entire collection from a database.\n",
    "\n",
    "Here's an example code to demonstrate how to use delete_one(), delete_many(), and drop():"
   ]
  },
  {
   "cell_type": "code",
   "execution_count": null,
   "id": "f963c78a-8022-483b-a8de-db16473307cd",
   "metadata": {},
   "outputs": [],
   "source": [
    "import pymongo\n",
    "\n",
    "# Connect to MongoDB server\n",
    "client = pymongo.MongoClient(\"mongodb://localhost:27017/\")\n",
    "\n",
    "# Create a new database called 'mydatabase'\n",
    "mydb = client[\"mydatabase\"]\n",
    "\n",
    "# Create a new collection called 'customers' in 'mydatabase'\n",
    "mycol = mydb[\"customers\"]\n",
    "\n",
    "# Delete a single document from the 'customers' collection\n",
    "query = { \"name\": \"John\" }\n",
    "mycol.delete_one(query)\n",
    "\n",
    "# Delete multiple documents from the 'customers' collection\n",
    "query = { \"name\": { \"$regex\": \"^J\" } }\n",
    "mycol.delete_many(query)\n",
    "\n",
    "# Drop the entire 'customers' collection\n",
    "mycol.drop()"
   ]
  },
  {
   "cell_type": "code",
   "execution_count": null,
   "id": "0d8a41d2-6525-40cf-a195-55a06432687e",
   "metadata": {},
   "outputs": [],
   "source": [
    "In this example, we first connect to the MongoDB server and retrieve the mydatabase database and the customers \n",
    "collection. We then use the delete_one() method to remove a single document from the collection that matches a \n",
    "given query. We then use the delete_many() method to remove all documents from the collection that match a given\n",
    "query. Finally, we use the drop() method to remove the entire customers collection from the mydatabase database."
   ]
  },
  {
   "cell_type": "code",
   "execution_count": null,
   "id": "5bfa0833-f880-4880-94c9-aeb7a39bd580",
   "metadata": {},
   "outputs": [],
   "source": []
  }
 ],
 "metadata": {
  "kernelspec": {
   "display_name": "Python 3 (ipykernel)",
   "language": "python",
   "name": "python3"
  },
  "language_info": {
   "codemirror_mode": {
    "name": "ipython",
    "version": 3
   },
   "file_extension": ".py",
   "mimetype": "text/x-python",
   "name": "python",
   "nbconvert_exporter": "python",
   "pygments_lexer": "ipython3",
   "version": "3.10.8"
  }
 },
 "nbformat": 4,
 "nbformat_minor": 5
}
