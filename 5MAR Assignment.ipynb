{
 "cells": [
  {
   "cell_type": "markdown",
   "id": "3e921ca1-7ecb-4004-923a-3a8ce244e400",
   "metadata": {},
   "source": [
    "## 5MAR\n",
    "### Assignment"
   ]
  },
  {
   "cell_type": "markdown",
   "id": "fe6152f1-7811-4268-840c-2840c98986d9",
   "metadata": {},
   "source": [
    "### Q1"
   ]
  },
  {
   "cell_type": "code",
   "execution_count": null,
   "id": "d399334c-f438-415d-8296-52d211011a34",
   "metadata": {},
   "outputs": [],
   "source": [
    "Q1. How can you create a Bokeh plot using Python code?"
   ]
  },
  {
   "cell_type": "code",
   "execution_count": null,
   "id": "376d7098-704f-4b8e-9498-83f31dd03932",
   "metadata": {},
   "outputs": [],
   "source": [
    "Ans:- create a Bokeh plot using Python code by following these general steps:\n",
    "\n",
    "=> Import the necessary modules: In order to create a Bokeh plot, you will need to import the necessary modules.\n",
    "At a minimum, you will need to import the bokeh.plotting module, which provides the basic plotting functions.\n",
    "\n",
    "=> Prepare your data: You will need to prepare your data before creating the plot. This may involve loading data \n",
    "from a file, creating data arrays, or performing calculations on existing data.\n",
    "\n",
    "=> Create a figure: Use the figure() function from the bokeh.plotting module to create a new figure object. This \n",
    "function takes various parameters such as the plot width and height, background color, title, and axis labels.\n",
    "\n",
    "=> Add glyphs to the figure: Use various glyph methods such as circle(), line(), rect(), or text() to add \n",
    "different types of graphical marks to the figure. These glyphs are used to represent your data.\n",
    "\n",
    "=> Customize the plot: You can customize various aspects of the plot such as the axis limits, grid lines, legend,\n",
    "tooltips, and hover tools.\n",
    "\n",
    "=>Show or save the plot: Finally, use the show() function from the bokeh.io module to display the plot in a web \n",
    "browser, or use the save() function to save the plot to a file. "
   ]
  },
  {
   "cell_type": "code",
   "execution_count": 5,
   "id": "1ab98e85-aaef-4dda-8519-7e9beab06216",
   "metadata": {},
   "outputs": [],
   "source": [
    "from bokeh.plotting import figure, show\n",
    "import numpy as np\n",
    "\n",
    "# Prepare data\n",
    "x = np.random.normal(size=100)\n",
    "y = np.random.normal(size=100)\n",
    "\n",
    "# Create a new plot with a title and axis labels\n",
    "p = figure(title=\"My Scatter Plot\", x_axis_label='X', y_axis_label='Y')\n",
    "\n",
    "# Add a scatter glyph with circle markers\n",
    "p.circle(x, y, size=10, color='red', alpha=0.5)\n",
    "\n",
    "# Display the plot\n",
    "show(p)\n"
   ]
  },
  {
   "cell_type": "code",
   "execution_count": null,
   "id": "d2e84a82-950f-4296-8fe7-373fc605cb2d",
   "metadata": {},
   "outputs": [],
   "source": [
    "This code first imports the necessary modules and prepares some random data for the scatter plot. Then, it \n",
    "creates a new plot using the figure() function and adds a scatter glyph to it using the circle() method. \n",
    "Finally, the show() function is used to display the plot in a web browser."
   ]
  },
  {
   "cell_type": "markdown",
   "id": "bee4bbdc-2b2b-4774-9d21-c8deaf119c88",
   "metadata": {},
   "source": [
    "### Q2"
   ]
  },
  {
   "cell_type": "code",
   "execution_count": null,
   "id": "43b26b7d-fde8-44e0-833c-15d89e3ccbc7",
   "metadata": {},
   "outputs": [],
   "source": [
    "Q2. What are glyphs in Bokeh, and how can you add them to a Bokeh plot? Explain with an example."
   ]
  },
  {
   "cell_type": "code",
   "execution_count": null,
   "id": "e6ff375e-b66f-4272-aa73-032227297cbe",
   "metadata": {},
   "outputs": [],
   "source": [
    "Ans:-In Bokeh, glyphs are graphical marks that can be used to represent data points on a plot. Glyphs can be \n",
    "added to a Bokeh plot using various glyph methods such as circle(), line(), rect(), text(), and many more. \n",
    "Each glyph method corresponds to a different type of graphical mark, and takes various parameters such as the \n",
    "data source, x- and y-coordinates, size, color, and alpha value."
   ]
  },
  {
   "cell_type": "code",
   "execution_count": 7,
   "id": "b7ad8e18-d8bb-400b-b1e9-287ab50c4905",
   "metadata": {},
   "outputs": [],
   "source": [
    "from bokeh.plotting import figure, show\n",
    "import numpy as np\n",
    "\n",
    "# Prepare data\n",
    "x = np.random.normal(size=100)\n",
    "y = np.random.normal(size=100)\n",
    "\n",
    "# Create a new plot with a title and axis labels\n",
    "p = figure(title=\"My Scatter Plot\", x_axis_label='X', y_axis_label='Y')\n",
    "\n",
    "# Add a scatter glyph with circle markers\n",
    "p.circle(x, y, size=10, color='red', alpha=0.5)\n",
    "\n",
    "# Display the plot\n",
    "show(p)\n"
   ]
  },
  {
   "cell_type": "code",
   "execution_count": null,
   "id": "431c2be8-60b1-42fb-8148-ab7fc5806111",
   "metadata": {},
   "outputs": [],
   "source": [
    "In this code, the circle() glyph method is used to add a scatter glyph to the plot. The x and y arrays specify \n",
    "the coordinates of the data points, the size parameter sets the size of the circle markers, the color parameter\n",
    "sets the color of the markers, and the alpha parameter sets the transparency of the markers.\n",
    "\n",
    "Bokeh provides many other glyph methods that can be used to create different types of plots. For example,\n",
    "the line() method can be used to add a line glyph to a plot, the rect() method can be used to add a rectangular\n",
    "glyph, and the text() method can be used to add text labels to the plot. By combining these different glyph \n",
    "methods, you can create a wide variety of visualizations in Bokeh."
   ]
  },
  {
   "cell_type": "markdown",
   "id": "f8e7f5e0-39c3-4031-960e-652db33a91ec",
   "metadata": {},
   "source": [
    "### Q3"
   ]
  },
  {
   "cell_type": "code",
   "execution_count": null,
   "id": "a3a5ad60-3939-4688-93c6-628b5ac3de30",
   "metadata": {},
   "outputs": [],
   "source": [
    "Q3. How can you customize the appearance of a Bokeh plot, including the axes, title, and legend?"
   ]
  },
  {
   "cell_type": "code",
   "execution_count": null,
   "id": "180f9cc5-cfb8-430c-a49b-0220d5fb1d02",
   "metadata": {},
   "outputs": [],
   "source": [
    "Ans:- In Bokeh, you can customize the appearance of a plot in various ways, including the axes, title, legend, \n",
    "color, line style, font size, and many more. Here are some ways to customize the appearance of a Bokeh plot:\n",
    "\n",
    "# 1.Customize the title:"
   ]
  },
  {
   "cell_type": "code",
   "execution_count": 8,
   "id": "43549e6c-7f15-4d04-be4b-1022cae06404",
   "metadata": {},
   "outputs": [],
   "source": [
    "p.title.text = \"My Title\"\n",
    "p.title.align = \"center\"\n",
    "p.title.text_color = \"blue\"\n",
    "p.title.text_font_size = \"25px\"\n"
   ]
  },
  {
   "cell_type": "code",
   "execution_count": 9,
   "id": "28958a94-d51c-430c-b0f3-b68b6d5d2b49",
   "metadata": {},
   "outputs": [],
   "source": [
    "# 2. Customize the axes:\n",
    "\n",
    "p.xaxis.axis_label = \"X-axis label\"\n",
    "p.yaxis.axis_label = \"Y-axis label\"\n",
    "p.xaxis.axis_label_text_color = \"green\"\n",
    "p.yaxis.axis_label_text_font_style = \"italic\"\n",
    "p.xaxis.major_tick_line_color = \"red\"\n",
    "p.xaxis.major_tick_out = 10"
   ]
  },
  {
   "cell_type": "code",
   "execution_count": null,
   "id": "b106264f-53e5-4065-8b9c-7f0cbeb17393",
   "metadata": {},
   "outputs": [],
   "source": [
    "# 3. Customize the legend:\n",
    "p.legend.location = \"top_right\"\n",
    "p.legend.label_text_font_size = \"14pt\"\n",
    "p.legend.background_fill_alpha = 0.5\n"
   ]
  },
  {
   "cell_type": "code",
   "execution_count": 12,
   "id": "3f317692-2097-48f0-8344-bd549e08ec38",
   "metadata": {},
   "outputs": [],
   "source": [
    "# 4. Customize the plot color and style:"
   ]
  },
  {
   "cell_type": "code",
   "execution_count": 13,
   "id": "da0d855f-2096-4a06-94da-ceeac83f4e8d",
   "metadata": {},
   "outputs": [
    {
     "data": {
      "text/html": [
       "<div style=\"display: table;\"><div style=\"display: table-row;\"><div style=\"display: table-cell;\"><b title=\"bokeh.models.renderers.glyph_renderer.GlyphRenderer\">GlyphRenderer</b>(</div><div style=\"display: table-cell;\">id&nbsp;=&nbsp;'p1946', <span id=\"p1973\" style=\"cursor: pointer;\">&hellip;)</span></div></div><div class=\"p1972\" style=\"display: none;\"><div style=\"display: table-cell;\"></div><div style=\"display: table-cell;\">coordinates&nbsp;=&nbsp;None,</div></div><div class=\"p1972\" style=\"display: none;\"><div style=\"display: table-cell;\"></div><div style=\"display: table-cell;\">data_source&nbsp;=&nbsp;ColumnDataSource(id='p1940', ...),</div></div><div class=\"p1972\" style=\"display: none;\"><div style=\"display: table-cell;\"></div><div style=\"display: table-cell;\">glyph&nbsp;=&nbsp;Circle(id='p1943', ...),</div></div><div class=\"p1972\" style=\"display: none;\"><div style=\"display: table-cell;\"></div><div style=\"display: table-cell;\">group&nbsp;=&nbsp;None,</div></div><div class=\"p1972\" style=\"display: none;\"><div style=\"display: table-cell;\"></div><div style=\"display: table-cell;\">hover_glyph&nbsp;=&nbsp;None,</div></div><div class=\"p1972\" style=\"display: none;\"><div style=\"display: table-cell;\"></div><div style=\"display: table-cell;\">js_event_callbacks&nbsp;=&nbsp;{},</div></div><div class=\"p1972\" style=\"display: none;\"><div style=\"display: table-cell;\"></div><div style=\"display: table-cell;\">js_property_callbacks&nbsp;=&nbsp;{},</div></div><div class=\"p1972\" style=\"display: none;\"><div style=\"display: table-cell;\"></div><div style=\"display: table-cell;\">level&nbsp;=&nbsp;'glyph',</div></div><div class=\"p1972\" style=\"display: none;\"><div style=\"display: table-cell;\"></div><div style=\"display: table-cell;\">muted&nbsp;=&nbsp;False,</div></div><div class=\"p1972\" style=\"display: none;\"><div style=\"display: table-cell;\"></div><div style=\"display: table-cell;\">muted_glyph&nbsp;=&nbsp;Circle(id='p1945', ...),</div></div><div class=\"p1972\" style=\"display: none;\"><div style=\"display: table-cell;\"></div><div style=\"display: table-cell;\">name&nbsp;=&nbsp;None,</div></div><div class=\"p1972\" style=\"display: none;\"><div style=\"display: table-cell;\"></div><div style=\"display: table-cell;\">nonselection_glyph&nbsp;=&nbsp;Circle(id='p1944', ...),</div></div><div class=\"p1972\" style=\"display: none;\"><div style=\"display: table-cell;\"></div><div style=\"display: table-cell;\">selection_glyph&nbsp;=&nbsp;'auto',</div></div><div class=\"p1972\" style=\"display: none;\"><div style=\"display: table-cell;\"></div><div style=\"display: table-cell;\">subscribed_events&nbsp;=&nbsp;PropertyValueSet(),</div></div><div class=\"p1972\" style=\"display: none;\"><div style=\"display: table-cell;\"></div><div style=\"display: table-cell;\">syncable&nbsp;=&nbsp;True,</div></div><div class=\"p1972\" style=\"display: none;\"><div style=\"display: table-cell;\"></div><div style=\"display: table-cell;\">tags&nbsp;=&nbsp;[],</div></div><div class=\"p1972\" style=\"display: none;\"><div style=\"display: table-cell;\"></div><div style=\"display: table-cell;\">view&nbsp;=&nbsp;CDSView(id='p1947', ...),</div></div><div class=\"p1972\" style=\"display: none;\"><div style=\"display: table-cell;\"></div><div style=\"display: table-cell;\">visible&nbsp;=&nbsp;True,</div></div><div class=\"p1972\" style=\"display: none;\"><div style=\"display: table-cell;\"></div><div style=\"display: table-cell;\">x_range_name&nbsp;=&nbsp;'default',</div></div><div class=\"p1972\" style=\"display: none;\"><div style=\"display: table-cell;\"></div><div style=\"display: table-cell;\">y_range_name&nbsp;=&nbsp;'default')</div></div></div>\n",
       "<script>\n",
       "(function() {\n",
       "  let expanded = false;\n",
       "  const ellipsis = document.getElementById(\"p1973\");\n",
       "  ellipsis.addEventListener(\"click\", function() {\n",
       "    const rows = document.getElementsByClassName(\"p1972\");\n",
       "    for (let i = 0; i < rows.length; i++) {\n",
       "      const el = rows[i];\n",
       "      el.style.display = expanded ? \"none\" : \"table-row\";\n",
       "    }\n",
       "    ellipsis.innerHTML = expanded ? \"&hellip;)\" : \"&lsaquo;&lsaquo;&lsaquo;\";\n",
       "    expanded = !expanded;\n",
       "  });\n",
       "})();\n",
       "</script>\n"
      ],
      "text/plain": [
       "GlyphRenderer(id='p1946', ...)"
      ]
     },
     "execution_count": 13,
     "metadata": {},
     "output_type": "execute_result"
    }
   ],
   "source": [
    "p.line(x, y, color=\"red\", line_width=2, line_dash=\"dashed\")\n",
    "p.circle(x, y, size=10, fill_color=\"blue\", line_color=\"black\")\n"
   ]
  },
  {
   "cell_type": "raw",
   "id": "44681dcf-0d41-4b59-8b12-8fdae9020c39",
   "metadata": {},
   "source": [
    "These are just a few examples of the many ways you can customize the appearance of a Bokeh plot. Bokeh provides\n",
    "a wide range of customization options, which can be explored in the documentation"
   ]
  },
  {
   "cell_type": "markdown",
   "id": "6728e1e0-78ec-4775-a459-0ec9b9fcf260",
   "metadata": {},
   "source": [
    "### Q4"
   ]
  },
  {
   "cell_type": "code",
   "execution_count": null,
   "id": "b628408a-87e2-4f4c-9224-2d40db760732",
   "metadata": {},
   "outputs": [],
   "source": [
    "Q4. What is a Bokeh server, and how can you use it to create interactive plots that can be updated in\n",
    "real time?"
   ]
  },
  {
   "cell_type": "code",
   "execution_count": null,
   "id": "23b3268f-ce28-4b9f-9edb-b9702998f846",
   "metadata": {},
   "outputs": [],
   "source": [
    "Ans:- Bokeh server is a component of the Bokeh library that allows you to create interactive plots that can be \n",
    "updated in real-time based on user interactions or streaming data. The Bokeh server provides a web application\n",
    "that runs on a server and communicates with the Bokeh client library in the user's web browser. This allows you \n",
    "to create complex, interactive visualizations that can be updated dynamically based on user inputs.\n",
    "\n",
    "To use the Bokeh server, you first need to create a Bokeh application by defining a function that creates a Bokeh \n",
    "plot or layout. This function should take a doc parameter, which is a Document object that represents the current\n",
    "state of the Bokeh application. You can then add interactive elements to the plot or layout, such as sliders, \n",
    "buttons, and dropdown menus, that trigger updates to the plot based on user input."
   ]
  },
  {
   "cell_type": "code",
   "execution_count": null,
   "id": "b148ab84-857b-4334-9ce0-1b425871b5af",
   "metadata": {},
   "outputs": [],
   "source": [
    "from bokeh.io import curdoc\n",
    "from bokeh.plotting import figure\n",
    "from bokeh.models import ColumnDataSource\n",
    "import numpy as np\n",
    "\n",
    "# Create a new plot with a title and axis labels\n",
    "p = figure(title=\"My Scatter Plot\", x_axis_label='X', y_axis_label='Y')\n",
    "\n",
    "# Create a ColumnDataSource object\n",
    "source = ColumnDataSource(data=dict(x=[], y=[]))\n",
    "\n",
    "# Add a scatter glyph with circle markers\n",
    "p.circle(x='x', y='y', size=10, color='red', alpha=0.5, source=source)\n",
    "\n",
    "# Define a callback function that updates the plot based on user input\n",
    "def update_data(attrname, old, new):\n",
    "    # Generate new random data\n",
    "    x = np.random.normal(size=100)\n",
    "    y = np.random.normal(size=100)\n",
    "    source.data = dict(x=x, y=y)\n",
    "\n",
    "# Add a slider widget that triggers the update_data() function\n",
    "slider = Slider(start=0, end=10, step=1, value=0, title='Slider')\n",
    "slider.on_change('value', update_data)\n",
    "\n",
    "# Add the slider widget to the Bokeh layout\n",
    "layout = column(p, slider)\n",
    "\n",
    "# Add the layout to the current Bokeh document\n",
    "curdoc().add_root(layout)\n"
   ]
  },
  {
   "cell_type": "code",
   "execution_count": null,
   "id": "b23528eb-3065-44c2-b4df-883c5d37b317",
   "metadata": {},
   "outputs": [],
   "source": [
    "In this code, the curdoc() function creates a new Bokeh document that represents the current state of the Bokeh\n",
    "application. The update_data() function generates new random data and updates the data source for the scatter \n",
    "plot. The Slider widget triggers the update_data() function when the user changes its value. Finally, the column()\n",
    "function creates a layout that includes both the scatter plot and the slider widget, and the add_root() method\n",
    "adds this layout to the Bokeh document. When the Bokeh application is run using the Bokeh server, the scatter \n",
    "plot will update in real-time as the user interacts with the slider widget."
   ]
  },
  {
   "cell_type": "markdown",
   "id": "15fd19ce-7867-497b-9779-5402abef1e96",
   "metadata": {},
   "source": [
    "### Q5"
   ]
  },
  {
   "cell_type": "code",
   "execution_count": null,
   "id": "fbe27dcf-09b7-45b9-a98d-59f246aff92e",
   "metadata": {},
   "outputs": [],
   "source": [
    "Q5. How can you embed a Bokeh plot into a web page or dashboard using Flask or Django?"
   ]
  },
  {
   "cell_type": "code",
   "execution_count": null,
   "id": "7f0866f2-3cad-48ce-bc24-82d267254f8c",
   "metadata": {},
   "outputs": [],
   "source": [
    "To embed a Bokeh plot into a web page or dashboard using Flask or Django, you can use the Bokeh server in\n",
    "combination with the web framework. Here's how you can do it:\n",
    "\n",
    "=> Define a Bokeh application that creates the plot or layout you want to embed, and specify any interactive \n",
    "elements that you want to include.\n",
    "\n",
    "=> Start the Bokeh server by calling bokeh.server.server.start with your Bokeh application as an argument. This\n",
    "will start the Bokeh server on a specified port (e.g., 5000).\n",
    "\n",
    "=> In your Flask or Django application, create a route that renders a template containing a script tag that loads\n",
    "the Bokeh plot from the Bokeh server. This script tag should include the IP address and port of the Bokeh server.\n",
    "\n",
    "=> In the template, use the bokeh.embed.server_document function to embed the Bokeh plot into an HTML div element.\n",
    "This function takes the URL of the Bokeh server as an argument, along with any additional options for embedding \n",
    "the plot."
   ]
  },
  {
   "cell_type": "code",
   "execution_count": null,
   "id": "ddb49ee0-18aa-42d1-889b-89a7b5f562af",
   "metadata": {},
   "outputs": [],
   "source": [
    "from flask import Flask, render_template\n",
    "from bokeh.server.server import Server\n",
    "from bokeh.embed import server_document\n",
    "from bokeh.plotting import figure\n",
    "from bokeh.models import ColumnDataSource\n",
    "\n",
    "# Define a Bokeh application that creates a scatter plot with a slider widget\n",
    "def bokeh_app(doc):\n",
    "    # Create a new plot with a title and axis labels\n",
    "    p = figure(title=\"My Scatter Plot\", x_axis_label='X', y_axis_label='Y')\n",
    "\n",
    "    # Create a ColumnDataSource object\n",
    "    source = ColumnDataSource(data=dict(x=[], y=[]))\n",
    "\n",
    "    # Add a scatter glyph with circle markers\n",
    "    p.circle(x='x', y='y', size=10, color='red', alpha=0.5, source=source)\n",
    "\n",
    "    # Define a callback function that updates the plot based on user input\n",
    "    def update_data(attrname, old, new):\n",
    "        # Generate new random data\n",
    "        x = np.random.normal(size=100)\n",
    "        y = np.random.normal(size=100)\n",
    "        source.data = dict(x=x, y=y)\n",
    "\n",
    "    # Add a slider widget that triggers the update_data() function\n",
    "    slider = Slider(start=0, end=10, step=1, value=0, title='Slider')\n",
    "    slider.on_change('value', update_data)\n",
    "\n",
    "    # Add the scatter plot and slider widget to the Bokeh layout\n",
    "    layout = column(p, slider)\n",
    "\n",
    "    # Add the layout to the Bokeh document\n",
    "    doc.add_root(layout)\n",
    "\n",
    "# Start the Bokeh server with the Bokeh application\n",
    "bokeh_server = Server({'/bokeh_app': bokeh_app})\n",
    "bokeh_server.start()\n",
    "\n",
    "# Create a Flask application\n",
    "app = Flask(__name__)\n",
    "\n",
    "# Define a route that renders a template containing the Bokeh plot\n",
    "@app.route('/')\n",
    "def index():\n",
    "    # Get the URL of the Bokeh server\n",
    "    bokeh_url = 'http://localhost:5006/bokeh_app'\n",
    "\n",
    "    # Embed the Bokeh plot in the template\n",
    "    script = server_document(bokeh_url)\n",
    "    return render_template('index.html', script=script)\n",
    "\n",
    "# Run the Flask application\n",
    "if __name__ == '__main__':\n",
    "    app.run()\n"
   ]
  },
  {
   "cell_type": "code",
   "execution_count": null,
   "id": "768f5d2e-96c1-4010-9756-613a9618f64c",
   "metadata": {},
   "outputs": [],
   "source": [
    "In this code, the bokeh_app function creates a scatter plot with a slider widget, and the bokeh_server.start() \n",
    "function starts the Bokeh server with this application. The index function in the Flask application retrieves the\n",
    "URL of the Bokeh server and embeds the plot using the server_document function. The render_template function \n",
    "renders a template called `index"
   ]
  },
  {
   "cell_type": "code",
   "execution_count": null,
   "id": "53463d3a-b92c-4096-b09c-e52443b54499",
   "metadata": {},
   "outputs": [],
   "source": []
  }
 ],
 "metadata": {
  "kernelspec": {
   "display_name": "Python 3 (ipykernel)",
   "language": "python",
   "name": "python3"
  },
  "language_info": {
   "codemirror_mode": {
    "name": "ipython",
    "version": 3
   },
   "file_extension": ".py",
   "mimetype": "text/x-python",
   "name": "python",
   "nbconvert_exporter": "python",
   "pygments_lexer": "ipython3",
   "version": "3.10.8"
  }
 },
 "nbformat": 4,
 "nbformat_minor": 5
}
