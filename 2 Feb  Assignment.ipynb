{
 "cells": [
  {
   "cell_type": "markdown",
   "id": "f1ac8ef8-4f3e-4eca-924a-73b10e88d30d",
   "metadata": {},
   "source": [
    "## PYTHON"
   ]
  },
  {
   "cell_type": "markdown",
   "id": "845fc68b-8172-495f-ad6e-27d290939b6a",
   "metadata": {},
   "source": [
    "### Assignment Questions"
   ]
  },
  {
   "cell_type": "markdown",
   "id": "1c5874b9-dd47-4784-a2ec-bd30decc384e",
   "metadata": {},
   "source": [
    "### Q1"
   ]
  },
  {
   "cell_type": "code",
   "execution_count": 2,
   "id": "7262339d-8b52-4c5c-8357-5f63c98b59e4",
   "metadata": {},
   "outputs": [],
   "source": [
    "# Q1. What are the characteristics of the tuples? Is tuple immutable? "
   ]
  },
  {
   "cell_type": "code",
   "execution_count": 3,
   "id": "da5bc010-dbd9-4b2e-af47-0797465fdfeb",
   "metadata": {},
   "outputs": [],
   "source": [
    "# Ans:- These tuples are an ordered collection of elements of different data types. Furthermore, we represent them by writing the elements inside the parenthesis separated by commas. We can also define tuples as lists that we cannot change. Therefore, we can call them immutable tuples."
   ]
  },
  {
   "cell_type": "markdown",
   "id": "969fd7aa-a555-44bb-ab19-c755c4dc5ed1",
   "metadata": {},
   "source": [
    "### Q2"
   ]
  },
  {
   "cell_type": "code",
   "execution_count": 4,
   "id": "fe968cd5-b98c-4d8f-944d-d3e40a126e73",
   "metadata": {},
   "outputs": [],
   "source": [
    "# Q2. What are the two tuple methods in python? Give an example of each method. Give a reason why  tuples have only two in-built methods as compared to Lists. \n"
   ]
  },
  {
   "cell_type": "code",
   "execution_count": 5,
   "id": "2df67323-bfe4-438b-b6d8-3f3901b9b0b1",
   "metadata": {},
   "outputs": [],
   "source": [
    "# Ans:- In Python, tuples are immutables. Meaning, you cannot change items of a tuple once it is assigned. There are only two tuple methods count() and index() that a tuple object can call.\n",
    "# The key difference between the tuples and lists is that while the tuples are immutable objects the lists are mutable. This means that tuples cannot be changed while the lists can be modified.\n",
    "# Tuples are more memory efficient than the lists.\n",
    "# When it comes to the time efficiency, tuples have a slight advantage over the lists especially when we consider lookup value.\n",
    "# If you have data that shouldn’t change, you should choose tuple data type over lists."
   ]
  },
  {
   "cell_type": "markdown",
   "id": "1e57c832-b9c7-408e-9f8b-cd00decf4c25",
   "metadata": {},
   "source": [
    "### Q3"
   ]
  },
  {
   "cell_type": "code",
   "execution_count": 6,
   "id": "0c8cdaca-1d64-4419-ae34-957fa1c16af7",
   "metadata": {},
   "outputs": [],
   "source": [
    "# Q3. Which collection datatypes in python do not allow duplicate items? Write a code using a set to remove  duplicates from the given list. "
   ]
  },
  {
   "cell_type": "code",
   "execution_count": 7,
   "id": "aea31e46-1e89-49a3-8439-52639e4468df",
   "metadata": {},
   "outputs": [],
   "source": [
    "# Ans:- 31.2 Python Collection Types\n",
    "# Sets Sets are a collection that is unordered and unindexed. They are mutable (changeable) but do not allow duplicate values to be held."
   ]
  },
  {
   "cell_type": "code",
   "execution_count": 13,
   "id": "5fbfe072-eeff-454a-b3ee-a88449d97594",
   "metadata": {},
   "outputs": [],
   "source": [
    "List = [1, 1, 1, 2, 1, 3, 1, 4, 2, 1, 2, 2, 2, 3, 2, 4, 3, 1, 3, 2, 3, 3, 3, 4, 4, 1, 4, 2, 4, 3, 4, 4] "
   ]
  },
  {
   "cell_type": "code",
   "execution_count": 14,
   "id": "c232b1fd-9de2-4a8b-8a3c-28b8954a2ce5",
   "metadata": {},
   "outputs": [],
   "source": [
    "my_final_List = set(List)"
   ]
  },
  {
   "cell_type": "code",
   "execution_count": 15,
   "id": "acb915b7-3bf1-4df1-9025-01e243333e29",
   "metadata": {},
   "outputs": [
    {
     "name": "stdout",
     "output_type": "stream",
     "text": [
      "[1, 2, 3, 4]\n"
     ]
    }
   ],
   "source": [
    "print(list(my_final_List))"
   ]
  },
  {
   "cell_type": "markdown",
   "id": "7e15bfda-d4b2-4875-8ae3-4032b31e4044",
   "metadata": {},
   "source": [
    "### Q4"
   ]
  },
  {
   "cell_type": "code",
   "execution_count": 16,
   "id": "fdd6543b-a6e7-49c6-b778-fa85451e41d7",
   "metadata": {},
   "outputs": [],
   "source": [
    "# Q4. Explain the difference between the union() and update() methods for a set.Give an example of  each method."
   ]
  },
  {
   "cell_type": "code",
   "execution_count": 17,
   "id": "34ba0226-89f0-4f61-b3ef-305d2b89dcd2",
   "metadata": {},
   "outputs": [],
   "source": [
    "# Ans. pdate() adds all missing elements to the set on which it is called whereas set. union() creates a new set. Consequently, the return value of set."
   ]
  },
  {
   "cell_type": "code",
   "execution_count": 18,
   "id": "e1561a6b-1586-4022-bace-1a79236401fa",
   "metadata": {},
   "outputs": [],
   "source": [
    "# Union of Sets:\n",
    "# In set theory, the union of two or more sets is the set which contains all the elements ( distinct ) present in all the sets. For example :"
   ]
  },
  {
   "cell_type": "code",
   "execution_count": 19,
   "id": "1ed1a4f7-6940-4181-a003-622ecf065aac",
   "metadata": {},
   "outputs": [],
   "source": [
    "A = {1, 2, 3, 4, 5}\n",
    "B = {4, 5, 6, 7, 8, 9}"
   ]
  },
  {
   "cell_type": "code",
   "execution_count": 20,
   "id": "91179975-97c7-4f28-aabf-4e05af061a8b",
   "metadata": {},
   "outputs": [
    {
     "name": "stdout",
     "output_type": "stream",
     "text": [
      "A :  {1, 2, 3, 4, 5}\n"
     ]
    }
   ],
   "source": [
    "print('A : ',A)"
   ]
  },
  {
   "cell_type": "code",
   "execution_count": 21,
   "id": "2e771667-0980-4e45-9bba-c868293ee954",
   "metadata": {},
   "outputs": [
    {
     "name": "stdout",
     "output_type": "stream",
     "text": [
      "B :  {4, 5, 6, 7, 8, 9}\n"
     ]
    }
   ],
   "source": [
    "print('B : ',B)"
   ]
  },
  {
   "cell_type": "code",
   "execution_count": 22,
   "id": "42b6ddb1-207a-4578-b725-16b6316c376f",
   "metadata": {},
   "outputs": [
    {
     "name": "stdout",
     "output_type": "stream",
     "text": [
      "A :  {4, 5, 6, 7, 8, 9}\n"
     ]
    }
   ],
   "source": [
    "print('A : ',B)"
   ]
  },
  {
   "cell_type": "code",
   "execution_count": 23,
   "id": "d2abe20e-2fa9-4519-a352-6993b32098e9",
   "metadata": {},
   "outputs": [],
   "source": [
    "# This method is used to return the union of a set and the set of elements from one or more iterable like string, list, set. It is very similar to union() method, with difference is that where union() method create and return a new set, containing all the elements ( distinct ) present in all the iterables, update() method updates the set on which this method is called with all the distinct elements present in all the iterables"
   ]
  },
  {
   "cell_type": "code",
   "execution_count": 24,
   "id": "978a5b6d-a2b2-4965-9619-5907f705cc53",
   "metadata": {},
   "outputs": [],
   "source": [
    "A = {1, 2, 3, 4, 5}\n",
    "B = {4, 5, 6, 7, 8, 9}"
   ]
  },
  {
   "cell_type": "code",
   "execution_count": 25,
   "id": "71938581-d3ea-4cdc-859e-486e0a95a592",
   "metadata": {},
   "outputs": [],
   "source": [
    "A |= B"
   ]
  },
  {
   "cell_type": "code",
   "execution_count": 26,
   "id": "221f7e76-df15-400d-b4cd-71c6ca2e2f7b",
   "metadata": {},
   "outputs": [
    {
     "name": "stdout",
     "output_type": "stream",
     "text": [
      "A Union B :  {1, 2, 3, 4, 5, 6, 7, 8, 9}\n"
     ]
    }
   ],
   "source": [
    "print('A Union B : ',A)"
   ]
  },
  {
   "cell_type": "code",
   "execution_count": 27,
   "id": "a5775af6-193d-4951-afb6-2f6d7e8e63b1",
   "metadata": {},
   "outputs": [
    {
     "name": "stdout",
     "output_type": "stream",
     "text": [
      "B Union A :  {4, 5, 6, 7, 8, 9}\n"
     ]
    }
   ],
   "source": [
    "print('B Union A : ',B)"
   ]
  },
  {
   "cell_type": "code",
   "execution_count": 28,
   "id": "9338da4d-3258-4e7b-b3fe-edf8da55f600",
   "metadata": {},
   "outputs": [],
   "source": [
    "A.update(B)"
   ]
  },
  {
   "cell_type": "code",
   "execution_count": 29,
   "id": "6f53fb32-ed3f-4503-a120-e4694c6bf610",
   "metadata": {},
   "outputs": [
    {
     "name": "stdout",
     "output_type": "stream",
     "text": [
      "A Union B Union :  {1, 2, 3, 4, 5, 6, 7, 8, 9}\n"
     ]
    }
   ],
   "source": [
    "print('A Union B Union : ',A)"
   ]
  },
  {
   "cell_type": "markdown",
   "id": "d7ea6ed4-478d-4f51-9f1c-4bdd8ea8b89a",
   "metadata": {},
   "source": [
    "### Q5"
   ]
  },
  {
   "cell_type": "code",
   "execution_count": 30,
   "id": "3a3d91b8-c4aa-4ad1-8b1b-f3d4a82d68b9",
   "metadata": {},
   "outputs": [],
   "source": [
    "# Q5. What is a dictionary? Give an example. Also, state whether a dictionary is ordered or unordered. \n"
   ]
  },
  {
   "cell_type": "code",
   "execution_count": 31,
   "id": "36758c55-1f0b-46bd-aa43-df3ef28db8e1",
   "metadata": {},
   "outputs": [],
   "source": [
    "# Q5. What is a dictionary? Give an example. Also, state whether a dictionary is ordered or unordered. \n"
   ]
  },
  {
   "cell_type": "code",
   "execution_count": 32,
   "id": "77b69363-e1cd-455a-be71-9e60592bd03d",
   "metadata": {},
   "outputs": [],
   "source": [
    "capital_city = {\"Nepal\": \"Kathmandu\", \"Italy\": \"Rome\", \"England\": \"London\"}"
   ]
  },
  {
   "cell_type": "code",
   "execution_count": 33,
   "id": "c22f0b15-08e6-49be-be57-f2bd018ed5d2",
   "metadata": {},
   "outputs": [
    {
     "name": "stdout",
     "output_type": "stream",
     "text": [
      "{'Nepal': 'Kathmandu', 'Italy': 'Rome', 'England': 'London'}\n"
     ]
    }
   ],
   "source": [
    "print(capital_city)\n"
   ]
  },
  {
   "cell_type": "code",
   "execution_count": 34,
   "id": "466b7f00-1cf1-46f6-92dc-bbe262bed881",
   "metadata": {},
   "outputs": [],
   "source": [
    "numbers = {1: \"One\", 2: \"Two\", 3: \"Three\"}"
   ]
  },
  {
   "cell_type": "code",
   "execution_count": 35,
   "id": "0357736a-4355-455f-a16a-c8cd1b8bb52f",
   "metadata": {},
   "outputs": [
    {
     "name": "stdout",
     "output_type": "stream",
     "text": [
      "{1: 'One', 2: 'Two', 3: 'Three'}\n"
     ]
    }
   ],
   "source": [
    "print(numbers)"
   ]
  },
  {
   "cell_type": "markdown",
   "id": "fa7863d8-e367-44e7-bcde-99098c1043e5",
   "metadata": {},
   "source": [
    "### Q6"
   ]
  },
  {
   "cell_type": "code",
   "execution_count": 36,
   "id": "00ec5425-496d-4c7d-8c0f-904f01d11ea0",
   "metadata": {},
   "outputs": [],
   "source": [
    "# Q6. Can we create a nested dictionary? If so, please give an example by creating a simple one-level  nested dictionary. "
   ]
  },
  {
   "cell_type": "code",
   "execution_count": 37,
   "id": "2fb24cee-84cf-4dc0-9963-a5d5a29dfeca",
   "metadata": {},
   "outputs": [],
   "source": [
    "# Ans:- A nested Python Dictionary is a dictionary that has many Dictionaries. We can create a dictionary with that contain n number of dictionaries"
   ]
  },
  {
   "cell_type": "code",
   "execution_count": 38,
   "id": "9e01a4fa-7e2b-42ee-9d42-ab2523a99aa3",
   "metadata": {},
   "outputs": [],
   "source": [
    "nested_dict = { 'dict1': {'key_A': 'value_A'},\n",
    "                'dict2': {'key_B': 'value_B'}}"
   ]
  },
  {
   "cell_type": "code",
   "execution_count": 39,
   "id": "b362f3bd-07a8-49e0-92b9-be903363ad6c",
   "metadata": {},
   "outputs": [
    {
     "data": {
      "text/plain": [
       "{'dict1': {'key_A': 'value_A'}, 'dict2': {'key_B': 'value_B'}}"
      ]
     },
     "execution_count": 39,
     "metadata": {},
     "output_type": "execute_result"
    }
   ],
   "source": [
    "nested_dict"
   ]
  },
  {
   "cell_type": "code",
   "execution_count": 40,
   "id": "27e2061f-b1e5-4e53-a817-243ca71fe705",
   "metadata": {},
   "outputs": [],
   "source": [
    "dict1 = {'language' : 'Python', 'course': 'Data Science Masters'} "
   ]
  },
  {
   "cell_type": "code",
   "execution_count": 41,
   "id": "63d068b4-9aa4-4b19-8c8a-3440c8406b25",
   "metadata": {},
   "outputs": [
    {
     "data": {
      "text/plain": [
       "['Python', 'Machine Learning', 'Deep Learning']"
      ]
     },
     "execution_count": 41,
     "metadata": {},
     "output_type": "execute_result"
    }
   ],
   "source": [
    "dict1.setdefault('topics', ['Python', 'Machine Learning', 'Deep Learning'])"
   ]
  },
  {
   "cell_type": "code",
   "execution_count": 42,
   "id": "36d8fd46-4306-4d09-b0ae-d516a984a3a3",
   "metadata": {},
   "outputs": [
    {
     "name": "stdout",
     "output_type": "stream",
     "text": [
      "{'language': 'Python', 'course': 'Data Science Masters', 'topics': ['Python', 'Machine Learning', 'Deep Learning']}\n"
     ]
    }
   ],
   "source": [
    "print(dict1)"
   ]
  },
  {
   "cell_type": "markdown",
   "id": "f49ab762-e429-4b16-b185-ea2f1de09f6e",
   "metadata": {},
   "source": [
    "### Q7"
   ]
  },
  {
   "cell_type": "code",
   "execution_count": 43,
   "id": "1ed566a2-5fb6-48c3-acc8-95667e3b5e48",
   "metadata": {},
   "outputs": [],
   "source": [
    "#Q7. Using setdefault() method, create key named topics in the given dictionary and also add the value of\n",
    "# the key as this list ['Python', 'Machine Learning’, 'Deep Learning']\n",
    "# dict1 = {'language' : 'Python', 'course': 'Data Science Masters'}"
   ]
  },
  {
   "cell_type": "code",
   "execution_count": 44,
   "id": "582aecdc-b732-4cae-8ebd-74ecc587ecd9",
   "metadata": {},
   "outputs": [],
   "source": [
    "dict1 = {'language' : 'Python', 'course': 'Data Science Masters'}"
   ]
  },
  {
   "cell_type": "code",
   "execution_count": 45,
   "id": "dda8f6f0-7d17-4bdf-8e5c-479d32800ea9",
   "metadata": {},
   "outputs": [
    {
     "data": {
      "text/plain": [
       "['Python', 'Machine Learning', 'Deep Learning']"
      ]
     },
     "execution_count": 45,
     "metadata": {},
     "output_type": "execute_result"
    }
   ],
   "source": [
    "dict1.setdefault('topics', ['Python', 'Machine Learning', 'Deep Learning'])\n"
   ]
  },
  {
   "cell_type": "code",
   "execution_count": 46,
   "id": "2db244c8-9d49-44cb-bfb4-960f87ae9b7e",
   "metadata": {},
   "outputs": [
    {
     "name": "stdout",
     "output_type": "stream",
     "text": [
      "{'language': 'Python', 'course': 'Data Science Masters', 'topics': ['Python', 'Machine Learning', 'Deep Learning']}\n"
     ]
    }
   ],
   "source": [
    "print(dict1)"
   ]
  },
  {
   "cell_type": "markdown",
   "id": "d3048229-c16e-429b-a808-7cda979d5f00",
   "metadata": {},
   "source": [
    "### Q8"
   ]
  },
  {
   "cell_type": "code",
   "execution_count": 47,
   "id": "b3dfd135-7397-4551-b7b1-9af352836919",
   "metadata": {},
   "outputs": [],
   "source": [
    "# Q8. What are the three view objects in dictionaries? Use the three in-built methods in python to display\n",
    "# these three view objects for the given dictionary.\n",
    "dict1 = {'Sport': 'Cricket' , 'Teams': ['India', 'Australia', 'England', 'South Africa', 'Sri Lanka', 'New Zealand']}"
   ]
  },
  {
   "cell_type": "code",
   "execution_count": 48,
   "id": "be727975-e9c8-4bb4-836c-cb628c2731ee",
   "metadata": {},
   "outputs": [],
   "source": [
    "# The three view objects in dictionaries are keys(), values() and items()."
   ]
  },
  {
   "cell_type": "code",
   "execution_count": 49,
   "id": "a1dc45a0-7d9c-4f1e-96fc-d999464ef227",
   "metadata": {},
   "outputs": [
    {
     "name": "stdout",
     "output_type": "stream",
     "text": [
      "dict_keys(['Sport', 'Teams'])\n"
     ]
    }
   ],
   "source": [
    "#To display keys\n",
    "print(dict1.keys())\n",
    "#Output: dict_keys(['Sport', 'Teams'])"
   ]
  },
  {
   "cell_type": "code",
   "execution_count": 50,
   "id": "3a34e63e-42ed-4efb-a4d3-f1b5935afb05",
   "metadata": {},
   "outputs": [
    {
     "name": "stdout",
     "output_type": "stream",
     "text": [
      "dict_values(['Cricket', ['India', 'Australia', 'England', 'South Africa', 'Sri Lanka', 'New Zealand']])\n"
     ]
    }
   ],
   "source": [
    "#To display values\n",
    "print(dict1.values())\n",
    "#Output: dict_values(['Cricket', ['India', 'Australia', 'England', 'South Africa', 'Sri Lanka', 'New Zealand']])"
   ]
  },
  {
   "cell_type": "code",
   "execution_count": null,
   "id": "f555cc5a-4a8d-44e0-ae6f-2cf0f604ae31",
   "metadata": {},
   "outputs": [],
   "source": []
  }
 ],
 "metadata": {
  "kernelspec": {
   "display_name": "Python 3 (ipykernel)",
   "language": "python",
   "name": "python3"
  },
  "language_info": {
   "codemirror_mode": {
    "name": "ipython",
    "version": 3
   },
   "file_extension": ".py",
   "mimetype": "text/x-python",
   "name": "python",
   "nbconvert_exporter": "python",
   "pygments_lexer": "ipython3",
   "version": "3.9.13"
  }
 },
 "nbformat": 4,
 "nbformat_minor": 5
}
