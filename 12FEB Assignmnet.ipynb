{
 "cells": [
  {
   "cell_type": "markdown",
   "id": "3763327d-467b-4b28-b8dc-a79431c8c169",
   "metadata": {},
   "source": [
    "## 12FEB\n",
    "### ASSIGNMENT"
   ]
  },
  {
   "cell_type": "markdown",
   "id": "cf9e8e80-3865-4d5f-9526-a7d11b3fefd9",
   "metadata": {},
   "source": [
    "### Q1"
   ]
  },
  {
   "cell_type": "code",
   "execution_count": null,
   "id": "a5912895-6989-4ff0-a4dc-e1f2b9e126b2",
   "metadata": {},
   "outputs": [],
   "source": [
    "Q1. What is an exception in Python? write the difference between exceptions and syntex errors."
   ]
  },
  {
   "cell_type": "code",
   "execution_count": null,
   "id": "ea57d18a-8986-4fac-a34b-fa3db28fdd7f",
   "metadata": {},
   "outputs": [],
   "source": [
    "Ans:- An exception in Python is an event that occurs during the execution of a program that disrupts the\n",
    "normal flow of instructions. When an exception occurs, Python creates an exception object that contains information about the type of \n",
    "exception and where it occurred.\n",
    "\n",
    "Here is an example of a Python program that raises an exception:"
   ]
  },
  {
   "cell_type": "code",
   "execution_count": 1,
   "id": "c03b433d-8eac-4eea-92c3-cd907bebff96",
   "metadata": {},
   "outputs": [
    {
     "name": "stdout",
     "output_type": "stream",
     "text": [
      "Error: division by zero\n"
     ]
    }
   ],
   "source": [
    "try:\n",
    "    x = 1 / 0\n",
    "except ZeroDivisionError as e:\n",
    "    print(\"Error:\", e)\n"
   ]
  },
  {
   "cell_type": "code",
   "execution_count": null,
   "id": "4ddbfaf4-a654-4837-9e81-9a2f6dec6f2b",
   "metadata": {},
   "outputs": [],
   "source": [
    "In this example, the try block attempts to divide 1 by 0, which is not allowed and raises a ZeroDivisionError. \n",
    "The except block catches the exception and prints an error message.\n",
    "\n",
    "Syntax errors, on the other hand, are errors that occur when the syntax of a program is incorrect. \n",
    "They are detected by the Python interpreter before the program is executed, and they prevent the program from \n",
    "running. Syntax errors are usually caused by mistakes in the program code, such as misspelled keywords,\n",
    "missing parentheses, or incorrect indentation.\n",
    "\n",
    "Here is an example of a Python program with a syntax error:"
   ]
  },
  {
   "cell_type": "code",
   "execution_count": 2,
   "id": "c5a41c6b-6280-4844-805b-43922bef5d45",
   "metadata": {},
   "outputs": [
    {
     "ename": "ZeroDivisionError",
     "evalue": "division by zero",
     "output_type": "error",
     "traceback": [
      "\u001b[0;31m---------------------------------------------------------------------------\u001b[0m",
      "\u001b[0;31mZeroDivisionError\u001b[0m                         Traceback (most recent call last)",
      "Cell \u001b[0;32mIn[2], line 1\u001b[0m\n\u001b[0;32m----> 1\u001b[0m x \u001b[38;5;241m=\u001b[39m \u001b[38;5;241;43m1\u001b[39;49m\u001b[43m \u001b[49m\u001b[38;5;241;43m/\u001b[39;49m\u001b[43m \u001b[49m\u001b[38;5;241;43m0\u001b[39;49m  \u001b[38;5;66;03m# This line contains a syntax error\u001b[39;00m\n\u001b[1;32m      2\u001b[0m \u001b[38;5;28mprint\u001b[39m(x)\n",
      "\u001b[0;31mZeroDivisionError\u001b[0m: division by zero"
     ]
    }
   ],
   "source": [
    "x = 1 / 0  # This line contains a syntax error\n",
    "print(x)\n"
   ]
  },
  {
   "cell_type": "code",
   "execution_count": null,
   "id": "102e6c49-6ae4-40fc-a3d9-2db38b5632fe",
   "metadata": {},
   "outputs": [],
   "source": [
    "In this example, the syntax error occurs on the first line because division by zero is not allowed in Python. \n",
    "When the program is run, the interpreter will detect the error and display a syntax error message.\n",
    "\n",
    "In summary, the main differences between exceptions and syntax errors are:\n",
    "\n",
    "=> Exceptions occur during program execution, while syntax errors are detected by the interpreter before the program is executed.\n",
    "=> Exceptions can be caught and handled by the program, while syntax errors must be fixed in the program code before \n",
    "the program can be run.\n",
    "=> Exceptions are caused by events that occur during program execution, such as invalid input or network errors,\n",
    "while syntax errors are caused by mistakes in the program code, such as misspelled keywords or incorrect syntax."
   ]
  },
  {
   "cell_type": "markdown",
   "id": "15611b6b-8f5d-4d6a-b8c8-24e71d335eec",
   "metadata": {},
   "source": [
    "### Q2"
   ]
  },
  {
   "cell_type": "code",
   "execution_count": null,
   "id": "36dccc4b-008a-49f5-9ffa-c523887ae48e",
   "metadata": {},
   "outputs": [],
   "source": [
    "Q2. What happens when an exception is not handled? Explain with an example."
   ]
  },
  {
   "cell_type": "code",
   "execution_count": null,
   "id": "0c82f948-f411-434e-97aa-5b261a695d41",
   "metadata": {},
   "outputs": [],
   "source": [
    "Ans:- When an exception is not handled in a program, it will cause the program to terminate and an error \n",
    "message will be displayed to the user. This error message will contain information about the type of exception \n",
    "that occurred and where it occurred in the program.\n",
    "\n",
    "Here is an example of a Python program that raises an exception but does not handle it:"
   ]
  },
  {
   "cell_type": "code",
   "execution_count": 13,
   "id": "6983a205-8429-4c48-9eb9-92f5d5745758",
   "metadata": {},
   "outputs": [
    {
     "ename": "SyntaxError",
     "evalue": "invalid syntax. Perhaps you forgot a comma? (1302762981.py, line 1)",
     "output_type": "error",
     "traceback": [
      "\u001b[0;36m  Cell \u001b[0;32mIn[13], line 1\u001b[0;36m\u001b[0m\n\u001b[0;31m    Traceback (most recent call last):\u001b[0m\n\u001b[0m               ^\u001b[0m\n\u001b[0;31mSyntaxError\u001b[0m\u001b[0;31m:\u001b[0m invalid syntax. Perhaps you forgot a comma?\n"
     ]
    }
   ],
   "source": [
    "Traceback (most recent call last):\n",
    "File \"example.py\", line 1, in <module>\n",
    "    x = 1 / 0\n",
    "ZeroDivisionError: division by zero\n"
   ]
  },
  {
   "cell_type": "code",
   "execution_count": null,
   "id": "1c1a05f0-0ff5-4e6f-bc29-90d5b3fe0052",
   "metadata": {},
   "outputs": [],
   "source": [
    "As you can see, the error message contains information about the type of exception (ZeroDivisionError) and where it occurred in the program (example.py, line 1). The print statement on the second line is never executed because the program terminated before \n",
    "it was reached.\n",
    "\n",
    "In summary, when an exception is not handled, it will cause the program to terminate and an error message will\n",
    "be displayed to the user. It is important to handle exceptions in your program to prevent it from crashing and to\n",
    "provide a better user experience."
   ]
  },
  {
   "cell_type": "markdown",
   "id": "9b448c03-db14-43de-9bc7-9b7293e2b085",
   "metadata": {},
   "source": [
    "### Q3"
   ]
  },
  {
   "cell_type": "code",
   "execution_count": null,
   "id": "dae9ea83-10e5-4ea6-9bfc-ecd4a5533b9e",
   "metadata": {},
   "outputs": [],
   "source": [
    "Q3. Which Python statements are used to catch and handle exceptions? Explain with an example."
   ]
  },
  {
   "cell_type": "code",
   "execution_count": null,
   "id": "82f4be38-b339-4399-bea9-620c146c52d1",
   "metadata": {},
   "outputs": [],
   "source": [
    "Ans:- Python uses the try and except statements to catch and handle exceptions.\n",
    "\n",
    "The try statement is used to enclose the code that might raise an exception, and the except statement is \n",
    "used to handle the exception if it occurs.\n",
    "\n",
    "Here's an example:"
   ]
  },
  {
   "cell_type": "code",
   "execution_count": 14,
   "id": "13d22648-a0b6-493f-9627-3a59bb645716",
   "metadata": {},
   "outputs": [
    {
     "name": "stdout",
     "output_type": "stream",
     "text": [
      "Error: division by zero\n"
     ]
    }
   ],
   "source": [
    "try:\n",
    "    # code that might raise an exception\n",
    "    x = 5 / 0 # This will raise a ZeroDivisionError\n",
    "except ZeroDivisionError:\n",
    "    # code to handle the exception\n",
    "    print(\"Error: division by zero\")\n"
   ]
  },
  {
   "cell_type": "code",
   "execution_count": null,
   "id": "cb62963a-b3e5-4b33-8d20-189d8319f835",
   "metadata": {},
   "outputs": [],
   "source": [
    "In this example, the try block attempts to divide the number 5 by zero, which will result in a ZeroDivisionError.\n",
    "The except block catches the exception and prints an error message to the console.\n",
    "\n",
    "You can also catch multiple exceptions in the same try statement by specifying them in a tuple:"
   ]
  },
  {
   "cell_type": "code",
   "execution_count": 15,
   "id": "6522111b-71f9-4fb9-84f9-b86a3017c2e7",
   "metadata": {},
   "outputs": [
    {
     "name": "stdout",
     "output_type": "stream",
     "text": [
      "Error: division by zero or type mismatch\n"
     ]
    }
   ],
   "source": [
    "try:\n",
    "    # code that might raise an exception\n",
    "    x = 5 / 0 # This will raise a ZeroDivisionError\n",
    "except (ZeroDivisionError, TypeError):\n",
    "    # code to handle the exception\n",
    "    print(\"Error: division by zero or type mismatch\")\n"
   ]
  },
  {
   "cell_type": "code",
   "execution_count": null,
   "id": "dcf6c7e8-dd9e-4f7f-8daa-40cfc9a66f5c",
   "metadata": {},
   "outputs": [],
   "source": [
    "In this example, the except block catches both ZeroDivisionError and TypeError exceptions."
   ]
  },
  {
   "cell_type": "markdown",
   "id": "05982f04-7f68-4a3c-a61f-5df0537e00e5",
   "metadata": {},
   "source": [
    "### Q4"
   ]
  },
  {
   "cell_type": "code",
   "execution_count": null,
   "id": "e524e5c0-dc78-44ad-9246-721bd9b77004",
   "metadata": {},
   "outputs": [],
   "source": [
    "Q4. Explain with an example:\n",
    "    a. try and else\n",
    "    b. finally\n",
    "    c. raise\n"
   ]
  },
  {
   "cell_type": "code",
   "execution_count": null,
   "id": "097be813-1e75-4dd5-b96e-9698a7c5f79e",
   "metadata": {},
   "outputs": [],
   "source": [
    "Ans:- a. try and else:\n",
    "\n",
    "In Python, you can use a try statement along with an else statement to specify a block of code that \n",
    "should be executed only if no exceptions were raised in the try block. Here's an example:"
   ]
  },
  {
   "cell_type": "code",
   "execution_count": 17,
   "id": "dbba1c98-e4cf-4d81-8c0a-0d2bb6cf20d9",
   "metadata": {},
   "outputs": [
    {
     "name": "stdout",
     "output_type": "stream",
     "text": [
      "The result is: 5.0\n"
     ]
    }
   ],
   "source": [
    "try:\n",
    "    x = 10 / 2\n",
    "except ZeroDivisionError:\n",
    "    print(\"Error: division by zero\")\n",
    "else:\n",
    "    print(\"The result is:\", x)\n"
   ]
  },
  {
   "cell_type": "code",
   "execution_count": null,
   "id": "a666b9e1-21ba-4211-a009-c1bcf9d2d0a7",
   "metadata": {},
   "outputs": [],
   "source": [
    "In this example, the try block attempts to divide the number 10 by 2, which will not raise an exception. \n",
    "Therefore, the code in the else block will be executed, and the result of the division will be printed to \n",
    "the console."
   ]
  },
  {
   "cell_type": "code",
   "execution_count": null,
   "id": "7ce70b72-b326-477e-bd40-183fed56482a",
   "metadata": {},
   "outputs": [],
   "source": [
    "b. finally:\n",
    "\n",
    "The finally statement is used to specify a block of code that will be executed regardless of whether an \n",
    "exception was raised or not. This can be useful for releasing resources or closing files, for example.\n",
    "Here's an example:"
   ]
  },
  {
   "cell_type": "code",
   "execution_count": 18,
   "id": "1f7a7f88-9591-4018-b84f-ea5c02903c8b",
   "metadata": {},
   "outputs": [
    {
     "name": "stdout",
     "output_type": "stream",
     "text": [
      "Error: file not found\n"
     ]
    },
    {
     "ename": "NameError",
     "evalue": "name 'file' is not defined",
     "output_type": "error",
     "traceback": [
      "\u001b[0;31m---------------------------------------------------------------------------\u001b[0m",
      "\u001b[0;31mNameError\u001b[0m                                 Traceback (most recent call last)",
      "Cell \u001b[0;32mIn[18], line 7\u001b[0m\n\u001b[1;32m      5\u001b[0m     \u001b[38;5;28mprint\u001b[39m(\u001b[38;5;124m\"\u001b[39m\u001b[38;5;124mError: file not found\u001b[39m\u001b[38;5;124m\"\u001b[39m)\n\u001b[1;32m      6\u001b[0m \u001b[38;5;28;01mfinally\u001b[39;00m:\n\u001b[0;32m----> 7\u001b[0m     \u001b[43mfile\u001b[49m\u001b[38;5;241m.\u001b[39mclose()\n",
      "\u001b[0;31mNameError\u001b[0m: name 'file' is not defined"
     ]
    }
   ],
   "source": [
    "try:\n",
    "    file = open(\"example.txt\", \"r\")\n",
    "    # some code that reads from the file\n",
    "except FileNotFoundError:\n",
    "    print(\"Error: file not found\")\n",
    "finally:\n",
    "    file.close()\n"
   ]
  },
  {
   "cell_type": "code",
   "execution_count": null,
   "id": "cf60b471-45be-43d0-a862-ff16cb96a33b",
   "metadata": {},
   "outputs": [],
   "source": [
    "In this example, the try block attempts to open a file called \"example.txt\" for reading. \n",
    "If the file is not found, a FileNotFoundError exception will be raised, and the error message will be \n",
    "printed to the console. Regardless of whether an exception was raised or not, the finally block will be executed, \n",
    "and the file will be closed."
   ]
  },
  {
   "cell_type": "code",
   "execution_count": null,
   "id": "c6abf9b3-0e1b-470c-b485-07fdc474f22d",
   "metadata": {},
   "outputs": [],
   "source": [
    "c. raise:\n",
    "\n",
    "In Python, you can use the raise statement to raise an exception manually. This can be useful if you want to \n",
    "define your own exceptions, or if you want to signal an error in your code. Here's an example:"
   ]
  },
  {
   "cell_type": "code",
   "execution_count": 19,
   "id": "e909976b-7ed8-485f-9200-39abe62a8597",
   "metadata": {},
   "outputs": [
    {
     "name": "stdout",
     "output_type": "stream",
     "text": [
      "Error: division by zero is not allowed\n"
     ]
    }
   ],
   "source": [
    "def divide_numbers(x, y):\n",
    "    if y == 0:\n",
    "        raise ZeroDivisionError(\"division by zero is not allowed\")\n",
    "    else:\n",
    "        return x / y\n",
    "\n",
    "try:\n",
    "    result = divide_numbers(10, 0)\n",
    "except ZeroDivisionError as e:\n",
    "    print(\"Error:\", e)\n"
   ]
  },
  {
   "cell_type": "code",
   "execution_count": null,
   "id": "1431b440-a0f5-4449-8a2b-0a01ae5d43e3",
   "metadata": {},
   "outputs": [],
   "source": [
    "In this example, the divide_numbers function takes two arguments and attempts to divide the first argument by \n",
    "the second argument. If the second argument is zero, a ZeroDivisionError exception is raised manually using the \n",
    "raise statement. In the try block, we call the function with the arguments 10 and 0, which will result in an \n",
    "exception being raised. The except block catches the exception and prints the error message to the console."
   ]
  },
  {
   "cell_type": "markdown",
   "id": "83b9d381-006f-4992-b904-eb45ef10aa84",
   "metadata": {},
   "source": [
    "### Q5"
   ]
  },
  {
   "cell_type": "code",
   "execution_count": null,
   "id": "02b3ce39-a121-4dfa-8af1-ac3ce29b823c",
   "metadata": {},
   "outputs": [],
   "source": [
    "Q5. What are custom exceptions in Python? why do we need custom exceptions? Explain with an example."
   ]
  },
  {
   "cell_type": "code",
   "execution_count": null,
   "id": "82d55de1-ca4b-460b-be0b-e03858357077",
   "metadata": {},
   "outputs": [],
   "source": [
    "Ans:- In Python, custom exceptions are exceptions that you can define yourself by creating a new class that\n",
    "inherits from the built-in Exception class.\n",
    "\n",
    "Custom exceptions can be useful in situations where you want to provide more detailed information about an \n",
    "error or provide more specific error handling. For example, if you're building an application that processes \n",
    "financial transactions, you might define a custom exception to handle cases where a user tries to withdraw more \n",
    "money than they have in their account.\n",
    "\n",
    "Here's an example of how to define and use a custom exception in Python:"
   ]
  },
  {
   "cell_type": "code",
   "execution_count": 20,
   "id": "94065133-f44b-4d7d-9996-48ec051c7a04",
   "metadata": {},
   "outputs": [
    {
     "name": "stdout",
     "output_type": "stream",
     "text": [
      "Error: Attempted to withdraw 150, but balance is only 100\n"
     ]
    }
   ],
   "source": [
    "class InsufficientFundsError(Exception):\n",
    "    def __init__(self, balance, amount):\n",
    "        self.balance = balance\n",
    "        self.amount = amount\n",
    "\n",
    "    def __str__(self):\n",
    "        return f\"Attempted to withdraw {self.amount}, but balance is only {self.balance}\"\n",
    "\n",
    "def withdraw(balance, amount):\n",
    "    if amount > balance:\n",
    "        raise InsufficientFundsError(balance, amount)\n",
    "    else:\n",
    "        return balance - amount\n",
    "\n",
    "try:\n",
    "    balance = 100\n",
    "    amount = 150\n",
    "    new_balance = withdraw(balance, amount)\n",
    "except InsufficientFundsError as e:\n",
    "    print(\"Error:\", e)\n"
   ]
  },
  {
   "cell_type": "code",
   "execution_count": null,
   "id": "70802151-6ec7-4fde-8dde-e5e11d7d6cb5",
   "metadata": {},
   "outputs": [],
   "source": [
    "In this example, we define a custom exception called InsufficientFundsError that takes two arguments in its \n",
    "constructor: balance and amount. We also define a __str__ method to provide a string representation of the error.\n",
    "\n",
    "We then define a function called withdraw that takes a balance and an amount, and raises an InsufficientFundsError\n",
    "exception if the amount is greater than the balance. In the try block, we call the withdraw function with a \n",
    "balance of 100 and an amount of 150, which will result in an exception being raised. The except block catches the \n",
    "exception and prints the error message to the console.\n",
    "\n",
    "By defining a custom exception, we can provide more specific information about the error and handle it in a \n",
    "more precise way.\n"
   ]
  },
  {
   "cell_type": "markdown",
   "id": "5807ce95-ef06-4546-bf1c-0dbf4b647299",
   "metadata": {},
   "source": [
    "### Q6"
   ]
  },
  {
   "cell_type": "code",
   "execution_count": null,
   "id": "32eaeb29-60e9-4e4b-8c65-a1a90cc8d3ee",
   "metadata": {},
   "outputs": [],
   "source": [
    "Q6. Create a custom exception class. use this class to handle an exception."
   ]
  },
  {
   "cell_type": "code",
   "execution_count": null,
   "id": "7f5da0b0-5fd6-407a-9e8d-e9090c571541",
   "metadata": {},
   "outputs": [],
   "source": [
    "Ans:- here's an example of creating a custom exception class and using it to handle an exception:"
   ]
  },
  {
   "cell_type": "code",
   "execution_count": 21,
   "id": "05819791-9016-4e23-85fb-a06044727e19",
   "metadata": {},
   "outputs": [
    {
     "name": "stdout",
     "output_type": "stream",
     "text": [
      "Error: Invalid input value: 0\n"
     ]
    }
   ],
   "source": [
    "class InvalidInputError(Exception):\n",
    "    def __init__(self, input_value):\n",
    "        self.input_value = input_value\n",
    "\n",
    "    def __str__(self):\n",
    "        return f\"Invalid input value: {self.input_value}\"\n",
    "\n",
    "def divide_numbers(x, y):\n",
    "    if y == 0:\n",
    "        raise InvalidInputError(y)\n",
    "    else:\n",
    "        return x / y\n",
    "\n",
    "try:\n",
    "    result = divide_numbers(10, 0)\n",
    "except InvalidInputError as e:\n",
    "    print(\"Error:\", e)\n"
   ]
  },
  {
   "cell_type": "code",
   "execution_count": null,
   "id": "0184ff60-0b09-43d4-9516-7d7c2f7fac7d",
   "metadata": {},
   "outputs": [],
   "source": [
    "In this example, we define a custom exception class called InvalidInputError that inherits from the built-in \n",
    "Exception class. The class takes an input_value parameter in its constructor, which is used to create a more \n",
    "specific error message. We also define a __str__ method to provide a string representation of the error."
   ]
  },
  {
   "cell_type": "code",
   "execution_count": null,
   "id": "0e6eceb3-72a3-4cf7-9d93-c77736d05d28",
   "metadata": {},
   "outputs": [],
   "source": [
    "We then define a function called divide_numbers that takes two arguments and attempts to divide the first argument\n",
    "by the second argument. If the second argument is zero, a InvalidInputError exception is raised manually using \n",
    "the raise statement. In the try block, we call the function with the arguments 10 and 0, which will result in an \n",
    "exception being raised. The except block catches the exception and prints the error message to the console.\n",
    "\n",
    "By defining a custom exception class, we can provide more specific information about the error and handle it in\n",
    "a more precise way."
   ]
  },
  {
   "cell_type": "code",
   "execution_count": null,
   "id": "ea9dccc5-516c-4f7f-9925-d8fe81a1a3df",
   "metadata": {},
   "outputs": [],
   "source": []
  }
 ],
 "metadata": {
  "kernelspec": {
   "display_name": "Python 3 (ipykernel)",
   "language": "python",
   "name": "python3"
  },
  "language_info": {
   "codemirror_mode": {
    "name": "ipython",
    "version": 3
   },
   "file_extension": ".py",
   "mimetype": "text/x-python",
   "name": "python",
   "nbconvert_exporter": "python",
   "pygments_lexer": "ipython3",
   "version": "3.10.8"
  }
 },
 "nbformat": 4,
 "nbformat_minor": 5
}
