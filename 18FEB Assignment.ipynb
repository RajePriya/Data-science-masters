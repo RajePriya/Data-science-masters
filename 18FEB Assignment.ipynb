{
 "cells": [
  {
   "cell_type": "markdown",
   "id": "b0b1c014-1237-472b-8398-6b631c9aa0be",
   "metadata": {},
   "source": [
    "## 18FEB\n",
    "### ASSIGNMENT"
   ]
  },
  {
   "cell_type": "markdown",
   "id": "d72f5a51-51ec-46da-b14d-e43d29c799f9",
   "metadata": {},
   "source": [
    "### Q1"
   ]
  },
  {
   "cell_type": "code",
   "execution_count": null,
   "id": "96f1ac81-78e0-4de3-a6b3-cc583e548d2c",
   "metadata": {},
   "outputs": [],
   "source": [
    "Q1. What is an API? Give an example, where an API is used in real life."
   ]
  },
  {
   "cell_type": "code",
   "execution_count": null,
   "id": "7427111c-942e-4bc5-be0f-835b5f89cbb2",
   "metadata": {},
   "outputs": [],
   "source": [
    "Ans:- An API (Application Programming Interface) is a set of protocols, routines, and tools for building software \n",
    "applications. It specifies how different software components should interact with each other. APIs allow different \n",
    "software applications to communicate with each other and exchange data and services.\n",
    "\n",
    "An example of where an API is used in real life is in social media platforms. Social media platforms like Facebook,\n",
    "Twitter, and Instagram all provide APIs that allow third-party developers to build applications that can interact\n",
    "with their platform. These APIs allow developers to build applications that can read and write data to and from \n",
    "the social media platform. For example, a developer can build an application that allows users to post updates to\n",
    "their Facebook page or retrieve data from their Twitter account.\n",
    "\n",
    "Another example of where APIs are used is in the financial industry. Financial institutions like banks and stock\n",
    "exchanges use APIs to provide access to their financial data and services. For example, a developer can use a \n",
    "bank's API to build an application that allows users to check their account balance, transfer funds, or pay bills.\n",
    "Similarly, a developer can use a stock exchange's API to build an application that allows users to retrieve stock \n",
    "prices and trade stocks.\n",
    "\n",
    "In summary, APIs are used in a variety of real-life scenarios to enable software applications to interact with\n",
    "each other, exchange data and services, and provide additional functionality to end-users."
   ]
  },
  {
   "cell_type": "markdown",
   "id": "b5c3e7d1-f78c-4511-93ac-df499209d152",
   "metadata": {},
   "source": [
    "### Q2"
   ]
  },
  {
   "cell_type": "code",
   "execution_count": null,
   "id": "b3c54be8-d256-4981-8a4f-226426be6f41",
   "metadata": {},
   "outputs": [],
   "source": [
    "Q2. Give advantages and disadvantages of using API. "
   ]
  },
  {
   "cell_type": "code",
   "execution_count": null,
   "id": "ad86465e-b64c-48f2-8737-55d3c0c5318c",
   "metadata": {},
   "outputs": [],
   "source": [
    "Ans:- Advantages of using APIs:\n",
    "\n",
    "=> Scalability: APIs make it easier for organizations to scale their services and reach a wider audience by \n",
    "allowing third-party developers to build applications that can interact with their platform.\n",
    "\n",
    "=> Reusability: APIs can be used across different applications, allowing developers to reuse the same code and \n",
    "functionality across multiple projects.\n",
    "\n",
    "=> Customization: APIs allow developers to customize the functionality and data of the underlying system to suit \n",
    "their specific needs.\n",
    "\n",
    "=> Collaboration: APIs make it easier for teams of developers to work together on a project, allowing each team\n",
    "member to work on a specific part of the project without disrupting the work of others.\n",
    "\n",
    "=> Automation: APIs can be used to automate repetitive tasks, such as data entry or data retrieval, freeing up \n",
    "time for developers to focus on more complex tasks."
   ]
  },
  {
   "cell_type": "code",
   "execution_count": null,
   "id": "f073504a-0427-43bd-9c6c-6fe0dbcdfdda",
   "metadata": {},
   "outputs": [],
   "source": [
    "Disadvantages of using APIs:\n",
    "\n",
    "=> Complexity: APIs can be complex to implement and require a certain level of technical expertise to use \n",
    "effectively.\n",
    "\n",
    "=> Security concerns: APIs can create security vulnerabilities in the underlying system, which need to be\n",
    "addressed by proper security measures.\n",
    "\n",
    "=> Maintenance: APIs require ongoing maintenance to ensure that they continue to work as intended, and updates \n",
    "may be needed as the underlying system evolves.\n",
    "\n",
    "=> Dependency: APIs can create dependencies on the underlying system, making it difficult to switch to a different\n",
    "platform or vendor.\n",
    "\n",
    "=> Cost: APIs can be expensive to develop and maintain, and may require ongoing licensing fees or other costs.\n",
    "\n",
    "Overall, while APIs can provide many benefits to developers and organizations, they also come with some drawbacks\n",
    "that need to be considered when deciding whether to use them."
   ]
  },
  {
   "cell_type": "markdown",
   "id": "4f1a01a3-a868-4658-a23b-eccccdbe663f",
   "metadata": {},
   "source": [
    "### Q3"
   ]
  },
  {
   "cell_type": "code",
   "execution_count": null,
   "id": "0f37ea10-aa21-48cf-8840-8f04ef779676",
   "metadata": {},
   "outputs": [],
   "source": [
    "Q3. What is a Web API? Differentiate between API and Web API."
   ]
  },
  {
   "cell_type": "code",
   "execution_count": null,
   "id": "fa39e522-4bdb-4ceb-b153-7c38b459a788",
   "metadata": {},
   "outputs": [],
   "source": [
    "Ans:- A Web API, also known as a Web Service, is an API that is accessed over the internet using the HTTP protocol.\n",
    "It allows two software applications to communicate with each other and exchange data and services over the \n",
    "internet.\n",
    "\n",
    "APIs, on the other hand, are a more general term that refers to any set of protocols, routines, and tools for \n",
    "building software applications. APIs can be used for a wide range of applications, including desktop and mobile \n",
    "applications, while Web APIs are specifically designed for use over the internet.\n",
    "\n",
    "Some key differences between APIs and Web APIs include:"
   ]
  },
  {
   "cell_type": "code",
   "execution_count": null,
   "id": "325ac745-6013-4917-b4a6-42f908ffcc3a",
   "metadata": {},
   "outputs": [],
   "source": [
    "=> Protocol: APIs can use any protocol for communication, while Web APIs specifically use the HTTP protocol.\n",
    "\n",
    "=> Network-based: Web APIs are designed to be used over the internet and require network access, while APIs can \n",
    "be used on local networks as well as over the internet.\n",
    "\n",
    "=> Web standards: Web APIs are designed to follow web standards, such as REST (Representational State Transfer) \n",
    "and SOAP (Simple Object Access Protocol), while APIs can use any set of protocols and standards.\n",
    "\n",
    "=> Web technologies: Web APIs often use web technologies like JSON (JavaScript Object Notation) and XML\n",
    "(eXtensible Markup Language) to exchange data, while APIs can use any data format.\n",
    "\n",
    "In summary, Web APIs are a specific type of API designed for use over the internet, while APIs can be used for a\n",
    "wide range of applications."
   ]
  },
  {
   "cell_type": "markdown",
   "id": "009a7132-71d0-4feb-8818-203896e00fdc",
   "metadata": {},
   "source": [
    "### Q4"
   ]
  },
  {
   "cell_type": "code",
   "execution_count": null,
   "id": "b2b14355-4a75-43f2-bb58-ee08b057c1a2",
   "metadata": {},
   "outputs": [],
   "source": [
    "Q4. Explain REST and SOAP Architecture. Mention shortcomings of SOAP."
   ]
  },
  {
   "cell_type": "code",
   "execution_count": null,
   "id": "20778484-9d23-45df-9893-78a3485cad22",
   "metadata": {},
   "outputs": [],
   "source": [
    "Ans:- REST (Representational State Transfer) and SOAP (Simple Object Access Protocol) are two different \n",
    "architectural styles for designing web services.\n",
    "\n",
    "REST architecture is a simpler and lightweight alternative to SOAP, and it has become increasingly popular due to\n",
    "its simplicity and flexibility. REST uses HTTP requests to post, get, put, and delete data, and it returns data in\n",
    "a variety of formats, including XML and JSON. It is often used in web and mobile applications because of its \n",
    "ability to handle large volumes of data and its scalability.\n",
    "\n",
    "SOAP architecture, on the other hand, uses a more complex messaging system to exchange data between applications.\n",
    "It uses XML to format data and is typically used in enterprise-level applications where security and reliability \n",
    "are critical. SOAP requires more resources and is generally slower than REST, but it can handle more complex \n",
    "operations and provides a higher level of security.\n",
    "\n",
    "One of the main shortcomings of SOAP is its complexity. Because SOAP uses a more complex messaging system, it can\n",
    "be more difficult to implement and maintain than REST. It also requires more resources to operate, which can make \n",
    "it slower and more expensive than REST. In addition, SOAP is not as flexible as REST, which can make it more\n",
    "difficult to customize to specific use cases.\n",
    "\n",
    "Another disadvantage of SOAP is that it can be difficult to debug and troubleshoot when things go wrong. Because\n",
    "SOAP messages are often encrypted and sent over a network, it can be difficult to determine where a problem is\n",
    "occurring, which can make it challenging to diagnose and fix issues.\n",
    "\n",
    "Overall, while SOAP has its advantages in certain use cases, it is generally considered to be more complex and \n",
    "less flexible than REST, which is why REST has become the more popular choice for many web and mobile\n",
    "applications."
   ]
  },
  {
   "cell_type": "markdown",
   "id": "4d3d5818-17bc-4525-8c0e-367261331089",
   "metadata": {},
   "source": [
    "### Q5"
   ]
  },
  {
   "cell_type": "code",
   "execution_count": null,
   "id": "c889ef92-7190-475d-a9fa-ca15eeaa58c1",
   "metadata": {},
   "outputs": [],
   "source": [
    "Q5. Differentiate between REST and SOAP."
   ]
  },
  {
   "cell_type": "code",
   "execution_count": null,
   "id": "e1e95d2f-3159-4bc4-a591-da6552e3f3b8",
   "metadata": {},
   "outputs": [],
   "source": [
    "An:- REST (Representational State Transfer) and SOAP (Simple Object Access Protocol) are two different \n",
    "architectural styles for designing web services. Here are the key differences between the two:"
   ]
  },
  {
   "cell_type": "code",
   "execution_count": null,
   "id": "3f430ce5-ca0c-4721-a34e-3a93d85bb094",
   "metadata": {},
   "outputs": [],
   "source": [
    "=> Protocol: REST uses HTTP protocol for communication, while SOAP can use different communication protocols, such \n",
    "as HTTP, SMTP, TCP, or UDP.\n",
    "\n",
    "=> Messaging format: REST uses a lightweight messaging format like JSON or XML, while SOAP uses XML messaging \n",
    "format.\n",
    "\n",
    "=> Data transfer format: REST can use various data transfer formats such as JSON, XML, HTML, and text, while SOAP\n",
    "can only use XML.\n",
    "\n",
    "=> Interface: REST interface is simple and easy to understand, while SOAP interface is more complex and difficult\n",
    "to learn.\n",
    "\n",
    "=> Resources: REST is resource-based, meaning that every resource is identified by a unique identifier (URL) and \n",
    "operations are performed on these resources, while SOAP is operation-based, where the operation is identified in \n",
    "the message.\n",
    "\n",
    "=> Scalability: REST is more scalable than SOAP because it does not require as much bandwidth or processing power.\n",
    "\n",
    "=> Caching: REST allows for caching of responses to improve performance, while SOAP does not.\n",
    "\n",
    "Overall, REST is a simpler and more lightweight alternative to SOAP, and it has become increasingly popular due to\n",
    "its simplicity and flexibility. REST is often used in web and mobile applications because of its ability to handle \n",
    "large volumes of data and its scalability. SOAP, on the other hand, is typically used in enterprise-level \n",
    "applications where security and reliability are critical."
   ]
  },
  {
   "cell_type": "code",
   "execution_count": null,
   "id": "d4c59fc8-90a2-4e48-a234-d4e1519bd69d",
   "metadata": {},
   "outputs": [],
   "source": []
  }
 ],
 "metadata": {
  "kernelspec": {
   "display_name": "Python 3 (ipykernel)",
   "language": "python",
   "name": "python3"
  },
  "language_info": {
   "codemirror_mode": {
    "name": "ipython",
    "version": 3
   },
   "file_extension": ".py",
   "mimetype": "text/x-python",
   "name": "python",
   "nbconvert_exporter": "python",
   "pygments_lexer": "ipython3",
   "version": "3.10.8"
  }
 },
 "nbformat": 4,
 "nbformat_minor": 5
}
