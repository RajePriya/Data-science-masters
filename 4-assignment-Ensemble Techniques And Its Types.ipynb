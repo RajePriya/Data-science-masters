{
 "cells": [
  {
   "cell_type": "markdown",
   "id": "5bacc61a",
   "metadata": {},
   "source": [
    "# Q1"
   ]
  },
  {
   "cell_type": "code",
   "execution_count": null,
   "id": "bffcd8bb",
   "metadata": {},
   "outputs": [],
   "source": [
    "Q1. Preprocess the dataset by handling missing values, encoding categorical variables, and scaling the\n",
    "numerical features if necessary."
   ]
  },
  {
   "cell_type": "markdown",
   "id": "30d73c71",
   "metadata": {},
   "source": [
    "Ans:- \n",
    "    \n",
    "1. Handling Missing Values:\n",
    "Check the dataset for any missing values and decide on an appropriate strategy to handle them. There are several options, such as removing rows with missing values, imputing them with mean/median, or using more advanced techniques like regression imputation or K-nearest neighbors imputation.\n",
    "\n",
    "2. Encoding Categorical Variables:\n",
    "Random Forest classifiers require all input features to be numeric. If there are categorical variables in the dataset, you need to encode them into numerical values. Two common encoding methods are one-hot encoding and label encoding. One-hot encoding creates binary columns for each category, while label encoding assigns a unique integer to each category.\n",
    "\n",
    "3. Scaling Numerical Features:\n",
    "Random Forest algorithms are not sensitive to the scale of numerical features. However, if you plan to use other algorithms that are sensitive to feature scales (e.g., support vector machines, k-nearest neighbors), it's a good practice to scale the numerical features to a similar range (e.g., using StandardScaler or MinMaxScaler)."
   ]
  },
  {
   "cell_type": "code",
   "execution_count": 8,
   "id": "d2a0aad2",
   "metadata": {},
   "outputs": [],
   "source": [
    "import pandas as pd\n",
    "from sklearn.model_selection import train_test_split\n",
    "from sklearn.preprocessing import OneHotEncoder\n",
    "from sklearn.impute import SimpleImputer\n",
    "from sklearn.compose import ColumnTransformer\n",
    "\n",
    "# Load the dataset\n",
    "dataset = pd.read_csv('dataset.csv')\n",
    "\n",
    "# Separate features and target\n",
    "X = dataset.drop('target', axis=1)\n",
    "y = dataset['target']\n",
    "\n",
    "# Handle Missing Values (Imputation)\n",
    "imputer = SimpleImputer(strategy='mean')\n",
    "X_imputed = imputer.fit_transform(X)\n",
    "\n",
    "# Convert back to DataFrame\n",
    "X_imputed = pd.DataFrame(X_imputed, columns=X.columns)\n",
    "\n",
    "# Encode Categorical Variables (One-Hot Encoding)\n",
    "categorical_features = ['sex', 'cp', 'fbs', 'restecg', 'exang', 'slope', 'ca', 'thal']\n",
    "categorical_transformer = OneHotEncoder(drop='first', sparse=False)\n",
    "\n",
    "preprocessor = ColumnTransformer(\n",
    "    transformers=[\n",
    "        ('num', 'passthrough', X_imputed.columns.difference(categorical_features)),\n",
    "        ('cat', categorical_transformer, categorical_features)\n",
    "    ])\n",
    "\n",
    "X_encoded = preprocessor.fit_transform(X_imputed)\n",
    "\n",
    "# Split the data into training and testing sets\n",
    "X_train, X_test, y_train, y_test = train_test_split(X_encoded, y, test_size=0.2, random_state=42)\n",
    "\n",
    "# Now you have X_train, X_test, y_train, y_test ready for training the Random Forest classifier."
   ]
  },
  {
   "cell_type": "code",
   "execution_count": 9,
   "id": "95bd8756",
   "metadata": {},
   "outputs": [
    {
     "name": "stdout",
     "output_type": "stream",
     "text": [
      "Accuracy: 0.819672131147541\n"
     ]
    }
   ],
   "source": [
    "from sklearn.ensemble import RandomForestClassifier\n",
    "from sklearn.metrics import accuracy_score\n",
    "\n",
    "# Train the Random Forest classifier\n",
    "clf = RandomForestClassifier(random_state=42)\n",
    "clf.fit(X_train, y_train)\n",
    "\n",
    "# Predict on the test set\n",
    "y_pred = clf.predict(X_test)\n",
    "\n",
    "# Evaluate the classifier's performance\n",
    "accuracy = accuracy_score(y_test, y_pred)\n",
    "print(\"Accuracy:\", accuracy)\n"
   ]
  },
  {
   "cell_type": "markdown",
   "id": "522dcd51",
   "metadata": {},
   "source": [
    "# Q2"
   ]
  },
  {
   "cell_type": "code",
   "execution_count": null,
   "id": "d0a5fe17",
   "metadata": {},
   "outputs": [],
   "source": [
    "Q2. Split the dataset into a training set (70%) and a test set (30%)."
   ]
  },
  {
   "cell_type": "code",
   "execution_count": 10,
   "id": "145761c9",
   "metadata": {},
   "outputs": [],
   "source": [
    "import pandas as pd\n",
    "from sklearn.model_selection import train_test_split\n",
    "\n",
    "# Load the dataset\n",
    "dataset = pd.read_csv('dataset.csv')\n",
    "\n",
    "# Separate features and target\n",
    "X = dataset.drop('target', axis=1)\n",
    "y = dataset['target']\n",
    "\n",
    "# Split the data into training and testing sets (70% training, 30% testing)\n",
    "X_train, X_test, y_train, y_test = train_test_split(X, y, test_size=0.3, random_state=42)\n",
    "\n",
    "# Now you have X_train, X_test, y_train, y_test for training and evaluating the model."
   ]
  },
  {
   "cell_type": "code",
   "execution_count": 11,
   "id": "768be966",
   "metadata": {},
   "outputs": [
    {
     "name": "stdout",
     "output_type": "stream",
     "text": [
      "Accuracy: 0.8241758241758241\n"
     ]
    }
   ],
   "source": [
    "import pandas as pd\n",
    "from sklearn.model_selection import train_test_split\n",
    "from sklearn.ensemble import RandomForestClassifier\n",
    "from sklearn.metrics import accuracy_score\n",
    "\n",
    "# Load the dataset\n",
    "dataset = pd.read_csv('dataset.csv')\n",
    "\n",
    "# Separate features and target\n",
    "X = dataset.drop('target', axis=1)\n",
    "y = dataset['target']\n",
    "\n",
    "# Split the data into training and testing sets (70% training, 30% testing)\n",
    "X_train, X_test, y_train, y_test = train_test_split(X, y, test_size=0.3, random_state=42)\n",
    "\n",
    "# Train the Random Forest classifier\n",
    "clf = RandomForestClassifier(random_state=42)\n",
    "clf.fit(X_train, y_train)\n",
    "\n",
    "# Predict on the test set\n",
    "y_pred = clf.predict(X_test)\n",
    "\n",
    "# Evaluate the classifier's performance\n",
    "accuracy = accuracy_score(y_test, y_pred)\n",
    "print(\"Accuracy:\", accuracy)"
   ]
  },
  {
   "cell_type": "markdown",
   "id": "91600579",
   "metadata": {},
   "source": [
    "# Q3"
   ]
  },
  {
   "cell_type": "code",
   "execution_count": null,
   "id": "35b920ce",
   "metadata": {},
   "outputs": [],
   "source": [
    "Q3. Train a random forest classifier on the training set using 100 trees and a maximum depth of 10 for each\n",
    "tree. Use the default values for other hyperparameters."
   ]
  },
  {
   "cell_type": "code",
   "execution_count": 12,
   "id": "4c2242bf",
   "metadata": {},
   "outputs": [
    {
     "name": "stdout",
     "output_type": "stream",
     "text": [
      "Accuracy: 0.8131868131868132\n"
     ]
    }
   ],
   "source": [
    "import pandas as pd\n",
    "from sklearn.model_selection import train_test_split\n",
    "from sklearn.ensemble import RandomForestClassifier\n",
    "from sklearn.metrics import accuracy_score\n",
    "\n",
    "# Load the dataset\n",
    "dataset = pd.read_csv('dataset.csv')\n",
    "\n",
    "# Separate features and target\n",
    "X = dataset.drop('target', axis=1)\n",
    "y = dataset['target']\n",
    "\n",
    "# Split the data into training and testing sets (70% training, 30% testing)\n",
    "X_train, X_test, y_train, y_test = train_test_split(X, y, test_size=0.3, random_state=42)\n",
    "\n",
    "# Train the Random Forest classifier with 100 trees and a maximum depth of 10\n",
    "clf = RandomForestClassifier(n_estimators=100, max_depth=10, random_state=42)\n",
    "clf.fit(X_train, y_train)\n",
    "\n",
    "# Predict on the test set\n",
    "y_pred = clf.predict(X_test)\n",
    "\n",
    "# Evaluate the classifier's performance\n",
    "accuracy = accuracy_score(y_test, y_pred)\n",
    "print(\"Accuracy:\", accuracy)\n"
   ]
  },
  {
   "cell_type": "markdown",
   "id": "5bbae8b7",
   "metadata": {},
   "source": [
    "We set the n_estimators parameter to 100, which means the Random Forest will consist of 100 trees. Additionally, we set the max_depth parameter to 10, which limits the maximum depth of each tree to 10 levels.you'll train the Random Forest classifier with the specified hyperparameters and evaluate its accuracy on the test set. The output will be the accuracy of the classifier on the test set with 100 trees and a maximum depth of 10 for each tree."
   ]
  },
  {
   "cell_type": "markdown",
   "id": "37b1e43c",
   "metadata": {},
   "source": [
    "# Q4"
   ]
  },
  {
   "cell_type": "code",
   "execution_count": null,
   "id": "b34e1a0b",
   "metadata": {},
   "outputs": [],
   "source": [
    "Q4. Evaluate the performance of the model on the test set using accuracy, precision, recall, and F1 score."
   ]
  },
  {
   "cell_type": "code",
   "execution_count": 13,
   "id": "77ce9aa3",
   "metadata": {},
   "outputs": [
    {
     "name": "stdout",
     "output_type": "stream",
     "text": [
      "Accuracy: 0.8131868131868132\n",
      "Precision: 0.8367346938775511\n",
      "Recall: 0.82\n",
      "F1 Score: 0.8282828282828283\n"
     ]
    }
   ],
   "source": [
    "import pandas as pd\n",
    "from sklearn.model_selection import train_test_split\n",
    "from sklearn.ensemble import RandomForestClassifier\n",
    "from sklearn.metrics import accuracy_score, precision_score, recall_score, f1_score\n",
    "\n",
    "# Load the dataset\n",
    "dataset = pd.read_csv('dataset.csv')\n",
    "\n",
    "# Separate features and target\n",
    "X = dataset.drop('target', axis=1)\n",
    "y = dataset['target']\n",
    "\n",
    "# Split the data into training and testing sets (70% training, 30% testing)\n",
    "X_train, X_test, y_train, y_test = train_test_split(X, y, test_size=0.3, random_state=42)\n",
    "\n",
    "# Train the Random Forest classifier with 100 trees and a maximum depth of 10\n",
    "clf = RandomForestClassifier(n_estimators=100, max_depth=10, random_state=42)\n",
    "clf.fit(X_train, y_train)\n",
    "\n",
    "# Predict on the test set\n",
    "y_pred = clf.predict(X_test)\n",
    "\n",
    "# Evaluate the classifier's performance\n",
    "accuracy = accuracy_score(y_test, y_pred)\n",
    "precision = precision_score(y_test, y_pred)\n",
    "recall = recall_score(y_test, y_pred)\n",
    "f1 = f1_score(y_test, y_pred)\n",
    "\n",
    "print(\"Accuracy:\", accuracy)\n",
    "print(\"Precision:\", precision)\n",
    "print(\"Recall:\", recall)\n",
    "print(\"F1 Score:\", f1)"
   ]
  },
  {
   "cell_type": "markdown",
   "id": "deae98fb",
   "metadata": {},
   "source": [
    "We use the precision_score, recall_score, and f1_score functions from scikit-learn to calculate the precision, recall, and F1 score of the classifier on the test set. These metrics provide a more comprehensive evaluation of the model's performance beyond accuracy, especially in cases of imbalanced datasets where one class may dominate the other.the accuracy, precision, recall, and F1 score of the Random Forest classifier on the test set, which will give you a better understanding of how well the model is performing for predicting the risk of heart disease."
   ]
  },
  {
   "cell_type": "markdown",
   "id": "e3095824",
   "metadata": {},
   "source": [
    "# Q5"
   ]
  },
  {
   "cell_type": "code",
   "execution_count": null,
   "id": "40fa06bf",
   "metadata": {},
   "outputs": [],
   "source": [
    "Q5. Use the feature importance scores to identify the top 5 most important features in predicting heart\n",
    "disease risk. Visualise the feature importances using a bar chart."
   ]
  },
  {
   "cell_type": "code",
   "execution_count": 14,
   "id": "e6d47151",
   "metadata": {},
   "outputs": [
    {
     "data": {
      "image/png": "[encoded data removed]",
      "text/plain": [
       "<Figure size 1000x600 with 1 Axes>"
      ]
     },
     "metadata": {},
     "output_type": "display_data"
    }
   ],
   "source": [
    "import pandas as pd\n",
    "import matplotlib.pyplot as plt\n",
    "from sklearn.model_selection import train_test_split\n",
    "from sklearn.ensemble import RandomForestClassifier\n",
    "\n",
    "# Load the dataset\n",
    "dataset = pd.read_csv('dataset.csv')\n",
    "\n",
    "# Separate features and target\n",
    "X = dataset.drop('target', axis=1)\n",
    "y = dataset['target']\n",
    "\n",
    "# Split the data into training and testing sets (70% training, 30% testing)\n",
    "X_train, X_test, y_train, y_test = train_test_split(X, y, test_size=0.3, random_state=42)\n",
    "\n",
    "# Train the Random Forest classifier with 100 trees and a maximum depth of 10\n",
    "clf = RandomForestClassifier(n_estimators=100, max_depth=10, random_state=42)\n",
    "clf.fit(X_train, y_train)\n",
    "\n",
    "# Get feature importances\n",
    "feature_importances = clf.feature_importances_\n",
    "\n",
    "# Create a DataFrame to associate feature names with their importance scores\n",
    "feature_importance_df = pd.DataFrame({'Feature': X.columns, 'Importance': feature_importances})\n",
    "\n",
    "# Sort the DataFrame by importance scores in descending order\n",
    "feature_importance_df = feature_importance_df.sort_values(by='Importance', ascending=False)\n",
    "\n",
    "# Get the top 5 most important features\n",
    "top_features = feature_importance_df.head(5)\n",
    "\n",
    "# Visualize the feature importances using a bar chart\n",
    "plt.figure(figsize=(10, 6))\n",
    "plt.bar(top_features['Feature'], top_features['Importance'])\n",
    "plt.xlabel('Features')\n",
    "plt.ylabel('Importance')\n",
    "plt.title('Top 5 Most Important Features for Predicting Heart Disease Risk')\n",
    "plt.xticks(rotation=45)\n",
    "plt.tight_layout()\n",
    "plt.show()"
   ]
  },
  {
   "cell_type": "markdown",
   "id": "d5717a80",
   "metadata": {},
   "source": [
    " we first train the Random Forest classifier as before. Then, we retrieve the feature importances using the feature_importances_ attribute. Next, we create a DataFrame to associate feature names with their importance scores, sort it in descending order by importance scores, and select the top 5 most important features. Finally, we visualize the top 5 features using a bar chart.\n",
    "\n",
    "We can see a bar chart displaying the top 5 most important features for predicting heart disease risk, which will help you understand which features have the most significant impact on the classifier's predictions."
   ]
  },
  {
   "cell_type": "markdown",
   "id": "3fffee07",
   "metadata": {},
   "source": [
    "# Q6"
   ]
  },
  {
   "cell_type": "code",
   "execution_count": null,
   "id": "87656d68",
   "metadata": {},
   "outputs": [],
   "source": [
    "Q6. Tune the hyperparameters of the random forest classifier using grid search or random search. Try\n",
    "different values of the number of trees, maximum depth, minimum samples split, and minimum samples\n",
    "leaf. Use 5-fold cross-validation to evaluate the performance of each set of hyperparameters."
   ]
  },
  {
   "cell_type": "code",
   "execution_count": 15,
   "id": "aa97bc62",
   "metadata": {},
   "outputs": [
    {
     "name": "stdout",
     "output_type": "stream",
     "text": [
      "Best Hyperparameters: {'max_depth': 5, 'min_samples_leaf': 2, 'min_samples_split': 2, 'n_estimators': 100}\n",
      "Accuracy on Test Set: 0.8351648351648352\n"
     ]
    }
   ],
   "source": [
    "import pandas as pd\n",
    "from sklearn.model_selection import train_test_split, GridSearchCV\n",
    "from sklearn.ensemble import RandomForestClassifier\n",
    "\n",
    "# Load the dataset\n",
    "dataset = pd.read_csv('dataset.csv')\n",
    "\n",
    "# Separate features and target\n",
    "X = dataset.drop('target', axis=1)\n",
    "y = dataset['target']\n",
    "\n",
    "# Split the data into training and testing sets (70% training, 30% testing)\n",
    "X_train, X_test, y_train, y_test = train_test_split(X, y, test_size=0.3, random_state=42)\n",
    "\n",
    "# Define the hyperparameter grid for the GridSearchCV\n",
    "param_grid = {\n",
    "    'n_estimators': [50, 100, 150],\n",
    "    'max_depth': [5, 10, 15, None],\n",
    "    'min_samples_split': [2, 5, 10],\n",
    "    'min_samples_leaf': [1, 2, 4]\n",
    "}\n",
    "\n",
    "# Create a Random Forest classifier\n",
    "rf = RandomForestClassifier(random_state=42)\n",
    "\n",
    "# Create GridSearchCV with 5-fold cross-validation\n",
    "grid_search = GridSearchCV(estimator=rf, param_grid=param_grid, cv=5, scoring='accuracy', n_jobs=-1)\n",
    "\n",
    "# Fit the grid search to the training data\n",
    "grid_search.fit(X_train, y_train)\n",
    "\n",
    "# Get the best hyperparameters and the best model\n",
    "best_params = grid_search.best_params_\n",
    "best_model = grid_search.best_estimator_\n",
    "\n",
    "# Evaluate the best model on the test set\n",
    "y_pred = best_model.predict(X_test)\n",
    "\n",
    "# Evaluate the classifier's performance\n",
    "accuracy = accuracy_score(y_test, y_pred)\n",
    "print(\"Best Hyperparameters:\", best_params)\n",
    "print(\"Accuracy on Test Set:\", accuracy)"
   ]
  },
  {
   "cell_type": "markdown",
   "id": "231deac3",
   "metadata": {},
   "source": [
    "we define a hyperparameter grid containing different values for the number of trees, maximum depth, minimum samples split, and minimum samples leaf. We then use GridSearchCV with 5-fold cross-validation (cv=5) to search for the best combination of hyperparameters based on accuracy (scoring='accuracy'). The n_jobs=-1 parameter allows the grid search to use all available CPU cores for parallel computation.\n",
    "Wel'll get the best hyperparameters (best_params) and the best model (best_model) determined by the grid search. Additionally, you'll see the accuracy of the best model on the test set, which gives you an estimate of its performance on new, unseen data. Grid search allows you to automatically explore various hyperparameter combinations, helping you find the best configuration for your Random Forest classifier."
   ]
  },
  {
   "cell_type": "markdown",
   "id": "f2e566cf",
   "metadata": {},
   "source": [
    "# Q7"
   ]
  },
  {
   "cell_type": "code",
   "execution_count": null,
   "id": "4aa29cce",
   "metadata": {},
   "outputs": [],
   "source": [
    "Q7. Report the best set of hyperparameters found by the search and the corresponding performance\n",
    "metrics. Compare the performance of the tuned model with the default model."
   ]
  },
  {
   "cell_type": "code",
   "execution_count": 16,
   "id": "eafb0e76",
   "metadata": {},
   "outputs": [
    {
     "name": "stdout",
     "output_type": "stream",
     "text": [
      "Best Hyperparameters: {'max_depth': 5, 'min_samples_leaf': 2, 'min_samples_split': 2, 'n_estimators': 100}\n",
      "Accuracy: 0.8351648351648352\n",
      "Precision: 0.8301886792452831\n",
      "Recall: 0.88\n",
      "F1 Score: 0.8543689320388349\n",
      "\n",
      "Performance Metrics - Default Model:\n",
      "Accuracy: 0.8241758241758241\n",
      "Precision: 0.84\n",
      "Recall: 0.84\n",
      "F1 Score: 0.8399999999999999\n"
     ]
    }
   ],
   "source": [
    "import pandas as pd\n",
    "from sklearn.model_selection import train_test_split, GridSearchCV\n",
    "from sklearn.ensemble import RandomForestClassifier\n",
    "from sklearn.metrics import accuracy_score, precision_score, recall_score, f1_score\n",
    "\n",
    "# Load the dataset\n",
    "dataset = pd.read_csv('dataset.csv')\n",
    "\n",
    "# Separate features and target\n",
    "X = dataset.drop('target', axis=1)\n",
    "y = dataset['target']\n",
    "\n",
    "# Split the data into training and testing sets (70% training, 30% testing)\n",
    "X_train, X_test, y_train, y_test = train_test_split(X, y, test_size=0.3, random_state=42)\n",
    "\n",
    "# Define the hyperparameter grid for the GridSearchCV\n",
    "param_grid = {\n",
    "    'n_estimators': [50, 100, 150],\n",
    "    'max_depth': [5, 10, 15, None],\n",
    "    'min_samples_split': [2, 5, 10],\n",
    "    'min_samples_leaf': [1, 2, 4]\n",
    "}\n",
    "\n",
    "# Create a Random Forest classifier\n",
    "rf = RandomForestClassifier(random_state=42)\n",
    "\n",
    "# Create GridSearchCV with 5-fold cross-validation\n",
    "grid_search = GridSearchCV(estimator=rf, param_grid=param_grid, cv=5, scoring='accuracy', n_jobs=-1)\n",
    "\n",
    "# Fit the grid search to the training data\n",
    "grid_search.fit(X_train, y_train)\n",
    "\n",
    "# Get the best hyperparameters and the best model\n",
    "best_params = grid_search.best_params_\n",
    "best_model = grid_search.best_estimator_\n",
    "\n",
    "# Evaluate the best model on the test set\n",
    "y_pred = best_model.predict(X_test)\n",
    "\n",
    "# Evaluate the classifier's performance metrics\n",
    "accuracy = accuracy_score(y_test, y_pred)\n",
    "precision = precision_score(y_test, y_pred)\n",
    "recall = recall_score(y_test, y_pred)\n",
    "f1 = f1_score(y_test, y_pred)\n",
    "\n",
    "print(\"Best Hyperparameters:\", best_params)\n",
    "print(\"Accuracy:\", accuracy)\n",
    "print(\"Precision:\", precision)\n",
    "print(\"Recall:\", recall)\n",
    "print(\"F1 Score:\", f1)\n",
    "\n",
    "# Create a default Random Forest classifier\n",
    "default_rf = RandomForestClassifier(random_state=42)\n",
    "\n",
    "# Train the default model on the training set\n",
    "default_rf.fit(X_train, y_train)\n",
    "\n",
    "# Predict on the test set using the default model\n",
    "y_pred_default = default_rf.predict(X_test)\n",
    "\n",
    "# Evaluate the default model's performance metrics\n",
    "accuracy_default = accuracy_score(y_test, y_pred_default)\n",
    "precision_default = precision_score(y_test, y_pred_default)\n",
    "recall_default = recall_score(y_test, y_pred_default)\n",
    "f1_default = f1_score(y_test, y_pred_default)\n",
    "\n",
    "print(\"\\nPerformance Metrics - Default Model:\")\n",
    "print(\"Accuracy:\", accuracy_default)\n",
    "print(\"Precision:\", precision_default)\n",
    "print(\"Recall:\", recall_default)\n",
    "print(\"F1 Score:\", f1_default)"
   ]
  },
  {
   "cell_type": "markdown",
   "id": "520e46a9",
   "metadata": {},
   "source": [
    "we have added the evaluation of the performance metrics for the default Random Forest model. We trained a default Random Forest classifier without tuning any hyperparameters. We then evaluated its performance on the test set using the same metrics as the tuned model.\n",
    "\n",
    "will see the best set of hyperparameters found by the grid search (best_params) and the corresponding performance metrics for the tuned model. Additionally, you will see the performance metrics for the default model. By comparing the performance metrics between the tuned and default models, you can assess how much improvement the hyperparameter tuning has achieved."
   ]
  },
  {
   "cell_type": "markdown",
   "id": "d2e6a0d1",
   "metadata": {},
   "source": [
    "# Q8"
   ]
  },
  {
   "cell_type": "code",
   "execution_count": null,
   "id": "45ec7c58",
   "metadata": {},
   "outputs": [],
   "source": [
    "Q8. Interpret the model by analysing the decision boundaries of the random forest classifier. Plot the\n",
    "decision boundaries on a scatter plot of two of the most important features. Discuss the insights and\n",
    "limitations of the model for predicting heart disease risk."
   ]
  },
  {
   "cell_type": "markdown",
   "id": "21ad8ca6",
   "metadata": {},
   "source": [
    "Ans:-\n",
    "    \n",
    "    Interpreting the decision boundaries of a Random Forest classifier can provide insights into how the model separates the different classes in the feature space. However, since Random Forest is an ensemble method composed of multiple decision trees, visualizing the decision boundaries directly can be challenging. Instead, we can use the two most important features identified earlier to create a scatter plot and color the points based on the predicted class by the Random Forest model. This will give us an idea of how the model separates the data points."
   ]
  },
  {
   "cell_type": "code",
   "execution_count": 18,
   "id": "f5ca2a5e",
   "metadata": {},
   "outputs": [
    {
     "name": "stderr",
     "output_type": "stream",
     "text": [
      "C:\\Users\\Hp\\anaconda3\\lib\\site-packages\\sklearn\\base.py:450: UserWarning: X does not have valid feature names, but RandomForestClassifier was fitted with feature names\n",
      "  warnings.warn(\n"
     ]
    },
    {
     "data": {
      "image/png": "[encoded data removed]",
      "text/plain": [
       "<Figure size 800x600 with 2 Axes>"
      ]
     },
     "metadata": {},
     "output_type": "display_data"
    }
   ],
   "source": [
    "import pandas as pd\n",
    "import numpy as np\n",
    "import matplotlib.pyplot as plt\n",
    "from sklearn.model_selection import train_test_split\n",
    "from sklearn.ensemble import RandomForestClassifier\n",
    "\n",
    "# Load the dataset\n",
    "dataset = pd.read_csv('dataset.csv')\n",
    "\n",
    "# Separate features and target\n",
    "X = dataset.drop('target', axis=1)\n",
    "y = dataset['target']\n",
    "\n",
    "# Split the data into training and testing sets (70% training, 30% testing)\n",
    "X_train, X_test, y_train, y_test = train_test_split(X, y, test_size=0.3, random_state=42)\n",
    "\n",
    "# Create a Random Forest classifier with the best hyperparameters found earlier\n",
    "rf = RandomForestClassifier(n_estimators=100, max_depth=10, min_samples_split=2, min_samples_leaf=1, random_state=42)\n",
    "\n",
    "# Train the classifier on the training data\n",
    "rf.fit(X_train, y_train)\n",
    "\n",
    "# Get the two most important features from the feature importance analysis\n",
    "# Let's assume 'thalach' and 'oldpeak' are the two most important features\n",
    "feature1 = 'thalach'\n",
    "feature2 = 'oldpeak'\n",
    "\n",
    "# Extract the two most important features from the training set\n",
    "X_train_2feat = X_train[[feature1, feature2]]\n",
    "X_test_2feat = X_test[[feature1, feature2]]\n",
    "\n",
    "# Train the Random Forest classifier with the two most important features\n",
    "rf_2feat = RandomForestClassifier(n_estimators=100, max_depth=10, min_samples_split=2, min_samples_leaf=1, random_state=42)\n",
    "\n",
    "# Train the classifier on the training data with two features\n",
    "rf_2feat.fit(X_train_2feat, y_train)\n",
    "\n",
    "# Predict on the test set using the Random Forest classifier with two features\n",
    "y_pred_2feat = rf_2feat.predict(X_test_2feat)\n",
    "\n",
    "# Create a meshgrid of feature values to plot the decision boundaries\n",
    "x_min, x_max = X_test[feature1].min() - 1, X_test[feature1].max() + 1\n",
    "y_min, y_max = X_test[feature2].min() - 1, X_test[feature2].max() + 1\n",
    "xx, yy = np.meshgrid(np.arange(x_min, x_max, 0.1),\n",
    "                     np.arange(y_min, y_max, 0.1))\n",
    "\n",
    "# Predict the classes for each point in the meshgrid\n",
    "Z = rf_2feat.predict(np.c_[xx.ravel(), yy.ravel()])\n",
    "Z = Z.reshape(xx.shape)\n",
    "\n",
    "# Plot the scatter plot with decision boundaries\n",
    "plt.figure(figsize=(8, 6))\n",
    "plt.contourf(xx, yy, Z, alpha=0.4, cmap='viridis')\n",
    "plt.scatter(X_test_2feat[feature1], X_test_2feat[feature2], c=y_test, cmap='viridis', edgecolors='k')\n",
    "plt.xlabel(feature1)\n",
    "plt.ylabel(feature2)\n",
    "plt.title('Decision Boundaries of Random Forest Classifier (Two Features)')\n",
    "plt.colorbar(label='Class')\n",
    "plt.show()"
   ]
  },
  {
   "cell_type": "markdown",
   "id": "16111bd3",
   "metadata": {},
   "source": [
    "In the plot, the decision boundaries are shown as color-filled regions, with different colors representing different classes. The scatter plot shows the actual data points, where the color indicates the true class.\n",
    "\n",
    "Insights and Limitations:\n",
    "\n",
    "Insights: By visualizing the decision boundaries, we can observe how the Random Forest model separates the data points into different classes based on the two most important features. The decision boundaries help us understand the decision-making process of the model and how it distinguishes between individuals at higher or lower risk of heart disease.\n",
    "\n",
    "Limitations: The scatter plot with decision boundaries provides a limited view of the model's performance, as it only considers two features. The Random Forest model may use other features in more complex ways to make predictions. Additionally, the decision boundaries might not be linear or easy to interpret due to the ensemble nature of Random Forest, where multiple trees' decisions are combined.\n",
    "\n",
    "Overall, the Random Forest model can be useful for predicting heart disease risk, especially when using a larger set of features. However, it's essential to interpret its predictions with caution and consider potential limitations, such as the potential for overfitting if hyperparameters are not properly tuned and the need for feature engineering to capture more relevant information from the data. Evaluating the model's performance using various metrics and considering domain knowledge can provide a more comprehensive understanding of its strengths and weaknesses in predicting heart disease risk."
   ]
  },
  {
   "cell_type": "code",
   "execution_count": null,
   "id": "79848a40",
   "metadata": {},
   "outputs": [],
   "source": []
  }
 ],
 "metadata": {
  "kernelspec": {
   "display_name": "Python 3 (ipykernel)",
   "language": "python",
   "name": "python3"
  },
  "language_info": {
   "codemirror_mode": {
    "name": "ipython",
    "version": 3
   },
   "file_extension": ".py",
   "mimetype": "text/x-python",
   "name": "python",
   "nbconvert_exporter": "python",
   "pygments_lexer": "ipython3",
   "version": "3.9.13"
  }
 },
 "nbformat": 4,
 "nbformat_minor": 5
}
