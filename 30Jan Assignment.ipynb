{
 "cells": [
  {
   "cell_type": "markdown",
   "id": "d5eb1637-00dc-4f7f-8e34-c760671e67db",
   "metadata": {},
   "source": [
    "## JAN 30 \n",
    "### Assignment"
   ]
  },
  {
   "cell_type": "markdown",
   "id": "c0fb26db-4f7c-43ca-8487-b3d0093ab7f0",
   "metadata": {},
   "source": [
    "### Q1"
   ]
  },
  {
   "cell_type": "code",
   "execution_count": null,
   "id": "1b1b8b9f-1e4b-4c5e-83ce-c06a69d401f7",
   "metadata": {},
   "outputs": [],
   "source": [
    "# 1. Write a program to accept percentage from the user and display the grade according to the following \n",
    "criteria: \n",
    "Marks \n",
    "Grade \n",
    ">90 \n",
    "A \n",
    ">80 and <=90 \n",
    "B \n",
    ">=60 and <=80 \n",
    "C \n",
    "below 60 \n",
    "D \n"
   ]
  },
  {
   "cell_type": "code",
   "execution_count": null,
   "id": "93e41b82-ca52-4213-82e3-1b68e423349f",
   "metadata": {},
   "outputs": [],
   "source": [
    "#include <stdio.h>\n",
    "\n",
    "int main()\n",
    "{\n",
    "    float marks;\n",
    "    printf(\"Enter Marks:\");\n",
    "    scanf(\"%f\", &marks);\n",
    "\n",
    "    if (marks > 90)\n",
    "        printf(\"Grade A\");\n",
    "    else if (marks > 80 && marks <= 90)\n",
    "        printf(\"Grade B\");\n",
    "    else if (marks >= 60 && marks <= 80)\n",
    "        printf(\"Grade C\");\n",
    "    else if (marks < 60)\n",
    "        printf(\"Grade D\");\n",
    "    return 0;\n",
    "}"
   ]
  },
  {
   "cell_type": "markdown",
   "id": "a92f1130-947f-4bad-94c1-d17fde512f5e",
   "metadata": {},
   "source": [
    "### Q2"
   ]
  },
  {
   "cell_type": "code",
   "execution_count": null,
   "id": "a8c902bc-de81-4e97-a993-c4da4ebb53e7",
   "metadata": {},
   "outputs": [],
   "source": [
    "# Write a program to accept the cost price of a bike and display the road tax to be paid according to the \n",
    "following criteria: \n",
    "Tax \n",
    "15% \n",
    "10% \n",
    "5% \n",
    "Cost Price(in Rs) \n",
    ">100000 \n",
    "5 \n",
    "50000 and <= 100000 \n",
    "<= 50000 \n"
   ]
  },
  {
   "cell_type": "code",
   "execution_count": null,
   "id": "62c06d50-4c68-4f6e-a651-04c0054c9049",
   "metadata": {},
   "outputs": [],
   "source": [
    "#include<stdio.h>\n",
    "int main(){\n",
    "    float cost_price, tax;\n",
    "    printf(\"Enter the cost price of the bike: \");\n",
    "    scanf(\"%f\", &cost_price);\n",
    "    if(cost_price > 100000){\n",
    "        tax = cost_price * 0.15;\n",
    "    }\n",
    "    else if(cost_price <= 100000 && cost_price > 50000){\n",
    "        tax = cost_price * 0.10;\n",
    "    }\n",
    "    else{\n",
    "        tax = cost_price * 0.05;\n",
    "    }\n",
    "    printf(\"The road tax to be paid is Rs. %.2f\", tax);\n",
    "    return 0;\n",
    "}"
   ]
  },
  {
   "cell_type": "markdown",
   "id": "cf6659a9-80dd-4afb-8e2a-6bf6d85ca0aa",
   "metadata": {},
   "source": [
    "### Q3"
   ]
  },
  {
   "cell_type": "code",
   "execution_count": null,
   "id": "1bd753c4-cba9-4109-a357-73e34bdd8cc9",
   "metadata": {},
   "outputs": [],
   "source": [
    "# 3. Accept any city from the user and display monuments of that city. \n",
    "City \n",
    "Delhi \n",
    "Monument \n",
    "Red Fort \n",
    "Taj Mahal \n",
    "Agra \n",
    "Jaipur \n",
    "Jal Mahal \n"
   ]
  },
  {
   "cell_type": "code",
   "execution_count": null,
   "id": "c0b34e44-00f3-4e43-ab32-e7ad03a909a8",
   "metadata": {},
   "outputs": [],
   "source": [
    "# Ans:- Qutub Minar \n",
    "# Humayun's Tomb \n",
    "# India Gate \n",
    "# Akshardham Temple \n",
    "# Lotus Temple \n",
    "# Purana Qila \n",
    "# Rashtrapati Bhavan"
   ]
  },
  {
   "cell_type": "markdown",
   "id": "ecea0ebf-c76e-4c42-a6d8-29e3b0293f2f",
   "metadata": {},
   "source": [
    "### Q4"
   ]
  },
  {
   "cell_type": "code",
   "execution_count": 1,
   "id": "7b33fe68-4cb2-4793-8438-991e2245ed9c",
   "metadata": {},
   "outputs": [],
   "source": [
    "# 4.Check how many times a given number can be divided by 3 before it is less than or equal to 10. \n"
   ]
  },
  {
   "cell_type": "code",
   "execution_count": 2,
   "id": "4824202b-0f36-458e-be40-941898dfa7af",
   "metadata": {},
   "outputs": [],
   "source": [
    "# Ans:- The number can be divided by 3 as many times as necessary until it is less than or equal to 10."
   ]
  },
  {
   "cell_type": "markdown",
   "id": "e51936c1-4f76-4b20-bb5e-4ea62d74c26f",
   "metadata": {},
   "source": [
    "### Q5"
   ]
  },
  {
   "cell_type": "code",
   "execution_count": 3,
   "id": "95c2698d-2f50-484e-a0fb-71a687d4733f",
   "metadata": {},
   "outputs": [],
   "source": [
    "# Q5 Why and When to Use while Loop in Python give a detailed description with example \n"
   ]
  },
  {
   "cell_type": "code",
   "execution_count": 4,
   "id": "1128fc2e-01a5-4dc9-99ed-1ecedf946cec",
   "metadata": {},
   "outputs": [],
   "source": [
    "# For example, if you wanted to print out each item in a list, you could use a while loop.\n"
   ]
  },
  {
   "cell_type": "code",
   "execution_count": 5,
   "id": "3d3bdbe0-0d0a-4433-8a75-e732b50db281",
   "metadata": {},
   "outputs": [],
   "source": [
    "list_items = [1, 2, 3, 4]\n",
    "i = 0"
   ]
  },
  {
   "cell_type": "code",
   "execution_count": 6,
   "id": "2559a813-7ea2-4bda-ade6-6acc89ce04a0",
   "metadata": {},
   "outputs": [
    {
     "name": "stdout",
     "output_type": "stream",
     "text": [
      "1\n",
      "2\n",
      "3\n",
      "4\n"
     ]
    }
   ],
   "source": [
    "while i < len(list_items):\n",
    "    print(list_items[i])\n",
    "    i += 1"
   ]
  },
  {
   "cell_type": "code",
   "execution_count": 7,
   "id": "06f48a6a-d0ba-40b1-b298-dd60e3a16006",
   "metadata": {},
   "outputs": [],
   "source": [
    "# This code will print out each item in the list, starting from the first item and ending with the last item. The while loop will continue to execute until the condition (i < len(list_items)) is no longer true."
   ]
  },
  {
   "cell_type": "markdown",
   "id": "df36d31f-3513-4896-9ac4-0f7b29199739",
   "metadata": {},
   "source": [
    "### Q6"
   ]
  },
  {
   "cell_type": "code",
   "execution_count": 8,
   "id": "ce4830e2-117c-4208-95b4-8d0b981a3844",
   "metadata": {},
   "outputs": [],
   "source": [
    "# Q6 Use nested while loop to print 3 different pattern. \n"
   ]
  },
  {
   "cell_type": "code",
   "execution_count": null,
   "id": "d89ba0d5-35a5-4dee-9087-c351b2e3d577",
   "metadata": {},
   "outputs": [],
   "source": [
    "# Pattern 1:"
   ]
  },
  {
   "cell_type": "code",
   "execution_count": 9,
   "id": "4420ebe7-89b6-4875-a7fb-05394376ad3b",
   "metadata": {},
   "outputs": [
    {
     "name": "stdout",
     "output_type": "stream",
     "text": [
      "****\n",
      "*****\n"
     ]
    }
   ],
   "source": [
    "while (i < 6):\n",
    "  j = 0\n",
    "  while (j < i):\n",
    "    print(\"*\", end=\"\")\n",
    "    j += 1\n",
    "  print(\"\")\n",
    "  i += 1"
   ]
  },
  {
   "cell_type": "code",
   "execution_count": null,
   "id": "355e4f55-2735-4c8f-a683-9105edee5ee5",
   "metadata": {},
   "outputs": [],
   "source": [
    "# Pattern 2:"
   ]
  },
  {
   "cell_type": "code",
   "execution_count": 10,
   "id": "eeedc4a3-8b7c-4ca8-80d2-a1cef3cfa3db",
   "metadata": {},
   "outputs": [
    {
     "name": "stdout",
     "output_type": "stream",
     "text": [
      "******\n",
      "*****\n",
      "****\n",
      "***\n",
      "**\n",
      "*\n"
     ]
    }
   ],
   "source": [
    "i = 6\n",
    "while (i > 0):\n",
    "  j = 0\n",
    "  while (j < i):\n",
    "    print(\"*\", end=\"\")\n",
    "    j += 1\n",
    "  print(\"\")\n",
    "  i -= 1"
   ]
  },
  {
   "cell_type": "code",
   "execution_count": null,
   "id": "b10c143f-e6f5-43f2-a9b3-c21d5b5b4475",
   "metadata": {},
   "outputs": [],
   "source": [
    "# Pattern 3:"
   ]
  },
  {
   "cell_type": "code",
   "execution_count": 11,
   "id": "b62c8d2b-0b51-4097-b4f4-59ba479909f5",
   "metadata": {},
   "outputs": [
    {
     "name": "stdout",
     "output_type": "stream",
     "text": [
      "     *\n",
      "    **\n",
      "   ***\n",
      "  ****\n",
      " *****\n"
     ]
    }
   ],
   "source": [
    "i = 1\n",
    "while (i < 6):\n",
    "  j = 0\n",
    "  while (j < 6 - i):\n",
    "    print(\" \", end=\"\")\n",
    "    j += 1\n",
    "  while (j < 6):\n",
    "    print(\"*\", end=\"\")\n",
    "    j += 1\n",
    "  print(\"\")\n",
    "  i += 1"
   ]
  },
  {
   "cell_type": "markdown",
   "id": "7fd472d4-eb09-4fd4-86ae-f5b01ee02f88",
   "metadata": {},
   "source": [
    "### Q7"
   ]
  },
  {
   "cell_type": "code",
   "execution_count": 12,
   "id": "56cbfcfe-a4cd-4551-9896-fc905c404b1b",
   "metadata": {},
   "outputs": [],
   "source": [
    "# Q7 Reverse a while loop to display numbers from 10 to 1. "
   ]
  },
  {
   "cell_type": "code",
   "execution_count": 13,
   "id": "33f58c1a-99ba-47ab-b269-3c56f2810942",
   "metadata": {},
   "outputs": [
    {
     "name": "stdout",
     "output_type": "stream",
     "text": [
      "10\n",
      "9\n",
      "8\n",
      "7\n",
      "6\n",
      "5\n",
      "4\n",
      "3\n",
      "2\n",
      "1\n"
     ]
    }
   ],
   "source": [
    "for i in range(10, 0, -1):\n",
    "    print(i)"
   ]
  },
  {
   "cell_type": "markdown",
   "id": "eb77218b-d9c6-4864-a7c2-7e4bcb0358bd",
   "metadata": {},
   "source": [
    "## Q8"
   ]
  },
  {
   "cell_type": "code",
   "execution_count": null,
   "id": "969ea54d-3aa2-419e-9c09-25136028935a",
   "metadata": {},
   "outputs": [],
   "source": [
    "# Q8 Reverse a while loop to display numbers from 10 to 1 \n"
   ]
  },
  {
   "cell_type": "code",
   "execution_count": 14,
   "id": "284e0f1a-ad57-4a09-8a94-4dbd62f8880a",
   "metadata": {},
   "outputs": [
    {
     "name": "stdout",
     "output_type": "stream",
     "text": [
      "10\n",
      "9\n",
      "8\n",
      "7\n",
      "6\n",
      "5\n",
      "4\n",
      "3\n",
      "2\n",
      "1\n"
     ]
    }
   ],
   "source": [
    "i = 10\n",
    "while i > 0:\n",
    "    print(i)\n",
    "    i = i - 1"
   ]
  },
  {
   "cell_type": "code",
   "execution_count": null,
   "id": "51a81829-efb2-48ab-afe9-7db801132d9c",
   "metadata": {},
   "outputs": [],
   "source": []
  },
  {
   "cell_type": "code",
   "execution_count": null,
   "id": "1587b895-3bca-479a-9e1a-acd28289a303",
   "metadata": {},
   "outputs": [],
   "source": []
  }
 ],
 "metadata": {
  "kernelspec": {
   "display_name": "Python 3 (ipykernel)",
   "language": "python",
   "name": "python3"
  },
  "language_info": {
   "codemirror_mode": {
    "name": "ipython",
    "version": 3
   },
   "file_extension": ".py",
   "mimetype": "text/x-python",
   "name": "python",
   "nbconvert_exporter": "python",
   "pygments_lexer": "ipython3",
   "version": "3.10.8"
  }
 },
 "nbformat": 4,
 "nbformat_minor": 5
}
