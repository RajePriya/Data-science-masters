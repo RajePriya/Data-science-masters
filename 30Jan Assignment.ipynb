{
 "cells": [
  {
   "cell_type": "markdown",
   "id": "d5eb1637-00dc-4f7f-8e34-c760671e67db",
   "metadata": {},
   "source": [
    "## JAN 30 \n",
    "### Assignment"
   ]
  },
  {
   "cell_type": "markdown",
   "id": "c0fb26db-4f7c-43ca-8487-b3d0093ab7f0",
   "metadata": {},
   "source": [
    "### Q1"
   ]
  },
  {
   "cell_type": "code",
   "execution_count": null,
   "id": "1b1b8b9f-1e4b-4c5e-83ce-c06a69d401f7",
   "metadata": {},
   "outputs": [],
   "source": [
    "# 1. Write a program to accept percentage from the user and display the grade according to the following \n",
    "criteria: \n",
    "Marks \n",
    "Grade \n",
    ">90 \n",
    "A \n",
    ">80 and <=90 \n",
    "B \n",
    ">=60 and <=80 \n",
    "C \n",
    "below 60 \n",
    "D \n"
   ]
  },
  {
   "cell_type": "code",
   "execution_count": null,
   "id": "f285a684-dec0-4131-af77-b0ec2f79fe60",
   "metadata": {},
   "outputs": [],
   "source": [
    "Ans:- Here is a Python program that accepts a percentage from the user and displays the corresponding grade:"
   ]
  },
  {
   "cell_type": "code",
   "execution_count": 2,
   "id": "6a90942a-7a4e-48cb-a77a-b40347b7c321",
   "metadata": {},
   "outputs": [
    {
     "name": "stdin",
     "output_type": "stream",
     "text": [
      "Enter percentage:  85\n"
     ]
    },
    {
     "name": "stdout",
     "output_type": "stream",
     "text": [
      "Grade:  B\n"
     ]
    }
   ],
   "source": [
    "percentage = float(input(\"Enter percentage: \"))\n",
    "\n",
    "if percentage > 90:\n",
    "    grade = \"A\"\n",
    "elif percentage > 80:\n",
    "    grade = \"B\"\n",
    "elif percentage >= 60:\n",
    "    grade = \"C\"\n",
    "else:\n",
    "    grade = \"D\"\n",
    "\n",
    "print(\"Grade: \", grade)\n"
   ]
  },
  {
   "cell_type": "code",
   "execution_count": null,
   "id": "0bb8f14d-a98d-40b3-994f-94e14297a742",
   "metadata": {},
   "outputs": [],
   "source": [
    "In this program, we first accept the percentage from the user using the input() function and convert it to a float using the float() function. \n",
    "We then use a series of if and elif statements to check the percentage and assign the corresponding grade to the grade variable. Finally, we use the \n",
    "print() function to display the grade to the user."
   ]
  },
  {
   "cell_type": "markdown",
   "id": "a92f1130-947f-4bad-94c1-d17fde512f5e",
   "metadata": {},
   "source": [
    "### Q2"
   ]
  },
  {
   "cell_type": "code",
   "execution_count": null,
   "id": "a8c902bc-de81-4e97-a993-c4da4ebb53e7",
   "metadata": {},
   "outputs": [],
   "source": [
    "2. Write a program to accept the cost price of a bike and display the road tax to be paid according to the \n",
    "following criteria: \n",
    "Tax \n",
    "15% \n",
    "10% \n",
    "5% \n",
    "Cost Price(in Rs) \n",
    ">100000 \n",
    "5 \n",
    "50000 and <= 100000 \n",
    "<= 50000 \n"
   ]
  },
  {
   "cell_type": "code",
   "execution_count": null,
   "id": "3483f534-1e3e-4614-8cb6-e6f723471564",
   "metadata": {},
   "outputs": [],
   "source": [
    "Ans:- Here's a Python program that accepts the cost price of a bike and displays the road tax to be paid according to the given criteria:"
   ]
  },
  {
   "cell_type": "code",
   "execution_count": 3,
   "id": "1daf7a27-6c30-4562-947d-0570709454ce",
   "metadata": {},
   "outputs": [
    {
     "name": "stdin",
     "output_type": "stream",
     "text": [
      "Enter cost price of the bike:  150000\n"
     ]
    },
    {
     "name": "stdout",
     "output_type": "stream",
     "text": [
      "Road tax to be paid: Rs.  22500.0\n"
     ]
    }
   ],
   "source": [
    "cost_price = float(input(\"Enter cost price of the bike: \"))\n",
    "\n",
    "if cost_price > 100000:\n",
    "    road_tax = cost_price * 0.15\n",
    "elif cost_price > 50000:\n",
    "    road_tax = cost_price * 0.1\n",
    "else:\n",
    "    road_tax = cost_price * 0.05\n",
    "\n",
    "print(\"Road tax to be paid: Rs. \", road_tax)\n"
   ]
  },
  {
   "cell_type": "code",
   "execution_count": null,
   "id": "349cf51a-b4b6-4411-9b81-00c76736fff7",
   "metadata": {},
   "outputs": [],
   "source": [
    "In this program, we first accept the cost price of the bike from the user using the input() function and convert it to a float using the float() \n",
    "function. We then use a series of if and elif statements to check the cost price and calculate the corresponding road tax using the given criteria. \n",
    "Finally, we use the print() function to display the road tax to the user."
   ]
  },
  {
   "cell_type": "markdown",
   "id": "cf6659a9-80dd-4afb-8e2a-6bf6d85ca0aa",
   "metadata": {},
   "source": [
    "### Q3"
   ]
  },
  {
   "cell_type": "code",
   "execution_count": null,
   "id": "1bd753c4-cba9-4109-a357-73e34bdd8cc9",
   "metadata": {},
   "outputs": [],
   "source": [
    "3. Accept any city from the user and display monuments of that city. \n",
    "City \n",
    "Delhi \n",
    "Monument \n",
    "Red Fort \n",
    "Taj Mahal \n",
    "Agra \n",
    "Jaipur \n",
    "Jal Mahal \n"
   ]
  },
  {
   "cell_type": "code",
   "execution_count": 4,
   "id": "fe0bdd79-7a11-43c9-a61f-f74950cd750e",
   "metadata": {},
   "outputs": [
    {
     "name": "stdin",
     "output_type": "stream",
     "text": [
      "Enter a city:  delhi\n"
     ]
    },
    {
     "name": "stdout",
     "output_type": "stream",
     "text": [
      "Monuments in Delhi:\n",
      " - Red Fort\n",
      " - Qutub Minar\n",
      " - Humayun's Tomb\n"
     ]
    }
   ],
   "source": [
    "city = input(\"Enter a city: \")\n",
    "\n",
    "if city.lower() == \"delhi\":\n",
    "    print(\"Monuments in Delhi:\")\n",
    "    print(\" - Red Fort\")\n",
    "    print(\" - Qutub Minar\")\n",
    "    print(\" - Humayun's Tomb\")\n",
    "elif city.lower() == \"agra\":\n",
    "    print(\"Monuments in Agra:\")\n",
    "    print(\" - Taj Mahal\")\n",
    "    print(\" - Agra Fort\")\n",
    "elif city.lower() == \"jaipur\":\n",
    "    print(\"Monuments in Jaipur:\")\n",
    "    print(\" - Hawa Mahal\")\n",
    "    print(\" - Amber Fort\")\n",
    "    print(\" - Jal Mahal\")\n",
    "else:\n",
    "    print(\"Sorry, we don't have information about monuments in that city.\")\n"
   ]
  },
  {
   "cell_type": "code",
   "execution_count": null,
   "id": "377ebc78-dfe9-4633-83a9-d3d88b62862c",
   "metadata": {},
   "outputs": [],
   "source": [
    "In this program, we first accept the name of the city from the user using the input() function. We then use a series of if and elif statements to \n",
    "check the city name and display the corresponding monuments using the print() function. If the user enters a city that is not listed, we display a \n",
    "message saying that we don't have information about monuments in that city. The .lower() function is used to convert the input to lowercase so that \n",
    "the program can match it with the correct city names, regardless of capitalization."
   ]
  },
  {
   "cell_type": "markdown",
   "id": "ecea0ebf-c76e-4c42-a6d8-29e3b0293f2f",
   "metadata": {},
   "source": [
    "### Q4"
   ]
  },
  {
   "cell_type": "code",
   "execution_count": 1,
   "id": "7b33fe68-4cb2-4793-8438-991e2245ed9c",
   "metadata": {},
   "outputs": [],
   "source": [
    "4. Check how many times a given number can be divided by 3 before it is less than or equal to 10. \n"
   ]
  },
  {
   "cell_type": "code",
   "execution_count": null,
   "id": "64bf6bf6-89f4-4ba7-a1fe-c13e4277389a",
   "metadata": {},
   "outputs": [],
   "source": [
    "Ans:- Here's a Python program that checks how many times a given number can be divided by 3 before it is less than or equal to 10:"
   ]
  },
  {
   "cell_type": "code",
   "execution_count": 5,
   "id": "2137a4ab-98ae-412b-86a5-63808f42586c",
   "metadata": {},
   "outputs": [
    {
     "name": "stdin",
     "output_type": "stream",
     "text": [
      "Enter a number:  9\n"
     ]
    },
    {
     "name": "stdout",
     "output_type": "stream",
     "text": [
      "The number can be divided by 3 0 times before it is less than or equal to 10.\n"
     ]
    }
   ],
   "source": [
    "num = int(input(\"Enter a number: \"))\n",
    "\n",
    "count = 0\n",
    "while num > 10:\n",
    "    num /= 3\n",
    "    count += 1\n",
    "\n",
    "print(\"The number can be divided by 3\", count, \"times before it is less than or equal to 10.\")\n"
   ]
  },
  {
   "cell_type": "code",
   "execution_count": null,
   "id": "44201b50-11ac-4d08-a883-e91f6847dd45",
   "metadata": {},
   "outputs": [],
   "source": [
    "In this program, we first accept a number from the user using the input() function and convert it to an integer using the int() function. \n",
    "We then initialize a variable count to 0 to keep track of the number of times we divide the number by 3. We use a while loop to repeatedly divide \n",
    "the number by 3 and increment the count variable until the number becomes less than or equal to 10. Finally, we use the print() function to display \n",
    "the number of times the number can be divided by 3 before it is less than or equal to 10."
   ]
  },
  {
   "cell_type": "markdown",
   "id": "e51936c1-4f76-4b20-bb5e-4ea62d74c26f",
   "metadata": {},
   "source": [
    "### Q5"
   ]
  },
  {
   "cell_type": "code",
   "execution_count": 3,
   "id": "95c2698d-2f50-484e-a0fb-71a687d4733f",
   "metadata": {},
   "outputs": [],
   "source": [
    "5. Why and When to Use while Loop in Python give a detailed description with example "
   ]
  },
  {
   "cell_type": "code",
   "execution_count": null,
   "id": "d651f8bc-a9d9-4bd0-8584-d3d4f39a76b9",
   "metadata": {},
   "outputs": [],
   "source": [
    "Ans:- In Python, a while loop is used when we want to execute a block of code repeatedly until a certain condition is met. The loop will continue to\n",
    "execute as long as the condition is true, and will exit the loop as soon as the condition becomes false. while loops are useful when \n",
    "we don't know exactly how many times we need to iterate, but we know the condition that determines when we should stop.\n",
    "\n",
    "Here's an example to illustrate the use of a while loop:"
   ]
  },
  {
   "cell_type": "code",
   "execution_count": 6,
   "id": "df871675-e9f4-49f1-85eb-febed5cae00c",
   "metadata": {},
   "outputs": [
    {
     "name": "stdout",
     "output_type": "stream",
     "text": [
      "The count is 0\n",
      "The count is 1\n",
      "The count is 2\n",
      "The count is 3\n",
      "The count is 4\n"
     ]
    }
   ],
   "source": [
    "count = 0\n",
    "while count < 5:\n",
    "    print(\"The count is\", count)\n",
    "    count += 1\n"
   ]
  },
  {
   "cell_type": "code",
   "execution_count": null,
   "id": "821d8f17-23f3-401d-aca2-8ef8babd666a",
   "metadata": {},
   "outputs": [],
   "source": [
    "In this program, we use a while loop to print a message and increment a counter variable count until it reaches a value of 5. The loop will \n",
    "continue to execute as long as the value of count is less than 5. Inside the loop, we use the print() function to display a message that includes \n",
    "the current value of count. We then use the += operator to increment the value of count by 1 on each iteration.\n",
    "\n",
    "When we run this program, we'll see the following output:"
   ]
  },
  {
   "cell_type": "code",
   "execution_count": null,
   "id": "935f58b4-f691-486a-9c7f-11f60e0c4b9b",
   "metadata": {},
   "outputs": [],
   "source": [
    "As we can see, the loop runs 5 times, with the value of count increasing by 1 on each iteration, until the condition count < 5 is no longer true.\n",
    "\n",
    "In general, we use a while loop when we want to execute a block of code repeatedly until a certain condition is met, and we \n",
    "don't know in advance exactly how many times we need to iterate. Some common use cases for while loops include:\n",
    "\n",
    "=> Reading data from a file until a certain condition is met\n",
    "=> Repeating an operation until a certain accuracy is achieved\n",
    "=> Waiting for user input until a certain key is pressed or a certain condition is met\n",
    "=> Implementing a game loop that runs until a certain condition (e.g. game over) is met."
   ]
  },
  {
   "cell_type": "markdown",
   "id": "df36d31f-3513-4896-9ac4-0f7b29199739",
   "metadata": {},
   "source": [
    "### Q6"
   ]
  },
  {
   "cell_type": "code",
   "execution_count": 8,
   "id": "ce4830e2-117c-4208-95b4-8d0b981a3844",
   "metadata": {},
   "outputs": [],
   "source": [
    "6. Use nested while loop to print 3 different pattern. "
   ]
  },
  {
   "cell_type": "code",
   "execution_count": null,
   "id": "ae58a283-2c8c-4f2f-8ab9-982a125fd27c",
   "metadata": {},
   "outputs": [],
   "source": [
    "Ans:- Here are three different patterns that can be printed using nested while loops:"
   ]
  },
  {
   "cell_type": "code",
   "execution_count": null,
   "id": "ac281e7e-05c9-4e72-8159-07f05129513b",
   "metadata": {},
   "outputs": [],
   "source": [
    "1. Square Pattern:"
   ]
  },
  {
   "cell_type": "code",
   "execution_count": null,
   "id": "e4b69522-161e-483f-8c76-b9c5958679b3",
   "metadata": {},
   "outputs": [],
   "source": [
    "*****\n",
    "*****\n",
    "*****\n"
   ]
  },
  {
   "cell_type": "code",
   "execution_count": null,
   "id": "3044e815-2092-43f9-821c-682990ec9369",
   "metadata": {},
   "outputs": [],
   "source": [
    "Code:"
   ]
  },
  {
   "cell_type": "code",
   "execution_count": 8,
   "id": "96fa42ad-031d-43ea-a1b0-72a73d27d2c3",
   "metadata": {},
   "outputs": [
    {
     "name": "stdout",
     "output_type": "stream",
     "text": [
      "*****\n",
      "*****\n",
      "*****\n"
     ]
    }
   ],
   "source": [
    "row = 1\n",
    "while row <= 3:\n",
    "    col = 1\n",
    "    while col <= 5:\n",
    "        print(\"*\", end=\"\")\n",
    "        col += 1\n",
    "    print()\n",
    "    row += 1\n"
   ]
  },
  {
   "cell_type": "code",
   "execution_count": null,
   "id": "df66a3ac-ed3f-46a9-8c10-e034c9d0894f",
   "metadata": {},
   "outputs": [],
   "source": [
    "2. Right Angle Triangle:"
   ]
  },
  {
   "cell_type": "code",
   "execution_count": null,
   "id": "480c8670-c824-4337-a8f7-9d32c7f778bd",
   "metadata": {},
   "outputs": [],
   "source": [
    "*\n",
    "**\n",
    "***\n"
   ]
  },
  {
   "cell_type": "code",
   "execution_count": 10,
   "id": "89f2b444-6da4-479c-97a3-6c0559059835",
   "metadata": {},
   "outputs": [
    {
     "name": "stdout",
     "output_type": "stream",
     "text": [
      "*\n",
      "**\n",
      "***\n"
     ]
    }
   ],
   "source": [
    "row = 1\n",
    "while row <= 3:\n",
    "    col = 1\n",
    "    while col <= row:\n",
    "        print(\"*\", end=\"\")\n",
    "        col += 1\n",
    "    print()\n",
    "    row += 1\n"
   ]
  },
  {
   "cell_type": "code",
   "execution_count": null,
   "id": "bcf9db12-265a-4a2a-9115-0749eb631738",
   "metadata": {},
   "outputs": [],
   "source": [
    "3. Diamond Pattern:"
   ]
  },
  {
   "cell_type": "code",
   "execution_count": null,
   "id": "0e116570-c30c-4fec-9a5b-f4bca7275176",
   "metadata": {},
   "outputs": [],
   "source": [
    "  *\n",
    " ***\n",
    "*****\n",
    " ***\n",
    "  *\n"
   ]
  },
  {
   "cell_type": "code",
   "execution_count": 11,
   "id": "d6c76868-1bcc-440c-a2ac-d86c30f19e13",
   "metadata": {},
   "outputs": [
    {
     "name": "stdout",
     "output_type": "stream",
     "text": [
      "  *\n",
      " ***\n",
      "*****\n",
      " ***\n",
      "  *\n"
     ]
    }
   ],
   "source": [
    "row = 1\n",
    "while row <= 5:\n",
    "    col = 1\n",
    "    spaces = abs(3 - row)\n",
    "    while spaces >= col:\n",
    "        print(\" \", end=\"\")\n",
    "        col += 1\n",
    "    col = 1\n",
    "    stars = 5 - (2 * spaces)\n",
    "    while stars >= col:\n",
    "        print(\"*\", end=\"\")\n",
    "        col += 1\n",
    "    print()\n",
    "    row += 1\n"
   ]
  },
  {
   "cell_type": "markdown",
   "id": "7fd472d4-eb09-4fd4-86ae-f5b01ee02f88",
   "metadata": {},
   "source": [
    "### Q7"
   ]
  },
  {
   "cell_type": "code",
   "execution_count": 12,
   "id": "56cbfcfe-a4cd-4551-9896-fc905c404b1b",
   "metadata": {},
   "outputs": [],
   "source": [
    "7. Reverse a while loop to display numbers from 10 to 1. "
   ]
  },
  {
   "cell_type": "code",
   "execution_count": null,
   "id": "10e8923d-94f6-436b-a98b-699063c8ec6d",
   "metadata": {},
   "outputs": [],
   "source": [
    "Ans:- To display numbers from 10 to 1 using a while loop, you can initialize a variable with a value of 10 and decrement it by 1 in each iteration \n",
    "of the loop. Here's an example code snippet to achieve this:"
   ]
  },
  {
   "cell_type": "code",
   "execution_count": 12,
   "id": "54ea9951-273a-4c86-b5f9-3321018d9cdd",
   "metadata": {},
   "outputs": [
    {
     "name": "stdout",
     "output_type": "stream",
     "text": [
      "10\n",
      "9\n",
      "8\n",
      "7\n",
      "6\n",
      "5\n",
      "4\n",
      "3\n",
      "2\n",
      "1\n"
     ]
    }
   ],
   "source": [
    "num = 10\n",
    "while num >= 1:\n",
    "    print(num)\n",
    "    num -= 1\n"
   ]
  },
  {
   "cell_type": "code",
   "execution_count": null,
   "id": "863ae0e6-1455-43f2-a447-02b20f30a301",
   "metadata": {},
   "outputs": [],
   "source": [
    "This loop will start with the value 10 and print it to the console. In each subsequent iteration, it will decrement the value of num by\n",
    "1 and print the new value until num reaches 1. The loop will then terminate. "
   ]
  },
  {
   "cell_type": "markdown",
   "id": "eb77218b-d9c6-4864-a7c2-7e4bcb0358bd",
   "metadata": {},
   "source": [
    "## Q8"
   ]
  },
  {
   "cell_type": "code",
   "execution_count": null,
   "id": "969ea54d-3aa2-419e-9c09-25136028935a",
   "metadata": {},
   "outputs": [],
   "source": [
    "8. Reverse a while loop to display numbers from 10 to 1 "
   ]
  },
  {
   "cell_type": "code",
   "execution_count": null,
   "id": "314295ef-69fc-4678-86e4-ce71bf6f3d8d",
   "metadata": {},
   "outputs": [],
   "source": [
    "Ans:- To display numbers from 10 to 1 in reverse order using a while loop, you can initialize a variable with a value of 10 and decrement it by \n",
    "1 in each iteration of the loop until it reaches 1. Here's an example code snippet to achieve this:"
   ]
  },
  {
   "cell_type": "code",
   "execution_count": 13,
   "id": "71bfdbbe-98f8-41ca-8d1a-348215809558",
   "metadata": {},
   "outputs": [
    {
     "name": "stdout",
     "output_type": "stream",
     "text": [
      "10\n",
      "9\n",
      "8\n",
      "7\n",
      "6\n",
      "5\n",
      "4\n",
      "3\n",
      "2\n",
      "1\n"
     ]
    }
   ],
   "source": [
    "num = 10\n",
    "while num >= 1:\n",
    "    print(num)\n",
    "    num -= 1\n"
   ]
  },
  {
   "cell_type": "code",
   "execution_count": null,
   "id": "3bb0f8e7-aeea-47cb-ad22-e887409d2482",
   "metadata": {},
   "outputs": [],
   "source": [
    "This loop will start with the value 10 and print it to the console. In each subsequent iteration, it will decrement the value of num by\n",
    "1 and print the new value until num reaches 1. The loop will then terminate. "
   ]
  },
  {
   "cell_type": "code",
   "execution_count": null,
   "id": "174a0d06-55a3-45ff-85af-9782f442351b",
   "metadata": {},
   "outputs": [],
   "source": []
  }
 ],
 "metadata": {
  "kernelspec": {
   "display_name": "Python 3 (ipykernel)",
   "language": "python",
   "name": "python3"
  },
  "language_info": {
   "codemirror_mode": {
    "name": "ipython",
    "version": 3
   },
   "file_extension": ".py",
   "mimetype": "text/x-python",
   "name": "python",
   "nbconvert_exporter": "python",
   "pygments_lexer": "ipython3",
   "version": "3.10.8"
  }
 },
 "nbformat": 4,
 "nbformat_minor": 5
}
