{
 "cells": [
  {
   "cell_type": "markdown",
   "id": "6cb2333d-2550-493e-8b13-687d8aca52f6",
   "metadata": {},
   "source": [
    "## 13 FEB\n",
    "### ASSIGNMENT"
   ]
  },
  {
   "cell_type": "markdown",
   "id": "40d6bb88-1aa3-4e34-9b4f-6702a3f81ba5",
   "metadata": {},
   "source": [
    "### Q1"
   ]
  },
  {
   "cell_type": "code",
   "execution_count": null,
   "id": "14c1656e-f9f1-415d-983a-9930b4956e51",
   "metadata": {},
   "outputs": [],
   "source": [
    "Q1. Explain why we have to use the Exception class while creating a Custom Exception.\n",
    "Note: Here Exception class refers to the base class for all the exceptions."
   ]
  },
  {
   "cell_type": "code",
   "execution_count": null,
   "id": "20ac9b16-03a7-4f75-a953-04729474e6a3",
   "metadata": {},
   "outputs": [],
   "source": [
    "Ans:- In Python, the Exception class is the base class for all built-in exceptions. This means that all other built-in exception classes, such as ValueError, TypeError, IndexError, \n",
    "and so on, are derived from the Exception class.\n",
    "\n",
    "When creating a custom exception in Python, it is recommended to inherit from the Exception class or one of its subclasses. This is because the \n",
    "Exception class provides a standard interface and set of methods for handling and raising exceptions, which makes it easier to work with custom \n",
    "exceptions in a consistent way.\n",
    "\n",
    "By inheriting from the Exception class, our custom exception class will have access to all the methods and attributes of the base class, such as\n",
    "the args attribute, which allows us to pass a message or other data along with the exception.\n",
    "\n",
    "For example, if we define a custom exception class like this:"
   ]
  },
  {
   "cell_type": "code",
   "execution_count": 1,
   "id": "5ca29ab9-989b-4ced-bc76-202dea7f4dde",
   "metadata": {},
   "outputs": [],
   "source": [
    "class MyCustomException(Exception):\n",
    "    pass\n"
   ]
  },
  {
   "cell_type": "code",
   "execution_count": null,
   "id": "7f544d46-08b9-46a5-b307-74be05b8933d",
   "metadata": {},
   "outputs": [],
   "source": [
    "Our MyCustomException class will automatically inherit all the methods and attributes of the Exception class, which makes it\n",
    "easy to handle and raise our custom exception in a consistent way.\n",
    "\n",
    "In summary, we use the Exception class as the base class for our custom exceptions in Python because it provides a standard interface and set \n",
    "of methods for handling and raising exceptions, which makes it easier to work with custom exceptions in a consistent way."
   ]
  },
  {
   "cell_type": "markdown",
   "id": "fd52ac8a-f573-4678-9323-83bf0972240d",
   "metadata": {},
   "source": [
    "### Q2"
   ]
  },
  {
   "cell_type": "code",
   "execution_count": null,
   "id": "757a669f-bf65-4bdf-bd07-a33f9d2292a6",
   "metadata": {},
   "outputs": [],
   "source": [
    "Q2. Write a python program to print Python Exception Hierarchy."
   ]
  },
  {
   "cell_type": "code",
   "execution_count": null,
   "id": "87845379-2944-4d9f-b6b9-1c19b74e14e9",
   "metadata": {},
   "outputs": [],
   "source": [
    "You can use the help() function in Python to print the Python exception hierarchy. Here's an example program:"
   ]
  },
  {
   "cell_type": "code",
   "execution_count": 2,
   "id": "9fad5157-27b6-412a-858a-38ea734ecf66",
   "metadata": {},
   "outputs": [
    {
     "name": "stdout",
     "output_type": "stream",
     "text": [
      "Help on class Exception in module builtins:\n",
      "\n",
      "class Exception(BaseException)\n",
      " |  Common base class for all non-exit exceptions.\n",
      " |  \n",
      " |  Method resolution order:\n",
      " |      Exception\n",
      " |      BaseException\n",
      " |      object\n",
      " |  \n",
      " |  Built-in subclasses:\n",
      " |      ArithmeticError\n",
      " |      AssertionError\n",
      " |      AttributeError\n",
      " |      BufferError\n",
      " |      ... and 15 other subclasses\n",
      " |  \n",
      " |  Methods defined here:\n",
      " |  \n",
      " |  __init__(self, /, *args, **kwargs)\n",
      " |      Initialize self.  See help(type(self)) for accurate signature.\n",
      " |  \n",
      " |  ----------------------------------------------------------------------\n",
      " |  Static methods defined here:\n",
      " |  \n",
      " |  __new__(*args, **kwargs) from builtins.type\n",
      " |      Create and return a new object.  See help(type) for accurate signature.\n",
      " |  \n",
      " |  ----------------------------------------------------------------------\n",
      " |  Methods inherited from BaseException:\n",
      " |  \n",
      " |  __delattr__(self, name, /)\n",
      " |      Implement delattr(self, name).\n",
      " |  \n",
      " |  __getattribute__(self, name, /)\n",
      " |      Return getattr(self, name).\n",
      " |  \n",
      " |  __reduce__(...)\n",
      " |      Helper for pickle.\n",
      " |  \n",
      " |  __repr__(self, /)\n",
      " |      Return repr(self).\n",
      " |  \n",
      " |  __setattr__(self, name, value, /)\n",
      " |      Implement setattr(self, name, value).\n",
      " |  \n",
      " |  __setstate__(...)\n",
      " |  \n",
      " |  __str__(self, /)\n",
      " |      Return str(self).\n",
      " |  \n",
      " |  with_traceback(...)\n",
      " |      Exception.with_traceback(tb) --\n",
      " |      set self.__traceback__ to tb and return self.\n",
      " |  \n",
      " |  ----------------------------------------------------------------------\n",
      " |  Data descriptors inherited from BaseException:\n",
      " |  \n",
      " |  __cause__\n",
      " |      exception cause\n",
      " |  \n",
      " |  __context__\n",
      " |      exception context\n",
      " |  \n",
      " |  __dict__\n",
      " |  \n",
      " |  __suppress_context__\n",
      " |  \n",
      " |  __traceback__\n",
      " |  \n",
      " |  args\n",
      "\n"
     ]
    }
   ],
   "source": [
    "help(Exception)\n"
   ]
  },
  {
   "cell_type": "code",
   "execution_count": null,
   "id": "34f39b6f-8f68-41eb-9a3e-bc14c330ef6c",
   "metadata": {},
   "outputs": [],
   "source": [
    "When you run this program, it will print out the documentation for the Exception class, which is the base class for all built-in exceptions in Python.\n",
    "This documentation includes a list of all the built-in exceptions, along with their names and descriptions, organized in a hierarchical structure.\n",
    "\n",
    "If you want to print out only the exception hierarchy without the rest of the documentation, you can use the dir() function to get a list of the \n",
    "attributes of the Exception class, and then filter out the ones that are not exception classes. Here's an example program that does this:"
   ]
  },
  {
   "cell_type": "code",
   "execution_count": 3,
   "id": "9a2f082c-8082-45b5-bb13-0bf031ef4818",
   "metadata": {},
   "outputs": [],
   "source": [
    "for name in dir(Exception):\n",
    "    obj = getattr(Exception, name)\n",
    "    if isinstance(obj, type) and issubclass(obj, BaseException):\n",
    "        print(name)\n"
   ]
  },
  {
   "cell_type": "code",
   "execution_count": null,
   "id": "128d270a-44a2-443a-8356-452588a83653",
   "metadata": {},
   "outputs": [],
   "source": [
    "When you run this program, it will print out the names of all the built-in exception classes, organized in a hierarchical structure."
   ]
  },
  {
   "cell_type": "markdown",
   "id": "5c98ec6e-7145-4673-974d-7b3749356124",
   "metadata": {},
   "source": [
    "### Q3"
   ]
  },
  {
   "cell_type": "code",
   "execution_count": null,
   "id": "bdc46aaf-e5e2-47c2-b01d-451942636f3d",
   "metadata": {},
   "outputs": [],
   "source": [
    "Q3. What errors are defined in the ArithmeticError class? Explain any two with an example."
   ]
  },
  {
   "cell_type": "code",
   "execution_count": null,
   "id": "24dac3c7-82c1-490e-b840-1fa45aa3b8b2",
   "metadata": {},
   "outputs": [],
   "source": [
    "The ArithmeticError class in Python is a base class for all errors that occur during arithmetic operations. It itself is a subclass of the Exception \n",
    "class, which is the base class for all built-in exceptions in Python. Some of the specific errors defined in the ArithmeticError class are:\n",
    "\n",
    "1. ZeroDivisionError: This error occurs when you try to divide a number by zero. For example, consider the following code:"
   ]
  },
  {
   "cell_type": "code",
   "execution_count": 4,
   "id": "e6066f34-d2ca-47a7-858d-d50d68dce26f",
   "metadata": {},
   "outputs": [
    {
     "ename": "ZeroDivisionError",
     "evalue": "division by zero",
     "output_type": "error",
     "traceback": [
      "\u001b[0;31m---------------------------------------------------------------------------\u001b[0m",
      "\u001b[0;31mZeroDivisionError\u001b[0m                         Traceback (most recent call last)",
      "Cell \u001b[0;32mIn[4], line 3\u001b[0m\n\u001b[1;32m      1\u001b[0m a \u001b[38;5;241m=\u001b[39m \u001b[38;5;241m10\u001b[39m\n\u001b[1;32m      2\u001b[0m b \u001b[38;5;241m=\u001b[39m \u001b[38;5;241m0\u001b[39m\n\u001b[0;32m----> 3\u001b[0m c \u001b[38;5;241m=\u001b[39m \u001b[43ma\u001b[49m\u001b[43m \u001b[49m\u001b[38;5;241;43m/\u001b[39;49m\u001b[43m \u001b[49m\u001b[43mb\u001b[49m  \u001b[38;5;66;03m# This will raise a ZeroDivisionError\u001b[39;00m\n",
      "\u001b[0;31mZeroDivisionError\u001b[0m: division by zero"
     ]
    }
   ],
   "source": [
    "a = 10\n",
    "b = 0\n",
    "c = a / b  # This will raise a ZeroDivisionError\n"
   ]
  },
  {
   "cell_type": "code",
   "execution_count": null,
   "id": "7b33b7e3-8063-4112-a4ae-80ff08b4892e",
   "metadata": {},
   "outputs": [],
   "source": [
    "In this case, b is equal to zero, so dividing a by b will raise a ZeroDivisionError."
   ]
  },
  {
   "cell_type": "code",
   "execution_count": null,
   "id": "017995e0-c8ca-4b1b-bdee-4dd2eeb990eb",
   "metadata": {},
   "outputs": [],
   "source": [
    "2. OverflowError: This error occurs when the result of an arithmetic operation is too large to be represented by the data type being used. \n",
    "For example, consider the following code:"
   ]
  },
  {
   "cell_type": "code",
   "execution_count": 5,
   "id": "d2037378-fb56-4584-a5d2-26f5a5173709",
   "metadata": {},
   "outputs": [],
   "source": [
    "a = 2 ** 1000  # This will raise an OverflowError\n"
   ]
  },
  {
   "cell_type": "code",
   "execution_count": null,
   "id": "d3e9ea8f-4851-4f3c-9d21-983e63fc3722",
   "metadata": {},
   "outputs": [],
   "source": [
    "In this case, we are trying to calculate 2 to the power of 1000, which is a very large number. However, the int data type in Python \n",
    "has a maximum value that it can represent, so this calculation will raise an OverflowError.\n",
    "\n",
    "Both of these errors are subclasses of ArithmeticError, which means that they inherit all the behavior and attributes of the ArithmeticError class. \n",
    "This makes it easy to catch and handle all types of arithmetic errors in a single try-except block, like this:"
   ]
  },
  {
   "cell_type": "code",
   "execution_count": 6,
   "id": "579223c9-2453-46aa-bcec-59c3b9d9503d",
   "metadata": {},
   "outputs": [
    {
     "ename": "IndentationError",
     "evalue": "expected an indented block after 'try' statement on line 1 (930949286.py, line 3)",
     "output_type": "error",
     "traceback": [
      "\u001b[0;36m  Cell \u001b[0;32mIn[6], line 3\u001b[0;36m\u001b[0m\n\u001b[0;31m    except ArithmeticError as e:\u001b[0m\n\u001b[0m    ^\u001b[0m\n\u001b[0;31mIndentationError\u001b[0m\u001b[0;31m:\u001b[0m expected an indented block after 'try' statement on line 1\n"
     ]
    }
   ],
   "source": [
    "try:\n",
    "    # some arithmetic operation\n",
    "except ArithmeticError as e:\n",
    "    print(f\"An arithmetic error occurred: {e}\")\n"
   ]
  },
  {
   "cell_type": "code",
   "execution_count": null,
   "id": "8b7cbb06-c0bd-4de7-af15-304032927025",
   "metadata": {},
   "outputs": [],
   "source": [
    "This code will catch any arithmetic error that occurs during the execution of the try block, whether it is a ZeroDivisionError, an OverflowError, \n",
    "or any other type of arithmetic error."
   ]
  },
  {
   "cell_type": "markdown",
   "id": "1528ea19-9651-4480-ad0f-e741cfa9e11e",
   "metadata": {},
   "source": [
    "### Q4"
   ]
  },
  {
   "cell_type": "code",
   "execution_count": null,
   "id": "afb05bdf-24f4-48ac-ad73-657e6524728c",
   "metadata": {},
   "outputs": [],
   "source": [
    "Q4. Why LookupError class is used? Explain with an example KeyError and IndexError."
   ]
  },
  {
   "cell_type": "code",
   "execution_count": null,
   "id": "ed697074-663e-408b-8267-efd133914c17",
   "metadata": {},
   "outputs": [],
   "source": [
    "Ans:- The LookupError class in Python is a base class for all errors that occur when trying to access an invalid index or key. It itself is a \n",
    "subclass of the Exception class, which is the base class for all built-in exceptions in Python. Some of the specific errors defined in the LookupError\n",
    "class are:"
   ]
  },
  {
   "cell_type": "code",
   "execution_count": null,
   "id": "4fbdf782-54fa-46d6-bc47-85849269669c",
   "metadata": {},
   "outputs": [],
   "source": [
    "1. eyError: This error occurs when you try to access a dictionary with a key that does not exist in the dictionary. For example, consider the\n",
    "following code:"
   ]
  },
  {
   "cell_type": "code",
   "execution_count": 7,
   "id": "787be035-a2d4-4dfb-b254-797f44840756",
   "metadata": {},
   "outputs": [
    {
     "ename": "KeyError",
     "evalue": "'d'",
     "output_type": "error",
     "traceback": [
      "\u001b[0;31m---------------------------------------------------------------------------\u001b[0m",
      "\u001b[0;31mKeyError\u001b[0m                                  Traceback (most recent call last)",
      "Cell \u001b[0;32mIn[7], line 2\u001b[0m\n\u001b[1;32m      1\u001b[0m d \u001b[38;5;241m=\u001b[39m {\u001b[38;5;124m\"\u001b[39m\u001b[38;5;124ma\u001b[39m\u001b[38;5;124m\"\u001b[39m: \u001b[38;5;241m1\u001b[39m, \u001b[38;5;124m\"\u001b[39m\u001b[38;5;124mb\u001b[39m\u001b[38;5;124m\"\u001b[39m: \u001b[38;5;241m2\u001b[39m, \u001b[38;5;124m\"\u001b[39m\u001b[38;5;124mc\u001b[39m\u001b[38;5;124m\"\u001b[39m: \u001b[38;5;241m3\u001b[39m}\n\u001b[0;32m----> 2\u001b[0m value \u001b[38;5;241m=\u001b[39m \u001b[43md\u001b[49m\u001b[43m[\u001b[49m\u001b[38;5;124;43m\"\u001b[39;49m\u001b[38;5;124;43md\u001b[39;49m\u001b[38;5;124;43m\"\u001b[39;49m\u001b[43m]\u001b[49m  \u001b[38;5;66;03m# This will raise a KeyError\u001b[39;00m\n",
      "\u001b[0;31mKeyError\u001b[0m: 'd'"
     ]
    }
   ],
   "source": [
    "d = {\"a\": 1, \"b\": 2, \"c\": 3}\n",
    "value = d[\"d\"]  # This will raise a KeyError\n"
   ]
  },
  {
   "cell_type": "code",
   "execution_count": null,
   "id": "f7dce354-462e-469f-bf74-591319f932da",
   "metadata": {},
   "outputs": [],
   "source": [
    "In this case, we are trying to access the value associated with the key \"d\" in the dictionary d. However, there is no such key in the dictionary, \n",
    "so this will raise a KeyError.\n"
   ]
  },
  {
   "cell_type": "code",
   "execution_count": null,
   "id": "eb2ee95e-fe90-4b88-b846-4d053d9da03d",
   "metadata": {},
   "outputs": [],
   "source": [
    "2. IndexError: This error occurs when you try to access an element in a list or tuple with an index that is out of bounds. For example, consider the\n",
    "following code:"
   ]
  },
  {
   "cell_type": "code",
   "execution_count": 8,
   "id": "529152fa-bb22-4e6f-b30d-a199e8b663e4",
   "metadata": {},
   "outputs": [
    {
     "ename": "IndexError",
     "evalue": "list index out of range",
     "output_type": "error",
     "traceback": [
      "\u001b[0;31m---------------------------------------------------------------------------\u001b[0m",
      "\u001b[0;31mIndexError\u001b[0m                                Traceback (most recent call last)",
      "Cell \u001b[0;32mIn[8], line 2\u001b[0m\n\u001b[1;32m      1\u001b[0m lst \u001b[38;5;241m=\u001b[39m [\u001b[38;5;241m1\u001b[39m, \u001b[38;5;241m2\u001b[39m, \u001b[38;5;241m3\u001b[39m]\n\u001b[0;32m----> 2\u001b[0m value \u001b[38;5;241m=\u001b[39m \u001b[43mlst\u001b[49m\u001b[43m[\u001b[49m\u001b[38;5;241;43m3\u001b[39;49m\u001b[43m]\u001b[49m  \u001b[38;5;66;03m# This will raise an IndexError\u001b[39;00m\n",
      "\u001b[0;31mIndexError\u001b[0m: list index out of range"
     ]
    }
   ],
   "source": [
    "lst = [1, 2, 3]\n",
    "value = lst[3]  # This will raise an IndexError\n"
   ]
  },
  {
   "cell_type": "code",
   "execution_count": null,
   "id": "55c04c17-abae-4971-bb3a-ba17020ee07d",
   "metadata": {},
   "outputs": [],
   "source": [
    "In this case, we are trying to access the element at index 3 in the list lst. However, the list only has three elements, so there is no element \n",
    "at index 3, which will raise an IndexError.\n",
    "\n",
    "Both of these errors are subclasses of LookupError, which means that they inherit all the behavior and attributes of the LookupError class. \n",
    "This makes it easy to catch and handle all types of lookup errors in a single try-except block, like this:"
   ]
  },
  {
   "cell_type": "code",
   "execution_count": 9,
   "id": "71cc51df-18c8-479e-9497-481f36245076",
   "metadata": {},
   "outputs": [
    {
     "ename": "IndentationError",
     "evalue": "expected an indented block after 'try' statement on line 1 (3944424984.py, line 3)",
     "output_type": "error",
     "traceback": [
      "\u001b[0;36m  Cell \u001b[0;32mIn[9], line 3\u001b[0;36m\u001b[0m\n\u001b[0;31m    except LookupError as e:\u001b[0m\n\u001b[0m    ^\u001b[0m\n\u001b[0;31mIndentationError\u001b[0m\u001b[0;31m:\u001b[0m expected an indented block after 'try' statement on line 1\n"
     ]
    }
   ],
   "source": [
    "try:\n",
    "    # some lookup operation\n",
    "except LookupError as e:\n",
    "    print(f\"A lookup error occurred: {e}\")\n"
   ]
  },
  {
   "cell_type": "code",
   "execution_count": null,
   "id": "be4d3b0e-89b0-410c-9f29-ae6a30af4fa4",
   "metadata": {},
   "outputs": [],
   "source": [
    "This code will catch any lookup error that occurs during the execution of the try block, whether it is a KeyError, an IndexError, or any other \n",
    "type of lookup error."
   ]
  },
  {
   "cell_type": "markdown",
   "id": "cd78ee52-602b-4380-84f7-64dbffce05ca",
   "metadata": {},
   "source": [
    "### Q5"
   ]
  },
  {
   "cell_type": "code",
   "execution_count": null,
   "id": "38393986-cd7d-4c94-87ea-c605065a4019",
   "metadata": {},
   "outputs": [],
   "source": [
    "Q5. Explain ImportError. What is ModuleNotFoundError?"
   ]
  },
  {
   "cell_type": "code",
   "execution_count": null,
   "id": "273fee06-e62f-41c1-929d-f484d32ada9a",
   "metadata": {},
   "outputs": [],
   "source": [
    "Ans:- In Python, ImportError is a built-in exception that is raised when a module, package, or object cannot be imported due to some reason. Some of the common reasons for an ImportError include:\n",
    "\n",
    "=> The module/package is not installed on the system.\n",
    "=> The module/package is installed but not available in the current environment.\n",
    "+> There is an issue with the module/package itself, such as a syntax error or circular dependency.\n",
    "For example, consider the following code:"
   ]
  },
  {
   "cell_type": "code",
   "execution_count": 10,
   "id": "283d5eab-18e4-40ac-82af-20fdd8720c20",
   "metadata": {},
   "outputs": [],
   "source": [
    "import numpy  # This will raise an ImportError if the numpy package is not installed\n"
   ]
  },
  {
   "cell_type": "code",
   "execution_count": null,
   "id": "220acaf2-6baa-439e-b484-a5990c027f4a",
   "metadata": {},
   "outputs": [],
   "source": [
    "In this case, we are trying to import the numpy package. If the package is not installed on the system, then this code will raise an ImportError.\n",
    "\n",
    "In Python 3.6 and later versions, a new subclass of ImportError called ModuleNotFoundError is introduced. This error is raised when a module could \n",
    "not be found during an import operation. This error is more specific than ImportError and provides more information about the cause of the error.\n",
    "\n",
    "For example, consider the following code:"
   ]
  },
  {
   "cell_type": "code",
   "execution_count": 11,
   "id": "8c418692-37c2-4c4a-97c3-7579dcea7539",
   "metadata": {},
   "outputs": [
    {
     "ename": "ModuleNotFoundError",
     "evalue": "No module named 'non_existent_module'",
     "output_type": "error",
     "traceback": [
      "\u001b[0;31m---------------------------------------------------------------------------\u001b[0m",
      "\u001b[0;31mModuleNotFoundError\u001b[0m                       Traceback (most recent call last)",
      "Cell \u001b[0;32mIn[11], line 1\u001b[0m\n\u001b[0;32m----> 1\u001b[0m \u001b[38;5;28;01mimport\u001b[39;00m \u001b[38;5;21;01mnon_existent_module\u001b[39;00m  \u001b[38;5;66;03m# This will raise a ModuleNotFoundError\u001b[39;00m\n",
      "\u001b[0;31mModuleNotFoundError\u001b[0m: No module named 'non_existent_module'"
     ]
    }
   ],
   "source": [
    "import non_existent_module  # This will raise a ModuleNotFoundError\n"
   ]
  },
  {
   "cell_type": "code",
   "execution_count": null,
   "id": "2796eced-4279-4fe1-a963-c0d2df993e19",
   "metadata": {},
   "outputs": [],
   "source": [
    "In this case, we are trying to import a module named non_existent_module that does not exist. This code will raise a ModuleNotFoundError because the\n",
    "module could not be found during the import operation.\n",
    "\n",
    "It is important to handle ImportError and ModuleNotFoundError appropriately in your code to provide clear error messages to the user and gracefully\n",
    "handle cases where a required module or package is not available."
   ]
  },
  {
   "cell_type": "markdown",
   "id": "3aebd360-a49a-44f5-8e3f-dd924c32d6ff",
   "metadata": {},
   "source": [
    "### Q6"
   ]
  },
  {
   "cell_type": "code",
   "execution_count": null,
   "id": "4c0dd37c-5f28-464f-84f0-8eb170f646fd",
   "metadata": {},
   "outputs": [],
   "source": [
    "Q6. List down some best practices for exception handling in python."
   ]
  },
  {
   "cell_type": "code",
   "execution_count": null,
   "id": "013ec56c-e44b-4d86-b8c6-e8fa9d6569bc",
   "metadata": {},
   "outputs": [],
   "source": [
    "Ans:- Here are some best practices for exception handling in Python:\n",
    "\n",
    "=> Catch only specific exceptions: Avoid catching all exceptions using a bare except clause, as it can hide potential bugs and make debugging difficult.\n",
    "Instead, catch specific exceptions that you expect to occur and handle them appropriately.\n",
    "\n",
    "=> Use multiple except clauses: If you need to catch multiple exceptions, use separate except clauses for each exception type. This makes the code\n",
    "easier to read and maintain.\n",
    "\n",
    "=> Handle exceptions at the appropriate level: Handle exceptions at the level where you can take appropriate action to recover from the error. If you \n",
    "cannot handle the exception at a particular level, propagate it to a higher level where it can be handled.\n",
    "\n",
    "=> Use finally block for cleanup: Use the finally block to ensure that any resources opened in a try block are properly closed, regardless of whether \n",
    "an exception is raised or not.\n",
    "\n",
    "=> Provide meaningful error messages: Provide meaningful error messages when exceptions occur. This helps in identifying the root cause of the error \n",
    "and fixing it.\n",
    "\n",
    "=> Avoid using assert for input validation: Use assert statements only for internal debugging purposes, not for input validation. Instead, use explicit\n",
    "if statements to validate input and raise appropriate exceptions.\n",
    "\n",
    "=> Don't ignore exceptions: Don't ignore exceptions or just print the error message and continue. This can lead to unexpected behavior and make debugging\n",
    "difficult. Instead, handle exceptions appropriately and take appropriate action to recover from the error.\n",
    "\n",
    "=> Don't use exceptions for flow control: Don't use exceptions for normal flow control, such as breaking out of loops or returning values from functions.\n",
    "Instead, use explicit control statements such as break, continue, and return.\n",
    "\n",
    "By following these best practices, you can write robust and maintainable code that handles exceptions gracefully and provides a good user experience."
   ]
  },
  {
   "cell_type": "code",
   "execution_count": null,
   "id": "2e6d44b9-6fbb-4595-9fbd-a317d041727a",
   "metadata": {},
   "outputs": [],
   "source": []
  }
 ],
 "metadata": {
  "kernelspec": {
   "display_name": "Python 3 (ipykernel)",
   "language": "python",
   "name": "python3"
  },
  "language_info": {
   "codemirror_mode": {
    "name": "ipython",
    "version": 3
   },
   "file_extension": ".py",
   "mimetype": "text/x-python",
   "name": "python",
   "nbconvert_exporter": "python",
   "pygments_lexer": "ipython3",
   "version": "3.10.8"
  }
 },
 "nbformat": 4,
 "nbformat_minor": 5
}
