{
 "cells": [
  {
   "cell_type": "markdown",
   "id": "ff8de11d-dde6-4449-8ade-470ca9fcb6f0",
   "metadata": {},
   "source": [
    "## 14 FEB\n",
    "### ASSIGNMENT"
   ]
  },
  {
   "cell_type": "markdown",
   "id": "6272ba04-1adb-4184-b356-7071767c8249",
   "metadata": {},
   "source": [
    "### Q1"
   ]
  },
  {
   "cell_type": "code",
   "execution_count": null,
   "id": "c633fe30-2694-4708-8387-4d78bfbbefeb",
   "metadata": {},
   "outputs": [],
   "source": [
    "Q1. What is multithreading in python? why is it used? Name the module used to handle threads in python"
   ]
  },
  {
   "cell_type": "code",
   "execution_count": null,
   "id": "abb83d8e-0465-4c08-80a2-7ed8d677f744",
   "metadata": {},
   "outputs": [],
   "source": [
    "Ans:- Multithreading in Python refers to the ability of the Python interpreter to execute multiple threads (lightweight sub-processes) concurrently\n",
    "within a single process. It is used to achieve parallelism and improve the performance of a program by utilizing the available CPU resources \n",
    "efficiently.\n",
    "\n",
    "The \"threading\" module is used to handle threads in Python. It provides a high-level interface for creating and managing threads, and it allows\n",
    "threads to safely share resources such as variables and data structures through synchronization mechanisms."
   ]
  },
  {
   "cell_type": "markdown",
   "id": "1a9b2422-c56b-4d87-882f-029167a36de8",
   "metadata": {},
   "source": [
    "### Q2"
   ]
  },
  {
   "cell_type": "code",
   "execution_count": null,
   "id": "c518f39a-2a6e-4f5b-ae40-a5580874beb1",
   "metadata": {},
   "outputs": [],
   "source": [
    "Q2. why threading module used? rite the use of the following functions\n",
    "  1. activeCount ()\n",
    "  2. currentThread ()\n",
    "  3. enumerate ()"
   ]
  },
  {
   "cell_type": "code",
   "execution_count": null,
   "id": "33495aea-fa61-4a95-944c-c1e7adb00921",
   "metadata": {},
   "outputs": [],
   "source": [
    "Ans:- The threading module is used in Python to create and manage threads. It provides a way to run multiple threads concurrently within a single \n",
    "process, allowing for efficient utilization of available resources and improving the performance of programs.\n",
    "\n",
    "The following are the uses of the functions you mentioned in the threading module:"
   ]
  },
  {
   "cell_type": "code",
   "execution_count": null,
   "id": "ab7e1bf5-60f2-4ce8-8004-561ea8bc5ea1",
   "metadata": {},
   "outputs": [],
   "source": [
    "=> activeCount(): This function returns the number of thread objects that are currently active. It can be used to get an idea of how many threads are\n",
    "currently running in a program.\n",
    "\n",
    "=> currentThread(): This function returns a thread object that represents the current thread of execution. It can be used to get information about\n",
    "the current thread, such as its name or identifier.\n",
    "\n",
    "=> enumerate(): This function returns a list of all thread objects that are currently active. It can be used to iterate over all threads in a program\n",
    "and get information about each thread, such as its name, identifier, or state."
   ]
  },
  {
   "cell_type": "markdown",
   "id": "84bc9895-d5b0-4aba-bb35-e74cc8e573f5",
   "metadata": {},
   "source": [
    "### Q3"
   ]
  },
  {
   "cell_type": "code",
   "execution_count": null,
   "id": "ab6db94f-5f69-402d-8cb0-1020ff0676f4",
   "metadata": {},
   "outputs": [],
   "source": [
    "Q3. Explain the following functions\n",
    " 1. run()\n",
    " 2. start()\n",
    " 3. join()\n",
    " 4.isAlive()"
   ]
  },
  {
   "cell_type": "code",
   "execution_count": null,
   "id": "fea98059-d2c8-4865-b921-dcc0168ec9be",
   "metadata": {},
   "outputs": [],
   "source": [
    "Ans:- In Python's threading module, there are four important functions that can be used to create and manage threads:"
   ]
  },
  {
   "cell_type": "code",
   "execution_count": null,
   "id": "2ed29d7a-3747-44b8-bd96-9bdd605385cc",
   "metadata": {},
   "outputs": [],
   "source": [
    "=> run(): This method is called to start the execution of a thread. It should be overridden by the user to define the code that the thread will run. \n",
    "It is not meant to be called directly, but rather is called when the thread is started using the start() method.\n",
    "\n",
    "=> start(): This method starts the execution of a thread by calling its run() method in a separate thread of control. It is used to start a new \n",
    "thread of execution and begin running the code defined in the run() method.\n",
    "\n",
    "=> join(): This method blocks the calling thread until the thread on which it is called has completed its execution. It can be used to wait for a \n",
    "thread to finish before continuing with other code. When the thread being joined finishes execution, the calling thread is unblocked and continues \n",
    "executing.\n",
    "\n",
    "=> isAlive(): This method returns a boolean value indicating whether the thread is currently executing or not. It can be used to check the status of\n",
    "a thread and determine whether it has completed execution or is still running. If the thread is still running, the method will return True, otherwise\n",
    "it will return False."
   ]
  },
  {
   "cell_type": "markdown",
   "id": "c65033e3-8356-4eeb-900c-739f6852156a",
   "metadata": {},
   "source": [
    "### Q4"
   ]
  },
  {
   "cell_type": "code",
   "execution_count": null,
   "id": "8b63f79e-53fb-4c4d-a040-89834deab55a",
   "metadata": {},
   "outputs": [],
   "source": [
    "Q4. write a python program to create two threads. Thread one must print the list of squares and thread\n",
    "two must print the list of cubes"
   ]
  },
  {
   "cell_type": "code",
   "execution_count": null,
   "id": "ac92ca82-da63-4860-8f0e-c998bad677e1",
   "metadata": {},
   "outputs": [],
   "source": [
    "Ans:- An example Python program that creates two threads to print the squares and cubes of numbers from 1 to 10:"
   ]
  },
  {
   "cell_type": "code",
   "execution_count": 1,
   "id": "e79e8ecc-dcd8-4368-a92c-0b2ff2420d07",
   "metadata": {},
   "outputs": [
    {
     "name": "stdout",
     "output_type": "stream",
     "text": [
      "Square of 1 = 1\n",
      "Square of 2 = 4\n",
      "Square of 3 = 9\n",
      "Square of 4 = 16\n",
      "Square of 5 = 25\n",
      "Square of 6 = 36\n",
      "Square of 7 = 49\n",
      "Square of 8 = 64\n",
      "Square of 9 = 81\n",
      "Square of 10 = 100\n",
      "Cube of 1 = 1\n",
      "Cube of 2 = 8\n",
      "Cube of 3 = 27\n",
      "Cube of 4 = 64\n",
      "Cube of 5 = 125\n",
      "Cube of 6 = 216\n",
      "Cube of 7 = 343\n",
      "Cube of 8 = 512\n",
      "Cube of 9 = 729\n",
      "Cube of 10 = 1000\n"
     ]
    }
   ],
   "source": [
    "import threading\n",
    "\n",
    "def print_squares():\n",
    "    for i in range(1, 11):\n",
    "        print(f\"Square of {i} = {i**2}\")\n",
    "\n",
    "def print_cubes():\n",
    "    for i in range(1, 11):\n",
    "        print(f\"Cube of {i} = {i**3}\")\n",
    "\n",
    "if __name__ == '__main__':\n",
    "    t1 = threading.Thread(target=print_squares)\n",
    "    t2 = threading.Thread(target=print_cubes)\n",
    "    t1.start()\n",
    "    t2.start()\n",
    "    t1.join()\n",
    "    t2.join()\n"
   ]
  },
  {
   "cell_type": "code",
   "execution_count": null,
   "id": "1fdc0408-e6bd-41f4-80aa-fd4b6427cb4f",
   "metadata": {},
   "outputs": [],
   "source": [
    "In this program, we define two functions print_squares() and print_cubes() that print the squares and cubes of numbers from 1 to 10, respectively. \n",
    "We then create two threads t1 and t2 that run these functions using the Thread() constructor. We start both threads using the start() method, and \n",
    "then wait for them to finish using the join() method. When we run this program, it will create two separate threads that will run concurrently, \n",
    "printing the squares and cubes of numbers from 1 to 10."
   ]
  },
  {
   "cell_type": "markdown",
   "id": "2485ced7-02a0-467f-9fb2-fe5252011019",
   "metadata": {},
   "source": [
    "### Q5"
   ]
  },
  {
   "cell_type": "code",
   "execution_count": null,
   "id": "90a66219-9564-4397-8935-67ce4b75a65f",
   "metadata": {},
   "outputs": [],
   "source": [
    "Q5. State advantages and disadvantages of multithreading"
   ]
  },
  {
   "cell_type": "code",
   "execution_count": null,
   "id": "bdd1f69b-bc04-4399-9c38-46fd46304c56",
   "metadata": {},
   "outputs": [],
   "source": [
    "Multithreading in programming has its own advantages and disadvantages. Some of the key ones are:\n",
    "\n",
    "Advantages of multithreading:\n",
    "\n",
    "=> Improved Performance: Multithreading can greatly improve the performance of a program by allowing it to execute multiple tasks simultaneously.\n",
    "\n",
    "=> Responsiveness: Multithreading can make a program more responsive to user input by allowing it to continue processing tasks in the background \n",
    "while waiting for user input.\n",
    "\n",
    "=> Resource Sharing: Multithreading allows multiple threads to share resources such as memory, CPU time, and I/O devices.\n",
    "\n",
    "=> Modularity: Multithreading can make a program more modular and easier to develop, by allowing different parts of the program to be executed \n",
    "independently in separate threads."
   ]
  },
  {
   "cell_type": "code",
   "execution_count": null,
   "id": "128312da-382c-4a88-b5f8-f3efa5d04d0f",
   "metadata": {},
   "outputs": [],
   "source": [
    "Disadvantages of multithreading:\n",
    "\n",
    "=> Complexity: Multithreading can make a program more complex and difficult to debug, due to the need for synchronization and coordination between\n",
    "threads.\n",
    "\n",
    "=> Resource Overhead: Multithreading can increase the resource overhead of a program, due to the need for separate thread stacks and synchronization\n",
    "primitives.\n",
    "\n",
    "=> Deadlocks: Multithreading can lead to deadlocks, where multiple threads are waiting for resources that are held by each other.\n",
    "\n",
    "=> Race conditions: Multithreading can also lead to race conditions, where multiple threads are competing for the same resources and the order of \n",
    "execution affects the output.\n",
    "\n",
    "           In summary, multithreading can greatly improve the performance and responsiveness of a program, but it can also introduce complexity and potential \n",
    "           issues that need to be carefully managed.\n"
   ]
  },
  {
   "cell_type": "markdown",
   "id": "35d562e1-32bc-41b4-b072-00819b14d883",
   "metadata": {},
   "source": [
    "### Q6"
   ]
  },
  {
   "cell_type": "code",
   "execution_count": null,
   "id": "83ddf46e-7ea2-42ed-a580-d807595b0038",
   "metadata": {},
   "outputs": [],
   "source": [
    "Q6. Explain deadlocks and race conditions."
   ]
  },
  {
   "cell_type": "code",
   "execution_count": null,
   "id": "82d33b68-be61-4be6-b4fe-1fba9a3decff",
   "metadata": {},
   "outputs": [],
   "source": [
    "Ans:- Deadlocks and race conditions are two common issues that can arise when working with multithreaded programs.\n",
    "\n",
    "=> Deadlock:\n",
    "A deadlock is a situation in which two or more threads are blocked and waiting for each other to release resources that they need in order to\n",
    "proceed. This can happen when multiple threads are trying to acquire locks or resources in a different order, causing a circular wait that cannot be\n",
    "resolved. Deadlocks can lead to a situation where all the threads are blocked and the program becomes unresponsive. To prevent deadlocks,\n",
    "it's important to carefully manage the acquisition and release of resources and to ensure that threads always acquire resources in a consistent order."
   ]
  },
  {
   "cell_type": "code",
   "execution_count": null,
   "id": "14c7ae60-3a99-4be6-b94c-1363053eff44",
   "metadata": {},
   "outputs": [],
   "source": [
    "=> Race Condition:\n",
    "A race condition occurs when two or more threads access shared resources in an unpredictable order, leading to unexpected behavior. \n",
    "This can happen when multiple threads access and modify the same data simultaneously, causing unpredictable results due to the non-deterministic \n",
    "timing of the thread execution. For example, if two threads are incrementing a counter, the order in which the increments occur can affect the final\n",
    "value of the counter. To prevent race conditions, it's important to use synchronization mechanisms such as locks, semaphores, and barriers to \n",
    "control access to shared resources and ensure that threads access them in a consistent and predictable manner."
   ]
  },
  {
   "cell_type": "code",
   "execution_count": null,
   "id": "6d521965-cd0d-474d-bcfd-e17780978747",
   "metadata": {},
   "outputs": [],
   "source": [
    "In summary, deadlocks and race conditions are two common issues that can arise in multithreaded programs. Deadlocks occur when multiple threads are \n",
    "blocked and waiting for each other to release resources, while race conditions occur when threads access shared resources in an unpredictable order. \n",
    "Both issues can lead to unexpected behavior and can be prevented through careful management of shared resources and the use of synchronization \n",
    "mechanisms."
   ]
  },
  {
   "cell_type": "code",
   "execution_count": null,
   "id": "de8eda02-fda3-4c5e-9512-c835735423f3",
   "metadata": {},
   "outputs": [],
   "source": []
  }
 ],
 "metadata": {
  "kernelspec": {
   "display_name": "Python 3 (ipykernel)",
   "language": "python",
   "name": "python3"
  },
  "language_info": {
   "codemirror_mode": {
    "name": "ipython",
    "version": 3
   },
   "file_extension": ".py",
   "mimetype": "text/x-python",
   "name": "python",
   "nbconvert_exporter": "python",
   "pygments_lexer": "ipython3",
   "version": "3.10.8"
  }
 },
 "nbformat": 4,
 "nbformat_minor": 5
}
