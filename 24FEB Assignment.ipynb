{
 "cells": [
  {
   "cell_type": "markdown",
   "id": "1c0ef2e4-057b-40d8-be21-1153a6d2bdef",
   "metadata": {},
   "source": [
    "## 24FEB\n",
    "### ASSIGNMENT"
   ]
  },
  {
   "cell_type": "markdown",
   "id": "033bc147-9b1b-48b7-b483-609863642cf1",
   "metadata": {},
   "source": [
    "### Q1"
   ]
  },
  {
   "cell_type": "code",
   "execution_count": null,
   "id": "16a74049-f8e9-4cad-92e0-6990de8468a4",
   "metadata": {},
   "outputs": [],
   "source": [
    "Q1. List any five functions of the pandas library with execution."
   ]
  },
  {
   "cell_type": "code",
   "execution_count": null,
   "id": "3df74b2b-cfb1-4d32-8135-838cb8183157",
   "metadata": {},
   "outputs": [],
   "source": [
    "Ans:- here are five functions of the Pandas library with execution examples:\n",
    "\n",
    "=> read_csv(): This function is used to read data from a CSV file and create a DataFrame object in memory"
   ]
  },
  {
   "cell_type": "code",
   "execution_count": null,
   "id": "85d98d7f-31ac-487a-955e-06a9104b5802",
   "metadata": {},
   "outputs": [],
   "source": [
    "import pandas as pd\n",
    "df = pd.read_csv('data.csv')"
   ]
  },
  {
   "cell_type": "code",
   "execution_count": null,
   "id": "829d5fdf-5058-428e-a5a2-8be65716af90",
   "metadata": {},
   "outputs": [],
   "source": [
    "=> head(): This function is used to display the first few rows of a DataFrame."
   ]
  },
  {
   "cell_type": "code",
   "execution_count": null,
   "id": "b1e8e430-fea8-4bd2-b9ac-d4eeb177e6b3",
   "metadata": {},
   "outputs": [],
   "source": [
    "import pandas as pd\n",
    "df = pd.read_csv('data.csv')\n",
    "print(df.head())\n"
   ]
  },
  {
   "cell_type": "code",
   "execution_count": null,
   "id": "9c213119-0747-4b5a-8d4b-7023201149b7",
   "metadata": {},
   "outputs": [],
   "source": [
    "=> describe(): This function is used to generate descriptive statistics of a DataFrame."
   ]
  },
  {
   "cell_type": "code",
   "execution_count": null,
   "id": "60c5c255-d529-4428-a45a-e39498c50491",
   "metadata": {},
   "outputs": [],
   "source": [
    "import pandas as pd\n",
    "df = pd.read_csv('data.csv')\n",
    "print(df.describe())\n"
   ]
  },
  {
   "cell_type": "code",
   "execution_count": null,
   "id": "6b1dfee2-33c8-4a35-a3c3-0c7a08e1d67f",
   "metadata": {},
   "outputs": [],
   "source": [
    "=> groupby(): This function is used to group data based on one or more columns and perform some aggregation \n",
    "operations."
   ]
  },
  {
   "cell_type": "code",
   "execution_count": null,
   "id": "ec852033-b3cc-472f-aaab-be2786ed7b9c",
   "metadata": {},
   "outputs": [],
   "source": [
    "import pandas as pd\n",
    "df = pd.read_csv('data.csv')\n",
    "grouped_data = df.groupby(['column_name'])\n",
    "print(grouped_data.mean())\n"
   ]
  },
  {
   "cell_type": "code",
   "execution_count": null,
   "id": "46036b59-4b5d-4295-b57b-b72226c12763",
   "metadata": {},
   "outputs": [],
   "source": [
    "=> drop(): This function is used to remove one or more columns or rows from a DataFrame."
   ]
  },
  {
   "cell_type": "code",
   "execution_count": null,
   "id": "0b2951ce-a05e-46ba-a09a-6f5c94d23fb5",
   "metadata": {},
   "outputs": [],
   "source": [
    "import pandas as pd\n",
    "df = pd.read_csv('data.csv')\n",
    "new_df = df.drop(['column_name1', 'column_name2'], axis=1)\n",
    "print(new_df.head())\n"
   ]
  },
  {
   "cell_type": "markdown",
   "id": "976fd2cd-cfa4-4694-8dc9-03cfa3ad40ef",
   "metadata": {},
   "source": [
    "### Q2"
   ]
  },
  {
   "cell_type": "code",
   "execution_count": null,
   "id": "ba2febf9-330a-4fe2-b517-ac38e26a16ca",
   "metadata": {},
   "outputs": [],
   "source": [
    "Q2. Given a Pandas DataFrame df with columns 'A', 'B', and 'C', write a Python function to re-index the\n",
    "DataFrame with a new index that starts from 1 and increments by 2 for each row."
   ]
  },
  {
   "cell_type": "code",
   "execution_count": null,
   "id": "4e0bd6a5-e5cd-4d71-8835-f230022f5a88",
   "metadata": {},
   "outputs": [],
   "source": [
    "Ans:- Here's a Python function that re-indexes a Pandas DataFrame with a new index that starts from 1 and \n",
    "increments by 2 for each row:"
   ]
  },
  {
   "cell_type": "code",
   "execution_count": 5,
   "id": "8a011246-3817-4dbe-84c3-cabc9ae272fc",
   "metadata": {},
   "outputs": [],
   "source": [
    "import pandas as pd\n",
    "\n",
    "def reindex_dataframe(df):\n",
    "    new_index = pd.RangeIndex(start=1, step=2, stop=len(df)*2)\n",
    "    df.index = new_index\n",
    "    return df\n"
   ]
  },
  {
   "cell_type": "code",
   "execution_count": null,
   "id": "7b5ff5a7-cef6-43eb-bd38-cf93d37b8f68",
   "metadata": {},
   "outputs": [],
   "source": [
    "You can call this function with your DataFrame df as an argument:"
   ]
  },
  {
   "cell_type": "code",
   "execution_count": 6,
   "id": "8a9e3b15-4cf8-4106-bbab-6ede53f976b8",
   "metadata": {},
   "outputs": [
    {
     "name": "stdout",
     "output_type": "stream",
     "text": [
      "   A  B   C\n",
      "1  1  5   9\n",
      "3  2  6  10\n",
      "5  3  7  11\n",
      "7  4  8  12\n"
     ]
    }
   ],
   "source": [
    "df = pd.DataFrame({'A': [1, 2, 3, 4], 'B': [5, 6, 7, 8], 'C': [9, 10, 11, 12]})\n",
    "reindexed_df = reindex_dataframe(df)\n",
    "print(reindexed_df)\n"
   ]
  },
  {
   "cell_type": "code",
   "execution_count": null,
   "id": "5c67c9ce-9260-4dcd-bc45-60a5ded4f315",
   "metadata": {},
   "outputs": [],
   "source": [
    "In the reindexed DataFrame, the rows are indexed from 1 to 7 with a step of 2."
   ]
  },
  {
   "cell_type": "markdown",
   "id": "d2bcf525-2027-4e7c-b376-8452a989ea9b",
   "metadata": {},
   "source": [
    "### Q3"
   ]
  },
  {
   "cell_type": "code",
   "execution_count": null,
   "id": "1a138122-a63f-44c0-b9a5-b003f5e3d871",
   "metadata": {},
   "outputs": [],
   "source": [
    "Q3. You have a Pandas DataFrame df with a column named 'Values'. Write a Python function that\n",
    "iterates over the DataFrame and calculates the sum of the first three values in the 'Values' column. The\n",
    "function should print the sum to the console."
   ]
  },
  {
   "cell_type": "code",
   "execution_count": null,
   "id": "c582b724-5603-49cc-9d57-c8baf2b61d08",
   "metadata": {},
   "outputs": [],
   "source": [
    "Ans:-  Here's a Python function that iterates over a Pandas DataFrame and calculates the sum of the first three \n",
    "values in the 'Values' column:"
   ]
  },
  {
   "cell_type": "code",
   "execution_count": 9,
   "id": "faad431a-9bff-4663-b7db-40ef0c98c5d6",
   "metadata": {},
   "outputs": [],
   "source": [
    "import pandas as pd\n",
    "\n",
    "def calculate_sum(df):\n",
    "    values = df['Values'].head(3)\n",
    "    sum_values = values.sum()\n",
    "    print('Sum of the first three values:', sum_values)\n"
   ]
  },
  {
   "cell_type": "code",
   "execution_count": null,
   "id": "8691f904-8db5-4311-8a02-6a47501ba584",
   "metadata": {},
   "outputs": [],
   "source": [
    "You can call this function with your DataFrame df as an argument:"
   ]
  },
  {
   "cell_type": "code",
   "execution_count": 10,
   "id": "25cf218c-64a5-4960-a74b-9e6816b47149",
   "metadata": {},
   "outputs": [
    {
     "name": "stdout",
     "output_type": "stream",
     "text": [
      "Sum of the first three values: 60\n"
     ]
    }
   ],
   "source": [
    "df = pd.DataFrame({'Values': [10, 20, 30, 40, 50]})\n",
    "calculate_sum(df)\n"
   ]
  },
  {
   "cell_type": "code",
   "execution_count": null,
   "id": "1dd64e28-9f95-4792-96fd-8cc12ec06388",
   "metadata": {},
   "outputs": [],
   "source": [
    "The output will be the sum of the first three values in the 'Values' column:"
   ]
  },
  {
   "cell_type": "code",
   "execution_count": null,
   "id": "d976a51d-35cb-470c-a13a-64088ce9dbad",
   "metadata": {},
   "outputs": [],
   "source": [
    "In this example, the first three values in the 'Values' column are 10, 20, and 30, so their sum is 60. The\n",
    "function calculates the sum and prints it to the console.\n"
   ]
  },
  {
   "cell_type": "markdown",
   "id": "dcf2a995-1ffd-444e-90da-af6be748396a",
   "metadata": {},
   "source": [
    "### Q4"
   ]
  },
  {
   "cell_type": "code",
   "execution_count": null,
   "id": "38b16124-e9c5-4644-8cbf-6549a7ca55b7",
   "metadata": {},
   "outputs": [],
   "source": [
    "Q4. Given a Pandas DataFrame df with a column 'Text', write a Python function to create a new column\n",
    "'Word_Count' that contains the number of words in each row of the 'Text' column."
   ]
  },
  {
   "cell_type": "code",
   "execution_count": null,
   "id": "7c2940a2-3bb6-43b5-95d0-345b84a6f290",
   "metadata": {},
   "outputs": [],
   "source": [
    "Ans:- Here's a Python function that creates a new column 'Word_Count' in a Pandas DataFrame df that contains the \n",
    "number of words in each row of the 'Text' column:"
   ]
  },
  {
   "cell_type": "code",
   "execution_count": 11,
   "id": "b5ef5ed1-1cb7-4cfc-ba29-d20c57f2be3b",
   "metadata": {},
   "outputs": [],
   "source": [
    "import pandas as pd\n",
    "\n",
    "def count_words(df):\n",
    "    df['Word_Count'] = df['Text'].apply(lambda x: len(str(x).split()))\n",
    "    return df\n"
   ]
  },
  {
   "cell_type": "code",
   "execution_count": null,
   "id": "f58c3f1b-e445-40a3-a4f0-01526ade509e",
   "metadata": {},
   "outputs": [],
   "source": [
    "You can call this function with your DataFrame df as an argument:"
   ]
  },
  {
   "cell_type": "code",
   "execution_count": 12,
   "id": "18d6cd07-2ecb-4266-bc05-ef11b9e40178",
   "metadata": {},
   "outputs": [
    {
     "name": "stdout",
     "output_type": "stream",
     "text": [
      "                                        Text  Word_Count\n",
      "0                        This is a sentence.           4\n",
      "1  This is another sentence with more words.           7\n"
     ]
    }
   ],
   "source": [
    "df = pd.DataFrame({'Text': ['This is a sentence.', 'This is another sentence with more words.']})\n",
    "df = count_words(df)\n",
    "print(df)\n"
   ]
  },
  {
   "cell_type": "code",
   "execution_count": null,
   "id": "d188157e-df34-481b-94a8-a84934316df7",
   "metadata": {},
   "outputs": [],
   "source": [
    "In this example, the 'Text' column contains two sentences. The function applies a lambda function to each row of\n",
    "the 'Text' column that splits the text into words and counts the number of words. It then creates a new column\n",
    "'Word_Count' in the DataFrame with the word count for each row."
   ]
  },
  {
   "cell_type": "markdown",
   "id": "6e267502-9bc1-4d26-a29d-c782798be347",
   "metadata": {},
   "source": [
    "### Q5"
   ]
  },
  {
   "cell_type": "code",
   "execution_count": null,
   "id": "25fd24aa-4269-4345-b966-fe7e9cdfbf3b",
   "metadata": {},
   "outputs": [],
   "source": [
    "Q5. How are DataFrame.size() and DataFrame.shape() different?"
   ]
  },
  {
   "cell_type": "code",
   "execution_count": null,
   "id": "3f57ff61-7358-491f-beb2-b12dbddccdde",
   "metadata": {},
   "outputs": [],
   "source": [
    "Ans:- Both DataFrame.size() and DataFrame.shape() are methods in Pandas that provide information about the shape\n",
    "of a DataFrame. However, they provide different information:\n",
    "\n",
    "=> DataFrame.size() returns the total number of elements in the DataFrame, i.e., the number of rows times the \n",
    "number of columns. This method returns a scalar value.\n",
    "\n",
    "=> DataFrame.shape() returns a tuple containing the number of rows and columns in the DataFrame. The first element\n",
    "of the tuple is the number of rows, and the second element is the number of columns.\n",
    "\n",
    "Here's an example to illustrate the difference between the two methods:"
   ]
  },
  {
   "cell_type": "code",
   "execution_count": 13,
   "id": "55499f7b-13af-494d-850f-de6213f1b5a0",
   "metadata": {},
   "outputs": [
    {
     "name": "stdout",
     "output_type": "stream",
     "text": [
      "6\n",
      "(3, 2)\n"
     ]
    }
   ],
   "source": [
    "import pandas as pd\n",
    "\n",
    "df = pd.DataFrame({'A': [1, 2, 3], 'B': [4, 5, 6]})\n",
    "\n",
    "print(df.size)\n",
    "print(df.shape)\n"
   ]
  },
  {
   "cell_type": "code",
   "execution_count": null,
   "id": "fe8de3b3-97c3-4e8d-b76f-ff93ddf0c137",
   "metadata": {},
   "outputs": [],
   "source": [
    "In this example, the DataFrame df has 3 rows and 2 columns. The size() method returns the total number of elements \n",
    "in the DataFrame, which is 6. The shape() method returns a tuple containing the number of rows and columns in the\n",
    "DataFrame, which is (3, 2)."
   ]
  },
  {
   "cell_type": "markdown",
   "id": "259cac79-5ea6-4ec6-8498-f39171bce530",
   "metadata": {},
   "source": [
    "### Q6"
   ]
  },
  {
   "cell_type": "code",
   "execution_count": null,
   "id": "e31fdc25-3cca-4eab-90a4-e52e7fbaedda",
   "metadata": {},
   "outputs": [],
   "source": [
    "Q6. Which function of pandas do we use to read an excel file?"
   ]
  },
  {
   "cell_type": "code",
   "execution_count": null,
   "id": "10649a65-06ba-49d1-96e9-c610c28d011a",
   "metadata": {},
   "outputs": [],
   "source": [
    "Ans:- To read an Excel file in Pandas, we can use the pandas.read_excel() function. This function reads an Excel\n",
    "file into a Pandas DataFrame. Here's an example:"
   ]
  },
  {
   "cell_type": "code",
   "execution_count": null,
   "id": "4c88885b-6d0e-4861-8fd1-e166c744204c",
   "metadata": {},
   "outputs": [],
   "source": [
    "import pandas as pd\n",
    "\n",
    "df = pd.read_excel('file.xlsx')\n"
   ]
  },
  {
   "cell_type": "code",
   "execution_count": null,
   "id": "21db43d2-88c8-4932-a632-6c883fbe6fa8",
   "metadata": {},
   "outputs": [],
   "source": [
    "In this example, the pd.read_excel() function reads the Excel file named 'file.xlsx' into a DataFrame df. The \n",
    "function infers the sheet name and column names automatically. If you want to read a specific sheet or select \n",
    "specific columns, you can use the optional arguments sheet_name and usecols, respectively. For example:"
   ]
  },
  {
   "cell_type": "code",
   "execution_count": null,
   "id": "90ec9204-1b1a-4044-af96-3c2bb45623c8",
   "metadata": {},
   "outputs": [],
   "source": [
    "import pandas as pd\n",
    "\n",
    "df = pd.read_excel('file.xlsx', sheet_name='Sheet1', usecols=['A', 'B'])\n"
   ]
  },
  {
   "cell_type": "code",
   "execution_count": null,
   "id": "fc008f1e-bf69-4d7b-aced-74c75826a4c2",
   "metadata": {},
   "outputs": [],
   "source": [
    "In this example, the pd.read_excel() function reads only columns 'A' and 'B' from the sheet 'Sheet1' in the Excel \n",
    "file 'file.xlsx' into a DataFrame df."
   ]
  },
  {
   "cell_type": "markdown",
   "id": "39e58608-b6b3-4cb6-8359-ada657462217",
   "metadata": {},
   "source": [
    "### Q7"
   ]
  },
  {
   "cell_type": "code",
   "execution_count": null,
   "id": "392d5ec1-2cae-48df-9379-6c11ed7e6e8f",
   "metadata": {},
   "outputs": [],
   "source": [
    "Q7. You have a Pandas DataFrame df that contains a column named 'Email' that contains email\n",
    "addresses in the format 'username@domain.com'. Write a Python function that creates a new column\n",
    "'Username' in df that contains only the username part of each email address.\n",
    "The username is the part of the email address that appears before the '@' symbol. For example, if the\n",
    "email address is 'john.doe@example.com', the 'Username' column should contain 'john.doe'. Your\n",
    "function should extract the username from each email address and store it in the new 'Username'\n",
    "column."
   ]
  },
  {
   "cell_type": "code",
   "execution_count": null,
   "id": "67769e42-9f8a-404f-978f-75ee7577d92b",
   "metadata": {},
   "outputs": [],
   "source": [
    "Ans:- Here's a Python function that extracts the username from the 'Email' column of a Pandas DataFrame df and \n",
    "creates a new 'Username' column:"
   ]
  },
  {
   "cell_type": "code",
   "execution_count": 18,
   "id": "094488ab-04f4-47a0-9947-ffddbb0dede4",
   "metadata": {},
   "outputs": [],
   "source": [
    "import pandas as pd\n",
    "\n",
    "def extract_username(df):\n",
    "    df['Username'] = df['Email'].apply(lambda x: x.split('@')[0])\n",
    "    return df\n"
   ]
  },
  {
   "cell_type": "code",
   "execution_count": null,
   "id": "08c8698e-4602-41aa-8e7f-cb7048768595",
   "metadata": {},
   "outputs": [],
   "source": [
    "You can call this function with your DataFrame df as an argument:"
   ]
  },
  {
   "cell_type": "code",
   "execution_count": 19,
   "id": "a2a2a39d-3ed6-45f4-ad63-604e7e824746",
   "metadata": {},
   "outputs": [
    {
     "name": "stdout",
     "output_type": "stream",
     "text": [
      "                    Email    Username\n",
      "0    john.doe@example.com    john.doe\n",
      "1  jane.smith@example.com  jane.smith\n"
     ]
    }
   ],
   "source": [
    "df = pd.DataFrame({'Email': ['john.doe@example.com', 'jane.smith@example.com']})\n",
    "df = extract_username(df)\n",
    "print(df)\n"
   ]
  },
  {
   "cell_type": "code",
   "execution_count": null,
   "id": "35f29ccd-a583-4193-b0aa-572bae27a661",
   "metadata": {},
   "outputs": [],
   "source": [
    "In this example, the 'Email' column contains two email addresses. The function applies a lambda function to each \n",
    "row of the 'Email' column that splits the email address into two parts at the '@' symbol and selects the first \n",
    "part, which is the username. It then creates a new column 'Username' in the DataFrame with the username for each\n",
    "email address."
   ]
  },
  {
   "cell_type": "markdown",
   "id": "413e44b0-c2b9-4ce3-bf94-3bc46d4f7636",
   "metadata": {},
   "source": [
    "### Q8"
   ]
  },
  {
   "cell_type": "code",
   "execution_count": null,
   "id": "ce1b72f5-ec1f-48da-9c81-34ee93ce684b",
   "metadata": {},
   "outputs": [],
   "source": [
    "Q8. You have a Pandas DataFrame df with columns 'A', 'B', and 'C'. Write a Python function that selects\n",
    "all rows where the value in column 'A' is greater than 5 and the value in column 'B' is less than 10. The\n",
    "function should return a new DataFrame that contains only the selected rows.\n",
    "For example, if df contains the following values:\n",
    "A B C\n",
    "0 3 5 1\n",
    "1 8 2 7\n",
    "2 6 9 4\n",
    "3 2 3 5\n",
    "4 9 1 2"
   ]
  },
  {
   "cell_type": "code",
   "execution_count": null,
   "id": "593be6fd-2d0d-48c3-9dde-7340c6b83699",
   "metadata": {},
   "outputs": [],
   "source": [
    "Ans:- Here's a Python function that selects all rows where the value in column 'A' is greater than 5 and the value\n",
    "in column 'B' is less than 10:"
   ]
  },
  {
   "cell_type": "code",
   "execution_count": 20,
   "id": "b73ad773-60e8-45ae-b6c5-a1b04b81c430",
   "metadata": {},
   "outputs": [],
   "source": [
    "import pandas as pd\n",
    "\n",
    "def select_rows(df):\n",
    "    selected_rows = df[(df['A'] > 5) & (df['B'] < 10)]\n",
    "    return selected_rows\n"
   ]
  },
  {
   "cell_type": "code",
   "execution_count": null,
   "id": "fad9f301-4028-4d86-96b2-a6029b11a44a",
   "metadata": {},
   "outputs": [],
   "source": [
    "You can call this function with your DataFrame df as an argument:"
   ]
  },
  {
   "cell_type": "code",
   "execution_count": 21,
   "id": "11b4b82d-d809-44c7-a6db-44ad634a5ac1",
   "metadata": {},
   "outputs": [
    {
     "name": "stdout",
     "output_type": "stream",
     "text": [
      "   A  B  C\n",
      "1  8  2  7\n",
      "2  6  9  4\n",
      "4  9  1  2\n"
     ]
    }
   ],
   "source": [
    "df = pd.DataFrame({'A': [3, 8, 6, 2, 9], 'B': [5, 2, 9, 3, 1], 'C': [1, 7, 4, 5, 2]})\n",
    "selected_rows = select_rows(df)\n",
    "print(selected_rows)\n"
   ]
  },
  {
   "cell_type": "code",
   "execution_count": null,
   "id": "82d0bea6-ae32-4a5d-8ee8-534ab94f95b0",
   "metadata": {},
   "outputs": [],
   "source": [
    "In this example, the function applies a Boolean mask to the DataFrame df that selects all rows where the value in \n",
    "column 'A' is greater than 5 and the value in column 'B' is less than 10. It then returns a new DataFrame \n",
    "selected_rows that contains only the selected rows."
   ]
  },
  {
   "cell_type": "code",
   "execution_count": null,
   "id": "f97076c7-fc9e-4268-90a4-342923bc759f",
   "metadata": {},
   "outputs": [],
   "source": []
  }
 ],
 "metadata": {
  "kernelspec": {
   "display_name": "Python 3 (ipykernel)",
   "language": "python",
   "name": "python3"
  },
  "language_info": {
   "codemirror_mode": {
    "name": "ipython",
    "version": 3
   },
   "file_extension": ".py",
   "mimetype": "text/x-python",
   "name": "python",
   "nbconvert_exporter": "python",
   "pygments_lexer": "ipython3",
   "version": "3.10.8"
  }
 },
 "nbformat": 4,
 "nbformat_minor": 5
}
